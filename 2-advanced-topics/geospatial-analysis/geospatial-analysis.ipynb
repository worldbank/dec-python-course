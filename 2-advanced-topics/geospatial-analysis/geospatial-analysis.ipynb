{
 "cells": [
  {
   "cell_type": "markdown",
   "metadata": {
    "colab_type": "text",
    "id": "view-in-github"
   },
   "source": [
    "<a href=\"https://colab.research.google.com/github/worldbank/dec-python-course/blob/main/2-advanced-topics/geospatial-analysis/geospatial-analysis.ipynb\" target=\"_parent\"><img src=\"https://colab.research.google.com/assets/colab-badge.svg\" alt=\"Open In Colab\"/></a>"
   ]
  },
  {
   "cell_type": "markdown",
   "metadata": {
    "id": "2OHsycB0NxD2"
   },
   "source": [
    "# Introduction to Geospatial Analysis in Python"
   ]
  },
  {
   "cell_type": "markdown",
   "metadata": {
    "id": "R_OKyhxlNxD4"
   },
   "source": [
    "## Loading and exploring spatial data"
   ]
  },
  {
   "cell_type": "markdown",
   "metadata": {
    "id": "vctAFlXvNxD4"
   },
   "source": [
    "### Setup\n",
    "\n",
    "The main geospatial packages that we'll load are __Shapely__ and __GeoPandas__.\n",
    "\n",
    "* \"__[Shapely](https://pypi.org/project/shapely/)__ is a BSD-licensed Python package for manipulation and analysis of planar geometric objects\"\n",
    "* \"__[GeoPandas](https://geopandas.org/en/stable/)__ extends the datatypes used by pandas to allow spatial operations on geometric types. Geometric operations are performed by shapely.\"\n",
    "\n",
    "In short, __GeoPandas__ allows processing tabular data (like Pandas), where each row is associated with a geometry---and where the geometry is defined using __Shapely__.\n",
    "\n",
    "Shapely defines multiple geometry types:\n",
    "\n",
    "![](https://github.com/worldbank/dec-python-course/blob/main/1-foundations/5-geospatial-analysis/img/shapely_geom_types.png?raw=1)\n",
    "\n",
    "__Source:__ [Shapely](https://isbe.bwk.tue.nl/education/Python/04_02_Shapely.html#fundamental-geometric-objects)"
   ]
  },
  {
   "cell_type": "code",
   "execution_count": null,
   "metadata": {
    "id": "SLXZbCp9NxD4"
   },
   "outputs": [],
   "source": [
    "# If you run this notebook in your computer, you might need to install these packages:\n",
    "# !pip install geopandas   # <-- pandas like dataframes with shapely geometries\n",
    "# !pip install folium      # <-- interactive/leaflet maps\n",
    "# !pip install shapely     # <-- manipulate/analysis of geometric objects\n",
    "# !pip install numpy       # <-- scientific computing\n",
    "\n",
    "# In Colab, need to install these\n",
    "!pip install gadm        # <-- download data from GADM\n",
    "!pip install osmnx       # <-- download/clean data from OpenStreetMaps (OSM)\n",
    "!pip install mapclassify # <-- facilitates making choropleth maps"
   ]
  },
  {
   "cell_type": "code",
   "execution_count": null,
   "metadata": {
    "id": "8qf5f2QDNxD5"
   },
   "outputs": [],
   "source": [
    "import pandas as pd \n",
    "import os\n",
    "import geopandas as gpd \n",
    "from shapely.geometry import Point \n",
    "import numpy as np\n",
    "from gadm import GADMDownloader\n",
    "import osmnx as ox\n",
    "from geopy.distance import geodesic"
   ]
  },
  {
   "cell_type": "code",
   "execution_count": null,
   "metadata": {},
   "outputs": [],
   "source": [
    "# If it doesn't already exist, create a directory to put data\n",
    "if not os.path.exists(\"data\"):\n",
    "    os.mkdir(\"data\")"
   ]
  },
  {
   "cell_type": "markdown",
   "metadata": {
    "id": "Fo7hQUHjNxD5"
   },
   "source": [
    "### Load and explore polygon"
   ]
  },
  {
   "cell_type": "code",
   "execution_count": null,
   "metadata": {
    "id": "IbdhJAh7NxD5"
   },
   "outputs": [],
   "source": [
    "# Download administrative region polygons from GADM\n",
    "\n",
    "# Skip if data already exist\n",
    "if not os.path.exists(os.path.join(\"data\", \"gadm_nga_2.geojson\")):\n",
    "    \n",
    "    # Load downloader object, using GADM version 4.0\n",
    "    downloader = GADMDownloader(version=\"4.0\")\n",
    "\n",
    "    # Download data and save to data directory\n",
    "    nga_0 = downloader.get_shape_data_by_country_name(country_name=\"Nigeria\", ad_level=0)\n",
    "    nga_0.to_file(os.path.join(\"data\", \"gadm_nga_0.geojson\"), driver=\"GeoJSON\")\n",
    "\n",
    "    nga_1 = downloader.get_shape_data_by_country_name(country_name=\"Nigeria\", ad_level=1)\n",
    "    nga_1.to_file(os.path.join(\"data\", \"gadm_nga_1.geojson\"), driver=\"GeoJSON\")\n",
    "\n",
    "    nga_2 = downloader.get_shape_data_by_country_name(country_name=\"Nigeria\", ad_level=2)\n",
    "    nga_2.to_file(os.path.join(\"data\", \"gadm_nga_2.geojson\"), driver=\"GeoJSON\")"
   ]
  },
  {
   "cell_type": "code",
   "execution_count": null,
   "metadata": {
    "id": "h4kntmKgNxD5"
   },
   "outputs": [],
   "source": [
    "nga2_gdf = gpd.read_file(os.path.join(\"data\", \"gadm_nga_2.geojson\"))"
   ]
  },
  {
   "cell_type": "code",
   "execution_count": null,
   "metadata": {
    "id": "UtEMZhLlNxD5"
   },
   "outputs": [],
   "source": [
    "nga2_gdf.head()"
   ]
  },
  {
   "cell_type": "code",
   "execution_count": null,
   "metadata": {
    "id": "ai0FgjX6NxD6"
   },
   "outputs": [],
   "source": [
    "nga2_gdf.shape"
   ]
  },
  {
   "cell_type": "code",
   "execution_count": null,
   "metadata": {
    "id": "3Y4jAIpVNxD6"
   },
   "outputs": [],
   "source": [
    "nga2_gdf.plot()"
   ]
  },
  {
   "cell_type": "code",
   "execution_count": null,
   "metadata": {
    "id": "RySkN_hVNxD6"
   },
   "outputs": [],
   "source": [
    "nga2_gdf.crs"
   ]
  },
  {
   "cell_type": "code",
   "execution_count": null,
   "metadata": {
    "id": "4CwOhG6nNxD6"
   },
   "outputs": [],
   "source": [
    "nga2_gdf.explore()"
   ]
  },
  {
   "cell_type": "markdown",
   "metadata": {
    "id": "yTEEyEuaNxD6"
   },
   "source": [
    "#### Area of each polygon"
   ]
  },
  {
   "cell_type": "code",
   "execution_count": null,
   "metadata": {
    "id": "gn8SlBIfNxD6"
   },
   "outputs": [],
   "source": [
    "# Are is not a variable :(\n",
    "\"area\" in nga2_gdf.columns.tolist()"
   ]
  },
  {
   "cell_type": "code",
   "execution_count": null,
   "metadata": {
    "id": "7ypx_0ynNxD6"
   },
   "outputs": [],
   "source": [
    "# But we can still figure out the area :)\n",
    "nga2_gdf.area"
   ]
  },
  {
   "cell_type": "code",
   "execution_count": null,
   "metadata": {
    "id": "CuFUrj4QNxD6"
   },
   "outputs": [],
   "source": [
    "# Lets add the area as a variable\n",
    "nga2_gdf['area'] = nga2_gdf.area"
   ]
  },
  {
   "cell_type": "markdown",
   "metadata": {
    "id": "PlW9D2dXNxD6"
   },
   "source": [
    "#### Operations common to pandas dataframes also work on geodataframes"
   ]
  },
  {
   "cell_type": "code",
   "execution_count": null,
   "metadata": {
    "id": "0OcjK8mZNxD6"
   },
   "outputs": [],
   "source": [
    "lagos_gdf = nga2_gdf[nga2_gdf['NAME_1'] == 'Lagos']"
   ]
  },
  {
   "cell_type": "code",
   "execution_count": null,
   "metadata": {
    "id": "S4YHy3vkNxD6"
   },
   "outputs": [],
   "source": [
    "lagos_gdf.plot()"
   ]
  },
  {
   "cell_type": "markdown",
   "metadata": {
    "id": "a9HZornUNxD6"
   },
   "source": [
    "### Exercise 1: Load and Explore Polyline"
   ]
  },
  {
   "cell_type": "code",
   "execution_count": null,
   "metadata": {
    "id": "AFmjgdjYNxD6"
   },
   "outputs": [],
   "source": [
    "## Extracting road network data for Lagos from OpenStreetMaps data\n",
    "\n",
    "# Skip if data already exists\n",
    "if not os.path.exists(os.path.join(\"data\", \"osm_lagos_roads.geojson\")):\n",
    "\n",
    "    #### One geometry for Lagos\n",
    "    nga1_gdf = gpd.read_file(os.path.join(\"data\", \"gadm_nga_1.geojson\"))\n",
    "    lagos_1_gdf = nga1_gdf[nga1_gdf['NAME_1'] == 'Lagos']\n",
    "\n",
    "    #### Grab larger roads from OSM; ignoring unclassified and residential\n",
    "    roads_gdf = ox.features.features_from_polygon(lagos_1_gdf.geometry.iloc[0],\n",
    "                                                        tags = {'highway':['motorway',\n",
    "                                                                           'trunk',\n",
    "                                                                           'primary',\n",
    "                                                                           'secondary',\n",
    "                                                                           'tertiary']})\n",
    "\n",
    "    #### Cleanup\n",
    "    roads_gdf = roads_gdf.reset_index()\n",
    "\n",
    "    #### Export\n",
    "    roads_gdf.to_file(os.path.join(\"data\", \"osm_lagos_roads.geojson\"), driver=\"GeoJSON\")"
   ]
  },
  {
   "cell_type": "markdown",
   "metadata": {
    "id": "9LlDULz6NxD7"
   },
   "source": [
    "#### 1a: Load data\n",
    "\n",
    "Load the roads data `data/osm_lagos_roads.geojson`, and name the object `roads_gdf`"
   ]
  },
  {
   "cell_type": "code",
   "execution_count": null,
   "metadata": {
    "id": "9FKxBjRnNxD7"
   },
   "outputs": [],
   "source": []
  },
  {
   "cell_type": "markdown",
   "metadata": {
    "id": "Y3r1SgGlNxD7"
   },
   "source": [
    "#### 1b. Look at the first few observations of the data"
   ]
  },
  {
   "cell_type": "code",
   "execution_count": null,
   "metadata": {
    "id": "FZIZ4l-WNxD7"
   },
   "outputs": [],
   "source": []
  },
  {
   "cell_type": "markdown",
   "metadata": {
    "id": "UZWCeZAlNxD7"
   },
   "source": [
    "#### 1c: What is the coordinate reference system of the data?"
   ]
  },
  {
   "cell_type": "code",
   "execution_count": null,
   "metadata": {
    "id": "-A7kaxKDNxD7"
   },
   "outputs": [],
   "source": []
  },
  {
   "cell_type": "markdown",
   "metadata": {
    "id": "fG2tsj93NxD7"
   },
   "source": [
    "#### 1d: Make a static map of the road network"
   ]
  },
  {
   "cell_type": "code",
   "execution_count": null,
   "metadata": {
    "id": "_slJm54ONxD7"
   },
   "outputs": [],
   "source": []
  },
  {
   "cell_type": "markdown",
   "metadata": {
    "id": "fPCymC7HNxD7"
   },
   "source": [
    "#### 1e: Make an interactive map of the road network that just includes motorways and trunk roads"
   ]
  },
  {
   "cell_type": "code",
   "execution_count": null,
   "metadata": {
    "id": "HpgndprNNxD7"
   },
   "outputs": [],
   "source": []
  },
  {
   "cell_type": "markdown",
   "metadata": {
    "id": "jSyElpzjNxD7"
   },
   "source": [
    "#### 1f: Add a variable indicating the length of each road"
   ]
  },
  {
   "cell_type": "code",
   "execution_count": null,
   "metadata": {
    "id": "4YFtvwCWNxD7"
   },
   "outputs": [],
   "source": []
  },
  {
   "cell_type": "markdown",
   "metadata": {
    "id": "Z0zX8st5NxD7"
   },
   "source": [
    "### Load and Explore Point Data"
   ]
  },
  {
   "cell_type": "code",
   "execution_count": null,
   "metadata": {
    "id": "09h2VYA_NxD7"
   },
   "outputs": [],
   "source": [
    "## Extracting school data for Lagos from OpenStreetMaps data\n",
    "\n",
    "##: NOTE: Warnings may appear, but that's OK!\n",
    "\n",
    "# Skip if data already exists\n",
    "if not os.path.exists(os.path.join(\"data\", \"osm_lagos_schools.csv\")):\n",
    "\n",
    "    #### One geometry for Lagos\n",
    "    nga1_gdf = gpd.read_file(os.path.join(\"data\", \"gadm_nga_1.geojson\"))\n",
    "    lagos_1_gdf = nga1_gdf[nga1_gdf['NAME_1'] == 'Lagos']\n",
    "\n",
    "    #### Grab larger roads from OSM; ignoring unclassified and residential\n",
    "    schools_gdf = ox.features.features_from_polygon(lagos_1_gdf.geometry.iloc[0],\n",
    "                                                        tags = {'amenity':['school']})\n",
    "\n",
    "    #### Cleanup\n",
    "    schools_gdf = schools_gdf.reset_index()\n",
    "\n",
    "    #### Original is polygon; convert to points using polygon centroid\n",
    "    schools_gdf['geometry'] = schools_gdf['geometry'].centroid\n",
    "\n",
    "    #### Add latitude and longitude variables based on centroid\n",
    "    # (Remove existing Lat/Lon variables, some of which are NA)\n",
    "    schools_gdf = schools_gdf.drop(['Latitude', 'Longitude'], axis = 1)\n",
    "\n",
    "    schools_gdf['latitude'] = schools_gdf['geometry'].y\n",
    "    schools_gdf['longitude'] = schools_gdf['geometry'].x\n",
    "\n",
    "    #### Drop geometry; convert from geodataframe to dataframe\n",
    "    schools_df = schools_gdf.drop('geometry', axis=1)\n",
    "\n",
    "    #### Export\n",
    "    schools_df.to_csv(os.path.join(\"data\", \"osm_lagos_schools.csv\"), index = False)"
   ]
  },
  {
   "cell_type": "markdown",
   "metadata": {
    "id": "8b8YoV4nNxD7"
   },
   "source": [
    "#### Load school data"
   ]
  },
  {
   "cell_type": "code",
   "execution_count": null,
   "metadata": {
    "id": "HQn7baXTNxD7"
   },
   "outputs": [],
   "source": [
    "schools_df = pd.read_csv(os.path.join(\"data\", \"osm_lagos_schools.csv\"))"
   ]
  },
  {
   "cell_type": "code",
   "execution_count": null,
   "metadata": {
    "id": "ZV50NgagNxD7"
   },
   "outputs": [],
   "source": [
    "schools_df.head()"
   ]
  },
  {
   "cell_type": "markdown",
   "metadata": {
    "id": "mCD82I1KNxD7"
   },
   "source": [
    "#### Convert from dataframe to geodataframe"
   ]
  },
  {
   "cell_type": "code",
   "execution_count": null,
   "metadata": {
    "id": "NnsI4PSdNxD7"
   },
   "outputs": [],
   "source": [
    "# Combine 'latitude' and 'longitude' columns to create a GeoSeries of Point geometries\n",
    "geometry = [Point(lon, lat) for lon, lat in zip(schools_df['longitude'], schools_df['latitude'])]\n",
    "geo_series = gpd.GeoSeries(geometry)\n",
    "\n",
    "# Convert the Pandas DataFrame to a GeoPandas GeoDataFrame\n",
    "schools_gdf = gpd.GeoDataFrame(schools_df, geometry=geo_series, crs = 4326)"
   ]
  },
  {
   "cell_type": "markdown",
   "metadata": {
    "id": "8vlyXxW9NxD7"
   },
   "source": [
    "#### Explore data"
   ]
  },
  {
   "cell_type": "code",
   "execution_count": null,
   "metadata": {
    "id": "BMTUb2pNNxD7"
   },
   "outputs": [],
   "source": [
    "schools_gdf.head()"
   ]
  },
  {
   "cell_type": "code",
   "execution_count": null,
   "metadata": {
    "id": "-gCfTj0iNxD8"
   },
   "outputs": [],
   "source": [
    "schools_gdf.crs"
   ]
  },
  {
   "cell_type": "code",
   "execution_count": null,
   "metadata": {
    "id": "RL9Jzr_yNxD8"
   },
   "outputs": [],
   "source": [
    "schools_gdf.explore()"
   ]
  },
  {
   "cell_type": "markdown",
   "metadata": {
    "id": "fpYTo3aINxD8"
   },
   "source": [
    "#### Exercise 2: Assign the wrong CRS and see what happens\n",
    "\n",
    "Above we used the following code to convert the dataframe to a GeoDataFrame, by indicating (1) the data, (2) the geometry, and (3) the CRS:\n",
    "\n",
    "`schools_gdf = gpd.GeoDataFrame(schools_df, geometry=geo_series, crs = 4326)`\n",
    "\n",
    "Now, we'll explore what happens if we assign the wrong CRS."
   ]
  },
  {
   "cell_type": "markdown",
   "metadata": {
    "id": "eS-lMFWBNxD8"
   },
   "source": [
    "#### 2a. Create an object with the wrong CRS\n",
    "\n",
    "Adapt the code just above to create a new object called `schools_bad_gdf`; use the CRS `3857`"
   ]
  },
  {
   "cell_type": "code",
   "execution_count": null,
   "metadata": {
    "id": "HFH2BfFYNxD8"
   },
   "outputs": [],
   "source": []
  },
  {
   "cell_type": "markdown",
   "metadata": {
    "id": "y210KKyYNxD8"
   },
   "source": [
    "#### 2b. Make a static map of `schools_bad_gdf`. From this, can we tell that there may be an issue with the CRS?"
   ]
  },
  {
   "cell_type": "code",
   "execution_count": null,
   "metadata": {
    "id": "Xf6yDjZBNxD8"
   },
   "outputs": [],
   "source": []
  },
  {
   "cell_type": "markdown",
   "metadata": {
    "id": "TOuzVTZBNxD8"
   },
   "source": [
    "#### 2b. Make an interactive map of `schools_bad_gdf`. From this, can we tell that there may be an issue with the CRS?"
   ]
  },
  {
   "cell_type": "code",
   "execution_count": null,
   "metadata": {
    "id": "w64s9H2-NxD8"
   },
   "outputs": [],
   "source": []
  },
  {
   "cell_type": "markdown",
   "metadata": {
    "id": "AS14rVjbNxD8"
   },
   "source": [
    "### Maps"
   ]
  },
  {
   "cell_type": "code",
   "execution_count": null,
   "metadata": {
    "id": "B3aKckHINxD8"
   },
   "outputs": [],
   "source": [
    "# This is boring.\n",
    "lagos_gdf.plot()"
   ]
  },
  {
   "cell_type": "code",
   "execution_count": null,
   "metadata": {
    "id": "Xt1xSR0sNxD8"
   },
   "outputs": [],
   "source": [
    "# Pretty :)\n",
    "lagos_gdf.plot(column='area',\n",
    "               cmap='Spectral',\n",
    "               legend=True,\n",
    "               figsize = (20,5))"
   ]
  },
  {
   "cell_type": "code",
   "execution_count": null,
   "metadata": {
    "id": "NFPPdgoBNxD8"
   },
   "outputs": [],
   "source": [
    "lagos_gdf.explore(\n",
    "     column=\"area\", # make choropleth based on \"pings\" column\n",
    "     tooltip=\"area\", # show pings value when hover over\n",
    "     cmap=\"Spectral\", # use \"Spectral\" matplotlib colormap\n",
    "     style_kwds=dict(color=\"black\") # use black outline\n",
    "    )"
   ]
  },
  {
   "cell_type": "markdown",
   "metadata": {
    "id": "275-HJszNxD8"
   },
   "source": [
    "#### Exercise 3: Make a different version of the interactive map\n",
    "\n",
    "1. Use a different color palette (for options, see [here](https://matplotlib.org/stable/users/explain/colors/colormaps.html)).\n",
    "2. When hovering over ADM2 regions, show the name of the region (not the area)"
   ]
  },
  {
   "cell_type": "code",
   "execution_count": null,
   "metadata": {
    "id": "e8zhX23QNxD8"
   },
   "outputs": [],
   "source": []
  },
  {
   "cell_type": "markdown",
   "metadata": {
    "id": "x1Pltx97NxD8"
   },
   "source": [
    "### Spatial Operations: Applied on Single Dataset"
   ]
  },
  {
   "cell_type": "markdown",
   "metadata": {
    "id": "tB0_vxVrNxD8"
   },
   "source": [
    "#### Transform CRS\n",
    "\n",
    "We want to compute the length of roads in Lagos using the roads dataset. The roads dataset is currently in a geographic CRS (WGS84), where the units are in decimal degrees. We'll tranform the CRS to a __projected__ CRS that is suitable for Nigeria ([EPSG:32632](https://epsg.io/32632)), and where the units will be in meters."
   ]
  },
  {
   "cell_type": "code",
   "execution_count": null,
   "metadata": {
    "id": "lO96fGRINxD8"
   },
   "outputs": [],
   "source": [
    "# Load data\n",
    "roads_gdf = gpd.read_file(os.path.join(\"data\", \"osm_lagos_roads.geojson\"))"
   ]
  },
  {
   "cell_type": "code",
   "execution_count": null,
   "metadata": {
    "id": "c2LCpBp5NxD8"
   },
   "outputs": [],
   "source": [
    "# Length is in decimal degrees. Unhelpful!\n",
    "roads_gdf.length.head()"
   ]
  },
  {
   "cell_type": "code",
   "execution_count": null,
   "metadata": {
    "id": "dFSj1QyANxD8"
   },
   "outputs": [],
   "source": [
    "# Use to_crs to change the CRS\n",
    "roads_newcrs_gdf = roads_gdf.to_crs(32632)"
   ]
  },
  {
   "cell_type": "code",
   "execution_count": null,
   "metadata": {
    "id": "_2wuCKwqNxD8"
   },
   "outputs": [],
   "source": [
    "# Now the length is in meters!\n",
    "roads_newcrs_gdf.length.head()"
   ]
  },
  {
   "cell_type": "markdown",
   "metadata": {
    "id": "qHQtCIGHNxD9"
   },
   "source": [
    "Let's look at the correlation between the length in decimal degrees and the length in meters. The correlation super close to 1, but is not exactly 1---demonstrating that the CRS matters when computing lengths, distances, areas, etc. Remember, as latitude changes, the kilometer distance between 1 degree longitude changes. Lagos is all at a very similar latitude, so we'd expect the correlation between length caculated from a geographic and projected CRS to be similar."
   ]
  },
  {
   "cell_type": "code",
   "execution_count": null,
   "metadata": {
    "id": "KW8Kv-WKNxD9"
   },
   "outputs": [],
   "source": [
    "import numpy\n",
    "numpy.corrcoef(roads_newcrs_gdf.length.to_list(),\n",
    "               roads_gdf.length.to_list())[0,1]"
   ]
  },
  {
   "cell_type": "markdown",
   "metadata": {
    "id": "oV-oTfAINxD9"
   },
   "source": [
    "#### Exercise 4: Transform the CRS of the Nigeria ADM2 object"
   ]
  },
  {
   "cell_type": "markdown",
   "metadata": {
    "id": "Uls1oD4_NxD9"
   },
   "source": [
    "#### 4a: Transform the CRS of the Nigeria ADM2 object `nga2_gdf` to EPSG:32632"
   ]
  },
  {
   "cell_type": "code",
   "execution_count": null,
   "metadata": {
    "id": "2gcUcf-jNxD9"
   },
   "outputs": [],
   "source": []
  },
  {
   "cell_type": "markdown",
   "metadata": {
    "id": "Ykw96FJNNxD9"
   },
   "source": [
    "#### 4b: Determine the area in decimal degrees and meters squared"
   ]
  },
  {
   "cell_type": "code",
   "execution_count": null,
   "metadata": {
    "id": "iZ414bM0NxD9"
   },
   "outputs": [],
   "source": []
  },
  {
   "cell_type": "markdown",
   "metadata": {
    "id": "9HzaxdOKNxD9"
   },
   "source": [
    "#### 4c: Compute the correlation between the area in decimal degrees and meters squared"
   ]
  },
  {
   "cell_type": "code",
   "execution_count": null,
   "metadata": {
    "id": "YBYFtgARNxD9"
   },
   "outputs": [],
   "source": []
  },
  {
   "cell_type": "markdown",
   "metadata": {
    "id": "wHyWaDQYNxD9"
   },
   "source": [
    "#### Buffer\n",
    "\n",
    "We have the points of schools. Now we create a 1km buffer around schools"
   ]
  },
  {
   "cell_type": "code",
   "execution_count": null,
   "metadata": {
    "id": "7-UkhMNQNxD9"
   },
   "outputs": [],
   "source": [
    "schools_1km_gdf = schools_gdf.copy()\n",
    "schools_1km_gdf = schools_1km_gdf.to_crs(32632)\n",
    "\n",
    "schools_1km_gdf['geometry'] = schools_1km_gdf.geometry.buffer(1000)"
   ]
  },
  {
   "cell_type": "code",
   "execution_count": null,
   "metadata": {
    "id": "bC6NG1IfNxD9"
   },
   "outputs": [],
   "source": [
    "schools_1km_gdf.explore()"
   ]
  },
  {
   "cell_type": "markdown",
   "metadata": {
    "id": "riqOTmbSNxD9"
   },
   "source": [
    "#### Dissolve by an Attribute\n",
    "\n",
    "Below we have the second administrative regions of Nigeria. Using this dataset, let's create a new object at the first administrative region level."
   ]
  },
  {
   "cell_type": "code",
   "execution_count": null,
   "metadata": {
    "id": "xZ1E9SZWNxD9"
   },
   "outputs": [],
   "source": [
    "nga1_simple_gdf = nga2_gdf.dissolve('NAME_1')"
   ]
  },
  {
   "cell_type": "code",
   "execution_count": null,
   "metadata": {
    "id": "NP0RicrDNxD9"
   },
   "outputs": [],
   "source": [
    "nga2_gdf.plot()"
   ]
  },
  {
   "cell_type": "code",
   "execution_count": null,
   "metadata": {
    "id": "0JjiUtnRNxD9"
   },
   "outputs": [],
   "source": [
    "nga1_simple_gdf.plot()"
   ]
  },
  {
   "cell_type": "markdown",
   "metadata": {
    "id": "aAnwGISGNxD9"
   },
   "source": [
    "#### Convex Hull\n",
    "\n",
    "__Simple definition:__ Get the outer-most coordinates of a shape and connect-the-dots.\n",
    "\n",
    "__Fomal definition:__\n",
    "A convex hull of a shape the smallest \"convex set\" that contains it. (A [convex set](https://en.wikipedia.org/wiki/Convex_set) is where a straight line can be drawn anywhere in the space and the space fully contains the line).\n",
    "\n",
    "Convex           |  Not Convex\n",
    ":-------------------------:|:-------------------------:\n",
    "![convex](https://github.com/worldbank/dec-python-course/blob/main/1-foundations/5-geospatial-analysis/img/Convex_polygon_illustration1.svg.png?raw=1)  |  ![notconvex](https://github.com/worldbank/dec-python-course/blob/main/1-foundations/5-geospatial-analysis/img/220px-Convex_polygon_illustration2.svg.png?raw=1)\n",
    "\n",
    "__Source:__ [Wikipedia](https://en.wikipedia.org/wiki/Convex_set)\n",
    "\n",
    "In the below example, we create a conex hull around schools; creating a polygon that includes all schools.\n",
    "\n",
    "__Incorrect attempt:__ We use `convex_hull`, which applies a convex hull to each row. Because schools are points, the resulting geometries are the same (they're still points!)"
   ]
  },
  {
   "cell_type": "code",
   "execution_count": null,
   "metadata": {
    "id": "Tw5FaR3FNxD9"
   },
   "outputs": [],
   "source": [
    "schools_gdf['c_hull'] = schools_gdf.convex_hull\n",
    "\n",
    "schools_gdf['c_hull'].plot()"
   ]
  },
  {
   "cell_type": "markdown",
   "metadata": {
    "id": "82A4syK_NxD9"
   },
   "source": [
    "__Correct attempt:__ We first dissolve the schools into one geometry, then compute the convex hull."
   ]
  },
  {
   "cell_type": "code",
   "execution_count": null,
   "metadata": {
    "id": "bu65rUgaNxD9"
   },
   "outputs": [],
   "source": [
    "schools_gdf['id_temp'] = 1\n",
    "schools_diss_gdf = schools_gdf.dissolve('id_temp')\n",
    "\n",
    "schools_diss_gdf['c_hull'] = schools_diss_gdf.convex_hull\n",
    "\n",
    "schools_diss_gdf['c_hull'].plot()"
   ]
  },
  {
   "cell_type": "code",
   "execution_count": null,
   "metadata": {
    "id": "IlaORIndNxD9"
   },
   "outputs": [],
   "source": [
    "# Note that the geometry type is a \"multipoint\"\n",
    "schools_diss_gdf.head()"
   ]
  },
  {
   "cell_type": "markdown",
   "metadata": {
    "id": "dRGf32t_NxD-"
   },
   "source": [
    "#### Determine Centroid\n",
    "\n",
    "Sometimes we want to represent a polygon or polyline as a single point. For this, we can compute the __centroid__ (ie, geographic center) of a polygon/polyline. \n",
    "\n",
    "![centroid](https://github.com/worldbank/dec-python-course/blob/main/1-foundations/5-geospatial-analysis/img/220px-Triangle.Centroid.svg.png?raw=1) \n",
    "\n",
    "__Source:__ [Wikipedia](https://en.wikipedia.org/wiki/Centroid)"
   ]
  },
  {
   "cell_type": "markdown",
   "metadata": {},
   "source": [
    "Below shows an example of creating a geodataframe of Nigeria's ADM2, where we use the centroid as the geometry."
   ]
  },
  {
   "cell_type": "code",
   "execution_count": null,
   "metadata": {
    "id": "4OK9KVJSNxD-"
   },
   "outputs": [],
   "source": [
    "nga2_c_gdf = nga2_gdf.copy()\n",
    "nga2_c_gdf['geometry'] = nga2_c_gdf['geometry'].centroid\n",
    "\n",
    "nga2_c_gdf.plot()"
   ]
  },
  {
   "cell_type": "markdown",
   "metadata": {
    "id": "gu7-EinCNxD-"
   },
   "source": [
    "#### Exercise 5: Create a roads object where (1) roads are buffered by 10 meters and (2) road types are dissolved, so the dataset contains one row per road type"
   ]
  },
  {
   "cell_type": "markdown",
   "metadata": {
    "id": "NK4m6l8eNxD-"
   },
   "source": [
    "#### 5a. Buffer the road network by 10 meters"
   ]
  },
  {
   "cell_type": "code",
   "execution_count": null,
   "metadata": {
    "id": "XBMzd05pNxD-"
   },
   "outputs": [],
   "source": []
  },
  {
   "cell_type": "markdown",
   "metadata": {
    "id": "9tmqZ9utNxD-"
   },
   "source": [
    "#### 5b. Dissolve the road network by road type (ie, the \"highway\" variable)"
   ]
  },
  {
   "cell_type": "code",
   "execution_count": null,
   "metadata": {
    "id": "fj7LN-9aNxD-"
   },
   "outputs": [],
   "source": []
  },
  {
   "cell_type": "markdown",
   "metadata": {
    "id": "U_N9QZIDNxD-"
   },
   "source": [
    "### Spatial Operations: Using Multiple Datasets"
   ]
  },
  {
   "cell_type": "markdown",
   "metadata": {
    "id": "W1gw59iuNxD-"
   },
   "source": [
    "#### Distances: Using Projected CRS\n",
    "\n",
    "For this example, we'll compute the distance between each school to a motorway."
   ]
  },
  {
   "cell_type": "code",
   "execution_count": null,
   "metadata": {
    "id": "jSM7dUCTNxD-"
   },
   "outputs": [],
   "source": [
    "#### Project so units are in meters\n",
    "schools_proj_gdf = schools_gdf.to_crs(32632)\n",
    "roads_proj_gdf   = roads_gdf.to_crs(32632)"
   ]
  },
  {
   "cell_type": "code",
   "execution_count": null,
   "metadata": {
    "id": "-Ya0DO2tNxD-"
   },
   "outputs": [],
   "source": [
    "#### Road dataset of just motorways\n",
    "roads_diss_gdf = roads_proj_gdf.dissolve('highway')\n",
    "roads_diss_gdf = roads_diss_gdf.reset_index()\n",
    "\n",
    "roads_motorway_gdf = roads_diss_gdf[roads_diss_gdf['highway'] == 'motorway']"
   ]
  },
  {
   "cell_type": "code",
   "execution_count": null,
   "metadata": {
    "id": "e9itGawSNxD-"
   },
   "outputs": [],
   "source": [
    "#### Distance\n",
    "schools_proj_gdf['dist_to_road_m'] = schools_proj_gdf['geometry'].apply(lambda x: x.distance(roads_motorway_gdf['geometry'].iloc[0]))\n",
    "\n",
    "schools_proj_gdf['dist_to_road_m'].describe()"
   ]
  },
  {
   "cell_type": "markdown",
   "metadata": {
    "id": "5z8l3j2mNxD-"
   },
   "source": [
    "#### Intersects (True/False vector)\n",
    "\n",
    "For this example we'll determine which of Lagos's second administrative divisions intersects with a motorway.\n",
    "\n",
    "First, let's check the CRS of the datasets we'll use and ensure that they're in the same CRS."
   ]
  },
  {
   "cell_type": "code",
   "execution_count": null,
   "metadata": {
    "id": "JPn0yWEuNxD-"
   },
   "outputs": [],
   "source": [
    "roads_motorway_gdf.crs"
   ]
  },
  {
   "cell_type": "code",
   "execution_count": null,
   "metadata": {
    "id": "KIU1tj4ONxD-"
   },
   "outputs": [],
   "source": [
    "lagos_gdf.crs"
   ]
  },
  {
   "cell_type": "code",
   "execution_count": null,
   "metadata": {
    "id": "wIx9BWERNxD-"
   },
   "outputs": [],
   "source": [
    "lagos_proj_gdf = lagos_gdf.to_crs(32632)"
   ]
  },
  {
   "cell_type": "code",
   "execution_count": null,
   "metadata": {
    "id": "tqH2s6chNxD-"
   },
   "outputs": [],
   "source": [
    "## Create new variable whether ADM intersects with motorway\n",
    "lagos_proj_gdf['inter_motorway'] = lagos_proj_gdf['geometry'].apply(lambda x: x.intersects(roads_motorway_gdf['geometry'].iloc[0]))"
   ]
  },
  {
   "cell_type": "code",
   "execution_count": null,
   "metadata": {
    "id": "f1pK57PjNxD-"
   },
   "outputs": [],
   "source": [
    "lagos_proj_gdf.inter_motorway.head()"
   ]
  },
  {
   "cell_type": "markdown",
   "metadata": {
    "id": "xUpsttYoNxD-"
   },
   "source": [
    "#### Overlay Data\n",
    "\n",
    "We have roads for all of Lagos. Here we'll show how to use the `overlay` function to:\n",
    "\n",
    "1. Create a new object of roads that are in a certain administrative region.\n",
    "2. Create a new object of roads that are NOT in a certain administrative region."
   ]
  },
  {
   "cell_type": "code",
   "execution_count": null,
   "metadata": {
    "id": "MYEABbfANxD-"
   },
   "outputs": [],
   "source": [
    "eo_proj_gdf = lagos_proj_gdf[lagos_proj_gdf.NAME_2 == \"Eti-Osa\"]"
   ]
  },
  {
   "cell_type": "code",
   "execution_count": null,
   "metadata": {
    "id": "AAeriShcNxD-"
   },
   "outputs": [],
   "source": [
    "## 1. Create a new object of roads that are in a certain administrative region.\n",
    "roads_eo_gdf = roads_proj_gdf.overlay(eo_proj_gdf, how='intersection')\n",
    "\n",
    "roads_eo_gdf.plot()"
   ]
  },
  {
   "cell_type": "code",
   "execution_count": null,
   "metadata": {
    "id": "0tiuxLRLNxD-"
   },
   "outputs": [],
   "source": [
    "## 2. Create a new object of roads that are NOT in a certain administrative region.\n",
    "roads_not_eo_gdf = roads_proj_gdf.overlay(eo_proj_gdf, how='difference')\n",
    "\n",
    "roads_not_eo_gdf.plot()"
   ]
  },
  {
   "cell_type": "markdown",
   "metadata": {
    "id": "_MP7CwYCNxD_"
   },
   "source": [
    "#### Spatial Join\n",
    "\n",
    "We have a dataset of schools. The school GeoDataFrame contains information such as the school name, but not on the administrative region it's in. To add data on the administrative region that the school is in, we'll perform a spatial join"
   ]
  },
  {
   "cell_type": "code",
   "execution_count": null,
   "metadata": {
    "id": "GRbO49NCNxD_"
   },
   "outputs": [],
   "source": [
    "schools_admdata_gdf = gpd.sjoin(\n",
    "    schools_gdf,\n",
    "    nga2_gdf,\n",
    "    how='left',\n",
    "    predicate=\"within\",\n",
    ")\n",
    "\n",
    "schools_admdata_gdf.head()"
   ]
  },
  {
   "cell_type": "markdown",
   "metadata": {
    "id": "x0ejwjdlNxD_"
   },
   "source": [
    "#### Exercise 6: Determine the ADM2 name that the centroid of each road is in"
   ]
  },
  {
   "cell_type": "markdown",
   "metadata": {
    "id": "NHWzT1G7NxD_"
   },
   "source": [
    "#### 6a: Create a new roads object where each road geometry is the centroid of the road"
   ]
  },
  {
   "cell_type": "code",
   "execution_count": null,
   "metadata": {
    "id": "fToPQrqyNxD_"
   },
   "outputs": [],
   "source": []
  },
  {
   "cell_type": "markdown",
   "metadata": {
    "id": "RMlQ8CG3NxD_"
   },
   "source": [
    "#### 6b: Determine the ADM2 name that each road centroid is in"
   ]
  },
  {
   "cell_type": "code",
   "execution_count": null,
   "metadata": {
    "id": "1FI6Ur5LNxD_"
   },
   "outputs": [],
   "source": []
  },
  {
   "cell_type": "markdown",
   "metadata": {
    "id": "_3Dq6b23NxD_"
   },
   "source": [
    "## Challenge Exercise\n",
    "\n",
    "__Inaccessible schools: Create an interactive map of Lagos second administrative divisions that shows the number of schools that are greater than 1 kilometer of a trunk road or motorway__"
   ]
  },
  {
   "cell_type": "code",
   "execution_count": null,
   "metadata": {
    "id": "hPay7iDuNxD_"
   },
   "outputs": [],
   "source": [
    "## Load data\n",
    "nga2_gdf  = gpd.read_file(os.path.join(\"data\", \"gadm_nga_2.geojson\"))\n",
    "roads_gdf = gpd.read_file(os.path.join(\"data\", \"osm_lagos_roads.geojson\"))"
   ]
  },
  {
   "cell_type": "code",
   "execution_count": null,
   "metadata": {
    "id": "fMIpLyTnNxD_"
   },
   "outputs": [],
   "source": []
  },
  {
   "cell_type": "code",
   "execution_count": null,
   "metadata": {
    "id": "omxxa0pANxD_"
   },
   "outputs": [],
   "source": []
  },
  {
   "cell_type": "code",
   "execution_count": null,
   "metadata": {
    "id": "bPXXSbwNNxD_"
   },
   "outputs": [],
   "source": []
  },
  {
   "cell_type": "code",
   "execution_count": null,
   "metadata": {
    "id": "e2fdxI8HNxD_"
   },
   "outputs": [],
   "source": []
  },
  {
   "cell_type": "code",
   "execution_count": null,
   "metadata": {
    "id": "34HrMl8kNxD_"
   },
   "outputs": [],
   "source": []
  },
  {
   "cell_type": "markdown",
   "metadata": {
    "id": "2FEaB43GNxD_"
   },
   "source": [
    "# Additional Resources\n",
    "\n",
    "* https://aeturrell.github.io/coding-for-economists/geo-intro.html\n",
    "* https://pygis.io/docs/d_access_osm.html"
   ]
  }
 ],
 "metadata": {
  "colab": {
   "include_colab_link": true,
   "provenance": []
  },
  "kernelspec": {
   "display_name": "Python [conda env:base] *",
   "language": "python",
   "name": "conda-base-py"
  },
  "language_info": {
   "codemirror_mode": {
    "name": "ipython",
    "version": 3
   },
   "file_extension": ".py",
   "mimetype": "text/x-python",
   "name": "python",
   "nbconvert_exporter": "python",
   "pygments_lexer": "ipython3",
   "version": "3.9.7"
  }
 },
 "nbformat": 4,
 "nbformat_minor": 4
}
