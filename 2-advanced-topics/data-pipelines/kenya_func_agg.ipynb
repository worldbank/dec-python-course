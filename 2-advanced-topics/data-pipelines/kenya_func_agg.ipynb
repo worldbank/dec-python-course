{
 "cells": [
  {
   "cell_type": "code",
   "execution_count": 0,
   "metadata": {
    "application/vnd.databricks.v1+cell": {
     "cellMetadata": {
      "byteLimit": 2048000,
      "rowLimit": 10000
     },
     "inputWidgets": {},
     "nuid": "485b8bd9-9313-41c4-a86a-5f373689bcd8",
     "showTitle": false,
     "title": ""
    }
   },
   "outputs": [],
   "source": [
    "from pyspark.sql.types import DoubleType\n",
    "from pyspark.sql.functions import col, lit, sum\n",
    "\n",
    "database_name = \"data_pipelines_tutorial\"\n",
    "\n",
    "# read population table\n",
    "pop_df = spark.read.table(f\"{database_name}.kenya_subnational_population\").alias(\"pop_df\")\n",
    "\n",
    "agg_df = (spark.read.table(f\"{database_name}.kenya_gold\")\n",
    "    .groupBy(\"country_name\", \"year\", \"geo1\", \"func\",)\n",
    "    .agg(sum(\"executed\").alias(\"expenditure\"))\n",
    ").alias(\"agg_df\")\n",
    "\n",
    "agg_with_pop_df = (agg_df\n",
    "    .join(pop_df, \n",
    "          (agg_df.country_name == pop_df.country_name) & \n",
    "          (agg_df.geo1 == pop_df.adm1_name) & \n",
    "          (agg_df.year == pop_df.year), \n",
    "          \"inner\")\n",
    "    .select(\"agg_df.country_name\", \"agg_df.year\", \"agg_df.geo1\", \"agg_df.func\", \"agg_df.expenditure\", \"pop_df.population\")\n",
    ")\n",
    "\n",
    "agg_with_pop_df = agg_with_pop_df.withColumn(\n",
    "    'per_capita_spending',\n",
    "    (col('expenditure') / col('population')).alias('per_capita_spending')\n",
    ")\n",
    "\n",
    "agg_with_pop_df.write.format(\"delta\").mode(\"overwrite\").saveAsTable(f\"{database_name}.kenya_func_geo1_agg\")\n",
    "\n"
   ]
  },
  {
   "cell_type": "code",
   "execution_count": 0,
   "metadata": {
    "application/vnd.databricks.v1+cell": {
     "cellMetadata": {
      "byteLimit": 2048000,
      "rowLimit": 10000
     },
     "inputWidgets": {},
     "nuid": "7f9edae7-2733-40ed-8a4b-b1018f666055",
     "showTitle": false,
     "title": ""
    }
   },
   "outputs": [
    {
     "data": {
      "text/html": [
       "<style scoped>\n",
       "  .table-result-container {\n",
       "    max-height: 300px;\n",
       "    overflow: auto;\n",
       "  }\n",
       "  table, th, td {\n",
       "    border: 1px solid black;\n",
       "    border-collapse: collapse;\n",
       "  }\n",
       "  th, td {\n",
       "    padding: 5px;\n",
       "  }\n",
       "  th {\n",
       "    text-align: left;\n",
       "  }\n",
       "</style><div class='table-result-container'><table class='table-result'><thead style='background-color: white'><tr><th>country_name</th><th>year</th><th>geo1</th><th>func</th><th>expenditure</th><th>population</th><th>per_capita_spending</th></tr></thead><tbody><tr><td>Kenya</td><td>2016</td><td>Tharaka Nithi</td><td>Education</td><td>7485580.0</td><td>423626</td><td>17.6702563109913</td></tr><tr><td>Kenya</td><td>2016</td><td>Murang’A</td><td>Education</td><td>2.0183154695000002E8</td><td>1123956</td><td>179.5724627565492</td></tr><tr><td>Kenya</td><td>2016</td><td>Kisii</td><td>Health</td><td>2.46550523915E9</td><td>1355863</td><td>1818.4029206121859</td></tr><tr><td>Kenya</td><td>2017</td><td>Turkana</td><td>Education</td><td>5.1786283455E8</td><td>977164</td><td>529.9651179842892</td></tr><tr><td>Kenya</td><td>2018</td><td>Kitui</td><td>Housing and community amenities</td><td>2.3269824765000004E8</td><td>1236405</td><td>188.20552137042478</td></tr><tr><td>Kenya</td><td>2018</td><td>Siaya</td><td>Health</td><td>1.6009531178499997E9</td><td>1074637</td><td>1489.7617687181807</td></tr><tr><td>Kenya</td><td>2018</td><td>Uasin Gishu</td><td>Education</td><td>7.3623264545E8</td><td>1244465</td><td>591.6057466059713</td></tr><tr><td>Kenya</td><td>2019</td><td>West Pokot</td><td>Environmental protection</td><td>1.2143635E7</td><td>682913</td><td>17.78211133775459</td></tr><tr><td>Kenya</td><td>2019</td><td>Laikipia</td><td>Education</td><td>1.41331865E8</td><td>569446</td><td>248.19186542709932</td></tr><tr><td>Kenya</td><td>2020</td><td>Meru</td><td>Education</td><td>1.037800585E9</td><td>1721672</td><td>602.7864686188775</td></tr><tr><td>Kenya</td><td>2020</td><td>Trans Nzoia</td><td>General public services</td><td>1.643356571E9</td><td>1108719</td><td>1482.2119680460062</td></tr><tr><td>Kenya</td><td>2016</td><td>Turkana</td><td>Education</td><td>4.733518809E8</td><td>957176</td><td>494.5296172281795</td></tr><tr><td>Kenya</td><td>2017</td><td>Baringo</td><td>Recreation, culture and religion</td><td>1.0212170380000001E8</td><td>706821</td><td>144.48029104964343</td></tr><tr><td>Kenya</td><td>2017</td><td>Kajiado</td><td>Education</td><td>5.1143148529999995E8</td><td>1110272</td><td>460.6362092352144</td></tr><tr><td>Kenya</td><td>2017</td><td>Marsabit</td><td>Public order and safety</td><td>1.4752684320000002E8</td><td>459531</td><td>321.0378477186523</td></tr><tr><td>Kenya</td><td>2018</td><td>Mombasa</td><td>Economic affairs</td><td>3.3947322292499986E9</td><td>1294431</td><td>2622.56715827263</td></tr><tr><td>Kenya</td><td>2018</td><td>Baringo</td><td>Health</td><td>2.18327687545E9</td><td>719983</td><td>3032.400592027867</td></tr><tr><td>Kenya</td><td>2018</td><td>Homa Bay</td><td>Health</td><td>2.3123081640499997E9</td><td>1225341</td><td>1887.073201704668</td></tr><tr><td>Kenya</td><td>2018</td><td>Kisii</td><td>Education</td><td>1.734441484E8</td><td>1381816</td><td>125.51898979314178</td></tr><tr><td>Kenya</td><td>2018</td><td>Mandera</td><td>Social protection</td><td>1.272924689E8</td><td>933865</td><td>136.30714171748593</td></tr><tr><td>Kenya</td><td>2019</td><td>West Pokot</td><td>Economic affairs</td><td>1.58913041E9</td><td>682913</td><td>2326.9880790086</td></tr><tr><td>Kenya</td><td>2020</td><td>Makueni</td><td>Recreation, culture and religion</td><td>2.57838125E8</td><td>1098172</td><td>234.788471204875</td></tr><tr><td>Kenya</td><td>2020</td><td>Kisii</td><td>Health</td><td>8.4459739E8</td><td>1406733</td><td>600.3963723037705</td></tr><tr><td>Kenya</td><td>2016</td><td>Kitui</td><td>Recreation, culture and religion</td><td>1.7633568699999997E8</td><td>1208265</td><td>145.94123557332205</td></tr><tr><td>Kenya</td><td>2016</td><td>Uasin Gishu</td><td>Education</td><td>5.558863825E8</td><td>1180687</td><td>470.8160439642344</td></tr><tr><td>Kenya</td><td>2017</td><td>Nakuru</td><td>Economic affairs</td><td>3.2012641326E9</td><td>2235441</td><td>1432.0503795895306</td></tr><tr><td>Kenya</td><td>2017</td><td>Migori</td><td>Education</td><td>2.461761792E8</td><td>1179905</td><td>208.64067802068809</td></tr><tr><td>Kenya</td><td>2019</td><td>Turkana</td><td>Environmental protection</td><td>6.03539098E8</td><td>1018738</td><td>592.4379948524547</td></tr><tr><td>Kenya</td><td>2019</td><td>Vihiga</td><td>Economic affairs</td><td>1.94708527705E9</td><td>649836</td><td>2996.2717932678397</td></tr><tr><td>Kenya</td><td>2020</td><td>Kilifi</td><td>Social protection</td><td>2.17632096E8</td><td>1638699</td><td>132.80785305904257</td></tr><tr><td>Kenya</td><td>2020</td><td>Lamu</td><td>Education</td><td>4.87816875E8</td><td>163321</td><td>2986.85946693934</td></tr><tr><td>Kenya</td><td>2020</td><td>Samburu</td><td>General public services</td><td>1.983618087E9</td><td>351475</td><td>5643.696100718401</td></tr><tr><td>Kenya</td><td>2020</td><td>Kajiado</td><td>Environmental protection</td><td>2.11620956E8</td><td>1283417</td><td>164.88869634732905</td></tr><tr><td>Kenya</td><td>2020</td><td>Tana River</td><td>Public order and safety</td><td>1.06145036E8</td><td>356274</td><td>297.9309071108192</td></tr><tr><td>Kenya</td><td>2020</td><td>Kiambu</td><td>Social protection</td><td>6.9123969E7</td><td>2754995</td><td>25.090415409102377</td></tr><tr><td>Kenya</td><td>2016</td><td>Makueni</td><td>Education</td><td>3.7010494305E8</td><td>1051888</td><td>351.8482414952923</td></tr><tr><td>Kenya</td><td>2016</td><td>Nyeri</td><td>Housing and community amenities</td><td>2.3727914285E8</td><td>813608</td><td>291.6381634030147</td></tr><tr><td>Kenya</td><td>2016</td><td>Laikipia</td><td>Health</td><td>1.302321255E8</td><td>526607</td><td>247.30420503335503</td></tr><tr><td>Kenya</td><td>2017</td><td>Trans Nzoia</td><td>Health</td><td>2.2010021924E9</td><td>1048071</td><td>2100.0506572550908</td></tr><tr><td>Kenya</td><td>2017</td><td>Uasin Gishu</td><td>Housing and community amenities</td><td>2.804412054499999E8</td><td>1211922</td><td>231.40202541912757</td></tr><tr><td>Kenya</td><td>2017</td><td>Baringo</td><td>Health</td><td>2.18287151575E9</td><td>706821</td><td>3088.294654162794</td></tr><tr><td>Kenya</td><td>2017</td><td>Turkana</td><td>Public order and safety</td><td>1.64017584E8</td><td>977164</td><td>167.8506207760417</td></tr><tr><td>Kenya</td><td>2018</td><td>Lamu</td><td>Social protection</td><td>1.842340695E7</td><td>152464</td><td>120.83775153478854</td></tr><tr><td>Kenya</td><td>2018</td><td>Nyandarua</td><td>General public services</td><td>2.257106440600001E9</td><td>698341</td><td>3232.0978441764137</td></tr><tr><td>Kenya</td><td>2018</td><td>Bungoma</td><td>Recreation, culture and religion</td><td>7.529378185E7</td><td>1801381</td><td>41.79781059642574</td></tr><tr><td>Kenya</td><td>2018</td><td>Elgeyo Marakwet</td><td>Recreation, culture and religion</td><td>2.8677963249999996E7</td><td>489448</td><td>58.59246181412529</td></tr><tr><td>Kenya</td><td>2019</td><td>Turkana</td><td>Education</td><td>1.0081468594E9</td><td>1018738</td><td>989.603665908212</td></tr><tr><td>Kenya</td><td>2019</td><td>Nandi</td><td>Housing and community amenities</td><td>1.01978214E8</td><td>974055</td><td>104.69451314350832</td></tr><tr><td>Kenya</td><td>2020</td><td>Mandera</td><td>Health</td><td>8.00620166E8</td><td>972652</td><td>823.1311568783079</td></tr><tr><td>Kenya</td><td>2020</td><td>Turkana</td><td>General public services</td><td>7.222894954E9</td><td>1039404</td><td>6949.073655671904</td></tr><tr><td>Kenya</td><td>2020</td><td>Elgeyo Marakwet</td><td>Health</td><td>2.141055678E9</td><td>509480</td><td>4202.433222108817</td></tr><tr><td>Kenya</td><td>2020</td><td>Bungoma</td><td>Economic affairs</td><td>3.6989002393E9</td><td>1870968</td><td>1976.9981310743958</td></tr><tr><td>Kenya</td><td>2016</td><td>Machakos</td><td>Health</td><td>2.6103192603500004E9</td><td>1445601</td><td>1805.698294584744</td></tr><tr><td>Kenya</td><td>2016</td><td>Uasin Gishu</td><td>Economic affairs</td><td>1.7513426658999999E9</td><td>1180687</td><td>1483.3251030120598</td></tr><tr><td>Kenya</td><td>2016</td><td>Kajiado</td><td>Recreation, culture and religion</td><td>1.5748388E7</td><td>1057819</td><td>14.887601754175336</td></tr><tr><td>Kenya</td><td>2017</td><td>Garissa</td><td>Economic affairs</td><td>1.3749035871500003E9</td><td>935777</td><td>1469.2641378768662</td></tr><tr><td>Kenya</td><td>2019</td><td>Tharaka Nithi</td><td>General public services</td><td>1.087523137E9</td><td>432967</td><td>2511.792208182148</td></tr><tr><td>Kenya</td><td>2020</td><td>Turkana</td><td>Economic affairs</td><td>3.26866226935E9</td><td>1039404</td><td>3144.746671505978</td></tr><tr><td>Kenya</td><td>2020</td><td>Baringo</td><td>Education</td><td>6.7566675515E8</td><td>745967</td><td>905.7595780376344</td></tr><tr><td>Kenya</td><td>2016</td><td>Mandera</td><td>Housing and community amenities</td><td>9.804755345E7</td><td>895698</td><td>109.4649686054898</td></tr><tr><td>Kenya</td><td>2016</td><td>Kitui</td><td>General public services</td><td>2.97513085435E9</td><td>1208265</td><td>2462.3165070162586</td></tr><tr><td>Kenya</td><td>2016</td><td>Uasin Gishu</td><td>Housing and community amenities</td><td>2.2109429220000002E8</td><td>1180687</td><td>187.25902140025258</td></tr><tr><td>Kenya</td><td>2017</td><td>Bomet</td><td>Health</td><td>8.249225674E8</td><td>926793</td><td>890.0828635952149</td></tr><tr><td>Kenya</td><td>2017</td><td>Busia</td><td>Social protection</td><td>1.1625948415E8</td><td>947172</td><td>122.7437932603582</td></tr><tr><td>Kenya</td><td>2019</td><td>Bungoma</td><td>General public services</td><td>3.235397764E9</td><td>1836335</td><td>1761.8777423509327</td></tr><tr><td>Kenya</td><td>2019</td><td>Kirinyaga</td><td>Public order and safety</td><td>3.2811244700000006E8</td><td>671452</td><td>488.6610614012618</td></tr><tr><td>Kenya</td><td>2016</td><td>Meru</td><td>Housing and community amenities</td><td>1.0623656875E8</td><td>1635681</td><td>64.94944231179552</td></tr><tr><td>Kenya</td><td>2016</td><td>Bungoma</td><td>Recreation, culture and religion</td><td>8.59436715E7</td><td>1732560</td><td>49.605018873805236</td></tr><tr><td>Kenya</td><td>2016</td><td>Nairobi City</td><td>Education</td><td>2.091738787E8</td><td>4360681</td><td>47.968167976515595</td></tr><tr><td>Kenya</td><td>2017</td><td>Makueni</td><td>Housing and community amenities</td><td>6.579694691999999E8</td><td>1063357</td><td>618.7662931640078</td></tr><tr><td>Kenya</td><td>2017</td><td>Bungoma</td><td>General public services</td><td>4.227186282899999E9</td><td>1766291</td><td>2393.2558581230383</td></tr><tr><td>Kenya</td><td>2018</td><td>Kitui</td><td>Environmental protection</td><td>1.2649831885000001E8</td><td>1236405</td><td>102.31139379895747</td></tr><tr><td>Kenya</td><td>2020</td><td>Kilifi</td><td>Economic affairs</td><td>3.5035358805E9</td><td>1638699</td><td>2137.9984246649324</td></tr><tr><td>Kenya</td><td>2020</td><td>Kitui</td><td>General public services</td><td>2.846700477E9</td><td>1263831</td><td>2252.437609933607</td></tr><tr><td>Kenya</td><td>2016</td><td>Isiolo</td><td>Education</td><td>1.7957659295E8</td><td>242687</td><td>739.9514310614082</td></tr><tr><td>Kenya</td><td>2016</td><td>Vihiga</td><td>Economic affairs</td><td>9.195732311500002E8</td><td>638039</td><td>1441.249251456416</td></tr><tr><td>Kenya</td><td>2017</td><td>West Pokot</td><td>General public services</td><td>2.1276873274000006E9</td><td>657207</td><td>3237.469058302788</td></tr><tr><td>Kenya</td><td>2017</td><td>Kajiado</td><td>General public services</td><td>1.5584760987500007E9</td><td>1110272</td><td>1403.6885544713375</td></tr><tr><td>Kenya</td><td>2018</td><td>Narok</td><td>General public services</td><td>2.3039446007999988E9</td><td>1232410</td><td>1869.4627606072645</td></tr><tr><td>Kenya</td><td>2018</td><td>Busia</td><td>Recreation, culture and religion</td><td>1.162896099E8</td><td>964898</td><td>120.52010668485167</td></tr><tr><td>Kenya</td><td>2019</td><td>Kwale</td><td>Social protection</td><td>2.71622754E8</td><td>951518</td><td>285.4625493159352</td></tr><tr><td>Kenya</td><td>2019</td><td>Meru</td><td>Environmental protection</td><td>8.49114691E8</td><td>1700686</td><td>499.2777567405153</td></tr><tr><td>Kenya</td><td>2019</td><td>Uasin Gishu</td><td>Recreation, culture and religion</td><td>2.276738456E8</td><td>1277307</td><td>178.24520307177522</td></tr><tr><td>Kenya</td><td>2019</td><td>Siaya</td><td>General public services</td><td>1.999361021E9</td><td>1092216</td><td>1830.55459817472</td></tr><tr><td>Kenya</td><td>2020</td><td>Mombasa</td><td>Education</td><td>6.97173772E8</td><td>1359896</td><td>512.666977474748</td></tr><tr><td>Kenya</td><td>2020</td><td>Bomet</td><td>Education</td><td>9.713258E7</td><td>980330</td><td>99.08151336794752</td></tr><tr><td>Kenya</td><td>2016</td><td>Baringo</td><td>General public services</td><td>1.1297922372E9</td><td>694159</td><td>1627.5698178659356</td></tr><tr><td>Kenya</td><td>2016</td><td>Taita Taveta</td><td>Public order and safety</td><td>7.39198828E7</td><td>354986</td><td>208.23323398669243</td></tr><tr><td>Kenya</td><td>2017</td><td>Nyeri</td><td>Public order and safety</td><td>1.0645610791E9</td><td>820838</td><td>1296.9198296131515</td></tr><tr><td>Kenya</td><td>2018</td><td>Lamu</td><td>Education</td><td>1.644404767E8</td><td>152464</td><td>1078.552817058453</td></tr><tr><td>Kenya</td><td>2018</td><td>Taita Taveta</td><td>Education</td><td>1.42146983E8</td><td>367982</td><td>386.2878700588616</td></tr><tr><td>Kenya</td><td>2018</td><td>Kiambu</td><td>Education</td><td>1.2791027921E9</td><td>2546938</td><td>502.2119863538099</td></tr><tr><td>Kenya</td><td>2018</td><td>Meru</td><td>Environmental protection</td><td>8.416696182E8</td><td>1679035</td><td>501.28175898656076</td></tr><tr><td>Kenya</td><td>2020</td><td>Kitui</td><td>Economic affairs</td><td>3.4742150078E9</td><td>1263831</td><td>2748.9553649182526</td></tr><tr><td>Kenya</td><td>2020</td><td>Uasin Gishu</td><td>Health</td><td>2.237423342E9</td><td>1310340</td><td>1707.5135781552879</td></tr><tr><td>Kenya</td><td>2020</td><td>Narok</td><td>Recreation, culture and religion</td><td>4.4349767E8</td><td>1309378</td><td>338.70866166989214</td></tr><tr><td>Kenya</td><td>2017</td><td>Wajir</td><td>Environmental protection</td><td>1.3545651005E8</td><td>823531</td><td>164.4825878442949</td></tr><tr><td>Kenya</td><td>2019</td><td>Nyeri</td><td>Education</td><td>6.308493791E8</td><td>835770</td><td>754.81218409371</td></tr><tr><td>Kenya</td><td>2019</td><td>Vihiga</td><td>Education</td><td>7.71324574E8</td><td>649836</td><td>1186.952668057787</td></tr><tr><td>Kenya</td><td>2020</td><td>Mombasa</td><td>Recreation, culture and religion</td><td>3.84159292E8</td><td>1359896</td><td>282.4916699512316</td></tr><tr><td>Kenya</td><td>2020</td><td>Trans Nzoia</td><td>Social protection</td><td>6.6111358E7</td><td>1108719</td><td>59.62859660563227</td></tr><tr><td>Kenya</td><td>2020</td><td>Kakamega</td><td>Social protection</td><td>5.5160535E7</td><td>2077815</td><td>26.547375488193126</td></tr><tr><td>Kenya</td><td>2016</td><td>Kiambu</td><td>Housing and community amenities</td><td>1.969536455E8</td><td>2352106</td><td>83.73502108323349</td></tr><tr><td>Kenya</td><td>2018</td><td>Nakuru</td><td>Education</td><td>4.2358661504999995E8</td><td>2303736</td><td>183.8694255982456</td></tr><tr><td>Kenya</td><td>2020</td><td>Kirinyaga</td><td>Recreation, culture and religion</td><td>4.0617308E7</td><td>680714</td><td>59.668683176782025</td></tr><tr><td>Kenya</td><td>2020</td><td>Uasin Gishu</td><td>Recreation, culture and religion</td><td>3.41259282E8</td><td>1310340</td><td>260.4356747103805</td></tr><tr><td>Kenya</td><td>2016</td><td>Kwale</td><td>Economic affairs</td><td>1.290948448199999E9</td><td>872981</td><td>1478.7818385508954</td></tr><tr><td>Kenya</td><td>2017</td><td>Uasin Gishu</td><td>General public services</td><td>1.4558850893E9</td><td>1211922</td><td>1201.302632760194</td></tr><tr><td>Kenya</td><td>2018</td><td>Homa Bay</td><td>Economic affairs</td><td>2.0448837082E9</td><td>1225341</td><td>1668.8282757207994</td></tr><tr><td>Kenya</td><td>2018</td><td>Nyamira</td><td>Social protection</td><td>7.24281855E7</td><td>666829</td><td>108.6158302953231</td></tr><tr><td>Kenya</td><td>2018</td><td>Makueni</td><td>Health</td><td>2.3589250738999996E9</td><td>1075366</td><td>2193.602060972729</td></tr><tr><td>Kenya</td><td>2018</td><td>Nyeri</td><td>Public order and safety</td><td>8.369534395E8</td><td>828455</td><td>1010.2581787785698</td></tr><tr><td>Kenya</td><td>2018</td><td>Kakamega</td><td>Recreation, culture and religion</td><td>2.5552214165E8</td><td>2031790</td><td>125.76208252329228</td></tr><tr><td>Kenya</td><td>2019</td><td>Mandera</td><td>Social protection</td><td>4.73666055E7</td><td>953313</td><td>49.686310267456754</td></tr><tr><td>Kenya</td><td>2016</td><td>Garissa</td><td>Health</td><td>1.00881643565E9</td><td>899835</td><td>1121.1126880483644</td></tr><tr><td>Kenya</td><td>2016</td><td>Embu</td><td>Recreation, culture and religion</td><td>146350.0</td><td>637167</td><td>0.22968860596986349</td></tr><tr><td>Kenya</td><td>2017</td><td>Nyeri</td><td>Education</td><td>4.292646295499999E8</td><td>820838</td><td>522.9590120705911</td></tr><tr><td>Kenya</td><td>2017</td><td>Embu</td><td>Housing and community amenities</td><td>201148.0</td><td>647624</td><td>0.31059380134151915</td></tr><tr><td>Kenya</td><td>2018</td><td>Nyeri</td><td>General public services</td><td>1.9359512343000004E9</td><td>828455</td><td>2336.8212326559687</td></tr><tr><td>Kenya</td><td>2018</td><td>Kirinyaga</td><td>Housing and community amenities</td><td>3748226.0</td><td>661961</td><td>5.662306389651354</td></tr><tr><td>Kenya</td><td>2018</td><td>Elgeyo Marakwet</td><td>Social protection</td><td>4.2503780900000006E7</td><td>489448</td><td>86.84023818669196</td></tr><tr><td>Kenya</td><td>2018</td><td>Kwale</td><td>Public order and safety</td><td>1.0580655425E8</td><td>924747</td><td>114.4167585836991</td></tr><tr><td>Kenya</td><td>2020</td><td>Machakos</td><td>General public services</td><td>1.9545112E9</td><td>1601135</td><td>1220.7035634097062</td></tr><tr><td>Kenya</td><td>2020</td><td>Kericho</td><td>General public services</td><td>1.690047141E9</td><td>1008092</td><td>1676.4810562924813</td></tr><tr><td>Kenya</td><td>2020</td><td>Vihiga</td><td>Economic affairs</td><td>1.6825949143E9</td><td>653324</td><td>2575.437170990198</td></tr><tr><td>Kenya</td><td>2020</td><td>Busia</td><td>Education</td><td>5.066686294E8</td><td>999906</td><td>506.7162607285085</td></tr><tr><td>Kenya</td><td>2016</td><td>Nakuru</td><td>Education</td><td>8.2007321605E8</td><td>2170005</td><td>377.9130536795998</td></tr><tr><td>Kenya</td><td>2016</td><td>Murang’A</td><td>Housing and community amenities</td><td>0.0</td><td>1123956</td><td>0.0</td></tr><tr><td>Kenya</td><td>2018</td><td>Garissa</td><td>Housing and community amenities</td><td>5.123794669E8</td><td>973522</td><td>526.315241874349</td></tr><tr><td>Kenya</td><td>2018</td><td>Kiambu</td><td>Recreation, culture and religion</td><td>6.44864542E7</td><td>2546938</td><td>25.319208477002583</td></tr><tr><td>Kenya</td><td>2019</td><td>Meru</td><td>Education</td><td>1.089905662E9</td><td>1700686</td><td>640.862370831535</td></tr><tr><td>Kenya</td><td>2019</td><td>Machakos</td><td>Housing and community amenities</td><td>1.363551698E9</td><td>1561560</td><td>873.1984028791721</td></tr><tr><td>Kenya</td><td>2019</td><td>Kisumu</td><td>Economic affairs</td><td>4.1245194058500004E9</td><td>1270584</td><td>3246.1603529164545</td></tr><tr><td>Kenya</td><td>2020</td><td>Embu</td><td>General public services</td><td>1.293147783E9</td><td>679843</td><td>1902.1270837531606</td></tr><tr><td>Kenya</td><td>2020</td><td>Kericho</td><td>Public order and safety</td><td>2.042030717E8</td><td>1008092</td><td>202.56392442356452</td></tr><tr><td>Kenya</td><td>2016</td><td>Kwale</td><td>Social protection</td><td>2.6952824854999995E8</td><td>872981</td><td>308.74469037699555</td></tr><tr><td>Kenya</td><td>2016</td><td>Vihiga</td><td>Health</td><td>7.520643692499999E8</td><td>638039</td><td>1178.7122248796702</td></tr><tr><td>Kenya</td><td>2017</td><td>Nandi</td><td>Education</td><td>4.462166859E8</td><td>942976</td><td>473.2004694711212</td></tr><tr><td>Kenya</td><td>2017</td><td>Nyamira</td><td>Education</td><td>4.5539539245E8</td><td>665887</td><td>683.8929014232144</td></tr><tr><td>Kenya</td><td>2019</td><td>Mombasa</td><td>Health</td><td>2.533629727E9</td><td>1327105</td><td>1909.1403671902374</td></tr><tr><td>Kenya</td><td>2020</td><td>Baringo</td><td>Health</td><td>2.402873606E9</td><td>745967</td><td>3221.152686378888</td></tr><tr><td>Kenya</td><td>2016</td><td>Meru</td><td>Health</td><td>1.8677277575E9</td><td>1635681</td><td>1141.8655333772294</td></tr><tr><td>Kenya</td><td>2016</td><td>Nandi</td><td>Public order and safety</td><td>1.5663725E7</td><td>927962</td><td>16.87970520344583</td></tr><tr><td>Kenya</td><td>2017</td><td>Kirinyaga</td><td>Recreation, culture and religion</td><td>2.1601818875E8</td><td>652302</td><td>331.1628490331166</td></tr><tr><td>Kenya</td><td>2018</td><td>Baringo</td><td>Housing and community amenities</td><td>1.1533028070000002E8</td><td>719983</td><td>160.18472755606732</td></tr><tr><td>Kenya</td><td>2018</td><td>Tana River</td><td>Environmental protection</td><td>1.544576E7</td><td>337578</td><td>45.754640409031396</td></tr><tr><td>Kenya</td><td>2019</td><td>Mandera</td><td>General public services</td><td>5.20678576E9</td><td>953313</td><td>5461.779877123254</td></tr><tr><td>Kenya</td><td>2020</td><td>Nairobi City</td><td>Economic affairs</td><td>5.014462527E9</td><td>4984406</td><td>1006.03011211366</td></tr><tr><td>Kenya</td><td>2020</td><td>Nyeri</td><td>Public order and safety</td><td>8.429258724499999E8</td><td>842660</td><td>1000.3155156884152</td></tr><tr><td>Kenya</td><td>2016</td><td>Kwale</td><td>Public order and safety</td><td>2.2954712E7</td><td>872981</td><td>26.294629550929518</td></tr><tr><td>Kenya</td><td>2017</td><td>Kitui</td><td>Economic affairs</td><td>3.2250920372000012E9</td><td>1222018</td><td>2639.1526452147195</td></tr><tr><td>Kenya</td><td>2017</td><td>Homa Bay</td><td>Social protection</td><td>1.582823666E8</td><td>1205544</td><td>131.29538747652512</td></tr><tr><td>Kenya</td><td>2018</td><td>Migori</td><td>Environmental protection</td><td>2.4511875E8</td><td>1203580</td><td>203.658045165257</td></tr><tr><td>Kenya</td><td>2017</td><td>Samburu</td><td>Public order and safety</td><td>8.3164142E7</td><td>318967</td><td>260.72961152721126</td></tr><tr><td>Kenya</td><td>2018</td><td>Samburu</td><td>Health</td><td>8.185072860999999E8</td><td>329613</td><td>2483.237269464493</td></tr><tr><td>Kenya</td><td>2018</td><td>Mombasa</td><td>Education</td><td>5.532712523499999E8</td><td>1294431</td><td>427.42429094327923</td></tr><tr><td>Kenya</td><td>2018</td><td>Nandi</td><td>Education</td><td>3.267624453E8</td><td>958607</td><td>340.8721669046857</td></tr><tr><td>Kenya</td><td>2019</td><td>Mandera</td><td>Health</td><td>5.94048124E8</td><td>953313</td><td>623.1406935602473</td></tr><tr><td>Kenya</td><td>2019</td><td>Kirinyaga</td><td>Recreation, culture and religion</td><td>5.8616637E7</td><td>671452</td><td>87.2983281008918</td></tr><tr><td>Kenya</td><td>2019</td><td>Trans Nzoia</td><td>Recreation, culture and religion</td><td>1.16875428E8</td><td>1088670</td><td>107.35615751329604</td></tr><tr><td>Kenya</td><td>2020</td><td>Makueni</td><td>Housing and community amenities</td><td>2.46760089E8</td><td>1098172</td><td>224.70076545386334</td></tr><tr><td>Kenya</td><td>2020</td><td>Busia</td><td>Social protection</td><td>5.6439749E7</td><td>999906</td><td>56.44505483515451</td></tr><tr><td>Kenya</td><td>2016</td><td>Siaya</td><td>Housing and community amenities</td><td>1.645335107E8</td><td>1039776</td><td>158.2393810782322</td></tr><tr><td>Kenya</td><td>2016</td><td>Nyamira</td><td>General public services</td><td>8.710616975E8</td><td>665205</td><td>1309.4635450725716</td></tr><tr><td>Kenya</td><td>2017</td><td>Migori</td><td>Housing and community amenities</td><td>6349750.0</td><td>1179905</td><td>5.381577330378293</td></tr><tr><td>Kenya</td><td>2017</td><td>Nairobi City</td><td>Economic affairs</td><td>3.09855478505E9</td><td>4509233</td><td>687.1578348357692</td></tr><tr><td>Kenya</td><td>2019</td><td>Nyandarua</td><td>Recreation, culture and religion</td><td>7.7899513E7</td><td>702930</td><td>110.82115288862333</td></tr><tr><td>Kenya</td><td>2019</td><td>Marsabit</td><td>Environmental protection</td><td>8.9910843E7</td><td>503447</td><td>178.59048320875883</td></tr><tr><td>Kenya</td><td>2020</td><td>Garissa</td><td>Health</td><td>1.971196089E9</td><td>1052172</td><td>1873.4542346688563</td></tr><tr><td>Kenya</td><td>2020</td><td>Baringo</td><td>General public services</td><td>1.67998247E9</td><td>745967</td><td>2252.0868483458385</td></tr><tr><td>Kenya</td><td>2020</td><td>Nandi</td><td>Public order and safety</td><td>1.9829758595E8</td><td>989217</td><td>200.45913682235545</td></tr><tr><td>Kenya</td><td>2020</td><td>Marsabit</td><td>Recreation, culture and religion</td><td>1.00066234E8</td><td>526582</td><td>190.02972756379822</td></tr><tr><td>Kenya</td><td>2020</td><td>West Pokot</td><td>Recreation, culture and religion</td><td>4002763.0</td><td>695607</td><td>5.754345485309952</td></tr><tr><td>Kenya</td><td>2017</td><td>Marsabit</td><td>Housing and community amenities</td><td>6.51389367E7</td><td>459531</td><td>141.75090842619977</td></tr><tr><td>Kenya</td><td>2017</td><td>Nyandarua</td><td>Education</td><td>2.090026122E8</td><td>693462</td><td>301.3901442328491</td></tr><tr><td>Kenya</td><td>2017</td><td>Kisii</td><td>Environmental protection</td><td>1.1815497E7</td><td>1368521</td><td>8.633771056490913</td></tr><tr><td>Kenya</td><td>2018</td><td>Kitui</td><td>Social protection</td><td>4.3727352E7</td><td>1236405</td><td>35.36652795807199</td></tr><tr><td>Kenya</td><td>2019</td><td>Siaya</td><td>Health</td><td>1.904139506E9</td><td>1092216</td><td>1743.3726533945667</td></tr><tr><td>Kenya</td><td>2019</td><td>Nyamira</td><td>Social protection</td><td>1.15437504E8</td><td>667466</td><td>172.94889028055363</td></tr><tr><td>Kenya</td><td>2020</td><td>Garissa</td><td>Economic affairs</td><td>9.17724113E8</td><td>1052172</td><td>872.2187180422973</td></tr><tr><td>Kenya</td><td>2020</td><td>West Pokot</td><td>Environmental protection</td><td>7983139.0</td><td>695607</td><td>11.476507568210211</td></tr><tr><td>Kenya</td><td>2016</td><td>Uasin Gishu</td><td>General public services</td><td>1.5684595059E9</td><td>1180687</td><td>1328.4295549116744</td></tr><tr><td>Kenya</td><td>2017</td><td>Tana River</td><td>Housing and community amenities</td><td>4.7717945E7</td><td>328361</td><td>145.32159726642323</td></tr><tr><td>Kenya</td><td>2017</td><td>Tana River</td><td>Health</td><td>9.578789727E8</td><td>328361</td><td>2917.152075611903</td></tr><tr><td>Kenya</td><td>2017</td><td>Wajir</td><td>General public services</td><td>2.0580533593499997E9</td><td>823531</td><td>2499.059973880764</td></tr><tr><td>Kenya</td><td>2017</td><td>Kiambu</td><td>General public services</td><td>3.1258158642000003E9</td><td>2447130</td><td>1277.3395218889068</td></tr><tr><td>Kenya</td><td>2017</td><td>Trans Nzoia</td><td>General public services</td><td>1.25182134955E9</td><td>1048071</td><td>1194.4051018967225</td></tr><tr><td>Kenya</td><td>2018</td><td>Samburu</td><td>General public services</td><td>1.6766791085500002E9</td><td>329613</td><td>5086.81122574049</td></tr><tr><td>Kenya</td><td>2018</td><td>Isiolo</td><td>Social protection</td><td>2.1043376E7</td><td>275035</td><td>76.51162942898176</td></tr><tr><td>Kenya</td><td>2018</td><td>Turkana</td><td>Social protection</td><td>4.36379088E7</td><td>997968</td><td>43.7267615795296</td></tr><tr><td>Kenya</td><td>2019</td><td>Tana River</td><td>Housing and community amenities</td><td>1.385227568E8</td><td>346887</td><td>399.3310697720007</td></tr><tr><td>Kenya</td><td>2019</td><td>Machakos</td><td>Economic affairs</td><td>8.123703661149999E9</td><td>1561560</td><td>5202.3000468441805</td></tr><tr><td>Kenya</td><td>2019</td><td>Samburu</td><td>General public services</td><td>1.488732623E9</td><td>340457</td><td>4372.74787418088</td></tr><tr><td>Kenya</td><td>2019</td><td>Migori</td><td>Recreation, culture and religion</td><td>7.5822278E7</td><td>1227169</td><td>61.78633749711735</td></tr><tr><td>Kenya</td><td>2020</td><td>Busia</td><td>Health</td><td>2.399475249E9</td><td>999906</td><td>2399.7008208771626</td></tr><tr><td>Kenya</td><td>2016</td><td>Baringo</td><td>Housing and community amenities</td><td>2.0060027354999998E8</td><td>694159</td><td>288.9831775573031</td></tr><tr><td>Kenya</td><td>2016</td><td>Kitui</td><td>Public order and safety</td><td>2.7700206E7</td><td>1208265</td><td>22.925604896276894</td></tr><tr><td>Kenya</td><td>2017</td><td>Mandera</td><td>Health</td><td>8.2417474065E8</td><td>914409</td><td>901.3195852731108</td></tr><tr><td>Kenya</td><td>2017</td><td>Nyandarua</td><td>Public order and safety</td><td>1.63587882E8</td><td>693462</td><td>235.90028292826426</td></tr><tr><td>Kenya</td><td>2019</td><td>Samburu</td><td>Recreation, culture and religion</td><td>1.13898723E8</td><td>340457</td><td>334.54657416355076</td></tr><tr><td>Kenya</td><td>2019</td><td>Mombasa</td><td>Public order and safety</td><td>6.218577534000001E8</td><td>1327105</td><td>468.58217955625224</td></tr><tr><td>Kenya</td><td>2019</td><td>Murang’A</td><td>Public order and safety</td><td>3.5654016015E8</td><td>1162856</td><td>306.6073186619839</td></tr><tr><td>Kenya</td><td>2020</td><td>Murang’A</td><td>Recreation, culture and religion</td><td>6.9532261E7</td><td>1175266</td><td>59.1629988445169</td></tr><tr><td>Kenya</td><td>2020</td><td>Kisii</td><td>Education</td><td>3.34570702E8</td><td>1406733</td><td>237.83525516213808</td></tr><tr><td>Kenya</td><td>2016</td><td>Busia</td><td>Economic affairs</td><td>1.8308400500499997E9</td><td>930129</td><td>1968.372182837004</td></tr><tr><td>Kenya</td><td>2017</td><td>Kwale</td><td>Housing and community amenities</td><td>2.113816862E8</td><td>898319</td><td>235.3080433565359</td></tr><tr><td>Kenya</td><td>2017</td><td>Siaya</td><td>General public services</td><td>1.6711916260999997E9</td><td>1056857</td><td>1581.2845314929075</td></tr><tr><td>Kenya</td><td>2018</td><td>Machakos</td><td>Housing and community amenities</td><td>-2216181.0</td><td>1522169</td><td>-1.455936233098953</td></tr><tr><td>Kenya</td><td>2018</td><td>Elgeyo Marakwet</td><td>Housing and community amenities</td><td>3.527095552E8</td><td>489448</td><td>720.6272274072015</td></tr><tr><td>Kenya</td><td>2018</td><td>Kakamega</td><td>Education</td><td>4.532136735E8</td><td>2031790</td><td>223.06127774031765</td></tr><tr><td>Kenya</td><td>2018</td><td>Kilifi</td><td>Environmental protection</td><td>3400155.0</td><td>1554127</td><td>2.1878231315716152</td></tr><tr><td>Kenya</td><td>2019</td><td>Kajiado</td><td>Housing and community amenities</td><td>3038255.0</td><td>1223473</td><td>2.483303677318584</td></tr><tr><td>Kenya</td><td>2020</td><td>Kilifi</td><td>Recreation, culture and religion</td><td>9.3361268E7</td><td>1638699</td><td>56.9727985432346</td></tr><tr><td>Kenya</td><td>2020</td><td>Nyeri</td><td>Economic affairs</td><td>1.87095832795E9</td><td>842660</td><td>2220.3003915576865</td></tr><tr><td>Kenya</td><td>2016</td><td>Tana River</td><td>Recreation, culture and religion</td><td>3.729321805E7</td><td>319535</td><td>116.7109019356252</td></tr><tr><td>Kenya</td><td>2016</td><td>Kajiado</td><td>Health</td><td>1.34447427535E9</td><td>1057819</td><td>1270.987073733786</td></tr><tr><td>Kenya</td><td>2016</td><td>Nairobi City</td><td>Health</td><td>1.2196252470499997E9</td><td>4360681</td><td>279.6868762126832</td></tr><tr><td>Kenya</td><td>2016</td><td>Homa Bay</td><td>Social protection</td><td>2.06605482E7</td><td>1186528</td><td>17.41260905768764</td></tr><tr><td>Kenya</td><td>2017</td><td>Kwale</td><td>Education</td><td>1.4655396263000002E9</td><td>898319</td><td>1631.424500984617</td></tr><tr><td>Kenya</td><td>2017</td><td>Homa Bay</td><td>Education</td><td>3.1058011685E8</td><td>1205544</td><td>257.6265294754899</td></tr><tr><td>Kenya</td><td>2017</td><td>Meru</td><td>Public order and safety</td><td>3.93276144E8</td><td>1656898</td><td>237.35688256006102</td></tr><tr><td>Kenya</td><td>2018</td><td>Wajir</td><td>Public order and safety</td><td>6.4896626E7</td><td>841065</td><td>77.16006016181865</td></tr><tr><td>Kenya</td><td>2018</td><td>Mombasa</td><td>Environmental protection</td><td>6.0E7</td><td>1294431</td><td>46.35241275896514</td></tr><tr><td>Kenya</td><td>2019</td><td>Kisumu</td><td>Environmental protection</td><td>1.2235625E8</td><td>1270584</td><td>96.29922146036783</td></tr><tr><td>Kenya</td><td>2019</td><td>Laikipia</td><td>Public order and safety</td><td>2.15280254E8</td><td>569446</td><td>378.0520962479322</td></tr><tr><td>Kenya</td><td>2020</td><td>Kiambu</td><td>Recreation, culture and religion</td><td>2.06730658E8</td><td>2754995</td><td>75.03848754716434</td></tr><tr><td>Kenya</td><td>2016</td><td>Wajir</td><td>Economic affairs</td><td>4.0608141754499993E9</td><td>806684</td><td>5033.958991934884</td></tr><tr><td>Kenya</td><td>2016</td><td>Marsabit</td><td>Environmental protection</td><td>1.3080868335E8</td><td>439105</td><td>297.8984146160941</td></tr><tr><td>Kenya</td><td>2016</td><td>Kiambu</td><td>General public services</td><td>2.4785861557999997E9</td><td>2352106</td><td>1053.7731529956557</td></tr><tr><td>Kenya</td><td>2017</td><td>Bomet</td><td>Education</td><td>2.221232552E8</td><td>926793</td><td>239.66868027704135</td></tr><tr><td>Kenya</td><td>2018</td><td>Marsabit</td><td>Social protection</td><td>4.42543139E7</td><td>481101</td><td>91.9854955612231</td></tr><tr><td>Kenya</td><td>2019</td><td>Nyeri</td><td>Economic affairs</td><td>2.42655996955E9</td><td>835770</td><td>2903.3824731086306</td></tr><tr><td>Kenya</td><td>2019</td><td>Narok</td><td>Education</td><td>1.0631404023E9</td><td>1270631</td><td>836.7027109365347</td></tr><tr><td>Kenya</td><td>2020</td><td>Meru</td><td>Housing and community amenities</td><td>7.9448104E7</td><td>1721672</td><td>46.14590003206185</td></tr><tr><td>Kenya</td><td>2020</td><td>Kirinyaga</td><td>Health</td><td>2.344748459E9</td><td>680714</td><td>3444.5427286643144</td></tr><tr><td>Kenya</td><td>2020</td><td>Kakamega</td><td>Housing and community amenities</td><td>4.0492288E7</td><td>2077815</td><td>19.487917836766027</td></tr><tr><td>Kenya</td><td>2018</td><td>Mandera</td><td>Education</td><td>2.37575102605E9</td><td>933865</td><td>2543.998357417828</td></tr><tr><td>Kenya</td><td>2019</td><td>Trans Nzoia</td><td>Economic affairs</td><td>2.54068212845E9</td><td>1088670</td><td>2333.748636822912</td></tr><tr><td>Kenya</td><td>2019</td><td>Nairobi City</td><td>Environmental protection</td><td>9767700.0</td><td>4823078</td><td>2.025200504739919</td></tr><tr><td>Kenya</td><td>2019</td><td>Mandera</td><td>Public order and safety</td><td>2.64100461E8</td><td>953313</td><td>277.03436436930997</td></tr><tr><td>Kenya</td><td>2020</td><td>Laikipia</td><td>Housing and community amenities</td><td>0.0</td><td>584082</td><td>0.0</td></tr><tr><td>Kenya</td><td>2016</td><td>Kilifi</td><td>Public order and safety</td><td>5.59257885E7</td><td>1472402</td><td>37.98268984964704</td></tr><tr><td>Kenya</td><td>2017</td><td>Kisii</td><td>Housing and community amenities</td><td>4.454003723E8</td><td>1368521</td><td>325.461116270777</td></tr><tr><td>Kenya</td><td>2017</td><td>Nyamira</td><td>Recreation, culture and religion</td><td>2.1216930464999998E8</td><td>665887</td><td>318.62659077290886</td></tr><tr><td>Kenya</td><td>2018</td><td>Meru</td><td>Economic affairs</td><td>1.5730794793E9</td><td>1679035</td><td>936.894989860247</td></tr><tr><td>Kenya</td><td>2018</td><td>Meru</td><td>Recreation, culture and religion</td><td>1.452704462E8</td><td>1679035</td><td>86.52020130610737</td></tr><tr><td>Kenya</td><td>2019</td><td>Murang’A</td><td>Recreation, culture and religion</td><td>1.84967844E8</td><td>1162856</td><td>159.063412838735</td></tr><tr><td>Kenya</td><td>2019</td><td>Kwale</td><td>Public order and safety</td><td>1.8853743955E8</td><td>951518</td><td>198.14384966968572</td></tr><tr><td>Kenya</td><td>2016</td><td>Nairobi City</td><td>Public order and safety</td><td>1.6455445745E8</td><td>4360681</td><td>37.73595395994341</td></tr><tr><td>Kenya</td><td>2017</td><td>Mombasa</td><td>Recreation, culture and religion</td><td>5.1851778650000006E8</td><td>1261992</td><td>410.872482947594</td></tr><tr><td>Kenya</td><td>2017</td><td>Wajir</td><td>Housing and community amenities</td><td>1167334.75</td><td>823531</td><td>1.4174751770121585</td></tr><tr><td>Kenya</td><td>2018</td><td>Garissa</td><td>Social protection</td><td>6.3914834E7</td><td>973522</td><td>65.65319941408617</td></tr><tr><td>Kenya</td><td>2018</td><td>Kisii</td><td>Social protection</td><td>2.5209143385E8</td><td>1381816</td><td>182.43487834125528</td></tr><tr><td>Kenya</td><td>2019</td><td>Taita Taveta</td><td>Health</td><td>3.03410589E8</td><td>374561</td><td>810.0431945664391</td></tr><tr><td>Kenya</td><td>2019</td><td>Nairobi City</td><td>Social protection</td><td>7.98781807E7</td><td>4823078</td><td>16.56166056198967</td></tr><tr><td>Kenya</td><td>2020</td><td>Kilifi</td><td>General public services</td><td>2.581250566E9</td><td>1638699</td><td>1575.1828529827626</td></tr><tr><td>Kenya</td><td>2020</td><td>Trans Nzoia</td><td>Economic affairs</td><td>2.3564224807E9</td><td>1108719</td><td>2125.355911371592</td></tr><tr><td>Kenya</td><td>2020</td><td>Trans Nzoia</td><td>Housing and community amenities</td><td>4.999509E7</td><td>1108719</td><td>45.09266098984504</td></tr><tr><td>Kenya</td><td>2016</td><td>Meru</td><td>Education</td><td>4.7174805625000006E8</td><td>1635681</td><td>288.410794189087</td></tr><tr><td>Kenya</td><td>2016</td><td>Baringo</td><td>Health</td><td>1.6174454823500004E9</td><td>694159</td><td>2330.0792503590683</td></tr><tr><td>Kenya</td><td>2016</td><td>Homa Bay</td><td>Environmental protection</td><td>0.0</td><td>1186528</td><td>0.0</td></tr><tr><td>Kenya</td><td>2017</td><td>Machakos</td><td>Education</td><td>2.283317803E8</td><td>1483106</td><td>153.9551322022836</td></tr><tr><td>Kenya</td><td>2017</td><td>Narok</td><td>General public services</td><td>2.96543398345E9</td><td>1194799</td><td>2481.9521806178277</td></tr><tr><td>Kenya</td><td>2018</td><td>Kajiado</td><td>Economic affairs</td><td>1.24541376645E9</td><td>1165768</td><td>1068.3204260624757</td></tr><tr><td>Kenya</td><td>2018</td><td>Garissa</td><td>Education</td><td>4.8990575305E8</td><td>973522</td><td>503.2302845236163</td></tr><tr><td>Kenya</td><td>2018</td><td>Garissa</td><td>Public order and safety</td><td>6.7434492E8</td><td>973522</td><td>692.6858560977564</td></tr><tr><td>Kenya</td><td>2019</td><td>Kirinyaga</td><td>Social protection</td><td>2.59734099E8</td><td>671452</td><td>386.82452208050614</td></tr><tr><td>Kenya</td><td>2019</td><td>Nairobi City</td><td>Housing and community amenities</td><td>1.10283051E8</td><td>4823078</td><td>22.865699248488205</td></tr><tr><td>Kenya</td><td>2019</td><td>Kilifi</td><td>Public order and safety</td><td>3.8906525665E8</td><td>1596266</td><td>243.73460103140704</td></tr><tr><td>Kenya</td><td>2019</td><td>West Pokot</td><td>Public order and safety</td><td>2.557689935E8</td><td>682913</td><td>374.5264675002526</td></tr><tr><td>Kenya</td><td>2020</td><td>Embu</td><td>Housing and community amenities</td><td>4.9870152E7</td><td>679843</td><td>73.35539528979486</td></tr><tr><td>Kenya</td><td>2020</td><td>Nyandarua</td><td>Housing and community amenities</td><td>5.15328321E8</td><td>707150</td><td>728.7397595983879</td></tr><tr><td>Kenya</td><td>2020</td><td>West Pokot</td><td>Economic affairs</td><td>1.2773842372E9</td><td>695607</td><td>1836.3590895433772</td></tr><tr><td>Kenya</td><td>2020</td><td>Bomet</td><td>Environmental protection</td><td>5.04721308E8</td><td>980330</td><td>514.8483755470097</td></tr><tr><td>Kenya</td><td>2016</td><td>Samburu</td><td>Environmental protection</td><td>5.423767595000001E7</td><td>308797</td><td>175.6418486902399</td></tr><tr><td>Kenya</td><td>2016</td><td>Kajiado</td><td>Environmental protection</td><td>3.736561061E8</td><td>1057819</td><td>353.2325531116382</td></tr><tr><td>Kenya</td><td>2017</td><td>West Pokot</td><td>Education</td><td>6.022407930999999E8</td><td>657207</td><td>916.3639357158397</td></tr><tr><td>Kenya</td><td>2017</td><td>Samburu</td><td>General public services</td><td>1.4575685291999998E9</td><td>318967</td><td>4569.653065050616</td></tr><tr><td>Kenya</td><td>2017</td><td>Kajiado</td><td>Economic affairs</td><td>1.6469410851E9</td><td>1110272</td><td>1483.367215511154</td></tr><tr><td>Kenya</td><td>2017</td><td>Homa Bay</td><td>General public services</td><td>2.10355737035E9</td><td>1205544</td><td>1744.90302332391</td></tr><tr><td>Kenya</td><td>2017</td><td>Lamu</td><td>Public order and safety</td><td>1.289669452E8</td><td>147217</td><td>876.0329663014462</td></tr><tr><td>Kenya</td><td>2017</td><td>Wajir</td><td>Public order and safety</td><td>1.7269038735E8</td><td>823531</td><td>209.69506594165853</td></tr><tr><td>Kenya</td><td>2019</td><td>Wajir</td><td>General public services</td><td>2.789261905E9</td><td>858572</td><td>3248.722186374585</td></tr><tr><td>Kenya</td><td>2019</td><td>Kitui</td><td>Health</td><td>3.393578845E9</td><td>1250389</td><td>2714.018473451062</td></tr><tr><td>Kenya</td><td>2020</td><td>Wajir</td><td>Economic affairs</td><td>4.1293832543E9</td><td>875989</td><td>4713.9670181931515</td></tr><tr><td>Kenya</td><td>2020</td><td>Kisumu</td><td>Social protection</td><td>1.59911643E8</td><td>1292152</td><td>123.75606198032429</td></tr><tr><td>Kenya</td><td>2016</td><td>Baringo</td><td>Social protection</td><td>2.253270665E7</td><td>694159</td><td>32.46044011530499</td></tr><tr><td>Kenya</td><td>2017</td><td>Uasin Gishu</td><td>Health</td><td>1.61029996985E9</td><td>1211922</td><td>1328.7158495761278</td></tr><tr><td>Kenya</td><td>2017</td><td>Mombasa</td><td>Public order and safety</td><td>3.75885225E8</td><td>1261992</td><td>297.85071933894983</td></tr><tr><td>Kenya</td><td>2019</td><td>Meru</td><td>Economic affairs</td><td>2.97562481385E9</td><td>1700686</td><td>1749.6614976838757</td></tr><tr><td>Kenya</td><td>2019</td><td>Makueni</td><td>General public services</td><td>2.380689647E9</td><td>1087010</td><td>2190.1267210053265</td></tr><tr><td>Kenya</td><td>2019</td><td>Murang’A</td><td>General public services</td><td>4.945186756E9</td><td>1162856</td><td>4252.621782920671</td></tr><tr><td>Kenya</td><td>2020</td><td>Bungoma</td><td>Education</td><td>1.438418392E9</td><td>1870968</td><td>768.809724164176</td></tr><tr><td>Kenya</td><td>2016</td><td>Kakamega</td><td>Health</td><td>2.4406065470499997E9</td><td>1984614</td><td>1229.76384679842</td></tr><tr><td>Kenya</td><td>2017</td><td>Wajir</td><td>Education</td><td>6.051899685999999E8</td><td>823531</td><td>734.8721160466332</td></tr><tr><td>Kenya</td><td>2017</td><td>Kitui</td><td>Housing and community amenities</td><td>3.4136002879999995E8</td><td>1222018</td><td>279.3412444006553</td></tr><tr><td>Kenya</td><td>2017</td><td>Elgeyo Marakwet</td><td>Housing and community amenities</td><td>3.876824065E7</td><td>479383</td><td>80.87112110775726</td></tr><tr><td>Kenya</td><td>2017</td><td>Kakamega</td><td>Education</td><td>4.960867997E8</td><td>2007676</td><td>247.0950490517394</td></tr><tr><td>Kenya</td><td>2017</td><td>Nandi</td><td>Social protection</td><td>1.7772653145000002E8</td><td>942976</td><td>188.47407722996132</td></tr><tr><td>Kenya</td><td>2017</td><td>Bungoma</td><td>Social protection</td><td>2.4790974E7</td><td>1766291</td><td>14.03561134603528</td></tr><tr><td>Kenya</td><td>2018</td><td>Nairobi City</td><td>Health</td><td>5.4858516903E9</td><td>4664602</td><td>1176.059970454071</td></tr><tr><td>Kenya</td><td>2018</td><td>Isiolo</td><td>Education</td><td>1.8637259585E8</td><td>275035</td><td>677.6322862544766</td></tr><tr><td>Kenya</td><td>2019</td><td>Elgeyo Marakwet</td><td>Economic affairs</td><td>1.294908241E9</td><td>499495</td><td>2592.4348411896017</td></tr><tr><td>Kenya</td><td>2020</td><td>Siaya</td><td>Health</td><td>2.263419789E9</td><td>1109487</td><td>2040.0597654591716</td></tr><tr><td>Kenya</td><td>2016</td><td>Embu</td><td>Health</td><td>1.8988638717999997E9</td><td>637167</td><td>2980.166693818104</td></tr><tr><td>Kenya</td><td>2016</td><td>Kiambu</td><td>Recreation, culture and religion</td><td>2.0531953045E8</td><td>2352106</td><td>87.29178466021514</td></tr><tr><td>Kenya</td><td>2016</td><td>Kakamega</td><td>Economic affairs</td><td>2.2611560192500005E9</td><td>1984614</td><td>1139.342975132696</td></tr><tr><td>Kenya</td><td>2017</td><td>Busia</td><td>Recreation, culture and religion</td><td>1.6050986305E8</td><td>947172</td><td>169.46221282934886</td></tr><tr><td>Kenya</td><td>2017</td><td>Siaya</td><td>Economic affairs</td><td>1.6143827935999997E9</td><td>1056857</td><td>1527.5319116966625</td></tr><tr><td>Kenya</td><td>2018</td><td>Kericho</td><td>Economic affairs</td><td>1.4163022996499999E9</td><td>974777</td><td>1452.9500589878503</td></tr><tr><td>Kenya</td><td>2018</td><td>Bomet</td><td>Education</td><td>1.426306182E8</td><td>944760</td><td>150.97021275244506</td></tr><tr><td>Kenya</td><td>2018</td><td>Nyamira</td><td>Education</td><td>5.8283308545E8</td><td>666829</td><td>874.0368002141479</td></tr><tr><td>Kenya</td><td>2019</td><td>Narok</td><td>Recreation, culture and religion</td><td>2.43843449E8</td><td>1270631</td><td>191.90736649743317</td></tr><tr><td>Kenya</td><td>2019</td><td>Nyamira</td><td>Environmental protection</td><td>1.25642518E8</td><td>667466</td><td>188.23807954262838</td></tr><tr><td>Kenya</td><td>2020</td><td>Meru</td><td>Economic affairs</td><td>2.6433852429500003E9</td><td>1721672</td><td>1535.3593733010703</td></tr><tr><td>Kenya</td><td>2020</td><td>Kitui</td><td>Public order and safety</td><td>4.0899144325E8</td><td>1263831</td><td>323.6124475899072</td></tr><tr><td>Kenya</td><td>2020</td><td>West Pokot</td><td>Housing and community amenities</td><td>1.461685E7</td><td>695607</td><td>21.0130864122989</td></tr><tr><td>Kenya</td><td>2020</td><td>Nyamira</td><td>Social protection</td><td>1.0418191E8</td><td>667704</td><td>156.0300821921091</td></tr><tr><td>Kenya</td><td>2016</td><td>Trans Nzoia</td><td>Economic affairs</td><td>1.6880555158500001E9</td><td>1028502</td><td>1641.2758709754576</td></tr><tr><td>Kenya</td><td>2016</td><td>Kericho</td><td>Economic affairs</td><td>1.51995904425E9</td><td>941559</td><td>1614.300372308055</td></tr><tr><td>Kenya</td><td>2016</td><td>Kisumu</td><td>Social protection</td><td>3.21745366E7</td><td>1205448</td><td>26.690936979446647</td></tr><tr><td>Kenya</td><td>2017</td><td>Kericho</td><td>Housing and community amenities</td><td>3.732025275E7</td><td>957838</td><td>38.963011229456335</td></tr><tr><td>Kenya</td><td>2017</td><td>Narok</td><td>Public order and safety</td><td>1.05958323E8</td><td>1194799</td><td>88.68296926930806</td></tr><tr><td>Kenya</td><td>2018</td><td>Marsabit</td><td>Housing and community amenities</td><td>9.2836E7</td><td>481101</td><td>192.9657182171727</td></tr><tr><td>Kenya</td><td>2018</td><td>Garissa</td><td>Health</td><td>1.9041781375499997E9</td><td>973522</td><td>1955.9682652780314</td></tr><tr><td>Kenya</td><td>2018</td><td>Bungoma</td><td>Health</td><td>2.571767654E9</td><td>1801381</td><td>1427.6644718690827</td></tr><tr><td>Kenya</td><td>2018</td><td>Machakos</td><td>Recreation, culture and religion</td><td>4.27399183E7</td><td>1522169</td><td>28.078300306996134</td></tr><tr><td>Kenya</td><td>2018</td><td>Nyandarua</td><td>Recreation, culture and religion</td><td>7.2113773E7</td><td>698341</td><td>103.26441237160643</td></tr><tr><td>Kenya</td><td>2018</td><td>Narok</td><td>Recreation, culture and religion</td><td>2.117486035E8</td><td>1232410</td><td>171.81668722259639</td></tr><tr><td>Kenya</td><td>2019</td><td>Wajir</td><td>Health</td><td>2.320523171E9</td><td>858572</td><td>2702.7706132974286</td></tr><tr><td>Kenya</td><td>2019</td><td>Tharaka Nithi</td><td>Economic affairs</td><td>1.234427397E9</td><td>432967</td><td>2851.0888751336706</td></tr><tr><td>Kenya</td><td>2019</td><td>Nandi</td><td>Health</td><td>2.370984711E9</td><td>974055</td><td>2434.1384326347074</td></tr><tr><td>Kenya</td><td>2019</td><td>Taita Taveta</td><td>Public order and safety</td><td>2.910755995E8</td><td>374561</td><td>777.1113370051874</td></tr><tr><td>Kenya</td><td>2019</td><td>Narok</td><td>Public order and safety</td><td>3.4062672315E8</td><td>1270631</td><td>268.0768241527241</td></tr><tr><td>Kenya</td><td>2020</td><td>Elgeyo Marakwet</td><td>Economic affairs</td><td>1.5534395468E9</td><td>509480</td><td>3049.0687500981394</td></tr><tr><td>Kenya</td><td>2020</td><td>Migori</td><td>Health</td><td>2.492524451E9</td><td>1250557</td><td>1993.131421438607</td></tr><tr><td>Kenya</td><td>2016</td><td>Busia</td><td>Housing and community amenities</td><td>1.7746410260000002E8</td><td>930129</td><td>190.79515056513668</td></tr><tr><td>Kenya</td><td>2017</td><td>West Pokot</td><td>Social protection</td><td>3.3549571795E8</td><td>657207</td><td>510.4871341145179</td></tr><tr><td>Kenya</td><td>2017</td><td>Uasin Gishu</td><td>Economic affairs</td><td>1.7807561285500004E9</td><td>1211922</td><td>1469.3652962401875</td></tr><tr><td>Kenya</td><td>2017</td><td>Vihiga</td><td>Environmental protection</td><td>6.6450143E7</td><td>641879</td><td>103.52440724809505</td></tr><tr><td>Kenya</td><td>2017</td><td>Kisumu</td><td>Economic affairs</td><td>3.367890838099998E9</td><td>1226647</td><td>2745.6072024796035</td></tr><tr><td>Kenya</td><td>2017</td><td>Homa Bay</td><td>Housing and community amenities</td><td>1.4059168335E8</td><td>1205544</td><td>116.62094734825108</td></tr><tr><td>Kenya</td><td>2017</td><td>Migori</td><td>Social protection</td><td>2.280849116E8</td><td>1179905</td><td>193.3078608871053</td></tr><tr><td>Kenya</td><td>2017</td><td>Siaya</td><td>Social protection</td><td>3.123900975E7</td><td>1056857</td><td>29.558407381509515</td></tr><tr><td>Kenya</td><td>2018</td><td>Nyandarua</td><td>Housing and community amenities</td><td>2.734225468E8</td><td>698341</td><td>391.5315681021163</td></tr><tr><td>Kenya</td><td>2018</td><td>Nandi</td><td>Health</td><td>1.52189102455E9</td><td>958607</td><td>1587.6068342396832</td></tr><tr><td>Kenya</td><td>2018</td><td>Nandi</td><td>General public services</td><td>2.06539304685E9</td><td>958607</td><td>2154.577472154908</td></tr><tr><td>Kenya</td><td>2019</td><td>Machakos</td><td>General public services</td><td>1.632415848E9</td><td>1561560</td><td>1045.3750403442712</td></tr><tr><td>Kenya</td><td>2019</td><td>Nyandarua</td><td>Public order and safety</td><td>2.81180689E8</td><td>702930</td><td>400.01236111703867</td></tr><tr><td>Kenya</td><td>2020</td><td>Homa Bay</td><td>Economic affairs</td><td>2.1925004554E9</td><td>1264071</td><td>1734.4757180569763</td></tr><tr><td>Kenya</td><td>2020</td><td>Nyamira</td><td>Recreation, culture and religion</td><td>5.3071464E7</td><td>667704</td><td>79.48351964343482</td></tr><tr><td>Kenya</td><td>2016</td><td>Narok</td><td>General public services</td><td>3.2303743682500005E9</td><td>1158782</td><td>2787.732609110256</td></tr><tr><td>Kenya</td><td>2016</td><td>Nyamira</td><td>Recreation, culture and religion</td><td>8.215908125E7</td><td>665205</td><td>123.50941627017235</td></tr><tr><td>Kenya</td><td>2017</td><td>Kwale</td><td>Environmental protection</td><td>2.4805377975E8</td><td>898319</td><td>276.13106229524254</td></tr><tr><td>Kenya</td><td>2017</td><td>Taita Taveta</td><td>General public services</td><td>2.07043871075E9</td><td>361353</td><td>5729.6845764391055</td></tr><tr><td>Kenya</td><td>2020</td><td>Isiolo</td><td>Public order and safety</td><td>1.1735774494999999E8</td><td>311403</td><td>376.8677403557448</td></tr><tr><td>Kenya</td><td>2016</td><td>Lamu</td><td>Economic affairs</td><td>4.8458995335E8</td><td>142194</td><td>3407.9493744461793</td></tr><tr><td>Kenya</td><td>2016</td><td>Bomet</td><td>Education</td><td>4.033582845500001E8</td><td>909525</td><td>443.4823501827878</td></tr><tr><td>Kenya</td><td>2016</td><td>Kakamega</td><td>Housing and community amenities</td><td>6.557630455E7</td><td>1984614</td><td>33.04234705086228</td></tr><tr><td>Kenya</td><td>2016</td><td>Mombasa</td><td>Public order and safety</td><td>1.357209313E8</td><td>1230848</td><td>110.26619964447276</td></tr><tr><td>Kenya</td><td>2017</td><td>Nakuru</td><td>Social protection</td><td>2.989601357E8</td><td>2235441</td><td>133.73653596762338</td></tr><tr><td>Kenya</td><td>2017</td><td>Mandera</td><td>Public order and safety</td><td>1.56777611E8</td><td>914409</td><td>171.45239274766544</td></tr><tr><td>Kenya</td><td>2017</td><td>Machakos</td><td>Public order and safety</td><td>2.90161894E8</td><td>1483106</td><td>195.6447442057412</td></tr><tr><td>Kenya</td><td>2018</td><td>Migori</td><td>Housing and community amenities</td><td>5.7039425E7</td><td>1203580</td><td>47.391469615646656</td></tr><tr><td>Kenya</td><td>2019</td><td>Laikipia</td><td>General public services</td><td>4.020479874E9</td><td>569446</td><td>7060.335613912469</td></tr><tr><td>Kenya</td><td>2019</td><td>Kakamega</td><td>General public services</td><td>6.8022687115E9</td><td>2055240</td><td>3309.7198923240107</td></tr><tr><td>Kenya</td><td>2020</td><td>Tharaka Nithi</td><td>Economic affairs</td><td>9.537463817E8</td><td>435803</td><td>2188.480532947226</td></tr><tr><td>Kenya</td><td>2020</td><td>Kiambu</td><td>Economic affairs</td><td>5.7862066695E9</td><td>2754995</td><td>2100.2603160804283</td></tr><tr><td>Kenya</td><td>2020</td><td>Turkana</td><td>Recreation, culture and religion</td><td>1.79040127E8</td><td>1039404</td><td>172.25268230639867</td></tr><tr><td>Kenya</td><td>2020</td><td>Nairobi City</td><td>Environmental protection</td><td>8.42105346E8</td><td>4984406</td><td>168.94798417303886</td></tr><tr><td>Kenya</td><td>2016</td><td>Kitui</td><td>Environmental protection</td><td>7.806075385000001E7</td><td>1208265</td><td>64.60565674748504</td></tr><tr><td>Kenya</td><td>2016</td><td>Nyeri</td><td>General public services</td><td>1.1936575664999995E9</td><td>813608</td><td>1467.1163096970524</td></tr><tr><td>Kenya</td><td>2016</td><td>Kirinyaga</td><td>Public order and safety</td><td>4.449058195E7</td><td>643037</td><td>69.18821459729378</td></tr><tr><td>Kenya</td><td>2016</td><td>Lamu</td><td>Public order and safety</td><td>3.28458573E7</td><td>142194</td><td>230.9932718680113</td></tr><tr><td>Kenya</td><td>2017</td><td>Kitui</td><td>Recreation, culture and religion</td><td>1.5049965200000003E8</td><td>1222018</td><td>123.15665726691427</td></tr><tr><td>Kenya</td><td>2017</td><td>Mombasa</td><td>Social protection</td><td>3.56932752E7</td><td>1261992</td><td>28.28328166898047</td></tr><tr><td>Kenya</td><td>2017</td><td>Elgeyo Marakwet</td><td>Public order and safety</td><td>9.3443587E7</td><td>479383</td><td>194.92469904022462</td></tr><tr><td>Kenya</td><td>2018</td><td>Kajiado</td><td>Education</td><td>6.2371536395E8</td><td>1165768</td><td>535.0252914387769</td></tr><tr><td>Kenya</td><td>2018</td><td>Uasin Gishu</td><td>Social protection</td><td>2.7142673E7</td><td>1244465</td><td>21.810716251561917</td></tr><tr><td>Kenya</td><td>2018</td><td>Nandi</td><td>Recreation, culture and religion</td><td>1.013066203E8</td><td>958607</td><td>105.68107712545391</td></tr><tr><td>Kenya</td><td>2019</td><td>Meru</td><td>General public services</td><td>2.916277654E9</td><td>1700686</td><td>1714.7654852218457</td></tr><tr><td>Kenya</td><td>2020</td><td>Turkana</td><td>Environmental protection</td><td>3.09824572E8</td><td>1039404</td><td>298.07906454083303</td></tr><tr><td>Kenya</td><td>2016</td><td>Turkana</td><td>General public services</td><td>2.1948669348500004E9</td><td>957176</td><td>2293.0651571393355</td></tr><tr><td>Kenya</td><td>2016</td><td>Nakuru</td><td>Economic affairs</td><td>2.9238497573999987E9</td><td>2170005</td><td>1347.3930969744304</td></tr><tr><td>Kenya</td><td>2017</td><td>Tharaka Nithi</td><td>Health</td><td>1.48164755E8</td><td>426670</td><td>347.25843157475333</td></tr><tr><td>Kenya</td><td>2017</td><td>Kitui</td><td>General public services</td><td>3.2926966206499996E9</td><td>1222018</td><td>2694.4747300367094</td></tr><tr><td>Kenya</td><td>2018</td><td>Kiambu</td><td>Health</td><td>4.2143327428999996E9</td><td>2546938</td><td>1654.6664044825588</td></tr><tr><td>Kenya</td><td>2018</td><td>Nyamira</td><td>General public services</td><td>1.0486840463999999E9</td><td>666829</td><td>1572.643130997602</td></tr><tr><td>Kenya</td><td>2019</td><td>Kiambu</td><td>Recreation, culture and religion</td><td>1.76918828E8</td><td>2649591</td><td>66.77212747174941</td></tr><tr><td>Kenya</td><td>2019</td><td>Turkana</td><td>Social protection</td><td>1.031095655E8</td><td>1018738</td><td>101.2130356382112</td></tr><tr><td>Kenya</td><td>2019</td><td>Elgeyo Marakwet</td><td>Education</td><td>6.38666791E8</td><td>499495</td><td>1278.6249932431756</td></tr><tr><td>Kenya</td><td>2019</td><td>Nyamira</td><td>Health</td><td>1.667666902E9</td><td>667466</td><td>2498.5046459295304</td></tr><tr><td>Kenya</td><td>2019</td><td>Kirinyaga</td><td>Housing and community amenities</td><td>7623059.0</td><td>671452</td><td>11.353095977076544</td></tr><tr><td>Kenya</td><td>2016</td><td>Bungoma</td><td>Social protection</td><td>8.7787191E7</td><td>1732560</td><td>50.66906254328855</td></tr><tr><td>Kenya</td><td>2017</td><td>Murang’A</td><td>General public services</td><td>3.5722725630000005E9</td><td>1136663</td><td>3142.771923604446</td></tr><tr><td>Kenya</td><td>2017</td><td>Bomet</td><td>Public order and safety</td><td>1.0392319E8</td><td>926793</td><td>112.13204027220749</td></tr><tr><td>Kenya</td><td>2018</td><td>Kisumu</td><td>General public services</td><td>1.2589412267500002E9</td><td>1248702</td><td>1008.1998961721854</td></tr><tr><td>Kenya</td><td>2018</td><td>Marsabit</td><td>Health</td><td>1.5267020079999998E9</td><td>481101</td><td>3173.350311057345</td></tr><tr><td>Kenya</td><td>2020</td><td>Narok</td><td>Public order and safety</td><td>1.8646282755E8</td><td>1309378</td><td>142.4056518056665</td></tr><tr><td>Kenya</td><td>2016</td><td>Tana River</td><td>Social protection</td><td>1.386626254E8</td><td>319535</td><td>433.9512898430532</td></tr><tr><td>Kenya</td><td>2016</td><td>Garissa</td><td>Housing and community amenities</td><td>9.092998227E8</td><td>899835</td><td>1010.5183980396406</td></tr><tr><td>Kenya</td><td>2016</td><td>Nyeri</td><td>Social protection</td><td>3.53565047E7</td><td>813608</td><td>43.456436883609804</td></tr><tr><td>Kenya</td><td>2017</td><td>Kwale</td><td>Recreation, culture and religion</td><td>8.909114380000001E7</td><td>898319</td><td>99.17539738110851</td></tr><tr><td>Kenya</td><td>2017</td><td>Samburu</td><td>Education</td><td>5.2931705939999986E8</td><td>318967</td><td>1659.4727962453792</td></tr><tr><td>Kenya</td><td>2018</td><td>Nyeri</td><td>Economic affairs</td><td>1.1791045791499996E9</td><td>828455</td><td>1423.257242879818</td></tr><tr><td>Kenya</td><td>2018</td><td>Kwale</td><td>Housing and community amenities</td><td>2.501538063E8</td><td>924747</td><td>270.5105356383962</td></tr><tr><td>Kenya</td><td>2018</td><td>Nakuru</td><td>Housing and community amenities</td><td>5956206.300000001</td><td>2303736</td><td>2.5854552344539483</td></tr><tr><td>Kenya</td><td>2018</td><td>West Pokot</td><td>Education</td><td>6.364731258E8</td><td>670083</td><td>949.8422222321711</td></tr><tr><td>Kenya</td><td>2019</td><td>Trans Nzoia</td><td>General public services</td><td>1.906178066E9</td><td>1088670</td><td>1750.9236646550378</td></tr><tr><td>Kenya</td><td>2019</td><td>Narok</td><td>Economic affairs</td><td>1.84224796405E9</td><td>1270631</td><td>1449.8685802959317</td></tr><tr><td>Kenya</td><td>2019</td><td>Nyamira</td><td>Recreation, culture and religion</td><td>5.2535119E7</td><td>667466</td><td>78.7083072396197</td></tr><tr><td>Kenya</td><td>2020</td><td>Nyamira</td><td>Economic affairs</td><td>1.9344930095E9</td><td>667704</td><td>2897.2314221571237</td></tr><tr><td>Kenya</td><td>2020</td><td>Mombasa</td><td>Social protection</td><td>2.6697897E7</td><td>1359896</td><td>19.63230791178149</td></tr><tr><td>Kenya</td><td>2016</td><td>Isiolo</td><td>Health</td><td>6.752592197999998E8</td><td>242687</td><td>2782.4284770094805</td></tr><tr><td>Kenya</td><td>2016</td><td>Kericho</td><td>Environmental protection</td><td>2.1114477814999998E8</td><td>941559</td><td>224.25018310058104</td></tr><tr><td>Kenya</td><td>2016</td><td>Nyamira</td><td>Health</td><td>1.4435936678999999E9</td><td>665205</td><td>2170.148552551469</td></tr><tr><td>Kenya</td><td>2016</td><td>Nyeri</td><td>Public order and safety</td><td>1.42197971E8</td><td>813608</td><td>174.77454867700416</td></tr><tr><td>Kenya</td><td>2017</td><td>Tana River</td><td>Environmental protection</td><td>2.8034848E7</td><td>328361</td><td>85.37812955862603</td></tr><tr><td>Kenya</td><td>2017</td><td>Nyandarua</td><td>Environmental protection</td><td>1.21563987E8</td><td>693462</td><td>175.30014189674415</td></tr><tr><td>Kenya</td><td>2017</td><td>Nyeri</td><td>Health</td><td>2.2838223947999997E9</td><td>820838</td><td>2782.305881063011</td></tr><tr><td>Kenya</td><td>2017</td><td>Siaya</td><td>Education</td><td>5.766666427E8</td><td>1056857</td><td>545.6430176457175</td></tr><tr><td>Kenya</td><td>2017</td><td>Kwale</td><td>Public order and safety</td><td>8.7646682E7</td><td>898319</td><td>97.56743651197404</td></tr><tr><td>Kenya</td><td>2018</td><td>Baringo</td><td>Economic affairs</td><td>1.0087082453E9</td><td>719983</td><td>1401.0167535900152</td></tr><tr><td>Kenya</td><td>2018</td><td>Trans Nzoia</td><td>Education</td><td>5.1890745729999995E8</td><td>1068420</td><td>485.6774089777428</td></tr><tr><td>Kenya</td><td>2019</td><td>Kilifi</td><td>Education</td><td>1.33220960645E9</td><td>1596266</td><td>834.5787020772227</td></tr><tr><td>Kenya</td><td>2019</td><td>Kajiado</td><td>Economic affairs</td><td>2.6742881091E9</td><td>1223473</td><td>2185.8170217896104</td></tr><tr><td>Kenya</td><td>2019</td><td>Bomet</td><td>Environmental protection</td><td>3.02876545E8</td><td>962642</td><td>314.6305116543845</td></tr><tr><td>Kenya</td><td>2019</td><td>Nandi</td><td>Public order and safety</td><td>2.52295E8</td><td>974055</td><td>259.0151480152558</td></tr><tr><td>Kenya</td><td>2020</td><td>Samburu</td><td>Education</td><td>6.499710162E8</td><td>351475</td><td>1849.2667080162175</td></tr><tr><td>Kenya</td><td>2020</td><td>Kakamega</td><td>Economic affairs</td><td>3.7870427026E9</td><td>2077815</td><td>1822.608221906185</td></tr><tr><td>Kenya</td><td>2020</td><td>Vihiga</td><td>General public services</td><td>2.117755115E9</td><td>653324</td><td>3241.5082179745423</td></tr><tr><td>Kenya</td><td>2020</td><td>Laikipia</td><td>Public order and safety</td><td>1.6544093125E8</td><td>584082</td><td>283.24949450590844</td></tr><tr><td>Kenya</td><td>2016</td><td>Nandi</td><td>Housing and community amenities</td><td>1.87109193E7</td><td>927962</td><td>20.16345421472</td></tr><tr><td>Kenya</td><td>2017</td><td>Isiolo</td><td>Recreation, culture and religion</td><td>3.2906141E7</td><td>258309</td><td>127.39060969613912</td></tr><tr><td>Kenya</td><td>2017</td><td>Baringo</td><td>General public services</td><td>1.3572036692999995E9</td><td>706821</td><td>1920.151876217599</td></tr><tr><td>Kenya</td><td>2017</td><td>Siaya</td><td>Recreation, culture and religion</td><td>3.0693349415E8</td><td>1056857</td><td>290.4210258814579</td></tr><tr><td>Kenya</td><td>2017</td><td>Kilifi</td><td>Social protection</td><td>5.5534794E7</td><td>1512422</td><td>36.71911278730407</td></tr><tr><td>Kenya</td><td>2017</td><td>Vihiga</td><td>Housing and community amenities</td><td>330535.0</td><td>641879</td><td>0.514949079187822</td></tr><tr><td>Kenya</td><td>2018</td><td>Laikipia</td><td>General public services</td><td>3.7243842904E9</td><td>554882</td><td>6712.029387148979</td></tr><tr><td>Kenya</td><td>2020</td><td>Meru</td><td>Environmental protection</td><td>1.55255559E8</td><td>1721672</td><td>90.177199257466</td></tr><tr><td>Kenya</td><td>2020</td><td>Kisumu</td><td>Health</td><td>3.673539808E9</td><td>1292152</td><td>2842.9625988273824</td></tr><tr><td>Kenya</td><td>2020</td><td>Kajiado</td><td>Social protection</td><td>2.01710111E8</td><td>1283417</td><td>157.1664634331632</td></tr><tr><td>Kenya</td><td>2016</td><td>Kwale</td><td>Health</td><td>1.40263761E9</td><td>872981</td><td>1606.721807232918</td></tr><tr><td>Kenya</td><td>2016</td><td>Narok</td><td>Housing and community amenities</td><td>1.2160711775E8</td><td>1158782</td><td>104.94391330724848</td></tr><tr><td>Kenya</td><td>2016</td><td>Siaya</td><td>General public services</td><td>1.4543957044499998E9</td><td>1039776</td><td>1398.7586792251407</td></tr><tr><td>Kenya</td><td>2016</td><td>Marsabit</td><td>Social protection</td><td>1.4640228E7</td><td>439105</td><td>33.34106421015475</td></tr><tr><td>Kenya</td><td>2016</td><td>Vihiga</td><td>Social protection</td><td>1.787397E7</td><td>638039</td><td>28.013914509928078</td></tr><tr><td>Kenya</td><td>2017</td><td>Tana River</td><td>Social protection</td><td>5.3231220705E8</td><td>328361</td><td>1621.1188510511297</td></tr><tr><td>Kenya</td><td>2017</td><td>Garissa</td><td>Housing and community amenities</td><td>6.7884282785E8</td><td>935777</td><td>725.4322641505402</td></tr><tr><td>Kenya</td><td>2017</td><td>Uasin Gishu</td><td>Environmental protection</td><td>0.0</td><td>1211922</td><td>0.0</td></tr><tr><td>Kenya</td><td>2017</td><td>Migori</td><td>Environmental protection</td><td>2.56470778E8</td><td>1179905</td><td>217.36561672338027</td></tr><tr><td>Kenya</td><td>2018</td><td>Kisumu</td><td>Housing and community amenities</td><td>8993017.0</td><td>1248702</td><td>7.201892044699216</td></tr><tr><td>Kenya</td><td>2018</td><td>Homa Bay</td><td>Education</td><td>6.450036316E8</td><td>1225341</td><td>526.3870478503535</td></tr><tr><td>Kenya</td><td>2018</td><td>Kiambu</td><td>General public services</td><td>3.6791918859999995E9</td><td>2546938</td><td>1444.554946370897</td></tr><tr><td>Kenya</td><td>2018</td><td>Murang’A</td><td>Social protection</td><td>3.229563745E7</td><td>1149942</td><td>28.084579439658697</td></tr><tr><td>Kenya</td><td>2019</td><td>Garissa</td><td>Housing and community amenities</td><td>6.85895105E8</td><td>1012333</td><td>677.5390163118262</td></tr><tr><td>Kenya</td><td>2020</td><td>Vihiga</td><td>Recreation, culture and religion</td><td>1.40796441E8</td><td>653324</td><td>215.5078353160147</td></tr><tr><td>Kenya</td><td>2016</td><td>Nyandarua</td><td>Environmental protection</td><td>6.665137795E7</td><td>688885</td><td>96.75254643372988</td></tr><tr><td>Kenya</td><td>2017</td><td>Tana River</td><td>General public services</td><td>1.0761260646499999E9</td><td>328361</td><td>3277.2651583166084</td></tr><tr><td>Kenya</td><td>2017</td><td>Murang’A</td><td>Social protection</td><td>1.013197163E8</td><td>1136663</td><td>89.13786786408988</td></tr><tr><td>Kenya</td><td>2017</td><td>Kirinyaga</td><td>Public order and safety</td><td>1.0895584E8</td><td>652302</td><td>167.0328160882536</td></tr><tr><td>Kenya</td><td>2019</td><td>Tana River</td><td>Education</td><td>4.1003839615E8</td><td>346887</td><td>1182.0517809834325</td></tr><tr><td>Kenya</td><td>2019</td><td>Machakos</td><td>Health</td><td>-5.95432056E8</td><td>1561560</td><td>-381.30590947514025</td></tr><tr><td>Kenya</td><td>2019</td><td>Elgeyo Marakwet</td><td>Housing and community amenities</td><td>4.22557254E8</td><td>499495</td><td>845.9689366259922</td></tr><tr><td>Kenya</td><td>2019</td><td>Baringo</td><td>Housing and community amenities</td><td>2.27847151E8</td><td>733056</td><td>310.81820624890867</td></tr><tr><td>Kenya</td><td>2019</td><td>Vihiga</td><td>Recreation, culture and religion</td><td>2.07167261E8</td><td>649836</td><td>318.7992985922602</td></tr><tr><td>Kenya</td><td>2019</td><td>Homa Bay</td><td>Education</td><td>7.207789656E8</td><td>1244894</td><td>578.9882235756619</td></tr><tr><td>Kenya</td><td>2019</td><td>Migori</td><td>Social protection</td><td>8.0828575E7</td><td>1227169</td><td>65.86588725758229</td></tr><tr><td>Kenya</td><td>2020</td><td>Garissa</td><td>Recreation, culture and religion</td><td>1.16367612E8</td><td>1052172</td><td>110.5975182764795</td></tr><tr><td>Kenya</td><td>2020</td><td>Marsabit</td><td>General public services</td><td>3.251080453E9</td><td>526582</td><td>6173.930086862065</td></tr><tr><td>Kenya</td><td>2016</td><td>Kwale</td><td>Recreation, culture and religion</td><td>6.905221225E7</td><td>872981</td><td>79.0993300541478</td></tr><tr><td>Kenya</td><td>2016</td><td>Homa Bay</td><td>Economic affairs</td><td>1.9891283686999996E9</td><td>1186528</td><td>1676.4276685421664</td></tr><tr><td>Kenya</td><td>2017</td><td>Lamu</td><td>Education</td><td>1.8976933335E8</td><td>147217</td><td>1289.044970010257</td></tr><tr><td>Kenya</td><td>2017</td><td>Kitui</td><td>Health</td><td>2.1658001067E9</td><td>1222018</td><td>1772.3144067435994</td></tr><tr><td>Kenya</td><td>2017</td><td>Vihiga</td><td>Economic affairs</td><td>7.777275955000002E8</td><td>641879</td><td>1211.642062600584</td></tr><tr><td>Kenya</td><td>2018</td><td>Uasin Gishu</td><td>Recreation, culture and religion</td><td>4.6426550154999995E8</td><td>1244465</td><td>373.0643300936547</td></tr><tr><td>Kenya</td><td>2018</td><td>Mandera</td><td>Recreation, culture and religion</td><td>1.5338691640500002E9</td><td>933865</td><td>1642.4956113035612</td></tr><tr><td>Kenya</td><td>2020</td><td>Taita Taveta</td><td>Economic affairs</td><td>6.941739617E8</td><td>381049</td><td>1821.7446094859192</td></tr><tr><td>Kenya</td><td>2020</td><td>Kajiado</td><td>Recreation, culture and religion</td><td>1.40511503E8</td><td>1283417</td><td>109.48234517697678</td></tr><tr><td>Kenya</td><td>2016</td><td>Marsabit</td><td>Housing and community amenities</td><td>1.397058578E8</td><td>439105</td><td>318.1604805228818</td></tr><tr><td>Kenya</td><td>2016</td><td>West Pokot</td><td>Recreation, culture and religion</td><td>3.207896425E7</td><td>644820</td><td>49.748711655966005</td></tr><tr><td>Kenya</td><td>2016</td><td>Kisii</td><td>Recreation, culture and religion</td><td>1.4551617985000002E8</td><td>1355863</td><td>107.32366017068098</td></tr><tr><td>Kenya</td><td>2017</td><td>Kirinyaga</td><td>Economic affairs</td><td>8.019514004500003E8</td><td>652302</td><td>1229.417356454526</td></tr><tr><td>Kenya</td><td>2017</td><td>Trans Nzoia</td><td>Public order and safety</td><td>1.90797157E8</td><td>1048071</td><td>182.0460226454124</td></tr><tr><td>Kenya</td><td>2018</td><td>Siaya</td><td>General public services</td><td>1.8866625812499998E9</td><td>1074637</td><td>1755.6277898955645</td></tr><tr><td>Kenya</td><td>2018</td><td>Tana River</td><td>Housing and community amenities</td><td>2.3619044E7</td><td>337578</td><td>69.96618263038468</td></tr><tr><td>Kenya</td><td>2018</td><td>Mandera</td><td>Economic affairs</td><td>9.416996888000002E8</td><td>933865</td><td>1008.3895303925087</td></tr><tr><td>Kenya</td><td>2018</td><td>Nandi</td><td>Public order and safety</td><td>5.7318395E7</td><td>958607</td><td>59.79342420825218</td></tr><tr><td>Kenya</td><td>2018</td><td>Tana River</td><td>General public services</td><td>1.3383990196E9</td><td>337578</td><td>3964.710436106618</td></tr><tr><td>Kenya</td><td>2019</td><td>Trans Nzoia</td><td>Health</td><td>2.095290185E9</td><td>1088670</td><td>1924.6329787722634</td></tr><tr><td>Kenya</td><td>2019</td><td>Kericho</td><td>Education</td><td>5.962013235E8</td><td>991559</td><td>601.2767001257615</td></tr><tr><td>Kenya</td><td>2020</td><td>Mandera</td><td>Economic affairs</td><td>2.1990362133E9</td><td>972652</td><td>2260.8663872587526</td></tr><tr><td>Kenya</td><td>2020</td><td>Marsabit</td><td>Housing and community amenities</td><td>1.23756388E8</td><td>526582</td><td>235.01826496158242</td></tr><tr><td>Kenya</td><td>2017</td><td>Kisii</td><td>Recreation, culture and religion</td><td>4.6924789E7</td><td>1368521</td><td>34.28868756855028</td></tr><tr><td>Kenya</td><td>2018</td><td>Embu</td><td>General public services</td><td>1.6032071951999996E9</td><td>658507</td><td>2434.6091920055514</td></tr><tr><td>Kenya</td><td>2018</td><td>Samburu</td><td>Economic affairs</td><td>9.140505951000001E8</td><td>329613</td><td>2773.102380974052</td></tr><tr><td>Kenya</td><td>2018</td><td>Baringo</td><td>Social protection</td><td>3.146424265E7</td><td>719983</td><td>43.701368851764556</td></tr><tr><td>Kenya</td><td>2018</td><td>Kakamega</td><td>Public order and safety</td><td>2.3475793445E8</td><td>2031790</td><td>115.54242045191678</td></tr><tr><td>Kenya</td><td>2019</td><td>Kilifi</td><td>Environmental protection</td><td>1.3968968E7</td><td>1596266</td><td>8.75102771092036</td></tr><tr><td>Kenya</td><td>2019</td><td>West Pokot</td><td>General public services</td><td>1.84686134E9</td><td>682913</td><td>2704.387440274237</td></tr><tr><td>Kenya</td><td>2019</td><td>Kericho</td><td>Housing and community amenities</td><td>2.5013436E7</td><td>991559</td><td>25.226371804400948</td></tr><tr><td>Kenya</td><td>2019</td><td>Kakamega</td><td>Social protection</td><td>1.576660885E8</td><td>2055240</td><td>76.7141980985189</td></tr><tr><td>Kenya</td><td>2020</td><td>Migori</td><td>Environmental protection</td><td>8548507.0</td><td>1250557</td><td>6.835759585528688</td></tr><tr><td>Kenya</td><td>2020</td><td>Embu</td><td>Social protection</td><td>4.8863086E7</td><td>679843</td><td>71.8740738670546</td></tr><tr><td>Kenya</td><td>2020</td><td>Elgeyo Marakwet</td><td>Public order and safety</td><td>1.1361366895E8</td><td>509480</td><td>222.99927170840857</td></tr><tr><td>Kenya</td><td>2016</td><td>Isiolo</td><td>Economic affairs</td><td>9.016201055000001E8</td><td>242687</td><td>3715.1561702934237</td></tr><tr><td>Kenya</td><td>2016</td><td>Homa Bay</td><td>Public order and safety</td><td>2.6635139E7</td><td>1186528</td><td>22.44796498691982</td></tr><tr><td>Kenya</td><td>2017</td><td>Meru</td><td>General public services</td><td>2.889928233099999E9</td><td>1656898</td><td>1744.1799272495946</td></tr><tr><td>Kenya</td><td>2017</td><td>Machakos</td><td>Health</td><td>1.4684850774E9</td><td>1483106</td><td>990.141687377706</td></tr><tr><td>Kenya</td><td>2017</td><td>Kiambu</td><td>Economic affairs</td><td>2.91207844095E9</td><td>2447130</td><td>1189.997442289539</td></tr><tr><td>Kenya</td><td>2018</td><td>Nairobi City</td><td>Education</td><td>1.17257486535E9</td><td>4664602</td><td>251.37725905661404</td></tr><tr><td>Kenya</td><td>2016</td><td>Nakuru</td><td>Housing and community amenities</td><td>2.29899588E7</td><td>2170005</td><td>10.594426648786524</td></tr><tr><td>Kenya</td><td>2016</td><td>Narok</td><td>Health</td><td>1.0814305745E9</td><td>1158782</td><td>933.2476466669314</td></tr><tr><td>Kenya</td><td>2017</td><td>Trans Nzoia</td><td>Recreation, culture and religion</td><td>1.2097849394999999E8</td><td>1048071</td><td>115.42967408696548</td></tr><tr><td>Kenya</td><td>2019</td><td>Mombasa</td><td>Economic affairs</td><td>4.46403005E9</td><td>1327105</td><td>3363.7353864238326</td></tr><tr><td>Kenya</td><td>2019</td><td>Trans Nzoia</td><td>Housing and community amenities</td><td>3.9336948E7</td><td>1088670</td><td>36.13303204827909</td></tr><tr><td>Kenya</td><td>2019</td><td>Nandi</td><td>General public services</td><td>2.367764155E9</td><td>974055</td><td>2430.8320936702753</td></tr><tr><td>Kenya</td><td>2020</td><td>Tharaka Nithi</td><td>Education</td><td>2.475841566E8</td><td>435803</td><td>568.1102622056296</td></tr><tr><td>Kenya</td><td>2020</td><td>Samburu</td><td>Environmental protection</td><td>3.3381619E7</td><td>351475</td><td>94.97579913222846</td></tr><tr><td>Kenya</td><td>2016</td><td>Marsabit</td><td>Education</td><td>2.3130733815E8</td><td>439105</td><td>526.769993851129</td></tr><tr><td>Kenya</td><td>2016</td><td>Nandi</td><td>General public services</td><td>1.4998905166000001E9</td><td>927962</td><td>1616.3275183682092</td></tr><tr><td>Kenya</td><td>2016</td><td>Baringo</td><td>Environmental protection</td><td>3.9763190829999995E8</td><td>694159</td><td>572.8254021052813</td></tr><tr><td>Kenya</td><td>2016</td><td>Migori</td><td>Housing and community amenities</td><td>2.4232674E7</td><td>1157150</td><td>20.94168776735946</td></tr><tr><td>Kenya</td><td>2017</td><td>Kilifi</td><td>Education</td><td>1.21877990215E9</td><td>1512422</td><td>805.8464516847812</td></tr><tr><td>Kenya</td><td>2017</td><td>Bungoma</td><td>Education</td><td>5.959364978500001E8</td><td>1766291</td><td>337.39428998392685</td></tr><tr><td>Kenya</td><td>2019</td><td>Nyeri</td><td>Housing and community amenities</td><td>3.96798814E8</td><td>835770</td><td>474.77034830156623</td></tr><tr><td>Kenya</td><td>2019</td><td>Lamu</td><td>Public order and safety</td><td>1.456763815E8</td><td>157837</td><td>922.9545765568276</td></tr><tr><td>Kenya</td><td>2019</td><td>Garissa</td><td>Social protection</td><td>3.2988556E7</td><td>1012333</td><td>32.586664664690375</td></tr><tr><td>Kenya</td><td>2020</td><td>Busia</td><td>Recreation, culture and religion</td><td>2.03011476E8</td><td>999906</td><td>203.03056087272205</td></tr><tr><td>Kenya</td><td>2020</td><td>Nyamira</td><td>Health</td><td>1.827129258E9</td><td>667704</td><td>2736.4359925955214</td></tr><tr><td>Kenya</td><td>2016</td><td>Taita Taveta</td><td>Economic affairs</td><td>6.020145571500001E8</td><td>354986</td><td>1695.8825338182353</td></tr><tr><td>Kenya</td><td>2016</td><td>Kwale</td><td>General public services</td><td>1.13731308805E9</td><td>872981</td><td>1302.7924869498877</td></tr><tr><td>Kenya</td><td>2016</td><td>Tana River</td><td>General public services</td><td>9.485864033000001E8</td><td>319535</td><td>2968.6463245027935</td></tr><tr><td>Kenya</td><td>2016</td><td>Tana River</td><td>Environmental protection</td><td>0.0</td><td>319535</td><td>0.0</td></tr><tr><td>Kenya</td><td>2016</td><td>Nairobi City</td><td>Economic affairs</td><td>3.44028648865E9</td><td>4360681</td><td>788.933308501585</td></tr><tr><td>Kenya</td><td>2016</td><td>Trans Nzoia</td><td>Public order and safety</td><td>6.6842483E7</td><td>1028502</td><td>64.99013419516929</td></tr><tr><td>Kenya</td><td>2017</td><td>Lamu</td><td>Health</td><td>8.662911797999998E8</td><td>147217</td><td>5884.450707459056</td></tr><tr><td>Kenya</td><td>2017</td><td>Nyamira</td><td>Housing and community amenities</td><td>8.0901763E7</td><td>665887</td><td>121.49473258976373</td></tr><tr><td>Kenya</td><td>2019</td><td>Kwale</td><td>General public services</td><td>1.884163378E9</td><td>951518</td><td>1980.1657751088262</td></tr><tr><td>Kenya</td><td>2019</td><td>Kitui</td><td>Economic affairs</td><td>3.776671482E9</td><td>1250389</td><td>3020.397237979541</td></tr><tr><td>Kenya</td><td>2019</td><td>Murang’A</td><td>Education</td><td>2.682093728E8</td><td>1162856</td><td>230.6471074664447</td></tr><tr><td>Kenya</td><td>2020</td><td>Uasin Gishu</td><td>General public services</td><td>1.894958522E9</td><td>1310340</td><td>1446.1578842132576</td></tr><tr><td>Kenya</td><td>2016</td><td>Nyandarua</td><td>Housing and community amenities</td><td>2.8059093445E8</td><td>688885</td><td>407.3117203161631</td></tr><tr><td>Kenya</td><td>2016</td><td>Kirinyaga</td><td>Education</td><td>2.151405445E8</td><td>643037</td><td>334.56946412103815</td></tr><tr><td>Kenya</td><td>2016</td><td>Nyandarua</td><td>Social protection</td><td>7.48500355E7</td><td>688885</td><td>108.65389070744754</td></tr><tr><td>Kenya</td><td>2017</td><td>Garissa</td><td>General public services</td><td>2.5592587196000004E9</td><td>935777</td><td>2734.902353445319</td></tr><tr><td>Kenya</td><td>2017</td><td>Narok</td><td>Housing and community amenities</td><td>1.8177748185E8</td><td>1194799</td><td>152.1406377558066</td></tr><tr><td>Kenya</td><td>2019</td><td>Samburu</td><td>Education</td><td>5.31364482E8</td><td>340457</td><td>1560.7388950733866</td></tr><tr><td>Kenya</td><td>2019</td><td>Bungoma</td><td>Housing and community amenities</td><td>1466200.0</td><td>1836335</td><td>0.7984381934668783</td></tr><tr><td>Kenya</td><td>2019</td><td>Kisumu</td><td>Public order and safety</td><td>6.7663571505E8</td><td>1270584</td><td>532.539143456867</td></tr><tr><td>Kenya</td><td>2020</td><td>Nyandarua</td><td>Economic affairs</td><td>2.0777470191E9</td><td>707150</td><td>2938.198429046171</td></tr><tr><td>Kenya</td><td>2016</td><td>Nyeri</td><td>Education</td><td>1.5103859184999996E8</td><td>813608</td><td>185.64049499267455</td></tr><tr><td>Kenya</td><td>2016</td><td>Bungoma</td><td>General public services</td><td>3.3626674742999988E9</td><td>1732560</td><td>1940.866390947499</td></tr><tr><td>Kenya</td><td>2016</td><td>Nyamira</td><td>Education</td><td>4.3570004054999995E8</td><td>665205</td><td>654.9861178884704</td></tr><tr><td>Kenya</td><td>2017</td><td>Kwale</td><td>General public services</td><td>1.7733826532E9</td><td>898319</td><td>1974.1123734441774</td></tr><tr><td>Kenya</td><td>2017</td><td>Mandera</td><td>Social protection</td><td>4.10187715E7</td><td>914409</td><td>44.858232475839586</td></tr><tr><td>Kenya</td><td>2018</td><td>Siaya</td><td>Social protection</td><td>3.747674055E7</td><td>1074637</td><td>34.873860243040205</td></tr><tr><td>Kenya</td><td>2019</td><td>Nyeri</td><td>General public services</td><td>1.81874047905E9</td><td>835770</td><td>2176.1255836533974</td></tr><tr><td>Kenya</td><td>2019</td><td>Siaya</td><td>Social protection</td><td>2.8015933E7</td><td>1092216</td><td>25.650542566671795</td></tr><tr><td>Kenya</td><td>2019</td><td>Samburu</td><td>Public order and safety</td><td>1.15907002E8</td><td>340457</td><td>340.44534845810193</td></tr><tr><td>Kenya</td><td>2020</td><td>Tana River</td><td>General public services</td><td>3.183199447E9</td><td>356274</td><td>8934.694777053615</td></tr><tr><td>Kenya</td><td>2020</td><td>Kirinyaga</td><td>Public order and safety</td><td>2.5499036245000002E8</td><td>680714</td><td>374.5925050021008</td></tr><tr><td>Kenya</td><td>2016</td><td>Mombasa</td><td>Health</td><td>2.2876065649500003E9</td><td>1230848</td><td>1858.5613860931653</td></tr><tr><td>Kenya</td><td>2016</td><td>Laikipia</td><td>Education</td><td>2.2777483E7</td><td>526607</td><td>43.25328565704596</td></tr><tr><td>Kenya</td><td>2016</td><td>Garissa</td><td>Social protection</td><td>2499974.0</td><td>899835</td><td>2.778258236232198</td></tr><tr><td>Kenya</td><td>2016</td><td>Kajiado</td><td>Public order and safety</td><td>2.2287443E7</td><td>1057819</td><td>21.069240578964834</td></tr><tr><td>Kenya</td><td>2017</td><td>Nyeri</td><td>Economic affairs</td><td>1.54867304845E9</td><td>820838</td><td>1886.697555973286</td></tr><tr><td>Kenya</td><td>2017</td><td>Machakos</td><td>Social protection</td><td>1.7827940365E8</td><td>1483106</td><td>120.2067847139719</td></tr><tr><td>Kenya</td><td>2018</td><td>Nyandarua</td><td>Health</td><td>1.15076673645E9</td><td>698341</td><td>1647.857903875041</td></tr><tr><td>Kenya</td><td>2018</td><td>Homa Bay</td><td>Social protection</td><td>9.7702782E7</td><td>1225341</td><td>79.73517739143634</td></tr><tr><td>Kenya</td><td>2020</td><td>Kirinyaga</td><td>General public services</td><td>1.550696977E9</td><td>680714</td><td>2278.044783859301</td></tr><tr><td>Kenya</td><td>2017</td><td>Taita Taveta</td><td>Housing and community amenities</td><td>2028675.0</td><td>361353</td><td>5.614108641688321</td></tr><tr><td>Kenya</td><td>2017</td><td>Mandera</td><td>Economic affairs</td><td>7.612924521E8</td><td>914409</td><td>832.5513551375807</td></tr><tr><td>Kenya</td><td>2017</td><td>Kisii</td><td>General public services</td><td>1.9897653852000003E9</td><td>1368521</td><td>1453.953125454414</td></tr><tr><td>Kenya</td><td>2018</td><td>Kisii</td><td>Public order and safety</td><td>1.7124099565E8</td><td>1381816</td><td>123.92460041713224</td></tr><tr><td>Kenya</td><td>2018</td><td>Turkana</td><td>Environmental protection</td><td>3441674.6</td><td>997968</td><td>3.448682322479278</td></tr><tr><td>Kenya</td><td>2019</td><td>Turkana</td><td>Health</td><td>4.25470278E8</td><td>1018738</td><td>417.64445618009734</td></tr><tr><td>Kenya</td><td>2020</td><td>Lamu</td><td>Housing and community amenities</td><td>1.219779E8</td><td>163321</td><td>746.8598649285763</td></tr><tr><td>Kenya</td><td>2020</td><td>Nakuru</td><td>Recreation, culture and religion</td><td>1.27298085E9</td><td>2443175</td><td>521.0354763780737</td></tr><tr><td>Kenya</td><td>2020</td><td>Kisumu</td><td>Environmental protection</td><td>1.74376327E8</td><td>1292152</td><td>134.95032086008456</td></tr><tr><td>Kenya</td><td>2020</td><td>Garissa</td><td>Social protection</td><td>2.5962421E7</td><td>1052172</td><td>24.675073086909745</td></tr><tr><td>Kenya</td><td>2016</td><td>Wajir</td><td>Environmental protection</td><td>1.5030576215E8</td><td>806684</td><td>186.32545352331272</td></tr><tr><td>Kenya</td><td>2017</td><td>Narok</td><td>Health</td><td>1.5959588998500001E9</td><td>1194799</td><td>1335.7551352570601</td></tr><tr><td>Kenya</td><td>2017</td><td>Tana River</td><td>Public order and safety</td><td>9.1991727E7</td><td>328361</td><td>280.15424182530813</td></tr><tr><td>Kenya</td><td>2019</td><td>Makueni</td><td>Recreation, culture and religion</td><td>1.88876496E8</td><td>1087010</td><td>173.7578274348902</td></tr><tr><td>Kenya</td><td>2019</td><td>Kisumu</td><td>Recreation, culture and religion</td><td>2.09159468E8</td><td>1270584</td><td>164.6167966856186</td></tr><tr><td>Kenya</td><td>2019</td><td>Nandi</td><td>Social protection</td><td>2.78791E7</td><td>974055</td><td>28.621689740312405</td></tr><tr><td>Kenya</td><td>2020</td><td>Mombasa</td><td>Housing and community amenities</td><td>3978000.0</td><td>1359896</td><td>2.9252236935765676</td></tr><tr><td>Kenya</td><td>2020</td><td>Tharaka Nithi</td><td>General public services</td><td>9.60359448E8</td><td>435803</td><td>2203.6549725449345</td></tr><tr><td>Kenya</td><td>2020</td><td>Nyeri</td><td>Education</td><td>5.04356779E8</td><td>842660</td><td>598.5293938243183</td></tr><tr><td>Kenya</td><td>2017</td><td>Bomet</td><td>Social protection</td><td>2.3366563125E8</td><td>926793</td><td>252.1227838902538</td></tr><tr><td>Kenya</td><td>2017</td><td>Busia</td><td>Environmental protection</td><td>1.328308E7</td><td>947172</td><td>14.023936518393702</td></tr><tr><td>Kenya</td><td>2017</td><td>Siaya</td><td>Public order and safety</td><td>1.39785471E8</td><td>1056857</td><td>132.26526483715395</td></tr><tr><td>Kenya</td><td>2017</td><td>Embu</td><td>Recreation, culture and religion</td><td>1030363.65</td><td>647624</td><td>1.5909905284547825</td></tr><tr><td>Kenya</td><td>2019</td><td>Mandera</td><td>Economic affairs</td><td>1.3366153416E9</td><td>953313</td><td>1402.0739689902475</td></tr><tr><td>Kenya</td><td>2016</td><td>Kericho</td><td>Social protection</td><td>3.5758006E7</td><td>941559</td><td>37.97744591682518</td></tr><tr><td>Kenya</td><td>2016</td><td>Bungoma</td><td>Public order and safety</td><td>5.08942409E7</td><td>1732560</td><td>29.375167901833123</td></tr><tr><td>Kenya</td><td>2017</td><td>Kitui</td><td>Social protection</td><td>1.0937183975E8</td><td>1222018</td><td>89.50100550892049</td></tr><tr><td>Kenya</td><td>2018</td><td>Nyandarua</td><td>Public order and safety</td><td>1.16886157E8</td><td>698341</td><td>167.37690755662348</td></tr><tr><td>Kenya</td><td>2019</td><td>Makueni</td><td>Health</td><td>3.115861518E9</td><td>1087010</td><td>2866.4515671428967</td></tr><tr><td>Kenya</td><td>2019</td><td>Machakos</td><td>Public order and safety</td><td>3.854395906E8</td><td>1561560</td><td>246.82983081021544</td></tr><tr><td>Kenya</td><td>2020</td><td>Machakos</td><td>Social protection</td><td>2.92588832E8</td><td>1601135</td><td>182.73838995462594</td></tr><tr><td>Kenya</td><td>2020</td><td>Nyandarua</td><td>Social protection</td><td>2.429012E7</td><td>707150</td><td>34.34931768365976</td></tr><tr><td>Kenya</td><td>2016</td><td>Trans Nzoia</td><td>Recreation, culture and religion</td><td>1.128309804E8</td><td>1028502</td><td>109.70419153292848</td></tr><tr><td>Kenya</td><td>2016</td><td>Marsabit</td><td>Public order and safety</td><td>1.5061581E7</td><td>439105</td><td>34.300636522016376</td></tr><tr><td>Kenya</td><td>2017</td><td>Makueni</td><td>Health</td><td>2.8508380154E9</td><td>1063357</td><td>2680.979215258845</td></tr><tr><td>Kenya</td><td>2017</td><td>Kiambu</td><td>Housing and community amenities</td><td>2.7837570115E8</td><td>2447130</td><td>113.7559921826793</td></tr><tr><td>Kenya</td><td>2017</td><td>Trans Nzoia</td><td>Housing and community amenities</td><td>4.0422233E7</td><td>1048071</td><td>38.56822009195942</td></tr><tr><td>Kenya</td><td>2018</td><td>Wajir</td><td>General public services</td><td>2.24172501325E9</td><td>841065</td><td>2665.3409822665312</td></tr><tr><td>Kenya</td><td>2018</td><td>Baringo</td><td>General public services</td><td>1.4308139935500004E9</td><td>719983</td><td>1987.2885797998015</td></tr><tr><td>Kenya</td><td>2019</td><td>Kisii</td><td>Education</td><td>3.467718919E8</td><td>1394616</td><td>248.6504470764712</td></tr><tr><td>Kenya</td><td>2020</td><td>Busia</td><td>Environmental protection</td><td>7353000.0</td><td>999906</td><td>7.353691246977216</td></tr><tr><td>Kenya</td><td>2016</td><td>Taita Taveta</td><td>Housing and community amenities</td><td>1.3490723E7</td><td>354986</td><td>38.00353535068989</td></tr><tr><td>Kenya</td><td>2016</td><td>Kajiado</td><td>Economic affairs</td><td>1.7611498250999994E9</td><td>1057819</td><td>1664.8876840934029</td></tr><tr><td>Kenya</td><td>2016</td><td>Nairobi City</td><td>Housing and community amenities</td><td>1.677884249E8</td><td>4360681</td><td>38.477573778040636</td></tr><tr><td>Kenya</td><td>2016</td><td>Wajir</td><td>Social protection</td><td>4.72636504E7</td><td>806684</td><td>58.59004318915461</td></tr><tr><td>Kenya</td><td>2017</td><td>Laikipia</td><td>Social protection</td><td>8575895.0</td><td>540450</td><td>15.868063650661485</td></tr><tr><td>Kenya</td><td>2018</td><td>Kiambu</td><td>Social protection</td><td>1.637423E7</td><td>2546938</td><td>6.428986492800375</td></tr><tr><td>Kenya</td><td>2019</td><td>West Pokot</td><td>Health</td><td>1.49288053E9</td><td>682913</td><td>2186.0479006842747</td></tr><tr><td>Kenya</td><td>2019</td><td>Bomet</td><td>General public services</td><td>1.8517886E7</td><td>962642</td><td>19.236524066059864</td></tr><tr><td>Kenya</td><td>2019</td><td>Busia</td><td>Social protection</td><td>6.6328943E7</td><td>982510</td><td>67.50968743320679</td></tr><tr><td>Kenya</td><td>2019</td><td>Kisii</td><td>General public services</td><td>2.879661875E9</td><td>1394616</td><td>2064.84213217115</td></tr><tr><td>Kenya</td><td>2019</td><td>Murang’A</td><td>Housing and community amenities</td><td>1.27333784E8</td><td>1162856</td><td>109.50090466919377</td></tr><tr><td>Kenya</td><td>2019</td><td>Tana River</td><td>Recreation, culture and religion</td><td>7.0479634E7</td><td>346887</td><td>203.1775016071516</td></tr><tr><td>Kenya</td><td>2020</td><td>Lamu</td><td>General public services</td><td>9.22960295E8</td><td>163321</td><td>5651.20403989689</td></tr><tr><td>Kenya</td><td>2020</td><td>West Pokot</td><td>Health</td><td>1.586028451E9</td><td>695607</td><td>2280.0639599659003</td></tr><tr><td>Kenya</td><td>2016</td><td>Baringo</td><td>Recreation, culture and religion</td><td>1.0450169935000001E8</td><td>694159</td><td>150.54432680408956</td></tr><tr><td>Kenya</td><td>2017</td><td>Nyeri</td><td>Social protection</td><td>1.119302285E8</td><td>820838</td><td>136.3609244455057</td></tr><tr><td>Kenya</td><td>2018</td><td>Lamu</td><td>Economic affairs</td><td>3.5374369069999987E8</td><td>152464</td><td>2320.178472950991</td></tr><tr><td>Kenya</td><td>2018</td><td>Garissa</td><td>Economic affairs</td><td>8.171941999000001E8</td><td>973522</td><td>839.4203725236822</td></tr><tr><td>Kenya</td><td>2018</td><td>Elgeyo Marakwet</td><td>Education</td><td>5.233063886999999E8</td><td>489448</td><td>1069.1766820990176</td></tr><tr><td>Kenya</td><td>2019</td><td>Mombasa</td><td>Recreation, culture and religion</td><td>3.5390481905E8</td><td>1327105</td><td>266.67431668933506</td></tr><tr><td>Kenya</td><td>2020</td><td>Migori</td><td>General public services</td><td>2.3542552577E9</td><td>1250557</td><td>1882.565335046703</td></tr><tr><td>Kenya</td><td>2016</td><td>Isiolo</td><td>General public services</td><td>1.2821370698E9</td><td>242687</td><td>5283.0892046133495</td></tr><tr><td>Kenya</td><td>2016</td><td>Kajiado</td><td>General public services</td><td>1.4191709623500001E9</td><td>1057819</td><td>1341.6009377313133</td></tr><tr><td>Kenya</td><td>2017</td><td>Garissa</td><td>Recreation, culture and religion</td><td>3257877.0</td><td>935777</td><td>3.4814672726514972</td></tr><tr><td>Kenya</td><td>2019</td><td>Kwale</td><td>Recreation, culture and religion</td><td>3.1240748E7</td><td>951518</td><td>32.83253495992719</td></tr><tr><td>Kenya</td><td>2019</td><td>Embu</td><td>General public services</td><td>1.415241052E9</td><td>669272</td><td>2114.597730070883</td></tr><tr><td>Kenya</td><td>2019</td><td>Trans Nzoia</td><td>Environmental protection</td><td>3.8162999E7</td><td>1088670</td><td>35.054698852728556</td></tr><tr><td>Kenya</td><td>2019</td><td>Laikipia</td><td>Health</td><td>9.01773364E8</td><td>569446</td><td>1583.5976791478033</td></tr><tr><td>Kenya</td><td>2020</td><td>Turkana</td><td>Education</td><td>1.00210746E9</td><td>1039404</td><td>964.1173788055463</td></tr><tr><td>Kenya</td><td>2016</td><td>Samburu</td><td>Recreation, culture and religion</td><td>8.1412482E7</td><td>308797</td><td>263.6440185623565</td></tr><tr><td>Kenya</td><td>2016</td><td>Embu</td><td>Housing and community amenities</td><td>0.0</td><td>637167</td><td>0.0</td></tr><tr><td>Kenya</td><td>2017</td><td>Kwale</td><td>Health</td><td>1.52624301845E9</td><td>898319</td><td>1698.9989284986736</td></tr><tr><td>Kenya</td><td>2017</td><td>Baringo</td><td>Economic affairs</td><td>1.1742014879999998E9</td><td>706821</td><td>1661.2430700276304</td></tr><tr><td>Kenya</td><td>2018</td><td>Murang’A</td><td>Economic affairs</td><td>1.2611080636499999E9</td><td>1149942</td><td>1096.6710178861194</td></tr><tr><td>Kenya</td><td>2018</td><td>Marsabit</td><td>General public services</td><td>3.0931213887999997E9</td><td>481101</td><td>6429.255787869906</td></tr><tr><td>Kenya</td><td>2018</td><td>Trans Nzoia</td><td>Recreation, culture and religion</td><td>1.199498367E8</td><td>1068420</td><td>112.26843067333071</td></tr><tr><td>Kenya</td><td>2018</td><td>Migori</td><td>Recreation, culture and religion</td><td>7.7066578E7</td><td>1203580</td><td>64.0311221522458</td></tr><tr><td>Kenya</td><td>2016</td><td>Nyeri</td><td>Health</td><td>1.989480237700001E9</td><td>813608</td><td>2445.256484326606</td></tr><tr><td>Kenya</td><td>2017</td><td>Nyamira</td><td>Health</td><td>1.4883635219E9</td><td>665887</td><td>2235.159301653284</td></tr><tr><td>Kenya</td><td>2017</td><td>Nyamira</td><td>Public order and safety</td><td>5.9742124E7</td><td>665887</td><td>89.71811133120184</td></tr><tr><td>Kenya</td><td>2018</td><td>Siaya</td><td>Economic affairs</td><td>1.28253185235E9</td><td>1074637</td><td>1193.4558854292193</td></tr><tr><td>Kenya</td><td>2018</td><td>Laikipia</td><td>Education</td><td>1.5220354605E8</td><td>554882</td><td>274.2989429284064</td></tr><tr><td>Kenya</td><td>2018</td><td>Elgeyo Marakwet</td><td>Public order and safety</td><td>6.4415692E7</td><td>489448</td><td>131.6088573249865</td></tr><tr><td>Kenya</td><td>2020</td><td>Kirinyaga</td><td>Housing and community amenities</td><td>3950770.0</td><td>680714</td><td>5.803861827434135</td></tr><tr><td>Kenya</td><td>2016</td><td>Bungoma</td><td>Education</td><td>6.373112733E8</td><td>1732560</td><td>367.8436956295886</td></tr><tr><td>Kenya</td><td>2016</td><td>Taita Taveta</td><td>Social protection</td><td>3.696746895E7</td><td>354986</td><td>104.13782219580492</td></tr><tr><td>Kenya</td><td>2018</td><td>Nyamira</td><td>Economic affairs</td><td>1.93044932285E9</td><td>666829</td><td>2894.969059309058</td></tr><tr><td>Kenya</td><td>2018</td><td>Busia</td><td>Housing and community amenities</td><td>4.5692981E7</td><td>964898</td><td>47.35524480307763</td></tr><tr><td>Kenya</td><td>2018</td><td>Busia</td><td>Public order and safety</td><td>1.2291701925E8</td><td>964898</td><td>127.3886143924021</td></tr><tr><td>Kenya</td><td>2018</td><td>Embu</td><td>Social protection</td><td>3.72513008E7</td><td>658507</td><td>56.56933153330184</td></tr><tr><td>Kenya</td><td>2018</td><td>Trans Nzoia</td><td>Environmental protection</td><td>1.3037888E7</td><td>1068420</td><td>12.202961382227963</td></tr><tr><td>Kenya</td><td>2016</td><td>Kirinyaga</td><td>Recreation, culture and religion</td><td>3.1596596845E8</td><td>643037</td><td>491.36514454067185</td></tr><tr><td>Kenya</td><td>2016</td><td>Murang’A</td><td>Economic affairs</td><td>1.27232715455E9</td><td>1123956</td><td>1132.0079741110862</td></tr><tr><td>Kenya</td><td>2016</td><td>Nyandarua</td><td>Public order and safety</td><td>2.9887765E7</td><td>688885</td><td>43.385710241912655</td></tr><tr><td>Kenya</td><td>2019</td><td>Kilifi</td><td>Economic affairs</td><td>4.24466784055E9</td><td>1596266</td><td>2659.123128945928</td></tr><tr><td>Kenya</td><td>2019</td><td>Meru</td><td>Health</td><td>3.315038751E9</td><td>1700686</td><td>1949.2362205604093</td></tr><tr><td>Kenya</td><td>2020</td><td>Nyeri</td><td>General public services</td><td>1.8255175119499998E9</td><td>842660</td><td>2166.3749459449837</td></tr><tr><td>Kenya</td><td>2020</td><td>Kisii</td><td>Public order and safety</td><td>4.2838302885E8</td><td>1406733</td><td>304.5233380108379</td></tr><tr><td>Kenya</td><td>2017</td><td>Isiolo</td><td>Health</td><td>8.1089902955E8</td><td>258309</td><td>3139.259683363723</td></tr><tr><td>Kenya</td><td>2017</td><td>Trans Nzoia</td><td>Social protection</td><td>1.77626486E8</td><td>1048071</td><td>169.4794398471096</td></tr><tr><td>Kenya</td><td>2019</td><td>Lamu</td><td>Housing and community amenities</td><td>4.1630233E7</td><td>157837</td><td>263.75458859456273</td></tr><tr><td>Kenya</td><td>2019</td><td>Trans Nzoia</td><td>Education</td><td>6.684110159E8</td><td>1088670</td><td>613.9702718913904</td></tr><tr><td>Kenya</td><td>2019</td><td>Isiolo</td><td>Public order and safety</td><td>1.661339625E8</td><td>292722</td><td>567.5486041363478</td></tr><tr><td>Kenya</td><td>2019</td><td>Homa Bay</td><td>Public order and safety</td><td>3.0600331335E8</td><td>1244894</td><td>245.8067219779355</td></tr><tr><td>Kenya</td><td>2020</td><td>Embu</td><td>Education</td><td>4.41960619E8</td><td>679843</td><td>650.092181577217</td></tr><tr><td>Kenya</td><td>2020</td><td>Tharaka Nithi</td><td>Social protection</td><td>3.0312053E7</td><td>435803</td><td>69.554484480373</td></tr><tr><td>Kenya</td><td>2020</td><td>Nyamira</td><td>Public order and safety</td><td>6.624781395E7</td><td>667704</td><td>99.21733874591136</td></tr><tr><td>Kenya</td><td>2017</td><td>Kericho</td><td>Economic affairs</td><td>1.54241889065E9</td><td>957838</td><td>1610.3129032780075</td></tr><tr><td>Kenya</td><td>2017</td><td>Uasin Gishu</td><td>Public order and safety</td><td>1.88813275E8</td><td>1211922</td><td>155.79655703914938</td></tr><tr><td>Kenya</td><td>2018</td><td>Bungoma</td><td>Economic affairs</td><td>1.8020338935499997E9</td><td>1801381</td><td>1000.3624405664319</td></tr><tr><td>Kenya</td><td>2019</td><td>Kiambu</td><td>General public services</td><td>3.96667819575E9</td><td>2649591</td><td>1497.090756931919</td></tr><tr><td>Kenya</td><td>2016</td><td>Bungoma</td><td>Health</td><td>1.72253389555E9</td><td>1732560</td><td>994.2131271355681</td></tr><tr><td>Kenya</td><td>2016</td><td>Busia</td><td>Environmental protection</td><td>1.5448897E7</td><td>930129</td><td>16.60941331793762</td></tr><tr><td>Kenya</td><td>2017</td><td>Mandera</td><td>Education</td><td>1.9247556802999997E9</td><td>914409</td><td>2104.9176903333187</td></tr><tr><td>Kenya</td><td>2017</td><td>Trans Nzoia</td><td>Economic affairs</td><td>1.9899884692500002E9</td><td>1048071</td><td>1898.7153248682582</td></tr><tr><td>Kenya</td><td>2017</td><td>Elgeyo Marakwet</td><td>Health</td><td>1.4367311942E9</td><td>479383</td><td>2997.0424362148847</td></tr><tr><td>Kenya</td><td>2018</td><td>Bomet</td><td>Public order and safety</td><td>9.5973276E7</td><td>944760</td><td>101.58482154197891</td></tr><tr><td>Kenya</td><td>2019</td><td>Nairobi City</td><td>Public order and safety</td><td>6.016003307249998E9</td><td>4823078</td><td>1247.3369303274792</td></tr><tr><td>Kenya</td><td>2020</td><td>Narok</td><td>Education</td><td>1.373510558E9</td><td>1309378</td><td>1048.9794070161558</td></tr><tr><td>Kenya</td><td>2016</td><td>Trans Nzoia</td><td>Social protection</td><td>1.002148897E8</td><td>1028502</td><td>97.43771980997606</td></tr><tr><td>Kenya</td><td>2016</td><td>Kakamega</td><td>Environmental protection</td><td>-1863.35</td><td>1984614</td><td>-9.388979418667811E-4</td></tr><tr><td>Kenya</td><td>2016</td><td>Nyamira</td><td>Environmental protection</td><td>1.4284275295000002E8</td><td>665205</td><td>214.73493577167943</td></tr><tr><td>Kenya</td><td>2017</td><td>Bungoma</td><td>Housing and community amenities</td><td>1190000.0</td><td>1766291</td><td>0.673728168235019</td></tr><tr><td>Kenya</td><td>2018</td><td>West Pokot</td><td>Health</td><td>1.2990218849E9</td><td>670083</td><td>1938.598479442099</td></tr><tr><td>Kenya</td><td>2019</td><td>Taita Taveta</td><td>Education</td><td>4.22929562E8</td><td>374561</td><td>1129.1340048750403</td></tr><tr><td>Kenya</td><td>2020</td><td>West Pokot</td><td>Social protection</td><td>1.82662822E8</td><td>695607</td><td>262.59485887864844</td></tr><tr><td>Kenya</td><td>2020</td><td>Kisii</td><td>Environmental protection</td><td>6424195.0</td><td>1406733</td><td>4.566747918759281</td></tr><tr><td>Kenya</td><td>2016</td><td>Murang’A</td><td>Social protection</td><td>8138535.0</td><td>1123956</td><td>7.240972956236721</td></tr><tr><td>Kenya</td><td>2016</td><td>Busia</td><td>Recreation, culture and religion</td><td>1.427370045E8</td><td>930129</td><td>153.45936370116402</td></tr><tr><td>Kenya</td><td>2017</td><td>Machakos</td><td>Economic affairs</td><td>6.655186357049998E9</td><td>1483106</td><td>4487.330209067995</td></tr><tr><td>Kenya</td><td>2017</td><td>Makueni</td><td>Social protection</td><td>8.879702795E7</td><td>1063357</td><td>83.50631815091263</td></tr><tr><td>Kenya</td><td>2017</td><td>Migori</td><td>Public order and safety</td><td>1.19327924E8</td><td>1179905</td><td>101.13350142596227</td></tr><tr><td>Kenya</td><td>2018</td><td>Vihiga</td><td>Housing and community amenities</td><td>1.376868E7</td><td>645985</td><td>21.31424104274867</td></tr><tr><td>Kenya</td><td>2018</td><td>Vihiga</td><td>Education</td><td>2.9345801325E8</td><td>645985</td><td>454.27991865136187</td></tr><tr><td>Kenya</td><td>2018</td><td>Mombasa</td><td>Public order and safety</td><td>2.614159067E8</td><td>1294431</td><td>201.95430015195865</td></tr><tr><td>Kenya</td><td>2020</td><td>Isiolo</td><td>Education</td><td>3.486317337E8</td><td>311403</td><td>1119.551621853354</td></tr><tr><td>Kenya</td><td>2020</td><td>Baringo</td><td>Environmental protection</td><td>2482538.0</td><td>745967</td><td>3.327946142389677</td></tr><tr><td>Kenya</td><td>2020</td><td>Kericho</td><td>Economic affairs</td><td>3.0642502856000004E9</td><td>1008092</td><td>3039.6534102046244</td></tr><tr><td>Kenya</td><td>2016</td><td>West Pokot</td><td>Health</td><td>8.8722903605E8</td><td>644820</td><td>1375.9328743680405</td></tr><tr><td>Kenya</td><td>2017</td><td>Meru</td><td>Recreation, culture and religion</td><td>3.0148627085E8</td><td>1656898</td><td>181.9582562414826</td></tr><tr><td>Kenya</td><td>2017</td><td>Embu</td><td>General public services</td><td>1.5708070051999998E9</td><td>647624</td><td>2425.492268970884</td></tr><tr><td>Kenya</td><td>2017</td><td>Turkana</td><td>Economic affairs</td><td>5.875198370499998E8</td><td>977164</td><td>601.2499816305143</td></tr><tr><td>Kenya</td><td>2017</td><td>Nandi</td><td>Economic affairs</td><td>1.7633363654499996E9</td><td>942976</td><td>1869.9695065940168</td></tr><tr><td>Kenya</td><td>2017</td><td>Embu</td><td>Public order and safety</td><td>1.7696356625E8</td><td>647624</td><td>273.2504759706249</td></tr><tr><td>Kenya</td><td>2018</td><td>Mombasa</td><td>Social protection</td><td>6.952871610000001E7</td><td>1294431</td><td>53.71372912113508</td></tr><tr><td>Kenya</td><td>2018</td><td>Bomet</td><td>Health</td><td>3.5983505E7</td><td>944760</td><td>38.08745607350015</td></tr><tr><td>Kenya</td><td>2019</td><td>Kajiado</td><td>Social protection</td><td>1.39247446E8</td><td>1223473</td><td>113.81325619772565</td></tr><tr><td>Kenya</td><td>2020</td><td>Kwale</td><td>Environmental protection</td><td>2.41188533E8</td><td>978569</td><td>246.47064540160173</td></tr><tr><td>Kenya</td><td>2016</td><td>Narok</td><td>Education</td><td>6.5315489145E8</td><td>1158782</td><td>563.6564008156842</td></tr><tr><td>Kenya</td><td>2016</td><td>Kiambu</td><td>Social protection</td><td>5.5394E7</td><td>2352106</td><td>23.550809359782253</td></tr><tr><td>Kenya</td><td>2016</td><td>Nyamira</td><td>Public order and safety</td><td>3908403.0</td><td>665205</td><td>5.875486504160372</td></tr><tr><td>Kenya</td><td>2017</td><td>Isiolo</td><td>Environmental protection</td><td>1.1292814E8</td><td>258309</td><td>437.18236685520054</td></tr><tr><td>Kenya</td><td>2018</td><td>Kitui</td><td>Economic affairs</td><td>3.168209478900001E9</td><td>1236405</td><td>2562.436644060806</td></tr><tr><td>Kenya</td><td>2018</td><td>Laikipia</td><td>Public order and safety</td><td>1.13969631E8</td><td>554882</td><td>205.3943559171139</td></tr><tr><td>Kenya</td><td>2019</td><td>Bungoma</td><td>Social protection</td><td>4.3671377E7</td><td>1836335</td><td>23.78181377580888</td></tr><tr><td>Kenya</td><td>2020</td><td>Murang’A</td><td>Housing and community amenities</td><td>2.1489786E8</td><td>1175266</td><td>182.8504015261226</td></tr><tr><td>Kenya</td><td>2016</td><td>Bomet</td><td>Environmental protection</td><td>4.690289179500001E8</td><td>909525</td><td>515.6855698853799</td></tr><tr><td>Kenya</td><td>2018</td><td>Murang’A</td><td>Health</td><td>9.128466408E8</td><td>1149942</td><td>793.819723777373</td></tr><tr><td>Kenya</td><td>2018</td><td>Kirinyaga</td><td>Education</td><td>2.458029544E8</td><td>661961</td><td>371.32543216292197</td></tr><tr><td>Kenya</td><td>2018</td><td>Tana River</td><td>Recreation, culture and religion</td><td>1.8936200635E8</td><td>337578</td><td>560.9429712540509</td></tr><tr><td>Kenya</td><td>2020</td><td>Nakuru</td><td>Housing and community amenities</td><td>-3201090.0</td><td>2443175</td><td>-1.3102172378155474</td></tr><tr><td>Kenya</td><td>2016</td><td>Homa Bay</td><td>Housing and community amenities</td><td>1.5350721E8</td><td>1186528</td><td>129.37512641926696</td></tr><tr><td>Kenya</td><td>2016</td><td>Bomet</td><td>Housing and community amenities</td><td>0.0</td><td>909525</td><td>0.0</td></tr><tr><td>Kenya</td><td>2017</td><td>Migori</td><td>General public services</td><td>2.5656931960999994E9</td><td>1179905</td><td>2174.4913328615435</td></tr><tr><td>Kenya</td><td>2018</td><td>Nandi</td><td>Economic affairs</td><td>1.3972199865499995E9</td><td>958607</td><td>1457.5524553336243</td></tr><tr><td>Kenya</td><td>2019</td><td>Marsabit</td><td>Education</td><td>7.22622702E8</td><td>503447</td><td>1435.3501004077887</td></tr><tr><td>Kenya</td><td>2019</td><td>Bungoma</td><td>Recreation, culture and religion</td><td>1.94319828E8</td><td>1836335</td><td>105.81937827248296</td></tr><tr><td>Kenya</td><td>2019</td><td>Isiolo</td><td>Social protection</td><td>3.943375E7</td><td>292722</td><td>134.71399484835442</td></tr><tr><td>Kenya</td><td>2019</td><td>Kakamega</td><td>Public order and safety</td><td>5.8587295375E8</td><td>2055240</td><td>285.0630358254997</td></tr><tr><td>Kenya</td><td>2020</td><td>Machakos</td><td>Health</td><td>3.226216285E9</td><td>1601135</td><td>2014.9558188410097</td></tr><tr><td>Kenya</td><td>2020</td><td>Uasin Gishu</td><td>Housing and community amenities</td><td>2.90602249E8</td><td>1310340</td><td>221.77621762290704</td></tr><tr><td>Kenya</td><td>2020</td><td>Uasin Gishu</td><td>Education</td><td>9.42219672E8</td><td>1310340</td><td>719.0650304501122</td></tr><tr><td>Kenya</td><td>2020</td><td>Kisumu</td><td>Recreation, culture and religion</td><td>1.67645114E8</td><td>1292152</td><td>129.7410165367542</td></tr><tr><td>Kenya</td><td>2020</td><td>Kajiado</td><td>Public order and safety</td><td>2.1709161195000002E8</td><td>1283417</td><td>169.15126724205774</td></tr><tr><td>Kenya</td><td>2016</td><td>Mombasa</td><td>Recreation, culture and religion</td><td>1.873706515E8</td><td>1230848</td><td>152.2289116934016</td></tr><tr><td>Kenya</td><td>2016</td><td>Migori</td><td>Environmental protection</td><td>3920020.0</td><td>1157150</td><td>3.3876506935142374</td></tr><tr><td>Kenya</td><td>2017</td><td>Meru</td><td>Social protection</td><td>1.499507067E8</td><td>1656898</td><td>90.5008677057972</td></tr><tr><td>Kenya</td><td>2017</td><td>Nakuru</td><td>Health</td><td>3.08238553885E9</td><td>2235441</td><td>1378.8713452289726</td></tr><tr><td>Kenya</td><td>2017</td><td>Vihiga</td><td>General public services</td><td>1.7476573436499999E9</td><td>641879</td><td>2722.7208611747697</td></tr><tr><td>Kenya</td><td>2017</td><td>Busia</td><td>Housing and community amenities</td><td>4.6735272E7</td><td>947172</td><td>49.34190622189001</td></tr><tr><td>Kenya</td><td>2018</td><td>Meru</td><td>General public services</td><td>2.6584131279999995E9</td><td>1679035</td><td>1583.2982207041541</td></tr><tr><td>Kenya</td><td>2018</td><td>Tharaka Nithi</td><td>Social protection</td><td>4004589.0</td><td>429906</td><td>9.315033984173285</td></tr><tr><td>Kenya</td><td>2019</td><td>Taita Taveta</td><td>General public services</td><td>2.876753467E9</td><td>374561</td><td>7680.333689305614</td></tr><tr><td>Kenya</td><td>2019</td><td>Migori</td><td>Economic affairs</td><td>3.7118741551499996E9</td><td>1227169</td><td>3024.74569936985</td></tr><tr><td>Kenya</td><td>2019</td><td>Wajir</td><td>Public order and safety</td><td>3.297227217E8</td><td>858572</td><td>384.0361923053628</td></tr><tr><td>Kenya</td><td>2020</td><td>Isiolo</td><td>Health</td><td>1.334533089E9</td><td>311403</td><td>4285.549879095577</td></tr><tr><td>Kenya</td><td>2016</td><td>Makueni</td><td>Health</td><td>1.8704971543999999E9</td><td>1051888</td><td>1778.228437248072</td></tr><tr><td>Kenya</td><td>2017</td><td>Tana River</td><td>Education</td><td>3.5725721725E8</td><td>328361</td><td>1088.0013681588252</td></tr><tr><td>Kenya</td><td>2017</td><td>Garissa</td><td>Health</td><td>1.0288228264000001E9</td><td>935777</td><td>1099.4316235598867</td></tr><tr><td>Kenya</td><td>2018</td><td>Siaya</td><td>Housing and community amenities</td><td>6.092875720000001E7</td><td>1074637</td><td>56.69705882079252</td></tr><tr><td>Kenya</td><td>2018</td><td>Makueni</td><td>Public order and safety</td><td>1.01214933E8</td><td>1075366</td><td>94.12138099958526</td></tr><tr><td>Kenya</td><td>2018</td><td>Kirinyaga</td><td>Public order and safety</td><td>1.1757265E8</td><td>661961</td><td>177.61265391767793</td></tr><tr><td>Kenya</td><td>2019</td><td>Isiolo</td><td>Housing and community amenities</td><td>168050.0</td><td>292722</td><td>0.5740941917587336</td></tr><tr><td>Kenya</td><td>2016</td><td>Kiambu</td><td>Education</td><td>3.7912764855E8</td><td>2352106</td><td>161.18646376906483</td></tr><tr><td>Kenya</td><td>2016</td><td>Tharaka Nithi</td><td>Public order and safety</td><td>1.856967195E7</td><td>423626</td><td>43.835061941429466</td></tr><tr><td>Kenya</td><td>2017</td><td>Meru</td><td>Housing and community amenities</td><td>1.32235304E8</td><td>1656898</td><td>79.8089586685481</td></tr><tr><td>Kenya</td><td>2017</td><td>Samburu</td><td>Recreation, culture and religion</td><td>8.59231844E7</td><td>318967</td><td>269.37954208429085</td></tr><tr><td>Kenya</td><td>2018</td><td>Kirinyaga</td><td>Economic affairs</td><td>1.0787306188E9</td><td>661961</td><td>1629.5984488512163</td></tr><tr><td>Kenya</td><td>2020</td><td>Garissa</td><td>Education</td><td>3.936056234E8</td><td>1052172</td><td>374.0886693430351</td></tr><tr><td>Kenya</td><td>2020</td><td>Nandi</td><td>Education</td><td>4.04887471E8</td><td>989217</td><td>409.30096328712506</td></tr><tr><td>Kenya</td><td>2016</td><td>Bomet</td><td>Health</td><td>8.083453075499998E8</td><td>909525</td><td>888.7554575740082</td></tr><tr><td>Kenya</td><td>2017</td><td>Meru</td><td>Education</td><td>6.6118520605E8</td><td>1656898</td><td>399.05003569924037</td></tr><tr><td>Kenya</td><td>2017</td><td>Kiambu</td><td>Recreation, culture and religion</td><td>3.0531015409999996E8</td><td>2447130</td><td>124.76253983237505</td></tr><tr><td>Kenya</td><td>2017</td><td>Mandera</td><td>Housing and community amenities</td><td>4135.0</td><td>914409</td><td>0.004522046480294923</td></tr><tr><td>Kenya</td><td>2019</td><td>Marsabit</td><td>Housing and community amenities</td><td>1.60944232E8</td><td>503447</td><td>319.68455865264866</td></tr><tr><td>Kenya</td><td>2019</td><td>Vihiga</td><td>Environmental protection</td><td>5.1188795E7</td><td>649836</td><td>78.77186705568789</td></tr><tr><td>Kenya</td><td>2020</td><td>Nyeri</td><td>Housing and community amenities</td><td>5.24149767E8</td><td>842660</td><td>622.0180938931479</td></tr><tr><td>Kenya</td><td>2020</td><td>Elgeyo Marakwet</td><td>Social protection</td><td>4.0658859E7</td><td>509480</td><td>79.80462236005339</td></tr><tr><td>Kenya</td><td>2016</td><td>Narok</td><td>Recreation, culture and religion</td><td>1.28981349E8</td><td>1158782</td><td>111.30769117918642</td></tr><tr><td>Kenya</td><td>2017</td><td>Isiolo</td><td>General public services</td><td>1.1108994285000002E9</td><td>258309</td><td>4300.660946773051</td></tr><tr><td>Kenya</td><td>2017</td><td>Kakamega</td><td>Economic affairs</td><td>3.3266235972000017E9</td><td>2007676</td><td>1656.9524152303468</td></tr><tr><td>Kenya</td><td>2017</td><td>Uasin Gishu</td><td>Social protection</td><td>3.3173008E7</td><td>1211922</td><td>27.37223022603765</td></tr><tr><td>Kenya</td><td>2018</td><td>Nakuru</td><td>Social protection</td><td>6.82588756E7</td><td>2303736</td><td>29.629643153555786</td></tr><tr><td>Kenya</td><td>2018</td><td>Kisumu</td><td>Public order and safety</td><td>2.7002890495E8</td><td>1248702</td><td>216.24767554628727</td></tr><tr><td>Kenya</td><td>2020</td><td>Embu</td><td>Health</td><td>2.487636427E9</td><td>679843</td><td>3659.1336926319755</td></tr><tr><td>Kenya</td><td>2020</td><td>Kakamega</td><td>General public services</td><td>6.304602955E9</td><td>2077815</td><td>3034.2465306102804</td></tr><tr><td>Kenya</td><td>2016</td><td>West Pokot</td><td>Social protection</td><td>2.3327352429999998E8</td><td>644820</td><td>361.7653365280233</td></tr><tr><td>Kenya</td><td>2016</td><td>Elgeyo Marakwet</td><td>General public services</td><td>9.368257542499999E8</td><td>469714</td><td>1994.4599357268462</td></tr><tr><td>Kenya</td><td>2016</td><td>Migori</td><td>Health</td><td>9.098144193E8</td><td>1157150</td><td>786.2545212807328</td></tr><tr><td>Kenya</td><td>2017</td><td>Kericho</td><td>Health</td><td>1.4650477849E9</td><td>957838</td><td>1529.5360853296697</td></tr><tr><td>Kenya</td><td>2017</td><td>Nakuru</td><td>Public order and safety</td><td>4.4044386635E8</td><td>2235441</td><td>197.0277302554619</td></tr><tr><td>Kenya</td><td>2017</td><td>Bungoma</td><td>Public order and safety</td><td>1.74187967E8</td><td>1766291</td><td>98.61793271890079</td></tr><tr><td>Kenya</td><td>2018</td><td>Meru</td><td>Housing and community amenities</td><td>7.25285511E7</td><td>1679035</td><td>43.19656892202961</td></tr><tr><td>Kenya</td><td>2018</td><td>Taita Taveta</td><td>Environmental protection</td><td>1.5143334E7</td><td>367982</td><td>41.15237701844112</td></tr><tr><td>Kenya</td><td>2019</td><td>Elgeyo Marakwet</td><td>Social protection</td><td>5.3058309E7</td><td>499495</td><td>106.22390414318461</td></tr><tr><td>Kenya</td><td>2019</td><td>Lamu</td><td>Social protection</td><td>3.8141463E7</td><td>157837</td><td>241.65096270202804</td></tr><tr><td>Kenya</td><td>2020</td><td>Kisumu</td><td>General public services</td><td>3.12940587E9</td><td>1292152</td><td>2421.8558420371596</td></tr><tr><td>Kenya</td><td>2016</td><td>Nyandarua</td><td>Education</td><td>2.160727702E8</td><td>688885</td><td>313.6557918955994</td></tr><tr><td>Kenya</td><td>2016</td><td>Kakamega</td><td>Social protection</td><td>5.062916745E7</td><td>1984614</td><td>25.51083860639903</td></tr><tr><td>Kenya</td><td>2016</td><td>Migori</td><td>Economic affairs</td><td>1.7621821424500003E9</td><td>1157150</td><td>1522.8640560428641</td></tr><tr><td>Kenya</td><td>2016</td><td>Embu</td><td>Social protection</td><td>5.688851195E7</td><td>637167</td><td>89.28351899894376</td></tr><tr><td>Kenya</td><td>2018</td><td>Tana River</td><td>Education</td><td>3.0328798845000005E8</td><td>337578</td><td>898.4234412491337</td></tr><tr><td>Kenya</td><td>2018</td><td>Kitui</td><td>Recreation, culture and religion</td><td>2.2338934099999998E7</td><td>1236405</td><td>18.067651052850803</td></tr><tr><td>Kenya</td><td>2019</td><td>Kirinyaga</td><td>Education</td><td>2.695515488E8</td><td>671452</td><td>401.4457456378118</td></tr><tr><td>Kenya</td><td>2019</td><td>Kajiado</td><td>Recreation, culture and religion</td><td>1.11957242E8</td><td>1223473</td><td>91.5077341306265</td></tr><tr><td>Kenya</td><td>2019</td><td>Bomet</td><td>Housing and community amenities</td><td>1.0297383E7</td><td>962642</td><td>10.697001585220674</td></tr><tr><td>Kenya</td><td>2019</td><td>Nairobi City</td><td>Recreation, culture and religion</td><td>2.86379833E8</td><td>4823078</td><td>59.37698560960449</td></tr><tr><td>Kenya</td><td>2020</td><td>Samburu</td><td>Recreation, culture and religion</td><td>1.58565458E8</td><td>351475</td><td>451.1429205491144</td></tr><tr><td>Kenya</td><td>2016</td><td>Garissa</td><td>Recreation, culture and religion</td><td>4.93617142E7</td><td>899835</td><td>54.85640611889958</td></tr><tr><td>Kenya</td><td>2016</td><td>Nyamira</td><td>Housing and community amenities</td><td>1.2889590364999999E8</td><td>665205</td><td>193.76869333513727</td></tr><tr><td>Kenya</td><td>2017</td><td>Murang’A</td><td>Economic affairs</td><td>1.9518410084500005E9</td><td>1136663</td><td>1717.167716772694</td></tr><tr><td>Kenya</td><td>2017</td><td>Busia</td><td>Education</td><td>3.900994963E8</td><td>947172</td><td>411.8570822406068</td></tr><tr><td>Kenya</td><td>2018</td><td>Uasin Gishu</td><td>Economic affairs</td><td>1.38685753875E9</td><td>1244465</td><td>1114.4206857967079</td></tr><tr><td>Kenya</td><td>2018</td><td>Homa Bay</td><td>Housing and community amenities</td><td>2.8351703395000005E8</td><td>1225341</td><td>231.37806859478303</td></tr><tr><td>Kenya</td><td>2018</td><td>Turkana</td><td>Public order and safety</td><td>8.3316384E7</td><td>997968</td><td>83.48602760809966</td></tr><tr><td>Kenya</td><td>2018</td><td>Kilifi</td><td>Public order and safety</td><td>1.9986225579999998E8</td><td>1554127</td><td>128.6009803574611</td></tr><tr><td>Kenya</td><td>2018</td><td>Vihiga</td><td>General public services</td><td>1.0667267553000001E9</td><td>645985</td><td>1651.318150266647</td></tr><tr><td>Kenya</td><td>2019</td><td>Embu</td><td>Social protection</td><td>5.120474775E7</td><td>669272</td><td>76.50812786131797</td></tr><tr><td>Kenya</td><td>2020</td><td>Meru</td><td>General public services</td><td>2.9103208335E9</td><td>1721672</td><td>1690.4037665130177</td></tr><tr><td>Kenya</td><td>2016</td><td>Kwale</td><td>Education</td><td>1.2616910042E9</td><td>872981</td><td>1445.2674275843347</td></tr><tr><td>Kenya</td><td>2019</td><td>Nakuru</td><td>Social protection</td><td>1.85278515E8</td><td>2373034</td><td>78.07663733431548</td></tr><tr><td>Kenya</td><td>2019</td><td>Elgeyo Marakwet</td><td>Public order and safety</td><td>1.766179585E8</td><td>499495</td><td>353.5930459764362</td></tr><tr><td>Kenya</td><td>2019</td><td>Vihiga</td><td>Public order and safety</td><td>1.46483074E8</td><td>649836</td><td>225.4154494364732</td></tr><tr><td>Kenya</td><td>2019</td><td>Homa Bay</td><td>Social protection</td><td>3.5112314E7</td><td>1244894</td><td>28.20506324233228</td></tr><tr><td>Kenya</td><td>2020</td><td>Machakos</td><td>Education</td><td>4.47477274E8</td><td>1601135</td><td>279.47504364091725</td></tr><tr><td>Kenya</td><td>2016</td><td>Garissa</td><td>Economic affairs</td><td>1.46242193855E9</td><td>899835</td><td>1625.2112204459706</td></tr><tr><td>Kenya</td><td>2016</td><td>Elgeyo Marakwet</td><td>Economic affairs</td><td>1.0703238693500004E9</td><td>469714</td><td>2278.6714242070716</td></tr><tr><td>Kenya</td><td>2017</td><td>Makueni</td><td>Economic affairs</td><td>3.4491751807499995E9</td><td>1063357</td><td>3243.6662200465125</td></tr><tr><td>Kenya</td><td>2017</td><td>Kisumu</td><td>Health</td><td>2.0780761286499994E9</td><td>1226647</td><td>1694.1109615480243</td></tr><tr><td>Kenya</td><td>2017</td><td>Taita Taveta</td><td>Social protection</td><td>1.3866982605E8</td><td>361353</td><td>383.7516944649692</td></tr><tr><td>Kenya</td><td>2018</td><td>Homa Bay</td><td>Public order and safety</td><td>5.425855E7</td><td>1225341</td><td>44.28036766908151</td></tr><tr><td>Kenya</td><td>2020</td><td>Isiolo</td><td>General public services</td><td>1.820133386E9</td><td>311403</td><td>5844.944929881857</td></tr><tr><td>Kenya</td><td>2020</td><td>Tharaka Nithi</td><td>Health</td><td>1.793233079E9</td><td>435803</td><td>4114.779106614686</td></tr><tr><td>Kenya</td><td>2020</td><td>Nyeri</td><td>Recreation, culture and religion</td><td>1.01254376E8</td><td>842660</td><td>120.16041582607457</td></tr><tr><td>Kenya</td><td>2020</td><td>Trans Nzoia</td><td>Education</td><td>5.66319889E8</td><td>1108719</td><td>510.787574669506</td></tr><tr><td>Kenya</td><td>2016</td><td>Marsabit</td><td>Economic affairs</td><td>1.77402703805E9</td><td>439105</td><td>4040.0975576456653</td></tr><tr><td>Kenya</td><td>2016</td><td>Laikipia</td><td>Public order and safety</td><td>1.9568972E7</td><td>526607</td><td>37.160485903149784</td></tr><tr><td>Kenya</td><td>2017</td><td>Tharaka Nithi</td><td>General public services</td><td>5.45681534E8</td><td>426670</td><td>1278.9311036632525</td></tr><tr><td>Kenya</td><td>2017</td><td>Uasin Gishu</td><td>Education</td><td>5.3529011735E8</td><td>1211922</td><td>441.6869380620205</td></tr><tr><td>Kenya</td><td>2017</td><td>Kisumu</td><td>General public services</td><td>1.3012733531000001E9</td><td>1226647</td><td>1060.837676283397</td></tr><tr><td>Kenya</td><td>2018</td><td>Mandera</td><td>General public services</td><td>4.215054033850001E9</td><td>933865</td><td>4513.558205789917</td></tr><tr><td>Kenya</td><td>2019</td><td>Lamu</td><td>Health</td><td>8.79307498E8</td><td>157837</td><td>5570.984610705981</td></tr><tr><td>Kenya</td><td>2019</td><td>Tharaka Nithi</td><td>Education</td><td>2.85929003E8</td><td>432967</td><td>660.3944480757194</td></tr><tr><td>Kenya</td><td>2019</td><td>Nyandarua</td><td>General public services</td><td>1.459769173E9</td><td>702930</td><td>2076.692093096041</td></tr><tr><td>Kenya</td><td>2016</td><td>Nandi</td><td>Education</td><td>1.9732256435E8</td><td>927962</td><td>212.64078092637413</td></tr><tr><td>Kenya</td><td>2016</td><td>Kajiado</td><td>Education</td><td>8.034521266E8</td><td>1057819</td><td>759.536486487764</td></tr><tr><td>Kenya</td><td>2017</td><td>Taita Taveta</td><td>Economic affairs</td><td>3.8179399955000013E8</td><td>361353</td><td>1056.5679530818898</td></tr><tr><td>Kenya</td><td>2017</td><td>Meru</td><td>Health</td><td>2.8798033746000004E9</td><td>1656898</td><td>1738.069195931192</td></tr><tr><td>Kenya</td><td>2018</td><td>Garissa</td><td>General public services</td><td>2.2327161773000007E9</td><td>973522</td><td>2293.441932796589</td></tr><tr><td>Kenya</td><td>2018</td><td>Busia</td><td>General public services</td><td>2.3541013268E9</td><td>964898</td><td>2439.741119579479</td></tr><tr><td>Kenya</td><td>2019</td><td>Machakos</td><td>Education</td><td>4.0186603915E8</td><td>1561560</td><td>257.3490862662978</td></tr><tr><td>Kenya</td><td>2019</td><td>Makueni</td><td>Public order and safety</td><td>3.3782754545E8</td><td>1087010</td><td>310.78605114028386</td></tr><tr><td>Kenya</td><td>2019</td><td>Bomet</td><td>Public order and safety</td><td>1.9788287E8</td><td>962642</td><td>205.5622650995905</td></tr><tr><td>Kenya</td><td>2020</td><td>Kirinyaga</td><td>Social protection</td><td>2.2981477E8</td><td>680714</td><td>337.60840823018185</td></tr><tr><td>Kenya</td><td>2020</td><td>Vihiga</td><td>Environmental protection</td><td>1.2212279E7</td><td>653324</td><td>18.692530811664657</td></tr><tr><td>Kenya</td><td>2016</td><td>Narok</td><td>Environmental protection</td><td>1.2114656369999999E8</td><td>1158782</td><td>104.54646663479411</td></tr><tr><td>Kenya</td><td>2016</td><td>Kericho</td><td>General public services</td><td>1.06845995175E9</td><td>941559</td><td>1134.7774826112861</td></tr><tr><td>Kenya</td><td>2016</td><td>Siaya</td><td>Social protection</td><td>7.29706062E7</td><td>1039776</td><td>70.17915993444743</td></tr><tr><td>Kenya</td><td>2017</td><td>Bungoma</td><td>Economic affairs</td><td>2.0695174761500006E9</td><td>1766291</td><td>1171.6741330562181</td></tr><tr><td>Kenya</td><td>2017</td><td>Homa Bay</td><td>Economic affairs</td><td>1.5108139679999998E9</td><td>1205544</td><td>1253.2217554896376</td></tr><tr><td>Kenya</td><td>2018</td><td>Makueni</td><td>General public services</td><td>2.631250899149999E9</td><td>1075366</td><td>2446.8421906123117</td></tr><tr><td>Kenya</td><td>2018</td><td>Nyamira</td><td>Recreation, culture and religion</td><td>1.08020359E8</td><td>666829</td><td>161.99109366869166</td></tr><tr><td>Kenya</td><td>2019</td><td>Laikipia</td><td>Economic affairs</td><td>1.199225219E9</td><td>569446</td><td>2105.950729305325</td></tr><tr><td>Kenya</td><td>2019</td><td>Bomet</td><td>Social protection</td><td>8.2138497E7</td><td>962642</td><td>85.32610981029292</td></tr><tr><td>Kenya</td><td>2019</td><td>Vihiga</td><td>General public services</td><td>1.903586357E9</td><td>649836</td><td>2929.333488757163</td></tr><tr><td>Kenya</td><td>2019</td><td>Mombasa</td><td>Social protection</td><td>7.5157445E7</td><td>1327105</td><td>56.63262891783243</td></tr><tr><td>Kenya</td><td>2020</td><td>Kilifi</td><td>Environmental protection</td><td>4540220.0</td><td>1638699</td><td>2.770624745606118</td></tr><tr><td>Kenya</td><td>2020</td><td>Wajir</td><td>Health</td><td>2.513303795E9</td><td>875989</td><td>2869.104286697664</td></tr><tr><td>Kenya</td><td>2020</td><td>Uasin Gishu</td><td>Public order and safety</td><td>3.120707494E8</td><td>1310340</td><td>238.1601335531236</td></tr><tr><td>Kenya</td><td>2016</td><td>Taita Taveta</td><td>General public services</td><td>1.3221032189999998E9</td><td>354986</td><td>3724.3812967271942</td></tr><tr><td>Kenya</td><td>2016</td><td>Taita Taveta</td><td>Health</td><td>1.0613043595500001E9</td><td>354986</td><td>2989.707649174897</td></tr><tr><td>Kenya</td><td>2016</td><td>Busia</td><td>Health</td><td>1.3168122701000001E9</td><td>930129</td><td>1415.7307965884304</td></tr><tr><td>Kenya</td><td>2016</td><td>Migori</td><td>Education</td><td>1.420682088E8</td><td>1157150</td><td>122.77423739359635</td></tr><tr><td>Kenya</td><td>2016</td><td>Kisii</td><td>Public order and safety</td><td>4.27588005E7</td><td>1355863</td><td>31.536224898828273</td></tr><tr><td>Kenya</td><td>2017</td><td>Kilifi</td><td>General public services</td><td>2.1455000231E9</td><td>1512422</td><td>1418.5855687764392</td></tr><tr><td>Kenya</td><td>2017</td><td>Nyandarua</td><td>Health</td><td>1.1604277563999999E9</td><td>693462</td><td>1673.3833380920653</td></tr><tr><td>Kenya</td><td>2017</td><td>Kisumu</td><td>Recreation, culture and religion</td><td>4.0805169420000005E8</td><td>1226647</td><td>332.6561710092635</td></tr><tr><td>Kenya</td><td>2017</td><td>Nairobi City</td><td>Public order and safety</td><td>7.179738828599999E9</td><td>4509233</td><td>1592.2306140756086</td></tr><tr><td>Kenya</td><td>2018</td><td>Laikipia</td><td>Health</td><td>5.9817424695E8</td><td>554882</td><td>1078.0206367299716</td></tr><tr><td>Kenya</td><td>2018</td><td>Isiolo</td><td>Public order and safety</td><td>6.587971895E7</td><td>275035</td><td>239.5321284563783</td></tr><tr><td>Kenya</td><td>2018</td><td>Narok</td><td>Environmental protection</td><td>7.624394035000001E7</td><td>1232410</td><td>61.86572678735162</td></tr><tr><td>Kenya</td><td>2020</td><td>Nyamira</td><td>General public services</td><td>1.56876965E9</td><td>667704</td><td>2349.498655092676</td></tr><tr><td>Kenya</td><td>2016</td><td>Machakos</td><td>Housing and community amenities</td><td>1.1065860639999999E8</td><td>1445601</td><td>76.54851262554466</td></tr><tr><td>Kenya</td><td>2016</td><td>Machakos</td><td>Public order and safety</td><td>8307944.0</td><td>1445601</td><td>5.7470519181987285</td></tr><tr><td>Kenya</td><td>2017</td><td>Kajiado</td><td>Housing and community amenities</td><td>-519600.0</td><td>1110272</td><td>-0.4679934286373069</td></tr><tr><td>Kenya</td><td>2019</td><td>Narok</td><td>Health</td><td>1.989141946E9</td><td>1270631</td><td>1565.475693572721</td></tr><tr><td>Kenya</td><td>2019</td><td>Embu</td><td>Public order and safety</td><td>3.3265723985E8</td><td>669272</td><td>497.0434141126478</td></tr><tr><td>Kenya</td><td>2020</td><td>Migori</td><td>Economic affairs</td><td>3.4408395176E9</td><td>1250557</td><td>2751.4455699340374</td></tr><tr><td>Kenya</td><td>2016</td><td>Taita Taveta</td><td>Environmental protection</td><td>9.319320964999999E7</td><td>354986</td><td>262.52643667637597</td></tr><tr><td>Kenya</td><td>2016</td><td>Mandera</td><td>Education</td><td>1.4184743967E9</td><td>895698</td><td>1583.652522055425</td></tr><tr><td>Kenya</td><td>2016</td><td>Narok</td><td>Social protection</td><td>1.24053798E8</td><td>1158782</td><td>107.05533741463019</td></tr><tr><td>Kenya</td><td>2017</td><td>Mandera</td><td>General public services</td><td>3.9819840633E9</td><td>914409</td><td>4354.707864095826</td></tr><tr><td>Kenya</td><td>2017</td><td>Elgeyo Marakwet</td><td>Economic affairs</td><td>1.2021667720999997E9</td><td>479383</td><td>2507.737596243504</td></tr><tr><td>Kenya</td><td>2017</td><td>Kitui</td><td>Public order and safety</td><td>2.853038915E8</td><td>1222018</td><td>233.46946730735553</td></tr><tr><td>Kenya</td><td>2017</td><td>Kericho</td><td>Public order and safety</td><td>1.30081799E8</td><td>957838</td><td>135.8077242707013</td></tr><tr><td>Kenya</td><td>2018</td><td>West Pokot</td><td>General public services</td><td>1.5502960773500004E9</td><td>670083</td><td>2313.588133634192</td></tr><tr><td>Kenya</td><td>2018</td><td>Lamu</td><td>Housing and community amenities</td><td>3.56657413E7</td><td>152464</td><td>233.9289360111239</td></tr><tr><td>Kenya</td><td>2018</td><td>Laikipia</td><td>Economic affairs</td><td>6.2739717185E8</td><td>554882</td><td>1130.6857527366178</td></tr><tr><td>Kenya</td><td>2018</td><td>Bungoma</td><td>Housing and community amenities</td><td>5057615.4</td><td>1801381</td><td>2.807632255475105</td></tr><tr><td>Kenya</td><td>2018</td><td>Nyamira</td><td>Public order and safety</td><td>5.046892E7</td><td>666829</td><td>75.68495071450101</td></tr><tr><td>Kenya</td><td>2019</td><td>Kisii</td><td>Housing and community amenities</td><td>6.12591856E8</td><td>1394616</td><td>439.2548601192013</td></tr><tr><td>Kenya</td><td>2020</td><td>Isiolo</td><td>Environmental protection</td><td>3.6581043E7</td><td>311403</td><td>117.47171029180836</td></tr><tr><td>Kenya</td><td>2020</td><td>Meru</td><td>Health</td><td>3.311388448E9</td><td>1721672</td><td>1923.3561607553588</td></tr><tr><td>Kenya</td><td>2020</td><td>Samburu</td><td>Housing and community amenities</td><td>4.0931918E8</td><td>351475</td><td>1164.5755174621238</td></tr><tr><td>Kenya</td><td>2020</td><td>Machakos</td><td>Public order and safety</td><td>2.9309904745E8</td><td>1601135</td><td>183.05704856242602</td></tr><tr><td>Kenya</td><td>2016</td><td>Narok</td><td>Economic affairs</td><td>1.6031776662000003E9</td><td>1158782</td><td>1383.5023897506178</td></tr><tr><td>Kenya</td><td>2016</td><td>Mandera</td><td>Social protection</td><td>2.3E7</td><td>895698</td><td>25.678297819131</td></tr><tr><td>Kenya</td><td>2017</td><td>Kwale</td><td>Social protection</td><td>1.1803207485000001E8</td><td>898319</td><td>131.3921611921823</td></tr><tr><td>Kenya</td><td>2017</td><td>Garissa</td><td>Education</td><td>1.46548307E8</td><td>935777</td><td>156.60601510830037</td></tr><tr><td>Kenya</td><td>2019</td><td>Nyeri</td><td>Public order and safety</td><td>1.1016833473E9</td><td>835770</td><td>1318.1657002524616</td></tr><tr><td>Kenya</td><td>2019</td><td>Busia</td><td>Environmental protection</td><td>5146200.0</td><td>982510</td><td>5.237809284383874</td></tr><tr><td>Kenya</td><td>2020</td><td>Homa Bay</td><td>Education</td><td>5.90182628E8</td><td>1264071</td><td>466.8904104278953</td></tr><tr><td>Kenya</td><td>2020</td><td>Kisii</td><td>Economic affairs</td><td>5.8030675392E9</td><td>1406733</td><td>4125.208933891506</td></tr><tr><td>Kenya</td><td>2020</td><td>Mandera</td><td>Housing and community amenities</td><td>0.0</td><td>972652</td><td>0.0</td></tr><tr><td>Kenya</td><td>2016</td><td>Kakamega</td><td>Recreation, culture and religion</td><td>2.0758145600000003E8</td><td>1984614</td><td>104.59538026034284</td></tr><tr><td>Kenya</td><td>2017</td><td>Samburu</td><td>Economic affairs</td><td>1.0171644375000001E9</td><td>318967</td><td>3188.9331419864757</td></tr><tr><td>Kenya</td><td>2017</td><td>Nairobi City</td><td>General public services</td><td>4.539946051200001E9</td><td>4509233</td><td>1006.8111475277504</td></tr><tr><td>Kenya</td><td>2018</td><td>Nakuru</td><td>General public services</td><td>3.0752887774499993E9</td><td>2303736</td><td>1334.913712964506</td></tr><tr><td>Kenya</td><td>2018</td><td>Nyamira</td><td>Health</td><td>1.7479480270500004E9</td><td>666829</td><td>2621.2837579799325</td></tr><tr><td>Kenya</td><td>2019</td><td>Mandera</td><td>Education</td><td>3.048098409E9</td><td>953313</td><td>3197.374219170409</td></tr><tr><td>Kenya</td><td>2019</td><td>Uasin Gishu</td><td>Economic affairs</td><td>4.53388299445E9</td><td>1277307</td><td>3549.564039381292</td></tr><tr><td>Kenya</td><td>2019</td><td>Nandi</td><td>Economic affairs</td><td>2.280900689E9</td><td>974055</td><td>2341.6549260565366</td></tr><tr><td>Kenya</td><td>2019</td><td>Busia</td><td>Health</td><td>1.906606606E9</td><td>982510</td><td>1940.5467689896286</td></tr><tr><td>Kenya</td><td>2020</td><td>Mombasa</td><td>General public services</td><td>3.200242225E9</td><td>1359896</td><td>2353.2992412655085</td></tr><tr><td>Kenya</td><td>2020</td><td>Kwale</td><td>Social protection</td><td>3.17826724E8</td><td>978569</td><td>324.7872393259954</td></tr><tr><td>Kenya</td><td>2020</td><td>Kiambu</td><td>Health</td><td>5.23967918E9</td><td>2754995</td><td>1901.8833718391504</td></tr><tr><td>Kenya</td><td>2020</td><td>Nakuru</td><td>Social protection</td><td>1.73843824E8</td><td>2443175</td><td>71.15488002292099</td></tr><tr><td>Kenya</td><td>2020</td><td>Bungoma</td><td>General public services</td><td>3.125335417E9</td><td>1870968</td><td>1670.4376648879083</td></tr><tr><td>Kenya</td><td>2016</td><td>Kisii</td><td>Environmental protection</td><td>2.083602295E7</td><td>1355863</td><td>15.367351236813748</td></tr><tr><td>Kenya</td><td>2017</td><td>Taita Taveta</td><td>Education</td><td>3.8588798865E8</td><td>361353</td><td>1067.897564569825</td></tr><tr><td>Kenya</td><td>2017</td><td>Elgeyo Marakwet</td><td>Social protection</td><td>4.5476964E7</td><td>479383</td><td>94.86561684498616</td></tr><tr><td>Kenya</td><td>2020</td><td>Laikipia</td><td>General public services</td><td>4.375583263E9</td><td>584082</td><td>7491.385221595598</td></tr><tr><td>Kenya</td><td>2020</td><td>Migori</td><td>Social protection</td><td>7.5964045E7</td><td>1250557</td><td>60.7441683985616</td></tr><tr><td>Kenya</td><td>2020</td><td>Nakuru</td><td>Public order and safety</td><td>6.9509267265E8</td><td>2443175</td><td>284.50384137444104</td></tr><tr><td>Kenya</td><td>2020</td><td>Kiambu</td><td>Environmental protection</td><td>2.71939606E8</td><td>2754995</td><td>98.70784012312183</td></tr><tr><td>Kenya</td><td>2020</td><td>Samburu</td><td>Social protection</td><td>2.8017485E7</td><td>351475</td><td>79.71401948929511</td></tr><tr><td>Kenya</td><td>2016</td><td>Makueni</td><td>Economic affairs</td><td>1.892499261100001E9</td><td>1051888</td><td>1799.145214224329</td></tr><tr><td>Kenya</td><td>2017</td><td>Kericho</td><td>Education</td><td>6.8946268045E8</td><td>957838</td><td>719.8113673188994</td></tr><tr><td>Kenya</td><td>2020</td><td>Kericho</td><td>Environmental protection</td><td>5.05635234E8</td><td>1008092</td><td>501.57647714692706</td></tr><tr><td>Kenya</td><td>2020</td><td>Baringo</td><td>Social protection</td><td>6326537.0</td><td>745967</td><td>8.480987764874317</td></tr><tr><td>Kenya</td><td>2016</td><td>Garissa</td><td>General public services</td><td>2.14598733315E9</td><td>899835</td><td>2384.8675958925805</td></tr><tr><td>Kenya</td><td>2016</td><td>Busia</td><td>Education</td><td>4.743817410500001E8</td><td>930129</td><td>510.01714928789454</td></tr><tr><td>Kenya</td><td>2017</td><td>Wajir</td><td>Social protection</td><td>6.69435978E7</td><td>823531</td><td>81.28849770075443</td></tr><tr><td>Kenya</td><td>2017</td><td>Homa Bay</td><td>Public order and safety</td><td>1.54558674E8</td><td>1205544</td><td>128.20658059763892</td></tr><tr><td>Kenya</td><td>2018</td><td>Samburu</td><td>Environmental protection</td><td>2.089886175E7</td><td>329613</td><td>63.40423997233119</td></tr><tr><td>Kenya</td><td>2018</td><td>Baringo</td><td>Environmental protection</td><td>2.6193959814999998E8</td><td>719983</td><td>363.8135874735931</td></tr><tr><td>Kenya</td><td>2020</td><td>Tana River</td><td>Social protection</td><td>7.7453255E7</td><td>356274</td><td>217.3979998540449</td></tr><tr><td>Kenya</td><td>2020</td><td>Turkana</td><td>Social protection</td><td>7.7257025E7</td><td>1039404</td><td>74.32819673582168</td></tr><tr><td>Kenya</td><td>2020</td><td>Elgeyo Marakwet</td><td>General public services</td><td>3704850.0</td><td>509480</td><td>7.271826175708566</td></tr><tr><td>Kenya</td><td>2020</td><td>Laikipia</td><td>Recreation, culture and religion</td><td>3709252.0</td><td>584082</td><td>6.350567214877363</td></tr><tr><td>Kenya</td><td>2017</td><td>Kajiado</td><td>Health</td><td>1.71678747645E9</td><td>1110272</td><td>1546.2764768002796</td></tr><tr><td>Kenya</td><td>2017</td><td>Baringo</td><td>Public order and safety</td><td>2.0389526015E8</td><td>706821</td><td>288.4680281853539</td></tr><tr><td>Kenya</td><td>2018</td><td>Kiambu</td><td>Public order and safety</td><td>1.3257163024499998E9</td><td>2546938</td><td>520.5137708299142</td></tr><tr><td>Kenya</td><td>2019</td><td>Kwale</td><td>Health</td><td>2.585305299E9</td><td>951518</td><td>2717.032467068411</td></tr><tr><td>Kenya</td><td>2019</td><td>Mandera</td><td>Housing and community amenities</td><td>0.0</td><td>953313</td><td>0.0</td></tr><tr><td>Kenya</td><td>2020</td><td>Kericho</td><td>Social protection</td><td>7.1899313E7</td><td>1008092</td><td>71.32217396824893</td></tr><tr><td>Kenya</td><td>2020</td><td>Laikipia</td><td>Environmental protection</td><td>1.7072322E7</td><td>584082</td><td>29.229323964785767</td></tr><tr><td>Kenya</td><td>2016</td><td>Siaya</td><td>Economic affairs</td><td>1.2678501544500003E9</td><td>1039776</td><td>1219.349316054612</td></tr><tr><td>Kenya</td><td>2018</td><td>Tharaka Nithi</td><td>General public services</td><td>2.29670992E8</td><td>429906</td><td>534.2353723837304</td></tr><tr><td>Kenya</td><td>2019</td><td>Kitui</td><td>Social protection</td><td>6.25753395E7</td><td>1250389</td><td>50.04469769007885</td></tr><tr><td>Kenya</td><td>2019</td><td>Baringo</td><td>Environmental protection</td><td>6.99366825E8</td><td>733056</td><td>954.0428357451545</td></tr><tr><td>Kenya</td><td>2019</td><td>Bomet</td><td>Health</td><td>4.47118357E8</td><td>962642</td><td>464.47002831790013</td></tr><tr><td>Kenya</td><td>2019</td><td>Vihiga</td><td>Health</td><td>1.575339768E9</td><td>649836</td><td>2424.2112902332283</td></tr><tr><td>Kenya</td><td>2020</td><td>Kiambu</td><td>General public services</td><td>3.766523602E9</td><td>2754995</td><td>1367.1616834150334</td></tr><tr><td>Kenya</td><td>2020</td><td>Trans Nzoia</td><td>Health</td><td>2.129729316E9</td><td>1108719</td><td>1920.8918725123317</td></tr><tr><td>Kenya</td><td>2020</td><td>Nyamira</td><td>Education</td><td>7.35057219E8</td><td>667704</td><td>1100.8728703137917</td></tr><tr><td>Kenya</td><td>2020</td><td>Murang’A</td><td>Public order and safety</td><td>2.7151154685E8</td><td>1175266</td><td>231.02135759053698</td></tr><tr><td>Kenya</td><td>2020</td><td>Nairobi City</td><td>Public order and safety</td><td>5.6313485802E9</td><td>4984406</td><td>1129.7933154321697</td></tr><tr><td>Kenya</td><td>2016</td><td>West Pokot</td><td>Economic affairs</td><td>1.1703461333999996E9</td><td>644820</td><td>1814.9966399925554</td></tr><tr><td>Kenya</td><td>2017</td><td>Siaya</td><td>Housing and community amenities</td><td>6.349958424999999E7</td><td>1056857</td><td>60.0834211724008</td></tr><tr><td>Kenya</td><td>2017</td><td>Migori</td><td>Health</td><td>1.3508827868999999E9</td><td>1179905</td><td>1144.9080959060261</td></tr><tr><td>Kenya</td><td>2017</td><td>Kajiado</td><td>Social protection</td><td>8.191051145E7</td><td>1110272</td><td>73.7751753173997</td></tr><tr><td>Kenya</td><td>2018</td><td>Embu</td><td>Education</td><td>4.852465394500001E8</td><td>658507</td><td>736.8889616207574</td></tr><tr><td>Kenya</td><td>2019</td><td>Nandi</td><td>Education</td><td>6.6314180215E8</td><td>974055</td><td>680.8052955428594</td></tr><tr><td>Kenya</td><td>2019</td><td>Bungoma</td><td>Economic affairs</td><td>3.4740294475E9</td><td>1836335</td><td>1891.827715258926</td></tr><tr><td>Kenya</td><td>2019</td><td>Baringo</td><td>Social protection</td><td>3.8329271E7</td><td>733056</td><td>52.286961705517726</td></tr><tr><td>Kenya</td><td>2020</td><td>Kakamega</td><td>Recreation, culture and religion</td><td>5.76944488E8</td><td>2077815</td><td>277.6688434725902</td></tr><tr><td>Kenya</td><td>2020</td><td>Isiolo</td><td>Social protection</td><td>3.5710561E7</td><td>311403</td><td>114.67635507686181</td></tr><tr><td>Kenya</td><td>2020</td><td>Siaya</td><td>Social protection</td><td>2.2003952E7</td><td>1109487</td><td>19.832546032535756</td></tr><tr><td>Kenya</td><td>2016</td><td>Meru</td><td>General public services</td><td>2.1330371099499996E9</td><td>1635681</td><td>1304.0666914575638</td></tr><tr><td>Kenya</td><td>2016</td><td>Nandi</td><td>Recreation, culture and religion</td><td>5.816097695E7</td><td>927962</td><td>62.676033016438176</td></tr><tr><td>Kenya</td><td>2017</td><td>West Pokot</td><td>Economic affairs</td><td>2.3673014374000006E9</td><td>657207</td><td>3602.0636380927176</td></tr><tr><td>Kenya</td><td>2017</td><td>Bomet</td><td>General public services</td><td>1.1500595569E9</td><td>926793</td><td>1240.9022909106998</td></tr><tr><td>Kenya</td><td>2017</td><td>Mombasa</td><td>Housing and community amenities</td><td>563484.0</td><td>1261992</td><td>0.4465036228438849</td></tr><tr><td>Kenya</td><td>2018</td><td>Nyandarua</td><td>Economic affairs</td><td>1.1894493068E9</td><td>698341</td><td>1703.2499979236504</td></tr><tr><td>Kenya</td><td>2018</td><td>Kiambu</td><td>Housing and community amenities</td><td>2.3732118155E8</td><td>2546938</td><td>93.17901792269777</td></tr><tr><td>Kenya</td><td>2018</td><td>Uasin Gishu</td><td>Housing and community amenities</td><td>2.80754608E8</td><td>1244465</td><td>225.6026549561458</td></tr><tr><td>Kenya</td><td>2018</td><td>Trans Nzoia</td><td>Social protection</td><td>9.929469995E7</td><td>1068420</td><td>92.9360176241553</td></tr><tr><td>Kenya</td><td>2019</td><td>Tharaka Nithi</td><td>Social protection</td><td>7.6149305E7</td><td>432967</td><td>175.87784981303426</td></tr><tr><td>Kenya</td><td>2020</td><td>Narok</td><td>Environmental protection</td><td>3.34677389E8</td><td>1309378</td><td>255.60028425710527</td></tr><tr><td>Kenya</td><td>2016</td><td>Lamu</td><td>Education</td><td>2.2233056534999996E8</td><td>142194</td><td>1563.5720589476346</td></tr><tr><td>Kenya</td><td>2016</td><td>Tharaka Nithi</td><td>Social protection</td><td>0.0</td><td>423626</td><td>0.0</td></tr><tr><td>Kenya</td><td>2017</td><td>Narok</td><td>Social protection</td><td>1.2430518494999999E8</td><td>1194799</td><td>104.03857464728375</td></tr><tr><td>Kenya</td><td>2018</td><td>Bungoma</td><td>General public services</td><td>3.0578649415499988E9</td><td>1801381</td><td>1697.5114878806864</td></tr><tr><td>Kenya</td><td>2018</td><td>Kisii</td><td>Housing and community amenities</td><td>3.473053245E8</td><td>1381816</td><td>251.339776424647</td></tr><tr><td>Kenya</td><td>2018</td><td>Elgeyo Marakwet</td><td>Health</td><td>1.6902219627000003E9</td><td>489448</td><td>3453.322850844217</td></tr><tr><td>Kenya</td><td>2019</td><td>Baringo</td><td>Economic affairs</td><td>1.488172381E9</td><td>733056</td><td>2030.093718624498</td></tr><tr><td>Kenya</td><td>2020</td><td>Marsabit</td><td>Education</td><td>5.236306394E8</td><td>526582</td><td>994.3952497426801</td></tr><tr><td>Kenya</td><td>2020</td><td>Meru</td><td>Recreation, culture and religion</td><td>1.65500512E8</td><td>1721672</td><td>96.12778276001468</td></tr><tr><td>Kenya</td><td>2020</td><td>Baringo</td><td>Public order and safety</td><td>1.7780858495E8</td><td>745967</td><td>238.35985365304361</td></tr><tr><td>Kenya</td><td>2016</td><td>Samburu</td><td>General public services</td><td>1.2197546838500001E9</td><td>308797</td><td>3950.0211590462345</td></tr><tr><td>Kenya</td><td>2016</td><td>Laikipia</td><td>Economic affairs</td><td>4.705633390500001E8</td><td>526607</td><td>893.5759286336871</td></tr><tr><td>Kenya</td><td>2016</td><td>Kakamega</td><td>General public services</td><td>2.3618116578999996E9</td><td>1984614</td><td>1190.0609679766442</td></tr><tr><td>Kenya</td><td>2016</td><td>Marsabit</td><td>Recreation, culture and religion</td><td>4.8150716E7</td><td>439105</td><td>109.65649673768233</td></tr><tr><td>Kenya</td><td>2017</td><td>Migori</td><td>Economic affairs</td><td>1.8859288741999996E9</td><td>1179905</td><td>1598.3734912556515</td></tr><tr><td>Kenya</td><td>2018</td><td>Wajir</td><td>Education</td><td>7.864098672E8</td><td>841065</td><td>935.01675518539</td></tr><tr><td>Kenya</td><td>2019</td><td>Tana River</td><td>Public order and safety</td><td>1.3683932935E8</td><td>346887</td><td>394.47811347787604</td></tr><tr><td>Kenya</td><td>2016</td><td>Kwale</td><td>Housing and community amenities</td><td>5.560495323000001E8</td><td>872981</td><td>636.9549077242232</td></tr><tr><td>Kenya</td><td>2016</td><td>Makueni</td><td>General public services</td><td>1.8964221633499992E9</td><td>1051888</td><td>1802.8746058040392</td></tr><tr><td>Kenya</td><td>2016</td><td>Laikipia</td><td>General public services</td><td>2.7239021169500003E9</td><td>526607</td><td>5172.552049156202</td></tr><tr><td>Kenya</td><td>2017</td><td>Kirinyaga</td><td>Social protection</td><td>2.654502036E8</td><td>652302</td><td>406.94372177304376</td></tr><tr><td>Kenya</td><td>2017</td><td>Nakuru</td><td>Education</td><td>5.6526165885E8</td><td>2235441</td><td>252.86360000107362</td></tr><tr><td>Kenya</td><td>2018</td><td>Kwale</td><td>Social protection</td><td>1.8813626045000002E8</td><td>924747</td><td>203.44619712202368</td></tr><tr><td>Kenya</td><td>2019</td><td>Murang’A</td><td>Economic affairs</td><td>1.95890533555E9</td><td>1162856</td><td>1684.5639834596889</td></tr><tr><td>Kenya</td><td>2019</td><td>Siaya</td><td>Education</td><td>7.777452731E8</td><td>1092216</td><td>712.0800950544581</td></tr><tr><td>Kenya</td><td>2019</td><td>Tharaka Nithi</td><td>Housing and community amenities</td><td>5.1965682E7</td><td>432967</td><td>120.02226959560429</td></tr><tr><td>Kenya</td><td>2019</td><td>Siaya</td><td>Public order and safety</td><td>2.131533625E8</td><td>1092216</td><td>195.15678446387895</td></tr><tr><td>Kenya</td><td>2020</td><td>Murang’A</td><td>Education</td><td>3.38649296E8</td><td>1175266</td><td>288.1469352469994</td></tr><tr><td>Kenya</td><td>2020</td><td>Murang’A</td><td>Economic affairs</td><td>1.3224902238E9</td><td>1175266</td><td>1125.2688530085954</td></tr><tr><td>Kenya</td><td>2020</td><td>Kiambu</td><td>Public order and safety</td><td>1.4914107915E9</td><td>2754995</td><td>541.3479122466647</td></tr><tr><td>Kenya</td><td>2016</td><td>Uasin Gishu</td><td>Health</td><td>1.2472722395500002E9</td><td>1180687</td><td>1056.3953355546391</td></tr><tr><td>Kenya</td><td>2017</td><td>Isiolo</td><td>Housing and community amenities</td><td>4659921.0</td><td>258309</td><td>18.04010313229504</td></tr><tr><td>Kenya</td><td>2018</td><td>Taita Taveta</td><td>General public services</td><td>3.384128274449999E9</td><td>367982</td><td>9196.450572174723</td></tr><tr><td>Kenya</td><td>2018</td><td>Meru</td><td>Health</td><td>3.2563057292E9</td><td>1679035</td><td>1939.3912153111758</td></tr><tr><td>Kenya</td><td>2018</td><td>Siaya</td><td>Education</td><td>4.8940600050000006E8</td><td>1074637</td><td>455.4151778693643</td></tr><tr><td>Kenya</td><td>2018</td><td>Bungoma</td><td>Environmental protection</td><td>4.377122045E7</td><td>1801381</td><td>24.298702190153</td></tr><tr><td>Kenya</td><td>2019</td><td>Baringo</td><td>General public services</td><td>1.602458445E9</td><td>733056</td><td>2185.9973112558932</td></tr><tr><td>Kenya</td><td>2019</td><td>Busia</td><td>Education</td><td>5.2056086925E8</td><td>982510</td><td>529.8275531546752</td></tr><tr><td>Kenya</td><td>2019</td><td>Laikipia</td><td>Environmental protection</td><td>2.3427114E7</td><td>569446</td><td>41.14018537315215</td></tr><tr><td>Kenya</td><td>2020</td><td>Garissa</td><td>Housing and community amenities</td><td>7.60373559E8</td><td>1052172</td><td>722.67039894618</td></tr><tr><td>Kenya</td><td>2020</td><td>Bomet</td><td>Health</td><td>5.07173765E8</td><td>980330</td><td>517.3500402925546</td></tr><tr><td>Kenya</td><td>2016</td><td>Bomet</td><td>Social protection</td><td>3.3356003835E8</td><td>909525</td><td>366.74092339407935</td></tr><tr><td>Kenya</td><td>2016</td><td>Kisumu</td><td>Housing and community amenities</td><td>1777803.2</td><td>1205448</td><td>1.474807042692841</td></tr><tr><td>Kenya</td><td>2017</td><td>Turkana</td><td>General public services</td><td>4.00514340525E9</td><td>977164</td><td>4098.742284048532</td></tr><tr><td>Kenya</td><td>2017</td><td>Kajiado</td><td>Environmental protection</td><td>2.593218093E8</td><td>1110272</td><td>233.5660174263604</td></tr><tr><td>Kenya</td><td>2017</td><td>Kajiado</td><td>Recreation, culture and religion</td><td>3997794.7</td><td>1110272</td><td>3.600734504697948</td></tr><tr><td>Kenya</td><td>2017</td><td>Kericho</td><td>Social protection</td><td>5.8692731E7</td><td>957838</td><td>61.276260703793334</td></tr><tr><td>Kenya</td><td>2018</td><td>Machakos</td><td>General public services</td><td>1.5296018458000002E9</td><td>1522169</td><td>1004.8830621304206</td></tr><tr><td>Kenya</td><td>2018</td><td>Bomet</td><td>Housing and community amenities</td><td>6529440.0</td><td>944760</td><td>6.911215546805538</td></tr><tr><td>Kenya</td><td>2018</td><td>Kisumu</td><td>Social protection</td><td>8.08156812E7</td><td>1248702</td><td>64.71974994834636</td></tr><tr><td>Kenya</td><td>2018</td><td>Nakuru</td><td>Recreation, culture and religion</td><td>5.2795947150000006E8</td><td>2303736</td><td>229.17533584577401</td></tr><tr><td>Kenya</td><td>2018</td><td>Bomet</td><td>Environmental protection</td><td>9.203079393499999E8</td><td>944760</td><td>974.1182303971378</td></tr><tr><td>Kenya</td><td>2019</td><td>Kilifi</td><td>Housing and community amenities</td><td>7.72491628E8</td><td>1596266</td><td>483.9366546678311</td></tr><tr><td>Kenya</td><td>2019</td><td>Tharaka Nithi</td><td>Health</td><td>1.758676133E9</td><td>432967</td><td>4061.9172662119745</td></tr><tr><td>Kenya</td><td>2020</td><td>Kwale</td><td>Housing and community amenities</td><td>6.53616759E8</td><td>978569</td><td>667.931192383981</td></tr><tr><td>Kenya</td><td>2020</td><td>Nandi</td><td>Housing and community amenities</td><td>3.26173256E8</td><td>989217</td><td>329.72872079634703</td></tr><tr><td>Kenya</td><td>2020</td><td>Nyamira</td><td>Environmental protection</td><td>8.3510693E7</td><td>667704</td><td>125.07142835747577</td></tr><tr><td>Kenya</td><td>2016</td><td>Samburu</td><td>Education</td><td>4.5236355429999995E8</td><td>308797</td><td>1464.922114852152</td></tr><tr><td>Kenya</td><td>2017</td><td>Lamu</td><td>Housing and community amenities</td><td>8061986.8</td><td>147217</td><td>54.76260757928772</td></tr><tr><td>Kenya</td><td>2017</td><td>Marsabit</td><td>Environmental protection</td><td>1.742702754E8</td><td>459531</td><td>379.2350796790641</td></tr><tr><td>Kenya</td><td>2019</td><td>Kitui</td><td>General public services</td><td>3.2475303498E9</td><td>1250389</td><td>2597.2160262126426</td></tr><tr><td>Kenya</td><td>2019</td><td>Bomet</td><td>Education</td><td>3.3926796795E8</td><td>962642</td><td>352.434204979629</td></tr><tr><td>Kenya</td><td>2020</td><td>Siaya</td><td>Education</td><td>6.14066609E8</td><td>1109487</td><td>553.4689536695788</td></tr><tr><td>Kenya</td><td>2020</td><td>Marsabit</td><td>Public order and safety</td><td>1.7411022945E8</td><td>526582</td><td>330.64219713169075</td></tr><tr><td>Kenya</td><td>2016</td><td>Nyandarua</td><td>Recreation, culture and religion</td><td>4.472738355E7</td><td>688885</td><td>64.92721361330265</td></tr><tr><td>Kenya</td><td>2016</td><td>Homa Bay</td><td>General public services</td><td>2.0844726451E9</td><td>1186528</td><td>1756.7833587576524</td></tr><tr><td>Kenya</td><td>2017</td><td>Isiolo</td><td>Economic affairs</td><td>9.3022994205E8</td><td>258309</td><td>3601.2293108254066</td></tr><tr><td>Kenya</td><td>2017</td><td>Laikipia</td><td>General public services</td><td>3.6829338224E9</td><td>540450</td><td>6814.569011749468</td></tr><tr><td>Kenya</td><td>2017</td><td>Narok</td><td>Recreation, culture and religion</td><td>2.841377022E8</td><td>1194799</td><td>237.81213593248737</td></tr><tr><td>Kenya</td><td>2018</td><td>Turkana</td><td>General public services</td><td>1.9294303898999999E9</td><td>997968</td><td>1933.3589753378865</td></tr><tr><td>Kenya</td><td>2018</td><td>Kakamega</td><td>Health</td><td>7.687566135E8</td><td>2031790</td><td>378.36420766909964</td></tr><tr><td>Kenya</td><td>2019</td><td>Taita Taveta</td><td>Environmental protection</td><td>8.6882643E7</td><td>374561</td><td>231.9585941942701</td></tr><tr><td>Kenya</td><td>2020</td><td>Marsabit</td><td>Environmental protection</td><td>1.02037754E8</td><td>526582</td><td>193.77372185148752</td></tr><tr><td>Kenya</td><td>2020</td><td>Elgeyo Marakwet</td><td>Housing and community amenities</td><td>1.16490938E8</td><td>509480</td><td>228.64673392478605</td></tr><tr><td>Kenya</td><td>2020</td><td>Siaya</td><td>Public order and safety</td><td>2.0035658795E8</td><td>1109487</td><td>180.58489008884285</td></tr><tr><td>Kenya</td><td>2016</td><td>Mandera</td><td>Health</td><td>5.527424884000001E8</td><td>895698</td><td>617.1080971488159</td></tr><tr><td>Kenya</td><td>2016</td><td>Baringo</td><td>Education</td><td>5.1727817065E8</td><td>694159</td><td>745.1868673459538</td></tr><tr><td>Kenya</td><td>2018</td><td>Samburu</td><td>Housing and community amenities</td><td>3.0701631240000004E8</td><td>329613</td><td>931.444792529421</td></tr><tr><td>Kenya</td><td>2018</td><td>Makueni</td><td>Social protection</td><td>2.601162015E7</td><td>1075366</td><td>24.188620571972702</td></tr><tr><td>Kenya</td><td>2018</td><td>Nyeri</td><td>Recreation, culture and religion</td><td>6.21794024E7</td><td>828455</td><td>75.05465281759419</td></tr><tr><td>Kenya</td><td>2019</td><td>Kajiado</td><td>Public order and safety</td><td>3.3799184779999995E8</td><td>1223473</td><td>276.25607414303374</td></tr><tr><td>Kenya</td><td>2019</td><td>Kericho</td><td>Social protection</td><td>7.6437092E7</td><td>991559</td><td>77.08779003569127</td></tr><tr><td>Kenya</td><td>2020</td><td>Tharaka Nithi</td><td>Environmental protection</td><td>6.9857696E7</td><td>435803</td><td>160.29650094193937</td></tr><tr><td>Kenya</td><td>2020</td><td>Narok</td><td>General public services</td><td>2.3904944736E9</td><td>1309378</td><td>1825.6717873677426</td></tr><tr><td>Kenya</td><td>2016</td><td>Kirinyaga</td><td>Social protection</td><td>2.1409051115000004E8</td><td>643037</td><td>332.93653576699325</td></tr><tr><td>Kenya</td><td>2017</td><td>Nandi</td><td>General public services</td><td>1.6684760958499997E9</td><td>942976</td><td>1769.372811025943</td></tr><tr><td>Kenya</td><td>2017</td><td>Kisumu</td><td>Housing and community amenities</td><td>2.190947525E7</td><td>1226647</td><td>17.86127162093088</td></tr><tr><td>Kenya</td><td>2019</td><td>Marsabit</td><td>Health</td><td>2.005992097E9</td><td>503447</td><td>3984.5149479488405</td></tr><tr><td>Kenya</td><td>2019</td><td>Kericho</td><td>Public order and safety</td><td>2.7536505515E8</td><td>991559</td><td>277.709198494492</td></tr><tr><td>Kenya</td><td>2020</td><td>Homa Bay</td><td>Public order and safety</td><td>1.9151887995E8</td><td>1264071</td><td>151.50959079830167</td></tr><tr><td>Kenya</td><td>2016</td><td>Vihiga</td><td>Environmental protection</td><td>6.6310648E7</td><td>638039</td><td>103.92883193660576</td></tr><tr><td>Kenya</td><td>2016</td><td>Kilifi</td><td>Social protection</td><td>1.473037715E7</td><td>1472402</td><td>10.004317536922661</td></tr><tr><td>Kenya</td><td>2016</td><td>Machakos</td><td>Social protection</td><td>2.967165E7</td><td>1445601</td><td>20.525476946958392</td></tr><tr><td>Kenya</td><td>2018</td><td>Kisumu</td><td>Economic affairs</td><td>2.998644373400001E9</td><td>1248702</td><td>2401.409121952236</td></tr><tr><td>Kenya</td><td>2018</td><td>Nairobi City</td><td>Economic affairs</td><td>4.8800083013E9</td><td>4664602</td><td>1046.1789240110948</td></tr><tr><td>Kenya</td><td>2018</td><td>Kericho</td><td>General public services</td><td>5.808256139000001E8</td><td>974777</td><td>595.8548610605299</td></tr><tr><td>Kenya</td><td>2019</td><td>West Pokot</td><td>Housing and community amenities</td><td>2.5703768E7</td><td>682913</td><td>37.638422463769174</td></tr><tr><td>Kenya</td><td>2019</td><td>Wajir</td><td>Social protection</td><td>7.6313207E7</td><td>858572</td><td>88.88387578444207</td></tr><tr><td>Kenya</td><td>2016</td><td>Nyeri</td><td>Recreation, culture and religion</td><td>4.75906084E7</td><td>813608</td><td>58.49328964316968</td></tr><tr><td>Kenya</td><td>2016</td><td>Elgeyo Marakwet</td><td>Recreation, culture and religion</td><td>2.3553014099999998E7</td><td>469714</td><td>50.1433086942267</td></tr><tr><td>Kenya</td><td>2016</td><td>Turkana</td><td>Housing and community amenities</td><td>0.0</td><td>957176</td><td>0.0</td></tr><tr><td>Kenya</td><td>2017</td><td>Meru</td><td>Economic affairs</td><td>2.0358056495000005E9</td><td>1656898</td><td>1228.6849579756874</td></tr><tr><td>Kenya</td><td>2017</td><td>Nyamira</td><td>Environmental protection</td><td>1.5594830285E8</td><td>665887</td><td>234.19634690270271</td></tr><tr><td>Kenya</td><td>2018</td><td>Turkana</td><td>Economic affairs</td><td>3.5436652720000005E8</td><td>997968</td><td>355.0880661504177</td></tr><tr><td>Kenya</td><td>2018</td><td>Wajir</td><td>Housing and community amenities</td><td>5278538.0</td><td>841065</td><td>6.276016716900596</td></tr><tr><td>Kenya</td><td>2018</td><td>Turkana</td><td>Housing and community amenities</td><td>100400.0</td><td>997968</td><td>0.10060442819809853</td></tr><tr><td>Kenya</td><td>2018</td><td>Samburu</td><td>Recreation, culture and religion</td><td>7.479833985E7</td><td>329613</td><td>226.9277602825131</td></tr><tr><td>Kenya</td><td>2019</td><td>Kirinyaga</td><td>Economic affairs</td><td>1.4286438398E9</td><td>671452</td><td>2127.693178067829</td></tr><tr><td>Kenya</td><td>2019</td><td>Samburu</td><td>Housing and community amenities</td><td>3.08658075E8</td><td>340457</td><td>906.5992915404883</td></tr><tr><td>Kenya</td><td>2019</td><td>Kisii</td><td>Recreation, culture and religion</td><td>1.9763941E7</td><td>1394616</td><td>14.17160064132349</td></tr><tr><td>Kenya</td><td>2019</td><td>Kisumu</td><td>Housing and community amenities</td><td>2.43824856E7</td><td>1270584</td><td>19.18998318883285</td></tr><tr><td>Kenya</td><td>2020</td><td>Migori</td><td>Housing and community amenities</td><td>9.967047E7</td><td>1250557</td><td>79.70086129620641</td></tr><tr><td>Kenya</td><td>2016</td><td>Samburu</td><td>Housing and community amenities</td><td>5.1307520334999996E8</td><td>308797</td><td>1661.5291060146308</td></tr><tr><td>Kenya</td><td>2017</td><td>Marsabit</td><td>Health</td><td>1.3089157224E9</td><td>459531</td><td>2848.3730638411776</td></tr><tr><td>Kenya</td><td>2017</td><td>Kajiado</td><td>Public order and safety</td><td>1.569808187E8</td><td>1110272</td><td>141.38951419111712</td></tr><tr><td>Kenya</td><td>2018</td><td>Trans Nzoia</td><td>Housing and community amenities</td><td>1.0882295E7</td><td>1068420</td><td>10.18540929596975</td></tr><tr><td>Kenya</td><td>2019</td><td>Tana River</td><td>Health</td><td>9.63978706E8</td><td>346887</td><td>2778.9415746338145</td></tr><tr><td>Kenya</td><td>2019</td><td>Nyandarua</td><td>Education</td><td>2.574512128E8</td><td>702930</td><td>366.254410538745</td></tr><tr><td>Kenya</td><td>2019</td><td>Busia</td><td>General public services</td><td>2.358826519E9</td><td>982510</td><td>2400.8168049180163</td></tr><tr><td>Kenya</td><td>2019</td><td>Kisumu</td><td>Education</td><td>6.822185742E8</td><td>1270584</td><td>536.9330750269168</td></tr><tr><td>Kenya</td><td>2019</td><td>Nyamira</td><td>Education</td><td>7.61183499E8</td><td>667466</td><td>1140.407899428585</td></tr><tr><td>Kenya</td><td>2020</td><td>Trans Nzoia</td><td>Recreation, culture and religion</td><td>8.9548884E7</td><td>1108719</td><td>80.76788077051083</td></tr><tr><td>Kenya</td><td>2020</td><td>Narok</td><td>Social protection</td><td>2.6506276E7</td><td>1309378</td><td>20.243410229895417</td></tr><tr><td>Kenya</td><td>2016</td><td>Tharaka Nithi</td><td>Housing and community amenities</td><td>1.6565117E7</td><td>423626</td><td>39.10316411174007</td></tr><tr><td>Kenya</td><td>2016</td><td>Machakos</td><td>Recreation, culture and religion</td><td>5.9866506695E8</td><td>1445601</td><td>414.128841187852</td></tr><tr><td>Kenya</td><td>2016</td><td>Vihiga</td><td>Housing and community amenities</td><td>663744.0</td><td>638039</td><td>1.0402875059361576</td></tr><tr><td>Kenya</td><td>2016</td><td>Isiolo</td><td>Housing and community amenities</td><td>0.0</td><td>242687</td><td>0.0</td></tr><tr><td>Kenya</td><td>2017</td><td>Marsabit</td><td>Economic affairs</td><td>1.9234338749E9</td><td>459531</td><td>4185.645527505218</td></tr><tr><td>Kenya</td><td>2017</td><td>Nyamira</td><td>Economic affairs</td><td>1.7376133733500001E9</td><td>665887</td><td>2609.4718373387677</td></tr><tr><td>Kenya</td><td>2018</td><td>Vihiga</td><td>Economic affairs</td><td>4.9969444409999996E8</td><td>645985</td><td>773.5387727269208</td></tr><tr><td>Kenya</td><td>2018</td><td>West Pokot</td><td>Housing and community amenities</td><td>9.088416035000001E7</td><td>670083</td><td>135.6311984485504</td></tr><tr><td>Kenya</td><td>2019</td><td>Taita Taveta</td><td>Housing and community amenities</td><td>5.8554661E7</td><td>374561</td><td>156.3287715485595</td></tr><tr><td>Kenya</td><td>2019</td><td>Nyandarua</td><td>Economic affairs</td><td>1.76585951E9</td><td>702930</td><td>2512.141336975232</td></tr><tr><td>Kenya</td><td>2019</td><td>Kilifi</td><td>Health</td><td>2.639568183E9</td><td>1596266</td><td>1653.5891781194362</td></tr><tr><td>Kenya</td><td>2020</td><td>Kwale</td><td>Economic affairs</td><td>2.97126420105E9</td><td>978569</td><td>3036.335916067237</td></tr><tr><td>Kenya</td><td>2016</td><td>Elgeyo Marakwet</td><td>Social protection</td><td>1.663064655E7</td><td>469714</td><td>35.405899228040894</td></tr><tr><td>Kenya</td><td>2016</td><td>Samburu</td><td>Social protection</td><td>2.87851756E7</td><td>308797</td><td>93.21714783498545</td></tr><tr><td>Kenya</td><td>2017</td><td>Kitui</td><td>Education</td><td>7.8158543235E8</td><td>1222018</td><td>639.585859087182</td></tr><tr><td>Kenya</td><td>2017</td><td>Trans Nzoia</td><td>Education</td><td>4.8463782085E8</td><td>1048071</td><td>462.4093413995808</td></tr><tr><td>Kenya</td><td>2017</td><td>Taita Taveta</td><td>Public order and safety</td><td>1.991518626E8</td><td>361353</td><td>551.1282944931963</td></tr><tr><td>Kenya</td><td>2018</td><td>Kakamega</td><td>Social protection</td><td>6.19073586E7</td><td>2031790</td><td>30.469368684755807</td></tr><tr><td>Kenya</td><td>2018</td><td>Kitui</td><td>Education</td><td>7.1488083985E8</td><td>1236405</td><td>578.1931000359915</td></tr><tr><td>Kenya</td><td>2020</td><td>Migori</td><td>Education</td><td>5.53559935E8</td><td>1250557</td><td>442.65070284681144</td></tr><tr><td>Kenya</td><td>2016</td><td>Laikipia</td><td>Housing and community amenities</td><td>2.49732812E7</td><td>526607</td><td>47.42299513679081</td></tr><tr><td>Kenya</td><td>2018</td><td>Elgeyo Marakwet</td><td>General public services</td><td>1.0870989859999998E9</td><td>489448</td><td>2221.0714641800555</td></tr><tr><td>Kenya</td><td>2018</td><td>Bomet</td><td>Social protection</td><td>1.200150925E8</td><td>944760</td><td>127.0323600702824</td></tr><tr><td>Kenya</td><td>2018</td><td>Makueni</td><td>Environmental protection</td><td>2089200.0</td><td>1075366</td><td>1.942780411506408</td></tr><tr><td>Kenya</td><td>2019</td><td>Kwale</td><td>Education</td><td>1.83928818505E9</td><td>951518</td><td>1933.0040893078217</td></tr><tr><td>Kenya</td><td>2019</td><td>Meru</td><td>Public order and safety</td><td>7.568208389E8</td><td>1700686</td><td>445.0091544823677</td></tr><tr><td>Kenya</td><td>2020</td><td>Mombasa</td><td>Environmental protection</td><td>2.7564628E8</td><td>1359896</td><td>202.6965885626548</td></tr><tr><td>Kenya</td><td>2020</td><td>Elgeyo Marakwet</td><td>Education</td><td>1.1504538663E9</td><td>509480</td><td>2258.0942653293555</td></tr><tr><td>Kenya</td><td>2020</td><td>Nandi</td><td>Economic affairs</td><td>1.5970363595E9</td><td>989217</td><td>1614.4449190622481</td></tr><tr><td>Kenya</td><td>2016</td><td>Nandi</td><td>Health</td><td>1.3366684078500004E9</td><td>927962</td><td>1440.434422799641</td></tr><tr><td>Kenya</td><td>2016</td><td>Kakamega</td><td>Education</td><td>2.292709986E8</td><td>1984614</td><td>115.52422717969338</td></tr><tr><td>Kenya</td><td>2017</td><td>Tana River</td><td>Economic affairs</td><td>5.2130771825E8</td><td>328361</td><td>1587.6054654785435</td></tr><tr><td>Kenya</td><td>2017</td><td>Taita Taveta</td><td>Health</td><td>5.079768874999999E8</td><td>361353</td><td>1405.7635815947283</td></tr><tr><td>Kenya</td><td>2018</td><td>Narok</td><td>Social protection</td><td>2.37327747E7</td><td>1232410</td><td>19.257207179428924</td></tr><tr><td>Kenya</td><td>2019</td><td>Busia</td><td>Housing and community amenities</td><td>1.58665678E8</td><td>982510</td><td>161.49014055836582</td></tr><tr><td>Kenya</td><td>2019</td><td>Nyamira</td><td>Economic affairs</td><td>2.2262728145E9</td><td>667466</td><td>3335.410065081967</td></tr><tr><td>Kenya</td><td>2020</td><td>Kakamega</td><td>Public order and safety</td><td>3.3068061370000005E8</td><td>2077815</td><td>159.14824645119995</td></tr><tr><td>Kenya</td><td>2016</td><td>West Pokot</td><td>Education</td><td>3.6557301975E8</td><td>644820</td><td>566.9380908625662</td></tr><tr><td>Kenya</td><td>2017</td><td>Lamu</td><td>Social protection</td><td>3.5211643699999996E7</td><td>147217</td><td>239.18191309427576</td></tr><tr><td>Kenya</td><td>2018</td><td>Bomet</td><td>General public services</td><td>2.0893397761999996E9</td><td>944760</td><td>2211.503213726237</td></tr><tr><td>Kenya</td><td>2019</td><td>Machakos</td><td>Social protection</td><td>1.33596636E8</td><td>1561560</td><td>85.55331591485438</td></tr><tr><td>Kenya</td><td>2020</td><td>Bomet</td><td>General public services</td><td>1.027540608E9</td><td>980330</td><td>1048.1578733691715</td></tr><tr><td>Kenya</td><td>2017</td><td>Laikipia</td><td>Housing and community amenities</td><td>8945470.0</td><td>540450</td><td>16.55189194190027</td></tr><tr><td>Kenya</td><td>2018</td><td>Embu</td><td>Economic affairs</td><td>1.3865013516999998E9</td><td>658507</td><td>2105.52257105847</td></tr><tr><td>Kenya</td><td>2019</td><td>Marsabit</td><td>Economic affairs</td><td>2.800550908E9</td><td>503447</td><td>5562.752202317225</td></tr><tr><td>Kenya</td><td>2019</td><td>Nakuru</td><td>Recreation, culture and religion</td><td>8.43525742E8</td><td>2373034</td><td>355.46298198845864</td></tr><tr><td>Kenya</td><td>2019</td><td>Kajiado</td><td>Environmental protection</td><td>2.94448489E8</td><td>1223473</td><td>240.66611114425902</td></tr><tr><td>Kenya</td><td>2019</td><td>Samburu</td><td>Social protection</td><td>3.0012178E7</td><td>340457</td><td>88.15262426679433</td></tr><tr><td>Kenya</td><td>2020</td><td>Marsabit</td><td>Economic affairs</td><td>1.6583191928E9</td><td>526582</td><td>3149.213594084112</td></tr><tr><td>Kenya</td><td>2020</td><td>Baringo</td><td>Economic affairs</td><td>2.879493327E9</td><td>745967</td><td>3860.081380275535</td></tr><tr><td>Kenya</td><td>2016</td><td>Kisii</td><td>General public services</td><td>2.42407661815E9</td><td>1355863</td><td>1787.8477531653273</td></tr><tr><td>Kenya</td><td>2016</td><td>Isiolo</td><td>Social protection</td><td>3.1257275E7</td><td>242687</td><td>128.79665989525603</td></tr><tr><td>Kenya</td><td>2017</td><td>Vihiga</td><td>Social protection</td><td>3.927783505E7</td><td>641879</td><td>61.19196149118447</td></tr><tr><td>Kenya</td><td>2018</td><td>Kitui</td><td>Health</td><td>2.5195237693E9</td><td>1236405</td><td>2037.78193172949</td></tr><tr><td>Kenya</td><td>2018</td><td>Embu</td><td>Public order and safety</td><td>1.48634547E8</td><td>658507</td><td>225.71445254188643</td></tr><tr><td>Kenya</td><td>2018</td><td>Kitui</td><td>Public order and safety</td><td>1.9155363985E8</td><td>1236405</td><td>154.92790780529035</td></tr><tr><td>Kenya</td><td>2018</td><td>Baringo</td><td>Public order and safety</td><td>1.315345797E8</td><td>719983</td><td>182.69122979292567</td></tr><tr><td>Kenya</td><td>2018</td><td>Murang’A</td><td>General public services</td><td>4.1736252246999993E9</td><td>1149942</td><td>3629.422374954562</td></tr><tr><td>Kenya</td><td>2019</td><td>Busia</td><td>Recreation, culture and religion</td><td>2.51640961E8</td><td>982510</td><td>256.1205086971125</td></tr><tr><td>Kenya</td><td>2019</td><td>Migori</td><td>Health</td><td>1.830444472E9</td><td>1227169</td><td>1491.599341248027</td></tr><tr><td>Kenya</td><td>2020</td><td>Narok</td><td>Health</td><td>2.728603696E9</td><td>1309378</td><td>2083.8930362355254</td></tr><tr><td>Kenya</td><td>2016</td><td>Meru</td><td>Social protection</td><td>1.1559080905E8</td><td>1635681</td><td>70.66830821535495</td></tr><tr><td>Kenya</td><td>2016</td><td>Mombasa</td><td>Social protection</td><td>1.04154795E7</td><td>1230848</td><td>8.462035523476498</td></tr><tr><td>Kenya</td><td>2017</td><td>Elgeyo Marakwet</td><td>Recreation, culture and religion</td><td>1.9231788599999998E7</td><td>479383</td><td>40.117794331463564</td></tr><tr><td>Kenya</td><td>2018</td><td>Vihiga</td><td>Social protection</td><td>3.47282625E7</td><td>645985</td><td>53.76016857976578</td></tr><tr><td>Kenya</td><td>2019</td><td>Siaya</td><td>Recreation, culture and religion</td><td>3.40512095E8</td><td>1092216</td><td>311.7625954939316</td></tr><tr><td>Kenya</td><td>2019</td><td>Homa Bay</td><td>General public services</td><td>2.2758261512E9</td><td>1244894</td><td>1828.1284600937909</td></tr><tr><td>Kenya</td><td>2019</td><td>Migori</td><td>General public services</td><td>2.94902233E9</td><td>1227169</td><td>2403.110191016885</td></tr><tr><td>Kenya</td><td>2020</td><td>Taita Taveta</td><td>Health</td><td>3.99915822E8</td><td>381049</td><td>1049.5128500534051</td></tr><tr><td>Kenya</td><td>2020</td><td>Turkana</td><td>Housing and community amenities</td><td>1.2535729E7</td><td>1039404</td><td>12.06049716953177</td></tr><tr><td>Kenya</td><td>2020</td><td>Kisumu</td><td>Public order and safety</td><td>5.743214319E8</td><td>1292152</td><td>444.46894165701866</td></tr><tr><td>Kenya</td><td>2016</td><td>Siaya</td><td>Recreation, culture and religion</td><td>3.1158946565000004E8</td><td>1039776</td><td>299.6697996972425</td></tr><tr><td>Kenya</td><td>2017</td><td>Nandi</td><td>Recreation, culture and religion</td><td>1.7799791615E8</td><td>942976</td><td>188.7618732078017</td></tr><tr><td>Kenya</td><td>2018</td><td>Kakamega</td><td>Housing and community amenities</td><td>3.43388587E7</td><td>2031790</td><td>16.900791272720117</td></tr><tr><td>Kenya</td><td>2018</td><td>Kajiado</td><td>Housing and community amenities</td><td>-224030.0</td><td>1165768</td><td>-0.19217374297458842</td></tr><tr><td>Kenya</td><td>2018</td><td>Nyeri</td><td>Social protection</td><td>5.24512961E7</td><td>828455</td><td>63.31218485011256</td></tr><tr><td>Kenya</td><td>2018</td><td>Nairobi City</td><td>Recreation, culture and religion</td><td>3.76845372E8</td><td>4664602</td><td>80.78832277651983</td></tr><tr><td>Kenya</td><td>2019</td><td>Kwale</td><td>Environmental protection</td><td>5.41422482E8</td><td>951518</td><td>569.009185322821</td></tr><tr><td>Kenya</td><td>2019</td><td>Embu</td><td>Economic affairs</td><td>1.848290404E9</td><td>669272</td><td>2761.64310474665</td></tr><tr><td>Kenya</td><td>2019</td><td>Bungoma</td><td>Health</td><td>3.362545867E9</td><td>1836335</td><td>1831.1178880759774</td></tr><tr><td>Kenya</td><td>2020</td><td>West Pokot</td><td>General public services</td><td>1.876699006E9</td><td>695607</td><td>2697.930017955541</td></tr><tr><td>Kenya</td><td>2020</td><td>Vihiga</td><td>Housing and community amenities</td><td>5228287.0</td><td>653324</td><td>8.002594424818314</td></tr><tr><td>Kenya</td><td>2016</td><td>Makueni</td><td>Social protection</td><td>0.0</td><td>1051888</td><td>0.0</td></tr><tr><td>Kenya</td><td>2016</td><td>Migori</td><td>Social protection</td><td>7.9E7</td><td>1157150</td><td>68.2711835112129</td></tr><tr><td>Kenya</td><td>2017</td><td>Narok</td><td>Environmental protection</td><td>2.214103345E8</td><td>1194799</td><td>185.3117842415335</td></tr><tr><td>Kenya</td><td>2017</td><td>Busia</td><td>General public services</td><td>2.3202632323E9</td><td>947172</td><td>2449.6746444151645</td></tr><tr><td>Kenya</td><td>2018</td><td>Kilifi</td><td>Housing and community amenities</td><td>8.153085248000001E8</td><td>1554127</td><td>524.6086869348516</td></tr><tr><td>Kenya</td><td>2018</td><td>Kisii</td><td>Health</td><td>7.071816889499999E8</td><td>1381816</td><td>511.7770303354426</td></tr><tr><td>Kenya</td><td>2019</td><td>Mombasa</td><td>Environmental protection</td><td>4.679765E7</td><td>1327105</td><td>35.26295960003165</td></tr><tr><td>Kenya</td><td>2019</td><td>Makueni</td><td>Economic affairs</td><td>2.529881948E9</td><td>1087010</td><td>2327.3768852172475</td></tr><tr><td>Kenya</td><td>2019</td><td>Migori</td><td>Education</td><td>4.775212985E8</td><td>1227169</td><td>389.1243166181675</td></tr><tr><td>Kenya</td><td>2020</td><td>Narok</td><td>Economic affairs</td><td>2.0176961485E9</td><td>1309378</td><td>1540.9577284023408</td></tr><tr><td>Kenya</td><td>2020</td><td>Kericho</td><td>Health</td><td>2.665694288E9</td><td>1008092</td><td>2644.296639592418</td></tr><tr><td>Kenya</td><td>2020</td><td>Siaya</td><td>General public services</td><td>2.073031077E9</td><td>1109487</td><td>1868.4590959605655</td></tr><tr><td>Kenya</td><td>2020</td><td>Meru</td><td>Social protection</td><td>1.65799478E8</td><td>1721672</td><td>96.30143139924445</td></tr><tr><td>Kenya</td><td>2017</td><td>Kitui</td><td>Environmental protection</td><td>1.0429980750000001E8</td><td>1222018</td><td>85.35046742355678</td></tr><tr><td>Kenya</td><td>2017</td><td>Laikipia</td><td>Health</td><td>3.9245951E8</td><td>540450</td><td>726.1717272643168</td></tr><tr><td>Kenya</td><td>2017</td><td>Kisumu</td><td>Social protection</td><td>6.4844548900000006E7</td><td>1226647</td><td>52.86325153039139</td></tr><tr><td>Kenya</td><td>2018</td><td>Elgeyo Marakwet</td><td>Economic affairs</td><td>9.930702966500002E8</td><td>489448</td><td>2028.9597600766583</td></tr><tr><td>Kenya</td><td>2018</td><td>Meru</td><td>Social protection</td><td>1.3255817685000001E8</td><td>1679035</td><td>78.94902539256181</td></tr><tr><td>Kenya</td><td>2018</td><td>Vihiga</td><td>Public order and safety</td><td>5.3825323E7</td><td>645985</td><td>83.32286817805367</td></tr><tr><td>Kenya</td><td>2019</td><td>Garissa</td><td>Recreation, culture and religion</td><td>8.6451874E7</td><td>1012333</td><td>85.39865241970774</td></tr><tr><td>Kenya</td><td>2019</td><td>Makueni</td><td>Education</td><td>6.2179730625E8</td><td>1087010</td><td>572.0253781013975</td></tr><tr><td>Kenya</td><td>2019</td><td>Turkana</td><td>General public services</td><td>5.832404444E9</td><td>1018738</td><td>5725.127014011453</td></tr><tr><td>Kenya</td><td>2020</td><td>Makueni</td><td>Public order and safety</td><td>2.531954503E8</td><td>1098172</td><td>230.56083227399716</td></tr><tr><td>Kenya</td><td>2020</td><td>Bungoma</td><td>Environmental protection</td><td>5.9272864E7</td><td>1870968</td><td>31.680319492369726</td></tr><tr><td>Kenya</td><td>2016</td><td>Trans Nzoia</td><td>General public services</td><td>1.3672141233E9</td><td>1028502</td><td>1329.325682691915</td></tr><tr><td>Kenya</td><td>2017</td><td>Nyandarua</td><td>Housing and community amenities</td><td>2.6349583054999998E8</td><td>693462</td><td>379.97154934228547</td></tr><tr><td>Kenya</td><td>2017</td><td>Nyeri</td><td>Recreation, culture and religion</td><td>9.8387623E7</td><td>820838</td><td>119.86241255887276</td></tr><tr><td>Kenya</td><td>2017</td><td>Homa Bay</td><td>Health</td><td>1.67876495815E9</td><td>1205544</td><td>1392.537276242095</td></tr><tr><td>Kenya</td><td>2017</td><td>Kisii</td><td>Social protection</td><td>1.628311048E8</td><td>1368521</td><td>118.98327084494868</td></tr><tr><td>Kenya</td><td>2018</td><td>Embu</td><td>Housing and community amenities</td><td>-112130.0</td><td>658507</td><td>-0.1702791314291268</td></tr><tr><td>Kenya</td><td>2018</td><td>Busia</td><td>Social protection</td><td>1.2034879895E8</td><td>964898</td><td>124.72696487089827</td></tr><tr><td>Kenya</td><td>2018</td><td>Makueni</td><td>Education</td><td>5.391215763000001E8</td><td>1075366</td><td>501.3377550526984</td></tr><tr><td>Kenya</td><td>2018</td><td>Mombasa</td><td>General public services</td><td>3.546010909150001E9</td><td>1294431</td><td>2739.4360218119014</td></tr><tr><td>Kenya</td><td>2020</td><td>Kwale</td><td>General public services</td><td>1.630999806E9</td><td>978569</td><td>1666.7192666025594</td></tr><tr><td>Kenya</td><td>2020</td><td>Kisumu</td><td>Education</td><td>2.76640722E8</td><td>1292152</td><td>214.0930184684155</td></tr><tr><td>Kenya</td><td>2020</td><td>Nyandarua</td><td>Public order and safety</td><td>2.3083089095E8</td><td>707150</td><td>326.42422534115815</td></tr><tr><td>Kenya</td><td>2020</td><td>Trans Nzoia</td><td>Public order and safety</td><td>2.0863639685000002E8</td><td>1108719</td><td>188.1778853343363</td></tr><tr><td>Kenya</td><td>2016</td><td>Kitui</td><td>Housing and community amenities</td><td>2.8670919305E8</td><td>1208265</td><td>237.28999271682952</td></tr><tr><td>Kenya</td><td>2017</td><td>Mandera</td><td>Recreation, culture and religion</td><td>2.3843336549999995E9</td><td>914409</td><td>2607.5133282808893</td></tr><tr><td>Kenya</td><td>2017</td><td>Machakos</td><td>General public services</td><td>1.8963869014E9</td><td>1483106</td><td>1278.6590448693487</td></tr><tr><td>Kenya</td><td>2017</td><td>Nyeri</td><td>Housing and community amenities</td><td>3.272167164500001E8</td><td>820838</td><td>398.6373881935292</td></tr><tr><td>Kenya</td><td>2017</td><td>Nandi</td><td>Public order and safety</td><td>1.27373152E8</td><td>942976</td><td>135.07570924392562</td></tr><tr><td>Kenya</td><td>2018</td><td>Trans Nzoia</td><td>General public services</td><td>1.19787573735E9</td><td>1068420</td><td>1121.1655878306283</td></tr><tr><td>Kenya</td><td>2019</td><td>Wajir</td><td>Environmental protection</td><td>3.17313237E8</td><td>858572</td><td>369.58255917966113</td></tr><tr><td>Kenya</td><td>2019</td><td>Nyeri</td><td>Environmental protection</td><td>9375162.0</td><td>835770</td><td>11.217394737786712</td></tr><tr><td>Kenya</td><td>2020</td><td>Makueni</td><td>Health</td><td>3.192539406E9</td><td>1098172</td><td>2907.1396885005265</td></tr><tr><td>Kenya</td><td>2020</td><td>Nandi</td><td>Health</td><td>2.364040986E9</td><td>989217</td><td>2389.8103105789733</td></tr><tr><td>Kenya</td><td>2016</td><td>Vihiga</td><td>General public services</td><td>1.6772780699999998E9</td><td>638039</td><td>2628.801797382291</td></tr><tr><td>Kenya</td><td>2016</td><td>Makueni</td><td>Environmental protection</td><td>3452583.7</td><td>1051888</td><td>3.2822731127268305</td></tr><tr><td>Kenya</td><td>2016</td><td>Wajir</td><td>Housing and community amenities</td><td>0.0</td><td>806684</td><td>0.0</td></tr><tr><td>Kenya</td><td>2017</td><td>Nyandarua</td><td>General public services</td><td>1.73538943835E9</td><td>693462</td><td>2502.5011296220987</td></tr><tr><td>Kenya</td><td>2018</td><td>Machakos</td><td>Social protection</td><td>4.5607064E7</td><td>1522169</td><td>29.96189253624269</td></tr><tr><td>Kenya</td><td>2020</td><td>Isiolo</td><td>Economic affairs</td><td>1.2756998216E9</td><td>311403</td><td>4096.620204686531</td></tr><tr><td>Kenya</td><td>2020</td><td>Kiambu</td><td>Housing and community amenities</td><td>2.06709135E8</td><td>2754995</td><td>75.030675191788</td></tr><tr><td>Kenya</td><td>2020</td><td>Narok</td><td>Housing and community amenities</td><td>4.15620066E8</td><td>1309378</td><td>317.4179388992331</td></tr><tr><td>Kenya</td><td>2020</td><td>Kericho</td><td>Housing and community amenities</td><td>4.5975432E7</td><td>1008092</td><td>45.60638513151577</td></tr><tr><td>Kenya</td><td>2020</td><td>Busia</td><td>Housing and community amenities</td><td>1.19797892E8</td><td>999906</td><td>119.80915406048169</td></tr><tr><td>Kenya</td><td>2020</td><td>Siaya</td><td>Economic affairs</td><td>2.0184398427E9</td><td>1109487</td><td>1819.2550635564005</td></tr><tr><td>Kenya</td><td>2016</td><td>Meru</td><td>Economic affairs</td><td>1.9669444396E9</td><td>1635681</td><td>1202.5232545954864</td></tr><tr><td>Kenya</td><td>2016</td><td>Murang’A</td><td>Health</td><td>6.61356779E8</td><td>1123956</td><td>588.4187450398414</td></tr><tr><td>Kenya</td><td>2016</td><td>West Pokot</td><td>General public services</td><td>1.3075910579999995E9</td><td>644820</td><td>2027.8388666604626</td></tr><tr><td>Kenya</td><td>2016</td><td>Samburu</td><td>Public order and safety</td><td>7168608.0</td><td>308797</td><td>23.214629675806435</td></tr><tr><td>Kenya</td><td>2017</td><td>Narok</td><td>Education</td><td>1.2515412508E9</td><td>1194799</td><td>1047.4910430959517</td></tr><tr><td>Kenya</td><td>2018</td><td>Kiambu</td><td>Economic affairs</td><td>2.4911064025E9</td><td>2546938</td><td>978.0789334094509</td></tr><tr><td>Kenya</td><td>2019</td><td>Nyamira</td><td>General public services</td><td>1.251028417E9</td><td>667466</td><td>1874.2953453808884</td></tr><tr><td>Kenya</td><td>2019</td><td>Tharaka Nithi</td><td>Public order and safety</td><td>6.9810635E7</td><td>432967</td><td>161.23777331759695</td></tr><tr><td>Kenya</td><td>2020</td><td>Nyandarua</td><td>Recreation, culture and religion</td><td>1.01335258E8</td><td>707150</td><td>143.30093756628722</td></tr><tr><td>Kenya</td><td>2020</td><td>Nakuru</td><td>Environmental protection</td><td>2.0897562E7</td><td>2443175</td><td>8.553444595659336</td></tr><tr><td>Kenya</td><td>2020</td><td>Busia</td><td>Economic affairs</td><td>2.6932183318E9</td><td>999906</td><td>2693.471518122704</td></tr><tr><td>Kenya</td><td>2016</td><td>Siaya</td><td>Health</td><td>1.2319186917E9</td><td>1039776</td><td>1184.7923896108393</td></tr><tr><td>Kenya</td><td>2016</td><td>Kisumu</td><td>General public services</td><td>1.3030829803499997E9</td><td>1205448</td><td>1080.9947673810896</td></tr><tr><td>Kenya</td><td>2017</td><td>Kakamega</td><td>Recreation, culture and religion</td><td>2.333528628E8</td><td>2007676</td><td>116.23033935754574</td></tr><tr><td>Kenya</td><td>2017</td><td>Kirinyaga</td><td>Housing and community amenities</td><td>5945425.8</td><td>652302</td><td>9.114529466412796</td></tr><tr><td>Kenya</td><td>2018</td><td>Migori</td><td>General public services</td><td>3.14220050465E9</td><td>1203580</td><td>2610.7117970139084</td></tr><tr><td>Kenya</td><td>2018</td><td>Kericho</td><td>Education</td><td>3.110129465E8</td><td>974777</td><td>319.06061232466504</td></tr><tr><td>Kenya</td><td>2018</td><td>West Pokot</td><td>Public order and safety</td><td>4.8694597E7</td><td>670083</td><td>72.66950064395007</td></tr><tr><td>Kenya</td><td>2019</td><td>Nakuru</td><td>Housing and community amenities</td><td>2.640326015E7</td><td>2373034</td><td>11.126372462425739</td></tr><tr><td>Kenya</td><td>2019</td><td>Kilifi</td><td>Social protection</td><td>2.32464041E8</td><td>1596266</td><td>145.62988937933903</td></tr><tr><td>Kenya</td><td>2020</td><td>Wajir</td><td>Education</td><td>9.02321323E8</td><td>875989</td><td>1030.0601069191507</td></tr><tr><td>Kenya</td><td>2016</td><td>Kirinyaga</td><td>General public services</td><td>1.1610340962500002E9</td><td>643037</td><td>1805.547886435773</td></tr><tr><td>Kenya</td><td>2016</td><td>Turkana</td><td>Health</td><td>4.6297861E7</td><td>957176</td><td>48.36922467759325</td></tr><tr><td>Kenya</td><td>2016</td><td>Kisii</td><td>Education</td><td>5.2255639859999996E8</td><td>1355863</td><td>385.40501407590585</td></tr><tr><td>Kenya</td><td>2016</td><td>Wajir</td><td>Public order and safety</td><td>2.3453781E7</td><td>806684</td><td>29.074310386718963</td></tr><tr><td>Kenya</td><td>2017</td><td>Kakamega</td><td>General public services</td><td>4.705698254100001E9</td><td>2007676</td><td>2343.8534176331245</td></tr><tr><td>Kenya</td><td>2017</td><td>Busia</td><td>Public order and safety</td><td>1.20681897E8</td><td>947172</td><td>127.41286376708771</td></tr><tr><td>Kenya</td><td>2018</td><td>Baringo</td><td>Education</td><td>4.6721086505E8</td><td>719983</td><td>648.9193009418278</td></tr><tr><td>Kenya</td><td>2019</td><td>Kajiado</td><td>Health</td><td>2.264398228E9</td><td>1223473</td><td>1850.7954225389526</td></tr><tr><td>Kenya</td><td>2020</td><td>Siaya</td><td>Recreation, culture and religion</td><td>3.19850925E8</td><td>1109487</td><td>288.28722193229845</td></tr><tr><td>Kenya</td><td>2016</td><td>Nyandarua</td><td>Economic affairs</td><td>1.40473351285E9</td><td>688885</td><td>2039.140804125507</td></tr><tr><td>Kenya</td><td>2016</td><td>Vihiga</td><td>Education</td><td>2.18663678E8</td><td>638039</td><td>342.7120881325436</td></tr><tr><td>Kenya</td><td>2016</td><td>Siaya</td><td>Education</td><td>5.3475290455E8</td><td>1039776</td><td>514.2962566456622</td></tr><tr><td>Kenya</td><td>2017</td><td>Kilifi</td><td>Public order and safety</td><td>2.169852742E8</td><td>1512422</td><td>143.4687370323891</td></tr><tr><td>Kenya</td><td>2018</td><td>Busia</td><td>Health</td><td>1.3906532462500002E9</td><td>964898</td><td>1441.2437856125728</td></tr><tr><td>Kenya</td><td>2018</td><td>Kisumu</td><td>Education</td><td>4.6041938815E8</td><td>1248702</td><td>368.7183876937812</td></tr><tr><td>Kenya</td><td>2018</td><td>Mombasa</td><td>Recreation, culture and religion</td><td>4.1359329879999995E8</td><td>1294431</td><td>319.5174550053266</td></tr><tr><td>Kenya</td><td>2018</td><td>Makueni</td><td>Recreation, culture and religion</td><td>1.5787312849999997E8</td><td>1075366</td><td>146.80874093099462</td></tr><tr><td>Kenya</td><td>2019</td><td>Garissa</td><td>Health</td><td>2.534726731E9</td><td>1012333</td><td>2503.8467885567297</td></tr><tr><td>Kenya</td><td>2019</td><td>Uasin Gishu</td><td>Housing and community amenities</td><td>1.10845539E8</td><td>1277307</td><td>86.78065570767247</td></tr><tr><td>Kenya</td><td>2019</td><td>Narok</td><td>Housing and community amenities</td><td>3.0622376E8</td><td>1270631</td><td>241.00132926081608</td></tr><tr><td>Kenya</td><td>2019</td><td>Nyeri</td><td>Social protection</td><td>7.16239704E7</td><td>835770</td><td>85.69818299292868</td></tr><tr><td>Kenya</td><td>2020</td><td>Kwale</td><td>Recreation, culture and religion</td><td>7.951567E7</td><td>978569</td><td>81.25709071102804</td></tr><tr><td>Kenya</td><td>2020</td><td>Taita Taveta</td><td>Housing and community amenities</td><td>5000000.0</td><td>381049</td><td>13.121672015934958</td></tr><tr><td>Kenya</td><td>2020</td><td>Mandera</td><td>Public order and safety</td><td>1.4131217195E8</td><td>972652</td><td>145.28543811147253</td></tr><tr><td>Kenya</td><td>2016</td><td>Trans Nzoia</td><td>Environmental protection</td><td>6854800.0</td><td>1028502</td><td>6.664838765505561</td></tr><tr><td>Kenya</td><td>2017</td><td>Laikipia</td><td>Education</td><td>9.5663624E7</td><td>540450</td><td>177.00735313164955</td></tr><tr><td>Kenya</td><td>2018</td><td>Kajiado</td><td>Health</td><td>2.0603764016E9</td><td>1165768</td><td>1767.3983173324366</td></tr><tr><td>Kenya</td><td>2018</td><td>Meru</td><td>Education</td><td>5.9736321625E8</td><td>1679035</td><td>355.77770341297236</td></tr><tr><td>Kenya</td><td>2018</td><td>Migori</td><td>Education</td><td>5.08956921E8</td><td>1203580</td><td>422.86920769703715</td></tr><tr><td>Kenya</td><td>2019</td><td>West Pokot</td><td>Social protection</td><td>3.56394333E8</td><td>682913</td><td>521.8736984066785</td></tr><tr><td>Kenya</td><td>2020</td><td>Kajiado</td><td>Economic affairs</td><td>-8.50361062389E10</td><td>1283417</td><td>-66257.58131527009</td></tr><tr><td>Kenya</td><td>2020</td><td>Vihiga</td><td>Social protection</td><td>4.3071735E7</td><td>653324</td><td>65.92706681524022</td></tr><tr><td>Kenya</td><td>2020</td><td>Nairobi City</td><td>Social protection</td><td>1.24936454E8</td><td>4984406</td><td>25.06546497215516</td></tr><tr><td>Kenya</td><td>2016</td><td>Kilifi</td><td>Economic affairs</td><td>3294649.0999999996</td><td>1472402</td><td>2.237601619666368</td></tr><tr><td>Kenya</td><td>2017</td><td>Meru</td><td>Environmental protection</td><td>4.693863623E8</td><td>1656898</td><td>283.292249915203</td></tr><tr><td>Kenya</td><td>2018</td><td>Kilifi</td><td>General public services</td><td>2.4870467566999993E9</td><td>1554127</td><td>1600.2854056972174</td></tr><tr><td>Kenya</td><td>2018</td><td>Nandi</td><td>Housing and community amenities</td><td>1.1403372E7</td><td>958607</td><td>11.895773763387917</td></tr><tr><td>Kenya</td><td>2018</td><td>Nandi</td><td>Social protection</td><td>7.258349975E7</td><td>958607</td><td>75.71768175070702</td></tr><tr><td>Kenya</td><td>2018</td><td>Nyandarua</td><td>Education</td><td>2.7709614685E8</td><td>698341</td><td>396.7920354812334</td></tr><tr><td>Kenya</td><td>2019</td><td>Kakamega</td><td>Recreation, culture and religion</td><td>1.463056208E8</td><td>2055240</td><td>71.18663552675115</td></tr><tr><td>Kenya</td><td>2019</td><td>Kisii</td><td>Health</td><td>7.51976307E8</td><td>1394616</td><td>539.1995409489064</td></tr><tr><td>Kenya</td><td>2019</td><td>Nyamira</td><td>Housing and community amenities</td><td>3.066039917E8</td><td>667466</td><td>459.3552206404521</td></tr><tr><td>Kenya</td><td>2020</td><td>Kisumu</td><td>Economic affairs</td><td>3.2956390999E9</td><td>1292152</td><td>2550.504197571184</td></tr><tr><td>Kenya</td><td>2020</td><td>Taita Taveta</td><td>Environmental protection</td><td>2.9914355E7</td><td>381049</td><td>78.5052709756488</td></tr><tr><td>Kenya</td><td>2016</td><td>Bungoma</td><td>Housing and community amenities</td><td>0.0</td><td>1732560</td><td>0.0</td></tr><tr><td>Kenya</td><td>2018</td><td>Busia</td><td>Education</td><td>3.2435917675E8</td><td>964898</td><td>336.15903105820513</td></tr><tr><td>Kenya</td><td>2019</td><td>Turkana</td><td>Recreation, culture and religion</td><td>1.56690891E8</td><td>1018738</td><td>153.8088213063614</td></tr><tr><td>Kenya</td><td>2019</td><td>Kisumu</td><td>Health</td><td>2.718535505E9</td><td>1270584</td><td>2139.5952609193882</td></tr><tr><td>Kenya</td><td>2019</td><td>Migori</td><td>Housing and community amenities</td><td>1.0262265E8</td><td>1227169</td><td>83.62552346090881</td></tr><tr><td>Kenya</td><td>2020</td><td>Tana River</td><td>Health</td><td>1.086051819E9</td><td>356274</td><td>3048.361146196467</td></tr><tr><td>Kenya</td><td>2020</td><td>Bomet</td><td>Social protection</td><td>7.9430822E7</td><td>980330</td><td>81.02457539808024</td></tr><tr><td>Kenya</td><td>2016</td><td>Kirinyaga</td><td>Housing and community amenities</td><td>8639979.0</td><td>643037</td><td>13.43620818086673</td></tr><tr><td>Kenya</td><td>2016</td><td>Nakuru</td><td>Health</td><td>3.35753742345E9</td><td>2170005</td><td>1547.2487037817884</td></tr><tr><td>Kenya</td><td>2017</td><td>Makueni</td><td>Recreation, culture and religion</td><td>5.6709547245E8</td><td>1063357</td><td>533.3067562916311</td></tr><tr><td>Kenya</td><td>2017</td><td>Uasin Gishu</td><td>Recreation, culture and religion</td><td>5.1139050275E8</td><td>1211922</td><td>421.9665149654846</td></tr><tr><td>Kenya</td><td>2017</td><td>Nairobi City</td><td>Recreation, culture and religion</td><td>5.01300785E7</td><td>4509233</td><td>11.117207405339222</td></tr><tr><td>Kenya</td><td>2018</td><td>Makueni</td><td>Housing and community amenities</td><td>2.3856122295E8</td><td>1075366</td><td>221.8418872737282</td></tr><tr><td>Kenya</td><td>2018</td><td>Nyandarua</td><td>Social protection</td><td>6.28395541E7</td><td>698341</td><td>89.98405377888453</td></tr><tr><td>Kenya</td><td>2019</td><td>Nakuru</td><td>Environmental protection</td><td>2.065E7</td><td>2373034</td><td>8.701940216617208</td></tr><tr><td>Kenya</td><td>2020</td><td>Taita Taveta</td><td>Public order and safety</td><td>1.9114248595E8</td><td>381049</td><td>501.62180178927116</td></tr><tr><td>Kenya</td><td>2016</td><td>Kitui</td><td>Social protection</td><td>7.99503959E7</td><td>1208265</td><td>66.16958688698259</td></tr><tr><td>Kenya</td><td>2018</td><td>Uasin Gishu</td><td>Environmental protection</td><td>2132510.0</td><td>1244465</td><td>1.7135958022121955</td></tr><tr><td>Kenya</td><td>2019</td><td>Kwale</td><td>Housing and community amenities</td><td>3.17166101E8</td><td>951518</td><td>333.32643313106007</td></tr><tr><td>Kenya</td><td>2019</td><td>Tana River</td><td>General public services</td><td>1.955886285E9</td><td>346887</td><td>5638.396033866937</td></tr><tr><td>Kenya</td><td>2020</td><td>Tana River</td><td>Recreation, culture and religion</td><td>4.4136851E7</td><td>356274</td><td>123.88456917990086</td></tr><tr><td>Kenya</td><td>2020</td><td>Embu</td><td>Economic affairs</td><td>1.4185026351E9</td><td>679843</td><td>2086.5150264105096</td></tr><tr><td>Kenya</td><td>2020</td><td>Kitui</td><td>Housing and community amenities</td><td>3.69087561E8</td><td>1263831</td><td>292.0386990032686</td></tr><tr><td>Kenya</td><td>2020</td><td>Baringo</td><td>Recreation, culture and religion</td><td>8.1219179E7</td><td>745967</td><td>108.87771040810117</td></tr><tr><td>Kenya</td><td>2020</td><td>Busia</td><td>General public services</td><td>2.412415608E9</td><td>999906</td><td>2412.6423963852603</td></tr><tr><td>Kenya</td><td>2020</td><td>Taita Taveta</td><td>Social protection</td><td>3.6559253E7</td><td>381049</td><td>95.94370540271724</td></tr><tr><td>Kenya</td><td>2018</td><td>Tharaka Nithi</td><td>Education</td><td>1.2660331E8</td><td>429906</td><td>294.4906793578131</td></tr><tr><td>Kenya</td><td>2019</td><td>Mandera</td><td>Recreation, culture and religion</td><td>2.162936982E9</td><td>953313</td><td>2268.8634079258336</td></tr><tr><td>Kenya</td><td>2020</td><td>Tana River</td><td>Housing and community amenities</td><td>2.41753165E8</td><td>356274</td><td>678.5596619455812</td></tr><tr><td>Kenya</td><td>2020</td><td>Samburu</td><td>Economic affairs</td><td>1.697601818E9</td><td>351475</td><td>4829.93617753752</td></tr><tr><td>Kenya</td><td>2016</td><td>Elgeyo Marakwet</td><td>Health</td><td>1.1511701035000002E9</td><td>469714</td><td>2450.789423989918</td></tr><tr><td>Kenya</td><td>2017</td><td>Kiambu</td><td>Education</td><td>7.284647784499999E8</td><td>2447130</td><td>297.6812749833478</td></tr><tr><td>Kenya</td><td>2017</td><td>Kericho</td><td>Environmental protection</td><td>2.2483563110000002E8</td><td>957838</td><td>234.7324193652789</td></tr><tr><td>Kenya</td><td>2018</td><td>Wajir</td><td>Health</td><td>1.84105485775E9</td><td>841065</td><td>2188.956689138176</td></tr><tr><td>Kenya</td><td>2018</td><td>Murang’A</td><td>Recreation, culture and religion</td><td>7.275115005E7</td><td>1149942</td><td>63.26506036826205</td></tr><tr><td>Kenya</td><td>2018</td><td>Wajir</td><td>Environmental protection</td><td>1.5744827335000002E8</td><td>841065</td><td>187.20107643285598</td></tr><tr><td>Kenya</td><td>2019</td><td>Isiolo</td><td>Environmental protection</td><td>3.1600776E7</td><td>292722</td><td>107.95490602004632</td></tr><tr><td>Kenya</td><td>2019</td><td>Kirinyaga</td><td>Health</td><td>2.101550688E9</td><td>671452</td><td>3129.859897654635</td></tr><tr><td>Kenya</td><td>2019</td><td>Samburu</td><td>Health</td><td>9.35226857E8</td><td>340457</td><td>2746.9749689388086</td></tr><tr><td>Kenya</td><td>2019</td><td>Baringo</td><td>Health</td><td>2.316832183E9</td><td>733056</td><td>3160.5118613039112</td></tr><tr><td>Kenya</td><td>2019</td><td>Kisumu</td><td>General public services</td><td>1.72440428E9</td><td>1270584</td><td>1357.174559100382</td></tr><tr><td>Kenya</td><td>2020</td><td>Garissa</td><td>General public services</td><td>2.411787158E9</td><td>1052172</td><td>2292.1985739974075</td></tr><tr><td>Kenya</td><td>2020</td><td>Wajir</td><td>Social protection</td><td>5.4288903E7</td><td>875989</td><td>61.974411779143345</td></tr><tr><td>Kenya</td><td>2016</td><td>Kakamega</td><td>Public order and safety</td><td>7.814526275E7</td><td>1984614</td><td>39.37554746162226</td></tr><tr><td>Kenya</td><td>2017</td><td>Garissa</td><td>Social protection</td><td>4.9265064E7</td><td>935777</td><td>52.64615821931935</td></tr><tr><td>Kenya</td><td>2017</td><td>Kirinyaga</td><td>Education</td><td>3.0404699145E8</td><td>652302</td><td>466.11384213140536</td></tr><tr><td>Kenya</td><td>2017</td><td>Turkana</td><td>Health</td><td>6.343463798000001E8</td><td>977164</td><td>649.1708452214777</td></tr><tr><td>Kenya</td><td>2017</td><td>Nairobi City</td><td>Housing and community amenities</td><td>1.7141994E7</td><td>4509233</td><td>3.8015321009138363</td></tr><tr><td>Kenya</td><td>2018</td><td>Nyeri</td><td>Housing and community amenities</td><td>4.485968359500001E8</td><td>828455</td><td>541.4860625501689</td></tr><tr><td>Kenya</td><td>2018</td><td>Tana River</td><td>Public order and safety</td><td>4.58787875E7</td><td>337578</td><td>135.90573882184265</td></tr><tr><td>Kenya</td><td>2018</td><td>Garissa</td><td>Environmental protection</td><td>1646800.0</td><td>973522</td><td>1.6915899178446918</td></tr><tr><td>Kenya</td><td>2020</td><td>Bomet</td><td>Recreation, culture and religion</td><td>3394877.0</td><td>980330</td><td>3.4629940938255483</td></tr><tr><td>Kenya</td><td>2016</td><td>Kitui</td><td>Economic affairs</td><td>2.557304775899997E9</td><td>1208265</td><td>2116.5098516467806</td></tr><tr><td>Kenya</td><td>2016</td><td>Kitui</td><td>Education</td><td>5.492765606999999E8</td><td>1208265</td><td>454.59941378753825</td></tr><tr><td>Kenya</td><td>2016</td><td>Kisii</td><td>Housing and community amenities</td><td>4.8113772574999994E8</td><td>1355863</td><td>354.8571837641413</td></tr><tr><td>Kenya</td><td>2016</td><td>Turkana</td><td>Social protection</td><td>2.8916601E7</td><td>957176</td><td>30.210328090131803</td></tr><tr><td>Kenya</td><td>2016</td><td>Narok</td><td>Public order and safety</td><td>2.0982809E7</td><td>1158782</td><td>18.107641471821275</td></tr><tr><td>Kenya</td><td>2017</td><td>Nandi</td><td>Health</td><td>1.2875314538499997E9</td><td>942976</td><td>1365.3915410890625</td></tr><tr><td>Kenya</td><td>2017</td><td>Kakamega</td><td>Housing and community amenities</td><td>4.457418875000001E7</td><td>2007676</td><td>22.201883545950643</td></tr><tr><td>Kenya</td><td>2017</td><td>Tharaka Nithi</td><td>Environmental protection</td><td>1426700.0</td><td>426670</td><td>3.343802001546863</td></tr><tr><td>Kenya</td><td>2019</td><td>Nakuru</td><td>Economic affairs</td><td>6.609448446449999E9</td><td>2373034</td><td>2785.231246771011</td></tr><tr><td>Kenya</td><td>2020</td><td>Kiambu</td><td>Education</td><td>7.5281659E8</td><td>2754995</td><td>273.25515654293383</td></tr><tr><td>Kenya</td><td>2020</td><td>Bungoma</td><td>Health</td><td>3.570105536E9</td><td>1870968</td><td>1908.1595922538493</td></tr><tr><td>Kenya</td><td>2020</td><td>Kisii</td><td>Recreation, culture and religion</td><td>1.7820397E7</td><td>1406733</td><td>12.66793129897429</td></tr><tr><td>Kenya</td><td>2020</td><td>Meru</td><td>Public order and safety</td><td>5.5732676325E8</td><td>1721672</td><td>323.7125092642501</td></tr><tr><td>Kenya</td><td>2016</td><td>Tana River</td><td>Economic affairs</td><td>1.0572896386500001E9</td><td>319535</td><td>3308.8382764016465</td></tr><tr><td>Kenya</td><td>2016</td><td>Tana River</td><td>Public order and safety</td><td>3.6503336E7</td><td>319535</td><td>114.23892844289358</td></tr><tr><td>Kenya</td><td>2017</td><td>Baringo</td><td>Education</td><td>4.4633886290000004E8</td><td>706821</td><td>631.4736869730809</td></tr><tr><td>Kenya</td><td>2017</td><td>Nyamira</td><td>General public services</td><td>9.1599264175E8</td><td>665887</td><td>1375.597724163409</td></tr><tr><td>Kenya</td><td>2018</td><td>Nakuru</td><td>Economic affairs</td><td>2.721832571300001E9</td><td>2303736</td><td>1181.4863210454675</td></tr><tr><td>Kenya</td><td>2018</td><td>Uasin Gishu</td><td>Health</td><td>1.7452345756499999E9</td><td>1244465</td><td>1402.3974765461462</td></tr><tr><td>Kenya</td><td>2018</td><td>Kwale</td><td>Health</td><td>1.9950258036000004E9</td><td>924747</td><td>2157.37472368118</td></tr><tr><td>Kenya</td><td>2018</td><td>Meru</td><td>Public order and safety</td><td>2.8057697445E8</td><td>1679035</td><td>167.10609037333944</td></tr><tr><td>Kenya</td><td>2019</td><td>Elgeyo Marakwet</td><td>General public services</td><td>1.257333677E9</td><td>499495</td><td>2517.2097358331916</td></tr><tr><td>Kenya</td><td>2019</td><td>Marsabit</td><td>Public order and safety</td><td>2.25100506E8</td><td>503447</td><td>447.11857653337887</td></tr><tr><td>Kenya</td><td>2020</td><td>Murang’A</td><td>General public services</td><td>5.260155585E9</td><td>1175266</td><td>4475.714931768638</td></tr><tr><td>Kenya</td><td>2016</td><td>Taita Taveta</td><td>Education</td><td>5.207491426499999E8</td><td>354986</td><td>1466.9568451995287</td></tr><tr><td>Kenya</td><td>2016</td><td>Mandera</td><td>Economic affairs</td><td>1.4210514799E9</td><td>895698</td><td>1586.5297007473503</td></tr><tr><td>Kenya</td><td>2016</td><td>Kisii</td><td>Economic affairs</td><td>1.82194272065E9</td><td>1355863</td><td>1343.751338188298</td></tr><tr><td>Kenya</td><td>2016</td><td>Kajiado</td><td>Housing and community amenities</td><td>0.0</td><td>1057819</td><td>0.0</td></tr><tr><td>Kenya</td><td>2016</td><td>West Pokot</td><td>Public order and safety</td><td>3.1589469E7</td><td>644820</td><td>48.98959244440309</td></tr><tr><td>Kenya</td><td>2018</td><td>Mandera</td><td>Public order and safety</td><td>7.18593969E7</td><td>933865</td><td>76.94837787046308</td></tr><tr><td>Kenya</td><td>2018</td><td>Vihiga</td><td>Recreation, culture and religion</td><td>5.1938207099999994E7</td><td>645985</td><td>80.40156830266956</td></tr><tr><td>Kenya</td><td>2019</td><td>Isiolo</td><td>Economic affairs</td><td>9.815596146000001E8</td><td>292722</td><td>3353.214362432616</td></tr><tr><td>Kenya</td><td>2019</td><td>Busia</td><td>Public order and safety</td><td>2.977003905E8</td><td>982510</td><td>302.9998580167123</td></tr><tr><td>Kenya</td><td>2020</td><td>Lamu</td><td>Health</td><td>1.175736142E9</td><td>163321</td><td>7198.928135389815</td></tr><tr><td>Kenya</td><td>2020</td><td>Machakos</td><td>Housing and community amenities</td><td>8.91151316E8</td><td>1601135</td><td>556.5747522850977</td></tr><tr><td>Kenya</td><td>2020</td><td>Bomet</td><td>Public order and safety</td><td>1.074102179E8</td><td>980330</td><td>109.56536870237574</td></tr><tr><td>Kenya</td><td>2016</td><td>Machakos</td><td>General public services</td><td>1.7671073208499997E9</td><td>1445601</td><td>1222.4032225005376</td></tr><tr><td>Kenya</td><td>2016</td><td>Nandi</td><td>Economic affairs</td><td>1.5637217467499995E9</td><td>927962</td><td>1685.1139882344314</td></tr><tr><td>Kenya</td><td>2016</td><td>Bomet</td><td>Economic affairs</td><td>9.326436721000003E8</td><td>909525</td><td>1025.4184020230343</td></tr><tr><td>Kenya</td><td>2016</td><td>Kisumu</td><td>Public order and safety</td><td>1.40244739E8</td><td>1205448</td><td>116.34242124089965</td></tr><tr><td>Kenya</td><td>2017</td><td>Machakos</td><td>Housing and community amenities</td><td>5.18734458E7</td><td>1483106</td><td>34.97622273795669</td></tr><tr><td>Kenya</td><td>2017</td><td>Murang’A</td><td>Health</td><td>6.331396525999999E8</td><td>1136663</td><td>557.0161539524026</td></tr><tr><td>Kenya</td><td>2017</td><td>Tharaka Nithi</td><td>Social protection</td><td>8681358.0</td><td>426670</td><td>20.34677385332927</td></tr><tr><td>Kenya</td><td>2018</td><td>Kericho</td><td>Social protection</td><td>1.4984183399999999E7</td><td>974777</td><td>15.371909062277833</td></tr><tr><td>Kenya</td><td>2019</td><td>Kisumu</td><td>Social protection</td><td>3.05842212E8</td><td>1270584</td><td>240.70995069983567</td></tr><tr><td>Kenya</td><td>2019</td><td>Laikipia</td><td>Social protection</td><td>8171623.0</td><td>569446</td><td>14.350128019162485</td></tr><tr><td>Kenya</td><td>2020</td><td>Wajir</td><td>Housing and community amenities</td><td>2.6568143E7</td><td>875989</td><td>30.329311212812033</td></tr><tr><td>Kenya</td><td>2020</td><td>Nakuru</td><td>Education</td><td>9.68938592E8</td><td>2443175</td><td>396.58992581374645</td></tr><tr><td>Kenya</td><td>2020</td><td>Uasin Gishu</td><td>Social protection</td><td>1.2022009E7</td><td>1310340</td><td>9.17472488056535</td></tr><tr><td>Kenya</td><td>2016</td><td>West Pokot</td><td>Housing and community amenities</td><td>2.590182635E7</td><td>644820</td><td>40.16908028597128</td></tr><tr><td>Kenya</td><td>2016</td><td>Nakuru</td><td>General public services</td><td>2.18861778595E9</td><td>2170005</td><td>1008.5773009509194</td></tr><tr><td>Kenya</td><td>2016</td><td>Nairobi City</td><td>General public services</td><td>3.8116695025E9</td><td>4360681</td><td>874.0995964850445</td></tr><tr><td>Kenya</td><td>2016</td><td>Makueni</td><td>Public order and safety</td><td>3.0257059E7</td><td>1051888</td><td>28.764525310679463</td></tr><tr><td>Kenya</td><td>2017</td><td>Samburu</td><td>Social protection</td><td>4.048121455E7</td><td>318967</td><td>126.91348807243382</td></tr><tr><td>Kenya</td><td>2017</td><td>Makueni</td><td>Public order and safety</td><td>1.767133772E8</td><td>1063357</td><td>166.1844302524928</td></tr><tr><td>Kenya</td><td>2018</td><td>Kwale</td><td>Economic affairs</td><td>2.1068729185999994E9</td><td>924747</td><td>2278.323604834619</td></tr><tr><td>Kenya</td><td>2018</td><td>Embu</td><td>Recreation, culture and religion</td><td>1266475.0</td><td>658507</td><td>1.923252144624127</td></tr><tr><td>Kenya</td><td>2018</td><td>Isiolo</td><td>Environmental protection</td><td>1.0633307195E8</td><td>275035</td><td>386.6165104441253</td></tr><tr><td>Kenya</td><td>2019</td><td>Meru</td><td>Recreation, culture and religion</td><td>1.58096341E8</td><td>1700686</td><td>92.96033541759031</td></tr><tr><td>Kenya</td><td>2020</td><td>Migori</td><td>Public order and safety</td><td>1.8455340375E8</td><td>1250557</td><td>147.57696270541845</td></tr><tr><td>Kenya</td><td>2016</td><td>Elgeyo Marakwet</td><td>Education</td><td>3.3331483059999996E8</td><td>469714</td><td>709.6122972702537</td></tr><tr><td>Kenya</td><td>2016</td><td>Kwale</td><td>Environmental protection</td><td>1.4670527E7</td><td>872981</td><td>16.805093123447133</td></tr><tr><td>Kenya</td><td>2017</td><td>Elgeyo Marakwet</td><td>General public services</td><td>1.0961944112500002E9</td><td>479383</td><td>2286.67769038535</td></tr><tr><td>Kenya</td><td>2018</td><td>Isiolo</td><td>General public services</td><td>1.8626421068499994E9</td><td>275035</td><td>6772.38208537095</td></tr><tr><td>Kenya</td><td>2019</td><td>Busia</td><td>Economic affairs</td><td>2.7795259294E9</td><td>982510</td><td>2829.0052308882355</td></tr><tr><td>Kenya</td><td>2019</td><td>Kiambu</td><td>Social protection</td><td>1.233000995E8</td><td>2649591</td><td>46.53552170882223</td></tr><tr><td>Kenya</td><td>2020</td><td>Taita Taveta</td><td>General public services</td><td>3.594575783E9</td><td>381049</td><td>9433.36889218972</td></tr><tr><td>Kenya</td><td>2016</td><td>Isiolo</td><td>Recreation, culture and religion</td><td>1.0150625065E8</td><td>242687</td><td>418.25994243614207</td></tr><tr><td>Kenya</td><td>2016</td><td>Kirinyaga</td><td>Health</td><td>1.13400796835E9</td><td>643037</td><td>1763.519001783723</td></tr><tr><td>Kenya</td><td>2016</td><td>Kisumu</td><td>Health</td><td>1.0962621339999998E9</td><td>1205448</td><td>909.4229979227638</td></tr><tr><td>Kenya</td><td>2017</td><td>Embu</td><td>Health</td><td>2.2593019563999996E9</td><td>647624</td><td>3488.6013433720796</td></tr><tr><td>Kenya</td><td>2017</td><td>Nakuru</td><td>Recreation, culture and religion</td><td>6.042699486E8</td><td>2235441</td><td>270.3135303503872</td></tr><tr><td>Kenya</td><td>2018</td><td>Kakamega</td><td>Economic affairs</td><td>2.3666135304000006E9</td><td>2031790</td><td>1164.792390158432</td></tr><tr><td>Kenya</td><td>2018</td><td>Mombasa</td><td>Housing and community amenities</td><td>124400.0</td><td>1294431</td><td>0.09610400245358772</td></tr><tr><td>Kenya</td><td>2018</td><td>Kericho</td><td>Health</td><td>2.08657706785E9</td><td>974777</td><td>2140.5686304149563</td></tr><tr><td>Kenya</td><td>2018</td><td>Nyeri</td><td>Education</td><td>1.8047560625E8</td><td>828455</td><td>217.84599797212886</td></tr><tr><td>Kenya</td><td>2018</td><td>Kirinyaga</td><td>Recreation, culture and religion</td><td>4.5338153849999994E7</td><td>661961</td><td>68.4906721846151</td></tr><tr><td>Kenya</td><td>2019</td><td>Nakuru</td><td>Public order and safety</td><td>8.620412049000001E8</td><td>2373034</td><td>363.26542514772234</td></tr><tr><td>Kenya</td><td>2020</td><td>Mandera</td><td>General public services</td><td>4.499672198E9</td><td>972652</td><td>4626.189220810732</td></tr><tr><td>Kenya</td><td>2020</td><td>Nakuru</td><td>General public services</td><td>3.557549932E9</td><td>2443175</td><td>1456.1175241233232</td></tr><tr><td>Kenya</td><td>2020</td><td>Nairobi City</td><td>Health</td><td>3.939870564E9</td><td>4984406</td><td>790.4393349979918</td></tr><tr><td>Kenya</td><td>2020</td><td>Makueni</td><td>Social protection</td><td>1.9304913E7</td><td>1098172</td><td>17.579134233981563</td></tr><tr><td>Kenya</td><td>2016</td><td>Nyandarua</td><td>General public services</td><td>1.4400451528500001E9</td><td>688885</td><td>2090.399925749581</td></tr><tr><td>Kenya</td><td>2016</td><td>Samburu</td><td>Health</td><td>7.3269008165E8</td><td>308797</td><td>2372.7240926887243</td></tr><tr><td>Kenya</td><td>2018</td><td>Kwale</td><td>General public services</td><td>1.8557105485499995E9</td><td>924747</td><td>2006.7224317029409</td></tr><tr><td>Kenya</td><td>2018</td><td>West Pokot</td><td>Economic affairs</td><td>1.0194317382000002E9</td><td>670083</td><td>1521.3514418363102</td></tr><tr><td>Kenya</td><td>2018</td><td>Kilifi</td><td>Health</td><td>2.9753166972999997E9</td><td>1554127</td><td>1914.4617507449518</td></tr><tr><td>Kenya</td><td>2018</td><td>Trans Nzoia</td><td>Public order and safety</td><td>1.3610854245E8</td><td>1068420</td><td>127.39235735946536</td></tr><tr><td>Kenya</td><td>2018</td><td>Nyamira</td><td>Environmental protection</td><td>1.467859562E8</td><td>666829</td><td>220.12533378122424</td></tr><tr><td>Kenya</td><td>2019</td><td>Isiolo</td><td>Education</td><td>5.2499241E8</td><td>292722</td><td>1793.4846373009204</td></tr><tr><td>Kenya</td><td>2018</td><td>Mandera</td><td>Housing and community amenities</td><td>61460.0</td><td>933865</td><td>0.06581251037355507</td></tr><tr><td>Kenya</td><td>2018</td><td>Laikipia</td><td>Housing and community amenities</td><td>3.21674739E7</td><td>554882</td><td>57.971737955096756</td></tr><tr><td>Kenya</td><td>2018</td><td>Machakos</td><td>Health</td><td>1.04948283275E9</td><td>1522169</td><td>689.4653831144899</td></tr><tr><td>Kenya</td><td>2018</td><td>Lamu</td><td>Health</td><td>7.9593252605E8</td><td>152464</td><td>5220.462050385665</td></tr><tr><td>Kenya</td><td>2018</td><td>Nyeri</td><td>Health</td><td>2.5163482862000003E9</td><td>828455</td><td>3037.398876462814</td></tr><tr><td>Kenya</td><td>2019</td><td>Embu</td><td>Education</td><td>5.6068337845E8</td><td>669272</td><td>837.7511362345953</td></tr><tr><td>Kenya</td><td>2019</td><td>Narok</td><td>General public services</td><td>2.226173511E9</td><td>1270631</td><td>1752.022035508342</td></tr><tr><td>Kenya</td><td>2019</td><td>Bungoma</td><td>Education</td><td>1.529358532E9</td><td>1836335</td><td>832.8319898057816</td></tr><tr><td>Kenya</td><td>2020</td><td>Makueni</td><td>Economic affairs</td><td>2.8193538176E9</td><td>1098172</td><td>2567.3153363953916</td></tr><tr><td>Kenya</td><td>2020</td><td>Kajiado</td><td>Housing and community amenities</td><td>0.0</td><td>1283417</td><td>0.0</td></tr><tr><td>Kenya</td><td>2016</td><td>Elgeyo Marakwet</td><td>Public order and safety</td><td>1.4390079E7</td><td>469714</td><td>30.635831591138437</td></tr><tr><td>Kenya</td><td>2017</td><td>Bomet</td><td>Environmental protection</td><td>2.8365042074999994E8</td><td>926793</td><td>306.05585146845084</td></tr><tr><td>Kenya</td><td>2017</td><td>Kakamega</td><td>Public order and safety</td><td>2.7800266705E8</td><td>2007676</td><td>138.46988610213998</td></tr><tr><td>Kenya</td><td>2017</td><td>Bomet</td><td>Housing and community amenities</td><td>0.0</td><td>926793</td><td>0.0</td></tr><tr><td>Kenya</td><td>2018</td><td>Lamu</td><td>General public services</td><td>9.268994473E8</td><td>152464</td><td>6079.464314854654</td></tr><tr><td>Kenya</td><td>2018</td><td>Kwale</td><td>Environmental protection</td><td>4.936170810500001E8</td><td>924747</td><td>533.7860853292848</td></tr><tr><td>Kenya</td><td>2019</td><td>Kericho</td><td>Economic affairs</td><td>2.6515565607E9</td><td>991559</td><td>2674.1288825980096</td></tr><tr><td>Kenya</td><td>2020</td><td>Mandera</td><td>Recreation, culture and religion</td><td>1.716136414E9</td><td>972652</td><td>1764.3889222455718</td></tr><tr><td>Kenya</td><td>2016</td><td>Marsabit</td><td>General public services</td><td>2.0234370641E9</td><td>439105</td><td>4608.093882101091</td></tr><tr><td>Kenya</td><td>2017</td><td>Mombasa</td><td>Economic affairs</td><td>3.2223735275000005E9</td><td>1261992</td><td>2553.402499778129</td></tr><tr><td>Kenya</td><td>2017</td><td>Tharaka Nithi</td><td>Education</td><td>3.7856873E7</td><td>426670</td><td>88.72635291911782</td></tr><tr><td>Kenya</td><td>2017</td><td>Murang’A</td><td>Education</td><td>3.7898020520000005E8</td><td>1136663</td><td>333.4147457953677</td></tr><tr><td>Kenya</td><td>2018</td><td>Kericho</td><td>Housing and community amenities</td><td>4.52420523E7</td><td>974777</td><td>46.41272034526871</td></tr><tr><td>Kenya</td><td>2018</td><td>Migori</td><td>Economic affairs</td><td>2.3535809961000004E9</td><td>1203580</td><td>1955.4836372322575</td></tr><tr><td>Kenya</td><td>2018</td><td>Kirinyaga</td><td>Social protection</td><td>2.0343706274999997E8</td><td>661961</td><td>307.3248465544042</td></tr><tr><td>Kenya</td><td>2018</td><td>Siaya</td><td>Recreation, culture and religion</td><td>1.8994205249999997E8</td><td>1074637</td><td>176.7499653371324</td></tr><tr><td>Kenya</td><td>2019</td><td>Kisii</td><td>Social protection</td><td>1.47954273E8</td><td>1394616</td><td>106.08961391522828</td></tr><tr><td>Kenya</td><td>2020</td><td>Laikipia</td><td>Education</td><td>8.2261045E7</td><td>584082</td><td>140.8381785434237</td></tr><tr><td>Kenya</td><td>2016</td><td>Nyandarua</td><td>Health</td><td>1.17750629485E9</td><td>688885</td><td>1709.292980468438</td></tr><tr><td>Kenya</td><td>2016</td><td>Nakuru</td><td>Recreation, culture and religion</td><td>6.733517796000001E8</td><td>2170005</td><td>310.299644286534</td></tr><tr><td>Kenya</td><td>2016</td><td>Nyamira</td><td>Economic affairs</td><td>1.760705922E9</td><td>665205</td><td>2646.862128216114</td></tr><tr><td>Kenya</td><td>2016</td><td>Elgeyo Marakwet</td><td>Housing and community amenities</td><td>0.0</td><td>469714</td><td>0.0</td></tr><tr><td>Kenya</td><td>2019</td><td>Kilifi</td><td>General public services</td><td>3.016285733E9</td><td>1596266</td><td>1889.5884100770172</td></tr><tr><td>Kenya</td><td>2019</td><td>West Pokot</td><td>Recreation, culture and religion</td><td>9714036.0</td><td>682913</td><td>14.224412187203933</td></tr><tr><td>Kenya</td><td>2020</td><td>Uasin Gishu</td><td>Economic affairs</td><td>4.6310270511E9</td><td>1310340</td><td>3534.217875589542</td></tr><tr><td>Kenya</td><td>2020</td><td>Kajiado</td><td>General public services</td><td>2.533825484E9</td><td>1283417</td><td>1974.2807552027127</td></tr><tr><td>Kenya</td><td>2020</td><td>Kericho</td><td>Education</td><td>5.34715563E8</td><td>1008092</td><td>530.4233770330486</td></tr><tr><td>Kenya</td><td>2020</td><td>Tharaka Nithi</td><td>Public order and safety</td><td>4.463710895E7</td><td>435803</td><td>102.42496942425822</td></tr><tr><td>Kenya</td><td>2020</td><td>Migori</td><td>Recreation, culture and religion</td><td>6.7099814E7</td><td>1250557</td><td>53.65594211219481</td></tr><tr><td>Kenya</td><td>2016</td><td>Nairobi City</td><td>Recreation, culture and religion</td><td>2.9718392949999996E7</td><td>4360681</td><td>6.815080706430944</td></tr><tr><td>Kenya</td><td>2016</td><td>Baringo</td><td>Public order and safety</td><td>3.66696493E7</td><td>694159</td><td>52.826008594572706</td></tr><tr><td>Kenya</td><td>2017</td><td>Makueni</td><td>General public services</td><td>2.1505282954E9</td><td>1063357</td><td>2022.3953906355064</td></tr><tr><td>Kenya</td><td>2017</td><td>Kisii</td><td>Education</td><td>1.3762239689999998E8</td><td>1368521</td><td>100.5628681620523</td></tr><tr><td>Kenya</td><td>2017</td><td>Nairobi City</td><td>Social protection</td><td>1.5513281925E8</td><td>4509233</td><td>34.403371759676205</td></tr><tr><td>Kenya</td><td>2017</td><td>Kilifi</td><td>Housing and community amenities</td><td>646135.0</td><td>1512422</td><td>0.42721872599049737</td></tr><tr><td>Kenya</td><td>2019</td><td>Nyandarua</td><td>Health</td><td>5.42309312E8</td><td>702930</td><td>771.4983170443714</td></tr><tr><td>Kenya</td><td>2020</td><td>Homa Bay</td><td>General public services</td><td>2.60468043E9</td><td>1264071</td><td>2060.5491542800996</td></tr><tr><td>Kenya</td><td>2017</td><td>Nandi</td><td>Housing and community amenities</td><td>1.95277103E7</td><td>942976</td><td>20.70859735560608</td></tr><tr><td>Kenya</td><td>2018</td><td>Migori</td><td>Social protection</td><td>1.089793272E8</td><td>1203580</td><td>90.54597716811513</td></tr><tr><td>Kenya</td><td>2018</td><td>Lamu</td><td>Public order and safety</td><td>2.99054252E8</td><td>152464</td><td>1961.474525133802</td></tr><tr><td>Kenya</td><td>2018</td><td>Murang’A</td><td>Public order and safety</td><td>2.1491482035E8</td><td>1149942</td><td>186.89187832951575</td></tr><tr><td>Kenya</td><td>2018</td><td>Tharaka Nithi</td><td>Public order and safety</td><td>4639715.0</td><td>429906</td><td>10.792394151279582</td></tr><tr><td>Kenya</td><td>2018</td><td>Kitui</td><td>General public services</td><td>3.280349669149999E9</td><td>1236405</td><td>2653.135234126358</td></tr><tr><td>Kenya</td><td>2019</td><td>Kitui</td><td>Education</td><td>7.762045344E8</td><td>1250389</td><td>620.7704437579025</td></tr><tr><td>Kenya</td><td>2019</td><td>Siaya</td><td>Economic affairs</td><td>1.80545412075E9</td><td>1092216</td><td>1653.0192935737987</td></tr><tr><td>Kenya</td><td>2020</td><td>Kakamega</td><td>Education</td><td>6.08253937E8</td><td>2077815</td><td>292.73729229984383</td></tr><tr><td>Kenya</td><td>2016</td><td>Tharaka Nithi</td><td>General public services</td><td>2.7169133635E8</td><td>423626</td><td>641.3471702633927</td></tr><tr><td>Kenya</td><td>2016</td><td>Kajiado</td><td>Social protection</td><td>3.3093932849999998E7</td><td>1057819</td><td>31.285061858408667</td></tr><tr><td>Kenya</td><td>2017</td><td>Wajir</td><td>Health</td><td>1.3527096368499997E9</td><td>823531</td><td>1642.5728197845615</td></tr><tr><td>Kenya</td><td>2017</td><td>Kisii</td><td>Economic affairs</td><td>5.14673675285E9</td><td>1368521</td><td>3760.8021746469367</td></tr><tr><td>Kenya</td><td>2018</td><td>Narok</td><td>Public order and safety</td><td>8.8859327E7</td><td>1232410</td><td>72.10208209930137</td></tr><tr><td>Kenya</td><td>2018</td><td>Kajiado</td><td>Environmental protection</td><td>2.1788619205E8</td><td>1165768</td><td>186.903562329726</td></tr><tr><td>Kenya</td><td>2019</td><td>Turkana</td><td>Housing and community amenities</td><td>1.8827033E7</td><td>1018738</td><td>18.480740877438556</td></tr><tr><td>Kenya</td><td>2019</td><td>Elgeyo Marakwet</td><td>Health</td><td>1.644188085E9</td><td>499495</td><td>3291.7007877956735</td></tr><tr><td>Kenya</td><td>2019</td><td>Baringo</td><td>Recreation, culture and religion</td><td>9.0406862E7</td><td>733056</td><td>123.32872522699493</td></tr><tr><td>Kenya</td><td>2019</td><td>Narok</td><td>Social protection</td><td>4.4818189E7</td><td>1270631</td><td>35.27238749880965</td></tr><tr><td>Kenya</td><td>2016</td><td>Wajir</td><td>General public services</td><td>1.94214087815E9</td><td>806684</td><td>2407.560926149521</td></tr><tr><td>Kenya</td><td>2016</td><td>Nyamira</td><td>Social protection</td><td>1.64975753E7</td><td>665205</td><td>24.80073856931322</td></tr><tr><td>Kenya</td><td>2017</td><td>Embu</td><td>Economic affairs</td><td>2.0221217499999998E9</td><td>647624</td><td>3122.370001729398</td></tr><tr><td>Kenya</td><td>2017</td><td>West Pokot</td><td>Health</td><td>1.2078729601E9</td><td>657207</td><td>1837.8881541127832</td></tr><tr><td>Kenya</td><td>2018</td><td>Tana River</td><td>Health</td><td>1.4134534611000001E9</td><td>337578</td><td>4187.042583047474</td></tr><tr><td>Kenya</td><td>2018</td><td>West Pokot</td><td>Recreation, culture and religion</td><td>6863340.0</td><td>670083</td><td>10.242522195011663</td></tr><tr><td>Kenya</td><td>2018</td><td>Busia</td><td>Environmental protection</td><td>1.0032683E7</td><td>964898</td><td>10.39766172175712</td></tr><tr><td>Kenya</td><td>2019</td><td>Nyeri</td><td>Health</td><td>2.758038533E9</td><td>835770</td><td>3299.9970482309727</td></tr><tr><td>Kenya</td><td>2019</td><td>Embu</td><td>Recreation, culture and religion</td><td>3302178.8</td><td>669272</td><td>4.933986182000741</td></tr><tr><td>Kenya</td><td>2020</td><td>Mandera</td><td>Social protection</td><td>2.08517399E8</td><td>972652</td><td>214.38027064150384</td></tr><tr><td>Kenya</td><td>2016</td><td>Makueni</td><td>Housing and community amenities</td><td>1.1924784260000001E8</td><td>1051888</td><td>113.36553188172125</td></tr><tr><td>Kenya</td><td>2017</td><td>Nyandarua</td><td>Economic affairs</td><td>1.5830405553499997E9</td><td>693462</td><td>2282.807933744026</td></tr><tr><td>Kenya</td><td>2017</td><td>Trans Nzoia</td><td>Environmental protection</td><td>6.2973076E7</td><td>1048071</td><td>60.08474235047053</td></tr><tr><td>Kenya</td><td>2018</td><td>Kwale</td><td>Education</td><td>1.6940561338500001E9</td><td>924747</td><td>1831.9130895801773</td></tr><tr><td>Kenya</td><td>2018</td><td>Nyandarua</td><td>Environmental protection</td><td>2194490.0</td><td>698341</td><td>3.1424332811620683</td></tr><tr><td>Kenya</td><td>2019</td><td>Narok</td><td>Environmental protection</td><td>2.84365224E8</td><td>1270631</td><td>223.7984308583688</td></tr><tr><td>Kenya</td><td>2019</td><td>Nairobi City</td><td>Economic affairs</td><td>7.108011297E9</td><td>4823078</td><td>1473.750019593297</td></tr><tr><td>Kenya</td><td>2020</td><td>Nyandarua</td><td>Education</td><td>2.471151964E8</td><td>707150</td><td>349.4523034716821</td></tr><tr><td>Kenya</td><td>2020</td><td>Nyamira</td><td>Housing and community amenities</td><td>2.49648124E8</td><td>667704</td><td>373.8904125181218</td></tr><tr><td>Kenya</td><td>2017</td><td>Vihiga</td><td>Health</td><td>9.9460527345E8</td><td>641879</td><td>1549.5214416580072</td></tr><tr><td>Kenya</td><td>2018</td><td>Kisii</td><td>General public services</td><td>2.57034911855E9</td><td>1381816</td><td>1860.1240096727786</td></tr><tr><td>Kenya</td><td>2018</td><td>Busia</td><td>Economic affairs</td><td>1.4922106914999998E9</td><td>964898</td><td>1546.4957866012778</td></tr><tr><td>Kenya</td><td>2018</td><td>Uasin Gishu</td><td>Public order and safety</td><td>2.1394525935000002E8</td><td>1244465</td><td>171.91745798395297</td></tr><tr><td>Kenya</td><td>2018</td><td>Kericho</td><td>Public order and safety</td><td>1.0151089825E8</td><td>974777</td><td>104.1375599239621</td></tr><tr><td>Kenya</td><td>2019</td><td>Kitui</td><td>Environmental protection</td><td>8.6643806E7</td><td>1250389</td><td>69.29348066881586</td></tr><tr><td>Kenya</td><td>2019</td><td>Homa Bay</td><td>Economic affairs</td><td>2.1290846627499998E9</td><td>1244894</td><td>1710.253774819382</td></tr><tr><td>Kenya</td><td>2020</td><td>Kwale</td><td>Education</td><td>1.928751894E9</td><td>978569</td><td>1970.9922284478662</td></tr><tr><td>Kenya</td><td>2020</td><td>Nandi</td><td>General public services</td><td>2.080774975E9</td><td>989217</td><td>2103.4565469457157</td></tr><tr><td>Kenya</td><td>2020</td><td>Tana River</td><td>Environmental protection</td><td>140600.0</td><td>356274</td><td>0.39464008038756687</td></tr><tr><td>Kenya</td><td>2016</td><td>Tharaka Nithi</td><td>Economic affairs</td><td>4.387217962E8</td><td>423626</td><td>1035.6347254417813</td></tr><tr><td>Kenya</td><td>2016</td><td>Machakos</td><td>Education</td><td>2.8686299640000004E8</td><td>1445601</td><td>198.43857080895768</td></tr><tr><td>Kenya</td><td>2016</td><td>Nyeri</td><td>Economic affairs</td><td>1.1900720779000008E9</td><td>813608</td><td>1462.709410305701</td></tr><tr><td>Kenya</td><td>2016</td><td>Vihiga</td><td>Recreation, culture and religion</td><td>7.784627715E7</td><td>638039</td><td>122.00865017655661</td></tr><tr><td>Kenya</td><td>2016</td><td>Bungoma</td><td>Economic affairs</td><td>2.438820956150001E9</td><td>1732560</td><td>1407.640114137462</td></tr><tr><td>Kenya</td><td>2016</td><td>Migori</td><td>General public services</td><td>2.86109474425E9</td><td>1157150</td><td>2472.5357509830187</td></tr><tr><td>Kenya</td><td>2017</td><td>Marsabit</td><td>Education</td><td>4.506332546E8</td><td>459531</td><td>980.6373337163326</td></tr><tr><td>Kenya</td><td>2017</td><td>Tharaka Nithi</td><td>Economic affairs</td><td>4.9070410175E8</td><td>426670</td><td>1150.078753486301</td></tr><tr><td>Kenya</td><td>2017</td><td>Baringo</td><td>Environmental protection</td><td>5.0650871574999994E8</td><td>706821</td><td>716.6011136482928</td></tr><tr><td>Kenya</td><td>2017</td><td>Isiolo</td><td>Public order and safety</td><td>8.0372878E7</td><td>258309</td><td>311.1501263990028</td></tr><tr><td>Kenya</td><td>2018</td><td>Uasin Gishu</td><td>General public services</td><td>1.5771481048000002E9</td><td>1244465</td><td>1267.3302220632963</td></tr><tr><td>Kenya</td><td>2018</td><td>Kwale</td><td>Recreation, culture and religion</td><td>4.646195245E7</td><td>924747</td><td>50.24287989039165</td></tr><tr><td>Kenya</td><td>2019</td><td>Nakuru</td><td>General public services</td><td>5.06149595665E9</td><td>2373034</td><td>2132.921802489977</td></tr><tr><td>Kenya</td><td>2019</td><td>Bungoma</td><td>Public order and safety</td><td>3.353613161E8</td><td>1836335</td><td>182.6253467368427</td></tr><tr><td>Kenya</td><td>2020</td><td>Kisii</td><td>General public services</td><td>2.489608156E9</td><td>1406733</td><td>1769.7801615516235</td></tr><tr><td>Kenya</td><td>2020</td><td>West Pokot</td><td>Public order and safety</td><td>1.3459354145E8</td><td>695607</td><td>193.4907806419429</td></tr><tr><td>Kenya</td><td>2016</td><td>Nairobi City</td><td>Environmental protection</td><td>5.456249809E8</td><td>4360681</td><td>125.12380082377041</td></tr><tr><td>Kenya</td><td>2018</td><td>Migori</td><td>Health</td><td>1.7282916501E9</td><td>1203580</td><td>1435.9590971102875</td></tr><tr><td>Kenya</td><td>2018</td><td>Machakos</td><td>Education</td><td>2.018945885E8</td><td>1522169</td><td>132.63611891977828</td></tr><tr><td>Kenya</td><td>2018</td><td>Kajiado</td><td>Recreation, culture and religion</td><td>1.41466284E7</td><td>1165768</td><td>12.135028925137764</td></tr><tr><td>Kenya</td><td>2019</td><td>Kisii</td><td>Environmental protection</td><td>3893960.0</td><td>1394616</td><td>2.7921377640870317</td></tr><tr><td>Kenya</td><td>2016</td><td>Kiambu</td><td>Health</td><td>3.2407252584E9</td><td>2352106</td><td>1377.7972839659437</td></tr><tr><td>Kenya</td><td>2018</td><td>Kajiado</td><td>Social protection</td><td>1.486051963E8</td><td>1165768</td><td>127.47407400100192</td></tr><tr><td>Kenya</td><td>2018</td><td>Embu</td><td>Health</td><td>2.1414589421000001E9</td><td>658507</td><td>3251.9911589398444</td></tr><tr><td>Kenya</td><td>2019</td><td>Mombasa</td><td>Education</td><td>5.904983253E8</td><td>1327105</td><td>444.9522270656805</td></tr><tr><td>Kenya</td><td>2019</td><td>Wajir</td><td>Housing and community amenities</td><td>1.1667776E7</td><td>858572</td><td>13.589746695676077</td></tr><tr><td>Kenya</td><td>2019</td><td>Uasin Gishu</td><td>Health</td><td>2.045972345E9</td><td>1277307</td><td>1601.7859019014222</td></tr><tr><td>Kenya</td><td>2020</td><td>Isiolo</td><td>Housing and community amenities</td><td>0.0</td><td>311403</td><td>0.0</td></tr><tr><td>Kenya</td><td>2020</td><td>Nairobi City</td><td>Housing and community amenities</td><td>5.0086255E7</td><td>4984406</td><td>10.048590544189217</td></tr><tr><td>Kenya</td><td>2020</td><td>Busia</td><td>Public order and safety</td><td>1.9187545295E8</td><td>999906</td><td>191.89349093814818</td></tr><tr><td>Kenya</td><td>2017</td><td>Murang’A</td><td>Environmental protection</td><td>0.0</td><td>1136663</td><td>0.0</td></tr><tr><td>Kenya</td><td>2018</td><td>Mombasa</td><td>Health</td><td>2.7992758708E9</td><td>1294431</td><td>2162.5531764922193</td></tr><tr><td>Kenya</td><td>2018</td><td>Mandera</td><td>Health</td><td>3.9328723335E8</td><td>933865</td><td>421.1392796067954</td></tr><tr><td>Kenya</td><td>2018</td><td>Tharaka Nithi</td><td>Health</td><td>1.28602334E8</td><td>429906</td><td>299.1405888729164</td></tr><tr><td>Kenya</td><td>2018</td><td>Nakuru</td><td>Public order and safety</td><td>3.9523954765E8</td><td>2303736</td><td>171.5646010002882</td></tr><tr><td>Kenya</td><td>2019</td><td>Meru</td><td>Social protection</td><td>1.79202527E8</td><td>1700686</td><td>105.37073098737804</td></tr><tr><td>Kenya</td><td>2019</td><td>Baringo</td><td>Public order and safety</td><td>3.22772692E8</td><td>733056</td><td>440.31109765147545</td></tr><tr><td>Kenya</td><td>2020</td><td>Nyeri</td><td>Environmental protection</td><td>3.4261103E7</td><td>842660</td><td>40.65827617307099</td></tr><tr><td>Kenya</td><td>2020</td><td>Turkana</td><td>Health</td><td>7.36199121E8</td><td>1039404</td><td>708.2896746597088</td></tr><tr><td>Kenya</td><td>2016</td><td>Embu</td><td>Economic affairs</td><td>1.3884247490000002E9</td><td>637167</td><td>2179.0594129953374</td></tr><tr><td>Kenya</td><td>2017</td><td>Lamu</td><td>Economic affairs</td><td>4.252379846999999E8</td><td>147217</td><td>2888.511413084086</td></tr><tr><td>Kenya</td><td>2017</td><td>Nyeri</td><td>General public services</td><td>1.4120180071500003E9</td><td>820838</td><td>1720.2152034262551</td></tr><tr><td>Kenya</td><td>2018</td><td>Marsabit</td><td>Economic affairs</td><td>1.7469786175499997E9</td><td>481101</td><td>3631.2096993146965</td></tr><tr><td>Kenya</td><td>2019</td><td>Lamu</td><td>Education</td><td>4.41586698E8</td><td>157837</td><td>2797.73879381894</td></tr><tr><td>Kenya</td><td>2020</td><td>Taita Taveta</td><td>Education</td><td>2.04066881E8</td><td>381049</td><td>535.5397363593659</td></tr><tr><td>Kenya</td><td>2020</td><td>Marsabit</td><td>Health</td><td>1.762866755E9</td><td>526582</td><td>3347.753540759084</td></tr><tr><td>Kenya</td><td>2016</td><td>Kilifi</td><td>General public services</td><td>8.893870797749996E9</td><td>1472402</td><td>6040.382176708532</td></tr><tr><td>Kenya</td><td>2016</td><td>Tana River</td><td>Health</td><td>7.481834920500001E8</td><td>319535</td><td>2341.4758697795237</td></tr><tr><td>Kenya</td><td>2017</td><td>Nyandarua</td><td>Recreation, culture and religion</td><td>4.40137826E7</td><td>693462</td><td>63.46963871127762</td></tr><tr><td>Kenya</td><td>2020</td><td>Mombasa</td><td>Economic affairs</td><td>3.59284059985E9</td><td>1359896</td><td>2641.9965937468746</td></tr><tr><td>Kenya</td><td>2016</td><td>Kitui</td><td>Health</td><td>1.7031637328499997E9</td><td>1208265</td><td>1409.5945283940193</td></tr><tr><td>Kenya</td><td>2016</td><td>Samburu</td><td>Economic affairs</td><td>1.1492779605499997E9</td><td>308797</td><td>3721.791210892592</td></tr><tr><td>Kenya</td><td>2016</td><td>Busia</td><td>Social protection</td><td>7.909964585E7</td><td>930129</td><td>85.04158654337193</td></tr><tr><td>Kenya</td><td>2017</td><td>Lamu</td><td>General public services</td><td>9.0352955725E8</td><td>147217</td><td>6137.399602287779</td></tr><tr><td>Kenya</td><td>2017</td><td>Embu</td><td>Education</td><td>5.086972895E8</td><td>647624</td><td>785.4824550974022</td></tr><tr><td>Kenya</td><td>2017</td><td>Nairobi City</td><td>Health</td><td>3.52701451E8</td><td>4509233</td><td>78.21761505781582</td></tr><tr><td>Kenya</td><td>2017</td><td>Murang’A</td><td>Public order and safety</td><td>2.12969908E8</td><td>1136663</td><td>187.3641598257355</td></tr><tr><td>Kenya</td><td>2018</td><td>Wajir</td><td>Economic affairs</td><td>3.3469923043499994E9</td><td>841065</td><td>3979.4692495229256</td></tr><tr><td>Kenya</td><td>2018</td><td>Nairobi City</td><td>Public order and safety</td><td>6.577097212049998E9</td><td>4664602</td><td>1410.0017990923982</td></tr><tr><td>Kenya</td><td>2019</td><td>Kisii</td><td>Public order and safety</td><td>4.583468381E8</td><td>1394616</td><td>328.6545099869785</td></tr><tr><td>Kenya</td><td>2020</td><td>Kilifi</td><td>Education</td><td>1.263074793E9</td><td>1638699</td><td>770.7790100561482</td></tr><tr><td>Kenya</td><td>2020</td><td>Kitui</td><td>Environmental protection</td><td>8.6098517E7</td><td>1263831</td><td>68.12502383625659</td></tr><tr><td>Kenya</td><td>2020</td><td>Vihiga</td><td>Education</td><td>4.72196842E8</td><td>653324</td><td>722.7605935186829</td></tr><tr><td>Kenya</td><td>2016</td><td>Machakos</td><td>Economic affairs</td><td>4.356129717599998E9</td><td>1445601</td><td>3013.369330541414</td></tr><tr><td>Kenya</td><td>2016</td><td>Kericho</td><td>Housing and community amenities</td><td>5.194829755E7</td><td>941559</td><td>55.17264191622617</td></tr><tr><td>Kenya</td><td>2016</td><td>Kisii</td><td>Social protection</td><td>1.4531274805E8</td><td>1355863</td><td>107.1736215605854</td></tr><tr><td>Kenya</td><td>2016</td><td>Meru</td><td>Public order and safety</td><td>1.342077762E8</td><td>1635681</td><td>82.05009179662783</td></tr><tr><td>Kenya</td><td>2017</td><td>Kwale</td><td>Economic affairs</td><td>1.5606296832500002E9</td><td>898319</td><td>1737.277830314176</td></tr><tr><td>Kenya</td><td>2017</td><td>Bungoma</td><td>Recreation, culture and religion</td><td>8.667629685E7</td><td>1766291</td><td>49.07248966902962</td></tr><tr><td>Kenya</td><td>2018</td><td>Nairobi City</td><td>General public services</td><td>1.0638933359250006E10</td><td>4664602</td><td>2280.7805165906984</td></tr><tr><td>Kenya</td><td>2018</td><td>Taita Taveta</td><td>Housing and community amenities</td><td>7695400.0</td><td>367982</td><td>20.912435934366354</td></tr><tr><td>Kenya</td><td>2019</td><td>Kwale</td><td>Economic affairs</td><td>2.754538452E9</td><td>951518</td><td>2894.8884330091496</td></tr><tr><td>Kenya</td><td>2019</td><td>Kilifi</td><td>Recreation, culture and religion</td><td>9.2978588E7</td><td>1596266</td><td>58.24755272617471</td></tr><tr><td>Kenya</td><td>2019</td><td>Marsabit</td><td>Social protection</td><td>2.0896647E7</td><td>503447</td><td>41.50714375098074</td></tr><tr><td>Kenya</td><td>2017</td><td>Vihiga</td><td>Education</td><td>3.7506531765E8</td><td>641879</td><td>584.3240200255811</td></tr><tr><td>Kenya</td><td>2017</td><td>Vihiga</td><td>Recreation, culture and religion</td><td>2.07749672E8</td><td>641879</td><td>323.65862101735684</td></tr><tr><td>Kenya</td><td>2018</td><td>Samburu</td><td>Public order and safety</td><td>6.4412611E7</td><td>329613</td><td>195.41890338063124</td></tr><tr><td>Kenya</td><td>2019</td><td>Trans Nzoia</td><td>Social protection</td><td>7.3363451E7</td><td>1088670</td><td>67.38814424940524</td></tr><tr><td>Kenya</td><td>2019</td><td>Taita Taveta</td><td>Social protection</td><td>2.5563553E7</td><td>374561</td><td>68.24937193140771</td></tr><tr><td>Kenya</td><td>2020</td><td>Tana River</td><td>Economic affairs</td><td>6.98512858E8</td><td>356274</td><td>1960.6057641029095</td></tr><tr><td>Kenya</td><td>2020</td><td>Nyeri</td><td>Health</td><td>2.724674862E9</td><td>842660</td><td>3233.4213822894167</td></tr><tr><td>Kenya</td><td>2016</td><td>Bomet</td><td>General public services</td><td>1.1665281136000001E9</td><td>909525</td><td>1282.5684985019655</td></tr><tr><td>Kenya</td><td>2016</td><td>Laikipia</td><td>Environmental protection</td><td>1.0293544E7</td><td>526607</td><td>19.54691829011008</td></tr><tr><td>Kenya</td><td>2017</td><td>West Pokot</td><td>Housing and community amenities</td><td>2.9472504700000003E7</td><td>657207</td><td>44.84508640352279</td></tr><tr><td>Kenya</td><td>2017</td><td>Turkana</td><td>Housing and community amenities</td><td>400000.0</td><td>977164</td><td>0.40934786791162997</td></tr><tr><td>Kenya</td><td>2018</td><td>Kilifi</td><td>Recreation, culture and religion</td><td>8.283975225E7</td><td>1554127</td><td>53.30307770857851</td></tr><tr><td>Kenya</td><td>2019</td><td>Tana River</td><td>Economic affairs</td><td>1.978266266E9</td><td>346887</td><td>5702.912666084345</td></tr><tr><td>Kenya</td><td>2019</td><td>Isiolo</td><td>Health</td><td>1.337519262E9</td><td>292722</td><td>4569.247483960891</td></tr><tr><td>Kenya</td><td>2019</td><td>Nyandarua</td><td>Housing and community amenities</td><td>3.01543131E8</td><td>702930</td><td>428.9803124066408</td></tr><tr><td>Kenya</td><td>2019</td><td>Kiambu</td><td>Housing and community amenities</td><td>2.114252796E9</td><td>2649591</td><td>797.9543997545281</td></tr><tr><td>Kenya</td><td>2020</td><td>Bomet</td><td>Housing and community amenities</td><td>500000.0</td><td>980330</td><td>0.5100323360501056</td></tr><tr><td>Kenya</td><td>2020</td><td>Wajir</td><td>Public order and safety</td><td>2.0095928395E8</td><td>875989</td><td>229.40845598517788</td></tr><tr><td>Kenya</td><td>2016</td><td>Murang’A</td><td>General public services</td><td>2.6143003365500007E9</td><td>1123956</td><td>2325.981031775266</td></tr><tr><td>Kenya</td><td>2016</td><td>Migori</td><td>Public order and safety</td><td>1.6325088E7</td><td>1157150</td><td>14.108013654236702</td></tr><tr><td>Kenya</td><td>2017</td><td>Tana River</td><td>Recreation, culture and religion</td><td>6.607176125E7</td><td>328361</td><td>201.2168352819001</td></tr><tr><td>Kenya</td><td>2017</td><td>Makueni</td><td>Environmental protection</td><td>1.1833501E7</td><td>1063357</td><td>11.128436639811465</td></tr><tr><td>Kenya</td><td>2018</td><td>Tharaka Nithi</td><td>Housing and community amenities</td><td>204842.0</td><td>429906</td><td>0.47648090512809776</td></tr><tr><td>Kenya</td><td>2018</td><td>Narok</td><td>Health</td><td>1.4882181782499998E9</td><td>1232410</td><td>1207.5674314960117</td></tr><tr><td>Kenya</td><td>2019</td><td>Nandi</td><td>Recreation, culture and religion</td><td>1.97831494E8</td><td>974055</td><td>203.10094809841334</td></tr><tr><td>Kenya</td><td>2019</td><td>Vihiga</td><td>Housing and community amenities</td><td>1.581661515E7</td><td>649836</td><td>24.33939509353129</td></tr><tr><td>Kenya</td><td>2019</td><td>Nairobi City</td><td>Education</td><td>7.1915837425E8</td><td>4823078</td><td>149.10776360033987</td></tr><tr><td>Kenya</td><td>2019</td><td>Tana River</td><td>Social protection</td><td>2.9571886E8</td><td>346887</td><td>852.4933479778717</td></tr><tr><td>Kenya</td><td>2019</td><td>Makueni</td><td>Social protection</td><td>2.7157504E7</td><td>1087010</td><td>24.983674483215427</td></tr><tr><td>Kenya</td><td>2020</td><td>Wajir</td><td>Environmental protection</td><td>3.47930601E8</td><td>875989</td><td>397.18603886578484</td></tr><tr><td>Kenya</td><td>2016</td><td>Marsabit</td><td>Health</td><td>9.3121011805E8</td><td>439105</td><td>2120.7003291923343</td></tr><tr><td>Kenya</td><td>2016</td><td>Meru</td><td>Recreation, culture and religion</td><td>6.4955251E7</td><td>1635681</td><td>39.71144190095746</td></tr><tr><td>Kenya</td><td>2016</td><td>Trans Nzoia</td><td>Housing and community amenities</td><td>3.48198241E7</td><td>1028502</td><td>33.854891969096805</td></tr><tr><td>Kenya</td><td>2017</td><td>Narok</td><td>Economic affairs</td><td>1.7264548966000004E9</td><td>1194799</td><td>1444.9751770799946</td></tr><tr><td>Kenya</td><td>2019</td><td>Murang’A</td><td>Health</td><td>2.34361824E8</td><td>1162856</td><td>201.53985016201491</td></tr><tr><td>Kenya</td><td>2020</td><td>Tana River</td><td>Education</td><td>3.16950363E8</td><td>356274</td><td>889.6252968221088</td></tr><tr><td>Kenya</td><td>2020</td><td>Makueni</td><td>Education</td><td>6.18160504E8</td><td>1098172</td><td>562.8995312209745</td></tr><tr><td>Kenya</td><td>2016</td><td>Nairobi City</td><td>Social protection</td><td>8.1986168E7</td><td>4360681</td><td>18.801230358285782</td></tr><tr><td>Kenya</td><td>2017</td><td>Machakos</td><td>Recreation, culture and religion</td><td>3.060532598499999E8</td><td>1483106</td><td>206.35966670622324</td></tr><tr><td>Kenya</td><td>2018</td><td>Tana River</td><td>Economic affairs</td><td>6.258131453E8</td><td>337578</td><td>1853.8327299172338</td></tr><tr><td>Kenya</td><td>2018</td><td>Machakos</td><td>Economic affairs</td><td>5.846326808899997E9</td><td>1522169</td><td>3840.786935550518</td></tr><tr><td>Kenya</td><td>2018</td><td>Bungoma</td><td>Social protection</td><td>5.7776331550000004E7</td><td>1801381</td><td>32.07335458184582</td></tr><tr><td>Kenya</td><td>2018</td><td>Samburu</td><td>Education</td><td>4.5684038020000005E8</td><td>329613</td><td>1385.9901769651078</td></tr><tr><td>Kenya</td><td>2018</td><td>Siaya</td><td>Public order and safety</td><td>6.491950215E7</td><td>1074637</td><td>60.410633683746234</td></tr><tr><td>Kenya</td><td>2018</td><td>Kajiado</td><td>General public services</td><td>2.0339023407000003E9</td><td>1165768</td><td>1744.688772294316</td></tr><tr><td>Kenya</td><td>2019</td><td>Embu</td><td>Housing and community amenities</td><td>6.874419055E7</td><td>669272</td><td>102.71487608924323</td></tr><tr><td>Kenya</td><td>2019</td><td>West Pokot</td><td>Education</td><td>9.265383605E8</td><td>682913</td><td>1356.7443590911287</td></tr><tr><td>Kenya</td><td>2020</td><td>Kwale</td><td>Health</td><td>2.494562866E9</td><td>978569</td><td>2549.194656687469</td></tr><tr><td>Kenya</td><td>2020</td><td>Makueni</td><td>General public services</td><td>2.564536611E9</td><td>1098172</td><td>2335.2777260756966</td></tr><tr><td>Kenya</td><td>2020</td><td>Mombasa</td><td>Public order and safety</td><td>4.775024695E8</td><td>1359896</td><td>351.1316082259232</td></tr><tr><td>Kenya</td><td>2016</td><td>Uasin Gishu</td><td>Recreation, culture and religion</td><td>2.4698816789999998E8</td><td>1180687</td><td>209.19021544236531</td></tr><tr><td>Kenya</td><td>2016</td><td>Vihiga</td><td>Public order and safety</td><td>1.311726E7</td><td>638039</td><td>20.55871192826771</td></tr><tr><td>Kenya</td><td>2017</td><td>Laikipia</td><td>Economic affairs</td><td>5.9248547305E8</td><td>540450</td><td>1096.281752336016</td></tr><tr><td>Kenya</td><td>2017</td><td>Kakamega</td><td>Social protection</td><td>8.2742755E7</td><td>2007676</td><td>41.213201233665195</td></tr><tr><td>Kenya</td><td>2019</td><td>Samburu</td><td>Economic affairs</td><td>1.2359643413E9</td><td>340457</td><td>3630.3096758180914</td></tr><tr><td>Kenya</td><td>2019</td><td>Kakamega</td><td>Economic affairs</td><td>4.0825853503E9</td><td>2055240</td><td>1986.4275463206245</td></tr><tr><td>Kenya</td><td>2019</td><td>Migori</td><td>Environmental protection</td><td>2.93823585E8</td><td>1227169</td><td>239.43204644185113</td></tr><tr><td>Kenya</td><td>2019</td><td>Uasin Gishu</td><td>Social protection</td><td>6.7851087E7</td><td>1277307</td><td>53.120422106823185</td></tr><tr><td>Kenya</td><td>2020</td><td>Murang’A</td><td>Health</td><td>3.07905211E8</td><td>1175266</td><td>261.98767853405104</td></tr><tr><td>Kenya</td><td>2020</td><td>Embu</td><td>Public order and safety</td><td>2.7722940379999995E8</td><td>679843</td><td>407.7844499391771</td></tr><tr><td>Kenya</td><td>2020</td><td>Nandi</td><td>Social protection</td><td>2.6929744E7</td><td>989217</td><td>27.22329276589464</td></tr><tr><td>Kenya</td><td>2016</td><td>Lamu</td><td>Health</td><td>5.544531934E8</td><td>142194</td><td>3899.2727780356413</td></tr><tr><td>Kenya</td><td>2016</td><td>Kericho</td><td>Public order and safety</td><td>5.520673795E7</td><td>941559</td><td>58.63332828850874</td></tr><tr><td>Kenya</td><td>2017</td><td>Nakuru</td><td>Housing and community amenities</td><td>1.666423575E7</td><td>2235441</td><td>7.45456299226864</td></tr><tr><td>Kenya</td><td>2017</td><td>Siaya</td><td>Health</td><td>1.6418856922999997E9</td><td>1056857</td><td>1553.555204062612</td></tr><tr><td>Kenya</td><td>2018</td><td>Murang’A</td><td>Housing and community amenities</td><td>1.598773226E8</td><td>1149942</td><td>139.03077076930836</td></tr><tr><td>Kenya</td><td>2019</td><td>Uasin Gishu</td><td>Education</td><td>9.90711423E8</td><td>1277307</td><td>775.6251418022449</td></tr><tr><td>Kenya</td><td>2019</td><td>Uasin Gishu</td><td>Public order and safety</td><td>4.546989785999999E8</td><td>1277307</td><td>355.98253090290734</td></tr><tr><td>Kenya</td><td>2020</td><td>Samburu</td><td>Health</td><td>1.214429205E9</td><td>351475</td><td>3455.236375275624</td></tr><tr><td>Kenya</td><td>2020</td><td>Nandi</td><td>Recreation, culture and religion</td><td>1.31879719E8</td><td>989217</td><td>133.3172792218492</td></tr><tr><td>Kenya</td><td>2020</td><td>Kwale</td><td>Public order and safety</td><td>8.978270995E7</td><td>978569</td><td>91.74898239163514</td></tr><tr><td>Kenya</td><td>2016</td><td>Lamu</td><td>General public services</td><td>9.935285251500001E8</td><td>142194</td><td>6987.133951854509</td></tr><tr><td>Kenya</td><td>2016</td><td>Garissa</td><td>Public order and safety</td><td>4.4958218E7</td><td>899835</td><td>49.96273539037713</td></tr><tr><td>Kenya</td><td>2018</td><td>Vihiga</td><td>Health</td><td>1.0631517795500001E9</td><td>645985</td><td>1645.7840035759345</td></tr><tr><td>Kenya</td><td>2019</td><td>Mombasa</td><td>General public services</td><td>3.9648949213999996E9</td><td>1327105</td><td>2987.6271443480355</td></tr><tr><td>Kenya</td><td>2020</td><td>Nyandarua</td><td>General public services</td><td>2.009006241E9</td><td>707150</td><td>2840.9902297956587</td></tr><tr><td>Kenya</td><td>2020</td><td>Kirinyaga</td><td>Economic affairs</td><td>1.184141551E9</td><td>680714</td><td>1739.5580978208175</td></tr><tr><td>Kenya</td><td>2020</td><td>Trans Nzoia</td><td>Environmental protection</td><td>1.0737089E8</td><td>1108719</td><td>96.84229277210908</td></tr><tr><td>Kenya</td><td>2017</td><td>Mombasa</td><td>Education</td><td>1.1832220573999999E9</td><td>1261992</td><td>937.5828510798799</td></tr><tr><td>Kenya</td><td>2017</td><td>Kiambu</td><td>Social protection</td><td>1.11450906E8</td><td>2447130</td><td>45.543516690980866</td></tr><tr><td>Kenya</td><td>2018</td><td>Kajiado</td><td>Public order and safety</td><td>1.298690765E8</td><td>1165768</td><td>111.40216278024444</td></tr><tr><td>Kenya</td><td>2018</td><td>Garissa</td><td>Recreation, culture and religion</td><td>4.2677633E7</td><td>973522</td><td>43.838385778647016</td></tr><tr><td>Kenya</td><td>2019</td><td>Nakuru</td><td>Health</td><td>4.719021189E9</td><td>2373034</td><td>1988.6024342676928</td></tr><tr><td>Kenya</td><td>2019</td><td>Laikipia</td><td>Housing and community amenities</td><td>683495.0</td><td>569446</td><td>1.2002806236236623</td></tr><tr><td>Kenya</td><td>2020</td><td>Siaya</td><td>Housing and community amenities</td><td>1.56742708E8</td><td>1109487</td><td>141.27493877801183</td></tr><tr><td>Kenya</td><td>2020</td><td>Kisii</td><td>Social protection</td><td>1.40177843E8</td><td>1406733</td><td>99.64779599255864</td></tr><tr><td>Kenya</td><td>2016</td><td>Murang’A</td><td>Recreation, culture and religion</td><td>9.917838195E7</td><td>1123956</td><td>88.24044886988459</td></tr><tr><td>Kenya</td><td>2018</td><td>Narok</td><td>Housing and community amenities</td><td>1.6252084824999997E8</td><td>1232410</td><td>131.87238682743566</td></tr><tr><td>Kenya</td><td>2018</td><td>Taita Taveta</td><td>Social protection</td><td>8.24965067E7</td><td>367982</td><td>224.18625557771847</td></tr><tr><td>Kenya</td><td>2018</td><td>Kisumu</td><td>Recreation, culture and religion</td><td>2.459463773E8</td><td>1248702</td><td>196.96162679326213</td></tr><tr><td>Kenya</td><td>2019</td><td>Nairobi City</td><td>General public services</td><td>6.858943832E9</td><td>4823078</td><td>1422.1092489070259</td></tr><tr><td>Kenya</td><td>2020</td><td>Kitui</td><td>Education</td><td>6.066896498E8</td><td>1263831</td><td>480.04017135202406</td></tr><tr><td>Kenya</td><td>2020</td><td>Nakuru</td><td>Health</td><td>4.972432599E9</td><td>2443175</td><td>2035.233906289971</td></tr><tr><td>Kenya</td><td>2020</td><td>Homa Bay</td><td>Housing and community amenities</td><td>5.84283673E8</td><td>1264071</td><td>462.2237777783052</td></tr><tr><td>Kenya</td><td>2020</td><td>Garissa</td><td>Environmental protection</td><td>814830.0</td><td>1052172</td><td>0.7744266146599605</td></tr><tr><td>Kenya</td><td>2016</td><td>Makueni</td><td>Recreation, culture and religion</td><td>1.5693586115000004E8</td><td>1051888</td><td>149.19445905837887</td></tr><tr><td>Kenya</td><td>2016</td><td>Siaya</td><td>Public order and safety</td><td>1.1218489E7</td><td>1039776</td><td>10.789332510079094</td></tr><tr><td>Kenya</td><td>2017</td><td>Vihiga</td><td>Public order and safety</td><td>7.6499697E7</td><td>641879</td><td>119.1808689799791</td></tr><tr><td>Kenya</td><td>2017</td><td>Kisumu</td><td>Public order and safety</td><td>3.311365188E8</td><td>1226647</td><td>269.9525770657736</td></tr><tr><td>Kenya</td><td>2018</td><td>Machakos</td><td>Public order and safety</td><td>1.854491795E8</td><td>1522169</td><td>121.83218781882958</td></tr><tr><td>Kenya</td><td>2018</td><td>Samburu</td><td>Social protection</td><td>1.40980981E7</td><td>329613</td><td>42.771668896554445</td></tr><tr><td>Kenya</td><td>2018</td><td>Kericho</td><td>Environmental protection</td><td>2.4884059285000002E8</td><td>974777</td><td>255.2795078771863</td></tr><tr><td>Kenya</td><td>2019</td><td>Baringo</td><td>Education</td><td>6.623272261E8</td><td>733056</td><td>903.5151831510826</td></tr><tr><td>Kenya</td><td>2019</td><td>Kakamega</td><td>Education</td><td>9.854954905E8</td><td>2055240</td><td>479.503848942216</td></tr><tr><td>Kenya</td><td>2019</td><td>Murang’A</td><td>Social protection</td><td>4.1232396E7</td><td>1162856</td><td>35.45786924606314</td></tr><tr><td>Kenya</td><td>2019</td><td>Nyeri</td><td>Recreation, culture and religion</td><td>1.15698921E8</td><td>835770</td><td>138.43392440503968</td></tr><tr><td>Kenya</td><td>2020</td><td>Kisii</td><td>Housing and community amenities</td><td>8.64493687E8</td><td>1406733</td><td>614.5399923084195</td></tr><tr><td>Kenya</td><td>2016</td><td>Tharaka Nithi</td><td>Health</td><td>1.5336541335E8</td><td>423626</td><td>362.03021851822126</td></tr><tr><td>Kenya</td><td>2016</td><td>Busia</td><td>Public order and safety</td><td>6.8787518E7</td><td>930129</td><td>73.95481486976537</td></tr><tr><td>Kenya</td><td>2017</td><td>Makueni</td><td>Education</td><td>6.752245585E8</td><td>1063357</td><td>634.9932887073674</td></tr><tr><td>Kenya</td><td>2017</td><td>West Pokot</td><td>Recreation, culture and religion</td><td>1.5091032E7</td><td>657207</td><td>22.9623725858063</td></tr><tr><td>Kenya</td><td>2017</td><td>Laikipia</td><td>Public order and safety</td><td>9.3464278E7</td><td>540450</td><td>172.93788139513367</td></tr><tr><td>Kenya</td><td>2018</td><td>Turkana</td><td>Health</td><td>4.2151162870000005E8</td><td>997968</td><td>422.3698843049076</td></tr><tr><td>Kenya</td><td>2018</td><td>Marsabit</td><td>Public order and safety</td><td>6.8510432E7</td><td>481101</td><td>142.4034288018524</td></tr><tr><td>Kenya</td><td>2019</td><td>Wajir</td><td>Education</td><td>9.5059321375E8</td><td>858572</td><td>1107.179378957152</td></tr><tr><td>Kenya</td><td>2019</td><td>Kajiado</td><td>Education</td><td>7.6895088895E8</td><td>1223473</td><td>628.4984539503529</td></tr><tr><td>Kenya</td><td>2020</td><td>Kirinyaga</td><td>Education</td><td>2.13374967E8</td><td>680714</td><td>313.45758571147354</td></tr><tr><td>Kenya</td><td>2020</td><td>Bungoma</td><td>Housing and community amenities</td><td>0.0</td><td>1870968</td><td>0.0</td></tr><tr><td>Kenya</td><td>2017</td><td>Kirinyaga</td><td>Health</td><td>1.40622915555E9</td><td>652302</td><td>2155.794640442617</td></tr><tr><td>Kenya</td><td>2017</td><td>Kisii</td><td>Health</td><td>7.1886935545E8</td><td>1368521</td><td>525.2892395878471</td></tr><tr><td>Kenya</td><td>2017</td><td>Baringo</td><td>Social protection</td><td>3.972008195E7</td><td>706821</td><td>56.195390275614336</td></tr><tr><td>Kenya</td><td>2019</td><td>Uasin Gishu</td><td>General public services</td><td>1.703818211E9</td><td>1277307</td><td>1333.9144082041357</td></tr><tr><td>Kenya</td><td>2019</td><td>Kericho</td><td>Environmental protection</td><td>3.20609593E8</td><td>991559</td><td>323.33889662642366</td></tr><tr><td>Kenya</td><td>2020</td><td>Kilifi</td><td>Health</td><td>2.76969078E9</td><td>1638699</td><td>1690.1766462297226</td></tr><tr><td>Kenya</td><td>2020</td><td>Kilifi</td><td>Public order and safety</td><td>2.766733909E8</td><td>1638699</td><td>168.8372244689232</td></tr><tr><td>Kenya</td><td>2016</td><td>Embu</td><td>Education</td><td>2.001859616E8</td><td>637167</td><td>314.1813081970661</td></tr><tr><td>Kenya</td><td>2016</td><td>Kirinyaga</td><td>Economic affairs</td><td>6.728027623500001E8</td><td>643037</td><td>1046.2893462584582</td></tr><tr><td>Kenya</td><td>2016</td><td>Uasin Gishu</td><td>Public order and safety</td><td>8.42698218E7</td><td>1180687</td><td>71.37354929799345</td></tr><tr><td>Kenya</td><td>2016</td><td>Bomet</td><td>Public order and safety</td><td>1.4868527E7</td><td>909525</td><td>16.347573733542234</td></tr><tr><td>Kenya</td><td>2019</td><td>Garissa</td><td>Education</td><td>8.46725262E8</td><td>1012333</td><td>836.4098196937174</td></tr><tr><td>Kenya</td><td>2020</td><td>Wajir</td><td>General public services</td><td>2.978203435E9</td><td>875989</td><td>3399.818302512931</td></tr><tr><td>Kenya</td><td>2020</td><td>Kitui</td><td>Health</td><td>3.72502638E9</td><td>1263831</td><td>2947.408617133145</td></tr><tr><td>Kenya</td><td>2020</td><td>Bomet</td><td>Economic affairs</td><td>5.0097664264E9</td><td>980330</td><td>5110.285747044362</td></tr><tr><td>Kenya</td><td>2020</td><td>Turkana</td><td>Public order and safety</td><td>1.7920740595E8</td><td>1039404</td><td>172.41361968012436</td></tr><tr><td>Kenya</td><td>2020</td><td>Kitui</td><td>Social protection</td><td>2.4404118E7</td><td>1263831</td><td>19.309637127115888</td></tr><tr><td>Kenya</td><td>2016</td><td>Embu</td><td>General public services</td><td>1.2727997736000001E9</td><td>637167</td><td>1997.5921125858686</td></tr><tr><td>Kenya</td><td>2016</td><td>Trans Nzoia</td><td>Education</td><td>2.927311953E8</td><td>1028502</td><td>284.61898498982015</td></tr><tr><td>Kenya</td><td>2016</td><td>Kilifi</td><td>Education</td><td>6396600.0</td><td>1472402</td><td>4.34432987730253</td></tr><tr><td>Kenya</td><td>2017</td><td>Samburu</td><td>Environmental protection</td><td>4.43663922E7</td><td>318967</td><td>139.09398840632417</td></tr><tr><td>Kenya</td><td>2017</td><td>Kakamega</td><td>Health</td><td>4.493483458E8</td><td>2007676</td><td>223.81517027647888</td></tr><tr><td>Kenya</td><td>2017</td><td>West Pokot</td><td>Public order and safety</td><td>1.36130691E8</td><td>657207</td><td>207.13518115297006</td></tr><tr><td>Kenya</td><td>2018</td><td>Marsabit</td><td>Education</td><td>4.502681249E8</td><td>481101</td><td>935.9118457454879</td></tr><tr><td>Kenya</td><td>2018</td><td>Isiolo</td><td>Recreation, culture and religion</td><td>0.0</td><td>275035</td><td>0.0</td></tr><tr><td>Kenya</td><td>2019</td><td>Makueni</td><td>Housing and community amenities</td><td>1.1672016E8</td><td>1087010</td><td>107.37726423859947</td></tr><tr><td>Kenya</td><td>2019</td><td>Kiambu</td><td>Health</td><td>5.912364768E9</td><td>2649591</td><td>2231.425441888956</td></tr><tr><td>Kenya</td><td>2019</td><td>Bomet</td><td>Economic affairs</td><td>6.262433063E9</td><td>962642</td><td>6505.464194373401</td></tr><tr><td>Kenya</td><td>2016</td><td>Migori</td><td>Recreation, culture and religion</td><td>0.0</td><td>1157150</td><td>0.0</td></tr><tr><td>Kenya</td><td>2016</td><td>Lamu</td><td>Social protection</td><td>3.016857695E7</td><td>142194</td><td>212.16490815364924</td></tr><tr><td>Kenya</td><td>2016</td><td>Turkana</td><td>Public order and safety</td><td>6.032014985E7</td><td>957176</td><td>63.0188699361455</td></tr><tr><td>Kenya</td><td>2017</td><td>Elgeyo Marakwet</td><td>Education</td><td>4.8621948944999987E8</td><td>479383</td><td>1014.2610177040068</td></tr><tr><td>Kenya</td><td>2017</td><td>Busia</td><td>Economic affairs</td><td>2.5937717330500007E9</td><td>947172</td><td>2738.437932128484</td></tr><tr><td>Kenya</td><td>2017</td><td>Marsabit</td><td>Social protection</td><td>3.3909419E7</td><td>459531</td><td>73.79136336830378</td></tr><tr><td>Kenya</td><td>2017</td><td>Tharaka Nithi</td><td>Housing and community amenities</td><td>1.9505372E7</td><td>426670</td><td>45.715358473761924</td></tr><tr><td>Kenya</td><td>2018</td><td>Tharaka Nithi</td><td>Economic affairs</td><td>1.4469633641000001E9</td><td>429906</td><td>3365.766851590813</td></tr><tr><td>Kenya</td><td>2018</td><td>Kisumu</td><td>Health</td><td>2.910513562899999E9</td><td>1248702</td><td>2330.8311854229423</td></tr><tr><td>Kenya</td><td>2019</td><td>Meru</td><td>Housing and community amenities</td><td>1.90494143E8</td><td>1700686</td><td>112.01017883371769</td></tr><tr><td>Kenya</td><td>2019</td><td>Turkana</td><td>Economic affairs</td><td>2.5872120915E9</td><td>1018738</td><td>2539.6246056395266</td></tr><tr><td>Kenya</td><td>2019</td><td>Kitui</td><td>Recreation, culture and religion</td><td>-88000.0</td><td>1250389</td><td>-0.0703780983357979</td></tr><tr><td>Kenya</td><td>2020</td><td>Bungoma</td><td>Recreation, culture and religion</td><td>2.6970735E8</td><td>1870968</td><td>144.15390856497814</td></tr><tr><td>Kenya</td><td>2016</td><td>Baringo</td><td>Economic affairs</td><td>8.800227844E8</td><td>694159</td><td>1267.753907101975</td></tr><tr><td>Kenya</td><td>2017</td><td>Kilifi</td><td>Health</td><td>2.3033302518500004E9</td><td>1512422</td><td>1522.9415149012646</td></tr><tr><td>Kenya</td><td>2017</td><td>Marsabit</td><td>General public services</td><td>2.3568720456500006E9</td><td>459531</td><td>5128.864093282065</td></tr><tr><td>Kenya</td><td>2017</td><td>Baringo</td><td>Housing and community amenities</td><td>1.5808126354999998E8</td><td>706821</td><td>223.65105670318226</td></tr><tr><td>Kenya</td><td>2017</td><td>Kisii</td><td>Public order and safety</td><td>1.9418534E8</td><td>1368521</td><td>141.89430779651903</td></tr><tr><td>Kenya</td><td>2018</td><td>Bomet</td><td>Economic affairs</td><td>1.2264495693499997E9</td><td>944760</td><td>1298.1599235255512</td></tr><tr><td>Kenya</td><td>2018</td><td>Kilifi</td><td>Economic affairs</td><td>3.1780637551500025E9</td><td>1554127</td><td>2044.918951379136</td></tr><tr><td>Kenya</td><td>2018</td><td>Nairobi City</td><td>Social protection</td><td>3.75469272E7</td><td>4664602</td><td>8.049331368464019</td></tr><tr><td>Kenya</td><td>2018</td><td>Kirinyaga</td><td>Health</td><td>1.7581322356499999E9</td><td>661961</td><td>2655.945343683389</td></tr><tr><td>Kenya</td><td>2018</td><td>West Pokot</td><td>Social protection</td><td>4.0255691459999996E8</td><td>670083</td><td>600.7567937106298</td></tr><tr><td>Kenya</td><td>2018</td><td>Vihiga</td><td>Environmental protection</td><td>9.0208056E7</td><td>645985</td><td>139.64419607266422</td></tr><tr><td>Kenya</td><td>2019</td><td>Machakos</td><td>Recreation, culture and religion</td><td>6.6768533E7</td><td>1561560</td><td>42.75758408258408</td></tr><tr><td>Kenya</td><td>2016</td><td>Mombasa</td><td>Education</td><td>4.271378501999999E8</td><td>1230848</td><td>347.02729354071334</td></tr><tr><td>Kenya</td><td>2016</td><td>Kericho</td><td>Health</td><td>1.3583099894E9</td><td>941559</td><td>1442.6180296720652</td></tr><tr><td>Kenya</td><td>2016</td><td>Nakuru</td><td>Public order and safety</td><td>1.20976835E8</td><td>2170005</td><td>55.74956509316799</td></tr><tr><td>Kenya</td><td>2017</td><td>Samburu</td><td>Health</td><td>6.734426934000001E8</td><td>318967</td><td>2111.3240347747574</td></tr><tr><td>Kenya</td><td>2017</td><td>Garissa</td><td>Public order and safety</td><td>7.51621324E8</td><td>935777</td><td>803.2055970599833</td></tr><tr><td>Kenya</td><td>2019</td><td>Lamu</td><td>General public services</td><td>1.117575955E9</td><td>157837</td><td>7080.570176827993</td></tr><tr><td>Kenya</td><td>2019</td><td>Garissa</td><td>Economic affairs</td><td>1.3024489259E9</td><td>1012333</td><td>1286.5815160624024</td></tr><tr><td>Kenya</td><td>2020</td><td>Isiolo</td><td>Recreation, culture and religion</td><td>2.7E7</td><td>311403</td><td>86.70436700995174</td></tr><tr><td>Kenya</td><td>2016</td><td>Garissa</td><td>Education</td><td>4.6239075385E8</td><td>899835</td><td>513.8617122583585</td></tr><tr><td>Kenya</td><td>2016</td><td>Homa Bay</td><td>Health</td><td>1.3806160732499998E9</td><td>1186528</td><td>1163.57647965324</td></tr><tr><td>Kenya</td><td>2016</td><td>Embu</td><td>Public order and safety</td><td>9.44448344E7</td><td>637167</td><td>148.22618622747257</td></tr><tr><td>Kenya</td><td>2018</td><td>Turkana</td><td>Education</td><td>7.02599673E7</td><td>997968</td><td>70.40302624933865</td></tr><tr><td>Kenya</td><td>2018</td><td>Bungoma</td><td>Education</td><td>1.27217533065E9</td><td>1801381</td><td>706.2222431845346</td></tr><tr><td>Kenya</td><td>2018</td><td>Kisii</td><td>Recreation, culture and religion</td><td>5.822732595E7</td><td>1381816</td><td>42.1382629452836</td></tr><tr><td>Kenya</td><td>2019</td><td>Marsabit</td><td>General public services</td><td>2.616388556E9</td><td>503447</td><td>5196.949343227788</td></tr><tr><td>Kenya</td><td>2019</td><td>Isiolo</td><td>General public services</td><td>1.288448302E9</td><td>292722</td><td>4401.610750131524</td></tr><tr><td>Kenya</td><td>2020</td><td>Baringo</td><td>Housing and community amenities</td><td>6227186.0</td><td>745967</td><td>8.347803589166814</td></tr><tr><td>Kenya</td><td>2020</td><td>Kisumu</td><td>Housing and community amenities</td><td>0.0</td><td>1292152</td><td>0.0</td></tr><tr><td>Kenya</td><td>2020</td><td>Lamu</td><td>Social protection</td><td>4.0608313E7</td><td>163321</td><td>248.64109942995697</td></tr><tr><td>Kenya</td><td>2017</td><td>Isiolo</td><td>Social protection</td><td>5.491181155E7</td><td>258309</td><td>212.58187500241957</td></tr><tr><td>Kenya</td><td>2017</td><td>Bungoma</td><td>Environmental protection</td><td>3.861819695E7</td><td>1766291</td><td>21.86400595938042</td></tr><tr><td>Kenya</td><td>2017</td><td>Nyamira</td><td>Social protection</td><td>4.37794504E7</td><td>665887</td><td>65.74606562374697</td></tr><tr><td>Kenya</td><td>2018</td><td>Nyamira</td><td>Housing and community amenities</td><td>1.359131537E8</td><td>666829</td><td>203.8201003555634</td></tr><tr><td>Kenya</td><td>2019</td><td>Wajir</td><td>Economic affairs</td><td>4.459897557E9</td><td>858572</td><td>5194.552765522286</td></tr><tr><td>Kenya</td><td>2019</td><td>Kajiado</td><td>General public services</td><td>2.473530858E9</td><td>1223473</td><td>2021.7290107750641</td></tr><tr><td>Kenya</td><td>2019</td><td>Kitui</td><td>Public order and safety</td><td>5.135924857E8</td><td>1250389</td><td>410.7461643536531</td></tr><tr><td>Kenya</td><td>2019</td><td>Tharaka Nithi</td><td>Environmental protection</td><td>2.8857778E7</td><td>432967</td><td>66.65121822217398</td></tr><tr><td>Kenya</td><td>2020</td><td>Lamu</td><td>Economic affairs</td><td>8.833132028E8</td><td>163321</td><td>5408.448410186075</td></tr><tr><td>Kenya</td><td>2020</td><td>Laikipia</td><td>Economic affairs</td><td>8.664320978E8</td><td>584082</td><td>1483.4083190373954</td></tr><tr><td>Kenya</td><td>2020</td><td>Nairobi City</td><td>Recreation, culture and religion</td><td>3.09812043E8</td><td>4984406</td><td>62.15626154851751</td></tr><tr><td>Kenya</td><td>2016</td><td>Mombasa</td><td>General public services</td><td>3.03771143195E9</td><td>1230848</td><td>2467.98258757377</td></tr><tr><td>Kenya</td><td>2016</td><td>Lamu</td><td>Housing and community amenities</td><td>3.79429688E7</td><td>142194</td><td>266.8394503284245</td></tr><tr><td>Kenya</td><td>2016</td><td>Kisumu</td><td>Economic affairs</td><td>2.907478414899997E9</td><td>1205448</td><td>2411.948433196618</td></tr><tr><td>Kenya</td><td>2017</td><td>Bomet</td><td>Economic affairs</td><td>1.2734471002999995E9</td><td>926793</td><td>1374.036165896807</td></tr><tr><td>Kenya</td><td>2018</td><td>Isiolo</td><td>Economic affairs</td><td>8.4270959715E8</td><td>275035</td><td>3064.008570363772</td></tr><tr><td>Kenya</td><td>2018</td><td>Taita Taveta</td><td>Health</td><td>1.695747209E8</td><td>367982</td><td>460.82341228647056</td></tr><tr><td>Kenya</td><td>2019</td><td>Kiambu</td><td>Economic affairs</td><td>4.537276273E9</td><td>2649591</td><td>1712.4440236247783</td></tr><tr><td>Kenya</td><td>2019</td><td>Nakuru</td><td>Education</td><td>1.2493328346499999E9</td><td>2373034</td><td>526.4706846383153</td></tr><tr><td>Kenya</td><td>2019</td><td>Migori</td><td>Public order and safety</td><td>2.62928273E8</td><td>1227169</td><td>214.2559606704537</td></tr><tr><td>Kenya</td><td>2019</td><td>Garissa</td><td>Environmental protection</td><td>498450.0</td><td>1012333</td><td>0.4923775081914745</td></tr><tr><td>Kenya</td><td>2020</td><td>Kajiado</td><td>Education</td><td>7.15527659E8</td><td>1283417</td><td>557.5176727439328</td></tr><tr><td>Kenya</td><td>2020</td><td>Garissa</td><td>Public order and safety</td><td>6.160397919000001E8</td><td>1052172</td><td>585.4934287359862</td></tr><tr><td>Kenya</td><td>2020</td><td>Bungoma</td><td>Public order and safety</td><td>3.0317732195E8</td><td>1870968</td><td>162.04302903630634</td></tr><tr><td>Kenya</td><td>2016</td><td>Mombasa</td><td>Economic affairs</td><td>2.448952793400001E9</td><td>1230848</td><td>1989.6468072418375</td></tr><tr><td>Kenya</td><td>2016</td><td>Kiambu</td><td>Economic affairs</td><td>2.0842492493500004E9</td><td>2352106</td><td>886.1204594308251</td></tr><tr><td>Kenya</td><td>2016</td><td>Trans Nzoia</td><td>Health</td><td>1.4369460185000002E9</td><td>1028502</td><td>1397.1251572675603</td></tr><tr><td>Kenya</td><td>2018</td><td>Kirinyaga</td><td>General public services</td><td>1.4570152800500002E9</td><td>661961</td><td>2201.059095702013</td></tr><tr><td>Kenya</td><td>2018</td><td>Kilifi</td><td>Education</td><td>1.1203983664E9</td><td>1554127</td><td>720.9181530209565</td></tr><tr><td>Kenya</td><td>2018</td><td>Baringo</td><td>Recreation, culture and religion</td><td>7.905181825E7</td><td>719983</td><td>109.7967844379659</td></tr><tr><td>Kenya</td><td>2019</td><td>Kakamega</td><td>Health</td><td>9.50310481E8</td><td>2055240</td><td>462.38418919444933</td></tr><tr><td>Kenya</td><td>2020</td><td>Kakamega</td><td>Health</td><td>2.095392736E9</td><td>2077815</td><td>1008.4597213900179</td></tr><tr><td>Kenya</td><td>2016</td><td>Murang’A</td><td>Public order and safety</td><td>5.5859734E7</td><td>1123956</td><td>49.69921776297293</td></tr><tr><td>Kenya</td><td>2019</td><td>Mombasa</td><td>Housing and community amenities</td><td>3914767.0</td><td>1327105</td><td>2.9498547590431805</td></tr><tr><td>Kenya</td><td>2019</td><td>Garissa</td><td>General public services</td><td>2.999277831E9</td><td>1012333</td><td>2962.73837857701</td></tr><tr><td>Kenya</td><td>2019</td><td>Kirinyaga</td><td>General public services</td><td>1.503049813E9</td><td>671452</td><td>2238.506718276213</td></tr><tr><td>Kenya</td><td>2019</td><td>Kericho</td><td>Health</td><td>2.699521655E9</td><td>991559</td><td>2722.5022968880317</td></tr><tr><td>Kenya</td><td>2019</td><td>Vihiga</td><td>Social protection</td><td>5.429764E7</td><td>649836</td><td>83.55591256870964</td></tr><tr><td>Kenya</td><td>2019</td><td>Bungoma</td><td>Environmental protection</td><td>4.6482553E7</td><td>1836335</td><td>25.312676064007928</td></tr><tr><td>Kenya</td><td>2020</td><td>Kilifi</td><td>Housing and community amenities</td><td>6.96908219E8</td><td>1638699</td><td>425.2814086052411</td></tr><tr><td>Kenya</td><td>2020</td><td>West Pokot</td><td>Education</td><td>8.4326277E8</td><td>695607</td><td>1212.2689535901739</td></tr><tr><td>Kenya</td><td>2020</td><td>Laikipia</td><td>Health</td><td>5.3498845E8</td><td>584082</td><td>915.9475039463637</td></tr><tr><td>Kenya</td><td>2017</td><td>Murang’A</td><td>Recreation, culture and religion</td><td>1.008237406E8</td><td>1136663</td><td>88.70152419846515</td></tr><tr><td>Kenya</td><td>2017</td><td>Busia</td><td>Health</td><td>1.6989761520499997E9</td><td>947172</td><td>1793.735617237418</td></tr><tr><td>Kenya</td><td>2018</td><td>Nairobi City</td><td>Housing and community amenities</td><td>6.1126984E7</td><td>4664602</td><td>13.104437206003857</td></tr><tr><td>Kenya</td><td>2018</td><td>Nakuru</td><td>Health</td><td>4.26089178315E9</td><td>2303736</td><td>1849.557320435154</td></tr><tr><td>Kenya</td><td>2019</td><td>Garissa</td><td>Public order and safety</td><td>8.4900150915E8</td><td>1012333</td><td>838.6583358934264</td></tr><tr><td>Kenya</td><td>2019</td><td>Tana River</td><td>Environmental protection</td><td>1420000.0</td><td>346887</td><td>4.093552078919072</td></tr><tr><td>Kenya</td><td>2020</td><td>Kajiado</td><td>Health</td><td>2.451710631E9</td><td>1283417</td><td>1910.2993267192192</td></tr><tr><td>Kenya</td><td>2020</td><td>Nairobi City</td><td>General public services</td><td>1.3505120693E10</td><td>4984406</td><td>2709.4744475068846</td></tr><tr><td>Kenya</td><td>2020</td><td>Marsabit</td><td>Social protection</td><td>3.0646431E7</td><td>526582</td><td>58.19878195608661</td></tr><tr><td>Kenya</td><td>2020</td><td>Homa Bay</td><td>Social protection</td><td>2.7035981E7</td><td>1264071</td><td>21.388024090418973</td></tr><tr><td>Kenya</td><td>2016</td><td>Uasin Gishu</td><td>Environmental protection</td><td>1.94749253E7</td><td>1180687</td><td>16.494570788024262</td></tr><tr><td>Kenya</td><td>2017</td><td>Kirinyaga</td><td>General public services</td><td>1.4243982263999999E9</td><td>652302</td><td>2183.648411931896</td></tr><tr><td>Kenya</td><td>2017</td><td>Kericho</td><td>General public services</td><td>1.2754039258000002E9</td><td>957838</td><td>1331.5445052294858</td></tr><tr><td>Kenya</td><td>2017</td><td>Migori</td><td>Recreation, culture and religion</td><td>0.0</td><td>1179905</td><td>0.0</td></tr><tr><td>Kenya</td><td>2017</td><td>Kiambu</td><td>Public order and safety</td><td>1.1552618223E9</td><td>2447130</td><td>472.0884555785757</td></tr><tr><td>Kenya</td><td>2018</td><td>Migori</td><td>Public order and safety</td><td>9.09496235E7</td><td>1203580</td><td>75.56591460476245</td></tr><tr><td>Kenya</td><td>2018</td><td>Kilifi</td><td>Social protection</td><td>1.366852869E8</td><td>1554127</td><td>87.94988240986741</td></tr><tr><td>Kenya</td><td>2020</td><td>Murang’A</td><td>Social protection</td><td>2.5431745E7</td><td>1175266</td><td>21.639139565000605</td></tr><tr><td>Kenya</td><td>2016</td><td>Wajir</td><td>Education</td><td>3.98342932E8</td><td>806684</td><td>493.80294142439914</td></tr><tr><td>Kenya</td><td>2016</td><td>Kisumu</td><td>Recreation, culture and religion</td><td>2.4222830670000002E8</td><td>1205448</td><td>200.9446336133952</td></tr><tr><td>Kenya</td><td>2017</td><td>Wajir</td><td>Economic affairs</td><td>4.060446875549999E9</td><td>823531</td><td>4930.533125711114</td></tr><tr><td>Kenya</td><td>2018</td><td>Narok</td><td>Economic affairs</td><td>9.777319950000001E8</td><td>1232410</td><td>793.3496117363541</td></tr><tr><td>Kenya</td><td>2018</td><td>Kisii</td><td>Economic affairs</td><td>5.85191171565E9</td><td>1381816</td><td>4234.942796761652</td></tr><tr><td>Kenya</td><td>2018</td><td>Murang’A</td><td>Education</td><td>3.36323897E8</td><td>1149942</td><td>292.4703132853657</td></tr><tr><td>Kenya</td><td>2018</td><td>Marsabit</td><td>Environmental protection</td><td>1.1575027830000001E8</td><td>481101</td><td>240.5945493773657</td></tr><tr><td>Kenya</td><td>2019</td><td>Taita Taveta</td><td>Economic affairs</td><td>8.1081297475E8</td><td>374561</td><td>2164.702077231746</td></tr><tr><td>Kenya</td><td>2019</td><td>Kiambu</td><td>Education</td><td>1.126115611E9</td><td>2649591</td><td>425.01488380659504</td></tr><tr><td>Kenya</td><td>2019</td><td>Samburu</td><td>Environmental protection</td><td>1.05799349E8</td><td>340457</td><td>310.7568621000596</td></tr><tr><td>Kenya</td><td>2019</td><td>Elgeyo Marakwet</td><td>Recreation, culture and religion</td><td>6.4196611E7</td><td>499495</td><td>128.52303026056316</td></tr><tr><td>Kenya</td><td>2018</td><td>Wajir</td><td>Social protection</td><td>8.17161157E7</td><td>841065</td><td>97.15790777169423</td></tr><tr><td>Kenya</td><td>2019</td><td>Nairobi City</td><td>Health</td><td>1.642501986E9</td><td>4823078</td><td>340.5505749647839</td></tr><tr><td>Kenya</td><td>2020</td><td>Homa Bay</td><td>Health</td><td>2.621471135E9</td><td>1264071</td><td>2073.832193761268</td></tr><tr><td>Kenya</td><td>2020</td><td>Nyeri</td><td>Social protection</td><td>1.66793622E8</td><td>842660</td><td>197.93703510312582</td></tr><tr><td>Kenya</td><td>2016</td><td>Nakuru</td><td>Social protection</td><td>2.7871619875E8</td><td>2170005</td><td>128.4403486397497</td></tr><tr><td>Kenya</td><td>2016</td><td>Kiambu</td><td>Public order and safety</td><td>1.336808689E8</td><td>2352106</td><td>56.83454270343259</td></tr><tr><td>Kenya</td><td>2017</td><td>Mombasa</td><td>General public services</td><td>3.6759497311000004E9</td><td>1261992</td><td>2912.8153990675064</td></tr><tr><td>Kenya</td><td>2017</td><td>Kilifi</td><td>Economic affairs</td><td>3.600913383500002E9</td><td>1512422</td><td>2380.891962362358</td></tr><tr><td>Kenya</td><td>2017</td><td>Taita Taveta</td><td>Environmental protection</td><td>2.99337967E7</td><td>361353</td><td>82.83810207746996</td></tr><tr><td>Kenya</td><td>2017</td><td>Tharaka Nithi</td><td>Public order and safety</td><td>3.2906577E7</td><td>426670</td><td>77.12418731103664</td></tr><tr><td>Kenya</td><td>2018</td><td>Taita Taveta</td><td>Economic affairs</td><td>2.714327377999999E8</td><td>367982</td><td>737.6250408987394</td></tr><tr><td>Kenya</td><td>2019</td><td>Nyamira</td><td>Public order and safety</td><td>1.17241072E8</td><td>667466</td><td>175.65100244806476</td></tr><tr><td>Kenya</td><td>2016</td><td>Mandera</td><td>General public services</td><td>4.0119682118999996E9</td><td>895698</td><td>4479.152808089333</td></tr><tr><td>Kenya</td><td>2018</td><td>Kakamega</td><td>General public services</td><td>8.4656598342E9</td><td>2031790</td><td>4166.601781778629</td></tr><tr><td>Kenya</td><td>2018</td><td>Trans Nzoia</td><td>Economic affairs</td><td>6.302910089E8</td><td>1068420</td><td>589.9281264858389</td></tr><tr><td>Kenya</td><td>2018</td><td>Tana River</td><td>Social protection</td><td>5.147969785E7</td><td>337578</td><td>152.49719427806315</td></tr><tr><td>Kenya</td><td>2019</td><td>Kitui</td><td>Housing and community amenities</td><td>1.8279367E8</td><td>1250389</td><td>146.18944184569762</td></tr><tr><td>Kenya</td><td>2019</td><td>Homa Bay</td><td>Housing and community amenities</td><td>3.33186802E8</td><td>1244894</td><td>267.6427085358271</td></tr><tr><td>Kenya</td><td>2019</td><td>Homa Bay</td><td>Health</td><td>2.491800437E9</td><td>1244894</td><td>2001.6165528952665</td></tr><tr><td>Kenya</td><td>2020</td><td>Machakos</td><td>Economic affairs</td><td>5.7284996923E9</td><td>1601135</td><td>3577.774324026394</td></tr><tr><td>Kenya</td><td>2020</td><td>Makueni</td><td>Environmental protection</td><td>-2624572.0</td><td>1098172</td><td>-2.389946201505775</td></tr><tr><td>Kenya</td><td>2020</td><td>Vihiga</td><td>Public order and safety</td><td>8.098156295E7</td><td>653324</td><td>123.95314262142521</td></tr><tr><td>Kenya</td><td>2016</td><td>Wajir</td><td>Health</td><td>1.42674722905E9</td><td>806684</td><td>1768.6569078474347</td></tr><tr><td>Kenya</td><td>2016</td><td>Kilifi</td><td>Housing and community amenities</td><td>0.0</td><td>1472402</td><td>0.0</td></tr><tr><td>Kenya</td><td>2017</td><td>Bungoma</td><td>Health</td><td>2.1825705561499996E9</td><td>1766291</td><td>1235.680052805568</td></tr><tr><td>Kenya</td><td>2017</td><td>Embu</td><td>Social protection</td><td>5.79446806E7</td><td>647624</td><td>89.47271966449668</td></tr><tr><td>Kenya</td><td>2019</td><td>Lamu</td><td>Economic affairs</td><td>8.2859898725E8</td><td>157837</td><td>5249.713231054822</td></tr><tr><td>Kenya</td><td>2020</td><td>Mandera</td><td>Education</td><td>2.959093015E9</td><td>972652</td><td>3042.2936620702985</td></tr><tr><td>Kenya</td><td>2020</td><td>Tharaka Nithi</td><td>Housing and community amenities</td><td>3.079206E8</td><td>435803</td><td>706.5591563160419</td></tr><tr><td>Kenya</td><td>2016</td><td>Busia</td><td>General public services</td><td>2.246070069499999E9</td><td>930129</td><td>2414.7941516714336</td></tr><tr><td>Kenya</td><td>2017</td><td>Samburu</td><td>Housing and community amenities</td><td>6.955310395500001E8</td><td>318967</td><td>2180.573662949459</td></tr><tr><td>Kenya</td><td>2017</td><td>Kisumu</td><td>Education</td><td>3.9497257449999994E8</td><td>1226647</td><td>321.99367421923336</td></tr><tr><td>Kenya</td><td>2017</td><td>Nairobi City</td><td>Education</td><td>4.2908457205E8</td><td>4509233</td><td>95.15688633743255</td></tr><tr><td>Kenya</td><td>2018</td><td>Laikipia</td><td>Social protection</td><td>4773387.0</td><td>554882</td><td>8.602526302889624</td></tr><tr><td>Kenya</td><td>2019</td><td>Makueni</td><td>Environmental protection</td><td>4.47397952E8</td><td>1087010</td><td>411.58586581540186</td></tr><tr><td>Kenya</td><td>2019</td><td>Siaya</td><td>Housing and community amenities</td><td>1.61997798E8</td><td>1092216</td><td>148.32029378804194</td></tr><tr><td>Kenya</td><td>2019</td><td>Turkana</td><td>Public order and safety</td><td>2.8026495785E8</td><td>1018738</td><td>275.10994765091715</td></tr><tr><td>Kenya</td><td>2020</td><td>Mombasa</td><td>Health</td><td>2.901345868E9</td><td>1359896</td><td>2133.5057004359155</td></tr><tr><td>Kenya</td><td>2020</td><td>Nyandarua</td><td>Health</td><td>6.46075607E8</td><td>707150</td><td>913.6330439086474</td></tr><tr><td>Kenya</td><td>2020</td><td>Lamu</td><td>Public order and safety</td><td>1.2081908594999999E8</td><td>163321</td><td>739.764549261883</td></tr><tr><td>Kenya</td><td>2020</td><td>Samburu</td><td>Public order and safety</td><td>7.687075195E7</td><td>351475</td><td>218.70901756881713</td></tr><tr><td>Kenya</td><td>2016</td><td>Tana River</td><td>Housing and community amenities</td><td>3066868.0</td><td>319535</td><td>9.597909462187241</td></tr><tr><td>Kenya</td><td>2016</td><td>Meru</td><td>Environmental protection</td><td>4.4761641615E8</td><td>1635681</td><td>273.65752622302267</td></tr><tr><td>Kenya</td><td>2016</td><td>Nandi</td><td>Social protection</td><td>4.74533001E7</td><td>927962</td><td>51.13711563620062</td></tr><tr><td>Kenya</td><td>2016</td><td>Mombasa</td><td>Housing and community amenities</td><td>0.0</td><td>1230848</td><td>0.0</td></tr><tr><td>Kenya</td><td>2017</td><td>Mombasa</td><td>Health</td><td>2.342794372E9</td><td>1261992</td><td>1856.4256920804569</td></tr><tr><td>Kenya</td><td>2017</td><td>Murang’A</td><td>Housing and community amenities</td><td>156535.0</td><td>1136663</td><td>0.13771452048672297</td></tr><tr><td>Kenya</td><td>2018</td><td>Isiolo</td><td>Health</td><td>1.06081402075E9</td><td>275035</td><td>3857.014637227989</td></tr><tr><td>Kenya</td><td>2018</td><td>Narok</td><td>Education</td><td>9.014233161500001E8</td><td>1232410</td><td>731.4313549468116</td></tr><tr><td>Kenya</td><td>2018</td><td>Bungoma</td><td>Public order and safety</td><td>1.050329521E8</td><td>1801381</td><td>58.306905701792125</td></tr><tr><td>Kenya</td><td>2019</td><td>Embu</td><td>Health</td><td>2.382146912E9</td><td>669272</td><td>3559.310582244588</td></tr><tr><td>Kenya</td><td>2020</td><td>Machakos</td><td>Recreation, culture and religion</td><td>4.76886912E8</td><td>1601135</td><td>297.8430375952059</td></tr><tr><td>Kenya</td><td>2016</td><td>Tana River</td><td>Education</td><td>1.3374262985E8</td><td>319535</td><td>418.55392945999654</td></tr><tr><td>Kenya</td><td>2016</td><td>Mandera</td><td>Recreation, culture and religion</td><td>1.4619281154E9</td><td>895698</td><td>1632.1663277131356</td></tr><tr><td>Kenya</td><td>2016</td><td>Homa Bay</td><td>Education</td><td>3.9586591355E8</td><td>1186528</td><td>333.6338573973813</td></tr><tr><td>Kenya</td><td>2016</td><td>Isiolo</td><td>Public order and safety</td><td>6202484.0</td><td>242687</td><td>25.557545315571087</td></tr><tr><td>Kenya</td><td>2017</td><td>Mombasa</td><td>Environmental protection</td><td>0.0</td><td>1261992</td><td>0.0</td></tr><tr><td>Kenya</td><td>2017</td><td>Kiambu</td><td>Health</td><td>4.17412317025E9</td><td>2447130</td><td>1705.7218742976465</td></tr><tr><td>Kenya</td><td>2017</td><td>Nakuru</td><td>General public services</td><td>2.7298139387999997E9</td><td>2235441</td><td>1221.1523090074843</td></tr><tr><td>Kenya</td><td>2017</td><td>Turkana</td><td>Social protection</td><td>2.7031786E7</td><td>977164</td><td>27.66350991235862</td></tr><tr><td>Kenya</td><td>2018</td><td>Taita Taveta</td><td>Public order and safety</td><td>1.931577792E8</td><td>367982</td><td>524.9109445570707</td></tr><tr><td>Kenya</td><td>2019</td><td>Kakamega</td><td>Housing and community amenities</td><td>6.97293032E7</td><td>2055240</td><td>33.92757205971079</td></tr><tr><td>Kenya</td><td>2020</td><td>Nakuru</td><td>Economic affairs</td><td>5.1633094726E9</td><td>2443175</td><td>2113.360472581784</td></tr><tr><td>Kenya</td><td>2020</td><td>Nairobi City</td><td>Education</td><td>1.282489883E9</td><td>4984406</td><td>257.3004452285789</td></tr><tr><td>Kenya</td><td>2016</td><td>Turkana</td><td>Economic affairs</td><td>6.970415504000001E8</td><td>957176</td><td>728.2271498658555</td></tr><tr><td>Kenya</td><td>2016</td><td>Kisumu</td><td>Education</td><td>3.5887223204999995E8</td><td>1205448</td><td>297.70859634758193</td></tr><tr><td>Kenya</td><td>2016</td><td>Mandera</td><td>Public order and safety</td><td>3.813355205E7</td><td>895698</td><td>42.574117671357975</td></tr><tr><td>Kenya</td><td>2017</td><td>Nyandarua</td><td>Social protection</td><td>1.24323986E8</td><td>693462</td><td>179.28017108363545</td></tr><tr><td>Kenya</td><td>2018</td><td>Makueni</td><td>Economic affairs</td><td>1.7922748897E9</td><td>1075366</td><td>1666.6650142370133</td></tr><tr><td>Kenya</td><td>2018</td><td>Isiolo</td><td>Housing and community amenities</td><td>1.09578453E7</td><td>275035</td><td>39.841639427709204</td></tr><tr><td>Kenya</td><td>2018</td><td>Trans Nzoia</td><td>Health</td><td>1.9470777544499998E9</td><td>1068420</td><td>1822.3898414949176</td></tr><tr><td>Kenya</td><td>2018</td><td>Homa Bay</td><td>General public services</td><td>2.33357287625E9</td><td>1225341</td><td>1904.4273196195998</td></tr><tr><td>Kenya</td><td>2018</td><td>Kisii</td><td>Environmental protection</td><td>1.1567602E7</td><td>1381816</td><td>8.371304138901271</td></tr><tr><td>Kenya</td><td>2019</td><td>Kericho</td><td>General public services</td><td>1.810285537E9</td><td>991559</td><td>1825.6962389530022</td></tr><tr><td>Kenya</td><td>2019</td><td>Kisii</td><td>Economic affairs</td><td>5.87660819535E9</td><td>1394616</td><td>4213.782285123647</td></tr><tr><td>Kenya</td><td>2019</td><td>Kiambu</td><td>Public order and safety</td><td>7.685233995999999E8</td><td>2649591</td><td>290.0535968004118</td></tr><tr><td>Kenya</td><td>2020</td><td>Bungoma</td><td>Social protection</td><td>3.0865135E7</td><td>1870968</td><td>16.496880224568244</td></tr><tr><td>Kenya</td><td>2016</td><td>Kericho</td><td>Education</td><td>3.4816956300000006E8</td><td>941559</td><td>369.77986828228507</td></tr><tr><td>Kenya</td><td>2017</td><td>Isiolo</td><td>Education</td><td>2.370044764E8</td><td>258309</td><td>917.5231075959413</td></tr><tr><td>Kenya</td><td>2019</td><td>Nyandarua</td><td>Social protection</td><td>3.16988125E7</td><td>702930</td><td>45.095261974876585</td></tr><tr><td>Kenya</td><td>2019</td><td>Trans Nzoia</td><td>Public order and safety</td><td>3.024864702E8</td><td>1088670</td><td>277.849550552509</td></tr><tr><td>Kenya</td><td>2020</td><td>Vihiga</td><td>Health</td><td>1.163064531E9</td><td>653324</td><td>1780.2262445585957</td></tr><tr><td>Kenya</td><td>2020</td><td>Laikipia</td><td>Social protection</td><td>1028151.0</td><td>584082</td><td>1.760285370889704</td></tr><tr><td>Kenya</td><td>2021</td><td>Wajir</td><td>Education</td><td>5.683378544000001E8</td><td>893331</td><td>636.200752464652</td></tr><tr><td>Kenya</td><td>2021</td><td>Nakuru</td><td>Social protection</td><td>1.15621517255E9</td><td>2514149</td><td>459.8833134193717</td></tr><tr><td>Kenya</td><td>2022</td><td>Trans Nzoia</td><td>Health</td><td>2.5707416269999995E9</td><td>1148366</td><td>2238.6082721014027</td></tr><tr><td>Kenya</td><td>2022</td><td>Tharaka Nithi</td><td>Economic affairs</td><td>1.7155553523000002E9</td><td>440960</td><td>3890.5010710722067</td></tr><tr><td>Kenya</td><td>2021</td><td>Taita Taveta</td><td>Economic affairs</td><td>1.4942009355500002E9</td><td>387471</td><td>3856.291014166222</td></tr><tr><td>Kenya</td><td>2021</td><td>Kisii</td><td>Housing and community amenities</td><td>2.199577943E8</td><td>1418331</td><td>155.08213125144977</td></tr><tr><td>Kenya</td><td>2021</td><td>Elgeyo Marakwet</td><td>Environmental protection</td><td>2394345.5</td><td>519409</td><td>4.609749734794738</td></tr><tr><td>Kenya</td><td>2022</td><td>Migori</td><td>Housing and community amenities</td><td>1118323.0</td><td>1296920</td><td>0.8622914289239121</td></tr><tr><td>Kenya</td><td>2021</td><td>Wajir</td><td>Public order and safety</td><td>1.6336560035E8</td><td>893331</td><td>182.87241834213745</td></tr><tr><td>Kenya</td><td>2021</td><td>Embu</td><td>Social protection</td><td>7.55205695E7</td><td>690267</td><td>109.40776467656718</td></tr><tr><td>Kenya</td><td>2022</td><td>Nandi</td><td>Public order and safety</td><td>2.01079289E8</td><td>1018897</td><td>197.34996667965456</td></tr><tr><td>Kenya</td><td>2022</td><td>Embu</td><td>General public services</td><td>1.5453191244500008E9</td><td>700557</td><td>2205.843528007001</td></tr><tr><td>Kenya</td><td>2021</td><td>Meru</td><td>Public order and safety</td><td>4.8819697524999994E8</td><td>1742136</td><td>280.22896906441287</td></tr><tr><td>Kenya</td><td>2021</td><td>Kericho</td><td>Education</td><td>5.0916040170000005E8</td><td>1024431</td><td>497.01776078623163</td></tr><tr><td>Kenya</td><td>2021</td><td>Kitui</td><td>Health</td><td>3.2983100731000004E9</td><td>1276847</td><td>2583.1678134498497</td></tr><tr><td>Kenya</td><td>2022</td><td>Laikipia</td><td>Health</td><td>7.380943363000001E8</td><td>613653</td><td>1202.787790982852</td></tr><tr><td>Kenya</td><td>2022</td><td>Kisii</td><td>Recreation, culture and religion</td><td>1.128352289E8</td><td>1429418</td><td>78.93788164133935</td></tr><tr><td>Kenya</td><td>2022</td><td>Tharaka Nithi</td><td>Education</td><td>3.4998099559999996E8</td><td>440960</td><td>793.6796888606675</td></tr><tr><td>Kenya</td><td>2022</td><td>Taita Taveta</td><td>Social protection</td><td>9.90535238E7</td><td>393839</td><td>251.50765617422346</td></tr><tr><td>Kenya</td><td>2022</td><td>Kilifi</td><td>Health</td><td>1.7860426497E9</td><td>1724586</td><td>1035.6355958473512</td></tr><tr><td>Kenya</td><td>2022</td><td>Mombasa</td><td>Environmental protection</td><td>1.648985976E8</td><td>1425957</td><td>115.64065227773348</td></tr><tr><td>Kenya</td><td>2021</td><td>Trans Nzoia</td><td>Housing and community amenities</td><td>1159340.0</td><td>1128600</td><td>1.027237285132022</td></tr><tr><td>Kenya</td><td>2021</td><td>Nyamira</td><td>Environmental protection</td><td>1.65200876E7</td><td>667673</td><td>24.742782170313912</td></tr><tr><td>Kenya</td><td>2021</td><td>Samburu</td><td>Public order and safety</td><td>6.4224055E7</td><td>362681</td><td>177.08138832748338</td></tr><tr><td>Kenya</td><td>2021</td><td>Kilifi</td><td>Health</td><td>4.009049818200001E9</td><td>1681452</td><td>2384.2784796711417</td></tr><tr><td>Kenya</td><td>2022</td><td>Migori</td><td>Social protection</td><td>3.07511532E7</td><td>1296920</td><td>23.710909847947445</td></tr><tr><td>Kenya</td><td>2022</td><td>Nyeri</td><td>Environmental protection</td><td>2.312613625E7</td><td>855511</td><td>27.031956631767446</td></tr><tr><td>Kenya</td><td>2021</td><td>Isiolo</td><td>Public order and safety</td><td>1.01520467E8</td><td>331083</td><td>306.63147005433683</td></tr><tr><td>Kenya</td><td>2021</td><td>Nandi</td><td>Economic affairs</td><td>2.78261645645E9</td><td>1004167</td><td>2771.069410217623</td></tr><tr><td>Kenya</td><td>2021</td><td>Nandi</td><td>Social protection</td><td>1.342144772E8</td><td>1004167</td><td>133.6575262879581</td></tr><tr><td>Kenya</td><td>2022</td><td>Nyamira</td><td>Health</td><td>2.0808916699499998E9</td><td>667345</td><td>3118.164772269216</td></tr><tr><td>Kenya</td><td>2022</td><td>Samburu</td><td>Environmental protection</td><td>1.3267581E7</td><td>374075</td><td>35.46770300073515</td></tr><tr><td>Kenya</td><td>2022</td><td>Meru</td><td>Health</td><td>3.0558248088000007E9</td><td>1762084</td><td>1734.2106328642678</td></tr><tr><td>Kenya</td><td>2022</td><td>Isiolo</td><td>General public services</td><td>1.7738890940000002E9</td><td>351861</td><td>5041.448452656021</td></tr><tr><td>Kenya</td><td>2021</td><td>Kisii</td><td>General public services</td><td>1.9076558444E9</td><td>1418331</td><td>1345.0004578620928</td></tr><tr><td>Kenya</td><td>2021</td><td>Marsabit</td><td>Social protection</td><td>8.43038765E7</td><td>550487</td><td>153.14417325023115</td></tr><tr><td>Kenya</td><td>2021</td><td>West Pokot</td><td>Environmental protection</td><td>7.136637765E7</td><td>708214</td><td>100.76950985154205</td></tr><tr><td>Kenya</td><td>2022</td><td>Bomet</td><td>Public order and safety</td><td>1.14912511E8</td><td>1015337</td><td>113.17671965071695</td></tr><tr><td>Kenya</td><td>2022</td><td>Uasin Gishu</td><td>General public services</td><td>2.2025810496E9</td><td>1377083</td><td>1599.4540994261056</td></tr><tr><td>Kenya</td><td>2022</td><td>Wajir</td><td>Public order and safety</td><td>1.98154479E8</td><td>910640</td><td>217.599137968901</td></tr><tr><td>Kenya</td><td>2021</td><td>Kirinyaga</td><td>Education</td><td>2.8611545129999995E8</td><td>689786</td><td>414.78871896501227</td></tr><tr><td>Kenya</td><td>2021</td><td>West Pokot</td><td>Economic affairs</td><td>1.445520245E9</td><td>708214</td><td>2041.0783251954917</td></tr><tr><td>Kenya</td><td>2022</td><td>Trans Nzoia</td><td>Economic affairs</td><td>1.5420963302999997E9</td><td>1148366</td><td>1342.8613615345628</td></tr><tr><td>Kenya</td><td>2022</td><td>Machakos</td><td>Environmental protection</td><td>9058830.149999999</td><td>1680998</td><td>5.388959505008334</td></tr><tr><td>Kenya</td><td>2022</td><td>Kwale</td><td>Economic affairs</td><td>2.5332895595000005E9</td><td>1033550</td><td>2451.0566102268886</td></tr><tr><td>Kenya</td><td>2022</td><td>Mombasa</td><td>Recreation, culture and religion</td><td>1.5326525975E8</td><td>1425957</td><td>107.48238533840782</td></tr><tr><td>Kenya</td><td>2021</td><td>Siaya</td><td>Economic affairs</td><td>2.22630845205E9</td><td>1126518</td><td>1976.274193621407</td></tr><tr><td>Kenya</td><td>2022</td><td>Homa Bay</td><td>Education</td><td>5.523326696999999E8</td><td>1301586</td><td>424.3535730255242</td></tr><tr><td>Kenya</td><td>2022</td><td>Kakamega</td><td>Health</td><td>1.4230701268E9</td><td>2120889</td><td>670.9781260594024</td></tr><tr><td>Kenya</td><td>2022</td><td>West Pokot</td><td>Housing and community amenities</td><td>1.566448782E8</td><td>720744</td><td>217.33774849322364</td></tr><tr><td>Kenya</td><td>2021</td><td>Migori</td><td>Economic affairs</td><td>3.077729583350001E9</td><td>1273799</td><td>2416.1815037929855</td></tr><tr><td>Kenya</td><td>2021</td><td>Kwale</td><td>Health</td><td>3.12739925635E9</td><td>1005895</td><td>3109.0712811476346</td></tr><tr><td>Kenya</td><td>2021</td><td>Marsabit</td><td>Health</td><td>1.9356100082999997E9</td><td>550487</td><td>3516.1775088240042</td></tr><tr><td>Kenya</td><td>2022</td><td>Nyandarua</td><td>General public services</td><td>3.772197193550001E9</td><td>714743</td><td>5277.697289165478</td></tr><tr><td>Kenya</td><td>2022</td><td>Kericho</td><td>Public order and safety</td><td>2.0343669565E8</td><td>1040591</td><td>195.50111009032366</td></tr><tr><td>Kenya</td><td>2021</td><td>Baringo</td><td>General public services</td><td>1.68949292785E9</td><td>758756</td><td>2226.661703960166</td></tr><tr><td>Kenya</td><td>2021</td><td>Kiambu</td><td>Public order and safety</td><td>4.755936709E8</td><td>2863073</td><td>166.1130089592546</td></tr><tr><td>Kenya</td><td>2021</td><td>Nyeri</td><td>Education</td><td>3.5678103890000004E8</td><td>849245</td><td>420.115560174037</td></tr><tr><td>Kenya</td><td>2021</td><td>Wajir</td><td>Economic affairs</td><td>3.17581893415E9</td><td>893331</td><td>3555.030480471404</td></tr><tr><td>Kenya</td><td>2021</td><td>Mombasa</td><td>Environmental protection</td><td>2.129504261E8</td><td>1392834</td><td>152.89002573170958</td></tr><tr><td>Kenya</td><td>2022</td><td>Nairobi City</td><td>Recreation, culture and religion</td><td>2594577.0</td><td>5315616</td><td>0.4881046712177855</td></tr><tr><td>Kenya</td><td>2021</td><td>Uasin Gishu</td><td>Housing and community amenities</td><td>5078540.0</td><td>1343587</td><td>3.7798371076826434</td></tr><tr><td>Kenya</td><td>2021</td><td>Nyeri</td><td>Social protection</td><td>2.687673147E8</td><td>849245</td><td>316.4779477064922</td></tr><tr><td>Kenya</td><td>2021</td><td>Uasin Gishu</td><td>Social protection</td><td>5.1745834565E8</td><td>1343587</td><td>385.13199789072087</td></tr><tr><td>Kenya</td><td>2021</td><td>Siaya</td><td>Health</td><td>2.05983507005E9</td><td>1126518</td><td>1828.4972544158193</td></tr><tr><td>Kenya</td><td>2022</td><td>Murang’A</td><td>Housing and community amenities</td><td>4471500.0</td><td>1198892</td><td>3.72969375056302</td></tr><tr><td>Kenya</td><td>2022</td><td>Meru</td><td>Social protection</td><td>1.8710098710000002E8</td><td>1762084</td><td>106.18165030724984</td></tr><tr><td>Kenya</td><td>2022</td><td>Nandi</td><td>Health</td><td>2.86679799165E9</td><td>1018897</td><td>2813.6288473221534</td></tr><tr><td>Kenya</td><td>2021</td><td>Nyeri</td><td>Housing and community amenities</td><td>2.8985839E7</td><td>849245</td><td>34.13130368739292</td></tr><tr><td>Kenya</td><td>2022</td><td>Kakamega</td><td>Social protection</td><td>1.687327427E8</td><td>2120889</td><td>79.55755473294452</td></tr><tr><td>Kenya</td><td>2022</td><td>Narok</td><td>Social protection</td><td>1.2904936E8</td><td>1388474</td><td>92.94330322353893</td></tr><tr><td>Kenya</td><td>2022</td><td>Makueni</td><td>General public services</td><td>2.7072049218499994E9</td><td>1119367</td><td>2418.5141440206826</td></tr><tr><td>Kenya</td><td>2021</td><td>Kericho</td><td>Housing and community amenities</td><td>4.249567055E8</td><td>1024431</td><td>414.82218470546087</td></tr><tr><td>Kenya</td><td>2021</td><td>Elgeyo Marakwet</td><td>Social protection</td><td>5.354698485E7</td><td>519409</td><td>103.09213904649323</td></tr><tr><td>Kenya</td><td>2021</td><td>Migori</td><td>Health</td><td>2.5811211349500003E9</td><td>1273799</td><td>2026.3174448637503</td></tr><tr><td>Kenya</td><td>2022</td><td>Bungoma</td><td>Health</td><td>2.9537441910500007E9</td><td>1939588</td><td>1522.8719661340454</td></tr><tr><td>Kenya</td><td>2022</td><td>Nandi</td><td>Recreation, culture and religion</td><td>7.633613E7</td><td>1018897</td><td>74.92035995787602</td></tr><tr><td>Kenya</td><td>2021</td><td>Kisii</td><td>Social protection</td><td>9761047.0</td><td>1418331</td><td>6.882065610918749</td></tr><tr><td>Kenya</td><td>2022</td><td>Narok</td><td>Public order and safety</td><td>1.785499351E8</td><td>1388474</td><td>128.59436698130466</td></tr><tr><td>Kenya</td><td>2022</td><td>Kirinyaga</td><td>Health</td><td>2.6751025147999997E9</td><td>698687</td><td>3828.7566747341793</td></tr><tr><td>Kenya</td><td>2022</td><td>Marsabit</td><td>Social protection</td><td>1.6834033370000002E8</td><td>575225</td><td>292.6512820200791</td></tr><tr><td>Kenya</td><td>2021</td><td>Embu</td><td>Economic affairs</td><td>1.4271918353E9</td><td>690267</td><td>2067.5938952608194</td></tr><tr><td>Kenya</td><td>2021</td><td>Nyamira</td><td>General public services</td><td>1.24222314495E9</td><td>667673</td><td>1860.526253046027</td></tr><tr><td>Kenya</td><td>2021</td><td>Nyeri</td><td>Recreation, culture and religion</td><td>1669917.45</td><td>849245</td><td>1.9663553509293548</td></tr><tr><td>Kenya</td><td>2021</td><td>Embu</td><td>Education</td><td>3.469987425E8</td><td>690267</td><td>502.70220436439814</td></tr><tr><td>Kenya</td><td>2021</td><td>Samburu</td><td>General public services</td><td>1.8117897030500002E9</td><td>362681</td><td>4995.546232226116</td></tr><tr><td>Kenya</td><td>2021</td><td>Turkana</td><td>Environmental protection</td><td>3.31652615E7</td><td>1059990</td><td>31.28827771960113</td></tr><tr><td>Kenya</td><td>2022</td><td>Bomet</td><td>Recreation, culture and religion</td><td>8782034.0</td><td>1015337</td><td>8.64937848221822</td></tr><tr><td>Kenya</td><td>2022</td><td>West Pokot</td><td>Public order and safety</td><td>1.19684054E8</td><td>720744</td><td>166.05626130775977</td></tr><tr><td>Kenya</td><td>2022</td><td>Garissa</td><td>Education</td><td>6.433088384E8</td><td>1134954</td><td>566.8149003395732</td></tr><tr><td>Kenya</td><td>2021</td><td>Nyandarua</td><td>Social protection</td><td>7.585189525E7</td><td>711085</td><td>106.67064450804052</td></tr><tr><td>Kenya</td><td>2022</td><td>Bungoma</td><td>Economic affairs</td><td>3.0641385552E9</td><td>1939588</td><td>1579.7883649517319</td></tr><tr><td>Kenya</td><td>2022</td><td>Narok</td><td>Education</td><td>1.1909534312E9</td><td>1388474</td><td>857.7426953619586</td></tr><tr><td>Kenya</td><td>2022</td><td>Garissa</td><td>Social protection</td><td>7.11731217E7</td><td>1134954</td><td>62.71013776769808</td></tr><tr><td>Kenya</td><td>2021</td><td>Nyandarua</td><td>General public services</td><td>3.4807984178999996E9</td><td>711085</td><td>4895.052515381423</td></tr><tr><td>Kenya</td><td>2021</td><td>Migori</td><td>Education</td><td>3.0650521385E8</td><td>1273799</td><td>240.62290349576347</td></tr><tr><td>Kenya</td><td>2021</td><td>Taita Taveta</td><td>Health</td><td>4.4312729074999994E8</td><td>387471</td><td>1143.6398872431741</td></tr><tr><td>Kenya</td><td>2021</td><td>Meru</td><td>Health</td><td>3.3116499827999997E9</td><td>1742136</td><td>1900.9135812588684</td></tr><tr><td>Kenya</td><td>2021</td><td>Nakuru</td><td>Health</td><td>4.6355398574E9</td><td>2514149</td><td>1843.7808806876599</td></tr><tr><td>Kenya</td><td>2022</td><td>Nyandarua</td><td>Public order and safety</td><td>1.964048093E8</td><td>714743</td><td>274.79081194219464</td></tr><tr><td>Kenya</td><td>2021</td><td>Garissa</td><td>Public order and safety</td><td>5.629585589E8</td><td>1093018</td><td>515.049668806918</td></tr><tr><td>Kenya</td><td>2021</td><td>Elgeyo Marakwet</td><td>Economic affairs</td><td>2.04460377955E9</td><td>519409</td><td>3936.4042200847502</td></tr><tr><td>Kenya</td><td>2021</td><td>Narok</td><td>Health</td><td>1.06973381305E9</td><td>1348631</td><td>793.1997804069459</td></tr><tr><td>Kenya</td><td>2022</td><td>Turkana</td><td>General public services</td><td>8.58326646015E9</td><td>1080524</td><td>7943.614820355679</td></tr><tr><td>Kenya</td><td>2021</td><td>Trans Nzoia</td><td>Education</td><td>4.6728167975E8</td><td>1128600</td><td>414.0365760676945</td></tr><tr><td>Kenya</td><td>2021</td><td>Nandi</td><td>Education</td><td>6.2241344995E8</td><td>1004167</td><td>619.8306157740695</td></tr><tr><td>Kenya</td><td>2022</td><td>Murang’A</td><td>Economic affairs</td><td>1.7853732798000002E9</td><td>1198892</td><td>1489.1860816487224</td></tr><tr><td>Kenya</td><td>2022</td><td>Nyeri</td><td>Housing and community amenities</td><td>7392336.0</td><td>855511</td><td>8.640842724406816</td></tr><tr><td>Kenya</td><td>2022</td><td>Wajir</td><td>Education</td><td>7.0743178775E8</td><td>910640</td><td>776.8512120596504</td></tr><tr><td>Kenya</td><td>2022</td><td>Lamu</td><td>Social protection</td><td>4.400215809999998E7</td><td>174605</td><td>252.00972538014364</td></tr><tr><td>Kenya</td><td>2021</td><td>Bungoma</td><td>Public order and safety</td><td>2.1907265879999998E8</td><td>1905368</td><td>114.97656032850347</td></tr><tr><td>Kenya</td><td>2021</td><td>Nyamira</td><td>Health</td><td>2.0523001283000002E9</td><td>667673</td><td>3073.8102758386217</td></tr><tr><td>Kenya</td><td>2022</td><td>Homa Bay</td><td>Social protection</td><td>1.011125965E8</td><td>1301586</td><td>77.68414572682866</td></tr><tr><td>Kenya</td><td>2022</td><td>Kirinyaga</td><td>Education</td><td>2.940601912E8</td><td>698687</td><td>420.875429484161</td></tr><tr><td>Kenya</td><td>2022</td><td>Nairobi City</td><td>Housing and community amenities</td><td>1000000.0</td><td>5315616</td><td>0.1881249510875127</td></tr><tr><td>Kenya</td><td>2021</td><td>Marsabit</td><td>General public services</td><td>3.0539501212000003E9</td><td>550487</td><td>5547.724326278369</td></tr><tr><td>Kenya</td><td>2021</td><td>Mombasa</td><td>Economic affairs</td><td>4.231844799299999E9</td><td>1392834</td><td>3038.2980307057405</td></tr><tr><td>Kenya</td><td>2022</td><td>Nakuru</td><td>Economic affairs</td><td>4.759890123100001E9</td><td>2586081</td><td>1840.5804470548298</td></tr><tr><td>Kenya</td><td>2022</td><td>Nyeri</td><td>Public order and safety</td><td>9.537340889500003E8</td><td>855511</td><td>1114.8121870437672</td></tr><tr><td>Kenya</td><td>2021</td><td>Nyandarua</td><td>Education</td><td>1.2688384245E8</td><td>711085</td><td>178.4369554272696</td></tr><tr><td>Kenya</td><td>2021</td><td>Busia</td><td>Housing and community amenities</td><td>1.1842635665E8</td><td>1017150</td><td>116.42958919530061</td></tr><tr><td>Kenya</td><td>2021</td><td>Kiambu</td><td>Health</td><td>5.634100124E9</td><td>2863073</td><td>1967.8506709399305</td></tr><tr><td>Kenya</td><td>2021</td><td>West Pokot</td><td>Public order and safety</td><td>1.117189705E8</td><td>708214</td><td>157.74747533937483</td></tr><tr><td>Kenya</td><td>2021</td><td>Embu</td><td>Housing and community amenities</td><td>1341580.0</td><td>690267</td><td>1.9435667647446568</td></tr><tr><td>Kenya</td><td>2022</td><td>Vihiga</td><td>Education</td><td>3.8807560205E8</td><td>659515</td><td>588.425740203028</td></tr><tr><td>Kenya</td><td>2022</td><td>Baringo</td><td>Economic affairs</td><td>2.5439118872E9</td><td>771440</td><td>3297.614703930312</td></tr><tr><td>Kenya</td><td>2021</td><td>Baringo</td><td>Public order and safety</td><td>1.47249909E8</td><td>758756</td><td>194.06753818091718</td></tr><tr><td>Kenya</td><td>2021</td><td>Kilifi</td><td>Education</td><td>1.4113798531000001E9</td><td>1681452</td><td>839.381589899682</td></tr><tr><td>Kenya</td><td>2021</td><td>Uasin Gishu</td><td>Education</td><td>8.960021942999998E8</td><td>1343587</td><td>666.8732239147892</td></tr><tr><td>Kenya</td><td>2021</td><td>Mombasa</td><td>Housing and community amenities</td><td>1.074844E7</td><td>1392834</td><td>7.716956938156306</td></tr><tr><td>Kenya</td><td>2021</td><td>Kericho</td><td>Social protection</td><td>6.0814309E7</td><td>1024431</td><td>59.36398742326228</td></tr><tr><td>Kenya</td><td>2021</td><td>Nairobi City</td><td>Health</td><td>1.10987660365E9</td><td>5148469</td><td>215.5741063314162</td></tr><tr><td>Kenya</td><td>2022</td><td>Vihiga</td><td>Environmental protection</td><td>1502560.0</td><td>659515</td><td>2.27828025139686</td></tr><tr><td>Kenya</td><td>2022</td><td>Baringo</td><td>Housing and community amenities</td><td>1118325.0</td><td>771440</td><td>1.4496590791247537</td></tr><tr><td>Kenya</td><td>2021</td><td>Embu</td><td>General public services</td><td>1.5123849648000002E9</td><td>690267</td><td>2191.0144404991115</td></tr><tr><td>Kenya</td><td>2021</td><td>Taita Taveta</td><td>Education</td><td>2.284072432E8</td><td>387471</td><td>589.4821630522026</td></tr><tr><td>Kenya</td><td>2021</td><td>Uasin Gishu</td><td>Environmental protection</td><td>1.2799E8</td><td>1343587</td><td>95.25992734374476</td></tr><tr><td>Kenya</td><td>2021</td><td>Migori</td><td>Environmental protection</td><td>1.50104E7</td><td>1273799</td><td>11.783962775916766</td></tr><tr><td>Kenya</td><td>2022</td><td>Kisii</td><td>General public services</td><td>2.1586600395999994E9</td><td>1429418</td><td>1510.1671026949425</td></tr><tr><td>Kenya</td><td>2022</td><td>Homa Bay</td><td>General public services</td><td>2.4682251972500005E9</td><td>1301586</td><td>1896.3212551840604</td></tr><tr><td>Kenya</td><td>2022</td><td>Murang’A</td><td>Environmental protection</td><td>1.228781E7</td><td>1198892</td><td>10.249305191793756</td></tr><tr><td>Kenya</td><td>2022</td><td>Isiolo</td><td>Education</td><td>3.8367206055E8</td><td>351861</td><td>1090.4080320069572</td></tr><tr><td>Kenya</td><td>2022</td><td>Marsabit</td><td>Public order and safety</td><td>2.11824295E8</td><td>575225</td><td>368.2459820070407</td></tr><tr><td>Kenya</td><td>2022</td><td>Taita Taveta</td><td>General public services</td><td>3.6627409313E9</td><td>393839</td><td>9300.097073423405</td></tr><tr><td>Kenya</td><td>2021</td><td>Narok</td><td>Environmental protection</td><td>1.04E8</td><td>1348631</td><td>77.11523760020347</td></tr><tr><td>Kenya</td><td>2022</td><td>Baringo</td><td>Social protection</td><td>1.233894789E8</td><td>771440</td><td>159.94695491548273</td></tr><tr><td>Kenya</td><td>2021</td><td>Isiolo</td><td>Housing and community amenities</td><td>6.823844815E7</td><td>331083</td><td>206.10677126279515</td></tr><tr><td>Kenya</td><td>2021</td><td>Vihiga</td><td>Environmental protection</td><td>1.1540165E7</td><td>656555</td><td>17.576844285703405</td></tr><tr><td>Kenya</td><td>2022</td><td>Bomet</td><td>Economic affairs</td><td>4.707758173249999E9</td><td>1015337</td><td>4636.645934551779</td></tr><tr><td>Kenya</td><td>2022</td><td>Turkana</td><td>Education</td><td>1.3722958888E9</td><td>1080524</td><td>1270.0281426419033</td></tr><tr><td>Kenya</td><td>2022</td><td>Baringo</td><td>Environmental protection</td><td>924300.0</td><td>771440</td><td>1.1981489163123509</td></tr><tr><td>Kenya</td><td>2021</td><td>Samburu</td><td>Recreation, culture and religion</td><td>4.462455835E7</td><td>362681</td><td>123.04079438955998</td></tr><tr><td>Kenya</td><td>2021</td><td>Trans Nzoia</td><td>Recreation, culture and religion</td><td>1.10152962E8</td><td>1128600</td><td>97.60141945773525</td></tr><tr><td>Kenya</td><td>2022</td><td>Migori</td><td>Public order and safety</td><td>2.1951450555E8</td><td>1296920</td><td>169.25832399068562</td></tr><tr><td>Kenya</td><td>2022</td><td>Siaya</td><td>Education</td><td>6.966840130500003E8</td><td>1143321</td><td>609.3511910041015</td></tr><tr><td>Kenya</td><td>2021</td><td>Murang’A</td><td>Education</td><td>3.7197121570000005E8</td><td>1187274</td><td>313.2985441439803</td></tr><tr><td>Kenya</td><td>2021</td><td>Lamu</td><td>Social protection</td><td>2.8476769800000004E7</td><td>168905</td><td>168.5963695568515</td></tr><tr><td>Kenya</td><td>2022</td><td>Baringo</td><td>Education</td><td>2.481293861E8</td><td>771440</td><td>321.6444391009022</td></tr><tr><td>Kenya</td><td>2022</td><td>Kiambu</td><td>Education</td><td>9.871449587E8</td><td>2974081</td><td>331.9159628470106</td></tr><tr><td>Kenya</td><td>2021</td><td>Nakuru</td><td>General public services</td><td>4.30151270235E9</td><td>2514149</td><td>1710.9219470882595</td></tr><tr><td>Kenya</td><td>2022</td><td>Nyandarua</td><td>Environmental protection</td><td>9388837.0</td><td>714743</td><td>13.135962157027071</td></tr><tr><td>Kenya</td><td>2021</td><td>Bungoma</td><td>Housing and community amenities</td><td>1.0403767E7</td><td>1905368</td><td>5.460240226559908</td></tr><tr><td>Kenya</td><td>2021</td><td>Homa Bay</td><td>Economic affairs</td><td>1.7926199933999999E9</td><td>1282963</td><td>1397.249954519343</td></tr><tr><td>Kenya</td><td>2021</td><td>Kajiado</td><td>Health</td><td>2.469789491600001E9</td><td>1345550</td><td>1835.5241288692362</td></tr><tr><td>Kenya</td><td>2022</td><td>Laikipia</td><td>Environmental protection</td><td>4.9817454825E8</td><td>613653</td><td>811.8179952676838</td></tr><tr><td>Kenya</td><td>2022</td><td>Wajir</td><td>Economic affairs</td><td>1.81382566685E9</td><td>910640</td><td>1991.8141821685847</td></tr><tr><td>Kenya</td><td>2022</td><td>Mombasa</td><td>Social protection</td><td>3.252656687E8</td><td>1425957</td><td>228.1034201592334</td></tr><tr><td>Kenya</td><td>2022</td><td>Lamu</td><td>Environmental protection</td><td>2.2503016200000003E7</td><td>174605</td><td>128.8795635863807</td></tr><tr><td>Kenya</td><td>2021</td><td>Tana River</td><td>Environmental protection</td><td>3.35976774E7</td><td>365734</td><td>91.86369711320249</td></tr><tr><td>Kenya</td><td>2022</td><td>Kisii</td><td>Health</td><td>1.209839849E8</td><td>1429418</td><td>84.63863257633527</td></tr><tr><td>Kenya</td><td>2022</td><td>Kisii</td><td>Housing and community amenities</td><td>2.2103736475E8</td><td>1429418</td><td>154.63451890909448</td></tr><tr><td>Kenya</td><td>2022</td><td>Elgeyo Marakwet</td><td>Social protection</td><td>4.492774799999999E7</td><td>529318</td><td>84.87855693552835</td></tr><tr><td>Kenya</td><td>2022</td><td>Turkana</td><td>Health</td><td>1.1607006992E9</td><td>1080524</td><td>1074.2016828871917</td></tr><tr><td>Kenya</td><td>2022</td><td>Busia</td><td>Economic affairs</td><td>2.7398775489E9</td><td>1034241</td><td>2649.167407693178</td></tr><tr><td>Kenya</td><td>2022</td><td>Busia</td><td>Housing and community amenities</td><td>1.76999545E8</td><td>1034241</td><td>171.13955548078252</td></tr><tr><td>Kenya</td><td>2021</td><td>Wajir</td><td>Social protection</td><td>8.61650553E7</td><td>893331</td><td>96.45367204317324</td></tr><tr><td>Kenya</td><td>2022</td><td>Busia</td><td>Environmental protection</td><td>1.2109197E7</td><td>1034241</td><td>11.70829332815079</td></tr><tr><td>Kenya</td><td>2022</td><td>Machakos</td><td>Housing and community amenities</td><td>4.057878446E8</td><td>1680998</td><td>241.39698238784342</td></tr><tr><td>Kenya</td><td>2021</td><td>Tharaka Nithi</td><td>Education</td><td>3.0814795455E8</td><td>438471</td><td>702.7784153341954</td></tr><tr><td>Kenya</td><td>2022</td><td>Machakos</td><td>Education</td><td>5.70460149E8</td><td>1680998</td><td>339.3580176775939</td></tr><tr><td>Kenya</td><td>2022</td><td>Kitui</td><td>General public services</td><td>3.8369930608E9</td><td>1289449</td><td>2975.6842347390243</td></tr><tr><td>Kenya</td><td>2021</td><td>Narok</td><td>Public order and safety</td><td>1.65050802E8</td><td>1348631</td><td>122.3839597339821</td></tr><tr><td>Kenya</td><td>2021</td><td>Nairobi City</td><td>Housing and community amenities</td><td>4.8307514E7</td><td>5148469</td><td>9.38288916569178</td></tr><tr><td>Kenya</td><td>2021</td><td>Lamu</td><td>Economic affairs</td><td>8.700269774999999E8</td><td>168905</td><td>5150.984147893786</td></tr><tr><td>Kenya</td><td>2022</td><td>Bungoma</td><td>General public services</td><td>3.1987742132500005E9</td><td>1939588</td><td>1649.2029303388144</td></tr><tr><td>Kenya</td><td>2022</td><td>Garissa</td><td>Economic affairs</td><td>1.0957574060500002E9</td><td>1134954</td><td>965.4641563006079</td></tr><tr><td>Kenya</td><td>2022</td><td>Lamu</td><td>General public services</td><td>1.1205143217000005E9</td><td>174605</td><td>6417.424023939753</td></tr><tr><td>Kenya</td><td>2021</td><td>Meru</td><td>Housing and community amenities</td><td>3.692083226E8</td><td>1742136</td><td>211.92853060840258</td></tr><tr><td>Kenya</td><td>2021</td><td>Busia</td><td>Economic affairs</td><td>3.18592571175E9</td><td>1017150</td><td>3132.2083387405987</td></tr><tr><td>Kenya</td><td>2021</td><td>Isiolo</td><td>Social protection</td><td>4.66258425E7</td><td>331083</td><td>140.82825907702903</td></tr><tr><td>Kenya</td><td>2021</td><td>Kakamega</td><td>Social protection</td><td>6.663111405E7</td><td>2099691</td><td>31.733771326352304</td></tr><tr><td>Kenya</td><td>2021</td><td>Kilifi</td><td>Recreation, culture and religion</td><td>4.0638308E7</td><td>1681452</td><td>24.16858048876804</td></tr><tr><td>Kenya</td><td>2022</td><td>Marsabit</td><td>Economic affairs</td><td>9.496826390500001E8</td><td>575225</td><td>1650.9759468903474</td></tr><tr><td>Kenya</td><td>2021</td><td>Turkana</td><td>Health</td><td>1.3581749679000003E9</td><td>1059990</td><td>1281.3092273512018</td></tr><tr><td>Kenya</td><td>2021</td><td>Nandi</td><td>Environmental protection</td><td>0.0</td><td>1004167</td><td>0.0</td></tr><tr><td>Kenya</td><td>2021</td><td>Nyandarua</td><td>Economic affairs</td><td>2.02391534605E9</td><td>711085</td><td>2846.2354655913146</td></tr><tr><td>Kenya</td><td>2021</td><td>Nyamira</td><td>Social protection</td><td>1.2084591444999999E8</td><td>667673</td><td>180.99565872814983</td></tr><tr><td>Kenya</td><td>2022</td><td>Uasin Gishu</td><td>Economic affairs</td><td>4.203240698799999E9</td><td>1377083</td><td>3052.278402100672</td></tr><tr><td>Kenya</td><td>2022</td><td>Nyeri</td><td>Social protection</td><td>3.2471269600000006E8</td><td>855511</td><td>379.5540863881354</td></tr><tr><td>Kenya</td><td>2021</td><td>Kakamega</td><td>Education</td><td>3.8477905220000005E8</td><td>2099691</td><td>183.25508477199742</td></tr><tr><td>Kenya</td><td>2021</td><td>Mandera</td><td>Housing and community amenities</td><td>6664140.0</td><td>991914</td><td>6.718465512131092</td></tr><tr><td>Kenya</td><td>2022</td><td>Elgeyo Marakwet</td><td>Public order and safety</td><td>9.69718858E7</td><td>529318</td><td>183.20156465489555</td></tr><tr><td>Kenya</td><td>2022</td><td>Nakuru</td><td>Environmental protection</td><td>0.0</td><td>2586081</td><td>0.0</td></tr><tr><td>Kenya</td><td>2021</td><td>Mombasa</td><td>Public order and safety</td><td>4.8814984625E8</td><td>1392834</td><td>350.472379515434</td></tr><tr><td>Kenya</td><td>2021</td><td>Siaya</td><td>Public order and safety</td><td>1.319370845E8</td><td>1126518</td><td>117.11937536728219</td></tr><tr><td>Kenya</td><td>2021</td><td>Bomet</td><td>Health</td><td>6.303918022E8</td><td>997889</td><td>631.7253744654967</td></tr><tr><td>Kenya</td><td>2022</td><td>Nakuru</td><td>Recreation, culture and religion</td><td>1.57484459E8</td><td>2586081</td><td>60.89695527711622</td></tr><tr><td>Kenya</td><td>2021</td><td>Taita Taveta</td><td>Public order and safety</td><td>2.0089956575E8</td><td>387471</td><td>518.4892953279084</td></tr><tr><td>Kenya</td><td>2022</td><td>Lamu</td><td>Education</td><td>5.180807255499999E8</td><td>174605</td><td>2967.1585896738347</td></tr><tr><td>Kenya</td><td>2022</td><td>Mombasa</td><td>Housing and community amenities</td><td>1.843538E7</td><td>1425957</td><td>12.928426312995413</td></tr><tr><td>Kenya</td><td>2021</td><td>Kisii</td><td>Public order and safety</td><td>3.029697460500001E8</td><td>1418331</td><td>213.61004310700397</td></tr><tr><td>Kenya</td><td>2021</td><td>Tharaka Nithi</td><td>Housing and community amenities</td><td>2.0324121495E8</td><td>438471</td><td>463.5225931703579</td></tr><tr><td>Kenya</td><td>2022</td><td>Baringo</td><td>Health</td><td>6.642091936E8</td><td>771440</td><td>860.9991620864877</td></tr><tr><td>Kenya</td><td>2022</td><td>Turkana</td><td>Economic affairs</td><td>3.1184879458E9</td><td>1080524</td><td>2886.088551295483</td></tr><tr><td>Kenya</td><td>2021</td><td>Siaya</td><td>Education</td><td>5.3527244175E8</td><td>1126518</td><td>475.1565813861829</td></tr><tr><td>Kenya</td><td>2021</td><td>Wajir</td><td>General public services</td><td>3.7897166580999994E9</td><td>893331</td><td>4242.231220118858</td></tr><tr><td>Kenya</td><td>2022</td><td>Migori</td><td>General public services</td><td>2.5666269326E9</td><td>1296920</td><td>1979.017158035962</td></tr><tr><td>Kenya</td><td>2021</td><td>Turkana</td><td>Public order and safety</td><td>1.57700719E8</td><td>1059990</td><td>148.77566675157314</td></tr><tr><td>Kenya</td><td>2021</td><td>Vihiga</td><td>Education</td><td>6.2949749245E8</td><td>656555</td><td>958.7886657629598</td></tr><tr><td>Kenya</td><td>2022</td><td>Murang’A</td><td>Education</td><td>4.739234646E8</td><td>1198892</td><td>395.30121528878334</td></tr><tr><td>Kenya</td><td>2022</td><td>Elgeyo Marakwet</td><td>Environmental protection</td><td>1797950.0</td><td>529318</td><td>3.3967293762917565</td></tr><tr><td>Kenya</td><td>2021</td><td>Wajir</td><td>Housing and community amenities</td><td>986040.0</td><td>893331</td><td>1.1037790024078422</td></tr><tr><td>Kenya</td><td>2021</td><td>West Pokot</td><td>Health</td><td>1.81150104465E9</td><td>708214</td><td>2557.844161016303</td></tr><tr><td>Kenya</td><td>2022</td><td>West Pokot</td><td>Economic affairs</td><td>2.4519560167999997E9</td><td>720744</td><td>3401.9790893854124</td></tr><tr><td>Kenya</td><td>2021</td><td>West Pokot</td><td>Recreation, culture and religion</td><td>3.49809495E7</td><td>708214</td><td>49.39319118232625</td></tr><tr><td>Kenya</td><td>2022</td><td>Murang’A</td><td>Public order and safety</td><td>2.2395204975E8</td><td>1198892</td><td>186.79918604011036</td></tr><tr><td>Kenya</td><td>2022</td><td>Tharaka Nithi</td><td>Health</td><td>2.0481595537500002E9</td><td>440960</td><td>4644.774024287918</td></tr><tr><td>Kenya</td><td>2022</td><td>Murang’A</td><td>Health</td><td>4.23450194325E9</td><td>1198892</td><td>3532.012844568151</td></tr><tr><td>Kenya</td><td>2021</td><td>Turkana</td><td>Education</td><td>1.01809695095E9</td><td>1059990</td><td>960.4778827630449</td></tr><tr><td>Kenya</td><td>2021</td><td>Kilifi</td><td>Social protection</td><td>2.3459056014999998E8</td><td>1681452</td><td>139.51665593189693</td></tr><tr><td>Kenya</td><td>2021</td><td>Homa Bay</td><td>Health</td><td>2.8328682221E9</td><td>1282963</td><td>2208.066968494025</td></tr><tr><td>Kenya</td><td>2022</td><td>Kisii</td><td>Economic affairs</td><td>8.013766390049999E9</td><td>1429418</td><td>5606.314171257112</td></tr><tr><td>Kenya</td><td>2022</td><td>Nakuru</td><td>Public order and safety</td><td>6.760516555999999E8</td><td>2586081</td><td>261.4193660600731</td></tr><tr><td>Kenya</td><td>2022</td><td>Isiolo</td><td>Housing and community amenities</td><td>1.4389895545E8</td><td>351861</td><td>408.9653455483841</td></tr><tr><td>Kenya</td><td>2022</td><td>Mombasa</td><td>Education</td><td>3.854428439E8</td><td>1425957</td><td>270.3046753162963</td></tr><tr><td>Kenya</td><td>2021</td><td>Migori</td><td>General public services</td><td>2.31463154705E9</td><td>1273799</td><td>1817.1089371635558</td></tr><tr><td>Kenya</td><td>2021</td><td>Bungoma</td><td>Health</td><td>3.69700830955E9</td><td>1905368</td><td>1940.3119552495896</td></tr><tr><td>Kenya</td><td>2022</td><td>Kajiado</td><td>Social protection</td><td>4.320108404499999E8</td><td>1410068</td><td>306.37589141091064</td></tr><tr><td>Kenya</td><td>2022</td><td>Samburu</td><td>Social protection</td><td>1.0297111035E8</td><td>374075</td><td>275.2686235380605</td></tr><tr><td>Kenya</td><td>2022</td><td>Trans Nzoia</td><td>Recreation, culture and religion</td><td>1.94480063E8</td><td>1148366</td><td>169.35372781848295</td></tr><tr><td>Kenya</td><td>2022</td><td>Bomet</td><td>Education</td><td>3.2781775885E8</td><td>1015337</td><td>322.8659635667764</td></tr><tr><td>Kenya</td><td>2021</td><td>Kericho</td><td>Public order and safety</td><td>1.847644765E8</td><td>1024431</td><td>180.35814661992853</td></tr><tr><td>Kenya</td><td>2022</td><td>Siaya</td><td>Economic affairs</td><td>2.3153219007E9</td><td>1143321</td><td>2025.0847318469614</td></tr><tr><td>Kenya</td><td>2022</td><td>Makueni</td><td>Housing and community amenities</td><td>8709761.0</td><td>1119367</td><td>7.780969958914279</td></tr><tr><td>Kenya</td><td>2022</td><td>Meru</td><td>Economic affairs</td><td>3.0862799786500006E9</td><td>1762084</td><td>1751.4942412790767</td></tr><tr><td>Kenya</td><td>2022</td><td>Makueni</td><td>Public order and safety</td><td>2.4579497065E8</td><td>1119367</td><td>219.58389933775072</td></tr><tr><td>Kenya</td><td>2021</td><td>Mombasa</td><td>General public services</td><td>4.1710937846E9</td><td>1392834</td><td>2994.681192877256</td></tr><tr><td>Kenya</td><td>2021</td><td>Baringo</td><td>Education</td><td>4.50665391E8</td><td>758756</td><td>593.9529848857867</td></tr><tr><td>Kenya</td><td>2021</td><td>Kwale</td><td>Social protection</td><td>1.6685873210000002E8</td><td>1005895</td><td>165.88086440433645</td></tr><tr><td>Kenya</td><td>2022</td><td>Nyamira</td><td>Housing and community amenities</td><td>1.4513875215E8</td><td>667345</td><td>217.48683537001102</td></tr><tr><td>Kenya</td><td>2022</td><td>Nakuru</td><td>Housing and community amenities</td><td>1668325.0</td><td>2586081</td><td>0.6451170709656813</td></tr><tr><td>Kenya</td><td>2022</td><td>Nyandarua</td><td>Housing and community amenities</td><td>2.6617153845E8</td><td>714743</td><td>372.4017422346214</td></tr><tr><td>Kenya</td><td>2022</td><td>Wajir</td><td>Health</td><td>2.5679427962E9</td><td>910640</td><td>2819.931911842221</td></tr><tr><td>Kenya</td><td>2022</td><td>Tana River</td><td>Economic affairs</td><td>1.77540637715E9</td><td>375292</td><td>4730.733341371519</td></tr><tr><td>Kenya</td><td>2021</td><td>Meru</td><td>Education</td><td>9.3637408975E8</td><td>1742136</td><td>537.486217924433</td></tr><tr><td>Kenya</td><td>2021</td><td>Garissa</td><td>Economic affairs</td><td>1.6805917347E9</td><td>1093018</td><td>1537.57004431766</td></tr><tr><td>Kenya</td><td>2021</td><td>Nakuru</td><td>Housing and community amenities</td><td>1.3332096E7</td><td>2514149</td><td>5.302826523010371</td></tr><tr><td>Kenya</td><td>2021</td><td>Laikipia</td><td>Social protection</td><td>1462872.0</td><td>598812</td><td>2.442957054968838</td></tr><tr><td>Kenya</td><td>2022</td><td>Nakuru</td><td>Health</td><td>4.757330531500001E9</td><td>2586081</td><td>1839.590690121462</td></tr><tr><td>Kenya</td><td>2021</td><td>Kiambu</td><td>Economic affairs</td><td>4.5375108805E9</td><td>2863073</td><td>1584.8393947691868</td></tr><tr><td>Kenya</td><td>2021</td><td>Kwale</td><td>Environmental protection</td><td>9823904.0</td><td>1005895</td><td>9.76633147594928</td></tr><tr><td>Kenya</td><td>2021</td><td>Makueni</td><td>Recreation, culture and religion</td><td>5.3132153400000006E7</td><td>1108957</td><td>47.91182471457415</td></tr><tr><td>Kenya</td><td>2021</td><td>Kakamega</td><td>Health</td><td>1.2457667845500002E9</td><td>2099691</td><td>593.309579623859</td></tr><tr><td>Kenya</td><td>2021</td><td>Nairobi City</td><td>Environmental protection</td><td>1.0655273315E9</td><td>5148469</td><td>206.96003637197776</td></tr><tr><td>Kenya</td><td>2022</td><td>Migori</td><td>Environmental protection</td><td>5.2859789E7</td><td>1296920</td><td>40.75794112204299</td></tr><tr><td>Kenya</td><td>2022</td><td>Busia</td><td>Social protection</td><td>1.9761479355E8</td><td>1034241</td><td>191.0722873585557</td></tr><tr><td>Kenya</td><td>2022</td><td>Kakamega</td><td>Economic affairs</td><td>2.5565445477500005E9</td><td>2120889</td><td>1205.4117625910646</td></tr><tr><td>Kenya</td><td>2021</td><td>Embu</td><td>Health</td><td>2.33241426955E9</td><td>690267</td><td>3379.0030083286615</td></tr><tr><td>Kenya</td><td>2021</td><td>Nandi</td><td>Public order and safety</td><td>1.33242545E8</td><td>1004167</td><td>132.68962732294528</td></tr><tr><td>Kenya</td><td>2021</td><td>Kisumu</td><td>Recreation, culture and religion</td><td>1230619.0</td><td>1313476</td><td>0.9369177662934077</td></tr><tr><td>Kenya</td><td>2021</td><td>Isiolo</td><td>Health</td><td>1.18244372805E9</td><td>331083</td><td>3571.441989017859</td></tr><tr><td>Kenya</td><td>2022</td><td>Nairobi City</td><td>General public services</td><td>7.714283435850001E9</td><td>5315616</td><td>1451.249194044491</td></tr><tr><td>Kenya</td><td>2022</td><td>Siaya</td><td>Health</td><td>2.13001512095E9</td><td>1143321</td><td>1863.0070828315058</td></tr><tr><td>Kenya</td><td>2022</td><td>West Pokot</td><td>General public services</td><td>1.0721114508000001E9</td><td>720744</td><td>1487.506591522094</td></tr><tr><td>Kenya</td><td>2022</td><td>West Pokot</td><td>Social protection</td><td>2.0600951354999998E8</td><td>720744</td><td>285.82896777496586</td></tr><tr><td>Kenya</td><td>2022</td><td>Kiambu</td><td>Health</td><td>5.531492516450001E9</td><td>2974081</td><td>1859.8997527135275</td></tr><tr><td>Kenya</td><td>2022</td><td>Isiolo</td><td>Public order and safety</td><td>1.1947782264999999E8</td><td>351861</td><td>339.5597200314897</td></tr><tr><td>Kenya</td><td>2022</td><td>Tana River</td><td>Environmental protection</td><td>3.0417828532E9</td><td>375292</td><td>8105.109763064494</td></tr><tr><td>Kenya</td><td>2021</td><td>Nyamira</td><td>Housing and community amenities</td><td>2.0831941275E8</td><td>667673</td><td>312.008142833393</td></tr><tr><td>Kenya</td><td>2021</td><td>Kakamega</td><td>Environmental protection</td><td>1.7795483664999998E8</td><td>2099691</td><td>84.75286918408469</td></tr><tr><td>Kenya</td><td>2022</td><td>Nyamira</td><td>Recreation, culture and religion</td><td>3.829433775E7</td><td>667345</td><td>57.38311930111112</td></tr><tr><td>Kenya</td><td>2022</td><td>Wajir</td><td>Housing and community amenities</td><td>2424161.0</td><td>910640</td><td>2.6620409821663884</td></tr><tr><td>Kenya</td><td>2021</td><td>Kilifi</td><td>Public order and safety</td><td>4.0958462715E8</td><td>1681452</td><td>243.58984208291403</td></tr><tr><td>Kenya</td><td>2022</td><td>Kirinyaga</td><td>Social protection</td><td>2.566380353E8</td><td>698687</td><td>367.31474222362806</td></tr><tr><td>Kenya</td><td>2021</td><td>Trans Nzoia</td><td>Public order and safety</td><td>1.73564445E8</td><td>1128600</td><td>153.7873870281765</td></tr><tr><td>Kenya</td><td>2021</td><td>Elgeyo Marakwet</td><td>Housing and community amenities</td><td>1159340.0</td><td>519409</td><td>2.2320367956658433</td></tr><tr><td>Kenya</td><td>2021</td><td>Kirinyaga</td><td>Social protection</td><td>2.9372968335E8</td><td>689786</td><td>425.8272614260075</td></tr><tr><td>Kenya</td><td>2022</td><td>Siaya</td><td>Housing and community amenities</td><td>6541779.0</td><td>1143321</td><td>5.72173431608446</td></tr><tr><td>Kenya</td><td>2021</td><td>Migori</td><td>Public order and safety</td><td>1.71678591E8</td><td>1273799</td><td>134.7768297824068</td></tr><tr><td>Kenya</td><td>2021</td><td>Bomet</td><td>Recreation, culture and religion</td><td>9845918.0</td><td>997889</td><td>9.86674670228853</td></tr><tr><td>Kenya</td><td>2022</td><td>Kericho</td><td>Housing and community amenities</td><td>3.4044900375E8</td><td>1040591</td><td>327.1688912838954</td></tr><tr><td>Kenya</td><td>2022</td><td>Laikipia</td><td>Public order and safety</td><td>1.59015535E8</td><td>613653</td><td>259.1294021213943</td></tr><tr><td>Kenya</td><td>2021</td><td>Kajiado</td><td>General public services</td><td>3.984606581700001E9</td><td>1345550</td><td>2961.321825052953</td></tr><tr><td>Kenya</td><td>2021</td><td>Laikipia</td><td>Public order and safety</td><td>1.57860994E8</td><td>598812</td><td>263.62363145695144</td></tr><tr><td>Kenya</td><td>2021</td><td>Bungoma</td><td>Social protection</td><td>3.830694655E8</td><td>1905368</td><td>201.04749607424918</td></tr><tr><td>Kenya</td><td>2021</td><td>Elgeyo Marakwet</td><td>Health</td><td>2.1679854181500006E9</td><td>519409</td><td>4173.946578033882</td></tr><tr><td>Kenya</td><td>2022</td><td>Wajir</td><td>General public services</td><td>3.5126796656E9</td><td>910640</td><td>3857.3746657295965</td></tr><tr><td>Kenya</td><td>2021</td><td>Mandera</td><td>General public services</td><td>3.92693478855E9</td><td>991914</td><td>3958.946832638717</td></tr><tr><td>Kenya</td><td>2021</td><td>Turkana</td><td>Housing and community amenities</td><td>2.6419000795E8</td><td>1059990</td><td>249.2382078604515</td></tr><tr><td>Kenya</td><td>2021</td><td>Murang’A</td><td>Health</td><td>4.425928681E8</td><td>1187274</td><td>372.7807297220355</td></tr><tr><td>Kenya</td><td>2022</td><td>Kajiado</td><td>General public services</td><td>4.0528223246999993E9</td><td>1410068</td><td>2874.2034601877353</td></tr><tr><td>Kenya</td><td>2022</td><td>Nandi</td><td>Economic affairs</td><td>2.04600526895E9</td><td>1018897</td><td>2008.058978434523</td></tr><tr><td>Kenya</td><td>2021</td><td>Vihiga</td><td>Public order and safety</td><td>7.28374426E7</td><td>656555</td><td>110.93882858252545</td></tr><tr><td>Kenya</td><td>2021</td><td>Kericho</td><td>General public services</td><td>1.4912860063999999E9</td><td>1024431</td><td>1455.7212798128912</td></tr><tr><td>Kenya</td><td>2021</td><td>Tharaka Nithi</td><td>Economic affairs</td><td>1.5793581266499999E9</td><td>438471</td><td>3601.967123595403</td></tr><tr><td>Kenya</td><td>2022</td><td>Kajiado</td><td>Housing and community amenities</td><td>1618325.0</td><td>1410068</td><td>1.1476928772229424</td></tr><tr><td>Kenya</td><td>2021</td><td>Kitui</td><td>Economic affairs</td><td>3.5461244896500006E9</td><td>1276847</td><td>2777.2509076263646</td></tr><tr><td>Kenya</td><td>2022</td><td>Garissa</td><td>Public order and safety</td><td>3.2616318705E8</td><td>1134954</td><td>287.380093862835</td></tr><tr><td>Kenya</td><td>2022</td><td>Baringo</td><td>Recreation, culture and religion</td><td>3600000.0</td><td>771440</td><td>4.666597531888416</td></tr><tr><td>Kenya</td><td>2021</td><td>Kisumu</td><td>Education</td><td>7.409272654000001E8</td><td>1313476</td><td>564.096538802384</td></tr><tr><td>Kenya</td><td>2021</td><td>Marsabit</td><td>Economic affairs</td><td>1.5165763377499995E9</td><td>550487</td><td>2754.972120595036</td></tr><tr><td>Kenya</td><td>2021</td><td>Kericho</td><td>Health</td><td>2.5008749674999995E9</td><td>1024431</td><td>2441.2331992100976</td></tr><tr><td>Kenya</td><td>2022</td><td>Kiambu</td><td>Public order and safety</td><td>1.43974077445E9</td><td>2974081</td><td>484.09601972844723</td></tr><tr><td>Kenya</td><td>2021</td><td>Bomet</td><td>Education</td><td>1.0471341835E8</td><td>997889</td><td>104.93493599989577</td></tr><tr><td>Kenya</td><td>2022</td><td>Bomet</td><td>Housing and community amenities</td><td>2.6351720085E8</td><td>1015337</td><td>259.53668668629234</td></tr><tr><td>Kenya</td><td>2022</td><td>Kwale</td><td>Health</td><td>3.42147198145E9</td><td>1033550</td><td>3310.4077997677905</td></tr><tr><td>Kenya</td><td>2021</td><td>Bomet</td><td>Public order and safety</td><td>1.02223053E8</td><td>997889</td><td>102.43930236729736</td></tr><tr><td>Kenya</td><td>2021</td><td>Narok</td><td>General public services</td><td>5.9306731425E8</td><td>1348631</td><td>439.7550658779162</td></tr><tr><td>Kenya</td><td>2022</td><td>Kisumu</td><td>Health</td><td>3.863260143149998E9</td><td>1334597</td><td>2894.701653870043</td></tr><tr><td>Kenya</td><td>2022</td><td>Kakamega</td><td>Education</td><td>5.982021046E8</td><td>2120889</td><td>282.0525282558399</td></tr><tr><td>Kenya</td><td>2021</td><td>Lamu</td><td>Education</td><td>4.0593442799999994E8</td><td>168905</td><td>2403.3298481394863</td></tr><tr><td>Kenya</td><td>2021</td><td>Kajiado</td><td>Economic affairs</td><td>1.6785020555E9</td><td>1345550</td><td>1247.4468102263015</td></tr><tr><td>Kenya</td><td>2021</td><td>Garissa</td><td>Housing and community amenities</td><td>1.67819E7</td><td>1093018</td><td>15.353727020049075</td></tr><tr><td>Kenya</td><td>2021</td><td>Nairobi City</td><td>Recreation, culture and religion</td><td>1199837.6</td><td>5148469</td><td>0.23304745546685823</td></tr><tr><td>Kenya</td><td>2021</td><td>Makueni</td><td>Public order and safety</td><td>2.226513332E8</td><td>1108957</td><td>200.77544323179347</td></tr><tr><td>Kenya</td><td>2021</td><td>Murang’A</td><td>Recreation, culture and religion</td><td>1.1232149E7</td><td>1187274</td><td>9.46045226291488</td></tr><tr><td>Kenya</td><td>2022</td><td>Siaya</td><td>Public order and safety</td><td>1.51942145E8</td><td>1143321</td><td>132.89543793912645</td></tr><tr><td>Kenya</td><td>2022</td><td>Machakos</td><td>Economic affairs</td><td>2.3788476469E9</td><td>1680998</td><td>1415.140081606284</td></tr><tr><td>Kenya</td><td>2022</td><td>Machakos</td><td>Health</td><td>4.31940954595E9</td><td>1680998</td><td>2569.550675223885</td></tr><tr><td>Kenya</td><td>2022</td><td>Kitui</td><td>Social protection</td><td>3.42396177E7</td><td>1289449</td><td>26.55368122353036</td></tr><tr><td>Kenya</td><td>2022</td><td>Tana River</td><td>Housing and community amenities</td><td>4046714.0</td><td>375292</td><td>10.78284109440116</td></tr><tr><td>Kenya</td><td>2022</td><td>Kwale</td><td>Education</td><td>1.8839750113999999E9</td><td>1033550</td><td>1822.8194198635767</td></tr><tr><td>Kenya</td><td>2021</td><td>Trans Nzoia</td><td>General public services</td><td>3.45024949905E9</td><td>1128600</td><td>3057.105705342903</td></tr><tr><td>Kenya</td><td>2021</td><td>Machakos</td><td>Environmental protection</td><td>1.444613795E7</td><td>1640927</td><td>8.803644494849557</td></tr><tr><td>Kenya</td><td>2022</td><td>Mandera</td><td>Social protection</td><td>2.611346204E9</td><td>1011130</td><td>2582.60184546003</td></tr><tr><td>Kenya</td><td>2022</td><td>Nyamira</td><td>General public services</td><td>1.3583721477999997E9</td><td>667345</td><td>2035.4871135619503</td></tr><tr><td>Kenya</td><td>2022</td><td>Kisumu</td><td>General public services</td><td>2.1017924736000006E9</td><td>1334597</td><td>1574.851789416581</td></tr><tr><td>Kenya</td><td>2022</td><td>Mandera</td><td>General public services</td><td>4.733464251850001E9</td><td>1011130</td><td>4681.360707179098</td></tr><tr><td>Kenya</td><td>2021</td><td>Laikipia</td><td>Health</td><td>9.0538937175E8</td><td>598812</td><td>1511.9759987274804</td></tr><tr><td>Kenya</td><td>2021</td><td>Kericho</td><td>Environmental protection</td><td>1.131876615E8</td><td>1024431</td><td>110.48832132178741</td></tr><tr><td>Kenya</td><td>2022</td><td>Uasin Gishu</td><td>Public order and safety</td><td>3.7515965479999995E8</td><td>1377083</td><td>272.4306775989537</td></tr><tr><td>Kenya</td><td>2022</td><td>Tana River</td><td>General public services</td><td>3.1720900454000006E9</td><td>375292</td><td>8452.325243810155</td></tr><tr><td>Kenya</td><td>2021</td><td>Garissa</td><td>Health</td><td>2.6283567457000003E9</td><td>1093018</td><td>2404.6783728172823</td></tr><tr><td>Kenya</td><td>2021</td><td>Kisii</td><td>Health</td><td>3.4927392799999994E8</td><td>1418331</td><td>246.25699360727498</td></tr><tr><td>Kenya</td><td>2022</td><td>Kwale</td><td>Housing and community amenities</td><td>4.1863810905E8</td><td>1033550</td><td>405.0487243481206</td></tr><tr><td>Kenya</td><td>2021</td><td>Murang’A</td><td>Social protection</td><td>1.2227162755E8</td><td>1187274</td><td>102.98518080072502</td></tr><tr><td>Kenya</td><td>2022</td><td>Kirinyaga</td><td>Economic affairs</td><td>2.04638542745E9</td><td>698687</td><td>2928.9015359524365</td></tr><tr><td>Kenya</td><td>2021</td><td>Samburu</td><td>Education</td><td>5.5229684825E8</td><td>362681</td><td>1522.8171540554922</td></tr><tr><td>Kenya</td><td>2021</td><td>Machakos</td><td>Economic affairs</td><td>3.6111759150500007E9</td><td>1640927</td><td>2200.692605490677</td></tr><tr><td>Kenya</td><td>2021</td><td>Vihiga</td><td>Housing and community amenities</td><td>3.7846094E7</td><td>656555</td><td>57.643447997502115</td></tr><tr><td>Kenya</td><td>2021</td><td>Kilifi</td><td>Economic affairs</td><td>3.530048782999999E9</td><td>1681452</td><td>2099.405027916348</td></tr><tr><td>Kenya</td><td>2021</td><td>Kwale</td><td>Recreation, culture and religion</td><td>1.0802812265E8</td><td>1005895</td><td>107.39502895431433</td></tr><tr><td>Kenya</td><td>2022</td><td>Lamu</td><td>Health</td><td>1.32632386205E9</td><td>174605</td><td>7596.1390684688295</td></tr><tr><td>Kenya</td><td>2021</td><td>Bungoma</td><td>Education</td><td>1.4275662216E9</td><td>1905368</td><td>749.2338601257079</td></tr><tr><td>Kenya</td><td>2021</td><td>Murang’A</td><td>General public services</td><td>5.25278819605E9</td><td>1187274</td><td>4424.242589368588</td></tr><tr><td>Kenya</td><td>2021</td><td>Turkana</td><td>Social protection</td><td>1.4649050825E8</td><td>1059990</td><td>138.19989646128738</td></tr><tr><td>Kenya</td><td>2021</td><td>Nyandarua</td><td>Recreation, culture and religion</td><td>8.142081335E7</td><td>711085</td><td>114.50222315194385</td></tr><tr><td>Kenya</td><td>2022</td><td>Kisii</td><td>Public order and safety</td><td>2.922290695E8</td><td>1429418</td><td>204.4391979812763</td></tr><tr><td>Kenya</td><td>2022</td><td>Elgeyo Marakwet</td><td>Education</td><td>1.159541866199999E9</td><td>529318</td><td>2190.633732841126</td></tr><tr><td>Kenya</td><td>2022</td><td>Makueni</td><td>Economic affairs</td><td>2.54071973925E9</td><td>1119367</td><td>2269.7825996746374</td></tr><tr><td>Kenya</td><td>2022</td><td>Embu</td><td>Public order and safety</td><td>2.624180903E8</td><td>700557</td><td>374.5849235679609</td></tr><tr><td>Kenya</td><td>2022</td><td>Kitui</td><td>Housing and community amenities</td><td>2.66282198E7</td><td>1289449</td><td>20.65085148772848</td></tr><tr><td>Kenya</td><td>2022</td><td>Uasin Gishu</td><td>Environmental protection</td><td>2.631298395E7</td><td>1377083</td><td>19.10776906693351</td></tr><tr><td>Kenya</td><td>2021</td><td>Busia</td><td>Public order and safety</td><td>1.546965141E8</td><td>1017150</td><td>152.08820144521457</td></tr><tr><td>Kenya</td><td>2021</td><td>Narok</td><td>Housing and community amenities</td><td>7.948454E7</td><td>1348631</td><td>58.93720372733535</td></tr><tr><td>Kenya</td><td>2021</td><td>Trans Nzoia</td><td>Health</td><td>2.3632044629500003E9</td><td>1128600</td><td>2093.9256272815883</td></tr><tr><td>Kenya</td><td>2021</td><td>Busia</td><td>General public services</td><td>3.64303935005E9</td><td>1017150</td><td>3581.6146586540826</td></tr><tr><td>Kenya</td><td>2022</td><td>Kericho</td><td>Health</td><td>2.9369718913E9</td><td>1040591</td><td>2822.4075465768974</td></tr><tr><td>Kenya</td><td>2022</td><td>Busia</td><td>Recreation, culture and religion</td><td>6000000.0</td><td>1034241</td><td>5.801355776845049</td></tr><tr><td>Kenya</td><td>2021</td><td>Kwale</td><td>Public order and safety</td><td>1.071943369E8</td><td>1005895</td><td>106.56612956620721</td></tr><tr><td>Kenya</td><td>2021</td><td>Kisumu</td><td>Economic affairs</td><td>3.4731643550500007E9</td><td>1313476</td><td>2644.2541432428156</td></tr><tr><td>Kenya</td><td>2021</td><td>Kiambu</td><td>Housing and community amenities</td><td>1.710127E7</td><td>2863073</td><td>5.973047142004413</td></tr><tr><td>Kenya</td><td>2021</td><td>Laikipia</td><td>Environmental protection</td><td>2.256336E7</td><td>598812</td><td>37.680206809482776</td></tr><tr><td>Kenya</td><td>2022</td><td>Siaya</td><td>Social protection</td><td>2.5564202725E8</td><td>1143321</td><td>223.59602180839852</td></tr><tr><td>Kenya</td><td>2022</td><td>Kajiado</td><td>Economic affairs</td><td>2.4941236179500003E9</td><td>1410068</td><td>1768.7966948757082</td></tr><tr><td>Kenya</td><td>2022</td><td>Nandi</td><td>Housing and community amenities</td><td>1118326.0</td><td>1018897</td><td>1.0975849374372484</td></tr><tr><td>Kenya</td><td>2022</td><td>Kwale</td><td>Social protection</td><td>1.8152029255E8</td><td>1033550</td><td>175.62797402157614</td></tr><tr><td>Kenya</td><td>2021</td><td>Narok</td><td>Education</td><td>1.88203217E8</td><td>1348631</td><td>139.5513057315159</td></tr><tr><td>Kenya</td><td>2021</td><td>Kiambu</td><td>Recreation, culture and religion</td><td>1.1142189385E8</td><td>2863073</td><td>38.91688889874621</td></tr><tr><td>Kenya</td><td>2022</td><td>Kakamega</td><td>Public order and safety</td><td>3.554143625E8</td><td>2120889</td><td>167.57801209775712</td></tr><tr><td>Kenya</td><td>2022</td><td>Nandi</td><td>Education</td><td>5.806905704E8</td><td>1018897</td><td>569.9207774681837</td></tr><tr><td>Kenya</td><td>2022</td><td>Kilifi</td><td>Social protection</td><td>3.1684701625E8</td><td>1724586</td><td>183.7235233557503</td></tr><tr><td>Kenya</td><td>2021</td><td>Murang’A</td><td>Economic affairs</td><td>1.46662851925E9</td><td>1187274</td><td>1235.290690480883</td></tr><tr><td>Kenya</td><td>2021</td><td>Mandera</td><td>Economic affairs</td><td>1.46557120205E9</td><td>991914</td><td>1477.5184159614644</td></tr><tr><td>Kenya</td><td>2022</td><td>Kiambu</td><td>Recreation, culture and religion</td><td>3.80994664E8</td><td>2974081</td><td>128.10500588248942</td></tr><tr><td>Kenya</td><td>2021</td><td>Machakos</td><td>Education</td><td>3.71559968E8</td><td>1640927</td><td>226.43296624408032</td></tr><tr><td>Kenya</td><td>2021</td><td>Nyamira</td><td>Education</td><td>5.998561566999999E8</td><td>667673</td><td>898.428057896605</td></tr><tr><td>Kenya</td><td>2021</td><td>Uasin Gishu</td><td>Economic affairs</td><td>3.1730542128500004E9</td><td>1343587</td><td>2361.6291411348875</td></tr><tr><td>Kenya</td><td>2021</td><td>Trans Nzoia</td><td>Environmental protection</td><td>1.521752606E8</td><td>1128600</td><td>134.83542495126704</td></tr><tr><td>Kenya</td><td>2022</td><td>Vihiga</td><td>Health</td><td>1.5277344939E9</td><td>659515</td><td>2316.45147403774</td></tr><tr><td>Kenya</td><td>2022</td><td>Kitui</td><td>Health</td><td>3.42461778425E9</td><td>1289449</td><td>2655.8768778369677</td></tr><tr><td>Kenya</td><td>2022</td><td>Meru</td><td>Housing and community amenities</td><td>5.3497918974999994E8</td><td>1762084</td><td>303.6059516742675</td></tr><tr><td>Kenya</td><td>2021</td><td>Homa Bay</td><td>Public order and safety</td><td>1.8280619E8</td><td>1282963</td><td>142.48749963950635</td></tr><tr><td>Kenya</td><td>2021</td><td>Turkana</td><td>General public services</td><td>7.767308794700001E9</td><td>1059990</td><td>7327.718935744678</td></tr><tr><td>Kenya</td><td>2021</td><td>Siaya</td><td>Housing and community amenities</td><td>9719720.0</td><td>1126518</td><td>8.628108916146923</td></tr><tr><td>Kenya</td><td>2022</td><td>Kirinyaga</td><td>General public services</td><td>1.7867927095999997E9</td><td>698687</td><td>2557.3578864355563</td></tr><tr><td>Kenya</td><td>2022</td><td>Taita Taveta</td><td>Health</td><td>4.0124623425E8</td><td>393839</td><td>1018.8077723384429</td></tr><tr><td>Kenya</td><td>2021</td><td>Kilifi</td><td>Housing and community amenities</td><td>1.06500176885E9</td><td>1681452</td><td>633.3822011273589</td></tr><tr><td>Kenya</td><td>2021</td><td>Kitui</td><td>Housing and community amenities</td><td>2.5778308700000003E7</td><td>1276847</td><td>20.18903494310595</td></tr><tr><td>Kenya</td><td>2021</td><td>Lamu</td><td>Health</td><td>1.1813895943999996E9</td><td>168905</td><td>6994.402737633579</td></tr><tr><td>Kenya</td><td>2022</td><td>Kirinyaga</td><td>Recreation, culture and religion</td><td>1.72216965E7</td><td>698687</td><td>24.648657410256668</td></tr><tr><td>Kenya</td><td>2021</td><td>West Pokot</td><td>Education</td><td>8.991200826499999E8</td><td>708214</td><td>1269.5598825355046</td></tr><tr><td>Kenya</td><td>2021</td><td>Meru</td><td>Recreation, culture and religion</td><td>9.7623685E7</td><td>1742136</td><td>56.03677611851199</td></tr><tr><td>Kenya</td><td>2022</td><td>Turkana</td><td>Social protection</td><td>2.6233303235000002E8</td><td>1080524</td><td>242.78316108665797</td></tr><tr><td>Kenya</td><td>2021</td><td>Meru</td><td>Economic affairs</td><td>2.8937704375E9</td><td>1742136</td><td>1661.0473794812804</td></tr><tr><td>Kenya</td><td>2021</td><td>Baringo</td><td>Housing and community amenities</td><td>2217040.0</td><td>758756</td><td>2.9219406502222056</td></tr><tr><td>Kenya</td><td>2021</td><td>Narok</td><td>Social protection</td><td>1.7764041E8</td><td>1348631</td><td>131.71906177449577</td></tr><tr><td>Kenya</td><td>2021</td><td>Marsabit</td><td>Environmental protection</td><td>3.97287745E7</td><td>550487</td><td>72.17023199457934</td></tr><tr><td>Kenya</td><td>2022</td><td>Mombasa</td><td>General public services</td><td>4.943544557599998E9</td><td>1425957</td><td>3466.8258282683128</td></tr><tr><td>Kenya</td><td>2021</td><td>Baringo</td><td>Health</td><td>2.2266280558E9</td><td>758756</td><td>2934.577197149018</td></tr><tr><td>Kenya</td><td>2021</td><td>Kajiado</td><td>Environmental protection</td><td>4.0725292E7</td><td>1345550</td><td>30.26665081193564</td></tr><tr><td>Kenya</td><td>2021</td><td>Kisii</td><td>Recreation, culture and religion</td><td>1.3611904375E8</td><td>1418331</td><td>95.97128156262536</td></tr><tr><td>Kenya</td><td>2022</td><td>Tana River</td><td>Education</td><td>2.7397787725E8</td><td>375292</td><td>730.0392154642252</td></tr><tr><td>Kenya</td><td>2021</td><td>Nakuru</td><td>Education</td><td>7.445621553E8</td><td>2514149</td><td>296.14877849323966</td></tr><tr><td>Kenya</td><td>2021</td><td>Kisumu</td><td>Housing and community amenities</td><td>3.499785E7</td><td>1313476</td><td>26.645214682262942</td></tr><tr><td>Kenya</td><td>2022</td><td>Machakos</td><td>Public order and safety</td><td>2.694129124E8</td><td>1680998</td><td>160.26962102274956</td></tr><tr><td>Kenya</td><td>2022</td><td>Samburu</td><td>Public order and safety</td><td>7.1728122E7</td><td>374075</td><td>191.74797032680613</td></tr><tr><td>Kenya</td><td>2022</td><td>Tharaka Nithi</td><td>Public order and safety</td><td>4.2671868E7</td><td>440960</td><td>96.7703828011611</td></tr><tr><td>Kenya</td><td>2022</td><td>Meru</td><td>Education</td><td>8.946013665500001E8</td><td>1762084</td><td>507.69507387275524</td></tr><tr><td>Kenya</td><td>2021</td><td>Marsabit</td><td>Education</td><td>5.477452941E8</td><td>550487</td><td>995.0194901968621</td></tr><tr><td>Kenya</td><td>2021</td><td>Isiolo</td><td>General public services</td><td>1.7640642886500003E9</td><td>331083</td><td>5328.163296363753</td></tr><tr><td>Kenya</td><td>2021</td><td>Nakuru</td><td>Economic affairs</td><td>3.9903410394E9</td><td>2514149</td><td>1587.1537603379911</td></tr><tr><td>Kenya</td><td>2022</td><td>Kajiado</td><td>Public order and safety</td><td>2.20013109E8</td><td>1410068</td><td>156.03014109957817</td></tr><tr><td>Kenya</td><td>2022</td><td>Nyandarua</td><td>Social protection</td><td>1.2319870895E8</td><td>714743</td><td>172.3678426371437</td></tr><tr><td>Kenya</td><td>2021</td><td>Kajiado</td><td>Education</td><td>5.334980803000001E8</td><td>1345550</td><td>396.49071405744866</td></tr><tr><td>Kenya</td><td>2021</td><td>Meru</td><td>General public services</td><td>3.1887278267499986E9</td><td>1742136</td><td>1830.3552803856867</td></tr><tr><td>Kenya</td><td>2021</td><td>Taita Taveta</td><td>Housing and community amenities</td><td>888440.0</td><td>387471</td><td>2.2929199862699403</td></tr><tr><td>Kenya</td><td>2021</td><td>Kajiado</td><td>Housing and community amenities</td><td>2.3127783E7</td><td>1345550</td><td>17.18834900226673</td></tr><tr><td>Kenya</td><td>2021</td><td>Kericho</td><td>Economic affairs</td><td>2.32420763245E9</td><td>1024431</td><td>2268.779090490233</td></tr><tr><td>Kenya</td><td>2021</td><td>Samburu</td><td>Social protection</td><td>7.378419005E7</td><td>362681</td><td>203.44101303900672</td></tr><tr><td>Kenya</td><td>2021</td><td>Makueni</td><td>Health</td><td>3.28309490295E9</td><td>1108957</td><td>2960.524982438453</td></tr><tr><td>Kenya</td><td>2022</td><td>Trans Nzoia</td><td>Social protection</td><td>6.246055505E7</td><td>1148366</td><td>54.39080837468194</td></tr><tr><td>Kenya</td><td>2021</td><td>Tana River</td><td>Health</td><td>1.2444541408E9</td><td>365734</td><td>3402.6208687187955</td></tr><tr><td>Kenya</td><td>2022</td><td>Homa Bay</td><td>Public order and safety</td><td>2.225342197E8</td><td>1301586</td><td>170.97158366792513</td></tr><tr><td>Kenya</td><td>2022</td><td>Nyeri</td><td>Education</td><td>5.0638437655E8</td><td>855511</td><td>591.9086680942735</td></tr><tr><td>Kenya</td><td>2022</td><td>Nyandarua</td><td>Education</td><td>1.0851346055E8</td><td>714743</td><td>151.8216485505979</td></tr><tr><td>Kenya</td><td>2022</td><td>Machakos</td><td>Social protection</td><td>8.2918056045E8</td><td>1680998</td><td>493.26683342276436</td></tr><tr><td>Kenya</td><td>2021</td><td>Kakamega</td><td>Housing and community amenities</td><td>2.755818382E8</td><td>2099691</td><td>131.24875907931215</td></tr><tr><td>Kenya</td><td>2022</td><td>Elgeyo Marakwet</td><td>Housing and community amenities</td><td>1118326.0</td><td>529318</td><td>2.112767750199313</td></tr><tr><td>Kenya</td><td>2021</td><td>Mandera</td><td>Social protection</td><td>2.86764497235E9</td><td>991914</td><td>2891.0217744179436</td></tr><tr><td>Kenya</td><td>2022</td><td>Nyamira</td><td>Public order and safety</td><td>8.4865023E7</td><td>667345</td><td>127.16814091661735</td></tr><tr><td>Kenya</td><td>2022</td><td>Bungoma</td><td>Education</td><td>1.66251751955E9</td><td>1939588</td><td>857.1498274633582</td></tr><tr><td>Kenya</td><td>2022</td><td>Meru</td><td>Recreation, culture and religion</td><td>8.225272235E7</td><td>1762084</td><td>46.67922888466157</td></tr><tr><td>Kenya</td><td>2022</td><td>Isiolo</td><td>Health</td><td>1.3757933925E9</td><td>351861</td><td>3910.0479805946097</td></tr><tr><td>Kenya</td><td>2022</td><td>Tana River</td><td>Public order and safety</td><td>8.8049019E7</td><td>375292</td><td>234.61469735565905</td></tr><tr><td>Kenya</td><td>2022</td><td>Tana River</td><td>Health</td><td>1.2779384281999998E9</td><td>375292</td><td>3405.1843050211564</td></tr><tr><td>Kenya</td><td>2022</td><td>Kilifi</td><td>General public services</td><td>6.544268427499998E9</td><td>1724586</td><td>3794.6895240364925</td></tr><tr><td>Kenya</td><td>2021</td><td>Machakos</td><td>General public services</td><td>4.2308375743500004E9</td><td>1640927</td><td>2578.3216281711498</td></tr><tr><td>Kenya</td><td>2021</td><td>Mandera</td><td>Public order and safety</td><td>1.34215226E8</td><td>991914</td><td>135.30933730141928</td></tr><tr><td>Kenya</td><td>2021</td><td>Kajiado</td><td>Public order and safety</td><td>2.180131182E8</td><td>1345550</td><td>162.02528200364162</td></tr><tr><td>Kenya</td><td>2021</td><td>Nairobi City</td><td>Education</td><td>1.4980253344E9</td><td>5148469</td><td>290.965204296656</td></tr><tr><td>Kenya</td><td>2021</td><td>Makueni</td><td>Social protection</td><td>1.7532355865E8</td><td>1108957</td><td>158.09770680919098</td></tr><tr><td>Kenya</td><td>2021</td><td>Migori</td><td>Social protection</td><td>2.0227277239999998E8</td><td>1273799</td><td>158.7948902456353</td></tr><tr><td>Kenya</td><td>2021</td><td>Nandi</td><td>Recreation, culture and religion</td><td>6804110.2</td><td>1004167</td><td>6.775875128340206</td></tr><tr><td>Kenya</td><td>2022</td><td>Kakamega</td><td>General public services</td><td>7.110699162900002E9</td><td>2120889</td><td>3352.697459838776</td></tr><tr><td>Kenya</td><td>2022</td><td>Elgeyo Marakwet</td><td>General public services</td><td>4577266.0</td><td>529318</td><td>8.64747845340608</td></tr><tr><td>Kenya</td><td>2022</td><td>Kwale</td><td>General public services</td><td>2.6180447465E9</td><td>1033550</td><td>2533.060564559044</td></tr><tr><td>Kenya</td><td>2022</td><td>Mombasa</td><td>Public order and safety</td><td>4.518094966E8</td><td>1425957</td><td>316.8465084150504</td></tr><tr><td>Kenya</td><td>2021</td><td>Makueni</td><td>Housing and community amenities</td><td>1.8385677E7</td><td>1108957</td><td>16.57925149487311</td></tr><tr><td>Kenya</td><td>2022</td><td>Nairobi City</td><td>Environmental protection</td><td>5110680.0</td><td>5315616</td><td>0.9614464250239295</td></tr><tr><td>Kenya</td><td>2021</td><td>Makueni</td><td>Education</td><td>5.029634010000001E8</td><td>1108957</td><td>453.54635121109305</td></tr><tr><td>Kenya</td><td>2021</td><td>Nakuru</td><td>Recreation, culture and religion</td><td>8.515241219999999E7</td><td>2514149</td><td>33.86927831246278</td></tr><tr><td>Kenya</td><td>2022</td><td>Uasin Gishu</td><td>Education</td><td>1.5604735791499999E9</td><td>1377083</td><td>1133.1732213308856</td></tr><tr><td>Kenya</td><td>2021</td><td>Kitui</td><td>Public order and safety</td><td>3.021083059E8</td><td>1276847</td><td>236.60493849302225</td></tr><tr><td>Kenya</td><td>2021</td><td>West Pokot</td><td>Social protection</td><td>1.6692295125E8</td><td>708214</td><td>235.6956389594106</td></tr><tr><td>Kenya</td><td>2021</td><td>Trans Nzoia</td><td>Social protection</td><td>7.551131455E7</td><td>1128600</td><td>66.90706587807904</td></tr><tr><td>Kenya</td><td>2022</td><td>Kisumu</td><td>Economic affairs</td><td>3.7554109517E9</td><td>1334597</td><td>2813.8913482496964</td></tr><tr><td>Kenya</td><td>2022</td><td>Kisumu</td><td>Housing and community amenities</td><td>1.00968322E8</td><td>1334597</td><td>75.65453990980049</td></tr><tr><td>Kenya</td><td>2022</td><td>Narok</td><td>Health</td><td>4.1885293195E9</td><td>1388474</td><td>3016.642241410354</td></tr><tr><td>Kenya</td><td>2022</td><td>Nandi</td><td>General public services</td><td>2.0805270134500005E9</td><td>1018897</td><td>2041.940464492486</td></tr><tr><td>Kenya</td><td>2022</td><td>Samburu</td><td>Health</td><td>1.43182396115E9</td><td>374075</td><td>3827.6387386219344</td></tr><tr><td>Kenya</td><td>2022</td><td>Samburu</td><td>Recreation, culture and religion</td><td>4.71571647E7</td><td>374075</td><td>126.06339557575353</td></tr><tr><td>Kenya</td><td>2022</td><td>Kirinyaga</td><td>Housing and community amenities</td><td>1.64948385E8</td><td>698687</td><td>236.0833749590303</td></tr><tr><td>Kenya</td><td>2022</td><td>Meru</td><td>General public services</td><td>1.29374755276E10</td><td>1762084</td><td>7342.14460127894</td></tr><tr><td>Kenya</td><td>2021</td><td>Kitui</td><td>General public services</td><td>3.24151716895E9</td><td>1276847</td><td>2538.688792744941</td></tr><tr><td>Kenya</td><td>2021</td><td>Nyeri</td><td>Environmental protection</td><td>2.003211285E7</td><td>849245</td><td>23.58814340973453</td></tr><tr><td>Kenya</td><td>2022</td><td>Kiambu</td><td>Housing and community amenities</td><td>1168328.0</td><td>2974081</td><td>0.39283664432811344</td></tr><tr><td>Kenya</td><td>2022</td><td>Kwale</td><td>Public order and safety</td><td>1.124260006E8</td><td>1033550</td><td>108.77654743360263</td></tr><tr><td>Kenya</td><td>2021</td><td>Nairobi City</td><td>General public services</td><td>1.1491298888550001E10</td><td>5148469</td><td>2231.98370011551</td></tr><tr><td>Kenya</td><td>2021</td><td>Laikipia</td><td>Education</td><td>1.7606817895000002E8</td><td>598812</td><td>294.02914261905244</td></tr><tr><td>Kenya</td><td>2022</td><td>Elgeyo Marakwet</td><td>Health</td><td>2.3470165502000003E9</td><td>529318</td><td>4434.038801249911</td></tr><tr><td>Kenya</td><td>2022</td><td>Mandera</td><td>Housing and community amenities</td><td>1118333.0</td><td>1011130</td><td>1.1060229644061594</td></tr><tr><td>Kenya</td><td>2021</td><td>Nyamira</td><td>Economic affairs</td><td>2.1842083685E9</td><td>667673</td><td>3271.374413073466</td></tr><tr><td>Kenya</td><td>2021</td><td>Tharaka Nithi</td><td>Social protection</td><td>5.971487289999999E7</td><td>438471</td><td>136.18887657336515</td></tr><tr><td>Kenya</td><td>2021</td><td>Bomet</td><td>Environmental protection</td><td>1.123809675E7</td><td>997889</td><td>11.26187055874952</td></tr><tr><td>Kenya</td><td>2021</td><td>Tana River</td><td>Economic affairs</td><td>1.4547078798999999E9</td><td>365734</td><td>3977.502446860286</td></tr><tr><td>Kenya</td><td>2021</td><td>Meru</td><td>Environmental protection</td><td>3.9146364E7</td><td>1742136</td><td>22.470326082464286</td></tr><tr><td>Kenya</td><td>2022</td><td>Nairobi City</td><td>Social protection</td><td>3.033228852E8</td><td>5315616</td><td>57.06260294197323</td></tr><tr><td>Kenya</td><td>2021</td><td>Samburu</td><td>Economic affairs</td><td>1.4216764861000001E9</td><td>362681</td><td>3919.908917478446</td></tr><tr><td>Kenya</td><td>2021</td><td>Lamu</td><td>Public order and safety</td><td>8.12147195E7</td><td>168905</td><td>480.8307598946153</td></tr><tr><td>Kenya</td><td>2021</td><td>Makueni</td><td>General public services</td><td>2.6682518187500005E9</td><td>1108957</td><td>2406.0913261289666</td></tr><tr><td>Kenya</td><td>2021</td><td>Wajir</td><td>Environmental protection</td><td>1.501815E8</td><td>893331</td><td>168.11405850686924</td></tr><tr><td>Kenya</td><td>2022</td><td>Mandera</td><td>Economic affairs</td><td>1.59551753865E9</td><td>1011130</td><td>1577.9549006062525</td></tr><tr><td>Kenya</td><td>2021</td><td>Kwale</td><td>General public services</td><td>2.2057198958E9</td><td>1005895</td><td>2192.793378831787</td></tr><tr><td>Kenya</td><td>2021</td><td>Samburu</td><td>Housing and community amenities</td><td>3.711055153E8</td><td>362681</td><td>1023.2284440045108</td></tr><tr><td>Kenya</td><td>2022</td><td>Bomet</td><td>Health</td><td>4.62930975E8</td><td>1015337</td><td>455.9382500588475</td></tr><tr><td>Kenya</td><td>2021</td><td>Kisii</td><td>Education</td><td>2.1288276579999998E8</td><td>1418331</td><td>150.093853832427</td></tr><tr><td>Kenya</td><td>2022</td><td>Makueni</td><td>Social protection</td><td>2.0209432845E8</td><td>1119367</td><td>180.54340395062565</td></tr><tr><td>Kenya</td><td>2022</td><td>Trans Nzoia</td><td>Environmental protection</td><td>1.603807344E8</td><td>1148366</td><td>139.65994674171824</td></tr><tr><td>Kenya</td><td>2021</td><td>Nairobi City</td><td>Public order and safety</td><td>4.96709038885E9</td><td>5148469</td><td>964.7703790874531</td></tr><tr><td>Kenya</td><td>2021</td><td>Meru</td><td>Social protection</td><td>2.3056187845000002E8</td><td>1742136</td><td>132.34436258133695</td></tr><tr><td>Kenya</td><td>2022</td><td>Nyandarua</td><td>Economic affairs</td><td>1.6686034393E9</td><td>714743</td><td>2334.550235958939</td></tr><tr><td>Kenya</td><td>2022</td><td>Kilifi</td><td>Economic affairs</td><td>3.6874394643500004E9</td><td>1724586</td><td>2138.1592245037364</td></tr><tr><td>Kenya</td><td>2021</td><td>Mombasa</td><td>Education</td><td>7.181836066E8</td><td>1392834</td><td>515.6275669605998</td></tr><tr><td>Kenya</td><td>2021</td><td>Homa Bay</td><td>General public services</td><td>2.3153240601499996E9</td><td>1282963</td><td>1804.6693943239202</td></tr><tr><td>Kenya</td><td>2021</td><td>Uasin Gishu</td><td>General public services</td><td>1.96187475055E9</td><td>1343587</td><td>1460.1769372210358</td></tr><tr><td>Kenya</td><td>2021</td><td>Vihiga</td><td>General public services</td><td>2.0175546194999998E9</td><td>656555</td><td>3072.940758199998</td></tr><tr><td>Kenya</td><td>2021</td><td>Kiambu</td><td>Environmental protection</td><td>1.71441206E8</td><td>2863073</td><td>59.88013787982353</td></tr><tr><td>Kenya</td><td>2022</td><td>Bungoma</td><td>Social protection</td><td>3.384455743E8</td><td>1939588</td><td>174.49353898869245</td></tr><tr><td>Kenya</td><td>2022</td><td>Tharaka Nithi</td><td>Housing and community amenities</td><td>1.8367888715E8</td><td>440960</td><td>416.5431947342163</td></tr><tr><td>Kenya</td><td>2021</td><td>Samburu</td><td>Health</td><td>1.1953795475E9</td><td>362681</td><td>3295.95304827107</td></tr><tr><td>Kenya</td><td>2022</td><td>Homa Bay</td><td>Housing and community amenities</td><td>1.453220082E8</td><td>1301586</td><td>111.64994721823989</td></tr><tr><td>Kenya</td><td>2022</td><td>Busia</td><td>Education</td><td>4.6933619984999996E8</td><td>1034241</td><td>453.79771238038325</td></tr><tr><td>Kenya</td><td>2022</td><td>Turkana</td><td>Housing and community amenities</td><td>3.2654457895E8</td><td>1080524</td><td>302.209464065583</td></tr><tr><td>Kenya</td><td>2022</td><td>Nyandarua</td><td>Health</td><td>8.19370576E8</td><td>714743</td><td>1146.3848907929143</td></tr><tr><td>Kenya</td><td>2022</td><td>Kwale</td><td>Recreation, culture and religion</td><td>1.247163056E8</td><td>1033550</td><td>120.66789763436698</td></tr><tr><td>Kenya</td><td>2021</td><td>Kisumu</td><td>General public services</td><td>1.8123878727499998E9</td><td>1313476</td><td>1379.840874709549</td></tr><tr><td>Kenya</td><td>2021</td><td>Kiambu</td><td>Education</td><td>8.90306959E8</td><td>2863073</td><td>310.96201843264214</td></tr><tr><td>Kenya</td><td>2021</td><td>Kakamega</td><td>General public services</td><td>6.822803099450001E9</td><td>2099691</td><td>3249.4319875876977</td></tr><tr><td>Kenya</td><td>2021</td><td>Kirinyaga</td><td>Economic affairs</td><td>1.14720617065E9</td><td>689786</td><td>1663.1334510268402</td></tr><tr><td>Kenya</td><td>2021</td><td>Kirinyaga</td><td>Housing and community amenities</td><td>1663340.0</td><td>689786</td><td>2.4113855601592378</td></tr><tr><td>Kenya</td><td>2021</td><td>Garissa</td><td>Social protection</td><td>7.03770986E7</td><td>1093018</td><td>64.3878679033648</td></tr><tr><td>Kenya</td><td>2021</td><td>Nyamira</td><td>Recreation, culture and religion</td><td>5.83802835E7</td><td>667673</td><td>87.438436929455</td></tr><tr><td>Kenya</td><td>2022</td><td>Murang’A</td><td>General public services</td><td>1.8779132697500002E9</td><td>1198892</td><td>1566.3740101276849</td></tr><tr><td>Kenya</td><td>2022</td><td>Kilifi</td><td>Environmental protection</td><td>-1499703.0</td><td>1724586</td><td>-0.8696017478977563</td></tr><tr><td>Kenya</td><td>2021</td><td>Homa Bay</td><td>Education</td><td>6.108667472E8</td><td>1282963</td><td>476.137462420974</td></tr><tr><td>Kenya</td><td>2022</td><td>Nyeri</td><td>Economic affairs</td><td>1.6957767762500002E9</td><td>855511</td><td>1982.1799792755444</td></tr><tr><td>Kenya</td><td>2022</td><td>Meru</td><td>Public order and safety</td><td>5.690507222E8</td><td>1762084</td><td>322.9418814313052</td></tr><tr><td>Kenya</td><td>2021</td><td>Kiambu</td><td>General public services</td><td>3.59827971655E9</td><td>2863073</td><td>1256.7893716122503</td></tr><tr><td>Kenya</td><td>2021</td><td>Nyeri</td><td>Health</td><td>2.7479897591500006E9</td><td>849245</td><td>3235.80328309263</td></tr><tr><td>Kenya</td><td>2022</td><td>Kitui</td><td>Public order and safety</td><td>3.9030761475E8</td><td>1289449</td><td>302.6933323846077</td></tr><tr><td>Kenya</td><td>2021</td><td>Nandi</td><td>Housing and community amenities</td><td>1559340.0</td><td>1004167</td><td>1.5528691940683172</td></tr><tr><td>Kenya</td><td>2021</td><td>Migori</td><td>Housing and community amenities</td><td>1371340.0</td><td>1273799</td><td>1.0765748756279445</td></tr><tr><td>Kenya</td><td>2022</td><td>Laikipia</td><td>Social protection</td><td>1881390.0</td><td>613653</td><td>3.065885769319143</td></tr><tr><td>Kenya</td><td>2022</td><td>Embu</td><td>Education</td><td>4.250486841E8</td><td>700557</td><td>606.7296224290101</td></tr><tr><td>Kenya</td><td>2022</td><td>Lamu</td><td>Housing and community amenities</td><td>7009979.0</td><td>174605</td><td>40.14764182010824</td></tr><tr><td>Kenya</td><td>2021</td><td>Uasin Gishu</td><td>Health</td><td>2.8274426428E9</td><td>1343587</td><td>2104.3986305315548</td></tr><tr><td>Kenya</td><td>2022</td><td>Vihiga</td><td>Social protection</td><td>1.453359453E8</td><td>659515</td><td>220.36791475554008</td></tr><tr><td>Kenya</td><td>2022</td><td>Kericho</td><td>Economic affairs</td><td>2.01820051295E9</td><td>1040591</td><td>1939.475272177061</td></tr><tr><td>Kenya</td><td>2022</td><td>Kiambu</td><td>General public services</td><td>1.720965761175E10</td><td>2974081</td><td>5786.5463690296265</td></tr><tr><td>Kenya</td><td>2021</td><td>Busia</td><td>Recreation, culture and religion</td><td>1.858914645E7</td><td>1017150</td><td>18.275717888217077</td></tr><tr><td>Kenya</td><td>2022</td><td>Vihiga</td><td>Economic affairs</td><td>1.0521286340999999E9</td><td>659515</td><td>1595.3066027307946</td></tr><tr><td>Kenya</td><td>2022</td><td>Kericho</td><td>Environmental protection</td><td>1.6246091795E8</td><td>1040591</td><td>156.12370081040484</td></tr><tr><td>Kenya</td><td>2022</td><td>Marsabit</td><td>Environmental protection</td><td>1.0169729835E8</td><td>575225</td><td>176.79568577513146</td></tr><tr><td>Kenya</td><td>2022</td><td>Kwale</td><td>Environmental protection</td><td>3.0932722E7</td><td>1033550</td><td>29.928616902907454</td></tr><tr><td>Kenya</td><td>2021</td><td>Tana River</td><td>General public services</td><td>2.4963002458500004E9</td><td>365734</td><td>6825.453050167609</td></tr><tr><td>Kenya</td><td>2021</td><td>Elgeyo Marakwet</td><td>General public services</td><td>2860589.6</td><td>519409</td><td>5.507393210360236</td></tr><tr><td>Kenya</td><td>2021</td><td>Kitui</td><td>Social protection</td><td>2.8707574E7</td><td>1276847</td><td>22.48317456985841</td></tr><tr><td>Kenya</td><td>2022</td><td>Migori</td><td>Economic affairs</td><td>3.4937125869500003E9</td><td>1296920</td><td>2693.8535815239184</td></tr><tr><td>Kenya</td><td>2022</td><td>Laikipia</td><td>Economic affairs</td><td>7.337431068999999E8</td><td>613653</td><td>1195.6970908640549</td></tr><tr><td>Kenya</td><td>2021</td><td>Vihiga</td><td>Social protection</td><td>1.521106975E8</td><td>656555</td><td>231.6800534608677</td></tr><tr><td>Kenya</td><td>2021</td><td>Nakuru</td><td>Environmental protection</td><td>4997452.0</td><td>2514149</td><td>1.9877310374206143</td></tr><tr><td>Kenya</td><td>2022</td><td>Kisii</td><td>Education</td><td>1.7251064954999998E8</td><td>1429418</td><td>120.68593619920834</td></tr><tr><td>Kenya</td><td>2022</td><td>Nyeri</td><td>General public services</td><td>2.180002205450001E9</td><td>855511</td><td>2548.187230146662</td></tr><tr><td>Kenya</td><td>2022</td><td>Tana River</td><td>Social protection</td><td>2.4306128275E8</td><td>375292</td><td>647.6591101062639</td></tr><tr><td>Kenya</td><td>2022</td><td>Samburu</td><td>Education</td><td>7.309280096500001E8</td><td>374075</td><td>1953.9611298536392</td></tr><tr><td>Kenya</td><td>2022</td><td>Kilifi</td><td>Housing and community amenities</td><td>1.17437282E7</td><td>1724586</td><td>6.809592679054567</td></tr><tr><td>Kenya</td><td>2021</td><td>Kwale</td><td>Economic affairs</td><td>3.2370655457E9</td><td>1005895</td><td>3218.0948764036007</td></tr><tr><td>Kenya</td><td>2021</td><td>Baringo</td><td>Economic affairs</td><td>2.5883728927E9</td><td>758756</td><td>3411.337627247758</td></tr><tr><td>Kenya</td><td>2022</td><td>Siaya</td><td>General public services</td><td>2.82768320255E9</td><td>1143321</td><td>2473.218984475926</td></tr><tr><td>Kenya</td><td>2022</td><td>Makueni</td><td>Environmental protection</td><td>9.150994595E7</td><td>1119367</td><td>81.75151308730739</td></tr><tr><td>Kenya</td><td>2021</td><td>Siaya</td><td>General public services</td><td>1.90968287475E9</td><td>1126518</td><td>1695.2084873477388</td></tr><tr><td>Kenya</td><td>2021</td><td>Nyandarua</td><td>Housing and community amenities</td><td>2.299249375E8</td><td>711085</td><td>323.3438161401239</td></tr><tr><td>Kenya</td><td>2022</td><td>Kisii</td><td>Social protection</td><td>1.5592206E7</td><td>1429418</td><td>10.908080071749481</td></tr><tr><td>Kenya</td><td>2022</td><td>Migori</td><td>Education</td><td>6.9531370425E8</td><td>1296920</td><td>536.1269039339358</td></tr><tr><td>Kenya</td><td>2022</td><td>Makueni</td><td>Recreation, culture and religion</td><td>5.63413811E7</td><td>1119367</td><td>50.33325182893546</td></tr><tr><td>Kenya</td><td>2021</td><td>Machakos</td><td>Public order and safety</td><td>2.6676124029999998E8</td><td>1640927</td><td>162.56740263278013</td></tr><tr><td>Kenya</td><td>2022</td><td>Bomet</td><td>Environmental protection</td><td>2.0121739E7</td><td>1015337</td><td>19.81779350107403</td></tr><tr><td>Kenya</td><td>2022</td><td>Kericho</td><td>General public services</td><td>1.9720964474999995E9</td><td>1040591</td><td>1895.1696175538705</td></tr><tr><td>Kenya</td><td>2022</td><td>Tharaka Nithi</td><td>Social protection</td><td>4.32925777E7</td><td>440960</td><td>98.17801546625545</td></tr><tr><td>Kenya</td><td>2022</td><td>Marsabit</td><td>Education</td><td>4.79755185E8</td><td>575225</td><td>834.0304837237603</td></tr><tr><td>Kenya</td><td>2021</td><td>Tharaka Nithi</td><td>Public order and safety</td><td>4.320419875E7</td><td>438471</td><td>98.53376563102235</td></tr><tr><td>Kenya</td><td>2021</td><td>Garissa</td><td>Education</td><td>6.18436335E8</td><td>1093018</td><td>565.8061761105489</td></tr><tr><td>Kenya</td><td>2021</td><td>Tana River</td><td>Education</td><td>2.708869625E8</td><td>365734</td><td>740.66661152641</td></tr><tr><td>Kenya</td><td>2021</td><td>Siaya</td><td>Social protection</td><td>2.8859199985E8</td><td>1126518</td><td>256.18054913458997</td></tr><tr><td>Kenya</td><td>2021</td><td>Kisumu</td><td>Health</td><td>5.03623267345E9</td><td>1313476</td><td>3834.278413499752</td></tr><tr><td>Kenya</td><td>2022</td><td>Kitui</td><td>Economic affairs</td><td>3.420885113799999E9</td><td>1289449</td><td>2652.982098400169</td></tr><tr><td>Kenya</td><td>2022</td><td>Embu</td><td>Economic affairs</td><td>1.3859185995E9</td><td>700557</td><td>1978.3095444053804</td></tr><tr><td>Kenya</td><td>2022</td><td>Garissa</td><td>General public services</td><td>4.9185995584E9</td><td>1134954</td><td>4333.743533570523</td></tr><tr><td>Kenya</td><td>2021</td><td>Baringo</td><td>Social protection</td><td>1.0117947525E8</td><td>758756</td><td>133.34916000664245</td></tr><tr><td>Kenya</td><td>2021</td><td>Nyeri</td><td>Public order and safety</td><td>5.755431143499999E8</td><td>849245</td><td>677.7115135797089</td></tr><tr><td>Kenya</td><td>2021</td><td>Nyeri</td><td>Economic affairs</td><td>2.1331331159000003E9</td><td>849245</td><td>2511.799440561911</td></tr><tr><td>Kenya</td><td>2021</td><td>Laikipia</td><td>Housing and community amenities</td><td>3413063.0</td><td>598812</td><td>5.699723786430465</td></tr><tr><td>Kenya</td><td>2021</td><td>Tana River</td><td>Recreation, culture and religion</td><td>1.83329569E7</td><td>365734</td><td>50.12647689304248</td></tr><tr><td>Kenya</td><td>2021</td><td>Busia</td><td>Health</td><td>2.27930196E9</td><td>1017150</td><td>2240.87102197316</td></tr><tr><td>Kenya</td><td>2022</td><td>Homa Bay</td><td>Health</td><td>2.8270682428499994E9</td><td>1301586</td><td>2172.01801713448</td></tr><tr><td>Kenya</td><td>2021</td><td>Kitui</td><td>Education</td><td>6.991557027E8</td><td>1276847</td><td>547.5641973548907</td></tr><tr><td>Kenya</td><td>2022</td><td>Garissa</td><td>Housing and community amenities</td><td>1.3217616E7</td><td>1134954</td><td>11.645948646376858</td></tr><tr><td>Kenya</td><td>2021</td><td>Kilifi</td><td>General public services</td><td>2.5486688617500005E9</td><td>1681452</td><td>1515.7547534809203</td></tr><tr><td>Kenya</td><td>2021</td><td>Garissa</td><td>General public services</td><td>4.7119398562E9</td><td>1093018</td><td>4310.944427447672</td></tr><tr><td>Kenya</td><td>2021</td><td>West Pokot</td><td>General public services</td><td>2.1506323513500004E9</td><td>708214</td><td>3036.698443337749</td></tr><tr><td>Kenya</td><td>2021</td><td>Kakamega</td><td>Recreation, culture and religion</td><td>4.360034762E8</td><td>2099691</td><td>207.65125735167697</td></tr><tr><td>Kenya</td><td>2021</td><td>Wajir</td><td>Health</td><td>2.997255975200001E9</td><td>893331</td><td>3355.1460491128155</td></tr><tr><td>Kenya</td><td>2022</td><td>Kakamega</td><td>Recreation, culture and religion</td><td>5.6249972225E8</td><td>2120889</td><td>265.21884089643544</td></tr><tr><td>Kenya</td><td>2022</td><td>West Pokot</td><td>Recreation, culture and religion</td><td>1912454.45</td><td>720744</td><td>2.6534448431065676</td></tr><tr><td>Kenya</td><td>2021</td><td>Homa Bay</td><td>Housing and community amenities</td><td>2.227032633E8</td><td>1282963</td><td>173.58510206451786</td></tr><tr><td>Kenya</td><td>2021</td><td>Kirinyaga</td><td>Recreation, culture and religion</td><td>1.63206682E7</td><td>689786</td><td>23.660480496849747</td></tr><tr><td>Kenya</td><td>2022</td><td>Kajiado</td><td>Health</td><td>2.27398807195E9</td><td>1410068</td><td>1612.67972321193</td></tr><tr><td>Kenya</td><td>2022</td><td>Kirinyaga</td><td>Public order and safety</td><td>5.1135378725E8</td><td>698687</td><td>731.8782047612164</td></tr><tr><td>Kenya</td><td>2022</td><td>Nyandarua</td><td>Recreation, culture and religion</td><td>2.6768718659999996E8</td><td>714743</td><td>374.5222920686176</td></tr><tr><td>Kenya</td><td>2022</td><td>Machakos</td><td>General public services</td><td>2.8600968943E9</td><td>1680998</td><td>1701.4278983675174</td></tr><tr><td>Kenya</td><td>2022</td><td>Tharaka Nithi</td><td>Environmental protection</td><td>3381908.0</td><td>440960</td><td>7.669421262699564</td></tr><tr><td>Kenya</td><td>2022</td><td>Marsabit</td><td>Housing and community amenities</td><td>1.54735729E8</td><td>575225</td><td>269.000354643835</td></tr><tr><td>Kenya</td><td>2021</td><td>Bungoma</td><td>General public services</td><td>3.10235677295E9</td><td>1905368</td><td>1628.2192064472583</td></tr><tr><td>Kenya</td><td>2021</td><td>Murang’A</td><td>Public order and safety</td><td>2.2530225224999994E8</td><td>1187274</td><td>189.7643275688678</td></tr><tr><td>Kenya</td><td>2021</td><td>Bomet</td><td>Housing and community amenities</td><td>4.1619253129999995E8</td><td>997889</td><td>417.0729723446194</td></tr><tr><td>Kenya</td><td>2021</td><td>Uasin Gishu</td><td>Public order and safety</td><td>3.0547397835E8</td><td>1343587</td><td>227.35705119951297</td></tr><tr><td>Kenya</td><td>2021</td><td>Nyamira</td><td>Public order and safety</td><td>6.41536205E7</td><td>667673</td><td>96.08538985401536</td></tr><tr><td>Kenya</td><td>2021</td><td>West Pokot</td><td>Housing and community amenities</td><td>2.599320395E7</td><td>708214</td><td>36.70247121632727</td></tr><tr><td>Kenya</td><td>2021</td><td>Nandi</td><td>Health</td><td>4.830509417E9</td><td>1004167</td><td>4810.464212625988</td></tr><tr><td>Kenya</td><td>2022</td><td>Vihiga</td><td>Public order and safety</td><td>8.9123174E7</td><td>659515</td><td>135.1344154416503</td></tr><tr><td>Kenya</td><td>2022</td><td>Nakuru</td><td>Education</td><td>8.417334459000001E8</td><td>2586081</td><td>325.4861104118549</td></tr><tr><td>Kenya</td><td>2022</td><td>Embu</td><td>Housing and community amenities</td><td>1168328.0</td><td>700557</td><td>1.667712976959762</td></tr><tr><td>Kenya</td><td>2022</td><td>Mandera</td><td>Public order and safety</td><td>1.4787585345E8</td><td>1011130</td><td>146.24811196384243</td></tr><tr><td>Kenya</td><td>2022</td><td>Mandera</td><td>Education</td><td>2.7718107473999996E9</td><td>1011130</td><td>2741.300077537013</td></tr><tr><td>Kenya</td><td>2021</td><td>Isiolo</td><td>Education</td><td>3.08375135E8</td><td>331083</td><td>931.4133767061431</td></tr><tr><td>Kenya</td><td>2021</td><td>Tharaka Nithi</td><td>Health</td><td>2.20794975905E9</td><td>438471</td><td>5035.566226842825</td></tr><tr><td>Kenya</td><td>2022</td><td>Narok</td><td>Environmental protection</td><td>2.44027333E8</td><td>1388474</td><td>175.75218045134443</td></tr><tr><td>Kenya</td><td>2021</td><td>Garissa</td><td>Environmental protection</td><td>2700000.0</td><td>1093018</td><td>2.4702246440589266</td></tr><tr><td>Kenya</td><td>2022</td><td>Narok</td><td>Economic affairs</td><td>2.4815117453500004E9</td><td>1388474</td><td>1787.222335708123</td></tr><tr><td>Kenya</td><td>2021</td><td>Kisii</td><td>Economic affairs</td><td>7.431364075E9</td><td>1418331</td><td>5239.513255368458</td></tr><tr><td>Kenya</td><td>2021</td><td>Bomet</td><td>Social protection</td><td>6.141763185E7</td><td>997889</td><td>61.54755874651389</td></tr><tr><td>Kenya</td><td>2022</td><td>Nyamira</td><td>Education</td><td>6.566305205E8</td><td>667345</td><td>983.9446171020986</td></tr><tr><td>Kenya</td><td>2022</td><td>Kisumu</td><td>Public order and safety</td><td>5.8992815045E8</td><td>1334597</td><td>442.02718157616124</td></tr><tr><td>Kenya</td><td>2022</td><td>Kiambu</td><td>Economic affairs</td><td>3.3548717080000005E9</td><td>2974081</td><td>1128.036428059626</td></tr><tr><td>Kenya</td><td>2022</td><td>Mandera</td><td>Health</td><td>5.75365635E8</td><td>1011130</td><td>569.0323054404478</td></tr><tr><td>Kenya</td><td>2021</td><td>Murang’A</td><td>Environmental protection</td><td>2.8003176E7</td><td>1187274</td><td>23.58611070401609</td></tr><tr><td>Kenya</td><td>2022</td><td>Bungoma</td><td>Public order and safety</td><td>2.40485314E8</td><td>1939588</td><td>123.98783349866054</td></tr><tr><td>Kenya</td><td>2022</td><td>Kericho</td><td>Social protection</td><td>8.129754860000001E7</td><td>1040591</td><td>78.12632302220565</td></tr><tr><td>Kenya</td><td>2022</td><td>Laikipia</td><td>Recreation, culture and religion</td><td>3715692.5</td><td>613653</td><td>6.0550384337728325</td></tr><tr><td>Kenya</td><td>2022</td><td>Murang’A</td><td>Recreation, culture and religion</td><td>3.940613345E7</td><td>1198892</td><td>32.86879339423401</td></tr><tr><td>Kenya</td><td>2021</td><td>Turkana</td><td>Economic affairs</td><td>2.960901198600001E9</td><td>1059990</td><td>2793.3293697110357</td></tr><tr><td>Kenya</td><td>2021</td><td>Kakamega</td><td>Public order and safety</td><td>3.4993308499999994E8</td><td>2099691</td><td>166.65932511021856</td></tr><tr><td>Kenya</td><td>2021</td><td>Bungoma</td><td>Economic affairs</td><td>3.3272233330000005E9</td><td>1905368</td><td>1746.2365973397268</td></tr><tr><td>Kenya</td><td>2021</td><td>Bomet</td><td>Economic affairs</td><td>4.75876631775E9</td><td>997889</td><td>4768.833324898861</td></tr><tr><td>Kenya</td><td>2022</td><td>Uasin Gishu</td><td>Social protection</td><td>8.398011646500001E8</td><td>1377083</td><td>609.840630267021</td></tr><tr><td>Kenya</td><td>2021</td><td>Kakamega</td><td>Economic affairs</td><td>3.0161778381500006E9</td><td>2099691</td><td>1436.4865297560452</td></tr><tr><td>Kenya</td><td>2022</td><td>Kisumu</td><td>Social protection</td><td>1.9782777795E8</td><td>1334597</td><td>148.23034815004078</td></tr><tr><td>Kenya</td><td>2022</td><td>Nairobi City</td><td>Public order and safety</td><td>3.4654267643999996E9</td><td>5315616</td><td>651.9332405501074</td></tr><tr><td>Kenya</td><td>2021</td><td>Nandi</td><td>General public services</td><td>3.8657566468E9</td><td>1004167</td><td>3849.714884874727</td></tr><tr><td>Kenya</td><td>2021</td><td>Machakos</td><td>Housing and community amenities</td><td>4.854926989E8</td><td>1640927</td><td>295.86489764626947</td></tr><tr><td>Kenya</td><td>2021</td><td>Kajiado</td><td>Social protection</td><td>3.886257974E8</td><td>1345550</td><td>288.8230072461075</td></tr><tr><td>Kenya</td><td>2022</td><td>Tana River</td><td>Recreation, culture and religion</td><td>6.54937695E7</td><td>375292</td><td>174.51416363791395</td></tr><tr><td>Kenya</td><td>2021</td><td>Murang’A</td><td>Housing and community amenities</td><td>1.88677198E8</td><td>1187274</td><td>158.9163057558744</td></tr><tr><td>Kenya</td><td>2022</td><td>Nairobi City</td><td>Economic affairs</td><td>2.8476944895E9</td><td>5315616</td><td>535.722386549367</td></tr><tr><td>Kenya</td><td>2022</td><td>Migori</td><td>Health</td><td>2.7257219847500005E9</td><td>1296920</td><td>2101.688604347223</td></tr><tr><td>Kenya</td><td>2022</td><td>Busia</td><td>General public services</td><td>2.265276857E9</td><td>1034241</td><td>2190.2794967517243</td></tr><tr><td>Kenya</td><td>2022</td><td>Busia</td><td>Health</td><td>2.2143934763499994E9</td><td>1034241</td><td>2141.08073103851</td></tr><tr><td>Kenya</td><td>2022</td><td>Vihiga</td><td>Housing and community amenities</td><td>1.556446E7</td><td>659515</td><td>23.59985747102037</td></tr><tr><td>Kenya</td><td>2022</td><td>Kakamega</td><td>Housing and community amenities</td><td>3.068188907E8</td><td>2120889</td><td>144.6652279775132</td></tr><tr><td>Kenya</td><td>2022</td><td>Kajiado</td><td>Education</td><td>7.462191615E8</td><td>1410068</td><td>529.2079257879761</td></tr><tr><td>Kenya</td><td>2022</td><td>Samburu</td><td>Economic affairs</td><td>1.4878618806999998E9</td><td>374075</td><td>3977.4427072111203</td></tr><tr><td>Kenya</td><td>2021</td><td>Bomet</td><td>General public services</td><td>1.1571694976E9</td><td>997889</td><td>1159.617450037028</td></tr><tr><td>Kenya</td><td>2022</td><td>Mombasa</td><td>Health</td><td>2.7236224448000007E9</td><td>1425957</td><td>1910.0312595681362</td></tr><tr><td>Kenya</td><td>2021</td><td>Makueni</td><td>Economic affairs</td><td>3.239173032250001E9</td><td>1108957</td><td>2920.9185137476034</td></tr><tr><td>Kenya</td><td>2021</td><td>Kiambu</td><td>Social protection</td><td>1.1655861025E8</td><td>2863073</td><td>40.711015838576245</td></tr><tr><td>Kenya</td><td>2022</td><td>Samburu</td><td>Housing and community amenities</td><td>3.013170608E8</td><td>374075</td><td>805.4990598142084</td></tr><tr><td>Kenya</td><td>2022</td><td>Makueni</td><td>Health</td><td>3.2511339662E9</td><td>1119367</td><td>2904.4397111939156</td></tr><tr><td>Kenya</td><td>2022</td><td>Wajir</td><td>Social protection</td><td>1.0755976755E8</td><td>910640</td><td>118.1144772357902</td></tr><tr><td>Kenya</td><td>2021</td><td>Vihiga</td><td>Economic affairs</td><td>1.33879345765E9</td><td>656555</td><td>2039.1185165751538</td></tr><tr><td>Kenya</td><td>2022</td><td>Isiolo</td><td>Environmental protection</td><td>7.7008319E7</td><td>351861</td><td>218.86005837532434</td></tr><tr><td>Kenya</td><td>2022</td><td>Wajir</td><td>Environmental protection</td><td>7.71746705E7</td><td>910640</td><td>84.74772742247211</td></tr><tr><td>Kenya</td><td>2021</td><td>Elgeyo Marakwet</td><td>Public order and safety</td><td>9.37482375E7</td><td>519409</td><td>180.49020617663538</td></tr><tr><td>Kenya</td><td>2021</td><td>Busia</td><td>Education</td><td>2.22810213015E9</td><td>1017150</td><td>2190.534464090842</td></tr><tr><td>Kenya</td><td>2021</td><td>Lamu</td><td>Housing and community amenities</td><td>1.043938E7</td><td>168905</td><td>61.806222432728454</td></tr><tr><td>Kenya</td><td>2021</td><td>Trans Nzoia</td><td>Economic affairs</td><td>1.7322913806E9</td><td>1128600</td><td>1534.902871345029</td></tr><tr><td>Kenya</td><td>2021</td><td>Kitui</td><td>Environmental protection</td><td>2.115741455E7</td><td>1276847</td><td>16.570046802788433</td></tr><tr><td>Kenya</td><td>2022</td><td>Kilifi</td><td>Education</td><td>5.436210788E8</td><td>1724586</td><td>315.21830677043647</td></tr><tr><td>Kenya</td><td>2021</td><td>Kirinyaga</td><td>Health</td><td>2.1893765509E9</td><td>689786</td><td>3173.9938921636567</td></tr><tr><td>Kenya</td><td>2022</td><td>Trans Nzoia</td><td>Public order and safety</td><td>1.9686795635E8</td><td>1148366</td><td>171.4331113512591</td></tr><tr><td>Kenya</td><td>2022</td><td>Lamu</td><td>Public order and safety</td><td>9.88856005E7</td><td>174605</td><td>566.3388820480513</td></tr><tr><td>Kenya</td><td>2021</td><td>Mombasa</td><td>Recreation, culture and religion</td><td>3.691187412E8</td><td>1392834</td><td>265.0127303038266</td></tr><tr><td>Kenya</td><td>2021</td><td>Kisumu</td><td>Social protection</td><td>3.886594617E8</td><td>1313476</td><td>295.901456669174</td></tr><tr><td>Kenya</td><td>2022</td><td>Kisumu</td><td>Recreation, culture and religion</td><td>1282390.0</td><td>1334597</td><td>0.960881824251066</td></tr><tr><td>Kenya</td><td>2022</td><td>Nakuru</td><td>General public services</td><td>4.0470810435000005E9</td><td>2586081</td><td>1564.947518465199</td></tr><tr><td>Kenya</td><td>2022</td><td>Baringo</td><td>Public order and safety</td><td>1.6433662525E8</td><td>771440</td><td>213.02580271958934</td></tr><tr><td>Kenya</td><td>2022</td><td>Samburu</td><td>General public services</td><td>1.9118935410999997E9</td><td>374075</td><td>5110.9898846487995</td></tr><tr><td>Kenya</td><td>2022</td><td>Turkana</td><td>Public order and safety</td><td>2.088510801E8</td><td>1080524</td><td>193.28684980620514</td></tr><tr><td>Kenya</td><td>2022</td><td>Mombasa</td><td>Economic affairs</td><td>2.9494820437500005E9</td><td>1425957</td><td>2068.4228512851373</td></tr><tr><td>Kenya</td><td>2021</td><td>Mandera</td><td>Education</td><td>2.74290489115E9</td><td>991914</td><td>2765.2648225047737</td></tr><tr><td>Kenya</td><td>2021</td><td>Kwale</td><td>Housing and community amenities</td><td>3.123427501E8</td><td>1005895</td><td>310.51228020817285</td></tr><tr><td>Kenya</td><td>2021</td><td>Nairobi City</td><td>Social protection</td><td>4.0813170065E8</td><td>5148469</td><td>79.27244014676984</td></tr><tr><td>Kenya</td><td>2021</td><td>Nyandarua</td><td>Public order and safety</td><td>1.8650607819999996E8</td><td>711085</td><td>262.28380320214876</td></tr><tr><td>Kenya</td><td>2022</td><td>Kakamega</td><td>Environmental protection</td><td>3737574.0</td><td>2120889</td><td>1.7622676151368601</td></tr><tr><td>Kenya</td><td>2022</td><td>Laikipia</td><td>Housing and community amenities</td><td>1168325.0</td><td>613653</td><td>1.9038854205878566</td></tr><tr><td>Kenya</td><td>2022</td><td>Kitui</td><td>Education</td><td>7.488302809000001E8</td><td>1289449</td><td>580.7366409218201</td></tr><tr><td>Kenya</td><td>2022</td><td>Kitui</td><td>Environmental protection</td><td>2.108546335E7</td><td>1289449</td><td>16.352305015553156</td></tr><tr><td>Kenya</td><td>2022</td><td>Meru</td><td>Environmental protection</td><td>1.1531075E7</td><td>1762084</td><td>6.543998469993485</td></tr><tr><td>Kenya</td><td>2021</td><td>Vihiga</td><td>Health</td><td>1.63789351115E9</td><td>656555</td><td>2494.67829983779</td></tr><tr><td>Kenya</td><td>2022</td><td>Bomet</td><td>General public services</td><td>1.18192584655E9</td><td>1015337</td><td>1164.0724671217536</td></tr><tr><td>Kenya</td><td>2022</td><td>Bomet</td><td>Social protection</td><td>5.39894758E7</td><td>1015337</td><td>53.17394697524073</td></tr><tr><td>Kenya</td><td>2022</td><td>Turkana</td><td>Recreation, culture and religion</td><td>5.898119E7</td><td>1080524</td><td>54.585728776038295</td></tr><tr><td>Kenya</td><td>2022</td><td>Nyeri</td><td>Health</td><td>2.741090431750001E9</td><td>855511</td><td>3204.038792896878</td></tr><tr><td>Kenya</td><td>2021</td><td>Tana River</td><td>Public order and safety</td><td>7.735595575E7</td><td>365734</td><td>211.50878985820296</td></tr><tr><td>Kenya</td><td>2021</td><td>Tharaka Nithi</td><td>General public services</td><td>1.1472338665E9</td><td>438471</td><td>2616.4418319569595</td></tr><tr><td>Kenya</td><td>2021</td><td>Kirinyaga</td><td>General public services</td><td>1.8396842106E9</td><td>689786</td><td>2667.036168608815</td></tr><tr><td>Kenya</td><td>2022</td><td>Elgeyo Marakwet</td><td>Economic affairs</td><td>2.1115539495500002E9</td><td>529318</td><td>3989.1973247650753</td></tr><tr><td>Kenya</td><td>2021</td><td>Nairobi City</td><td>Economic affairs</td><td>3.9366425652000003E9</td><td>5148469</td><td>764.6239231895929</td></tr><tr><td>Kenya</td><td>2022</td><td>Murang’A</td><td>Social protection</td><td>2.169833326E8</td><td>1198892</td><td>180.98655475222122</td></tr><tr><td>Kenya</td><td>2021</td><td>Lamu</td><td>Environmental protection</td><td>7204433.65</td><td>168905</td><td>42.653761877978745</td></tr><tr><td>Kenya</td><td>2021</td><td>Kisii</td><td>Environmental protection</td><td>1999990.0</td><td>1418331</td><td>1.4101010271932293</td></tr><tr><td>Kenya</td><td>2022</td><td>Nairobi City</td><td>Education</td><td>8.2464490535E8</td><td>5315616</td><td>155.1362824835353</td></tr><tr><td>Kenya</td><td>2022</td><td>Vihiga</td><td>Recreation, culture and religion</td><td>1.6348635E7</td><td>659515</td><td>24.788875158260236</td></tr><tr><td>Kenya</td><td>2022</td><td>Taita Taveta</td><td>Economic affairs</td><td>1.11588340165E9</td><td>393839</td><td>2833.349164633264</td></tr><tr><td>Kenya</td><td>2021</td><td>Mombasa</td><td>Social protection</td><td>3.1640717615000004E8</td><td>1392834</td><td>227.16790094871322</td></tr><tr><td>Kenya</td><td>2022</td><td>Kiambu</td><td>Social protection</td><td>8.682536125E7</td><td>2974081</td><td>29.194013629756554</td></tr><tr><td>Kenya</td><td>2022</td><td>Embu</td><td>Social protection</td><td>3.92558636E7</td><td>700557</td><td>56.03521712009159</td></tr><tr><td>Kenya</td><td>2022</td><td>Kilifi</td><td>Public order and safety</td><td>2.595412625E8</td><td>1724586</td><td>150.4948216557481</td></tr><tr><td>Kenya</td><td>2022</td><td>Kajiado</td><td>Environmental protection</td><td>1.597704056E8</td><td>1410068</td><td>113.30687995188885</td></tr><tr><td>Kenya</td><td>2022</td><td>Laikipia</td><td>General public services</td><td>4.369170901000001E9</td><td>613653</td><td>7119.937327773189</td></tr><tr><td>Kenya</td><td>2022</td><td>Taita Taveta</td><td>Public order and safety</td><td>2.2597714795E8</td><td>393839</td><td>573.7805244021034</td></tr><tr><td>Kenya</td><td>2022</td><td>Makueni</td><td>Education</td><td>6.869815337999998E8</td><td>1119367</td><td>613.7232326841865</td></tr><tr><td>Kenya</td><td>2022</td><td>Isiolo</td><td>Economic affairs</td><td>1.10552834695E9</td><td>351861</td><td>3141.9462428345287</td></tr><tr><td>Kenya</td><td>2021</td><td>Taita Taveta</td><td>Social protection</td><td>6.310621415E7</td><td>387471</td><td>162.86693494480878</td></tr><tr><td>Kenya</td><td>2021</td><td>Homa Bay</td><td>Social protection</td><td>2.1048098E7</td><td>1282963</td><td>16.405849584126745</td></tr><tr><td>Kenya</td><td>2021</td><td>Busia</td><td>Environmental protection</td><td>1.650296E7</td><td>1017150</td><td>16.22470628717495</td></tr><tr><td>Kenya</td><td>2022</td><td>Marsabit</td><td>Health</td><td>1.68765698415E9</td><td>575225</td><td>2933.9075738189404</td></tr><tr><td>Kenya</td><td>2022</td><td>Kiambu</td><td>Environmental protection</td><td>2.680627298E8</td><td>2974081</td><td>90.13296201414823</td></tr><tr><td>Kenya</td><td>2021</td><td>Kwale</td><td>Education</td><td>1.9486927808000004E9</td><td>1005895</td><td>1937.2725590643163</td></tr><tr><td>Kenya</td><td>2021</td><td>Isiolo</td><td>Economic affairs</td><td>1.10366588695E9</td><td>331083</td><td>3333.50213375498</td></tr><tr><td>Kenya</td><td>2022</td><td>Bungoma</td><td>Housing and community amenities</td><td>2958251.0</td><td>1939588</td><td>1.5251955569945783</td></tr><tr><td>Kenya</td><td>2022</td><td>Laikipia</td><td>Education</td><td>8.883784099999999E7</td><td>613653</td><td>144.76885308146458</td></tr><tr><td>Kenya</td><td>2022</td><td>Uasin Gishu</td><td>Health</td><td>2.61622361995E9</td><td>1377083</td><td>1899.8300174717135</td></tr><tr><td>Kenya</td><td>2022</td><td>Homa Bay</td><td>Economic affairs</td><td>2.7220085765E9</td><td>1301586</td><td>2091.3013634903878</td></tr><tr><td>Kenya</td><td>2022</td><td>Kisumu</td><td>Education</td><td>4.3123918465E8</td><td>1334597</td><td>323.12314852348686</td></tr><tr><td>Kenya</td><td>2022</td><td>West Pokot</td><td>Health</td><td>2.243400646450001E9</td><td>720744</td><td>3112.617859392518</td></tr><tr><td>Kenya</td><td>2022</td><td>Tharaka Nithi</td><td>General public services</td><td>1.36920390115E9</td><td>440960</td><td>3105.0523883118653</td></tr><tr><td>Kenya</td><td>2021</td><td>Mombasa</td><td>Health</td><td>2.95609999185E9</td><td>1392834</td><td>2122.363463162157</td></tr><tr><td>Kenya</td><td>2021</td><td>Makueni</td><td>Environmental protection</td><td>1.2982880714999999E8</td><td>1108957</td><td>117.0728956578118</td></tr><tr><td>Kenya</td><td>2022</td><td>Trans Nzoia</td><td>Housing and community amenities</td><td>8579322.0</td><td>1148366</td><td>7.470895167568528</td></tr><tr><td>Kenya</td><td>2022</td><td>Turkana</td><td>Environmental protection</td><td>8914738.0</td><td>1080524</td><td>8.250384072912771</td></tr><tr><td>Kenya</td><td>2021</td><td>Narok</td><td>Economic affairs</td><td>1.2710376092E9</td><td>1348631</td><td>942.46506954089</td></tr><tr><td>Kenya</td><td>2021</td><td>Tana River</td><td>Social protection</td><td>9.699490535E7</td><td>365734</td><td>265.20614804748806</td></tr><tr><td>Kenya</td><td>2021</td><td>Tharaka Nithi</td><td>Environmental protection</td><td>3093090.0</td><td>438471</td><td>7.054263565891473</td></tr><tr><td>Kenya</td><td>2022</td><td>Narok</td><td>Housing and community amenities</td><td>4.80745375E7</td><td>1388474</td><td>34.62400988423262</td></tr><tr><td>Kenya</td><td>2021</td><td>Kisumu</td><td>Public order and safety</td><td>6.1732714495E8</td><td>1313476</td><td>469.9949941605328</td></tr><tr><td>Kenya</td><td>2021</td><td>Vihiga</td><td>Recreation, culture and religion</td><td>1.79835122E7</td><td>656555</td><td>27.390717000099002</td></tr><tr><td>Kenya</td><td>2022</td><td>Nyamira</td><td>Social protection</td><td>2.3083949605E8</td><td>667345</td><td>345.90728341412614</td></tr><tr><td>Kenya</td><td>2022</td><td>Nyeri</td><td>Recreation, culture and religion</td><td>2059798.55</td><td>855511</td><td>2.407682133835801</td></tr><tr><td>Kenya</td><td>2022</td><td>Busia</td><td>Public order and safety</td><td>2.011420175E8</td><td>1034241</td><td>194.48273419831548</td></tr><tr><td>Kenya</td><td>2022</td><td>Narok</td><td>General public services</td><td>3.6442097912E9</td><td>1388474</td><td>2624.615074679108</td></tr><tr><td>Kenya</td><td>2022</td><td>Uasin Gishu</td><td>Housing and community amenities</td><td>1.5950914E7</td><td>1377083</td><td>11.583117357486804</td></tr><tr><td>Kenya</td><td>2022</td><td>Lamu</td><td>Economic affairs</td><td>1.3032406921999996E9</td><td>174605</td><td>7463.93684144211</td></tr><tr><td>Kenya</td><td>2021</td><td>Marsabit</td><td>Public order and safety</td><td>1.732352405E8</td><td>550487</td><td>314.6945168550756</td></tr><tr><td>Kenya</td><td>2021</td><td>Nakuru</td><td>Public order and safety</td><td>6.452437836500002E8</td><td>2514149</td><td>256.64500538750895</td></tr><tr><td>Kenya</td><td>2022</td><td>Taita Taveta</td><td>Education</td><td>1.3755262955E8</td><td>393839</td><td>349.26106746665516</td></tr><tr><td>Kenya</td><td>2022</td><td>Vihiga</td><td>General public services</td><td>1.9782513130500002E9</td><td>659515</td><td>2999.5546925392146</td></tr><tr><td>Kenya</td><td>2022</td><td>Nakuru</td><td>Social protection</td><td>9.103868977499999E8</td><td>2586081</td><td>352.0334041161123</td></tr><tr><td>Kenya</td><td>2021</td><td>Laikipia</td><td>General public services</td><td>4.379626046799999E9</td><td>598812</td><td>7313.85818387073</td></tr><tr><td>Kenya</td><td>2021</td><td>Busia</td><td>Social protection</td><td>3.2374376390000004E8</td><td>1017150</td><td>318.28517317996364</td></tr><tr><td>Kenya</td><td>2022</td><td>Nandi</td><td>Social protection</td><td>7.35105028E7</td><td>1018897</td><td>72.14713832703403</td></tr><tr><td>Kenya</td><td>2022</td><td>Trans Nzoia</td><td>Education</td><td>4.6608627655E8</td><td>1148366</td><td>405.8691014450097</td></tr><tr><td>Kenya</td><td>2022</td><td>Taita Taveta</td><td>Housing and community amenities</td><td>1118338.0</td><td>393839</td><td>2.839581656463682</td></tr><tr><td>Kenya</td><td>2021</td><td>Elgeyo Marakwet</td><td>Education</td><td>1.1051222032499998E9</td><td>519409</td><td>2127.6531659058655</td></tr><tr><td>Kenya</td><td>2021</td><td>Taita Taveta</td><td>General public services</td><td>3.5178238058E9</td><td>387471</td><td>9078.934438448297</td></tr><tr><td>Kenya</td><td>2021</td><td>Tana River</td><td>Housing and community amenities</td><td>4585285.0</td><td>365734</td><td>12.537212837745466</td></tr><tr><td>Kenya</td><td>2021</td><td>Kilifi</td><td>Environmental protection</td><td>1.5649655945E8</td><td>1681452</td><td>93.07227292245035</td></tr><tr><td>Kenya</td><td>2021</td><td>Mandera</td><td>Health</td><td>5.26091818E8</td><td>991914</td><td>530.380474516944</td></tr><tr><td>Kenya</td><td>2022</td><td>Nairobi City</td><td>Health</td><td>7.7520872E7</td><td>5315616</td><td>14.583610253261334</td></tr><tr><td>Kenya</td><td>2022</td><td>Kericho</td><td>Education</td><td>5.723193438E8</td><td>1040591</td><td>549.9945163854002</td></tr><tr><td>Kenya</td><td>2022</td><td>Embu</td><td>Health</td><td>2.2639661081499996E9</td><td>700557</td><td>3231.6658147017297</td></tr><tr><td>Kenya</td><td>2021</td><td>Marsabit</td><td>Housing and community amenities</td><td>5.763438954E8</td><td>550487</td><td>1046.970946452868</td></tr><tr><td>Kenya</td><td>2021</td><td>Turkana</td><td>Recreation, culture and religion</td><td>5.85692794E7</td><td>1059990</td><td>55.25455843923056</td></tr><tr><td>Kenya</td><td>2022</td><td>Nyamira</td><td>Economic affairs</td><td>2.1015074443499997E9</td><td>667345</td><td>3149.057001026455</td></tr><tr><td>Kenya</td><td>2022</td><td>West Pokot</td><td>Education</td><td>9.898723885E8</td><td>720744</td><td>1373.403578108177</td></tr><tr><td>Kenya</td><td>2022</td><td>Isiolo</td><td>Social protection</td><td>1.758158045E7</td><td>351861</td><td>49.96740317909629</td></tr><tr><td>Kenya</td><td>2022</td><td>Garissa</td><td>Environmental protection</td><td>1500000.0</td><td>1134954</td><td>1.3216394673264291</td></tr><tr><td>Kenya</td><td>2022</td><td>Garissa</td><td>Health</td><td>2.2703240434E9</td><td>1134954</td><td>2000.3665729183738</td></tr><tr><td>Kenya</td><td>2021</td><td>Nyeri</td><td>General public services</td><td>2.3578703851E9</td><td>849245</td><td>2776.431283198606</td></tr><tr><td>Kenya</td><td>2021</td><td>Machakos</td><td>Social protection</td><td>5.89015058E8</td><td>1640927</td><td>358.9526273868368</td></tr><tr><td>Kenya</td><td>2021</td><td>Machakos</td><td>Health</td><td>3.29261740335E9</td><td>1640927</td><td>2006.559343194426</td></tr><tr><td>Kenya</td><td>2021</td><td>Nyandarua</td><td>Health</td><td>8.25658909E8</td><td>711085</td><td>1161.1254758573166</td></tr><tr><td>Kenya</td><td>2021</td><td>Samburu</td><td>Environmental protection</td><td>1.85843723E7</td><td>362681</td><td>51.24164844587944</td></tr><tr><td>Kenya</td><td>2022</td><td>Baringo</td><td>General public services</td><td>4.683786673349999E9</td><td>771440</td><td>6071.485369374157</td></tr><tr><td>Kenya</td><td>2022</td><td>Trans Nzoia</td><td>General public services</td><td>3.40439808715E9</td><td>1148366</td><td>2964.5584135632716</td></tr><tr><td>Kenya</td><td>2022</td><td>Marsabit</td><td>General public services</td><td>4.3470927327E9</td><td>575225</td><td>7557.2041074362205</td></tr><tr><td>Kenya</td><td>2021</td><td>Embu</td><td>Public order and safety</td><td>2.219383199E8</td><td>690267</td><td>321.52532266499776</td></tr><tr><td>Kenya</td><td>2021</td><td>Kirinyaga</td><td>Public order and safety</td><td>2.0885835595000002E8</td><td>689786</td><td>302.78717739994727</td></tr><tr><td>Kenya</td><td>2021</td><td>Lamu</td><td>General public services</td><td>8.848893874E8</td><td>168905</td><td>5238.976865101684</td></tr><tr><td>Kenya</td><td>2021</td><td>Laikipia</td><td>Economic affairs</td><td>1.2696501937E9</td><td>598812</td><td>2120.281814158701</td></tr><tr><td>Kenya</td><td>2021</td><td>Isiolo</td><td>Environmental protection</td><td>1.21429E7</td><td>331083</td><td>36.67630171286354</td></tr></tbody></table></div>"
      ]
     },
     "metadata": {
      "application/vnd.databricks.v1+output": {
       "addedWidgets": {},
       "aggData": [],
       "aggError": "",
       "aggOverflow": false,
       "aggSchema": [],
       "aggSeriesLimitReached": false,
       "aggType": "",
       "arguments": {},
       "columnCustomDisplayInfos": {},
       "data": [
        [
         "Kenya",
         2016,
         "Tharaka Nithi",
         "Education",
         7485580,
         423626,
         17.6702563109913
        ],
        [
         "Kenya",
         2016,
         "Murang’A",
         "Education",
         201831546.95000002,
         1123956,
         179.5724627565492
        ],
        [
         "Kenya",
         2016,
         "Kisii",
         "Health",
         2465505239.15,
         1355863,
         1818.4029206121859
        ],
        [
         "Kenya",
         2017,
         "Turkana",
         "Education",
         517862834.55,
         977164,
         529.9651179842892
        ],
        [
         "Kenya",
         2018,
         "Kitui",
         "Housing and community amenities",
         232698247.65000004,
         1236405,
         188.20552137042478
        ],
        [
         "Kenya",
         2018,
         "Siaya",
         "Health",
         1600953117.8499997,
         1074637,
         1489.7617687181807
        ],
        [
         "Kenya",
         2018,
         "Uasin Gishu",
         "Education",
         736232645.45,
         1244465,
         591.6057466059713
        ],
        [
         "Kenya",
         2019,
         "West Pokot",
         "Environmental protection",
         12143635,
         682913,
         17.78211133775459
        ],
        [
         "Kenya",
         2019,
         "Laikipia",
         "Education",
         141331865,
         569446,
         248.19186542709932
        ],
        [
         "Kenya",
         2020,
         "Meru",
         "Education",
         1037800585,
         1721672,
         602.7864686188775
        ],
        [
         "Kenya",
         2020,
         "Trans Nzoia",
         "General public services",
         1643356571,
         1108719,
         1482.2119680460062
        ],
        [
         "Kenya",
         2016,
         "Turkana",
         "Education",
         473351880.9,
         957176,
         494.5296172281795
        ],
        [
         "Kenya",
         2017,
         "Baringo",
         "Recreation, culture and religion",
         102121703.80000001,
         706821,
         144.48029104964343
        ],
        [
         "Kenya",
         2017,
         "Kajiado",
         "Education",
         511431485.29999995,
         1110272,
         460.6362092352144
        ],
        [
         "Kenya",
         2017,
         "Marsabit",
         "Public order and safety",
         147526843.20000002,
         459531,
         321.0378477186523
        ],
        [
         "Kenya",
         2018,
         "Mombasa",
         "Economic affairs",
         3394732229.2499986,
         1294431,
         2622.56715827263
        ],
        [
         "Kenya",
         2018,
         "Baringo",
         "Health",
         2183276875.45,
         719983,
         3032.400592027867
        ],
        [
         "Kenya",
         2018,
         "Homa Bay",
         "Health",
         2312308164.0499997,
         1225341,
         1887.073201704668
        ],
        [
         "Kenya",
         2018,
         "Kisii",
         "Education",
         173444148.4,
         1381816,
         125.51898979314178
        ],
        [
         "Kenya",
         2018,
         "Mandera",
         "Social protection",
         127292468.9,
         933865,
         136.30714171748593
        ],
        [
         "Kenya",
         2019,
         "West Pokot",
         "Economic affairs",
         1589130410,
         682913,
         2326.9880790086
        ],
        [
         "Kenya",
         2020,
         "Makueni",
         "Recreation, culture and religion",
         257838125,
         1098172,
         234.788471204875
        ],
        [
         "Kenya",
         2020,
         "Kisii",
         "Health",
         844597390,
         1406733,
         600.3963723037705
        ],
        [
         "Kenya",
         2016,
         "Kitui",
         "Recreation, culture and religion",
         176335686.99999997,
         1208265,
         145.94123557332205
        ],
        [
         "Kenya",
         2016,
         "Uasin Gishu",
         "Education",
         555886382.5,
         1180687,
         470.8160439642344
        ],
        [
         "Kenya",
         2017,
         "Nakuru",
         "Economic affairs",
         3201264132.6,
         2235441,
         1432.0503795895306
        ],
        [
         "Kenya",
         2017,
         "Migori",
         "Education",
         246176179.2,
         1179905,
         208.64067802068809
        ],
        [
         "Kenya",
         2019,
         "Turkana",
         "Environmental protection",
         603539098,
         1018738,
         592.4379948524547
        ],
        [
         "Kenya",
         2019,
         "Vihiga",
         "Economic affairs",
         1947085277.05,
         649836,
         2996.2717932678397
        ],
        [
         "Kenya",
         2020,
         "Kilifi",
         "Social protection",
         217632096,
         1638699,
         132.80785305904257
        ],
        [
         "Kenya",
         2020,
         "Lamu",
         "Education",
         487816875,
         163321,
         2986.85946693934
        ],
        [
         "Kenya",
         2020,
         "Samburu",
         "General public services",
         1983618087,
         351475,
         5643.696100718401
        ],
        [
         "Kenya",
         2020,
         "Kajiado",
         "Environmental protection",
         211620956,
         1283417,
         164.88869634732905
        ],
        [
         "Kenya",
         2020,
         "Tana River",
         "Public order and safety",
         106145036,
         356274,
         297.9309071108192
        ],
        [
         "Kenya",
         2020,
         "Kiambu",
         "Social protection",
         69123969,
         2754995,
         25.090415409102377
        ],
        [
         "Kenya",
         2016,
         "Makueni",
         "Education",
         370104943.05,
         1051888,
         351.8482414952923
        ],
        [
         "Kenya",
         2016,
         "Nyeri",
         "Housing and community amenities",
         237279142.85,
         813608,
         291.6381634030147
        ],
        [
         "Kenya",
         2016,
         "Laikipia",
         "Health",
         130232125.5,
         526607,
         247.30420503335503
        ],
        [
         "Kenya",
         2017,
         "Trans Nzoia",
         "Health",
         2201002192.4,
         1048071,
         2100.0506572550908
        ],
        [
         "Kenya",
         2017,
         "Uasin Gishu",
         "Housing and community amenities",
         280441205.4499999,
         1211922,
         231.40202541912757
        ],
        [
         "Kenya",
         2017,
         "Baringo",
         "Health",
         2182871515.75,
         706821,
         3088.294654162794
        ],
        [
         "Kenya",
         2017,
         "Turkana",
         "Public order and safety",
         164017584,
         977164,
         167.8506207760417
        ],
        [
         "Kenya",
         2018,
         "Lamu",
         "Social protection",
         18423406.95,
         152464,
         120.83775153478854
        ],
        [
         "Kenya",
         2018,
         "Nyandarua",
         "General public services",
         2257106440.600001,
         698341,
         3232.0978441764137
        ],
        [
         "Kenya",
         2018,
         "Bungoma",
         "Recreation, culture and religion",
         75293781.85,
         1801381,
         41.79781059642574
        ],
        [
         "Kenya",
         2018,
         "Elgeyo Marakwet",
         "Recreation, culture and religion",
         28677963.249999996,
         489448,
         58.59246181412529
        ],
        [
         "Kenya",
         2019,
         "Turkana",
         "Education",
         1008146859.4,
         1018738,
         989.603665908212
        ],
        [
         "Kenya",
         2019,
         "Nandi",
         "Housing and community amenities",
         101978214,
         974055,
         104.69451314350832
        ],
        [
         "Kenya",
         2020,
         "Mandera",
         "Health",
         800620166,
         972652,
         823.1311568783079
        ],
        [
         "Kenya",
         2020,
         "Turkana",
         "General public services",
         7222894954,
         1039404,
         6949.073655671904
        ],
        [
         "Kenya",
         2020,
         "Elgeyo Marakwet",
         "Health",
         2141055678,
         509480,
         4202.433222108817
        ],
        [
         "Kenya",
         2020,
         "Bungoma",
         "Economic affairs",
         3698900239.3,
         1870968,
         1976.9981310743958
        ],
        [
         "Kenya",
         2016,
         "Machakos",
         "Health",
         2610319260.3500004,
         1445601,
         1805.698294584744
        ],
        [
         "Kenya",
         2016,
         "Uasin Gishu",
         "Economic affairs",
         1751342665.8999999,
         1180687,
         1483.3251030120598
        ],
        [
         "Kenya",
         2016,
         "Kajiado",
         "Recreation, culture and religion",
         15748388,
         1057819,
         14.887601754175336
        ],
        [
         "Kenya",
         2017,
         "Garissa",
         "Economic affairs",
         1374903587.1500003,
         935777,
         1469.2641378768662
        ],
        [
         "Kenya",
         2019,
         "Tharaka Nithi",
         "General public services",
         1087523137,
         432967,
         2511.792208182148
        ],
        [
         "Kenya",
         2020,
         "Turkana",
         "Economic affairs",
         3268662269.35,
         1039404,
         3144.746671505978
        ],
        [
         "Kenya",
         2020,
         "Baringo",
         "Education",
         675666755.15,
         745967,
         905.7595780376344
        ],
        [
         "Kenya",
         2016,
         "Mandera",
         "Housing and community amenities",
         98047553.45,
         895698,
         109.4649686054898
        ],
        [
         "Kenya",
         2016,
         "Kitui",
         "General public services",
         2975130854.35,
         1208265,
         2462.3165070162586
        ],
        [
         "Kenya",
         2016,
         "Uasin Gishu",
         "Housing and community amenities",
         221094292.20000002,
         1180687,
         187.25902140025258
        ],
        [
         "Kenya",
         2017,
         "Bomet",
         "Health",
         824922567.4,
         926793,
         890.0828635952149
        ],
        [
         "Kenya",
         2017,
         "Busia",
         "Social protection",
         116259484.15,
         947172,
         122.7437932603582
        ],
        [
         "Kenya",
         2019,
         "Bungoma",
         "General public services",
         3235397764,
         1836335,
         1761.8777423509327
        ],
        [
         "Kenya",
         2019,
         "Kirinyaga",
         "Public order and safety",
         328112447.00000006,
         671452,
         488.6610614012618
        ],
        [
         "Kenya",
         2016,
         "Meru",
         "Housing and community amenities",
         106236568.75,
         1635681,
         64.94944231179552
        ],
        [
         "Kenya",
         2016,
         "Bungoma",
         "Recreation, culture and religion",
         85943671.5,
         1732560,
         49.605018873805236
        ],
        [
         "Kenya",
         2016,
         "Nairobi City",
         "Education",
         209173878.7,
         4360681,
         47.968167976515595
        ],
        [
         "Kenya",
         2017,
         "Makueni",
         "Housing and community amenities",
         657969469.1999999,
         1063357,
         618.7662931640078
        ],
        [
         "Kenya",
         2017,
         "Bungoma",
         "General public services",
         4227186282.899999,
         1766291,
         2393.2558581230383
        ],
        [
         "Kenya",
         2018,
         "Kitui",
         "Environmental protection",
         126498318.85000001,
         1236405,
         102.31139379895747
        ],
        [
         "Kenya",
         2020,
         "Kilifi",
         "Economic affairs",
         3503535880.5,
         1638699,
         2137.9984246649324
        ],
        [
         "Kenya",
         2020,
         "Kitui",
         "General public services",
         2846700477,
         1263831,
         2252.437609933607
        ],
        [
         "Kenya",
         2016,
         "Isiolo",
         "Education",
         179576592.95,
         242687,
         739.9514310614082
        ],
        [
         "Kenya",
         2016,
         "Vihiga",
         "Economic affairs",
         919573231.1500002,
         638039,
         1441.249251456416
        ],
        [
         "Kenya",
         2017,
         "West Pokot",
         "General public services",
         2127687327.4000006,
         657207,
         3237.469058302788
        ],
        [
         "Kenya",
         2017,
         "Kajiado",
         "General public services",
         1558476098.7500007,
         1110272,
         1403.6885544713375
        ],
        [
         "Kenya",
         2018,
         "Narok",
         "General public services",
         2303944600.7999988,
         1232410,
         1869.4627606072645
        ],
        [
         "Kenya",
         2018,
         "Busia",
         "Recreation, culture and religion",
         116289609.9,
         964898,
         120.52010668485167
        ],
        [
         "Kenya",
         2019,
         "Kwale",
         "Social protection",
         271622754,
         951518,
         285.4625493159352
        ],
        [
         "Kenya",
         2019,
         "Meru",
         "Environmental protection",
         849114691,
         1700686,
         499.2777567405153
        ],
        [
         "Kenya",
         2019,
         "Uasin Gishu",
         "Recreation, culture and religion",
         227673845.6,
         1277307,
         178.24520307177522
        ],
        [
         "Kenya",
         2019,
         "Siaya",
         "General public services",
         1999361021,
         1092216,
         1830.55459817472
        ],
        [
         "Kenya",
         2020,
         "Mombasa",
         "Education",
         697173772,
         1359896,
         512.666977474748
        ],
        [
         "Kenya",
         2020,
         "Bomet",
         "Education",
         97132580,
         980330,
         99.08151336794752
        ],
        [
         "Kenya",
         2016,
         "Baringo",
         "General public services",
         1129792237.2,
         694159,
         1627.5698178659356
        ],
        [
         "Kenya",
         2016,
         "Taita Taveta",
         "Public order and safety",
         73919882.8,
         354986,
         208.23323398669243
        ],
        [
         "Kenya",
         2017,
         "Nyeri",
         "Public order and safety",
         1064561079.1,
         820838,
         1296.9198296131515
        ],
        [
         "Kenya",
         2018,
         "Lamu",
         "Education",
         164440476.7,
         152464,
         1078.552817058453
        ],
        [
         "Kenya",
         2018,
         "Taita Taveta",
         "Education",
         142146983,
         367982,
         386.2878700588616
        ],
        [
         "Kenya",
         2018,
         "Kiambu",
         "Education",
         1279102792.1,
         2546938,
         502.2119863538099
        ],
        [
         "Kenya",
         2018,
         "Meru",
         "Environmental protection",
         841669618.2,
         1679035,
         501.28175898656076
        ],
        [
         "Kenya",
         2020,
         "Kitui",
         "Economic affairs",
         3474215007.8,
         1263831,
         2748.9553649182526
        ],
        [
         "Kenya",
         2020,
         "Uasin Gishu",
         "Health",
         2237423342,
         1310340,
         1707.5135781552879
        ],
        [
         "Kenya",
         2020,
         "Narok",
         "Recreation, culture and religion",
         443497670,
         1309378,
         338.70866166989214
        ],
        [
         "Kenya",
         2017,
         "Wajir",
         "Environmental protection",
         135456510.05,
         823531,
         164.4825878442949
        ],
        [
         "Kenya",
         2019,
         "Nyeri",
         "Education",
         630849379.1,
         835770,
         754.81218409371
        ],
        [
         "Kenya",
         2019,
         "Vihiga",
         "Education",
         771324574,
         649836,
         1186.952668057787
        ],
        [
         "Kenya",
         2020,
         "Mombasa",
         "Recreation, culture and religion",
         384159292,
         1359896,
         282.4916699512316
        ],
        [
         "Kenya",
         2020,
         "Trans Nzoia",
         "Social protection",
         66111358,
         1108719,
         59.62859660563227
        ],
        [
         "Kenya",
         2020,
         "Kakamega",
         "Social protection",
         55160535,
         2077815,
         26.547375488193126
        ],
        [
         "Kenya",
         2016,
         "Kiambu",
         "Housing and community amenities",
         196953645.5,
         2352106,
         83.73502108323349
        ],
        [
         "Kenya",
         2018,
         "Nakuru",
         "Education",
         423586615.04999995,
         2303736,
         183.8694255982456
        ],
        [
         "Kenya",
         2020,
         "Kirinyaga",
         "Recreation, culture and religion",
         40617308,
         680714,
         59.668683176782025
        ],
        [
         "Kenya",
         2020,
         "Uasin Gishu",
         "Recreation, culture and religion",
         341259282,
         1310340,
         260.4356747103805
        ],
        [
         "Kenya",
         2016,
         "Kwale",
         "Economic affairs",
         1290948448.199999,
         872981,
         1478.7818385508954
        ],
        [
         "Kenya",
         2017,
         "Uasin Gishu",
         "General public services",
         1455885089.3,
         1211922,
         1201.302632760194
        ],
        [
         "Kenya",
         2018,
         "Homa Bay",
         "Economic affairs",
         2044883708.2,
         1225341,
         1668.8282757207994
        ],
        [
         "Kenya",
         2018,
         "Nyamira",
         "Social protection",
         72428185.5,
         666829,
         108.6158302953231
        ],
        [
         "Kenya",
         2018,
         "Makueni",
         "Health",
         2358925073.8999996,
         1075366,
         2193.602060972729
        ],
        [
         "Kenya",
         2018,
         "Nyeri",
         "Public order and safety",
         836953439.5,
         828455,
         1010.2581787785698
        ],
        [
         "Kenya",
         2018,
         "Kakamega",
         "Recreation, culture and religion",
         255522141.65,
         2031790,
         125.76208252329228
        ],
        [
         "Kenya",
         2019,
         "Mandera",
         "Social protection",
         47366605.5,
         953313,
         49.686310267456754
        ],
        [
         "Kenya",
         2016,
         "Garissa",
         "Health",
         1008816435.65,
         899835,
         1121.1126880483644
        ],
        [
         "Kenya",
         2016,
         "Embu",
         "Recreation, culture and religion",
         146350,
         637167,
         0.22968860596986349
        ],
        [
         "Kenya",
         2017,
         "Nyeri",
         "Education",
         429264629.5499999,
         820838,
         522.9590120705911
        ],
        [
         "Kenya",
         2017,
         "Embu",
         "Housing and community amenities",
         201148,
         647624,
         0.31059380134151915
        ],
        [
         "Kenya",
         2018,
         "Nyeri",
         "General public services",
         1935951234.3000004,
         828455,
         2336.8212326559687
        ],
        [
         "Kenya",
         2018,
         "Kirinyaga",
         "Housing and community amenities",
         3748226,
         661961,
         5.662306389651354
        ],
        [
         "Kenya",
         2018,
         "Elgeyo Marakwet",
         "Social protection",
         42503780.900000006,
         489448,
         86.84023818669196
        ],
        [
         "Kenya",
         2018,
         "Kwale",
         "Public order and safety",
         105806554.25,
         924747,
         114.4167585836991
        ],
        [
         "Kenya",
         2020,
         "Machakos",
         "General public services",
         1954511200,
         1601135,
         1220.7035634097062
        ],
        [
         "Kenya",
         2020,
         "Kericho",
         "General public services",
         1690047141,
         1008092,
         1676.4810562924813
        ],
        [
         "Kenya",
         2020,
         "Vihiga",
         "Economic affairs",
         1682594914.3,
         653324,
         2575.437170990198
        ],
        [
         "Kenya",
         2020,
         "Busia",
         "Education",
         506668629.4,
         999906,
         506.7162607285085
        ],
        [
         "Kenya",
         2016,
         "Nakuru",
         "Education",
         820073216.05,
         2170005,
         377.9130536795998
        ],
        [
         "Kenya",
         2016,
         "Murang’A",
         "Housing and community amenities",
         0,
         1123956,
         0
        ],
        [
         "Kenya",
         2018,
         "Garissa",
         "Housing and community amenities",
         512379466.9,
         973522,
         526.315241874349
        ],
        [
         "Kenya",
         2018,
         "Kiambu",
         "Recreation, culture and religion",
         64486454.2,
         2546938,
         25.319208477002583
        ],
        [
         "Kenya",
         2019,
         "Meru",
         "Education",
         1089905662,
         1700686,
         640.862370831535
        ],
        [
         "Kenya",
         2019,
         "Machakos",
         "Housing and community amenities",
         1363551698,
         1561560,
         873.1984028791721
        ],
        [
         "Kenya",
         2019,
         "Kisumu",
         "Economic affairs",
         4124519405.8500004,
         1270584,
         3246.1603529164545
        ],
        [
         "Kenya",
         2020,
         "Embu",
         "General public services",
         1293147783,
         679843,
         1902.1270837531606
        ],
        [
         "Kenya",
         2020,
         "Kericho",
         "Public order and safety",
         204203071.7,
         1008092,
         202.56392442356452
        ],
        [
         "Kenya",
         2016,
         "Kwale",
         "Social protection",
         269528248.54999995,
         872981,
         308.74469037699555
        ],
        [
         "Kenya",
         2016,
         "Vihiga",
         "Health",
         752064369.2499999,
         638039,
         1178.7122248796702
        ],
        [
         "Kenya",
         2017,
         "Nandi",
         "Education",
         446216685.9,
         942976,
         473.2004694711212
        ],
        [
         "Kenya",
         2017,
         "Nyamira",
         "Education",
         455395392.45,
         665887,
         683.8929014232144
        ],
        [
         "Kenya",
         2019,
         "Mombasa",
         "Health",
         2533629727,
         1327105,
         1909.1403671902374
        ],
        [
         "Kenya",
         2020,
         "Baringo",
         "Health",
         2402873606,
         745967,
         3221.152686378888
        ],
        [
         "Kenya",
         2016,
         "Meru",
         "Health",
         1867727757.5,
         1635681,
         1141.8655333772294
        ],
        [
         "Kenya",
         2016,
         "Nandi",
         "Public order and safety",
         15663725,
         927962,
         16.87970520344583
        ],
        [
         "Kenya",
         2017,
         "Kirinyaga",
         "Recreation, culture and religion",
         216018188.75,
         652302,
         331.1628490331166
        ],
        [
         "Kenya",
         2018,
         "Baringo",
         "Housing and community amenities",
         115330280.70000002,
         719983,
         160.18472755606732
        ],
        [
         "Kenya",
         2018,
         "Tana River",
         "Environmental protection",
         15445760,
         337578,
         45.754640409031396
        ],
        [
         "Kenya",
         2019,
         "Mandera",
         "General public services",
         5206785760,
         953313,
         5461.779877123254
        ],
        [
         "Kenya",
         2020,
         "Nairobi City",
         "Economic affairs",
         5014462527,
         4984406,
         1006.03011211366
        ],
        [
         "Kenya",
         2020,
         "Nyeri",
         "Public order and safety",
         842925872.4499999,
         842660,
         1000.3155156884152
        ],
        [
         "Kenya",
         2016,
         "Kwale",
         "Public order and safety",
         22954712,
         872981,
         26.294629550929518
        ],
        [
         "Kenya",
         2017,
         "Kitui",
         "Economic affairs",
         3225092037.2000012,
         1222018,
         2639.1526452147195
        ],
        [
         "Kenya",
         2017,
         "Homa Bay",
         "Social protection",
         158282366.6,
         1205544,
         131.29538747652512
        ],
        [
         "Kenya",
         2018,
         "Migori",
         "Environmental protection",
         245118750,
         1203580,
         203.658045165257
        ],
        [
         "Kenya",
         2017,
         "Samburu",
         "Public order and safety",
         83164142,
         318967,
         260.72961152721126
        ],
        [
         "Kenya",
         2018,
         "Samburu",
         "Health",
         818507286.0999999,
         329613,
         2483.237269464493
        ],
        [
         "Kenya",
         2018,
         "Mombasa",
         "Education",
         553271252.3499999,
         1294431,
         427.42429094327923
        ],
        [
         "Kenya",
         2018,
         "Nandi",
         "Education",
         326762445.3,
         958607,
         340.8721669046857
        ],
        [
         "Kenya",
         2019,
         "Mandera",
         "Health",
         594048124,
         953313,
         623.1406935602473
        ],
        [
         "Kenya",
         2019,
         "Kirinyaga",
         "Recreation, culture and religion",
         58616637,
         671452,
         87.2983281008918
        ],
        [
         "Kenya",
         2019,
         "Trans Nzoia",
         "Recreation, culture and religion",
         116875428,
         1088670,
         107.35615751329604
        ],
        [
         "Kenya",
         2020,
         "Makueni",
         "Housing and community amenities",
         246760089,
         1098172,
         224.70076545386334
        ],
        [
         "Kenya",
         2020,
         "Busia",
         "Social protection",
         56439749,
         999906,
         56.44505483515451
        ],
        [
         "Kenya",
         2016,
         "Siaya",
         "Housing and community amenities",
         164533510.7,
         1039776,
         158.2393810782322
        ],
        [
         "Kenya",
         2016,
         "Nyamira",
         "General public services",
         871061697.5,
         665205,
         1309.4635450725716
        ],
        [
         "Kenya",
         2017,
         "Migori",
         "Housing and community amenities",
         6349750,
         1179905,
         5.381577330378293
        ],
        [
         "Kenya",
         2017,
         "Nairobi City",
         "Economic affairs",
         3098554785.05,
         4509233,
         687.1578348357692
        ],
        [
         "Kenya",
         2019,
         "Nyandarua",
         "Recreation, culture and religion",
         77899513,
         702930,
         110.82115288862333
        ],
        [
         "Kenya",
         2019,
         "Marsabit",
         "Environmental protection",
         89910843,
         503447,
         178.59048320875883
        ],
        [
         "Kenya",
         2020,
         "Garissa",
         "Health",
         1971196089,
         1052172,
         1873.4542346688563
        ],
        [
         "Kenya",
         2020,
         "Baringo",
         "General public services",
         1679982470,
         745967,
         2252.0868483458385
        ],
        [
         "Kenya",
         2020,
         "Nandi",
         "Public order and safety",
         198297585.95,
         989217,
         200.45913682235545
        ],
        [
         "Kenya",
         2020,
         "Marsabit",
         "Recreation, culture and religion",
         100066234,
         526582,
         190.02972756379822
        ],
        [
         "Kenya",
         2020,
         "West Pokot",
         "Recreation, culture and religion",
         4002763,
         695607,
         5.754345485309952
        ],
        [
         "Kenya",
         2017,
         "Marsabit",
         "Housing and community amenities",
         65138936.7,
         459531,
         141.75090842619977
        ],
        [
         "Kenya",
         2017,
         "Nyandarua",
         "Education",
         209002612.2,
         693462,
         301.3901442328491
        ],
        [
         "Kenya",
         2017,
         "Kisii",
         "Environmental protection",
         11815497,
         1368521,
         8.633771056490913
        ],
        [
         "Kenya",
         2018,
         "Kitui",
         "Social protection",
         43727352,
         1236405,
         35.36652795807199
        ],
        [
         "Kenya",
         2019,
         "Siaya",
         "Health",
         1904139506,
         1092216,
         1743.3726533945667
        ],
        [
         "Kenya",
         2019,
         "Nyamira",
         "Social protection",
         115437504,
         667466,
         172.94889028055363
        ],
        [
         "Kenya",
         2020,
         "Garissa",
         "Economic affairs",
         917724113,
         1052172,
         872.2187180422973
        ],
        [
         "Kenya",
         2020,
         "West Pokot",
         "Environmental protection",
         7983139,
         695607,
         11.476507568210211
        ],
        [
         "Kenya",
         2016,
         "Uasin Gishu",
         "General public services",
         1568459505.9,
         1180687,
         1328.4295549116744
        ],
        [
         "Kenya",
         2017,
         "Tana River",
         "Housing and community amenities",
         47717945,
         328361,
         145.32159726642323
        ],
        [
         "Kenya",
         2017,
         "Tana River",
         "Health",
         957878972.7,
         328361,
         2917.152075611903
        ],
        [
         "Kenya",
         2017,
         "Wajir",
         "General public services",
         2058053359.3499997,
         823531,
         2499.059973880764
        ],
        [
         "Kenya",
         2017,
         "Kiambu",
         "General public services",
         3125815864.2000003,
         2447130,
         1277.3395218889068
        ],
        [
         "Kenya",
         2017,
         "Trans Nzoia",
         "General public services",
         1251821349.55,
         1048071,
         1194.4051018967225
        ],
        [
         "Kenya",
         2018,
         "Samburu",
         "General public services",
         1676679108.5500002,
         329613,
         5086.81122574049
        ],
        [
         "Kenya",
         2018,
         "Isiolo",
         "Social protection",
         21043376,
         275035,
         76.51162942898176
        ],
        [
         "Kenya",
         2018,
         "Turkana",
         "Social protection",
         43637908.8,
         997968,
         43.7267615795296
        ],
        [
         "Kenya",
         2019,
         "Tana River",
         "Housing and community amenities",
         138522756.8,
         346887,
         399.3310697720007
        ],
        [
         "Kenya",
         2019,
         "Machakos",
         "Economic affairs",
         8123703661.149999,
         1561560,
         5202.3000468441805
        ],
        [
         "Kenya",
         2019,
         "Samburu",
         "General public services",
         1488732623,
         340457,
         4372.74787418088
        ],
        [
         "Kenya",
         2019,
         "Migori",
         "Recreation, culture and religion",
         75822278,
         1227169,
         61.78633749711735
        ],
        [
         "Kenya",
         2020,
         "Busia",
         "Health",
         2399475249,
         999906,
         2399.7008208771626
        ],
        [
         "Kenya",
         2016,
         "Baringo",
         "Housing and community amenities",
         200600273.54999998,
         694159,
         288.9831775573031
        ],
        [
         "Kenya",
         2016,
         "Kitui",
         "Public order and safety",
         27700206,
         1208265,
         22.925604896276894
        ],
        [
         "Kenya",
         2017,
         "Mandera",
         "Health",
         824174740.65,
         914409,
         901.3195852731108
        ],
        [
         "Kenya",
         2017,
         "Nyandarua",
         "Public order and safety",
         163587882,
         693462,
         235.90028292826426
        ],
        [
         "Kenya",
         2019,
         "Samburu",
         "Recreation, culture and religion",
         113898723,
         340457,
         334.54657416355076
        ],
        [
         "Kenya",
         2019,
         "Mombasa",
         "Public order and safety",
         621857753.4000001,
         1327105,
         468.58217955625224
        ],
        [
         "Kenya",
         2019,
         "Murang’A",
         "Public order and safety",
         356540160.15,
         1162856,
         306.6073186619839
        ],
        [
         "Kenya",
         2020,
         "Murang’A",
         "Recreation, culture and religion",
         69532261,
         1175266,
         59.1629988445169
        ],
        [
         "Kenya",
         2020,
         "Kisii",
         "Education",
         334570702,
         1406733,
         237.83525516213808
        ],
        [
         "Kenya",
         2016,
         "Busia",
         "Economic affairs",
         1830840050.0499997,
         930129,
         1968.372182837004
        ],
        [
         "Kenya",
         2017,
         "Kwale",
         "Housing and community amenities",
         211381686.2,
         898319,
         235.3080433565359
        ],
        [
         "Kenya",
         2017,
         "Siaya",
         "General public services",
         1671191626.0999997,
         1056857,
         1581.2845314929075
        ],
        [
         "Kenya",
         2018,
         "Machakos",
         "Housing and community amenities",
         -2216181,
         1522169,
         -1.455936233098953
        ],
        [
         "Kenya",
         2018,
         "Elgeyo Marakwet",
         "Housing and community amenities",
         352709555.2,
         489448,
         720.6272274072015
        ],
        [
         "Kenya",
         2018,
         "Kakamega",
         "Education",
         453213673.5,
         2031790,
         223.06127774031765
        ],
        [
         "Kenya",
         2018,
         "Kilifi",
         "Environmental protection",
         3400155,
         1554127,
         2.1878231315716152
        ],
        [
         "Kenya",
         2019,
         "Kajiado",
         "Housing and community amenities",
         3038255,
         1223473,
         2.483303677318584
        ],
        [
         "Kenya",
         2020,
         "Kilifi",
         "Recreation, culture and religion",
         93361268,
         1638699,
         56.9727985432346
        ],
        [
         "Kenya",
         2020,
         "Nyeri",
         "Economic affairs",
         1870958327.95,
         842660,
         2220.3003915576865
        ],
        [
         "Kenya",
         2016,
         "Tana River",
         "Recreation, culture and religion",
         37293218.05,
         319535,
         116.7109019356252
        ],
        [
         "Kenya",
         2016,
         "Kajiado",
         "Health",
         1344474275.35,
         1057819,
         1270.987073733786
        ],
        [
         "Kenya",
         2016,
         "Nairobi City",
         "Health",
         1219625247.0499997,
         4360681,
         279.6868762126832
        ],
        [
         "Kenya",
         2016,
         "Homa Bay",
         "Social protection",
         20660548.2,
         1186528,
         17.41260905768764
        ],
        [
         "Kenya",
         2017,
         "Kwale",
         "Education",
         1465539626.3000002,
         898319,
         1631.424500984617
        ],
        [
         "Kenya",
         2017,
         "Homa Bay",
         "Education",
         310580116.85,
         1205544,
         257.6265294754899
        ],
        [
         "Kenya",
         2017,
         "Meru",
         "Public order and safety",
         393276144,
         1656898,
         237.35688256006102
        ],
        [
         "Kenya",
         2018,
         "Wajir",
         "Public order and safety",
         64896626,
         841065,
         77.16006016181865
        ],
        [
         "Kenya",
         2018,
         "Mombasa",
         "Environmental protection",
         60000000,
         1294431,
         46.35241275896514
        ],
        [
         "Kenya",
         2019,
         "Kisumu",
         "Environmental protection",
         122356250,
         1270584,
         96.29922146036783
        ],
        [
         "Kenya",
         2019,
         "Laikipia",
         "Public order and safety",
         215280254,
         569446,
         378.0520962479322
        ],
        [
         "Kenya",
         2020,
         "Kiambu",
         "Recreation, culture and religion",
         206730658,
         2754995,
         75.03848754716434
        ],
        [
         "Kenya",
         2016,
         "Wajir",
         "Economic affairs",
         4060814175.4499993,
         806684,
         5033.958991934884
        ],
        [
         "Kenya",
         2016,
         "Marsabit",
         "Environmental protection",
         130808683.35,
         439105,
         297.8984146160941
        ],
        [
         "Kenya",
         2016,
         "Kiambu",
         "General public services",
         2478586155.7999997,
         2352106,
         1053.7731529956557
        ],
        [
         "Kenya",
         2017,
         "Bomet",
         "Education",
         222123255.2,
         926793,
         239.66868027704135
        ],
        [
         "Kenya",
         2018,
         "Marsabit",
         "Social protection",
         44254313.9,
         481101,
         91.9854955612231
        ],
        [
         "Kenya",
         2019,
         "Nyeri",
         "Economic affairs",
         2426559969.55,
         835770,
         2903.3824731086306
        ],
        [
         "Kenya",
         2019,
         "Narok",
         "Education",
         1063140402.3,
         1270631,
         836.7027109365347
        ],
        [
         "Kenya",
         2020,
         "Meru",
         "Housing and community amenities",
         79448104,
         1721672,
         46.14590003206185
        ],
        [
         "Kenya",
         2020,
         "Kirinyaga",
         "Health",
         2344748459,
         680714,
         3444.5427286643144
        ],
        [
         "Kenya",
         2020,
         "Kakamega",
         "Housing and community amenities",
         40492288,
         2077815,
         19.487917836766027
        ],
        [
         "Kenya",
         2018,
         "Mandera",
         "Education",
         2375751026.05,
         933865,
         2543.998357417828
        ],
        [
         "Kenya",
         2019,
         "Trans Nzoia",
         "Economic affairs",
         2540682128.45,
         1088670,
         2333.748636822912
        ],
        [
         "Kenya",
         2019,
         "Nairobi City",
         "Environmental protection",
         9767700,
         4823078,
         2.025200504739919
        ],
        [
         "Kenya",
         2019,
         "Mandera",
         "Public order and safety",
         264100461,
         953313,
         277.03436436930997
        ],
        [
         "Kenya",
         2020,
         "Laikipia",
         "Housing and community amenities",
         0,
         584082,
         0
        ],
        [
         "Kenya",
         2016,
         "Kilifi",
         "Public order and safety",
         55925788.5,
         1472402,
         37.98268984964704
        ],
        [
         "Kenya",
         2017,
         "Kisii",
         "Housing and community amenities",
         445400372.3,
         1368521,
         325.461116270777
        ],
        [
         "Kenya",
         2017,
         "Nyamira",
         "Recreation, culture and religion",
         212169304.64999998,
         665887,
         318.62659077290886
        ],
        [
         "Kenya",
         2018,
         "Meru",
         "Economic affairs",
         1573079479.3,
         1679035,
         936.894989860247
        ],
        [
         "Kenya",
         2018,
         "Meru",
         "Recreation, culture and religion",
         145270446.2,
         1679035,
         86.52020130610737
        ],
        [
         "Kenya",
         2019,
         "Murang’A",
         "Recreation, culture and religion",
         184967844,
         1162856,
         159.063412838735
        ],
        [
         "Kenya",
         2019,
         "Kwale",
         "Public order and safety",
         188537439.55,
         951518,
         198.14384966968572
        ],
        [
         "Kenya",
         2016,
         "Nairobi City",
         "Public order and safety",
         164554457.45,
         4360681,
         37.73595395994341
        ],
        [
         "Kenya",
         2017,
         "Mombasa",
         "Recreation, culture and religion",
         518517786.50000006,
         1261992,
         410.872482947594
        ],
        [
         "Kenya",
         2017,
         "Wajir",
         "Housing and community amenities",
         1167334.75,
         823531,
         1.4174751770121585
        ],
        [
         "Kenya",
         2018,
         "Garissa",
         "Social protection",
         63914834,
         973522,
         65.65319941408617
        ],
        [
         "Kenya",
         2018,
         "Kisii",
         "Social protection",
         252091433.85,
         1381816,
         182.43487834125528
        ],
        [
         "Kenya",
         2019,
         "Taita Taveta",
         "Health",
         303410589,
         374561,
         810.0431945664391
        ],
        [
         "Kenya",
         2019,
         "Nairobi City",
         "Social protection",
         79878180.7,
         4823078,
         16.56166056198967
        ],
        [
         "Kenya",
         2020,
         "Kilifi",
         "General public services",
         2581250566,
         1638699,
         1575.1828529827626
        ],
        [
         "Kenya",
         2020,
         "Trans Nzoia",
         "Economic affairs",
         2356422480.7,
         1108719,
         2125.355911371592
        ],
        [
         "Kenya",
         2020,
         "Trans Nzoia",
         "Housing and community amenities",
         49995090,
         1108719,
         45.09266098984504
        ],
        [
         "Kenya",
         2016,
         "Meru",
         "Education",
         471748056.25000006,
         1635681,
         288.410794189087
        ],
        [
         "Kenya",
         2016,
         "Baringo",
         "Health",
         1617445482.3500004,
         694159,
         2330.0792503590683
        ],
        [
         "Kenya",
         2016,
         "Homa Bay",
         "Environmental protection",
         0,
         1186528,
         0
        ],
        [
         "Kenya",
         2017,
         "Machakos",
         "Education",
         228331780.3,
         1483106,
         153.9551322022836
        ],
        [
         "Kenya",
         2017,
         "Narok",
         "General public services",
         2965433983.45,
         1194799,
         2481.9521806178277
        ],
        [
         "Kenya",
         2018,
         "Kajiado",
         "Economic affairs",
         1245413766.45,
         1165768,
         1068.3204260624757
        ],
        [
         "Kenya",
         2018,
         "Garissa",
         "Education",
         489905753.05,
         973522,
         503.2302845236163
        ],
        [
         "Kenya",
         2018,
         "Garissa",
         "Public order and safety",
         674344920,
         973522,
         692.6858560977564
        ],
        [
         "Kenya",
         2019,
         "Kirinyaga",
         "Social protection",
         259734099,
         671452,
         386.82452208050614
        ],
        [
         "Kenya",
         2019,
         "Nairobi City",
         "Housing and community amenities",
         110283051,
         4823078,
         22.865699248488205
        ],
        [
         "Kenya",
         2019,
         "Kilifi",
         "Public order and safety",
         389065256.65,
         1596266,
         243.73460103140704
        ],
        [
         "Kenya",
         2019,
         "West Pokot",
         "Public order and safety",
         255768993.5,
         682913,
         374.5264675002526
        ],
        [
         "Kenya",
         2020,
         "Embu",
         "Housing and community amenities",
         49870152,
         679843,
         73.35539528979486
        ],
        [
         "Kenya",
         2020,
         "Nyandarua",
         "Housing and community amenities",
         515328321,
         707150,
         728.7397595983879
        ],
        [
         "Kenya",
         2020,
         "West Pokot",
         "Economic affairs",
         1277384237.2,
         695607,
         1836.3590895433772
        ],
        [
         "Kenya",
         2020,
         "Bomet",
         "Environmental protection",
         504721308,
         980330,
         514.8483755470097
        ],
        [
         "Kenya",
         2016,
         "Samburu",
         "Environmental protection",
         54237675.95000001,
         308797,
         175.6418486902399
        ],
        [
         "Kenya",
         2016,
         "Kajiado",
         "Environmental protection",
         373656106.1,
         1057819,
         353.2325531116382
        ],
        [
         "Kenya",
         2017,
         "West Pokot",
         "Education",
         602240793.0999999,
         657207,
         916.3639357158397
        ],
        [
         "Kenya",
         2017,
         "Samburu",
         "General public services",
         1457568529.1999998,
         318967,
         4569.653065050616
        ],
        [
         "Kenya",
         2017,
         "Kajiado",
         "Economic affairs",
         1646941085.1,
         1110272,
         1483.367215511154
        ],
        [
         "Kenya",
         2017,
         "Homa Bay",
         "General public services",
         2103557370.35,
         1205544,
         1744.90302332391
        ],
        [
         "Kenya",
         2017,
         "Lamu",
         "Public order and safety",
         128966945.2,
         147217,
         876.0329663014462
        ],
        [
         "Kenya",
         2017,
         "Wajir",
         "Public order and safety",
         172690387.35,
         823531,
         209.69506594165853
        ],
        [
         "Kenya",
         2019,
         "Wajir",
         "General public services",
         2789261905,
         858572,
         3248.722186374585
        ],
        [
         "Kenya",
         2019,
         "Kitui",
         "Health",
         3393578845,
         1250389,
         2714.018473451062
        ],
        [
         "Kenya",
         2020,
         "Wajir",
         "Economic affairs",
         4129383254.3,
         875989,
         4713.9670181931515
        ],
        [
         "Kenya",
         2020,
         "Kisumu",
         "Social protection",
         159911643,
         1292152,
         123.75606198032429
        ],
        [
         "Kenya",
         2016,
         "Baringo",
         "Social protection",
         22532706.65,
         694159,
         32.46044011530499
        ],
        [
         "Kenya",
         2017,
         "Uasin Gishu",
         "Health",
         1610299969.85,
         1211922,
         1328.7158495761278
        ],
        [
         "Kenya",
         2017,
         "Mombasa",
         "Public order and safety",
         375885225,
         1261992,
         297.85071933894983
        ],
        [
         "Kenya",
         2019,
         "Meru",
         "Economic affairs",
         2975624813.85,
         1700686,
         1749.6614976838757
        ],
        [
         "Kenya",
         2019,
         "Makueni",
         "General public services",
         2380689647,
         1087010,
         2190.1267210053265
        ],
        [
         "Kenya",
         2019,
         "Murang’A",
         "General public services",
         4945186756,
         1162856,
         4252.621782920671
        ],
        [
         "Kenya",
         2020,
         "Bungoma",
         "Education",
         1438418392,
         1870968,
         768.809724164176
        ],
        [
         "Kenya",
         2016,
         "Kakamega",
         "Health",
         2440606547.0499997,
         1984614,
         1229.76384679842
        ],
        [
         "Kenya",
         2017,
         "Wajir",
         "Education",
         605189968.5999999,
         823531,
         734.8721160466332
        ],
        [
         "Kenya",
         2017,
         "Kitui",
         "Housing and community amenities",
         341360028.79999995,
         1222018,
         279.3412444006553
        ],
        [
         "Kenya",
         2017,
         "Elgeyo Marakwet",
         "Housing and community amenities",
         38768240.65,
         479383,
         80.87112110775726
        ],
        [
         "Kenya",
         2017,
         "Kakamega",
         "Education",
         496086799.7,
         2007676,
         247.0950490517394
        ],
        [
         "Kenya",
         2017,
         "Nandi",
         "Social protection",
         177726531.45000002,
         942976,
         188.47407722996132
        ],
        [
         "Kenya",
         2017,
         "Bungoma",
         "Social protection",
         24790974,
         1766291,
         14.03561134603528
        ],
        [
         "Kenya",
         2018,
         "Nairobi City",
         "Health",
         5485851690.3,
         4664602,
         1176.059970454071
        ],
        [
         "Kenya",
         2018,
         "Isiolo",
         "Education",
         186372595.85,
         275035,
         677.6322862544766
        ],
        [
         "Kenya",
         2019,
         "Elgeyo Marakwet",
         "Economic affairs",
         1294908241,
         499495,
         2592.4348411896017
        ],
        [
         "Kenya",
         2020,
         "Siaya",
         "Health",
         2263419789,
         1109487,
         2040.0597654591716
        ],
        [
         "Kenya",
         2016,
         "Embu",
         "Health",
         1898863871.7999997,
         637167,
         2980.166693818104
        ],
        [
         "Kenya",
         2016,
         "Kiambu",
         "Recreation, culture and religion",
         205319530.45,
         2352106,
         87.29178466021514
        ],
        [
         "Kenya",
         2016,
         "Kakamega",
         "Economic affairs",
         2261156019.2500005,
         1984614,
         1139.342975132696
        ],
        [
         "Kenya",
         2017,
         "Busia",
         "Recreation, culture and religion",
         160509863.05,
         947172,
         169.46221282934886
        ],
        [
         "Kenya",
         2017,
         "Siaya",
         "Economic affairs",
         1614382793.5999997,
         1056857,
         1527.5319116966625
        ],
        [
         "Kenya",
         2018,
         "Kericho",
         "Economic affairs",
         1416302299.6499999,
         974777,
         1452.9500589878503
        ],
        [
         "Kenya",
         2018,
         "Bomet",
         "Education",
         142630618.2,
         944760,
         150.97021275244506
        ],
        [
         "Kenya",
         2018,
         "Nyamira",
         "Education",
         582833085.45,
         666829,
         874.0368002141479
        ],
        [
         "Kenya",
         2019,
         "Narok",
         "Recreation, culture and religion",
         243843449,
         1270631,
         191.90736649743317
        ],
        [
         "Kenya",
         2019,
         "Nyamira",
         "Environmental protection",
         125642518,
         667466,
         188.23807954262838
        ],
        [
         "Kenya",
         2020,
         "Meru",
         "Economic affairs",
         2643385242.9500003,
         1721672,
         1535.3593733010703
        ],
        [
         "Kenya",
         2020,
         "Kitui",
         "Public order and safety",
         408991443.25,
         1263831,
         323.6124475899072
        ],
        [
         "Kenya",
         2020,
         "West Pokot",
         "Housing and community amenities",
         14616850,
         695607,
         21.0130864122989
        ],
        [
         "Kenya",
         2020,
         "Nyamira",
         "Social protection",
         104181910,
         667704,
         156.0300821921091
        ],
        [
         "Kenya",
         2016,
         "Trans Nzoia",
         "Economic affairs",
         1688055515.8500001,
         1028502,
         1641.2758709754576
        ],
        [
         "Kenya",
         2016,
         "Kericho",
         "Economic affairs",
         1519959044.25,
         941559,
         1614.300372308055
        ],
        [
         "Kenya",
         2016,
         "Kisumu",
         "Social protection",
         32174536.6,
         1205448,
         26.690936979446647
        ],
        [
         "Kenya",
         2017,
         "Kericho",
         "Housing and community amenities",
         37320252.75,
         957838,
         38.963011229456335
        ],
        [
         "Kenya",
         2017,
         "Narok",
         "Public order and safety",
         105958323,
         1194799,
         88.68296926930806
        ],
        [
         "Kenya",
         2018,
         "Marsabit",
         "Housing and community amenities",
         92836000,
         481101,
         192.9657182171727
        ],
        [
         "Kenya",
         2018,
         "Garissa",
         "Health",
         1904178137.5499997,
         973522,
         1955.9682652780314
        ],
        [
         "Kenya",
         2018,
         "Bungoma",
         "Health",
         2571767654,
         1801381,
         1427.6644718690827
        ],
        [
         "Kenya",
         2018,
         "Machakos",
         "Recreation, culture and religion",
         42739918.3,
         1522169,
         28.078300306996134
        ],
        [
         "Kenya",
         2018,
         "Nyandarua",
         "Recreation, culture and religion",
         72113773,
         698341,
         103.26441237160643
        ],
        [
         "Kenya",
         2018,
         "Narok",
         "Recreation, culture and religion",
         211748603.5,
         1232410,
         171.81668722259639
        ],
        [
         "Kenya",
         2019,
         "Wajir",
         "Health",
         2320523171,
         858572,
         2702.7706132974286
        ],
        [
         "Kenya",
         2019,
         "Tharaka Nithi",
         "Economic affairs",
         1234427397,
         432967,
         2851.0888751336706
        ],
        [
         "Kenya",
         2019,
         "Nandi",
         "Health",
         2370984711,
         974055,
         2434.1384326347074
        ],
        [
         "Kenya",
         2019,
         "Taita Taveta",
         "Public order and safety",
         291075599.5,
         374561,
         777.1113370051874
        ],
        [
         "Kenya",
         2019,
         "Narok",
         "Public order and safety",
         340626723.15,
         1270631,
         268.0768241527241
        ],
        [
         "Kenya",
         2020,
         "Elgeyo Marakwet",
         "Economic affairs",
         1553439546.8,
         509480,
         3049.0687500981394
        ],
        [
         "Kenya",
         2020,
         "Migori",
         "Health",
         2492524451,
         1250557,
         1993.131421438607
        ],
        [
         "Kenya",
         2016,
         "Busia",
         "Housing and community amenities",
         177464102.60000002,
         930129,
         190.79515056513668
        ],
        [
         "Kenya",
         2017,
         "West Pokot",
         "Social protection",
         335495717.95,
         657207,
         510.4871341145179
        ],
        [
         "Kenya",
         2017,
         "Uasin Gishu",
         "Economic affairs",
         1780756128.5500004,
         1211922,
         1469.3652962401875
        ],
        [
         "Kenya",
         2017,
         "Vihiga",
         "Environmental protection",
         66450143,
         641879,
         103.52440724809505
        ],
        [
         "Kenya",
         2017,
         "Kisumu",
         "Economic affairs",
         3367890838.099998,
         1226647,
         2745.6072024796035
        ],
        [
         "Kenya",
         2017,
         "Homa Bay",
         "Housing and community amenities",
         140591683.35,
         1205544,
         116.62094734825108
        ],
        [
         "Kenya",
         2017,
         "Migori",
         "Social protection",
         228084911.6,
         1179905,
         193.3078608871053
        ],
        [
         "Kenya",
         2017,
         "Siaya",
         "Social protection",
         31239009.75,
         1056857,
         29.558407381509515
        ],
        [
         "Kenya",
         2018,
         "Nyandarua",
         "Housing and community amenities",
         273422546.8,
         698341,
         391.5315681021163
        ],
        [
         "Kenya",
         2018,
         "Nandi",
         "Health",
         1521891024.55,
         958607,
         1587.6068342396832
        ],
        [
         "Kenya",
         2018,
         "Nandi",
         "General public services",
         2065393046.85,
         958607,
         2154.577472154908
        ],
        [
         "Kenya",
         2019,
         "Machakos",
         "General public services",
         1632415848,
         1561560,
         1045.3750403442712
        ],
        [
         "Kenya",
         2019,
         "Nyandarua",
         "Public order and safety",
         281180689,
         702930,
         400.01236111703867
        ],
        [
         "Kenya",
         2020,
         "Homa Bay",
         "Economic affairs",
         2192500455.4,
         1264071,
         1734.4757180569763
        ],
        [
         "Kenya",
         2020,
         "Nyamira",
         "Recreation, culture and religion",
         53071464,
         667704,
         79.48351964343482
        ],
        [
         "Kenya",
         2016,
         "Narok",
         "General public services",
         3230374368.2500005,
         1158782,
         2787.732609110256
        ],
        [
         "Kenya",
         2016,
         "Nyamira",
         "Recreation, culture and religion",
         82159081.25,
         665205,
         123.50941627017235
        ],
        [
         "Kenya",
         2017,
         "Kwale",
         "Environmental protection",
         248053779.75,
         898319,
         276.13106229524254
        ],
        [
         "Kenya",
         2017,
         "Taita Taveta",
         "General public services",
         2070438710.75,
         361353,
         5729.6845764391055
        ],
        [
         "Kenya",
         2020,
         "Isiolo",
         "Public order and safety",
         117357744.94999999,
         311403,
         376.8677403557448
        ],
        [
         "Kenya",
         2016,
         "Lamu",
         "Economic affairs",
         484589953.35,
         142194,
         3407.9493744461793
        ],
        [
         "Kenya",
         2016,
         "Bomet",
         "Education",
         403358284.5500001,
         909525,
         443.4823501827878
        ],
        [
         "Kenya",
         2016,
         "Kakamega",
         "Housing and community amenities",
         65576304.55,
         1984614,
         33.04234705086228
        ],
        [
         "Kenya",
         2016,
         "Mombasa",
         "Public order and safety",
         135720931.3,
         1230848,
         110.26619964447276
        ],
        [
         "Kenya",
         2017,
         "Nakuru",
         "Social protection",
         298960135.7,
         2235441,
         133.73653596762338
        ],
        [
         "Kenya",
         2017,
         "Mandera",
         "Public order and safety",
         156777611,
         914409,
         171.45239274766544
        ],
        [
         "Kenya",
         2017,
         "Machakos",
         "Public order and safety",
         290161894,
         1483106,
         195.6447442057412
        ],
        [
         "Kenya",
         2018,
         "Migori",
         "Housing and community amenities",
         57039425,
         1203580,
         47.391469615646656
        ],
        [
         "Kenya",
         2019,
         "Laikipia",
         "General public services",
         4020479874,
         569446,
         7060.335613912469
        ],
        [
         "Kenya",
         2019,
         "Kakamega",
         "General public services",
         6802268711.5,
         2055240,
         3309.7198923240107
        ],
        [
         "Kenya",
         2020,
         "Tharaka Nithi",
         "Economic affairs",
         953746381.7,
         435803,
         2188.480532947226
        ],
        [
         "Kenya",
         2020,
         "Kiambu",
         "Economic affairs",
         5786206669.5,
         2754995,
         2100.2603160804283
        ],
        [
         "Kenya",
         2020,
         "Turkana",
         "Recreation, culture and religion",
         179040127,
         1039404,
         172.25268230639867
        ],
        [
         "Kenya",
         2020,
         "Nairobi City",
         "Environmental protection",
         842105346,
         4984406,
         168.94798417303886
        ],
        [
         "Kenya",
         2016,
         "Kitui",
         "Environmental protection",
         78060753.85000001,
         1208265,
         64.60565674748504
        ],
        [
         "Kenya",
         2016,
         "Nyeri",
         "General public services",
         1193657566.4999995,
         813608,
         1467.1163096970524
        ],
        [
         "Kenya",
         2016,
         "Kirinyaga",
         "Public order and safety",
         44490581.95,
         643037,
         69.18821459729378
        ],
        [
         "Kenya",
         2016,
         "Lamu",
         "Public order and safety",
         32845857.3,
         142194,
         230.9932718680113
        ],
        [
         "Kenya",
         2017,
         "Kitui",
         "Recreation, culture and religion",
         150499652.00000003,
         1222018,
         123.15665726691427
        ],
        [
         "Kenya",
         2017,
         "Mombasa",
         "Social protection",
         35693275.2,
         1261992,
         28.28328166898047
        ],
        [
         "Kenya",
         2017,
         "Elgeyo Marakwet",
         "Public order and safety",
         93443587,
         479383,
         194.92469904022462
        ],
        [
         "Kenya",
         2018,
         "Kajiado",
         "Education",
         623715363.95,
         1165768,
         535.0252914387769
        ],
        [
         "Kenya",
         2018,
         "Uasin Gishu",
         "Social protection",
         27142673,
         1244465,
         21.810716251561917
        ],
        [
         "Kenya",
         2018,
         "Nandi",
         "Recreation, culture and religion",
         101306620.3,
         958607,
         105.68107712545391
        ],
        [
         "Kenya",
         2019,
         "Meru",
         "General public services",
         2916277654,
         1700686,
         1714.7654852218457
        ],
        [
         "Kenya",
         2020,
         "Turkana",
         "Environmental protection",
         309824572,
         1039404,
         298.07906454083303
        ],
        [
         "Kenya",
         2016,
         "Turkana",
         "General public services",
         2194866934.8500004,
         957176,
         2293.0651571393355
        ],
        [
         "Kenya",
         2016,
         "Nakuru",
         "Economic affairs",
         2923849757.3999987,
         2170005,
         1347.3930969744304
        ],
        [
         "Kenya",
         2017,
         "Tharaka Nithi",
         "Health",
         148164755,
         426670,
         347.25843157475333
        ],
        [
         "Kenya",
         2017,
         "Kitui",
         "General public services",
         3292696620.6499996,
         1222018,
         2694.4747300367094
        ],
        [
         "Kenya",
         2018,
         "Kiambu",
         "Health",
         4214332742.8999996,
         2546938,
         1654.6664044825588
        ],
        [
         "Kenya",
         2018,
         "Nyamira",
         "General public services",
         1048684046.3999999,
         666829,
         1572.643130997602
        ],
        [
         "Kenya",
         2019,
         "Kiambu",
         "Recreation, culture and religion",
         176918828,
         2649591,
         66.77212747174941
        ],
        [
         "Kenya",
         2019,
         "Turkana",
         "Social protection",
         103109565.5,
         1018738,
         101.2130356382112
        ],
        [
         "Kenya",
         2019,
         "Elgeyo Marakwet",
         "Education",
         638666791,
         499495,
         1278.6249932431756
        ],
        [
         "Kenya",
         2019,
         "Nyamira",
         "Health",
         1667666902,
         667466,
         2498.5046459295304
        ],
        [
         "Kenya",
         2019,
         "Kirinyaga",
         "Housing and community amenities",
         7623059,
         671452,
         11.353095977076544
        ],
        [
         "Kenya",
         2016,
         "Bungoma",
         "Social protection",
         87787191,
         1732560,
         50.66906254328855
        ],
        [
         "Kenya",
         2017,
         "Murang’A",
         "General public services",
         3572272563.0000005,
         1136663,
         3142.771923604446
        ],
        [
         "Kenya",
         2017,
         "Bomet",
         "Public order and safety",
         103923190,
         926793,
         112.13204027220749
        ],
        [
         "Kenya",
         2018,
         "Kisumu",
         "General public services",
         1258941226.7500002,
         1248702,
         1008.1998961721854
        ],
        [
         "Kenya",
         2018,
         "Marsabit",
         "Health",
         1526702007.9999998,
         481101,
         3173.350311057345
        ],
        [
         "Kenya",
         2020,
         "Narok",
         "Public order and safety",
         186462827.55,
         1309378,
         142.4056518056665
        ],
        [
         "Kenya",
         2016,
         "Tana River",
         "Social protection",
         138662625.4,
         319535,
         433.9512898430532
        ],
        [
         "Kenya",
         2016,
         "Garissa",
         "Housing and community amenities",
         909299822.7,
         899835,
         1010.5183980396406
        ],
        [
         "Kenya",
         2016,
         "Nyeri",
         "Social protection",
         35356504.7,
         813608,
         43.456436883609804
        ],
        [
         "Kenya",
         2017,
         "Kwale",
         "Recreation, culture and religion",
         89091143.80000001,
         898319,
         99.17539738110851
        ],
        [
         "Kenya",
         2017,
         "Samburu",
         "Education",
         529317059.39999986,
         318967,
         1659.4727962453792
        ],
        [
         "Kenya",
         2018,
         "Nyeri",
         "Economic affairs",
         1179104579.1499996,
         828455,
         1423.257242879818
        ],
        [
         "Kenya",
         2018,
         "Kwale",
         "Housing and community amenities",
         250153806.3,
         924747,
         270.5105356383962
        ],
        [
         "Kenya",
         2018,
         "Nakuru",
         "Housing and community amenities",
         5956206.300000001,
         2303736,
         2.5854552344539483
        ],
        [
         "Kenya",
         2018,
         "West Pokot",
         "Education",
         636473125.8,
         670083,
         949.8422222321711
        ],
        [
         "Kenya",
         2019,
         "Trans Nzoia",
         "General public services",
         1906178066,
         1088670,
         1750.9236646550378
        ],
        [
         "Kenya",
         2019,
         "Narok",
         "Economic affairs",
         1842247964.05,
         1270631,
         1449.8685802959317
        ],
        [
         "Kenya",
         2019,
         "Nyamira",
         "Recreation, culture and religion",
         52535119,
         667466,
         78.7083072396197
        ],
        [
         "Kenya",
         2020,
         "Nyamira",
         "Economic affairs",
         1934493009.5,
         667704,
         2897.2314221571237
        ],
        [
         "Kenya",
         2020,
         "Mombasa",
         "Social protection",
         26697897,
         1359896,
         19.63230791178149
        ],
        [
         "Kenya",
         2016,
         "Isiolo",
         "Health",
         675259219.7999998,
         242687,
         2782.4284770094805
        ],
        [
         "Kenya",
         2016,
         "Kericho",
         "Environmental protection",
         211144778.14999998,
         941559,
         224.25018310058104
        ],
        [
         "Kenya",
         2016,
         "Nyamira",
         "Health",
         1443593667.8999999,
         665205,
         2170.148552551469
        ],
        [
         "Kenya",
         2016,
         "Nyeri",
         "Public order and safety",
         142197971,
         813608,
         174.77454867700416
        ],
        [
         "Kenya",
         2017,
         "Tana River",
         "Environmental protection",
         28034848,
         328361,
         85.37812955862603
        ],
        [
         "Kenya",
         2017,
         "Nyandarua",
         "Environmental protection",
         121563987,
         693462,
         175.30014189674415
        ],
        [
         "Kenya",
         2017,
         "Nyeri",
         "Health",
         2283822394.7999997,
         820838,
         2782.305881063011
        ],
        [
         "Kenya",
         2017,
         "Siaya",
         "Education",
         576666642.7,
         1056857,
         545.6430176457175
        ],
        [
         "Kenya",
         2017,
         "Kwale",
         "Public order and safety",
         87646682,
         898319,
         97.56743651197404
        ],
        [
         "Kenya",
         2018,
         "Baringo",
         "Economic affairs",
         1008708245.3,
         719983,
         1401.0167535900152
        ],
        [
         "Kenya",
         2018,
         "Trans Nzoia",
         "Education",
         518907457.29999995,
         1068420,
         485.6774089777428
        ],
        [
         "Kenya",
         2019,
         "Kilifi",
         "Education",
         1332209606.45,
         1596266,
         834.5787020772227
        ],
        [
         "Kenya",
         2019,
         "Kajiado",
         "Economic affairs",
         2674288109.1,
         1223473,
         2185.8170217896104
        ],
        [
         "Kenya",
         2019,
         "Bomet",
         "Environmental protection",
         302876545,
         962642,
         314.6305116543845
        ],
        [
         "Kenya",
         2019,
         "Nandi",
         "Public order and safety",
         252295000,
         974055,
         259.0151480152558
        ],
        [
         "Kenya",
         2020,
         "Samburu",
         "Education",
         649971016.2,
         351475,
         1849.2667080162175
        ],
        [
         "Kenya",
         2020,
         "Kakamega",
         "Economic affairs",
         3787042702.6,
         2077815,
         1822.608221906185
        ],
        [
         "Kenya",
         2020,
         "Vihiga",
         "General public services",
         2117755115,
         653324,
         3241.5082179745423
        ],
        [
         "Kenya",
         2020,
         "Laikipia",
         "Public order and safety",
         165440931.25,
         584082,
         283.24949450590844
        ],
        [
         "Kenya",
         2016,
         "Nandi",
         "Housing and community amenities",
         18710919.3,
         927962,
         20.16345421472
        ],
        [
         "Kenya",
         2017,
         "Isiolo",
         "Recreation, culture and religion",
         32906141,
         258309,
         127.39060969613912
        ],
        [
         "Kenya",
         2017,
         "Baringo",
         "General public services",
         1357203669.2999995,
         706821,
         1920.151876217599
        ],
        [
         "Kenya",
         2017,
         "Siaya",
         "Recreation, culture and religion",
         306933494.15,
         1056857,
         290.4210258814579
        ],
        [
         "Kenya",
         2017,
         "Kilifi",
         "Social protection",
         55534794,
         1512422,
         36.71911278730407
        ],
        [
         "Kenya",
         2017,
         "Vihiga",
         "Housing and community amenities",
         330535,
         641879,
         0.514949079187822
        ],
        [
         "Kenya",
         2018,
         "Laikipia",
         "General public services",
         3724384290.4,
         554882,
         6712.029387148979
        ],
        [
         "Kenya",
         2020,
         "Meru",
         "Environmental protection",
         155255559,
         1721672,
         90.177199257466
        ],
        [
         "Kenya",
         2020,
         "Kisumu",
         "Health",
         3673539808,
         1292152,
         2842.9625988273824
        ],
        [
         "Kenya",
         2020,
         "Kajiado",
         "Social protection",
         201710111,
         1283417,
         157.1664634331632
        ],
        [
         "Kenya",
         2016,
         "Kwale",
         "Health",
         1402637610,
         872981,
         1606.721807232918
        ],
        [
         "Kenya",
         2016,
         "Narok",
         "Housing and community amenities",
         121607117.75,
         1158782,
         104.94391330724848
        ],
        [
         "Kenya",
         2016,
         "Siaya",
         "General public services",
         1454395704.4499998,
         1039776,
         1398.7586792251407
        ],
        [
         "Kenya",
         2016,
         "Marsabit",
         "Social protection",
         14640228,
         439105,
         33.34106421015475
        ],
        [
         "Kenya",
         2016,
         "Vihiga",
         "Social protection",
         17873970,
         638039,
         28.013914509928078
        ],
        [
         "Kenya",
         2017,
         "Tana River",
         "Social protection",
         532312207.05,
         328361,
         1621.1188510511297
        ],
        [
         "Kenya",
         2017,
         "Garissa",
         "Housing and community amenities",
         678842827.85,
         935777,
         725.4322641505402
        ],
        [
         "Kenya",
         2017,
         "Uasin Gishu",
         "Environmental protection",
         0,
         1211922,
         0
        ],
        [
         "Kenya",
         2017,
         "Migori",
         "Environmental protection",
         256470778,
         1179905,
         217.36561672338027
        ],
        [
         "Kenya",
         2018,
         "Kisumu",
         "Housing and community amenities",
         8993017,
         1248702,
         7.201892044699216
        ],
        [
         "Kenya",
         2018,
         "Homa Bay",
         "Education",
         645003631.6,
         1225341,
         526.3870478503535
        ],
        [
         "Kenya",
         2018,
         "Kiambu",
         "General public services",
         3679191885.9999995,
         2546938,
         1444.554946370897
        ],
        [
         "Kenya",
         2018,
         "Murang’A",
         "Social protection",
         32295637.45,
         1149942,
         28.084579439658697
        ],
        [
         "Kenya",
         2019,
         "Garissa",
         "Housing and community amenities",
         685895105,
         1012333,
         677.5390163118262
        ],
        [
         "Kenya",
         2020,
         "Vihiga",
         "Recreation, culture and religion",
         140796441,
         653324,
         215.5078353160147
        ],
        [
         "Kenya",
         2016,
         "Nyandarua",
         "Environmental protection",
         66651377.95,
         688885,
         96.75254643372988
        ],
        [
         "Kenya",
         2017,
         "Tana River",
         "General public services",
         1076126064.6499999,
         328361,
         3277.2651583166084
        ],
        [
         "Kenya",
         2017,
         "Murang’A",
         "Social protection",
         101319716.3,
         1136663,
         89.13786786408988
        ],
        [
         "Kenya",
         2017,
         "Kirinyaga",
         "Public order and safety",
         108955840,
         652302,
         167.0328160882536
        ],
        [
         "Kenya",
         2019,
         "Tana River",
         "Education",
         410038396.15,
         346887,
         1182.0517809834325
        ],
        [
         "Kenya",
         2019,
         "Machakos",
         "Health",
         -595432056,
         1561560,
         -381.30590947514025
        ],
        [
         "Kenya",
         2019,
         "Elgeyo Marakwet",
         "Housing and community amenities",
         422557254,
         499495,
         845.9689366259922
        ],
        [
         "Kenya",
         2019,
         "Baringo",
         "Housing and community amenities",
         227847151,
         733056,
         310.81820624890867
        ],
        [
         "Kenya",
         2019,
         "Vihiga",
         "Recreation, culture and religion",
         207167261,
         649836,
         318.7992985922602
        ],
        [
         "Kenya",
         2019,
         "Homa Bay",
         "Education",
         720778965.6,
         1244894,
         578.9882235756619
        ],
        [
         "Kenya",
         2019,
         "Migori",
         "Social protection",
         80828575,
         1227169,
         65.86588725758229
        ],
        [
         "Kenya",
         2020,
         "Garissa",
         "Recreation, culture and religion",
         116367612,
         1052172,
         110.5975182764795
        ],
        [
         "Kenya",
         2020,
         "Marsabit",
         "General public services",
         3251080453,
         526582,
         6173.930086862065
        ],
        [
         "Kenya",
         2016,
         "Kwale",
         "Recreation, culture and religion",
         69052212.25,
         872981,
         79.0993300541478
        ],
        [
         "Kenya",
         2016,
         "Homa Bay",
         "Economic affairs",
         1989128368.6999996,
         1186528,
         1676.4276685421664
        ],
        [
         "Kenya",
         2017,
         "Lamu",
         "Education",
         189769333.35,
         147217,
         1289.044970010257
        ],
        [
         "Kenya",
         2017,
         "Kitui",
         "Health",
         2165800106.7,
         1222018,
         1772.3144067435994
        ],
        [
         "Kenya",
         2017,
         "Vihiga",
         "Economic affairs",
         777727595.5000002,
         641879,
         1211.642062600584
        ],
        [
         "Kenya",
         2018,
         "Uasin Gishu",
         "Recreation, culture and religion",
         464265501.54999995,
         1244465,
         373.0643300936547
        ],
        [
         "Kenya",
         2018,
         "Mandera",
         "Recreation, culture and religion",
         1533869164.0500002,
         933865,
         1642.4956113035612
        ],
        [
         "Kenya",
         2020,
         "Taita Taveta",
         "Economic affairs",
         694173961.7,
         381049,
         1821.7446094859192
        ],
        [
         "Kenya",
         2020,
         "Kajiado",
         "Recreation, culture and religion",
         140511503,
         1283417,
         109.48234517697678
        ],
        [
         "Kenya",
         2016,
         "Marsabit",
         "Housing and community amenities",
         139705857.8,
         439105,
         318.1604805228818
        ],
        [
         "Kenya",
         2016,
         "West Pokot",
         "Recreation, culture and religion",
         32078964.25,
         644820,
         49.748711655966005
        ],
        [
         "Kenya",
         2016,
         "Kisii",
         "Recreation, culture and religion",
         145516179.85000002,
         1355863,
         107.32366017068098
        ],
        [
         "Kenya",
         2017,
         "Kirinyaga",
         "Economic affairs",
         801951400.4500003,
         652302,
         1229.417356454526
        ],
        [
         "Kenya",
         2017,
         "Trans Nzoia",
         "Public order and safety",
         190797157,
         1048071,
         182.0460226454124
        ],
        [
         "Kenya",
         2018,
         "Siaya",
         "General public services",
         1886662581.2499998,
         1074637,
         1755.6277898955645
        ],
        [
         "Kenya",
         2018,
         "Tana River",
         "Housing and community amenities",
         23619044,
         337578,
         69.96618263038468
        ],
        [
         "Kenya",
         2018,
         "Mandera",
         "Economic affairs",
         941699688.8000002,
         933865,
         1008.3895303925087
        ],
        [
         "Kenya",
         2018,
         "Nandi",
         "Public order and safety",
         57318395,
         958607,
         59.79342420825218
        ],
        [
         "Kenya",
         2018,
         "Tana River",
         "General public services",
         1338399019.6,
         337578,
         3964.710436106618
        ],
        [
         "Kenya",
         2019,
         "Trans Nzoia",
         "Health",
         2095290185,
         1088670,
         1924.6329787722634
        ],
        [
         "Kenya",
         2019,
         "Kericho",
         "Education",
         596201323.5,
         991559,
         601.2767001257615
        ],
        [
         "Kenya",
         2020,
         "Mandera",
         "Economic affairs",
         2199036213.3,
         972652,
         2260.8663872587526
        ],
        [
         "Kenya",
         2020,
         "Marsabit",
         "Housing and community amenities",
         123756388,
         526582,
         235.01826496158242
        ],
        [
         "Kenya",
         2017,
         "Kisii",
         "Recreation, culture and religion",
         46924789,
         1368521,
         34.28868756855028
        ],
        [
         "Kenya",
         2018,
         "Embu",
         "General public services",
         1603207195.1999996,
         658507,
         2434.6091920055514
        ],
        [
         "Kenya",
         2018,
         "Samburu",
         "Economic affairs",
         914050595.1000001,
         329613,
         2773.102380974052
        ],
        [
         "Kenya",
         2018,
         "Baringo",
         "Social protection",
         31464242.65,
         719983,
         43.701368851764556
        ],
        [
         "Kenya",
         2018,
         "Kakamega",
         "Public order and safety",
         234757934.45,
         2031790,
         115.54242045191678
        ],
        [
         "Kenya",
         2019,
         "Kilifi",
         "Environmental protection",
         13968968,
         1596266,
         8.75102771092036
        ],
        [
         "Kenya",
         2019,
         "West Pokot",
         "General public services",
         1846861340,
         682913,
         2704.387440274237
        ],
        [
         "Kenya",
         2019,
         "Kericho",
         "Housing and community amenities",
         25013436,
         991559,
         25.226371804400948
        ],
        [
         "Kenya",
         2019,
         "Kakamega",
         "Social protection",
         157666088.5,
         2055240,
         76.7141980985189
        ],
        [
         "Kenya",
         2020,
         "Migori",
         "Environmental protection",
         8548507,
         1250557,
         6.835759585528688
        ],
        [
         "Kenya",
         2020,
         "Embu",
         "Social protection",
         48863086,
         679843,
         71.8740738670546
        ],
        [
         "Kenya",
         2020,
         "Elgeyo Marakwet",
         "Public order and safety",
         113613668.95,
         509480,
         222.99927170840857
        ],
        [
         "Kenya",
         2016,
         "Isiolo",
         "Economic affairs",
         901620105.5000001,
         242687,
         3715.1561702934237
        ],
        [
         "Kenya",
         2016,
         "Homa Bay",
         "Public order and safety",
         26635139,
         1186528,
         22.44796498691982
        ],
        [
         "Kenya",
         2017,
         "Meru",
         "General public services",
         2889928233.099999,
         1656898,
         1744.1799272495946
        ],
        [
         "Kenya",
         2017,
         "Machakos",
         "Health",
         1468485077.4,
         1483106,
         990.141687377706
        ],
        [
         "Kenya",
         2017,
         "Kiambu",
         "Economic affairs",
         2912078440.95,
         2447130,
         1189.997442289539
        ],
        [
         "Kenya",
         2018,
         "Nairobi City",
         "Education",
         1172574865.35,
         4664602,
         251.37725905661404
        ],
        [
         "Kenya",
         2016,
         "Nakuru",
         "Housing and community amenities",
         22989958.8,
         2170005,
         10.594426648786524
        ],
        [
         "Kenya",
         2016,
         "Narok",
         "Health",
         1081430574.5,
         1158782,
         933.2476466669314
        ],
        [
         "Kenya",
         2017,
         "Trans Nzoia",
         "Recreation, culture and religion",
         120978493.94999999,
         1048071,
         115.42967408696548
        ],
        [
         "Kenya",
         2019,
         "Mombasa",
         "Economic affairs",
         4464030050,
         1327105,
         3363.7353864238326
        ],
        [
         "Kenya",
         2019,
         "Trans Nzoia",
         "Housing and community amenities",
         39336948,
         1088670,
         36.13303204827909
        ],
        [
         "Kenya",
         2019,
         "Nandi",
         "General public services",
         2367764155,
         974055,
         2430.8320936702753
        ],
        [
         "Kenya",
         2020,
         "Tharaka Nithi",
         "Education",
         247584156.6,
         435803,
         568.1102622056296
        ],
        [
         "Kenya",
         2020,
         "Samburu",
         "Environmental protection",
         33381619,
         351475,
         94.97579913222846
        ],
        [
         "Kenya",
         2016,
         "Marsabit",
         "Education",
         231307338.15,
         439105,
         526.769993851129
        ],
        [
         "Kenya",
         2016,
         "Nandi",
         "General public services",
         1499890516.6000001,
         927962,
         1616.3275183682092
        ],
        [
         "Kenya",
         2016,
         "Baringo",
         "Environmental protection",
         397631908.29999995,
         694159,
         572.8254021052813
        ],
        [
         "Kenya",
         2016,
         "Migori",
         "Housing and community amenities",
         24232674,
         1157150,
         20.94168776735946
        ],
        [
         "Kenya",
         2017,
         "Kilifi",
         "Education",
         1218779902.15,
         1512422,
         805.8464516847812
        ],
        [
         "Kenya",
         2017,
         "Bungoma",
         "Education",
         595936497.8500001,
         1766291,
         337.39428998392685
        ],
        [
         "Kenya",
         2019,
         "Nyeri",
         "Housing and community amenities",
         396798814,
         835770,
         474.77034830156623
        ],
        [
         "Kenya",
         2019,
         "Lamu",
         "Public order and safety",
         145676381.5,
         157837,
         922.9545765568276
        ],
        [
         "Kenya",
         2019,
         "Garissa",
         "Social protection",
         32988556,
         1012333,
         32.586664664690375
        ],
        [
         "Kenya",
         2020,
         "Busia",
         "Recreation, culture and religion",
         203011476,
         999906,
         203.03056087272205
        ],
        [
         "Kenya",
         2020,
         "Nyamira",
         "Health",
         1827129258,
         667704,
         2736.4359925955214
        ],
        [
         "Kenya",
         2016,
         "Taita Taveta",
         "Economic affairs",
         602014557.1500001,
         354986,
         1695.8825338182353
        ],
        [
         "Kenya",
         2016,
         "Kwale",
         "General public services",
         1137313088.05,
         872981,
         1302.7924869498877
        ],
        [
         "Kenya",
         2016,
         "Tana River",
         "General public services",
         948586403.3000001,
         319535,
         2968.6463245027935
        ],
        [
         "Kenya",
         2016,
         "Tana River",
         "Environmental protection",
         0,
         319535,
         0
        ],
        [
         "Kenya",
         2016,
         "Nairobi City",
         "Economic affairs",
         3440286488.65,
         4360681,
         788.933308501585
        ],
        [
         "Kenya",
         2016,
         "Trans Nzoia",
         "Public order and safety",
         66842483,
         1028502,
         64.99013419516929
        ],
        [
         "Kenya",
         2017,
         "Lamu",
         "Health",
         866291179.7999998,
         147217,
         5884.450707459056
        ],
        [
         "Kenya",
         2017,
         "Nyamira",
         "Housing and community amenities",
         80901763,
         665887,
         121.49473258976373
        ],
        [
         "Kenya",
         2019,
         "Kwale",
         "General public services",
         1884163378,
         951518,
         1980.1657751088262
        ],
        [
         "Kenya",
         2019,
         "Kitui",
         "Economic affairs",
         3776671482,
         1250389,
         3020.397237979541
        ],
        [
         "Kenya",
         2019,
         "Murang’A",
         "Education",
         268209372.8,
         1162856,
         230.6471074664447
        ],
        [
         "Kenya",
         2020,
         "Uasin Gishu",
         "General public services",
         1894958522,
         1310340,
         1446.1578842132576
        ],
        [
         "Kenya",
         2016,
         "Nyandarua",
         "Housing and community amenities",
         280590934.45,
         688885,
         407.3117203161631
        ],
        [
         "Kenya",
         2016,
         "Kirinyaga",
         "Education",
         215140544.5,
         643037,
         334.56946412103815
        ],
        [
         "Kenya",
         2016,
         "Nyandarua",
         "Social protection",
         74850035.5,
         688885,
         108.65389070744754
        ],
        [
         "Kenya",
         2017,
         "Garissa",
         "General public services",
         2559258719.6000004,
         935777,
         2734.902353445319
        ],
        [
         "Kenya",
         2017,
         "Narok",
         "Housing and community amenities",
         181777481.85,
         1194799,
         152.1406377558066
        ],
        [
         "Kenya",
         2019,
         "Samburu",
         "Education",
         531364482,
         340457,
         1560.7388950733866
        ],
        [
         "Kenya",
         2019,
         "Bungoma",
         "Housing and community amenities",
         1466200,
         1836335,
         0.7984381934668783
        ],
        [
         "Kenya",
         2019,
         "Kisumu",
         "Public order and safety",
         676635715.05,
         1270584,
         532.539143456867
        ],
        [
         "Kenya",
         2020,
         "Nyandarua",
         "Economic affairs",
         2077747019.1,
         707150,
         2938.198429046171
        ],
        [
         "Kenya",
         2016,
         "Nyeri",
         "Education",
         151038591.84999996,
         813608,
         185.64049499267455
        ],
        [
         "Kenya",
         2016,
         "Bungoma",
         "General public services",
         3362667474.2999988,
         1732560,
         1940.866390947499
        ],
        [
         "Kenya",
         2016,
         "Nyamira",
         "Education",
         435700040.54999995,
         665205,
         654.9861178884704
        ],
        [
         "Kenya",
         2017,
         "Kwale",
         "General public services",
         1773382653.2,
         898319,
         1974.1123734441774
        ],
        [
         "Kenya",
         2017,
         "Mandera",
         "Social protection",
         41018771.5,
         914409,
         44.858232475839586
        ],
        [
         "Kenya",
         2018,
         "Siaya",
         "Social protection",
         37476740.55,
         1074637,
         34.873860243040205
        ],
        [
         "Kenya",
         2019,
         "Nyeri",
         "General public services",
         1818740479.05,
         835770,
         2176.1255836533974
        ],
        [
         "Kenya",
         2019,
         "Siaya",
         "Social protection",
         28015933,
         1092216,
         25.650542566671795
        ],
        [
         "Kenya",
         2019,
         "Samburu",
         "Public order and safety",
         115907002,
         340457,
         340.44534845810193
        ],
        [
         "Kenya",
         2020,
         "Tana River",
         "General public services",
         3183199447,
         356274,
         8934.694777053615
        ],
        [
         "Kenya",
         2020,
         "Kirinyaga",
         "Public order and safety",
         254990362.45000002,
         680714,
         374.5925050021008
        ],
        [
         "Kenya",
         2016,
         "Mombasa",
         "Health",
         2287606564.9500003,
         1230848,
         1858.5613860931653
        ],
        [
         "Kenya",
         2016,
         "Laikipia",
         "Education",
         22777483,
         526607,
         43.25328565704596
        ],
        [
         "Kenya",
         2016,
         "Garissa",
         "Social protection",
         2499974,
         899835,
         2.778258236232198
        ],
        [
         "Kenya",
         2016,
         "Kajiado",
         "Public order and safety",
         22287443,
         1057819,
         21.069240578964834
        ],
        [
         "Kenya",
         2017,
         "Nyeri",
         "Economic affairs",
         1548673048.45,
         820838,
         1886.697555973286
        ],
        [
         "Kenya",
         2017,
         "Machakos",
         "Social protection",
         178279403.65,
         1483106,
         120.2067847139719
        ],
        [
         "Kenya",
         2018,
         "Nyandarua",
         "Health",
         1150766736.45,
         698341,
         1647.857903875041
        ],
        [
         "Kenya",
         2018,
         "Homa Bay",
         "Social protection",
         97702782,
         1225341,
         79.73517739143634
        ],
        [
         "Kenya",
         2020,
         "Kirinyaga",
         "General public services",
         1550696977,
         680714,
         2278.044783859301
        ],
        [
         "Kenya",
         2017,
         "Taita Taveta",
         "Housing and community amenities",
         2028675,
         361353,
         5.614108641688321
        ],
        [
         "Kenya",
         2017,
         "Mandera",
         "Economic affairs",
         761292452.1,
         914409,
         832.5513551375807
        ],
        [
         "Kenya",
         2017,
         "Kisii",
         "General public services",
         1989765385.2000003,
         1368521,
         1453.953125454414
        ],
        [
         "Kenya",
         2018,
         "Kisii",
         "Public order and safety",
         171240995.65,
         1381816,
         123.92460041713224
        ],
        [
         "Kenya",
         2018,
         "Turkana",
         "Environmental protection",
         3441674.6,
         997968,
         3.448682322479278
        ],
        [
         "Kenya",
         2019,
         "Turkana",
         "Health",
         425470278,
         1018738,
         417.64445618009734
        ],
        [
         "Kenya",
         2020,
         "Lamu",
         "Housing and community amenities",
         121977900,
         163321,
         746.8598649285763
        ],
        [
         "Kenya",
         2020,
         "Nakuru",
         "Recreation, culture and religion",
         1272980850,
         2443175,
         521.0354763780737
        ],
        [
         "Kenya",
         2020,
         "Kisumu",
         "Environmental protection",
         174376327,
         1292152,
         134.95032086008456
        ],
        [
         "Kenya",
         2020,
         "Garissa",
         "Social protection",
         25962421,
         1052172,
         24.675073086909745
        ],
        [
         "Kenya",
         2016,
         "Wajir",
         "Environmental protection",
         150305762.15,
         806684,
         186.32545352331272
        ],
        [
         "Kenya",
         2017,
         "Narok",
         "Health",
         1595958899.8500001,
         1194799,
         1335.7551352570601
        ],
        [
         "Kenya",
         2017,
         "Tana River",
         "Public order and safety",
         91991727,
         328361,
         280.15424182530813
        ],
        [
         "Kenya",
         2019,
         "Makueni",
         "Recreation, culture and religion",
         188876496,
         1087010,
         173.7578274348902
        ],
        [
         "Kenya",
         2019,
         "Kisumu",
         "Recreation, culture and religion",
         209159468,
         1270584,
         164.6167966856186
        ],
        [
         "Kenya",
         2019,
         "Nandi",
         "Social protection",
         27879100,
         974055,
         28.621689740312405
        ],
        [
         "Kenya",
         2020,
         "Mombasa",
         "Housing and community amenities",
         3978000,
         1359896,
         2.9252236935765676
        ],
        [
         "Kenya",
         2020,
         "Tharaka Nithi",
         "General public services",
         960359448,
         435803,
         2203.6549725449345
        ],
        [
         "Kenya",
         2020,
         "Nyeri",
         "Education",
         504356779,
         842660,
         598.5293938243183
        ],
        [
         "Kenya",
         2017,
         "Bomet",
         "Social protection",
         233665631.25,
         926793,
         252.1227838902538
        ],
        [
         "Kenya",
         2017,
         "Busia",
         "Environmental protection",
         13283080,
         947172,
         14.023936518393702
        ],
        [
         "Kenya",
         2017,
         "Siaya",
         "Public order and safety",
         139785471,
         1056857,
         132.26526483715395
        ],
        [
         "Kenya",
         2017,
         "Embu",
         "Recreation, culture and religion",
         1030363.65,
         647624,
         1.5909905284547825
        ],
        [
         "Kenya",
         2019,
         "Mandera",
         "Economic affairs",
         1336615341.6,
         953313,
         1402.0739689902475
        ],
        [
         "Kenya",
         2016,
         "Kericho",
         "Social protection",
         35758006,
         941559,
         37.97744591682518
        ],
        [
         "Kenya",
         2016,
         "Bungoma",
         "Public order and safety",
         50894240.9,
         1732560,
         29.375167901833123
        ],
        [
         "Kenya",
         2017,
         "Kitui",
         "Social protection",
         109371839.75,
         1222018,
         89.50100550892049
        ],
        [
         "Kenya",
         2018,
         "Nyandarua",
         "Public order and safety",
         116886157,
         698341,
         167.37690755662348
        ],
        [
         "Kenya",
         2019,
         "Makueni",
         "Health",
         3115861518,
         1087010,
         2866.4515671428967
        ],
        [
         "Kenya",
         2019,
         "Machakos",
         "Public order and safety",
         385439590.6,
         1561560,
         246.82983081021544
        ],
        [
         "Kenya",
         2020,
         "Machakos",
         "Social protection",
         292588832,
         1601135,
         182.73838995462594
        ],
        [
         "Kenya",
         2020,
         "Nyandarua",
         "Social protection",
         24290120,
         707150,
         34.34931768365976
        ],
        [
         "Kenya",
         2016,
         "Trans Nzoia",
         "Recreation, culture and religion",
         112830980.4,
         1028502,
         109.70419153292848
        ],
        [
         "Kenya",
         2016,
         "Marsabit",
         "Public order and safety",
         15061581,
         439105,
         34.300636522016376
        ],
        [
         "Kenya",
         2017,
         "Makueni",
         "Health",
         2850838015.4,
         1063357,
         2680.979215258845
        ],
        [
         "Kenya",
         2017,
         "Kiambu",
         "Housing and community amenities",
         278375701.15,
         2447130,
         113.7559921826793
        ],
        [
         "Kenya",
         2017,
         "Trans Nzoia",
         "Housing and community amenities",
         40422233,
         1048071,
         38.56822009195942
        ],
        [
         "Kenya",
         2018,
         "Wajir",
         "General public services",
         2241725013.25,
         841065,
         2665.3409822665312
        ],
        [
         "Kenya",
         2018,
         "Baringo",
         "General public services",
         1430813993.5500004,
         719983,
         1987.2885797998015
        ],
        [
         "Kenya",
         2019,
         "Kisii",
         "Education",
         346771891.9,
         1394616,
         248.6504470764712
        ],
        [
         "Kenya",
         2020,
         "Busia",
         "Environmental protection",
         7353000,
         999906,
         7.353691246977216
        ],
        [
         "Kenya",
         2016,
         "Taita Taveta",
         "Housing and community amenities",
         13490723,
         354986,
         38.00353535068989
        ],
        [
         "Kenya",
         2016,
         "Kajiado",
         "Economic affairs",
         1761149825.0999994,
         1057819,
         1664.8876840934029
        ],
        [
         "Kenya",
         2016,
         "Nairobi City",
         "Housing and community amenities",
         167788424.9,
         4360681,
         38.477573778040636
        ],
        [
         "Kenya",
         2016,
         "Wajir",
         "Social protection",
         47263650.4,
         806684,
         58.59004318915461
        ],
        [
         "Kenya",
         2017,
         "Laikipia",
         "Social protection",
         8575895,
         540450,
         15.868063650661485
        ],
        [
         "Kenya",
         2018,
         "Kiambu",
         "Social protection",
         16374230,
         2546938,
         6.428986492800375
        ],
        [
         "Kenya",
         2019,
         "West Pokot",
         "Health",
         1492880530,
         682913,
         2186.0479006842747
        ],
        [
         "Kenya",
         2019,
         "Bomet",
         "General public services",
         18517886,
         962642,
         19.236524066059864
        ],
        [
         "Kenya",
         2019,
         "Busia",
         "Social protection",
         66328943,
         982510,
         67.50968743320679
        ],
        [
         "Kenya",
         2019,
         "Kisii",
         "General public services",
         2879661875,
         1394616,
         2064.84213217115
        ],
        [
         "Kenya",
         2019,
         "Murang’A",
         "Housing and community amenities",
         127333784,
         1162856,
         109.50090466919377
        ],
        [
         "Kenya",
         2019,
         "Tana River",
         "Recreation, culture and religion",
         70479634,
         346887,
         203.1775016071516
        ],
        [
         "Kenya",
         2020,
         "Lamu",
         "General public services",
         922960295,
         163321,
         5651.20403989689
        ],
        [
         "Kenya",
         2020,
         "West Pokot",
         "Health",
         1586028451,
         695607,
         2280.0639599659003
        ],
        [
         "Kenya",
         2016,
         "Baringo",
         "Recreation, culture and religion",
         104501699.35000001,
         694159,
         150.54432680408956
        ],
        [
         "Kenya",
         2017,
         "Nyeri",
         "Social protection",
         111930228.5,
         820838,
         136.3609244455057
        ],
        [
         "Kenya",
         2018,
         "Lamu",
         "Economic affairs",
         353743690.69999987,
         152464,
         2320.178472950991
        ],
        [
         "Kenya",
         2018,
         "Garissa",
         "Economic affairs",
         817194199.9000001,
         973522,
         839.4203725236822
        ],
        [
         "Kenya",
         2018,
         "Elgeyo Marakwet",
         "Education",
         523306388.6999999,
         489448,
         1069.1766820990176
        ],
        [
         "Kenya",
         2019,
         "Mombasa",
         "Recreation, culture and religion",
         353904819.05,
         1327105,
         266.67431668933506
        ],
        [
         "Kenya",
         2020,
         "Migori",
         "General public services",
         2354255257.7,
         1250557,
         1882.565335046703
        ],
        [
         "Kenya",
         2016,
         "Isiolo",
         "General public services",
         1282137069.8,
         242687,
         5283.0892046133495
        ],
        [
         "Kenya",
         2016,
         "Kajiado",
         "General public services",
         1419170962.3500001,
         1057819,
         1341.6009377313133
        ],
        [
         "Kenya",
         2017,
         "Garissa",
         "Recreation, culture and religion",
         3257877,
         935777,
         3.4814672726514972
        ],
        [
         "Kenya",
         2019,
         "Kwale",
         "Recreation, culture and religion",
         31240748,
         951518,
         32.83253495992719
        ],
        [
         "Kenya",
         2019,
         "Embu",
         "General public services",
         1415241052,
         669272,
         2114.597730070883
        ],
        [
         "Kenya",
         2019,
         "Trans Nzoia",
         "Environmental protection",
         38162999,
         1088670,
         35.054698852728556
        ],
        [
         "Kenya",
         2019,
         "Laikipia",
         "Health",
         901773364,
         569446,
         1583.5976791478033
        ],
        [
         "Kenya",
         2020,
         "Turkana",
         "Education",
         1002107460,
         1039404,
         964.1173788055463
        ],
        [
         "Kenya",
         2016,
         "Samburu",
         "Recreation, culture and religion",
         81412482,
         308797,
         263.6440185623565
        ],
        [
         "Kenya",
         2016,
         "Embu",
         "Housing and community amenities",
         0,
         637167,
         0
        ],
        [
         "Kenya",
         2017,
         "Kwale",
         "Health",
         1526243018.45,
         898319,
         1698.9989284986736
        ],
        [
         "Kenya",
         2017,
         "Baringo",
         "Economic affairs",
         1174201487.9999998,
         706821,
         1661.2430700276304
        ],
        [
         "Kenya",
         2018,
         "Murang’A",
         "Economic affairs",
         1261108063.6499999,
         1149942,
         1096.6710178861194
        ],
        [
         "Kenya",
         2018,
         "Marsabit",
         "General public services",
         3093121388.7999997,
         481101,
         6429.255787869906
        ],
        [
         "Kenya",
         2018,
         "Trans Nzoia",
         "Recreation, culture and religion",
         119949836.7,
         1068420,
         112.26843067333071
        ],
        [
         "Kenya",
         2018,
         "Migori",
         "Recreation, culture and religion",
         77066578,
         1203580,
         64.0311221522458
        ],
        [
         "Kenya",
         2016,
         "Nyeri",
         "Health",
         1989480237.700001,
         813608,
         2445.256484326606
        ],
        [
         "Kenya",
         2017,
         "Nyamira",
         "Health",
         1488363521.9,
         665887,
         2235.159301653284
        ],
        [
         "Kenya",
         2017,
         "Nyamira",
         "Public order and safety",
         59742124,
         665887,
         89.71811133120184
        ],
        [
         "Kenya",
         2018,
         "Siaya",
         "Economic affairs",
         1282531852.35,
         1074637,
         1193.4558854292193
        ],
        [
         "Kenya",
         2018,
         "Laikipia",
         "Education",
         152203546.05,
         554882,
         274.2989429284064
        ],
        [
         "Kenya",
         2018,
         "Elgeyo Marakwet",
         "Public order and safety",
         64415692,
         489448,
         131.6088573249865
        ],
        [
         "Kenya",
         2020,
         "Kirinyaga",
         "Housing and community amenities",
         3950770,
         680714,
         5.803861827434135
        ],
        [
         "Kenya",
         2016,
         "Bungoma",
         "Education",
         637311273.3,
         1732560,
         367.8436956295886
        ],
        [
         "Kenya",
         2016,
         "Taita Taveta",
         "Social protection",
         36967468.95,
         354986,
         104.13782219580492
        ],
        [
         "Kenya",
         2018,
         "Nyamira",
         "Economic affairs",
         1930449322.85,
         666829,
         2894.969059309058
        ],
        [
         "Kenya",
         2018,
         "Busia",
         "Housing and community amenities",
         45692981,
         964898,
         47.35524480307763
        ],
        [
         "Kenya",
         2018,
         "Busia",
         "Public order and safety",
         122917019.25,
         964898,
         127.3886143924021
        ],
        [
         "Kenya",
         2018,
         "Embu",
         "Social protection",
         37251300.8,
         658507,
         56.56933153330184
        ],
        [
         "Kenya",
         2018,
         "Trans Nzoia",
         "Environmental protection",
         13037888,
         1068420,
         12.202961382227963
        ],
        [
         "Kenya",
         2016,
         "Kirinyaga",
         "Recreation, culture and religion",
         315965968.45,
         643037,
         491.36514454067185
        ],
        [
         "Kenya",
         2016,
         "Murang’A",
         "Economic affairs",
         1272327154.55,
         1123956,
         1132.0079741110862
        ],
        [
         "Kenya",
         2016,
         "Nyandarua",
         "Public order and safety",
         29887765,
         688885,
         43.385710241912655
        ],
        [
         "Kenya",
         2019,
         "Kilifi",
         "Economic affairs",
         4244667840.55,
         1596266,
         2659.123128945928
        ],
        [
         "Kenya",
         2019,
         "Meru",
         "Health",
         3315038751,
         1700686,
         1949.2362205604093
        ],
        [
         "Kenya",
         2020,
         "Nyeri",
         "General public services",
         1825517511.9499998,
         842660,
         2166.3749459449837
        ],
        [
         "Kenya",
         2020,
         "Kisii",
         "Public order and safety",
         428383028.85,
         1406733,
         304.5233380108379
        ],
        [
         "Kenya",
         2017,
         "Isiolo",
         "Health",
         810899029.55,
         258309,
         3139.259683363723
        ],
        [
         "Kenya",
         2017,
         "Trans Nzoia",
         "Social protection",
         177626486,
         1048071,
         169.4794398471096
        ],
        [
         "Kenya",
         2019,
         "Lamu",
         "Housing and community amenities",
         41630233,
         157837,
         263.75458859456273
        ],
        [
         "Kenya",
         2019,
         "Trans Nzoia",
         "Education",
         668411015.9,
         1088670,
         613.9702718913904
        ],
        [
         "Kenya",
         2019,
         "Isiolo",
         "Public order and safety",
         166133962.5,
         292722,
         567.5486041363478
        ],
        [
         "Kenya",
         2019,
         "Homa Bay",
         "Public order and safety",
         306003313.35,
         1244894,
         245.8067219779355
        ],
        [
         "Kenya",
         2020,
         "Embu",
         "Education",
         441960619,
         679843,
         650.092181577217
        ],
        [
         "Kenya",
         2020,
         "Tharaka Nithi",
         "Social protection",
         30312053,
         435803,
         69.554484480373
        ],
        [
         "Kenya",
         2020,
         "Nyamira",
         "Public order and safety",
         66247813.95,
         667704,
         99.21733874591136
        ],
        [
         "Kenya",
         2017,
         "Kericho",
         "Economic affairs",
         1542418890.65,
         957838,
         1610.3129032780075
        ],
        [
         "Kenya",
         2017,
         "Uasin Gishu",
         "Public order and safety",
         188813275,
         1211922,
         155.79655703914938
        ],
        [
         "Kenya",
         2018,
         "Bungoma",
         "Economic affairs",
         1802033893.5499997,
         1801381,
         1000.3624405664319
        ],
        [
         "Kenya",
         2019,
         "Kiambu",
         "General public services",
         3966678195.75,
         2649591,
         1497.090756931919
        ],
        [
         "Kenya",
         2016,
         "Bungoma",
         "Health",
         1722533895.55,
         1732560,
         994.2131271355681
        ],
        [
         "Kenya",
         2016,
         "Busia",
         "Environmental protection",
         15448897,
         930129,
         16.60941331793762
        ],
        [
         "Kenya",
         2017,
         "Mandera",
         "Education",
         1924755680.2999997,
         914409,
         2104.9176903333187
        ],
        [
         "Kenya",
         2017,
         "Trans Nzoia",
         "Economic affairs",
         1989988469.2500002,
         1048071,
         1898.7153248682582
        ],
        [
         "Kenya",
         2017,
         "Elgeyo Marakwet",
         "Health",
         1436731194.2,
         479383,
         2997.0424362148847
        ],
        [
         "Kenya",
         2018,
         "Bomet",
         "Public order and safety",
         95973276,
         944760,
         101.58482154197891
        ],
        [
         "Kenya",
         2019,
         "Nairobi City",
         "Public order and safety",
         6016003307.249998,
         4823078,
         1247.3369303274792
        ],
        [
         "Kenya",
         2020,
         "Narok",
         "Education",
         1373510558,
         1309378,
         1048.9794070161558
        ],
        [
         "Kenya",
         2016,
         "Trans Nzoia",
         "Social protection",
         100214889.7,
         1028502,
         97.43771980997606
        ],
        [
         "Kenya",
         2016,
         "Kakamega",
         "Environmental protection",
         -1863.35,
         1984614,
         -0.0009388979418667811
        ],
        [
         "Kenya",
         2016,
         "Nyamira",
         "Environmental protection",
         142842752.95000002,
         665205,
         214.73493577167943
        ],
        [
         "Kenya",
         2017,
         "Bungoma",
         "Housing and community amenities",
         1190000,
         1766291,
         0.673728168235019
        ],
        [
         "Kenya",
         2018,
         "West Pokot",
         "Health",
         1299021884.9,
         670083,
         1938.598479442099
        ],
        [
         "Kenya",
         2019,
         "Taita Taveta",
         "Education",
         422929562,
         374561,
         1129.1340048750403
        ],
        [
         "Kenya",
         2020,
         "West Pokot",
         "Social protection",
         182662822,
         695607,
         262.59485887864844
        ],
        [
         "Kenya",
         2020,
         "Kisii",
         "Environmental protection",
         6424195,
         1406733,
         4.566747918759281
        ],
        [
         "Kenya",
         2016,
         "Murang’A",
         "Social protection",
         8138535,
         1123956,
         7.240972956236721
        ],
        [
         "Kenya",
         2016,
         "Busia",
         "Recreation, culture and religion",
         142737004.5,
         930129,
         153.45936370116402
        ],
        [
         "Kenya",
         2017,
         "Machakos",
         "Economic affairs",
         6655186357.049998,
         1483106,
         4487.330209067995
        ],
        [
         "Kenya",
         2017,
         "Makueni",
         "Social protection",
         88797027.95,
         1063357,
         83.50631815091263
        ],
        [
         "Kenya",
         2017,
         "Migori",
         "Public order and safety",
         119327924,
         1179905,
         101.13350142596227
        ],
        [
         "Kenya",
         2018,
         "Vihiga",
         "Housing and community amenities",
         13768680,
         645985,
         21.31424104274867
        ],
        [
         "Kenya",
         2018,
         "Vihiga",
         "Education",
         293458013.25,
         645985,
         454.27991865136187
        ],
        [
         "Kenya",
         2018,
         "Mombasa",
         "Public order and safety",
         261415906.7,
         1294431,
         201.95430015195865
        ],
        [
         "Kenya",
         2020,
         "Isiolo",
         "Education",
         348631733.7,
         311403,
         1119.551621853354
        ],
        [
         "Kenya",
         2020,
         "Baringo",
         "Environmental protection",
         2482538,
         745967,
         3.327946142389677
        ],
        [
         "Kenya",
         2020,
         "Kericho",
         "Economic affairs",
         3064250285.6000004,
         1008092,
         3039.6534102046244
        ],
        [
         "Kenya",
         2016,
         "West Pokot",
         "Health",
         887229036.05,
         644820,
         1375.9328743680405
        ],
        [
         "Kenya",
         2017,
         "Meru",
         "Recreation, culture and religion",
         301486270.85,
         1656898,
         181.9582562414826
        ],
        [
         "Kenya",
         2017,
         "Embu",
         "General public services",
         1570807005.1999998,
         647624,
         2425.492268970884
        ],
        [
         "Kenya",
         2017,
         "Turkana",
         "Economic affairs",
         587519837.0499998,
         977164,
         601.2499816305143
        ],
        [
         "Kenya",
         2017,
         "Nandi",
         "Economic affairs",
         1763336365.4499996,
         942976,
         1869.9695065940168
        ],
        [
         "Kenya",
         2017,
         "Embu",
         "Public order and safety",
         176963566.25,
         647624,
         273.2504759706249
        ],
        [
         "Kenya",
         2018,
         "Mombasa",
         "Social protection",
         69528716.10000001,
         1294431,
         53.71372912113508
        ],
        [
         "Kenya",
         2018,
         "Bomet",
         "Health",
         35983505,
         944760,
         38.08745607350015
        ],
        [
         "Kenya",
         2019,
         "Kajiado",
         "Social protection",
         139247446,
         1223473,
         113.81325619772565
        ],
        [
         "Kenya",
         2020,
         "Kwale",
         "Environmental protection",
         241188533,
         978569,
         246.47064540160173
        ],
        [
         "Kenya",
         2016,
         "Narok",
         "Education",
         653154891.45,
         1158782,
         563.6564008156842
        ],
        [
         "Kenya",
         2016,
         "Kiambu",
         "Social protection",
         55394000,
         2352106,
         23.550809359782253
        ],
        [
         "Kenya",
         2016,
         "Nyamira",
         "Public order and safety",
         3908403,
         665205,
         5.875486504160372
        ],
        [
         "Kenya",
         2017,
         "Isiolo",
         "Environmental protection",
         112928140,
         258309,
         437.18236685520054
        ],
        [
         "Kenya",
         2018,
         "Kitui",
         "Economic affairs",
         3168209478.900001,
         1236405,
         2562.436644060806
        ],
        [
         "Kenya",
         2018,
         "Laikipia",
         "Public order and safety",
         113969631,
         554882,
         205.3943559171139
        ],
        [
         "Kenya",
         2019,
         "Bungoma",
         "Social protection",
         43671377,
         1836335,
         23.78181377580888
        ],
        [
         "Kenya",
         2020,
         "Murang’A",
         "Housing and community amenities",
         214897860,
         1175266,
         182.8504015261226
        ],
        [
         "Kenya",
         2016,
         "Bomet",
         "Environmental protection",
         469028917.9500001,
         909525,
         515.6855698853799
        ],
        [
         "Kenya",
         2018,
         "Murang’A",
         "Health",
         912846640.8,
         1149942,
         793.819723777373
        ],
        [
         "Kenya",
         2018,
         "Kirinyaga",
         "Education",
         245802954.4,
         661961,
         371.32543216292197
        ],
        [
         "Kenya",
         2018,
         "Tana River",
         "Recreation, culture and religion",
         189362006.35,
         337578,
         560.9429712540509
        ],
        [
         "Kenya",
         2020,
         "Nakuru",
         "Housing and community amenities",
         -3201090,
         2443175,
         -1.3102172378155474
        ],
        [
         "Kenya",
         2016,
         "Homa Bay",
         "Housing and community amenities",
         153507210,
         1186528,
         129.37512641926696
        ],
        [
         "Kenya",
         2016,
         "Bomet",
         "Housing and community amenities",
         0,
         909525,
         0
        ],
        [
         "Kenya",
         2017,
         "Migori",
         "General public services",
         2565693196.0999994,
         1179905,
         2174.4913328615435
        ],
        [
         "Kenya",
         2018,
         "Nandi",
         "Economic affairs",
         1397219986.5499995,
         958607,
         1457.5524553336243
        ],
        [
         "Kenya",
         2019,
         "Marsabit",
         "Education",
         722622702,
         503447,
         1435.3501004077887
        ],
        [
         "Kenya",
         2019,
         "Bungoma",
         "Recreation, culture and religion",
         194319828,
         1836335,
         105.81937827248296
        ],
        [
         "Kenya",
         2019,
         "Isiolo",
         "Social protection",
         39433750,
         292722,
         134.71399484835442
        ],
        [
         "Kenya",
         2019,
         "Kakamega",
         "Public order and safety",
         585872953.75,
         2055240,
         285.0630358254997
        ],
        [
         "Kenya",
         2020,
         "Machakos",
         "Health",
         3226216285,
         1601135,
         2014.9558188410097
        ],
        [
         "Kenya",
         2020,
         "Uasin Gishu",
         "Housing and community amenities",
         290602249,
         1310340,
         221.77621762290704
        ],
        [
         "Kenya",
         2020,
         "Uasin Gishu",
         "Education",
         942219672,
         1310340,
         719.0650304501122
        ],
        [
         "Kenya",
         2020,
         "Kisumu",
         "Recreation, culture and religion",
         167645114,
         1292152,
         129.7410165367542
        ],
        [
         "Kenya",
         2020,
         "Kajiado",
         "Public order and safety",
         217091611.95000002,
         1283417,
         169.15126724205774
        ],
        [
         "Kenya",
         2016,
         "Mombasa",
         "Recreation, culture and religion",
         187370651.5,
         1230848,
         152.2289116934016
        ],
        [
         "Kenya",
         2016,
         "Migori",
         "Environmental protection",
         3920020,
         1157150,
         3.3876506935142374
        ],
        [
         "Kenya",
         2017,
         "Meru",
         "Social protection",
         149950706.7,
         1656898,
         90.5008677057972
        ],
        [
         "Kenya",
         2017,
         "Nakuru",
         "Health",
         3082385538.85,
         2235441,
         1378.8713452289726
        ],
        [
         "Kenya",
         2017,
         "Vihiga",
         "General public services",
         1747657343.6499999,
         641879,
         2722.7208611747697
        ],
        [
         "Kenya",
         2017,
         "Busia",
         "Housing and community amenities",
         46735272,
         947172,
         49.34190622189001
        ],
        [
         "Kenya",
         2018,
         "Meru",
         "General public services",
         2658413127.9999995,
         1679035,
         1583.2982207041541
        ],
        [
         "Kenya",
         2018,
         "Tharaka Nithi",
         "Social protection",
         4004589,
         429906,
         9.315033984173285
        ],
        [
         "Kenya",
         2019,
         "Taita Taveta",
         "General public services",
         2876753467,
         374561,
         7680.333689305614
        ],
        [
         "Kenya",
         2019,
         "Migori",
         "Economic affairs",
         3711874155.1499996,
         1227169,
         3024.74569936985
        ],
        [
         "Kenya",
         2019,
         "Wajir",
         "Public order and safety",
         329722721.7,
         858572,
         384.0361923053628
        ],
        [
         "Kenya",
         2020,
         "Isiolo",
         "Health",
         1334533089,
         311403,
         4285.549879095577
        ],
        [
         "Kenya",
         2016,
         "Makueni",
         "Health",
         1870497154.3999999,
         1051888,
         1778.228437248072
        ],
        [
         "Kenya",
         2017,
         "Tana River",
         "Education",
         357257217.25,
         328361,
         1088.0013681588252
        ],
        [
         "Kenya",
         2017,
         "Garissa",
         "Health",
         1028822826.4000001,
         935777,
         1099.4316235598867
        ],
        [
         "Kenya",
         2018,
         "Siaya",
         "Housing and community amenities",
         60928757.20000001,
         1074637,
         56.69705882079252
        ],
        [
         "Kenya",
         2018,
         "Makueni",
         "Public order and safety",
         101214933,
         1075366,
         94.12138099958526
        ],
        [
         "Kenya",
         2018,
         "Kirinyaga",
         "Public order and safety",
         117572650,
         661961,
         177.61265391767793
        ],
        [
         "Kenya",
         2019,
         "Isiolo",
         "Housing and community amenities",
         168050,
         292722,
         0.5740941917587336
        ],
        [
         "Kenya",
         2016,
         "Kiambu",
         "Education",
         379127648.55,
         2352106,
         161.18646376906483
        ],
        [
         "Kenya",
         2016,
         "Tharaka Nithi",
         "Public order and safety",
         18569671.95,
         423626,
         43.835061941429466
        ],
        [
         "Kenya",
         2017,
         "Meru",
         "Housing and community amenities",
         132235304,
         1656898,
         79.8089586685481
        ],
        [
         "Kenya",
         2017,
         "Samburu",
         "Recreation, culture and religion",
         85923184.4,
         318967,
         269.37954208429085
        ],
        [
         "Kenya",
         2018,
         "Kirinyaga",
         "Economic affairs",
         1078730618.8,
         661961,
         1629.5984488512163
        ],
        [
         "Kenya",
         2020,
         "Garissa",
         "Education",
         393605623.4,
         1052172,
         374.0886693430351
        ],
        [
         "Kenya",
         2020,
         "Nandi",
         "Education",
         404887471,
         989217,
         409.30096328712506
        ],
        [
         "Kenya",
         2016,
         "Bomet",
         "Health",
         808345307.5499998,
         909525,
         888.7554575740082
        ],
        [
         "Kenya",
         2017,
         "Meru",
         "Education",
         661185206.05,
         1656898,
         399.05003569924037
        ],
        [
         "Kenya",
         2017,
         "Kiambu",
         "Recreation, culture and religion",
         305310154.09999996,
         2447130,
         124.76253983237505
        ],
        [
         "Kenya",
         2017,
         "Mandera",
         "Housing and community amenities",
         4135,
         914409,
         0.004522046480294923
        ],
        [
         "Kenya",
         2019,
         "Marsabit",
         "Housing and community amenities",
         160944232,
         503447,
         319.68455865264866
        ],
        [
         "Kenya",
         2019,
         "Vihiga",
         "Environmental protection",
         51188795,
         649836,
         78.77186705568789
        ],
        [
         "Kenya",
         2020,
         "Nyeri",
         "Housing and community amenities",
         524149767,
         842660,
         622.0180938931479
        ],
        [
         "Kenya",
         2020,
         "Elgeyo Marakwet",
         "Social protection",
         40658859,
         509480,
         79.80462236005339
        ],
        [
         "Kenya",
         2016,
         "Narok",
         "Recreation, culture and religion",
         128981349,
         1158782,
         111.30769117918642
        ],
        [
         "Kenya",
         2017,
         "Isiolo",
         "General public services",
         1110899428.5000002,
         258309,
         4300.660946773051
        ],
        [
         "Kenya",
         2017,
         "Kakamega",
         "Economic affairs",
         3326623597.2000017,
         2007676,
         1656.9524152303468
        ],
        [
         "Kenya",
         2017,
         "Uasin Gishu",
         "Social protection",
         33173008,
         1211922,
         27.37223022603765
        ],
        [
         "Kenya",
         2018,
         "Nakuru",
         "Social protection",
         68258875.6,
         2303736,
         29.629643153555786
        ],
        [
         "Kenya",
         2018,
         "Kisumu",
         "Public order and safety",
         270028904.95,
         1248702,
         216.24767554628727
        ],
        [
         "Kenya",
         2020,
         "Embu",
         "Health",
         2487636427,
         679843,
         3659.1336926319755
        ],
        [
         "Kenya",
         2020,
         "Kakamega",
         "General public services",
         6304602955,
         2077815,
         3034.2465306102804
        ],
        [
         "Kenya",
         2016,
         "West Pokot",
         "Social protection",
         233273524.29999998,
         644820,
         361.7653365280233
        ],
        [
         "Kenya",
         2016,
         "Elgeyo Marakwet",
         "General public services",
         936825754.2499999,
         469714,
         1994.4599357268462
        ],
        [
         "Kenya",
         2016,
         "Migori",
         "Health",
         909814419.3,
         1157150,
         786.2545212807328
        ],
        [
         "Kenya",
         2017,
         "Kericho",
         "Health",
         1465047784.9,
         957838,
         1529.5360853296697
        ],
        [
         "Kenya",
         2017,
         "Nakuru",
         "Public order and safety",
         440443866.35,
         2235441,
         197.0277302554619
        ],
        [
         "Kenya",
         2017,
         "Bungoma",
         "Public order and safety",
         174187967,
         1766291,
         98.61793271890079
        ],
        [
         "Kenya",
         2018,
         "Meru",
         "Housing and community amenities",
         72528551.1,
         1679035,
         43.19656892202961
        ],
        [
         "Kenya",
         2018,
         "Taita Taveta",
         "Environmental protection",
         15143334,
         367982,
         41.15237701844112
        ],
        [
         "Kenya",
         2019,
         "Elgeyo Marakwet",
         "Social protection",
         53058309,
         499495,
         106.22390414318461
        ],
        [
         "Kenya",
         2019,
         "Lamu",
         "Social protection",
         38141463,
         157837,
         241.65096270202804
        ],
        [
         "Kenya",
         2020,
         "Kisumu",
         "General public services",
         3129405870,
         1292152,
         2421.8558420371596
        ],
        [
         "Kenya",
         2016,
         "Nyandarua",
         "Education",
         216072770.2,
         688885,
         313.6557918955994
        ],
        [
         "Kenya",
         2016,
         "Kakamega",
         "Social protection",
         50629167.45,
         1984614,
         25.51083860639903
        ],
        [
         "Kenya",
         2016,
         "Migori",
         "Economic affairs",
         1762182142.4500003,
         1157150,
         1522.8640560428641
        ],
        [
         "Kenya",
         2016,
         "Embu",
         "Social protection",
         56888511.95,
         637167,
         89.28351899894376
        ],
        [
         "Kenya",
         2018,
         "Tana River",
         "Education",
         303287988.45000005,
         337578,
         898.4234412491337
        ],
        [
         "Kenya",
         2018,
         "Kitui",
         "Recreation, culture and religion",
         22338934.099999998,
         1236405,
         18.067651052850803
        ],
        [
         "Kenya",
         2019,
         "Kirinyaga",
         "Education",
         269551548.8,
         671452,
         401.4457456378118
        ],
        [
         "Kenya",
         2019,
         "Kajiado",
         "Recreation, culture and religion",
         111957242,
         1223473,
         91.5077341306265
        ],
        [
         "Kenya",
         2019,
         "Bomet",
         "Housing and community amenities",
         10297383,
         962642,
         10.697001585220674
        ],
        [
         "Kenya",
         2019,
         "Nairobi City",
         "Recreation, culture and religion",
         286379833,
         4823078,
         59.37698560960449
        ],
        [
         "Kenya",
         2020,
         "Samburu",
         "Recreation, culture and religion",
         158565458,
         351475,
         451.1429205491144
        ],
        [
         "Kenya",
         2016,
         "Garissa",
         "Recreation, culture and religion",
         49361714.2,
         899835,
         54.85640611889958
        ],
        [
         "Kenya",
         2016,
         "Nyamira",
         "Housing and community amenities",
         128895903.64999999,
         665205,
         193.76869333513727
        ],
        [
         "Kenya",
         2017,
         "Murang’A",
         "Economic affairs",
         1951841008.4500005,
         1136663,
         1717.167716772694
        ],
        [
         "Kenya",
         2017,
         "Busia",
         "Education",
         390099496.3,
         947172,
         411.8570822406068
        ],
        [
         "Kenya",
         2018,
         "Uasin Gishu",
         "Economic affairs",
         1386857538.75,
         1244465,
         1114.4206857967079
        ],
        [
         "Kenya",
         2018,
         "Homa Bay",
         "Housing and community amenities",
         283517033.95000005,
         1225341,
         231.37806859478303
        ],
        [
         "Kenya",
         2018,
         "Turkana",
         "Public order and safety",
         83316384,
         997968,
         83.48602760809966
        ],
        [
         "Kenya",
         2018,
         "Kilifi",
         "Public order and safety",
         199862255.79999998,
         1554127,
         128.6009803574611
        ],
        [
         "Kenya",
         2018,
         "Vihiga",
         "General public services",
         1066726755.3000001,
         645985,
         1651.318150266647
        ],
        [
         "Kenya",
         2019,
         "Embu",
         "Social protection",
         51204747.75,
         669272,
         76.50812786131797
        ],
        [
         "Kenya",
         2020,
         "Meru",
         "General public services",
         2910320833.5,
         1721672,
         1690.4037665130177
        ],
        [
         "Kenya",
         2016,
         "Kwale",
         "Education",
         1261691004.2,
         872981,
         1445.2674275843347
        ],
        [
         "Kenya",
         2019,
         "Nakuru",
         "Social protection",
         185278515,
         2373034,
         78.07663733431548
        ],
        [
         "Kenya",
         2019,
         "Elgeyo Marakwet",
         "Public order and safety",
         176617958.5,
         499495,
         353.5930459764362
        ],
        [
         "Kenya",
         2019,
         "Vihiga",
         "Public order and safety",
         146483074,
         649836,
         225.4154494364732
        ],
        [
         "Kenya",
         2019,
         "Homa Bay",
         "Social protection",
         35112314,
         1244894,
         28.20506324233228
        ],
        [
         "Kenya",
         2020,
         "Machakos",
         "Education",
         447477274,
         1601135,
         279.47504364091725
        ],
        [
         "Kenya",
         2016,
         "Garissa",
         "Economic affairs",
         1462421938.55,
         899835,
         1625.2112204459706
        ],
        [
         "Kenya",
         2016,
         "Elgeyo Marakwet",
         "Economic affairs",
         1070323869.3500004,
         469714,
         2278.6714242070716
        ],
        [
         "Kenya",
         2017,
         "Makueni",
         "Economic affairs",
         3449175180.7499995,
         1063357,
         3243.6662200465125
        ],
        [
         "Kenya",
         2017,
         "Kisumu",
         "Health",
         2078076128.6499994,
         1226647,
         1694.1109615480243
        ],
        [
         "Kenya",
         2017,
         "Taita Taveta",
         "Social protection",
         138669826.05,
         361353,
         383.7516944649692
        ],
        [
         "Kenya",
         2018,
         "Homa Bay",
         "Public order and safety",
         54258550,
         1225341,
         44.28036766908151
        ],
        [
         "Kenya",
         2020,
         "Isiolo",
         "General public services",
         1820133386,
         311403,
         5844.944929881857
        ],
        [
         "Kenya",
         2020,
         "Tharaka Nithi",
         "Health",
         1793233079,
         435803,
         4114.779106614686
        ],
        [
         "Kenya",
         2020,
         "Nyeri",
         "Recreation, culture and religion",
         101254376,
         842660,
         120.16041582607457
        ],
        [
         "Kenya",
         2020,
         "Trans Nzoia",
         "Education",
         566319889,
         1108719,
         510.787574669506
        ],
        [
         "Kenya",
         2016,
         "Marsabit",
         "Economic affairs",
         1774027038.05,
         439105,
         4040.0975576456653
        ],
        [
         "Kenya",
         2016,
         "Laikipia",
         "Public order and safety",
         19568972,
         526607,
         37.160485903149784
        ],
        [
         "Kenya",
         2017,
         "Tharaka Nithi",
         "General public services",
         545681534,
         426670,
         1278.9311036632525
        ],
        [
         "Kenya",
         2017,
         "Uasin Gishu",
         "Education",
         535290117.35,
         1211922,
         441.6869380620205
        ],
        [
         "Kenya",
         2017,
         "Kisumu",
         "General public services",
         1301273353.1000001,
         1226647,
         1060.837676283397
        ],
        [
         "Kenya",
         2018,
         "Mandera",
         "General public services",
         4215054033.850001,
         933865,
         4513.558205789917
        ],
        [
         "Kenya",
         2019,
         "Lamu",
         "Health",
         879307498,
         157837,
         5570.984610705981
        ],
        [
         "Kenya",
         2019,
         "Tharaka Nithi",
         "Education",
         285929003,
         432967,
         660.3944480757194
        ],
        [
         "Kenya",
         2019,
         "Nyandarua",
         "General public services",
         1459769173,
         702930,
         2076.692093096041
        ],
        [
         "Kenya",
         2016,
         "Nandi",
         "Education",
         197322564.35,
         927962,
         212.64078092637413
        ],
        [
         "Kenya",
         2016,
         "Kajiado",
         "Education",
         803452126.6,
         1057819,
         759.536486487764
        ],
        [
         "Kenya",
         2017,
         "Taita Taveta",
         "Economic affairs",
         381793999.55000013,
         361353,
         1056.5679530818898
        ],
        [
         "Kenya",
         2017,
         "Meru",
         "Health",
         2879803374.6000004,
         1656898,
         1738.069195931192
        ],
        [
         "Kenya",
         2018,
         "Garissa",
         "General public services",
         2232716177.3000007,
         973522,
         2293.441932796589
        ],
        [
         "Kenya",
         2018,
         "Busia",
         "General public services",
         2354101326.8,
         964898,
         2439.741119579479
        ],
        [
         "Kenya",
         2019,
         "Machakos",
         "Education",
         401866039.15,
         1561560,
         257.3490862662978
        ],
        [
         "Kenya",
         2019,
         "Makueni",
         "Public order and safety",
         337827545.45,
         1087010,
         310.78605114028386
        ],
        [
         "Kenya",
         2019,
         "Bomet",
         "Public order and safety",
         197882870,
         962642,
         205.5622650995905
        ],
        [
         "Kenya",
         2020,
         "Kirinyaga",
         "Social protection",
         229814770,
         680714,
         337.60840823018185
        ],
        [
         "Kenya",
         2020,
         "Vihiga",
         "Environmental protection",
         12212279,
         653324,
         18.692530811664657
        ],
        [
         "Kenya",
         2016,
         "Narok",
         "Environmental protection",
         121146563.69999999,
         1158782,
         104.54646663479411
        ],
        [
         "Kenya",
         2016,
         "Kericho",
         "General public services",
         1068459951.75,
         941559,
         1134.7774826112861
        ],
        [
         "Kenya",
         2016,
         "Siaya",
         "Social protection",
         72970606.2,
         1039776,
         70.17915993444743
        ],
        [
         "Kenya",
         2017,
         "Bungoma",
         "Economic affairs",
         2069517476.1500006,
         1766291,
         1171.6741330562181
        ],
        [
         "Kenya",
         2017,
         "Homa Bay",
         "Economic affairs",
         1510813967.9999998,
         1205544,
         1253.2217554896376
        ],
        [
         "Kenya",
         2018,
         "Makueni",
         "General public services",
         2631250899.149999,
         1075366,
         2446.8421906123117
        ],
        [
         "Kenya",
         2018,
         "Nyamira",
         "Recreation, culture and religion",
         108020359,
         666829,
         161.99109366869166
        ],
        [
         "Kenya",
         2019,
         "Laikipia",
         "Economic affairs",
         1199225219,
         569446,
         2105.950729305325
        ],
        [
         "Kenya",
         2019,
         "Bomet",
         "Social protection",
         82138497,
         962642,
         85.32610981029292
        ],
        [
         "Kenya",
         2019,
         "Vihiga",
         "General public services",
         1903586357,
         649836,
         2929.333488757163
        ],
        [
         "Kenya",
         2019,
         "Mombasa",
         "Social protection",
         75157445,
         1327105,
         56.63262891783243
        ],
        [
         "Kenya",
         2020,
         "Kilifi",
         "Environmental protection",
         4540220,
         1638699,
         2.770624745606118
        ],
        [
         "Kenya",
         2020,
         "Wajir",
         "Health",
         2513303795,
         875989,
         2869.104286697664
        ],
        [
         "Kenya",
         2020,
         "Uasin Gishu",
         "Public order and safety",
         312070749.4,
         1310340,
         238.1601335531236
        ],
        [
         "Kenya",
         2016,
         "Taita Taveta",
         "General public services",
         1322103218.9999998,
         354986,
         3724.3812967271942
        ],
        [
         "Kenya",
         2016,
         "Taita Taveta",
         "Health",
         1061304359.5500001,
         354986,
         2989.707649174897
        ],
        [
         "Kenya",
         2016,
         "Busia",
         "Health",
         1316812270.1000001,
         930129,
         1415.7307965884304
        ],
        [
         "Kenya",
         2016,
         "Migori",
         "Education",
         142068208.8,
         1157150,
         122.77423739359635
        ],
        [
         "Kenya",
         2016,
         "Kisii",
         "Public order and safety",
         42758800.5,
         1355863,
         31.536224898828273
        ],
        [
         "Kenya",
         2017,
         "Kilifi",
         "General public services",
         2145500023.1,
         1512422,
         1418.5855687764392
        ],
        [
         "Kenya",
         2017,
         "Nyandarua",
         "Health",
         1160427756.3999999,
         693462,
         1673.3833380920653
        ],
        [
         "Kenya",
         2017,
         "Kisumu",
         "Recreation, culture and religion",
         408051694.20000005,
         1226647,
         332.6561710092635
        ],
        [
         "Kenya",
         2017,
         "Nairobi City",
         "Public order and safety",
         7179738828.599999,
         4509233,
         1592.2306140756086
        ],
        [
         "Kenya",
         2018,
         "Laikipia",
         "Health",
         598174246.95,
         554882,
         1078.0206367299716
        ],
        [
         "Kenya",
         2018,
         "Isiolo",
         "Public order and safety",
         65879718.95,
         275035,
         239.5321284563783
        ],
        [
         "Kenya",
         2018,
         "Narok",
         "Environmental protection",
         76243940.35000001,
         1232410,
         61.86572678735162
        ],
        [
         "Kenya",
         2020,
         "Nyamira",
         "General public services",
         1568769650,
         667704,
         2349.498655092676
        ],
        [
         "Kenya",
         2016,
         "Machakos",
         "Housing and community amenities",
         110658606.39999999,
         1445601,
         76.54851262554466
        ],
        [
         "Kenya",
         2016,
         "Machakos",
         "Public order and safety",
         8307944,
         1445601,
         5.7470519181987285
        ],
        [
         "Kenya",
         2017,
         "Kajiado",
         "Housing and community amenities",
         -519600,
         1110272,
         -0.4679934286373069
        ],
        [
         "Kenya",
         2019,
         "Narok",
         "Health",
         1989141946,
         1270631,
         1565.475693572721
        ],
        [
         "Kenya",
         2019,
         "Embu",
         "Public order and safety",
         332657239.85,
         669272,
         497.0434141126478
        ],
        [
         "Kenya",
         2020,
         "Migori",
         "Economic affairs",
         3440839517.6,
         1250557,
         2751.4455699340374
        ],
        [
         "Kenya",
         2016,
         "Taita Taveta",
         "Environmental protection",
         93193209.64999999,
         354986,
         262.52643667637597
        ],
        [
         "Kenya",
         2016,
         "Mandera",
         "Education",
         1418474396.7,
         895698,
         1583.652522055425
        ],
        [
         "Kenya",
         2016,
         "Narok",
         "Social protection",
         124053798,
         1158782,
         107.05533741463019
        ],
        [
         "Kenya",
         2017,
         "Mandera",
         "General public services",
         3981984063.3,
         914409,
         4354.707864095826
        ],
        [
         "Kenya",
         2017,
         "Elgeyo Marakwet",
         "Economic affairs",
         1202166772.0999997,
         479383,
         2507.737596243504
        ],
        [
         "Kenya",
         2017,
         "Kitui",
         "Public order and safety",
         285303891.5,
         1222018,
         233.46946730735553
        ],
        [
         "Kenya",
         2017,
         "Kericho",
         "Public order and safety",
         130081799,
         957838,
         135.8077242707013
        ],
        [
         "Kenya",
         2018,
         "West Pokot",
         "General public services",
         1550296077.3500004,
         670083,
         2313.588133634192
        ],
        [
         "Kenya",
         2018,
         "Lamu",
         "Housing and community amenities",
         35665741.3,
         152464,
         233.9289360111239
        ],
        [
         "Kenya",
         2018,
         "Laikipia",
         "Economic affairs",
         627397171.85,
         554882,
         1130.6857527366178
        ],
        [
         "Kenya",
         2018,
         "Bungoma",
         "Housing and community amenities",
         5057615.4,
         1801381,
         2.807632255475105
        ],
        [
         "Kenya",
         2018,
         "Nyamira",
         "Public order and safety",
         50468920,
         666829,
         75.68495071450101
        ],
        [
         "Kenya",
         2019,
         "Kisii",
         "Housing and community amenities",
         612591856,
         1394616,
         439.2548601192013
        ],
        [
         "Kenya",
         2020,
         "Isiolo",
         "Environmental protection",
         36581043,
         311403,
         117.47171029180836
        ],
        [
         "Kenya",
         2020,
         "Meru",
         "Health",
         3311388448,
         1721672,
         1923.3561607553588
        ],
        [
         "Kenya",
         2020,
         "Samburu",
         "Housing and community amenities",
         409319180,
         351475,
         1164.5755174621238
        ],
        [
         "Kenya",
         2020,
         "Machakos",
         "Public order and safety",
         293099047.45,
         1601135,
         183.05704856242602
        ],
        [
         "Kenya",
         2016,
         "Narok",
         "Economic affairs",
         1603177666.2000003,
         1158782,
         1383.5023897506178
        ],
        [
         "Kenya",
         2016,
         "Mandera",
         "Social protection",
         23000000,
         895698,
         25.678297819131
        ],
        [
         "Kenya",
         2017,
         "Kwale",
         "Social protection",
         118032074.85000001,
         898319,
         131.3921611921823
        ],
        [
         "Kenya",
         2017,
         "Garissa",
         "Education",
         146548307,
         935777,
         156.60601510830037
        ],
        [
         "Kenya",
         2019,
         "Nyeri",
         "Public order and safety",
         1101683347.3,
         835770,
         1318.1657002524616
        ],
        [
         "Kenya",
         2019,
         "Busia",
         "Environmental protection",
         5146200,
         982510,
         5.237809284383874
        ],
        [
         "Kenya",
         2020,
         "Homa Bay",
         "Education",
         590182628,
         1264071,
         466.8904104278953
        ],
        [
         "Kenya",
         2020,
         "Kisii",
         "Economic affairs",
         5803067539.2,
         1406733,
         4125.208933891506
        ],
        [
         "Kenya",
         2020,
         "Mandera",
         "Housing and community amenities",
         0,
         972652,
         0
        ],
        [
         "Kenya",
         2016,
         "Kakamega",
         "Recreation, culture and religion",
         207581456.00000003,
         1984614,
         104.59538026034284
        ],
        [
         "Kenya",
         2017,
         "Samburu",
         "Economic affairs",
         1017164437.5000001,
         318967,
         3188.9331419864757
        ],
        [
         "Kenya",
         2017,
         "Nairobi City",
         "General public services",
         4539946051.200001,
         4509233,
         1006.8111475277504
        ],
        [
         "Kenya",
         2018,
         "Nakuru",
         "General public services",
         3075288777.4499993,
         2303736,
         1334.913712964506
        ],
        [
         "Kenya",
         2018,
         "Nyamira",
         "Health",
         1747948027.0500004,
         666829,
         2621.2837579799325
        ],
        [
         "Kenya",
         2019,
         "Mandera",
         "Education",
         3048098409,
         953313,
         3197.374219170409
        ],
        [
         "Kenya",
         2019,
         "Uasin Gishu",
         "Economic affairs",
         4533882994.45,
         1277307,
         3549.564039381292
        ],
        [
         "Kenya",
         2019,
         "Nandi",
         "Economic affairs",
         2280900689,
         974055,
         2341.6549260565366
        ],
        [
         "Kenya",
         2019,
         "Busia",
         "Health",
         1906606606,
         982510,
         1940.5467689896286
        ],
        [
         "Kenya",
         2020,
         "Mombasa",
         "General public services",
         3200242225,
         1359896,
         2353.2992412655085
        ],
        [
         "Kenya",
         2020,
         "Kwale",
         "Social protection",
         317826724,
         978569,
         324.7872393259954
        ],
        [
         "Kenya",
         2020,
         "Kiambu",
         "Health",
         5239679180,
         2754995,
         1901.8833718391504
        ],
        [
         "Kenya",
         2020,
         "Nakuru",
         "Social protection",
         173843824,
         2443175,
         71.15488002292099
        ],
        [
         "Kenya",
         2020,
         "Bungoma",
         "General public services",
         3125335417,
         1870968,
         1670.4376648879083
        ],
        [
         "Kenya",
         2016,
         "Kisii",
         "Environmental protection",
         20836022.95,
         1355863,
         15.367351236813748
        ],
        [
         "Kenya",
         2017,
         "Taita Taveta",
         "Education",
         385887988.65,
         361353,
         1067.897564569825
        ],
        [
         "Kenya",
         2017,
         "Elgeyo Marakwet",
         "Social protection",
         45476964,
         479383,
         94.86561684498616
        ],
        [
         "Kenya",
         2020,
         "Laikipia",
         "General public services",
         4375583263,
         584082,
         7491.385221595598
        ],
        [
         "Kenya",
         2020,
         "Migori",
         "Social protection",
         75964045,
         1250557,
         60.7441683985616
        ],
        [
         "Kenya",
         2020,
         "Nakuru",
         "Public order and safety",
         695092672.65,
         2443175,
         284.50384137444104
        ],
        [
         "Kenya",
         2020,
         "Kiambu",
         "Environmental protection",
         271939606,
         2754995,
         98.70784012312183
        ],
        [
         "Kenya",
         2020,
         "Samburu",
         "Social protection",
         28017485,
         351475,
         79.71401948929511
        ],
        [
         "Kenya",
         2016,
         "Makueni",
         "Economic affairs",
         1892499261.100001,
         1051888,
         1799.145214224329
        ],
        [
         "Kenya",
         2017,
         "Kericho",
         "Education",
         689462680.45,
         957838,
         719.8113673188994
        ],
        [
         "Kenya",
         2020,
         "Kericho",
         "Environmental protection",
         505635234,
         1008092,
         501.57647714692706
        ],
        [
         "Kenya",
         2020,
         "Baringo",
         "Social protection",
         6326537,
         745967,
         8.480987764874317
        ],
        [
         "Kenya",
         2016,
         "Garissa",
         "General public services",
         2145987333.15,
         899835,
         2384.8675958925805
        ],
        [
         "Kenya",
         2016,
         "Busia",
         "Education",
         474381741.0500001,
         930129,
         510.01714928789454
        ],
        [
         "Kenya",
         2017,
         "Wajir",
         "Social protection",
         66943597.8,
         823531,
         81.28849770075443
        ],
        [
         "Kenya",
         2017,
         "Homa Bay",
         "Public order and safety",
         154558674,
         1205544,
         128.20658059763892
        ],
        [
         "Kenya",
         2018,
         "Samburu",
         "Environmental protection",
         20898861.75,
         329613,
         63.40423997233119
        ],
        [
         "Kenya",
         2018,
         "Baringo",
         "Environmental protection",
         261939598.14999998,
         719983,
         363.8135874735931
        ],
        [
         "Kenya",
         2020,
         "Tana River",
         "Social protection",
         77453255,
         356274,
         217.3979998540449
        ],
        [
         "Kenya",
         2020,
         "Turkana",
         "Social protection",
         77257025,
         1039404,
         74.32819673582168
        ],
        [
         "Kenya",
         2020,
         "Elgeyo Marakwet",
         "General public services",
         3704850,
         509480,
         7.271826175708566
        ],
        [
         "Kenya",
         2020,
         "Laikipia",
         "Recreation, culture and religion",
         3709252,
         584082,
         6.350567214877363
        ],
        [
         "Kenya",
         2017,
         "Kajiado",
         "Health",
         1716787476.45,
         1110272,
         1546.2764768002796
        ],
        [
         "Kenya",
         2017,
         "Baringo",
         "Public order and safety",
         203895260.15,
         706821,
         288.4680281853539
        ],
        [
         "Kenya",
         2018,
         "Kiambu",
         "Public order and safety",
         1325716302.4499998,
         2546938,
         520.5137708299142
        ],
        [
         "Kenya",
         2019,
         "Kwale",
         "Health",
         2585305299,
         951518,
         2717.032467068411
        ],
        [
         "Kenya",
         2019,
         "Mandera",
         "Housing and community amenities",
         0,
         953313,
         0
        ],
        [
         "Kenya",
         2020,
         "Kericho",
         "Social protection",
         71899313,
         1008092,
         71.32217396824893
        ],
        [
         "Kenya",
         2020,
         "Laikipia",
         "Environmental protection",
         17072322,
         584082,
         29.229323964785767
        ],
        [
         "Kenya",
         2016,
         "Siaya",
         "Economic affairs",
         1267850154.4500003,
         1039776,
         1219.349316054612
        ],
        [
         "Kenya",
         2018,
         "Tharaka Nithi",
         "General public services",
         229670992,
         429906,
         534.2353723837304
        ],
        [
         "Kenya",
         2019,
         "Kitui",
         "Social protection",
         62575339.5,
         1250389,
         50.04469769007885
        ],
        [
         "Kenya",
         2019,
         "Baringo",
         "Environmental protection",
         699366825,
         733056,
         954.0428357451545
        ],
        [
         "Kenya",
         2019,
         "Bomet",
         "Health",
         447118357,
         962642,
         464.47002831790013
        ],
        [
         "Kenya",
         2019,
         "Vihiga",
         "Health",
         1575339768,
         649836,
         2424.2112902332283
        ],
        [
         "Kenya",
         2020,
         "Kiambu",
         "General public services",
         3766523602,
         2754995,
         1367.1616834150334
        ],
        [
         "Kenya",
         2020,
         "Trans Nzoia",
         "Health",
         2129729316,
         1108719,
         1920.8918725123317
        ],
        [
         "Kenya",
         2020,
         "Nyamira",
         "Education",
         735057219,
         667704,
         1100.8728703137917
        ],
        [
         "Kenya",
         2020,
         "Murang’A",
         "Public order and safety",
         271511546.85,
         1175266,
         231.02135759053698
        ],
        [
         "Kenya",
         2020,
         "Nairobi City",
         "Public order and safety",
         5631348580.2,
         4984406,
         1129.7933154321697
        ],
        [
         "Kenya",
         2016,
         "West Pokot",
         "Economic affairs",
         1170346133.3999996,
         644820,
         1814.9966399925554
        ],
        [
         "Kenya",
         2017,
         "Siaya",
         "Housing and community amenities",
         63499584.24999999,
         1056857,
         60.0834211724008
        ],
        [
         "Kenya",
         2017,
         "Migori",
         "Health",
         1350882786.8999999,
         1179905,
         1144.9080959060261
        ],
        [
         "Kenya",
         2017,
         "Kajiado",
         "Social protection",
         81910511.45,
         1110272,
         73.7751753173997
        ],
        [
         "Kenya",
         2018,
         "Embu",
         "Education",
         485246539.4500001,
         658507,
         736.8889616207574
        ],
        [
         "Kenya",
         2019,
         "Nandi",
         "Education",
         663141802.15,
         974055,
         680.8052955428594
        ],
        [
         "Kenya",
         2019,
         "Bungoma",
         "Economic affairs",
         3474029447.5,
         1836335,
         1891.827715258926
        ],
        [
         "Kenya",
         2019,
         "Baringo",
         "Social protection",
         38329271,
         733056,
         52.286961705517726
        ],
        [
         "Kenya",
         2020,
         "Kakamega",
         "Recreation, culture and religion",
         576944488,
         2077815,
         277.6688434725902
        ],
        [
         "Kenya",
         2020,
         "Isiolo",
         "Social protection",
         35710561,
         311403,
         114.67635507686181
        ],
        [
         "Kenya",
         2020,
         "Siaya",
         "Social protection",
         22003952,
         1109487,
         19.832546032535756
        ],
        [
         "Kenya",
         2016,
         "Meru",
         "General public services",
         2133037109.9499996,
         1635681,
         1304.0666914575638
        ],
        [
         "Kenya",
         2016,
         "Nandi",
         "Recreation, culture and religion",
         58160976.95,
         927962,
         62.676033016438176
        ],
        [
         "Kenya",
         2017,
         "West Pokot",
         "Economic affairs",
         2367301437.4000006,
         657207,
         3602.0636380927176
        ],
        [
         "Kenya",
         2017,
         "Bomet",
         "General public services",
         1150059556.9,
         926793,
         1240.9022909106998
        ],
        [
         "Kenya",
         2017,
         "Mombasa",
         "Housing and community amenities",
         563484,
         1261992,
         0.4465036228438849
        ],
        [
         "Kenya",
         2018,
         "Nyandarua",
         "Economic affairs",
         1189449306.8,
         698341,
         1703.2499979236504
        ],
        [
         "Kenya",
         2018,
         "Kiambu",
         "Housing and community amenities",
         237321181.55,
         2546938,
         93.17901792269777
        ],
        [
         "Kenya",
         2018,
         "Uasin Gishu",
         "Housing and community amenities",
         280754608,
         1244465,
         225.6026549561458
        ],
        [
         "Kenya",
         2018,
         "Trans Nzoia",
         "Social protection",
         99294699.95,
         1068420,
         92.9360176241553
        ],
        [
         "Kenya",
         2019,
         "Tharaka Nithi",
         "Social protection",
         76149305,
         432967,
         175.87784981303426
        ],
        [
         "Kenya",
         2020,
         "Narok",
         "Environmental protection",
         334677389,
         1309378,
         255.60028425710527
        ],
        [
         "Kenya",
         2016,
         "Lamu",
         "Education",
         222330565.34999996,
         142194,
         1563.5720589476346
        ],
        [
         "Kenya",
         2016,
         "Tharaka Nithi",
         "Social protection",
         0,
         423626,
         0
        ],
        [
         "Kenya",
         2017,
         "Narok",
         "Social protection",
         124305184.94999999,
         1194799,
         104.03857464728375
        ],
        [
         "Kenya",
         2018,
         "Bungoma",
         "General public services",
         3057864941.5499988,
         1801381,
         1697.5114878806864
        ],
        [
         "Kenya",
         2018,
         "Kisii",
         "Housing and community amenities",
         347305324.5,
         1381816,
         251.339776424647
        ],
        [
         "Kenya",
         2018,
         "Elgeyo Marakwet",
         "Health",
         1690221962.7000003,
         489448,
         3453.322850844217
        ],
        [
         "Kenya",
         2019,
         "Baringo",
         "Economic affairs",
         1488172381,
         733056,
         2030.093718624498
        ],
        [
         "Kenya",
         2020,
         "Marsabit",
         "Education",
         523630639.4,
         526582,
         994.3952497426801
        ],
        [
         "Kenya",
         2020,
         "Meru",
         "Recreation, culture and religion",
         165500512,
         1721672,
         96.12778276001468
        ],
        [
         "Kenya",
         2020,
         "Baringo",
         "Public order and safety",
         177808584.95,
         745967,
         238.35985365304361
        ],
        [
         "Kenya",
         2016,
         "Samburu",
         "General public services",
         1219754683.8500001,
         308797,
         3950.0211590462345
        ],
        [
         "Kenya",
         2016,
         "Laikipia",
         "Economic affairs",
         470563339.0500001,
         526607,
         893.5759286336871
        ],
        [
         "Kenya",
         2016,
         "Kakamega",
         "General public services",
         2361811657.8999996,
         1984614,
         1190.0609679766442
        ],
        [
         "Kenya",
         2016,
         "Marsabit",
         "Recreation, culture and religion",
         48150716,
         439105,
         109.65649673768233
        ],
        [
         "Kenya",
         2017,
         "Migori",
         "Economic affairs",
         1885928874.1999996,
         1179905,
         1598.3734912556515
        ],
        [
         "Kenya",
         2018,
         "Wajir",
         "Education",
         786409867.2,
         841065,
         935.01675518539
        ],
        [
         "Kenya",
         2019,
         "Tana River",
         "Public order and safety",
         136839329.35,
         346887,
         394.47811347787604
        ],
        [
         "Kenya",
         2016,
         "Kwale",
         "Housing and community amenities",
         556049532.3000001,
         872981,
         636.9549077242232
        ],
        [
         "Kenya",
         2016,
         "Makueni",
         "General public services",
         1896422163.3499992,
         1051888,
         1802.8746058040392
        ],
        [
         "Kenya",
         2016,
         "Laikipia",
         "General public services",
         2723902116.9500003,
         526607,
         5172.552049156202
        ],
        [
         "Kenya",
         2017,
         "Kirinyaga",
         "Social protection",
         265450203.6,
         652302,
         406.94372177304376
        ],
        [
         "Kenya",
         2017,
         "Nakuru",
         "Education",
         565261658.85,
         2235441,
         252.86360000107362
        ],
        [
         "Kenya",
         2018,
         "Kwale",
         "Social protection",
         188136260.45000002,
         924747,
         203.44619712202368
        ],
        [
         "Kenya",
         2019,
         "Murang’A",
         "Economic affairs",
         1958905335.55,
         1162856,
         1684.5639834596889
        ],
        [
         "Kenya",
         2019,
         "Siaya",
         "Education",
         777745273.1,
         1092216,
         712.0800950544581
        ],
        [
         "Kenya",
         2019,
         "Tharaka Nithi",
         "Housing and community amenities",
         51965682,
         432967,
         120.02226959560429
        ],
        [
         "Kenya",
         2019,
         "Siaya",
         "Public order and safety",
         213153362.5,
         1092216,
         195.15678446387895
        ],
        [
         "Kenya",
         2020,
         "Murang’A",
         "Education",
         338649296,
         1175266,
         288.1469352469994
        ],
        [
         "Kenya",
         2020,
         "Murang’A",
         "Economic affairs",
         1322490223.8,
         1175266,
         1125.2688530085954
        ],
        [
         "Kenya",
         2020,
         "Kiambu",
         "Public order and safety",
         1491410791.5,
         2754995,
         541.3479122466647
        ],
        [
         "Kenya",
         2016,
         "Uasin Gishu",
         "Health",
         1247272239.5500002,
         1180687,
         1056.3953355546391
        ],
        [
         "Kenya",
         2017,
         "Isiolo",
         "Housing and community amenities",
         4659921,
         258309,
         18.04010313229504
        ],
        [
         "Kenya",
         2018,
         "Taita Taveta",
         "General public services",
         3384128274.449999,
         367982,
         9196.450572174723
        ],
        [
         "Kenya",
         2018,
         "Meru",
         "Health",
         3256305729.2,
         1679035,
         1939.3912153111758
        ],
        [
         "Kenya",
         2018,
         "Siaya",
         "Education",
         489406000.50000006,
         1074637,
         455.4151778693643
        ],
        [
         "Kenya",
         2018,
         "Bungoma",
         "Environmental protection",
         43771220.45,
         1801381,
         24.298702190153
        ],
        [
         "Kenya",
         2019,
         "Baringo",
         "General public services",
         1602458445,
         733056,
         2185.9973112558932
        ],
        [
         "Kenya",
         2019,
         "Busia",
         "Education",
         520560869.25,
         982510,
         529.8275531546752
        ],
        [
         "Kenya",
         2019,
         "Laikipia",
         "Environmental protection",
         23427114,
         569446,
         41.14018537315215
        ],
        [
         "Kenya",
         2020,
         "Garissa",
         "Housing and community amenities",
         760373559,
         1052172,
         722.67039894618
        ],
        [
         "Kenya",
         2020,
         "Bomet",
         "Health",
         507173765,
         980330,
         517.3500402925546
        ],
        [
         "Kenya",
         2016,
         "Bomet",
         "Social protection",
         333560038.35,
         909525,
         366.74092339407935
        ],
        [
         "Kenya",
         2016,
         "Kisumu",
         "Housing and community amenities",
         1777803.2,
         1205448,
         1.474807042692841
        ],
        [
         "Kenya",
         2017,
         "Turkana",
         "General public services",
         4005143405.25,
         977164,
         4098.742284048532
        ],
        [
         "Kenya",
         2017,
         "Kajiado",
         "Environmental protection",
         259321809.3,
         1110272,
         233.5660174263604
        ],
        [
         "Kenya",
         2017,
         "Kajiado",
         "Recreation, culture and religion",
         3997794.7,
         1110272,
         3.600734504697948
        ],
        [
         "Kenya",
         2017,
         "Kericho",
         "Social protection",
         58692731,
         957838,
         61.276260703793334
        ],
        [
         "Kenya",
         2018,
         "Machakos",
         "General public services",
         1529601845.8000002,
         1522169,
         1004.8830621304206
        ],
        [
         "Kenya",
         2018,
         "Bomet",
         "Housing and community amenities",
         6529440,
         944760,
         6.911215546805538
        ],
        [
         "Kenya",
         2018,
         "Kisumu",
         "Social protection",
         80815681.2,
         1248702,
         64.71974994834636
        ],
        [
         "Kenya",
         2018,
         "Nakuru",
         "Recreation, culture and religion",
         527959471.50000006,
         2303736,
         229.17533584577401
        ],
        [
         "Kenya",
         2018,
         "Bomet",
         "Environmental protection",
         920307939.3499999,
         944760,
         974.1182303971378
        ],
        [
         "Kenya",
         2019,
         "Kilifi",
         "Housing and community amenities",
         772491628,
         1596266,
         483.9366546678311
        ],
        [
         "Kenya",
         2019,
         "Tharaka Nithi",
         "Health",
         1758676133,
         432967,
         4061.9172662119745
        ],
        [
         "Kenya",
         2020,
         "Kwale",
         "Housing and community amenities",
         653616759,
         978569,
         667.931192383981
        ],
        [
         "Kenya",
         2020,
         "Nandi",
         "Housing and community amenities",
         326173256,
         989217,
         329.72872079634703
        ],
        [
         "Kenya",
         2020,
         "Nyamira",
         "Environmental protection",
         83510693,
         667704,
         125.07142835747577
        ],
        [
         "Kenya",
         2016,
         "Samburu",
         "Education",
         452363554.29999995,
         308797,
         1464.922114852152
        ],
        [
         "Kenya",
         2017,
         "Lamu",
         "Housing and community amenities",
         8061986.8,
         147217,
         54.76260757928772
        ],
        [
         "Kenya",
         2017,
         "Marsabit",
         "Environmental protection",
         174270275.4,
         459531,
         379.2350796790641
        ],
        [
         "Kenya",
         2019,
         "Kitui",
         "General public services",
         3247530349.8,
         1250389,
         2597.2160262126426
        ],
        [
         "Kenya",
         2019,
         "Bomet",
         "Education",
         339267967.95,
         962642,
         352.434204979629
        ],
        [
         "Kenya",
         2020,
         "Siaya",
         "Education",
         614066609,
         1109487,
         553.4689536695788
        ],
        [
         "Kenya",
         2020,
         "Marsabit",
         "Public order and safety",
         174110229.45,
         526582,
         330.64219713169075
        ],
        [
         "Kenya",
         2016,
         "Nyandarua",
         "Recreation, culture and religion",
         44727383.55,
         688885,
         64.92721361330265
        ],
        [
         "Kenya",
         2016,
         "Homa Bay",
         "General public services",
         2084472645.1,
         1186528,
         1756.7833587576524
        ],
        [
         "Kenya",
         2017,
         "Isiolo",
         "Economic affairs",
         930229942.05,
         258309,
         3601.2293108254066
        ],
        [
         "Kenya",
         2017,
         "Laikipia",
         "General public services",
         3682933822.4,
         540450,
         6814.569011749468
        ],
        [
         "Kenya",
         2017,
         "Narok",
         "Recreation, culture and religion",
         284137702.2,
         1194799,
         237.81213593248737
        ],
        [
         "Kenya",
         2018,
         "Turkana",
         "General public services",
         1929430389.8999999,
         997968,
         1933.3589753378865
        ],
        [
         "Kenya",
         2018,
         "Kakamega",
         "Health",
         768756613.5,
         2031790,
         378.36420766909964
        ],
        [
         "Kenya",
         2019,
         "Taita Taveta",
         "Environmental protection",
         86882643,
         374561,
         231.9585941942701
        ],
        [
         "Kenya",
         2020,
         "Marsabit",
         "Environmental protection",
         102037754,
         526582,
         193.77372185148752
        ],
        [
         "Kenya",
         2020,
         "Elgeyo Marakwet",
         "Housing and community amenities",
         116490938,
         509480,
         228.64673392478605
        ],
        [
         "Kenya",
         2020,
         "Siaya",
         "Public order and safety",
         200356587.95,
         1109487,
         180.58489008884285
        ],
        [
         "Kenya",
         2016,
         "Mandera",
         "Health",
         552742488.4000001,
         895698,
         617.1080971488159
        ],
        [
         "Kenya",
         2016,
         "Baringo",
         "Education",
         517278170.65,
         694159,
         745.1868673459538
        ],
        [
         "Kenya",
         2018,
         "Samburu",
         "Housing and community amenities",
         307016312.40000004,
         329613,
         931.444792529421
        ],
        [
         "Kenya",
         2018,
         "Makueni",
         "Social protection",
         26011620.15,
         1075366,
         24.188620571972702
        ],
        [
         "Kenya",
         2018,
         "Nyeri",
         "Recreation, culture and religion",
         62179402.4,
         828455,
         75.05465281759419
        ],
        [
         "Kenya",
         2019,
         "Kajiado",
         "Public order and safety",
         337991847.79999995,
         1223473,
         276.25607414303374
        ],
        [
         "Kenya",
         2019,
         "Kericho",
         "Social protection",
         76437092,
         991559,
         77.08779003569127
        ],
        [
         "Kenya",
         2020,
         "Tharaka Nithi",
         "Environmental protection",
         69857696,
         435803,
         160.29650094193937
        ],
        [
         "Kenya",
         2020,
         "Narok",
         "General public services",
         2390494473.6,
         1309378,
         1825.6717873677426
        ],
        [
         "Kenya",
         2016,
         "Kirinyaga",
         "Social protection",
         214090511.15000004,
         643037,
         332.93653576699325
        ],
        [
         "Kenya",
         2017,
         "Nandi",
         "General public services",
         1668476095.8499997,
         942976,
         1769.372811025943
        ],
        [
         "Kenya",
         2017,
         "Kisumu",
         "Housing and community amenities",
         21909475.25,
         1226647,
         17.86127162093088
        ],
        [
         "Kenya",
         2019,
         "Marsabit",
         "Health",
         2005992097,
         503447,
         3984.5149479488405
        ],
        [
         "Kenya",
         2019,
         "Kericho",
         "Public order and safety",
         275365055.15,
         991559,
         277.709198494492
        ],
        [
         "Kenya",
         2020,
         "Homa Bay",
         "Public order and safety",
         191518879.95,
         1264071,
         151.50959079830167
        ],
        [
         "Kenya",
         2016,
         "Vihiga",
         "Environmental protection",
         66310648,
         638039,
         103.92883193660576
        ],
        [
         "Kenya",
         2016,
         "Kilifi",
         "Social protection",
         14730377.15,
         1472402,
         10.004317536922661
        ],
        [
         "Kenya",
         2016,
         "Machakos",
         "Social protection",
         29671650,
         1445601,
         20.525476946958392
        ],
        [
         "Kenya",
         2018,
         "Kisumu",
         "Economic affairs",
         2998644373.400001,
         1248702,
         2401.409121952236
        ],
        [
         "Kenya",
         2018,
         "Nairobi City",
         "Economic affairs",
         4880008301.3,
         4664602,
         1046.1789240110948
        ],
        [
         "Kenya",
         2018,
         "Kericho",
         "General public services",
         580825613.9000001,
         974777,
         595.8548610605299
        ],
        [
         "Kenya",
         2019,
         "West Pokot",
         "Housing and community amenities",
         25703768,
         682913,
         37.638422463769174
        ],
        [
         "Kenya",
         2019,
         "Wajir",
         "Social protection",
         76313207,
         858572,
         88.88387578444207
        ],
        [
         "Kenya",
         2016,
         "Nyeri",
         "Recreation, culture and religion",
         47590608.4,
         813608,
         58.49328964316968
        ],
        [
         "Kenya",
         2016,
         "Elgeyo Marakwet",
         "Recreation, culture and religion",
         23553014.099999998,
         469714,
         50.1433086942267
        ],
        [
         "Kenya",
         2016,
         "Turkana",
         "Housing and community amenities",
         0,
         957176,
         0
        ],
        [
         "Kenya",
         2017,
         "Meru",
         "Economic affairs",
         2035805649.5000005,
         1656898,
         1228.6849579756874
        ],
        [
         "Kenya",
         2017,
         "Nyamira",
         "Environmental protection",
         155948302.85,
         665887,
         234.19634690270271
        ],
        [
         "Kenya",
         2018,
         "Turkana",
         "Economic affairs",
         354366527.20000005,
         997968,
         355.0880661504177
        ],
        [
         "Kenya",
         2018,
         "Wajir",
         "Housing and community amenities",
         5278538,
         841065,
         6.276016716900596
        ],
        [
         "Kenya",
         2018,
         "Turkana",
         "Housing and community amenities",
         100400,
         997968,
         0.10060442819809853
        ],
        [
         "Kenya",
         2018,
         "Samburu",
         "Recreation, culture and religion",
         74798339.85,
         329613,
         226.9277602825131
        ],
        [
         "Kenya",
         2019,
         "Kirinyaga",
         "Economic affairs",
         1428643839.8,
         671452,
         2127.693178067829
        ],
        [
         "Kenya",
         2019,
         "Samburu",
         "Housing and community amenities",
         308658075,
         340457,
         906.5992915404883
        ],
        [
         "Kenya",
         2019,
         "Kisii",
         "Recreation, culture and religion",
         19763941,
         1394616,
         14.17160064132349
        ],
        [
         "Kenya",
         2019,
         "Kisumu",
         "Housing and community amenities",
         24382485.6,
         1270584,
         19.18998318883285
        ],
        [
         "Kenya",
         2020,
         "Migori",
         "Housing and community amenities",
         99670470,
         1250557,
         79.70086129620641
        ],
        [
         "Kenya",
         2016,
         "Samburu",
         "Housing and community amenities",
         513075203.34999996,
         308797,
         1661.5291060146308
        ],
        [
         "Kenya",
         2017,
         "Marsabit",
         "Health",
         1308915722.4,
         459531,
         2848.3730638411776
        ],
        [
         "Kenya",
         2017,
         "Kajiado",
         "Public order and safety",
         156980818.7,
         1110272,
         141.38951419111712
        ],
        [
         "Kenya",
         2018,
         "Trans Nzoia",
         "Housing and community amenities",
         10882295,
         1068420,
         10.18540929596975
        ],
        [
         "Kenya",
         2019,
         "Tana River",
         "Health",
         963978706,
         346887,
         2778.9415746338145
        ],
        [
         "Kenya",
         2019,
         "Nyandarua",
         "Education",
         257451212.8,
         702930,
         366.254410538745
        ],
        [
         "Kenya",
         2019,
         "Busia",
         "General public services",
         2358826519,
         982510,
         2400.8168049180163
        ],
        [
         "Kenya",
         2019,
         "Kisumu",
         "Education",
         682218574.2,
         1270584,
         536.9330750269168
        ],
        [
         "Kenya",
         2019,
         "Nyamira",
         "Education",
         761183499,
         667466,
         1140.407899428585
        ],
        [
         "Kenya",
         2020,
         "Trans Nzoia",
         "Recreation, culture and religion",
         89548884,
         1108719,
         80.76788077051083
        ],
        [
         "Kenya",
         2020,
         "Narok",
         "Social protection",
         26506276,
         1309378,
         20.243410229895417
        ],
        [
         "Kenya",
         2016,
         "Tharaka Nithi",
         "Housing and community amenities",
         16565117,
         423626,
         39.10316411174007
        ],
        [
         "Kenya",
         2016,
         "Machakos",
         "Recreation, culture and religion",
         598665066.95,
         1445601,
         414.128841187852
        ],
        [
         "Kenya",
         2016,
         "Vihiga",
         "Housing and community amenities",
         663744,
         638039,
         1.0402875059361576
        ],
        [
         "Kenya",
         2016,
         "Isiolo",
         "Housing and community amenities",
         0,
         242687,
         0
        ],
        [
         "Kenya",
         2017,
         "Marsabit",
         "Economic affairs",
         1923433874.9,
         459531,
         4185.645527505218
        ],
        [
         "Kenya",
         2017,
         "Nyamira",
         "Economic affairs",
         1737613373.3500001,
         665887,
         2609.4718373387677
        ],
        [
         "Kenya",
         2018,
         "Vihiga",
         "Economic affairs",
         499694444.09999996,
         645985,
         773.5387727269208
        ],
        [
         "Kenya",
         2018,
         "West Pokot",
         "Housing and community amenities",
         90884160.35000001,
         670083,
         135.6311984485504
        ],
        [
         "Kenya",
         2019,
         "Taita Taveta",
         "Housing and community amenities",
         58554661,
         374561,
         156.3287715485595
        ],
        [
         "Kenya",
         2019,
         "Nyandarua",
         "Economic affairs",
         1765859510,
         702930,
         2512.141336975232
        ],
        [
         "Kenya",
         2019,
         "Kilifi",
         "Health",
         2639568183,
         1596266,
         1653.5891781194362
        ],
        [
         "Kenya",
         2020,
         "Kwale",
         "Economic affairs",
         2971264201.05,
         978569,
         3036.335916067237
        ],
        [
         "Kenya",
         2016,
         "Elgeyo Marakwet",
         "Social protection",
         16630646.55,
         469714,
         35.405899228040894
        ],
        [
         "Kenya",
         2016,
         "Samburu",
         "Social protection",
         28785175.6,
         308797,
         93.21714783498545
        ],
        [
         "Kenya",
         2017,
         "Kitui",
         "Education",
         781585432.35,
         1222018,
         639.585859087182
        ],
        [
         "Kenya",
         2017,
         "Trans Nzoia",
         "Education",
         484637820.85,
         1048071,
         462.4093413995808
        ],
        [
         "Kenya",
         2017,
         "Taita Taveta",
         "Public order and safety",
         199151862.6,
         361353,
         551.1282944931963
        ],
        [
         "Kenya",
         2018,
         "Kakamega",
         "Social protection",
         61907358.6,
         2031790,
         30.469368684755807
        ],
        [
         "Kenya",
         2018,
         "Kitui",
         "Education",
         714880839.85,
         1236405,
         578.1931000359915
        ],
        [
         "Kenya",
         2020,
         "Migori",
         "Education",
         553559935,
         1250557,
         442.65070284681144
        ],
        [
         "Kenya",
         2016,
         "Laikipia",
         "Housing and community amenities",
         24973281.2,
         526607,
         47.42299513679081
        ],
        [
         "Kenya",
         2018,
         "Elgeyo Marakwet",
         "General public services",
         1087098985.9999998,
         489448,
         2221.0714641800555
        ],
        [
         "Kenya",
         2018,
         "Bomet",
         "Social protection",
         120015092.5,
         944760,
         127.0323600702824
        ],
        [
         "Kenya",
         2018,
         "Makueni",
         "Environmental protection",
         2089200,
         1075366,
         1.942780411506408
        ],
        [
         "Kenya",
         2019,
         "Kwale",
         "Education",
         1839288185.05,
         951518,
         1933.0040893078217
        ],
        [
         "Kenya",
         2019,
         "Meru",
         "Public order and safety",
         756820838.9,
         1700686,
         445.0091544823677
        ],
        [
         "Kenya",
         2020,
         "Mombasa",
         "Environmental protection",
         275646280,
         1359896,
         202.6965885626548
        ],
        [
         "Kenya",
         2020,
         "Elgeyo Marakwet",
         "Education",
         1150453866.3,
         509480,
         2258.0942653293555
        ],
        [
         "Kenya",
         2020,
         "Nandi",
         "Economic affairs",
         1597036359.5,
         989217,
         1614.4449190622481
        ],
        [
         "Kenya",
         2016,
         "Nandi",
         "Health",
         1336668407.8500004,
         927962,
         1440.434422799641
        ],
        [
         "Kenya",
         2016,
         "Kakamega",
         "Education",
         229270998.6,
         1984614,
         115.52422717969338
        ],
        [
         "Kenya",
         2017,
         "Tana River",
         "Economic affairs",
         521307718.25,
         328361,
         1587.6054654785435
        ],
        [
         "Kenya",
         2017,
         "Taita Taveta",
         "Health",
         507976887.4999999,
         361353,
         1405.7635815947283
        ],
        [
         "Kenya",
         2018,
         "Narok",
         "Social protection",
         23732774.7,
         1232410,
         19.257207179428924
        ],
        [
         "Kenya",
         2019,
         "Busia",
         "Housing and community amenities",
         158665678,
         982510,
         161.49014055836582
        ],
        [
         "Kenya",
         2019,
         "Nyamira",
         "Economic affairs",
         2226272814.5,
         667466,
         3335.410065081967
        ],
        [
         "Kenya",
         2020,
         "Kakamega",
         "Public order and safety",
         330680613.70000005,
         2077815,
         159.14824645119995
        ],
        [
         "Kenya",
         2016,
         "West Pokot",
         "Education",
         365573019.75,
         644820,
         566.9380908625662
        ],
        [
         "Kenya",
         2017,
         "Lamu",
         "Social protection",
         35211643.699999996,
         147217,
         239.18191309427576
        ],
        [
         "Kenya",
         2018,
         "Bomet",
         "General public services",
         2089339776.1999996,
         944760,
         2211.503213726237
        ],
        [
         "Kenya",
         2019,
         "Machakos",
         "Social protection",
         133596636,
         1561560,
         85.55331591485438
        ],
        [
         "Kenya",
         2020,
         "Bomet",
         "General public services",
         1027540608,
         980330,
         1048.1578733691715
        ],
        [
         "Kenya",
         2017,
         "Laikipia",
         "Housing and community amenities",
         8945470,
         540450,
         16.55189194190027
        ],
        [
         "Kenya",
         2018,
         "Embu",
         "Economic affairs",
         1386501351.6999998,
         658507,
         2105.52257105847
        ],
        [
         "Kenya",
         2019,
         "Marsabit",
         "Economic affairs",
         2800550908,
         503447,
         5562.752202317225
        ],
        [
         "Kenya",
         2019,
         "Nakuru",
         "Recreation, culture and religion",
         843525742,
         2373034,
         355.46298198845864
        ],
        [
         "Kenya",
         2019,
         "Kajiado",
         "Environmental protection",
         294448489,
         1223473,
         240.66611114425902
        ],
        [
         "Kenya",
         2019,
         "Samburu",
         "Social protection",
         30012178,
         340457,
         88.15262426679433
        ],
        [
         "Kenya",
         2020,
         "Marsabit",
         "Economic affairs",
         1658319192.8,
         526582,
         3149.213594084112
        ],
        [
         "Kenya",
         2020,
         "Baringo",
         "Economic affairs",
         2879493327,
         745967,
         3860.081380275535
        ],
        [
         "Kenya",
         2016,
         "Kisii",
         "General public services",
         2424076618.15,
         1355863,
         1787.8477531653273
        ],
        [
         "Kenya",
         2016,
         "Isiolo",
         "Social protection",
         31257275,
         242687,
         128.79665989525603
        ],
        [
         "Kenya",
         2017,
         "Vihiga",
         "Social protection",
         39277835.05,
         641879,
         61.19196149118447
        ],
        [
         "Kenya",
         2018,
         "Kitui",
         "Health",
         2519523769.3,
         1236405,
         2037.78193172949
        ],
        [
         "Kenya",
         2018,
         "Embu",
         "Public order and safety",
         148634547,
         658507,
         225.71445254188643
        ],
        [
         "Kenya",
         2018,
         "Kitui",
         "Public order and safety",
         191553639.85,
         1236405,
         154.92790780529035
        ],
        [
         "Kenya",
         2018,
         "Baringo",
         "Public order and safety",
         131534579.7,
         719983,
         182.69122979292567
        ],
        [
         "Kenya",
         2018,
         "Murang’A",
         "General public services",
         4173625224.6999993,
         1149942,
         3629.422374954562
        ],
        [
         "Kenya",
         2019,
         "Busia",
         "Recreation, culture and religion",
         251640961,
         982510,
         256.1205086971125
        ],
        [
         "Kenya",
         2019,
         "Migori",
         "Health",
         1830444472,
         1227169,
         1491.599341248027
        ],
        [
         "Kenya",
         2020,
         "Narok",
         "Health",
         2728603696,
         1309378,
         2083.8930362355254
        ],
        [
         "Kenya",
         2016,
         "Meru",
         "Social protection",
         115590809.05,
         1635681,
         70.66830821535495
        ],
        [
         "Kenya",
         2016,
         "Mombasa",
         "Social protection",
         10415479.5,
         1230848,
         8.462035523476498
        ],
        [
         "Kenya",
         2017,
         "Elgeyo Marakwet",
         "Recreation, culture and religion",
         19231788.599999998,
         479383,
         40.117794331463564
        ],
        [
         "Kenya",
         2018,
         "Vihiga",
         "Social protection",
         34728262.5,
         645985,
         53.76016857976578
        ],
        [
         "Kenya",
         2019,
         "Siaya",
         "Recreation, culture and religion",
         340512095,
         1092216,
         311.7625954939316
        ],
        [
         "Kenya",
         2019,
         "Homa Bay",
         "General public services",
         2275826151.2,
         1244894,
         1828.1284600937909
        ],
        [
         "Kenya",
         2019,
         "Migori",
         "General public services",
         2949022330,
         1227169,
         2403.110191016885
        ],
        [
         "Kenya",
         2020,
         "Taita Taveta",
         "Health",
         399915822,
         381049,
         1049.5128500534051
        ],
        [
         "Kenya",
         2020,
         "Turkana",
         "Housing and community amenities",
         12535729,
         1039404,
         12.06049716953177
        ],
        [
         "Kenya",
         2020,
         "Kisumu",
         "Public order and safety",
         574321431.9,
         1292152,
         444.46894165701866
        ],
        [
         "Kenya",
         2016,
         "Siaya",
         "Recreation, culture and religion",
         311589465.65000004,
         1039776,
         299.6697996972425
        ],
        [
         "Kenya",
         2017,
         "Nandi",
         "Recreation, culture and religion",
         177997916.15,
         942976,
         188.7618732078017
        ],
        [
         "Kenya",
         2018,
         "Kakamega",
         "Housing and community amenities",
         34338858.7,
         2031790,
         16.900791272720117
        ],
        [
         "Kenya",
         2018,
         "Kajiado",
         "Housing and community amenities",
         -224030,
         1165768,
         -0.19217374297458842
        ],
        [
         "Kenya",
         2018,
         "Nyeri",
         "Social protection",
         52451296.1,
         828455,
         63.31218485011256
        ],
        [
         "Kenya",
         2018,
         "Nairobi City",
         "Recreation, culture and religion",
         376845372,
         4664602,
         80.78832277651983
        ],
        [
         "Kenya",
         2019,
         "Kwale",
         "Environmental protection",
         541422482,
         951518,
         569.009185322821
        ],
        [
         "Kenya",
         2019,
         "Embu",
         "Economic affairs",
         1848290404,
         669272,
         2761.64310474665
        ],
        [
         "Kenya",
         2019,
         "Bungoma",
         "Health",
         3362545867,
         1836335,
         1831.1178880759774
        ],
        [
         "Kenya",
         2020,
         "West Pokot",
         "General public services",
         1876699006,
         695607,
         2697.930017955541
        ],
        [
         "Kenya",
         2020,
         "Vihiga",
         "Housing and community amenities",
         5228287,
         653324,
         8.002594424818314
        ],
        [
         "Kenya",
         2016,
         "Makueni",
         "Social protection",
         0,
         1051888,
         0
        ],
        [
         "Kenya",
         2016,
         "Migori",
         "Social protection",
         79000000,
         1157150,
         68.2711835112129
        ],
        [
         "Kenya",
         2017,
         "Narok",
         "Environmental protection",
         221410334.5,
         1194799,
         185.3117842415335
        ],
        [
         "Kenya",
         2017,
         "Busia",
         "General public services",
         2320263232.3,
         947172,
         2449.6746444151645
        ],
        [
         "Kenya",
         2018,
         "Kilifi",
         "Housing and community amenities",
         815308524.8000001,
         1554127,
         524.6086869348516
        ],
        [
         "Kenya",
         2018,
         "Kisii",
         "Health",
         707181688.9499999,
         1381816,
         511.7770303354426
        ],
        [
         "Kenya",
         2019,
         "Mombasa",
         "Environmental protection",
         46797650,
         1327105,
         35.26295960003165
        ],
        [
         "Kenya",
         2019,
         "Makueni",
         "Economic affairs",
         2529881948,
         1087010,
         2327.3768852172475
        ],
        [
         "Kenya",
         2019,
         "Migori",
         "Education",
         477521298.5,
         1227169,
         389.1243166181675
        ],
        [
         "Kenya",
         2020,
         "Narok",
         "Economic affairs",
         2017696148.5,
         1309378,
         1540.9577284023408
        ],
        [
         "Kenya",
         2020,
         "Kericho",
         "Health",
         2665694288,
         1008092,
         2644.296639592418
        ],
        [
         "Kenya",
         2020,
         "Siaya",
         "General public services",
         2073031077,
         1109487,
         1868.4590959605655
        ],
        [
         "Kenya",
         2020,
         "Meru",
         "Social protection",
         165799478,
         1721672,
         96.30143139924445
        ],
        [
         "Kenya",
         2017,
         "Kitui",
         "Environmental protection",
         104299807.50000001,
         1222018,
         85.35046742355678
        ],
        [
         "Kenya",
         2017,
         "Laikipia",
         "Health",
         392459510,
         540450,
         726.1717272643168
        ],
        [
         "Kenya",
         2017,
         "Kisumu",
         "Social protection",
         64844548.900000006,
         1226647,
         52.86325153039139
        ],
        [
         "Kenya",
         2018,
         "Elgeyo Marakwet",
         "Economic affairs",
         993070296.6500002,
         489448,
         2028.9597600766583
        ],
        [
         "Kenya",
         2018,
         "Meru",
         "Social protection",
         132558176.85000001,
         1679035,
         78.94902539256181
        ],
        [
         "Kenya",
         2018,
         "Vihiga",
         "Public order and safety",
         53825323,
         645985,
         83.32286817805367
        ],
        [
         "Kenya",
         2019,
         "Garissa",
         "Recreation, culture and religion",
         86451874,
         1012333,
         85.39865241970774
        ],
        [
         "Kenya",
         2019,
         "Makueni",
         "Education",
         621797306.25,
         1087010,
         572.0253781013975
        ],
        [
         "Kenya",
         2019,
         "Turkana",
         "General public services",
         5832404444,
         1018738,
         5725.127014011453
        ],
        [
         "Kenya",
         2020,
         "Makueni",
         "Public order and safety",
         253195450.3,
         1098172,
         230.56083227399716
        ],
        [
         "Kenya",
         2020,
         "Bungoma",
         "Environmental protection",
         59272864,
         1870968,
         31.680319492369726
        ],
        [
         "Kenya",
         2016,
         "Trans Nzoia",
         "General public services",
         1367214123.3,
         1028502,
         1329.325682691915
        ],
        [
         "Kenya",
         2017,
         "Nyandarua",
         "Housing and community amenities",
         263495830.54999998,
         693462,
         379.97154934228547
        ],
        [
         "Kenya",
         2017,
         "Nyeri",
         "Recreation, culture and religion",
         98387623,
         820838,
         119.86241255887276
        ],
        [
         "Kenya",
         2017,
         "Homa Bay",
         "Health",
         1678764958.15,
         1205544,
         1392.537276242095
        ],
        [
         "Kenya",
         2017,
         "Kisii",
         "Social protection",
         162831104.8,
         1368521,
         118.98327084494868
        ],
        [
         "Kenya",
         2018,
         "Embu",
         "Housing and community amenities",
         -112130,
         658507,
         -0.1702791314291268
        ],
        [
         "Kenya",
         2018,
         "Busia",
         "Social protection",
         120348798.95,
         964898,
         124.72696487089827
        ],
        [
         "Kenya",
         2018,
         "Makueni",
         "Education",
         539121576.3000001,
         1075366,
         501.3377550526984
        ],
        [
         "Kenya",
         2018,
         "Mombasa",
         "General public services",
         3546010909.150001,
         1294431,
         2739.4360218119014
        ],
        [
         "Kenya",
         2020,
         "Kwale",
         "General public services",
         1630999806,
         978569,
         1666.7192666025594
        ],
        [
         "Kenya",
         2020,
         "Kisumu",
         "Education",
         276640722,
         1292152,
         214.0930184684155
        ],
        [
         "Kenya",
         2020,
         "Nyandarua",
         "Public order and safety",
         230830890.95,
         707150,
         326.42422534115815
        ],
        [
         "Kenya",
         2020,
         "Trans Nzoia",
         "Public order and safety",
         208636396.85000002,
         1108719,
         188.1778853343363
        ],
        [
         "Kenya",
         2016,
         "Kitui",
         "Housing and community amenities",
         286709193.05,
         1208265,
         237.28999271682952
        ],
        [
         "Kenya",
         2017,
         "Mandera",
         "Recreation, culture and religion",
         2384333654.9999995,
         914409,
         2607.5133282808893
        ],
        [
         "Kenya",
         2017,
         "Machakos",
         "General public services",
         1896386901.4,
         1483106,
         1278.6590448693487
        ],
        [
         "Kenya",
         2017,
         "Nyeri",
         "Housing and community amenities",
         327216716.4500001,
         820838,
         398.6373881935292
        ],
        [
         "Kenya",
         2017,
         "Nandi",
         "Public order and safety",
         127373152,
         942976,
         135.07570924392562
        ],
        [
         "Kenya",
         2018,
         "Trans Nzoia",
         "General public services",
         1197875737.35,
         1068420,
         1121.1655878306283
        ],
        [
         "Kenya",
         2019,
         "Wajir",
         "Environmental protection",
         317313237,
         858572,
         369.58255917966113
        ],
        [
         "Kenya",
         2019,
         "Nyeri",
         "Environmental protection",
         9375162,
         835770,
         11.217394737786712
        ],
        [
         "Kenya",
         2020,
         "Makueni",
         "Health",
         3192539406,
         1098172,
         2907.1396885005265
        ],
        [
         "Kenya",
         2020,
         "Nandi",
         "Health",
         2364040986,
         989217,
         2389.8103105789733
        ],
        [
         "Kenya",
         2016,
         "Vihiga",
         "General public services",
         1677278069.9999998,
         638039,
         2628.801797382291
        ],
        [
         "Kenya",
         2016,
         "Makueni",
         "Environmental protection",
         3452583.7,
         1051888,
         3.2822731127268305
        ],
        [
         "Kenya",
         2016,
         "Wajir",
         "Housing and community amenities",
         0,
         806684,
         0
        ],
        [
         "Kenya",
         2017,
         "Nyandarua",
         "General public services",
         1735389438.35,
         693462,
         2502.5011296220987
        ],
        [
         "Kenya",
         2018,
         "Machakos",
         "Social protection",
         45607064,
         1522169,
         29.96189253624269
        ],
        [
         "Kenya",
         2020,
         "Isiolo",
         "Economic affairs",
         1275699821.6,
         311403,
         4096.620204686531
        ],
        [
         "Kenya",
         2020,
         "Kiambu",
         "Housing and community amenities",
         206709135,
         2754995,
         75.030675191788
        ],
        [
         "Kenya",
         2020,
         "Narok",
         "Housing and community amenities",
         415620066,
         1309378,
         317.4179388992331
        ],
        [
         "Kenya",
         2020,
         "Kericho",
         "Housing and community amenities",
         45975432,
         1008092,
         45.60638513151577
        ],
        [
         "Kenya",
         2020,
         "Busia",
         "Housing and community amenities",
         119797892,
         999906,
         119.80915406048169
        ],
        [
         "Kenya",
         2020,
         "Siaya",
         "Economic affairs",
         2018439842.7,
         1109487,
         1819.2550635564005
        ],
        [
         "Kenya",
         2016,
         "Meru",
         "Economic affairs",
         1966944439.6,
         1635681,
         1202.5232545954864
        ],
        [
         "Kenya",
         2016,
         "Murang’A",
         "Health",
         661356779,
         1123956,
         588.4187450398414
        ],
        [
         "Kenya",
         2016,
         "West Pokot",
         "General public services",
         1307591057.9999995,
         644820,
         2027.8388666604626
        ],
        [
         "Kenya",
         2016,
         "Samburu",
         "Public order and safety",
         7168608,
         308797,
         23.214629675806435
        ],
        [
         "Kenya",
         2017,
         "Narok",
         "Education",
         1251541250.8,
         1194799,
         1047.4910430959517
        ],
        [
         "Kenya",
         2018,
         "Kiambu",
         "Economic affairs",
         2491106402.5,
         2546938,
         978.0789334094509
        ],
        [
         "Kenya",
         2019,
         "Nyamira",
         "General public services",
         1251028417,
         667466,
         1874.2953453808884
        ],
        [
         "Kenya",
         2019,
         "Tharaka Nithi",
         "Public order and safety",
         69810635,
         432967,
         161.23777331759695
        ],
        [
         "Kenya",
         2020,
         "Nyandarua",
         "Recreation, culture and religion",
         101335258,
         707150,
         143.30093756628722
        ],
        [
         "Kenya",
         2020,
         "Nakuru",
         "Environmental protection",
         20897562,
         2443175,
         8.553444595659336
        ],
        [
         "Kenya",
         2020,
         "Busia",
         "Economic affairs",
         2693218331.8,
         999906,
         2693.471518122704
        ],
        [
         "Kenya",
         2016,
         "Siaya",
         "Health",
         1231918691.7,
         1039776,
         1184.7923896108393
        ],
        [
         "Kenya",
         2016,
         "Kisumu",
         "General public services",
         1303082980.3499997,
         1205448,
         1080.9947673810896
        ],
        [
         "Kenya",
         2017,
         "Kakamega",
         "Recreation, culture and religion",
         233352862.8,
         2007676,
         116.23033935754574
        ],
        [
         "Kenya",
         2017,
         "Kirinyaga",
         "Housing and community amenities",
         5945425.8,
         652302,
         9.114529466412796
        ],
        [
         "Kenya",
         2018,
         "Migori",
         "General public services",
         3142200504.65,
         1203580,
         2610.7117970139084
        ],
        [
         "Kenya",
         2018,
         "Kericho",
         "Education",
         311012946.5,
         974777,
         319.06061232466504
        ],
        [
         "Kenya",
         2018,
         "West Pokot",
         "Public order and safety",
         48694597,
         670083,
         72.66950064395007
        ],
        [
         "Kenya",
         2019,
         "Nakuru",
         "Housing and community amenities",
         26403260.15,
         2373034,
         11.126372462425739
        ],
        [
         "Kenya",
         2019,
         "Kilifi",
         "Social protection",
         232464041,
         1596266,
         145.62988937933903
        ],
        [
         "Kenya",
         2020,
         "Wajir",
         "Education",
         902321323,
         875989,
         1030.0601069191507
        ],
        [
         "Kenya",
         2016,
         "Kirinyaga",
         "General public services",
         1161034096.2500002,
         643037,
         1805.547886435773
        ],
        [
         "Kenya",
         2016,
         "Turkana",
         "Health",
         46297861,
         957176,
         48.36922467759325
        ],
        [
         "Kenya",
         2016,
         "Kisii",
         "Education",
         522556398.59999996,
         1355863,
         385.40501407590585
        ],
        [
         "Kenya",
         2016,
         "Wajir",
         "Public order and safety",
         23453781,
         806684,
         29.074310386718963
        ],
        [
         "Kenya",
         2017,
         "Kakamega",
         "General public services",
         4705698254.100001,
         2007676,
         2343.8534176331245
        ],
        [
         "Kenya",
         2017,
         "Busia",
         "Public order and safety",
         120681897,
         947172,
         127.41286376708771
        ],
        [
         "Kenya",
         2018,
         "Baringo",
         "Education",
         467210865.05,
         719983,
         648.9193009418278
        ],
        [
         "Kenya",
         2019,
         "Kajiado",
         "Health",
         2264398228,
         1223473,
         1850.7954225389526
        ],
        [
         "Kenya",
         2020,
         "Siaya",
         "Recreation, culture and religion",
         319850925,
         1109487,
         288.28722193229845
        ],
        [
         "Kenya",
         2016,
         "Nyandarua",
         "Economic affairs",
         1404733512.85,
         688885,
         2039.140804125507
        ],
        [
         "Kenya",
         2016,
         "Vihiga",
         "Education",
         218663678,
         638039,
         342.7120881325436
        ],
        [
         "Kenya",
         2016,
         "Siaya",
         "Education",
         534752904.55,
         1039776,
         514.2962566456622
        ],
        [
         "Kenya",
         2017,
         "Kilifi",
         "Public order and safety",
         216985274.2,
         1512422,
         143.4687370323891
        ],
        [
         "Kenya",
         2018,
         "Busia",
         "Health",
         1390653246.2500002,
         964898,
         1441.2437856125728
        ],
        [
         "Kenya",
         2018,
         "Kisumu",
         "Education",
         460419388.15,
         1248702,
         368.7183876937812
        ],
        [
         "Kenya",
         2018,
         "Mombasa",
         "Recreation, culture and religion",
         413593298.79999995,
         1294431,
         319.5174550053266
        ],
        [
         "Kenya",
         2018,
         "Makueni",
         "Recreation, culture and religion",
         157873128.49999997,
         1075366,
         146.80874093099462
        ],
        [
         "Kenya",
         2019,
         "Garissa",
         "Health",
         2534726731,
         1012333,
         2503.8467885567297
        ],
        [
         "Kenya",
         2019,
         "Uasin Gishu",
         "Housing and community amenities",
         110845539,
         1277307,
         86.78065570767247
        ],
        [
         "Kenya",
         2019,
         "Narok",
         "Housing and community amenities",
         306223760,
         1270631,
         241.00132926081608
        ],
        [
         "Kenya",
         2019,
         "Nyeri",
         "Social protection",
         71623970.4,
         835770,
         85.69818299292868
        ],
        [
         "Kenya",
         2020,
         "Kwale",
         "Recreation, culture and religion",
         79515670,
         978569,
         81.25709071102804
        ],
        [
         "Kenya",
         2020,
         "Taita Taveta",
         "Housing and community amenities",
         5000000,
         381049,
         13.121672015934958
        ],
        [
         "Kenya",
         2020,
         "Mandera",
         "Public order and safety",
         141312171.95,
         972652,
         145.28543811147253
        ],
        [
         "Kenya",
         2016,
         "Trans Nzoia",
         "Environmental protection",
         6854800,
         1028502,
         6.664838765505561
        ],
        [
         "Kenya",
         2017,
         "Laikipia",
         "Education",
         95663624,
         540450,
         177.00735313164955
        ],
        [
         "Kenya",
         2018,
         "Kajiado",
         "Health",
         2060376401.6,
         1165768,
         1767.3983173324366
        ],
        [
         "Kenya",
         2018,
         "Meru",
         "Education",
         597363216.25,
         1679035,
         355.77770341297236
        ],
        [
         "Kenya",
         2018,
         "Migori",
         "Education",
         508956921,
         1203580,
         422.86920769703715
        ],
        [
         "Kenya",
         2019,
         "West Pokot",
         "Social protection",
         356394333,
         682913,
         521.8736984066785
        ],
        [
         "Kenya",
         2020,
         "Kajiado",
         "Economic affairs",
         -85036106238.9,
         1283417,
         -66257.58131527009
        ],
        [
         "Kenya",
         2020,
         "Vihiga",
         "Social protection",
         43071735,
         653324,
         65.92706681524022
        ],
        [
         "Kenya",
         2020,
         "Nairobi City",
         "Social protection",
         124936454,
         4984406,
         25.06546497215516
        ],
        [
         "Kenya",
         2016,
         "Kilifi",
         "Economic affairs",
         3294649.0999999996,
         1472402,
         2.237601619666368
        ],
        [
         "Kenya",
         2017,
         "Meru",
         "Environmental protection",
         469386362.3,
         1656898,
         283.292249915203
        ],
        [
         "Kenya",
         2018,
         "Kilifi",
         "General public services",
         2487046756.6999993,
         1554127,
         1600.2854056972174
        ],
        [
         "Kenya",
         2018,
         "Nandi",
         "Housing and community amenities",
         11403372,
         958607,
         11.895773763387917
        ],
        [
         "Kenya",
         2018,
         "Nandi",
         "Social protection",
         72583499.75,
         958607,
         75.71768175070702
        ],
        [
         "Kenya",
         2018,
         "Nyandarua",
         "Education",
         277096146.85,
         698341,
         396.7920354812334
        ],
        [
         "Kenya",
         2019,
         "Kakamega",
         "Recreation, culture and religion",
         146305620.8,
         2055240,
         71.18663552675115
        ],
        [
         "Kenya",
         2019,
         "Kisii",
         "Health",
         751976307,
         1394616,
         539.1995409489064
        ],
        [
         "Kenya",
         2019,
         "Nyamira",
         "Housing and community amenities",
         306603991.7,
         667466,
         459.3552206404521
        ],
        [
         "Kenya",
         2020,
         "Kisumu",
         "Economic affairs",
         3295639099.9,
         1292152,
         2550.504197571184
        ],
        [
         "Kenya",
         2020,
         "Taita Taveta",
         "Environmental protection",
         29914355,
         381049,
         78.5052709756488
        ],
        [
         "Kenya",
         2016,
         "Bungoma",
         "Housing and community amenities",
         0,
         1732560,
         0
        ],
        [
         "Kenya",
         2018,
         "Busia",
         "Education",
         324359176.75,
         964898,
         336.15903105820513
        ],
        [
         "Kenya",
         2019,
         "Turkana",
         "Recreation, culture and religion",
         156690891,
         1018738,
         153.8088213063614
        ],
        [
         "Kenya",
         2019,
         "Kisumu",
         "Health",
         2718535505,
         1270584,
         2139.5952609193882
        ],
        [
         "Kenya",
         2019,
         "Migori",
         "Housing and community amenities",
         102622650,
         1227169,
         83.62552346090881
        ],
        [
         "Kenya",
         2020,
         "Tana River",
         "Health",
         1086051819,
         356274,
         3048.361146196467
        ],
        [
         "Kenya",
         2020,
         "Bomet",
         "Social protection",
         79430822,
         980330,
         81.02457539808024
        ],
        [
         "Kenya",
         2016,
         "Kirinyaga",
         "Housing and community amenities",
         8639979,
         643037,
         13.43620818086673
        ],
        [
         "Kenya",
         2016,
         "Nakuru",
         "Health",
         3357537423.45,
         2170005,
         1547.2487037817884
        ],
        [
         "Kenya",
         2017,
         "Makueni",
         "Recreation, culture and religion",
         567095472.45,
         1063357,
         533.3067562916311
        ],
        [
         "Kenya",
         2017,
         "Uasin Gishu",
         "Recreation, culture and religion",
         511390502.75,
         1211922,
         421.9665149654846
        ],
        [
         "Kenya",
         2017,
         "Nairobi City",
         "Recreation, culture and religion",
         50130078.5,
         4509233,
         11.117207405339222
        ],
        [
         "Kenya",
         2018,
         "Makueni",
         "Housing and community amenities",
         238561222.95,
         1075366,
         221.8418872737282
        ],
        [
         "Kenya",
         2018,
         "Nyandarua",
         "Social protection",
         62839554.1,
         698341,
         89.98405377888453
        ],
        [
         "Kenya",
         2019,
         "Nakuru",
         "Environmental protection",
         20650000,
         2373034,
         8.701940216617208
        ],
        [
         "Kenya",
         2020,
         "Taita Taveta",
         "Public order and safety",
         191142485.95,
         381049,
         501.62180178927116
        ],
        [
         "Kenya",
         2016,
         "Kitui",
         "Social protection",
         79950395.9,
         1208265,
         66.16958688698259
        ],
        [
         "Kenya",
         2018,
         "Uasin Gishu",
         "Environmental protection",
         2132510,
         1244465,
         1.7135958022121955
        ],
        [
         "Kenya",
         2019,
         "Kwale",
         "Housing and community amenities",
         317166101,
         951518,
         333.32643313106007
        ],
        [
         "Kenya",
         2019,
         "Tana River",
         "General public services",
         1955886285,
         346887,
         5638.396033866937
        ],
        [
         "Kenya",
         2020,
         "Tana River",
         "Recreation, culture and religion",
         44136851,
         356274,
         123.88456917990086
        ],
        [
         "Kenya",
         2020,
         "Embu",
         "Economic affairs",
         1418502635.1,
         679843,
         2086.5150264105096
        ],
        [
         "Kenya",
         2020,
         "Kitui",
         "Housing and community amenities",
         369087561,
         1263831,
         292.0386990032686
        ],
        [
         "Kenya",
         2020,
         "Baringo",
         "Recreation, culture and religion",
         81219179,
         745967,
         108.87771040810117
        ],
        [
         "Kenya",
         2020,
         "Busia",
         "General public services",
         2412415608,
         999906,
         2412.6423963852603
        ],
        [
         "Kenya",
         2020,
         "Taita Taveta",
         "Social protection",
         36559253,
         381049,
         95.94370540271724
        ],
        [
         "Kenya",
         2018,
         "Tharaka Nithi",
         "Education",
         126603310,
         429906,
         294.4906793578131
        ],
        [
         "Kenya",
         2019,
         "Mandera",
         "Recreation, culture and religion",
         2162936982,
         953313,
         2268.8634079258336
        ],
        [
         "Kenya",
         2020,
         "Tana River",
         "Housing and community amenities",
         241753165,
         356274,
         678.5596619455812
        ],
        [
         "Kenya",
         2020,
         "Samburu",
         "Economic affairs",
         1697601818,
         351475,
         4829.93617753752
        ],
        [
         "Kenya",
         2016,
         "Elgeyo Marakwet",
         "Health",
         1151170103.5000002,
         469714,
         2450.789423989918
        ],
        [
         "Kenya",
         2017,
         "Kiambu",
         "Education",
         728464778.4499999,
         2447130,
         297.6812749833478
        ],
        [
         "Kenya",
         2017,
         "Kericho",
         "Environmental protection",
         224835631.10000002,
         957838,
         234.7324193652789
        ],
        [
         "Kenya",
         2018,
         "Wajir",
         "Health",
         1841054857.75,
         841065,
         2188.956689138176
        ],
        [
         "Kenya",
         2018,
         "Murang’A",
         "Recreation, culture and religion",
         72751150.05,
         1149942,
         63.26506036826205
        ],
        [
         "Kenya",
         2018,
         "Wajir",
         "Environmental protection",
         157448273.35000002,
         841065,
         187.20107643285598
        ],
        [
         "Kenya",
         2019,
         "Isiolo",
         "Environmental protection",
         31600776,
         292722,
         107.95490602004632
        ],
        [
         "Kenya",
         2019,
         "Kirinyaga",
         "Health",
         2101550688,
         671452,
         3129.859897654635
        ],
        [
         "Kenya",
         2019,
         "Samburu",
         "Health",
         935226857,
         340457,
         2746.9749689388086
        ],
        [
         "Kenya",
         2019,
         "Baringo",
         "Health",
         2316832183,
         733056,
         3160.5118613039112
        ],
        [
         "Kenya",
         2019,
         "Kisumu",
         "General public services",
         1724404280,
         1270584,
         1357.174559100382
        ],
        [
         "Kenya",
         2020,
         "Garissa",
         "General public services",
         2411787158,
         1052172,
         2292.1985739974075
        ],
        [
         "Kenya",
         2020,
         "Wajir",
         "Social protection",
         54288903,
         875989,
         61.974411779143345
        ],
        [
         "Kenya",
         2016,
         "Kakamega",
         "Public order and safety",
         78145262.75,
         1984614,
         39.37554746162226
        ],
        [
         "Kenya",
         2017,
         "Garissa",
         "Social protection",
         49265064,
         935777,
         52.64615821931935
        ],
        [
         "Kenya",
         2017,
         "Kirinyaga",
         "Education",
         304046991.45,
         652302,
         466.11384213140536
        ],
        [
         "Kenya",
         2017,
         "Turkana",
         "Health",
         634346379.8000001,
         977164,
         649.1708452214777
        ],
        [
         "Kenya",
         2017,
         "Nairobi City",
         "Housing and community amenities",
         17141994,
         4509233,
         3.8015321009138363
        ],
        [
         "Kenya",
         2018,
         "Nyeri",
         "Housing and community amenities",
         448596835.9500001,
         828455,
         541.4860625501689
        ],
        [
         "Kenya",
         2018,
         "Tana River",
         "Public order and safety",
         45878787.5,
         337578,
         135.90573882184265
        ],
        [
         "Kenya",
         2018,
         "Garissa",
         "Environmental protection",
         1646800,
         973522,
         1.6915899178446918
        ],
        [
         "Kenya",
         2020,
         "Bomet",
         "Recreation, culture and religion",
         3394877,
         980330,
         3.4629940938255483
        ],
        [
         "Kenya",
         2016,
         "Kitui",
         "Economic affairs",
         2557304775.899997,
         1208265,
         2116.5098516467806
        ],
        [
         "Kenya",
         2016,
         "Kitui",
         "Education",
         549276560.6999999,
         1208265,
         454.59941378753825
        ],
        [
         "Kenya",
         2016,
         "Kisii",
         "Housing and community amenities",
         481137725.74999994,
         1355863,
         354.8571837641413
        ],
        [
         "Kenya",
         2016,
         "Turkana",
         "Social protection",
         28916601,
         957176,
         30.210328090131803
        ],
        [
         "Kenya",
         2016,
         "Narok",
         "Public order and safety",
         20982809,
         1158782,
         18.107641471821275
        ],
        [
         "Kenya",
         2017,
         "Nandi",
         "Health",
         1287531453.8499997,
         942976,
         1365.3915410890625
        ],
        [
         "Kenya",
         2017,
         "Kakamega",
         "Housing and community amenities",
         44574188.75000001,
         2007676,
         22.201883545950643
        ],
        [
         "Kenya",
         2017,
         "Tharaka Nithi",
         "Environmental protection",
         1426700,
         426670,
         3.343802001546863
        ],
        [
         "Kenya",
         2019,
         "Nakuru",
         "Economic affairs",
         6609448446.449999,
         2373034,
         2785.231246771011
        ],
        [
         "Kenya",
         2020,
         "Kiambu",
         "Education",
         752816590,
         2754995,
         273.25515654293383
        ],
        [
         "Kenya",
         2020,
         "Bungoma",
         "Health",
         3570105536,
         1870968,
         1908.1595922538493
        ],
        [
         "Kenya",
         2020,
         "Kisii",
         "Recreation, culture and religion",
         17820397,
         1406733,
         12.66793129897429
        ],
        [
         "Kenya",
         2020,
         "Meru",
         "Public order and safety",
         557326763.25,
         1721672,
         323.7125092642501
        ],
        [
         "Kenya",
         2016,
         "Tana River",
         "Economic affairs",
         1057289638.6500001,
         319535,
         3308.8382764016465
        ],
        [
         "Kenya",
         2016,
         "Tana River",
         "Public order and safety",
         36503336,
         319535,
         114.23892844289358
        ],
        [
         "Kenya",
         2017,
         "Baringo",
         "Education",
         446338862.90000004,
         706821,
         631.4736869730809
        ],
        [
         "Kenya",
         2017,
         "Nyamira",
         "General public services",
         915992641.75,
         665887,
         1375.597724163409
        ],
        [
         "Kenya",
         2018,
         "Nakuru",
         "Economic affairs",
         2721832571.300001,
         2303736,
         1181.4863210454675
        ],
        [
         "Kenya",
         2018,
         "Uasin Gishu",
         "Health",
         1745234575.6499999,
         1244465,
         1402.3974765461462
        ],
        [
         "Kenya",
         2018,
         "Kwale",
         "Health",
         1995025803.6000004,
         924747,
         2157.37472368118
        ],
        [
         "Kenya",
         2018,
         "Meru",
         "Public order and safety",
         280576974.45,
         1679035,
         167.10609037333944
        ],
        [
         "Kenya",
         2019,
         "Elgeyo Marakwet",
         "General public services",
         1257333677,
         499495,
         2517.2097358331916
        ],
        [
         "Kenya",
         2019,
         "Marsabit",
         "Public order and safety",
         225100506,
         503447,
         447.11857653337887
        ],
        [
         "Kenya",
         2020,
         "Murang’A",
         "General public services",
         5260155585,
         1175266,
         4475.714931768638
        ],
        [
         "Kenya",
         2016,
         "Taita Taveta",
         "Education",
         520749142.6499999,
         354986,
         1466.9568451995287
        ],
        [
         "Kenya",
         2016,
         "Mandera",
         "Economic affairs",
         1421051479.9,
         895698,
         1586.5297007473503
        ],
        [
         "Kenya",
         2016,
         "Kisii",
         "Economic affairs",
         1821942720.65,
         1355863,
         1343.751338188298
        ],
        [
         "Kenya",
         2016,
         "Kajiado",
         "Housing and community amenities",
         0,
         1057819,
         0
        ],
        [
         "Kenya",
         2016,
         "West Pokot",
         "Public order and safety",
         31589469,
         644820,
         48.98959244440309
        ],
        [
         "Kenya",
         2018,
         "Mandera",
         "Public order and safety",
         71859396.9,
         933865,
         76.94837787046308
        ],
        [
         "Kenya",
         2018,
         "Vihiga",
         "Recreation, culture and religion",
         51938207.099999994,
         645985,
         80.40156830266956
        ],
        [
         "Kenya",
         2019,
         "Isiolo",
         "Economic affairs",
         981559614.6000001,
         292722,
         3353.214362432616
        ],
        [
         "Kenya",
         2019,
         "Busia",
         "Public order and safety",
         297700390.5,
         982510,
         302.9998580167123
        ],
        [
         "Kenya",
         2020,
         "Lamu",
         "Health",
         1175736142,
         163321,
         7198.928135389815
        ],
        [
         "Kenya",
         2020,
         "Machakos",
         "Housing and community amenities",
         891151316,
         1601135,
         556.5747522850977
        ],
        [
         "Kenya",
         2020,
         "Bomet",
         "Public order and safety",
         107410217.9,
         980330,
         109.56536870237574
        ],
        [
         "Kenya",
         2016,
         "Machakos",
         "General public services",
         1767107320.8499997,
         1445601,
         1222.4032225005376
        ],
        [
         "Kenya",
         2016,
         "Nandi",
         "Economic affairs",
         1563721746.7499995,
         927962,
         1685.1139882344314
        ],
        [
         "Kenya",
         2016,
         "Bomet",
         "Economic affairs",
         932643672.1000003,
         909525,
         1025.4184020230343
        ],
        [
         "Kenya",
         2016,
         "Kisumu",
         "Public order and safety",
         140244739,
         1205448,
         116.34242124089965
        ],
        [
         "Kenya",
         2017,
         "Machakos",
         "Housing and community amenities",
         51873445.8,
         1483106,
         34.97622273795669
        ],
        [
         "Kenya",
         2017,
         "Murang’A",
         "Health",
         633139652.5999999,
         1136663,
         557.0161539524026
        ],
        [
         "Kenya",
         2017,
         "Tharaka Nithi",
         "Social protection",
         8681358,
         426670,
         20.34677385332927
        ],
        [
         "Kenya",
         2018,
         "Kericho",
         "Social protection",
         14984183.399999999,
         974777,
         15.371909062277833
        ],
        [
         "Kenya",
         2019,
         "Kisumu",
         "Social protection",
         305842212,
         1270584,
         240.70995069983567
        ],
        [
         "Kenya",
         2019,
         "Laikipia",
         "Social protection",
         8171623,
         569446,
         14.350128019162485
        ],
        [
         "Kenya",
         2020,
         "Wajir",
         "Housing and community amenities",
         26568143,
         875989,
         30.329311212812033
        ],
        [
         "Kenya",
         2020,
         "Nakuru",
         "Education",
         968938592,
         2443175,
         396.58992581374645
        ],
        [
         "Kenya",
         2020,
         "Uasin Gishu",
         "Social protection",
         12022009,
         1310340,
         9.17472488056535
        ],
        [
         "Kenya",
         2016,
         "West Pokot",
         "Housing and community amenities",
         25901826.35,
         644820,
         40.16908028597128
        ],
        [
         "Kenya",
         2016,
         "Nakuru",
         "General public services",
         2188617785.95,
         2170005,
         1008.5773009509194
        ],
        [
         "Kenya",
         2016,
         "Nairobi City",
         "General public services",
         3811669502.5,
         4360681,
         874.0995964850445
        ],
        [
         "Kenya",
         2016,
         "Makueni",
         "Public order and safety",
         30257059,
         1051888,
         28.764525310679463
        ],
        [
         "Kenya",
         2017,
         "Samburu",
         "Social protection",
         40481214.55,
         318967,
         126.91348807243382
        ],
        [
         "Kenya",
         2017,
         "Makueni",
         "Public order and safety",
         176713377.2,
         1063357,
         166.1844302524928
        ],
        [
         "Kenya",
         2018,
         "Kwale",
         "Economic affairs",
         2106872918.5999994,
         924747,
         2278.323604834619
        ],
        [
         "Kenya",
         2018,
         "Embu",
         "Recreation, culture and religion",
         1266475,
         658507,
         1.923252144624127
        ],
        [
         "Kenya",
         2018,
         "Isiolo",
         "Environmental protection",
         106333071.95,
         275035,
         386.6165104441253
        ],
        [
         "Kenya",
         2019,
         "Meru",
         "Recreation, culture and religion",
         158096341,
         1700686,
         92.96033541759031
        ],
        [
         "Kenya",
         2020,
         "Migori",
         "Public order and safety",
         184553403.75,
         1250557,
         147.57696270541845
        ],
        [
         "Kenya",
         2016,
         "Elgeyo Marakwet",
         "Education",
         333314830.59999996,
         469714,
         709.6122972702537
        ],
        [
         "Kenya",
         2016,
         "Kwale",
         "Environmental protection",
         14670527,
         872981,
         16.805093123447133
        ],
        [
         "Kenya",
         2017,
         "Elgeyo Marakwet",
         "General public services",
         1096194411.2500002,
         479383,
         2286.67769038535
        ],
        [
         "Kenya",
         2018,
         "Isiolo",
         "General public services",
         1862642106.8499994,
         275035,
         6772.38208537095
        ],
        [
         "Kenya",
         2019,
         "Busia",
         "Economic affairs",
         2779525929.4,
         982510,
         2829.0052308882355
        ],
        [
         "Kenya",
         2019,
         "Kiambu",
         "Social protection",
         123300099.5,
         2649591,
         46.53552170882223
        ],
        [
         "Kenya",
         2020,
         "Taita Taveta",
         "General public services",
         3594575783,
         381049,
         9433.36889218972
        ],
        [
         "Kenya",
         2016,
         "Isiolo",
         "Recreation, culture and religion",
         101506250.65,
         242687,
         418.25994243614207
        ],
        [
         "Kenya",
         2016,
         "Kirinyaga",
         "Health",
         1134007968.35,
         643037,
         1763.519001783723
        ],
        [
         "Kenya",
         2016,
         "Kisumu",
         "Health",
         1096262133.9999998,
         1205448,
         909.4229979227638
        ],
        [
         "Kenya",
         2017,
         "Embu",
         "Health",
         2259301956.3999996,
         647624,
         3488.6013433720796
        ],
        [
         "Kenya",
         2017,
         "Nakuru",
         "Recreation, culture and religion",
         604269948.6,
         2235441,
         270.3135303503872
        ],
        [
         "Kenya",
         2018,
         "Kakamega",
         "Economic affairs",
         2366613530.4000006,
         2031790,
         1164.792390158432
        ],
        [
         "Kenya",
         2018,
         "Mombasa",
         "Housing and community amenities",
         124400,
         1294431,
         0.09610400245358772
        ],
        [
         "Kenya",
         2018,
         "Kericho",
         "Health",
         2086577067.85,
         974777,
         2140.5686304149563
        ],
        [
         "Kenya",
         2018,
         "Nyeri",
         "Education",
         180475606.25,
         828455,
         217.84599797212886
        ],
        [
         "Kenya",
         2018,
         "Kirinyaga",
         "Recreation, culture and religion",
         45338153.849999994,
         661961,
         68.4906721846151
        ],
        [
         "Kenya",
         2019,
         "Nakuru",
         "Public order and safety",
         862041204.9000001,
         2373034,
         363.26542514772234
        ],
        [
         "Kenya",
         2020,
         "Mandera",
         "General public services",
         4499672198,
         972652,
         4626.189220810732
        ],
        [
         "Kenya",
         2020,
         "Nakuru",
         "General public services",
         3557549932,
         2443175,
         1456.1175241233232
        ],
        [
         "Kenya",
         2020,
         "Nairobi City",
         "Health",
         3939870564,
         4984406,
         790.4393349979918
        ],
        [
         "Kenya",
         2020,
         "Makueni",
         "Social protection",
         19304913,
         1098172,
         17.579134233981563
        ],
        [
         "Kenya",
         2016,
         "Nyandarua",
         "General public services",
         1440045152.8500001,
         688885,
         2090.399925749581
        ],
        [
         "Kenya",
         2016,
         "Samburu",
         "Health",
         732690081.65,
         308797,
         2372.7240926887243
        ],
        [
         "Kenya",
         2018,
         "Kwale",
         "General public services",
         1855710548.5499995,
         924747,
         2006.7224317029409
        ],
        [
         "Kenya",
         2018,
         "West Pokot",
         "Economic affairs",
         1019431738.2000002,
         670083,
         1521.3514418363102
        ],
        [
         "Kenya",
         2018,
         "Kilifi",
         "Health",
         2975316697.2999997,
         1554127,
         1914.4617507449518
        ],
        [
         "Kenya",
         2018,
         "Trans Nzoia",
         "Public order and safety",
         136108542.45,
         1068420,
         127.39235735946536
        ],
        [
         "Kenya",
         2018,
         "Nyamira",
         "Environmental protection",
         146785956.2,
         666829,
         220.12533378122424
        ],
        [
         "Kenya",
         2019,
         "Isiolo",
         "Education",
         524992410,
         292722,
         1793.4846373009204
        ],
        [
         "Kenya",
         2018,
         "Mandera",
         "Housing and community amenities",
         61460,
         933865,
         0.06581251037355507
        ],
        [
         "Kenya",
         2018,
         "Laikipia",
         "Housing and community amenities",
         32167473.9,
         554882,
         57.971737955096756
        ],
        [
         "Kenya",
         2018,
         "Machakos",
         "Health",
         1049482832.75,
         1522169,
         689.4653831144899
        ],
        [
         "Kenya",
         2018,
         "Lamu",
         "Health",
         795932526.05,
         152464,
         5220.462050385665
        ],
        [
         "Kenya",
         2018,
         "Nyeri",
         "Health",
         2516348286.2000003,
         828455,
         3037.398876462814
        ],
        [
         "Kenya",
         2019,
         "Embu",
         "Education",
         560683378.45,
         669272,
         837.7511362345953
        ],
        [
         "Kenya",
         2019,
         "Narok",
         "General public services",
         2226173511,
         1270631,
         1752.022035508342
        ],
        [
         "Kenya",
         2019,
         "Bungoma",
         "Education",
         1529358532,
         1836335,
         832.8319898057816
        ],
        [
         "Kenya",
         2020,
         "Makueni",
         "Economic affairs",
         2819353817.6,
         1098172,
         2567.3153363953916
        ],
        [
         "Kenya",
         2020,
         "Kajiado",
         "Housing and community amenities",
         0,
         1283417,
         0
        ],
        [
         "Kenya",
         2016,
         "Elgeyo Marakwet",
         "Public order and safety",
         14390079,
         469714,
         30.635831591138437
        ],
        [
         "Kenya",
         2017,
         "Bomet",
         "Environmental protection",
         283650420.74999994,
         926793,
         306.05585146845084
        ],
        [
         "Kenya",
         2017,
         "Kakamega",
         "Public order and safety",
         278002667.05,
         2007676,
         138.46988610213998
        ],
        [
         "Kenya",
         2017,
         "Bomet",
         "Housing and community amenities",
         0,
         926793,
         0
        ],
        [
         "Kenya",
         2018,
         "Lamu",
         "General public services",
         926899447.3,
         152464,
         6079.464314854654
        ],
        [
         "Kenya",
         2018,
         "Kwale",
         "Environmental protection",
         493617081.0500001,
         924747,
         533.7860853292848
        ],
        [
         "Kenya",
         2019,
         "Kericho",
         "Economic affairs",
         2651556560.7,
         991559,
         2674.1288825980096
        ],
        [
         "Kenya",
         2020,
         "Mandera",
         "Recreation, culture and religion",
         1716136414,
         972652,
         1764.3889222455718
        ],
        [
         "Kenya",
         2016,
         "Marsabit",
         "General public services",
         2023437064.1,
         439105,
         4608.093882101091
        ],
        [
         "Kenya",
         2017,
         "Mombasa",
         "Economic affairs",
         3222373527.5000005,
         1261992,
         2553.402499778129
        ],
        [
         "Kenya",
         2017,
         "Tharaka Nithi",
         "Education",
         37856873,
         426670,
         88.72635291911782
        ],
        [
         "Kenya",
         2017,
         "Murang’A",
         "Education",
         378980205.20000005,
         1136663,
         333.4147457953677
        ],
        [
         "Kenya",
         2018,
         "Kericho",
         "Housing and community amenities",
         45242052.3,
         974777,
         46.41272034526871
        ],
        [
         "Kenya",
         2018,
         "Migori",
         "Economic affairs",
         2353580996.1000004,
         1203580,
         1955.4836372322575
        ],
        [
         "Kenya",
         2018,
         "Kirinyaga",
         "Social protection",
         203437062.74999997,
         661961,
         307.3248465544042
        ],
        [
         "Kenya",
         2018,
         "Siaya",
         "Recreation, culture and religion",
         189942052.49999997,
         1074637,
         176.7499653371324
        ],
        [
         "Kenya",
         2019,
         "Kisii",
         "Social protection",
         147954273,
         1394616,
         106.08961391522828
        ],
        [
         "Kenya",
         2020,
         "Laikipia",
         "Education",
         82261045,
         584082,
         140.8381785434237
        ],
        [
         "Kenya",
         2016,
         "Nyandarua",
         "Health",
         1177506294.85,
         688885,
         1709.292980468438
        ],
        [
         "Kenya",
         2016,
         "Nakuru",
         "Recreation, culture and religion",
         673351779.6000001,
         2170005,
         310.299644286534
        ],
        [
         "Kenya",
         2016,
         "Nyamira",
         "Economic affairs",
         1760705922,
         665205,
         2646.862128216114
        ],
        [
         "Kenya",
         2016,
         "Elgeyo Marakwet",
         "Housing and community amenities",
         0,
         469714,
         0
        ],
        [
         "Kenya",
         2019,
         "Kilifi",
         "General public services",
         3016285733,
         1596266,
         1889.5884100770172
        ],
        [
         "Kenya",
         2019,
         "West Pokot",
         "Recreation, culture and religion",
         9714036,
         682913,
         14.224412187203933
        ],
        [
         "Kenya",
         2020,
         "Uasin Gishu",
         "Economic affairs",
         4631027051.1,
         1310340,
         3534.217875589542
        ],
        [
         "Kenya",
         2020,
         "Kajiado",
         "General public services",
         2533825484,
         1283417,
         1974.2807552027127
        ],
        [
         "Kenya",
         2020,
         "Kericho",
         "Education",
         534715563,
         1008092,
         530.4233770330486
        ],
        [
         "Kenya",
         2020,
         "Tharaka Nithi",
         "Public order and safety",
         44637108.95,
         435803,
         102.42496942425822
        ],
        [
         "Kenya",
         2020,
         "Migori",
         "Recreation, culture and religion",
         67099814,
         1250557,
         53.65594211219481
        ],
        [
         "Kenya",
         2016,
         "Nairobi City",
         "Recreation, culture and religion",
         29718392.949999996,
         4360681,
         6.815080706430944
        ],
        [
         "Kenya",
         2016,
         "Baringo",
         "Public order and safety",
         36669649.3,
         694159,
         52.826008594572706
        ],
        [
         "Kenya",
         2017,
         "Makueni",
         "General public services",
         2150528295.4,
         1063357,
         2022.3953906355064
        ],
        [
         "Kenya",
         2017,
         "Kisii",
         "Education",
         137622396.89999998,
         1368521,
         100.5628681620523
        ],
        [
         "Kenya",
         2017,
         "Nairobi City",
         "Social protection",
         155132819.25,
         4509233,
         34.403371759676205
        ],
        [
         "Kenya",
         2017,
         "Kilifi",
         "Housing and community amenities",
         646135,
         1512422,
         0.42721872599049737
        ],
        [
         "Kenya",
         2019,
         "Nyandarua",
         "Health",
         542309312,
         702930,
         771.4983170443714
        ],
        [
         "Kenya",
         2020,
         "Homa Bay",
         "General public services",
         2604680430,
         1264071,
         2060.5491542800996
        ],
        [
         "Kenya",
         2017,
         "Nandi",
         "Housing and community amenities",
         19527710.3,
         942976,
         20.70859735560608
        ],
        [
         "Kenya",
         2018,
         "Migori",
         "Social protection",
         108979327.2,
         1203580,
         90.54597716811513
        ],
        [
         "Kenya",
         2018,
         "Lamu",
         "Public order and safety",
         299054252,
         152464,
         1961.474525133802
        ],
        [
         "Kenya",
         2018,
         "Murang’A",
         "Public order and safety",
         214914820.35,
         1149942,
         186.89187832951575
        ],
        [
         "Kenya",
         2018,
         "Tharaka Nithi",
         "Public order and safety",
         4639715,
         429906,
         10.792394151279582
        ],
        [
         "Kenya",
         2018,
         "Kitui",
         "General public services",
         3280349669.149999,
         1236405,
         2653.135234126358
        ],
        [
         "Kenya",
         2019,
         "Kitui",
         "Education",
         776204534.4,
         1250389,
         620.7704437579025
        ],
        [
         "Kenya",
         2019,
         "Siaya",
         "Economic affairs",
         1805454120.75,
         1092216,
         1653.0192935737987
        ],
        [
         "Kenya",
         2020,
         "Kakamega",
         "Education",
         608253937,
         2077815,
         292.73729229984383
        ],
        [
         "Kenya",
         2016,
         "Tharaka Nithi",
         "General public services",
         271691336.35,
         423626,
         641.3471702633927
        ],
        [
         "Kenya",
         2016,
         "Kajiado",
         "Social protection",
         33093932.849999998,
         1057819,
         31.285061858408667
        ],
        [
         "Kenya",
         2017,
         "Wajir",
         "Health",
         1352709636.8499997,
         823531,
         1642.5728197845615
        ],
        [
         "Kenya",
         2017,
         "Kisii",
         "Economic affairs",
         5146736752.85,
         1368521,
         3760.8021746469367
        ],
        [
         "Kenya",
         2018,
         "Narok",
         "Public order and safety",
         88859327,
         1232410,
         72.10208209930137
        ],
        [
         "Kenya",
         2018,
         "Kajiado",
         "Environmental protection",
         217886192.05,
         1165768,
         186.903562329726
        ],
        [
         "Kenya",
         2019,
         "Turkana",
         "Housing and community amenities",
         18827033,
         1018738,
         18.480740877438556
        ],
        [
         "Kenya",
         2019,
         "Elgeyo Marakwet",
         "Health",
         1644188085,
         499495,
         3291.7007877956735
        ],
        [
         "Kenya",
         2019,
         "Baringo",
         "Recreation, culture and religion",
         90406862,
         733056,
         123.32872522699493
        ],
        [
         "Kenya",
         2019,
         "Narok",
         "Social protection",
         44818189,
         1270631,
         35.27238749880965
        ],
        [
         "Kenya",
         2016,
         "Wajir",
         "General public services",
         1942140878.15,
         806684,
         2407.560926149521
        ],
        [
         "Kenya",
         2016,
         "Nyamira",
         "Social protection",
         16497575.3,
         665205,
         24.80073856931322
        ],
        [
         "Kenya",
         2017,
         "Embu",
         "Economic affairs",
         2022121749.9999998,
         647624,
         3122.370001729398
        ],
        [
         "Kenya",
         2017,
         "West Pokot",
         "Health",
         1207872960.1,
         657207,
         1837.8881541127832
        ],
        [
         "Kenya",
         2018,
         "Tana River",
         "Health",
         1413453461.1000001,
         337578,
         4187.042583047474
        ],
        [
         "Kenya",
         2018,
         "West Pokot",
         "Recreation, culture and religion",
         6863340,
         670083,
         10.242522195011663
        ],
        [
         "Kenya",
         2018,
         "Busia",
         "Environmental protection",
         10032683,
         964898,
         10.39766172175712
        ],
        [
         "Kenya",
         2019,
         "Nyeri",
         "Health",
         2758038533,
         835770,
         3299.9970482309727
        ],
        [
         "Kenya",
         2019,
         "Embu",
         "Recreation, culture and religion",
         3302178.8,
         669272,
         4.933986182000741
        ],
        [
         "Kenya",
         2020,
         "Mandera",
         "Social protection",
         208517399,
         972652,
         214.38027064150384
        ],
        [
         "Kenya",
         2016,
         "Makueni",
         "Housing and community amenities",
         119247842.60000001,
         1051888,
         113.36553188172125
        ],
        [
         "Kenya",
         2017,
         "Nyandarua",
         "Economic affairs",
         1583040555.3499997,
         693462,
         2282.807933744026
        ],
        [
         "Kenya",
         2017,
         "Trans Nzoia",
         "Environmental protection",
         62973076,
         1048071,
         60.08474235047053
        ],
        [
         "Kenya",
         2018,
         "Kwale",
         "Education",
         1694056133.8500001,
         924747,
         1831.9130895801773
        ],
        [
         "Kenya",
         2018,
         "Nyandarua",
         "Environmental protection",
         2194490,
         698341,
         3.1424332811620683
        ],
        [
         "Kenya",
         2019,
         "Narok",
         "Environmental protection",
         284365224,
         1270631,
         223.7984308583688
        ],
        [
         "Kenya",
         2019,
         "Nairobi City",
         "Economic affairs",
         7108011297,
         4823078,
         1473.750019593297
        ],
        [
         "Kenya",
         2020,
         "Nyandarua",
         "Education",
         247115196.4,
         707150,
         349.4523034716821
        ],
        [
         "Kenya",
         2020,
         "Nyamira",
         "Housing and community amenities",
         249648124,
         667704,
         373.8904125181218
        ],
        [
         "Kenya",
         2017,
         "Vihiga",
         "Health",
         994605273.45,
         641879,
         1549.5214416580072
        ],
        [
         "Kenya",
         2018,
         "Kisii",
         "General public services",
         2570349118.55,
         1381816,
         1860.1240096727786
        ],
        [
         "Kenya",
         2018,
         "Busia",
         "Economic affairs",
         1492210691.4999998,
         964898,
         1546.4957866012778
        ],
        [
         "Kenya",
         2018,
         "Uasin Gishu",
         "Public order and safety",
         213945259.35000002,
         1244465,
         171.91745798395297
        ],
        [
         "Kenya",
         2018,
         "Kericho",
         "Public order and safety",
         101510898.25,
         974777,
         104.1375599239621
        ],
        [
         "Kenya",
         2019,
         "Kitui",
         "Environmental protection",
         86643806,
         1250389,
         69.29348066881586
        ],
        [
         "Kenya",
         2019,
         "Homa Bay",
         "Economic affairs",
         2129084662.7499998,
         1244894,
         1710.253774819382
        ],
        [
         "Kenya",
         2020,
         "Kwale",
         "Education",
         1928751894,
         978569,
         1970.9922284478662
        ],
        [
         "Kenya",
         2020,
         "Nandi",
         "General public services",
         2080774975,
         989217,
         2103.4565469457157
        ],
        [
         "Kenya",
         2020,
         "Tana River",
         "Environmental protection",
         140600,
         356274,
         0.39464008038756687
        ],
        [
         "Kenya",
         2016,
         "Tharaka Nithi",
         "Economic affairs",
         438721796.2,
         423626,
         1035.6347254417813
        ],
        [
         "Kenya",
         2016,
         "Machakos",
         "Education",
         286862996.40000004,
         1445601,
         198.43857080895768
        ],
        [
         "Kenya",
         2016,
         "Nyeri",
         "Economic affairs",
         1190072077.9000008,
         813608,
         1462.709410305701
        ],
        [
         "Kenya",
         2016,
         "Vihiga",
         "Recreation, culture and religion",
         77846277.15,
         638039,
         122.00865017655661
        ],
        [
         "Kenya",
         2016,
         "Bungoma",
         "Economic affairs",
         2438820956.150001,
         1732560,
         1407.640114137462
        ],
        [
         "Kenya",
         2016,
         "Migori",
         "General public services",
         2861094744.25,
         1157150,
         2472.5357509830187
        ],
        [
         "Kenya",
         2017,
         "Marsabit",
         "Education",
         450633254.6,
         459531,
         980.6373337163326
        ],
        [
         "Kenya",
         2017,
         "Tharaka Nithi",
         "Economic affairs",
         490704101.75,
         426670,
         1150.078753486301
        ],
        [
         "Kenya",
         2017,
         "Baringo",
         "Environmental protection",
         506508715.74999994,
         706821,
         716.6011136482928
        ],
        [
         "Kenya",
         2017,
         "Isiolo",
         "Public order and safety",
         80372878,
         258309,
         311.1501263990028
        ],
        [
         "Kenya",
         2018,
         "Uasin Gishu",
         "General public services",
         1577148104.8000002,
         1244465,
         1267.3302220632963
        ],
        [
         "Kenya",
         2018,
         "Kwale",
         "Recreation, culture and religion",
         46461952.45,
         924747,
         50.24287989039165
        ],
        [
         "Kenya",
         2019,
         "Nakuru",
         "General public services",
         5061495956.65,
         2373034,
         2132.921802489977
        ],
        [
         "Kenya",
         2019,
         "Bungoma",
         "Public order and safety",
         335361316.1,
         1836335,
         182.6253467368427
        ],
        [
         "Kenya",
         2020,
         "Kisii",
         "General public services",
         2489608156,
         1406733,
         1769.7801615516235
        ],
        [
         "Kenya",
         2020,
         "West Pokot",
         "Public order and safety",
         134593541.45,
         695607,
         193.4907806419429
        ],
        [
         "Kenya",
         2016,
         "Nairobi City",
         "Environmental protection",
         545624980.9,
         4360681,
         125.12380082377041
        ],
        [
         "Kenya",
         2018,
         "Migori",
         "Health",
         1728291650.1,
         1203580,
         1435.9590971102875
        ],
        [
         "Kenya",
         2018,
         "Machakos",
         "Education",
         201894588.5,
         1522169,
         132.63611891977828
        ],
        [
         "Kenya",
         2018,
         "Kajiado",
         "Recreation, culture and religion",
         14146628.4,
         1165768,
         12.135028925137764
        ],
        [
         "Kenya",
         2019,
         "Kisii",
         "Environmental protection",
         3893960,
         1394616,
         2.7921377640870317
        ],
        [
         "Kenya",
         2016,
         "Kiambu",
         "Health",
         3240725258.4,
         2352106,
         1377.7972839659437
        ],
        [
         "Kenya",
         2018,
         "Kajiado",
         "Social protection",
         148605196.3,
         1165768,
         127.47407400100192
        ],
        [
         "Kenya",
         2018,
         "Embu",
         "Health",
         2141458942.1000001,
         658507,
         3251.9911589398444
        ],
        [
         "Kenya",
         2019,
         "Mombasa",
         "Education",
         590498325.3,
         1327105,
         444.9522270656805
        ],
        [
         "Kenya",
         2019,
         "Wajir",
         "Housing and community amenities",
         11667776,
         858572,
         13.589746695676077
        ],
        [
         "Kenya",
         2019,
         "Uasin Gishu",
         "Health",
         2045972345,
         1277307,
         1601.7859019014222
        ],
        [
         "Kenya",
         2020,
         "Isiolo",
         "Housing and community amenities",
         0,
         311403,
         0
        ],
        [
         "Kenya",
         2020,
         "Nairobi City",
         "Housing and community amenities",
         50086255,
         4984406,
         10.048590544189217
        ],
        [
         "Kenya",
         2020,
         "Busia",
         "Public order and safety",
         191875452.95,
         999906,
         191.89349093814818
        ],
        [
         "Kenya",
         2017,
         "Murang’A",
         "Environmental protection",
         0,
         1136663,
         0
        ],
        [
         "Kenya",
         2018,
         "Mombasa",
         "Health",
         2799275870.8,
         1294431,
         2162.5531764922193
        ],
        [
         "Kenya",
         2018,
         "Mandera",
         "Health",
         393287233.35,
         933865,
         421.1392796067954
        ],
        [
         "Kenya",
         2018,
         "Tharaka Nithi",
         "Health",
         128602334,
         429906,
         299.1405888729164
        ],
        [
         "Kenya",
         2018,
         "Nakuru",
         "Public order and safety",
         395239547.65,
         2303736,
         171.5646010002882
        ],
        [
         "Kenya",
         2019,
         "Meru",
         "Social protection",
         179202527,
         1700686,
         105.37073098737804
        ],
        [
         "Kenya",
         2019,
         "Baringo",
         "Public order and safety",
         322772692,
         733056,
         440.31109765147545
        ],
        [
         "Kenya",
         2020,
         "Nyeri",
         "Environmental protection",
         34261103,
         842660,
         40.65827617307099
        ],
        [
         "Kenya",
         2020,
         "Turkana",
         "Health",
         736199121,
         1039404,
         708.2896746597088
        ],
        [
         "Kenya",
         2016,
         "Embu",
         "Economic affairs",
         1388424749.0000002,
         637167,
         2179.0594129953374
        ],
        [
         "Kenya",
         2017,
         "Lamu",
         "Economic affairs",
         425237984.6999999,
         147217,
         2888.511413084086
        ],
        [
         "Kenya",
         2017,
         "Nyeri",
         "General public services",
         1412018007.1500003,
         820838,
         1720.2152034262551
        ],
        [
         "Kenya",
         2018,
         "Marsabit",
         "Economic affairs",
         1746978617.5499997,
         481101,
         3631.2096993146965
        ],
        [
         "Kenya",
         2019,
         "Lamu",
         "Education",
         441586698,
         157837,
         2797.73879381894
        ],
        [
         "Kenya",
         2020,
         "Taita Taveta",
         "Education",
         204066881,
         381049,
         535.5397363593659
        ],
        [
         "Kenya",
         2020,
         "Marsabit",
         "Health",
         1762866755,
         526582,
         3347.753540759084
        ],
        [
         "Kenya",
         2016,
         "Kilifi",
         "General public services",
         8893870797.749996,
         1472402,
         6040.382176708532
        ],
        [
         "Kenya",
         2016,
         "Tana River",
         "Health",
         748183492.0500001,
         319535,
         2341.4758697795237
        ],
        [
         "Kenya",
         2017,
         "Nyandarua",
         "Recreation, culture and religion",
         44013782.6,
         693462,
         63.46963871127762
        ],
        [
         "Kenya",
         2020,
         "Mombasa",
         "Economic affairs",
         3592840599.85,
         1359896,
         2641.9965937468746
        ],
        [
         "Kenya",
         2016,
         "Kitui",
         "Health",
         1703163732.8499997,
         1208265,
         1409.5945283940193
        ],
        [
         "Kenya",
         2016,
         "Samburu",
         "Economic affairs",
         1149277960.5499997,
         308797,
         3721.791210892592
        ],
        [
         "Kenya",
         2016,
         "Busia",
         "Social protection",
         79099645.85,
         930129,
         85.04158654337193
        ],
        [
         "Kenya",
         2017,
         "Lamu",
         "General public services",
         903529557.25,
         147217,
         6137.399602287779
        ],
        [
         "Kenya",
         2017,
         "Embu",
         "Education",
         508697289.5,
         647624,
         785.4824550974022
        ],
        [
         "Kenya",
         2017,
         "Nairobi City",
         "Health",
         352701451,
         4509233,
         78.21761505781582
        ],
        [
         "Kenya",
         2017,
         "Murang’A",
         "Public order and safety",
         212969908,
         1136663,
         187.3641598257355
        ],
        [
         "Kenya",
         2018,
         "Wajir",
         "Economic affairs",
         3346992304.3499994,
         841065,
         3979.4692495229256
        ],
        [
         "Kenya",
         2018,
         "Nairobi City",
         "Public order and safety",
         6577097212.049998,
         4664602,
         1410.0017990923982
        ],
        [
         "Kenya",
         2019,
         "Kisii",
         "Public order and safety",
         458346838.1,
         1394616,
         328.6545099869785
        ],
        [
         "Kenya",
         2020,
         "Kilifi",
         "Education",
         1263074793,
         1638699,
         770.7790100561482
        ],
        [
         "Kenya",
         2020,
         "Kitui",
         "Environmental protection",
         86098517,
         1263831,
         68.12502383625659
        ],
        [
         "Kenya",
         2020,
         "Vihiga",
         "Education",
         472196842,
         653324,
         722.7605935186829
        ],
        [
         "Kenya",
         2016,
         "Machakos",
         "Economic affairs",
         4356129717.599998,
         1445601,
         3013.369330541414
        ],
        [
         "Kenya",
         2016,
         "Kericho",
         "Housing and community amenities",
         51948297.55,
         941559,
         55.17264191622617
        ],
        [
         "Kenya",
         2016,
         "Kisii",
         "Social protection",
         145312748.05,
         1355863,
         107.1736215605854
        ],
        [
         "Kenya",
         2016,
         "Meru",
         "Public order and safety",
         134207776.2,
         1635681,
         82.05009179662783
        ],
        [
         "Kenya",
         2017,
         "Kwale",
         "Economic affairs",
         1560629683.2500002,
         898319,
         1737.277830314176
        ],
        [
         "Kenya",
         2017,
         "Bungoma",
         "Recreation, culture and religion",
         86676296.85,
         1766291,
         49.07248966902962
        ],
        [
         "Kenya",
         2018,
         "Nairobi City",
         "General public services",
         10638933359.250006,
         4664602,
         2280.7805165906984
        ],
        [
         "Kenya",
         2018,
         "Taita Taveta",
         "Housing and community amenities",
         7695400,
         367982,
         20.912435934366354
        ],
        [
         "Kenya",
         2019,
         "Kwale",
         "Economic affairs",
         2754538452,
         951518,
         2894.8884330091496
        ],
        [
         "Kenya",
         2019,
         "Kilifi",
         "Recreation, culture and religion",
         92978588,
         1596266,
         58.24755272617471
        ],
        [
         "Kenya",
         2019,
         "Marsabit",
         "Social protection",
         20896647,
         503447,
         41.50714375098074
        ],
        [
         "Kenya",
         2017,
         "Vihiga",
         "Education",
         375065317.65,
         641879,
         584.3240200255811
        ],
        [
         "Kenya",
         2017,
         "Vihiga",
         "Recreation, culture and religion",
         207749672,
         641879,
         323.65862101735684
        ],
        [
         "Kenya",
         2018,
         "Samburu",
         "Public order and safety",
         64412611,
         329613,
         195.41890338063124
        ],
        [
         "Kenya",
         2019,
         "Trans Nzoia",
         "Social protection",
         73363451,
         1088670,
         67.38814424940524
        ],
        [
         "Kenya",
         2019,
         "Taita Taveta",
         "Social protection",
         25563553,
         374561,
         68.24937193140771
        ],
        [
         "Kenya",
         2020,
         "Tana River",
         "Economic affairs",
         698512858,
         356274,
         1960.6057641029095
        ],
        [
         "Kenya",
         2020,
         "Nyeri",
         "Health",
         2724674862,
         842660,
         3233.4213822894167
        ],
        [
         "Kenya",
         2016,
         "Bomet",
         "General public services",
         1166528113.6000001,
         909525,
         1282.5684985019655
        ],
        [
         "Kenya",
         2016,
         "Laikipia",
         "Environmental protection",
         10293544,
         526607,
         19.54691829011008
        ],
        [
         "Kenya",
         2017,
         "West Pokot",
         "Housing and community amenities",
         29472504.700000003,
         657207,
         44.84508640352279
        ],
        [
         "Kenya",
         2017,
         "Turkana",
         "Housing and community amenities",
         400000,
         977164,
         0.40934786791162997
        ],
        [
         "Kenya",
         2018,
         "Kilifi",
         "Recreation, culture and religion",
         82839752.25,
         1554127,
         53.30307770857851
        ],
        [
         "Kenya",
         2019,
         "Tana River",
         "Economic affairs",
         1978266266,
         346887,
         5702.912666084345
        ],
        [
         "Kenya",
         2019,
         "Isiolo",
         "Health",
         1337519262,
         292722,
         4569.247483960891
        ],
        [
         "Kenya",
         2019,
         "Nyandarua",
         "Housing and community amenities",
         301543131,
         702930,
         428.9803124066408
        ],
        [
         "Kenya",
         2019,
         "Kiambu",
         "Housing and community amenities",
         2114252796,
         2649591,
         797.9543997545281
        ],
        [
         "Kenya",
         2020,
         "Bomet",
         "Housing and community amenities",
         500000,
         980330,
         0.5100323360501056
        ],
        [
         "Kenya",
         2020,
         "Wajir",
         "Public order and safety",
         200959283.95,
         875989,
         229.40845598517788
        ],
        [
         "Kenya",
         2016,
         "Murang’A",
         "General public services",
         2614300336.5500007,
         1123956,
         2325.981031775266
        ],
        [
         "Kenya",
         2016,
         "Migori",
         "Public order and safety",
         16325088,
         1157150,
         14.108013654236702
        ],
        [
         "Kenya",
         2017,
         "Tana River",
         "Recreation, culture and religion",
         66071761.25,
         328361,
         201.2168352819001
        ],
        [
         "Kenya",
         2017,
         "Makueni",
         "Environmental protection",
         11833501,
         1063357,
         11.128436639811465
        ],
        [
         "Kenya",
         2018,
         "Tharaka Nithi",
         "Housing and community amenities",
         204842,
         429906,
         0.47648090512809776
        ],
        [
         "Kenya",
         2018,
         "Narok",
         "Health",
         1488218178.2499998,
         1232410,
         1207.5674314960117
        ],
        [
         "Kenya",
         2019,
         "Nandi",
         "Recreation, culture and religion",
         197831494,
         974055,
         203.10094809841334
        ],
        [
         "Kenya",
         2019,
         "Vihiga",
         "Housing and community amenities",
         15816615.15,
         649836,
         24.33939509353129
        ],
        [
         "Kenya",
         2019,
         "Nairobi City",
         "Education",
         719158374.25,
         4823078,
         149.10776360033987
        ],
        [
         "Kenya",
         2019,
         "Tana River",
         "Social protection",
         295718860,
         346887,
         852.4933479778717
        ],
        [
         "Kenya",
         2019,
         "Makueni",
         "Social protection",
         27157504,
         1087010,
         24.983674483215427
        ],
        [
         "Kenya",
         2020,
         "Wajir",
         "Environmental protection",
         347930601,
         875989,
         397.18603886578484
        ],
        [
         "Kenya",
         2016,
         "Marsabit",
         "Health",
         931210118.05,
         439105,
         2120.7003291923343
        ],
        [
         "Kenya",
         2016,
         "Meru",
         "Recreation, culture and religion",
         64955251,
         1635681,
         39.71144190095746
        ],
        [
         "Kenya",
         2016,
         "Trans Nzoia",
         "Housing and community amenities",
         34819824.1,
         1028502,
         33.854891969096805
        ],
        [
         "Kenya",
         2017,
         "Narok",
         "Economic affairs",
         1726454896.6000004,
         1194799,
         1444.9751770799946
        ],
        [
         "Kenya",
         2019,
         "Murang’A",
         "Health",
         234361824,
         1162856,
         201.53985016201491
        ],
        [
         "Kenya",
         2020,
         "Tana River",
         "Education",
         316950363,
         356274,
         889.6252968221088
        ],
        [
         "Kenya",
         2020,
         "Makueni",
         "Education",
         618160504,
         1098172,
         562.8995312209745
        ],
        [
         "Kenya",
         2016,
         "Nairobi City",
         "Social protection",
         81986168,
         4360681,
         18.801230358285782
        ],
        [
         "Kenya",
         2017,
         "Machakos",
         "Recreation, culture and religion",
         306053259.8499999,
         1483106,
         206.35966670622324
        ],
        [
         "Kenya",
         2018,
         "Tana River",
         "Economic affairs",
         625813145.3,
         337578,
         1853.8327299172338
        ],
        [
         "Kenya",
         2018,
         "Machakos",
         "Economic affairs",
         5846326808.899997,
         1522169,
         3840.786935550518
        ],
        [
         "Kenya",
         2018,
         "Bungoma",
         "Social protection",
         57776331.550000004,
         1801381,
         32.07335458184582
        ],
        [
         "Kenya",
         2018,
         "Samburu",
         "Education",
         456840380.20000005,
         329613,
         1385.9901769651078
        ],
        [
         "Kenya",
         2018,
         "Siaya",
         "Public order and safety",
         64919502.15,
         1074637,
         60.410633683746234
        ],
        [
         "Kenya",
         2018,
         "Kajiado",
         "General public services",
         2033902340.7000003,
         1165768,
         1744.688772294316
        ],
        [
         "Kenya",
         2019,
         "Embu",
         "Housing and community amenities",
         68744190.55,
         669272,
         102.71487608924323
        ],
        [
         "Kenya",
         2019,
         "West Pokot",
         "Education",
         926538360.5,
         682913,
         1356.7443590911287
        ],
        [
         "Kenya",
         2020,
         "Kwale",
         "Health",
         2494562866,
         978569,
         2549.194656687469
        ],
        [
         "Kenya",
         2020,
         "Makueni",
         "General public services",
         2564536611,
         1098172,
         2335.2777260756966
        ],
        [
         "Kenya",
         2020,
         "Mombasa",
         "Public order and safety",
         477502469.5,
         1359896,
         351.1316082259232
        ],
        [
         "Kenya",
         2016,
         "Uasin Gishu",
         "Recreation, culture and religion",
         246988167.89999998,
         1180687,
         209.19021544236531
        ],
        [
         "Kenya",
         2016,
         "Vihiga",
         "Public order and safety",
         13117260,
         638039,
         20.55871192826771
        ],
        [
         "Kenya",
         2017,
         "Laikipia",
         "Economic affairs",
         592485473.05,
         540450,
         1096.281752336016
        ],
        [
         "Kenya",
         2017,
         "Kakamega",
         "Social protection",
         82742755,
         2007676,
         41.213201233665195
        ],
        [
         "Kenya",
         2019,
         "Samburu",
         "Economic affairs",
         1235964341.3,
         340457,
         3630.3096758180914
        ],
        [
         "Kenya",
         2019,
         "Kakamega",
         "Economic affairs",
         4082585350.3,
         2055240,
         1986.4275463206245
        ],
        [
         "Kenya",
         2019,
         "Migori",
         "Environmental protection",
         293823585,
         1227169,
         239.43204644185113
        ],
        [
         "Kenya",
         2019,
         "Uasin Gishu",
         "Social protection",
         67851087,
         1277307,
         53.120422106823185
        ],
        [
         "Kenya",
         2020,
         "Murang’A",
         "Health",
         307905211,
         1175266,
         261.98767853405104
        ],
        [
         "Kenya",
         2020,
         "Embu",
         "Public order and safety",
         277229403.79999995,
         679843,
         407.7844499391771
        ],
        [
         "Kenya",
         2020,
         "Nandi",
         "Social protection",
         26929744,
         989217,
         27.22329276589464
        ],
        [
         "Kenya",
         2016,
         "Lamu",
         "Health",
         554453193.4,
         142194,
         3899.2727780356413
        ],
        [
         "Kenya",
         2016,
         "Kericho",
         "Public order and safety",
         55206737.95,
         941559,
         58.63332828850874
        ],
        [
         "Kenya",
         2017,
         "Nakuru",
         "Housing and community amenities",
         16664235.75,
         2235441,
         7.45456299226864
        ],
        [
         "Kenya",
         2017,
         "Siaya",
         "Health",
         1641885692.2999997,
         1056857,
         1553.555204062612
        ],
        [
         "Kenya",
         2018,
         "Murang’A",
         "Housing and community amenities",
         159877322.6,
         1149942,
         139.03077076930836
        ],
        [
         "Kenya",
         2019,
         "Uasin Gishu",
         "Education",
         990711423,
         1277307,
         775.6251418022449
        ],
        [
         "Kenya",
         2019,
         "Uasin Gishu",
         "Public order and safety",
         454698978.5999999,
         1277307,
         355.98253090290734
        ],
        [
         "Kenya",
         2020,
         "Samburu",
         "Health",
         1214429205,
         351475,
         3455.236375275624
        ],
        [
         "Kenya",
         2020,
         "Nandi",
         "Recreation, culture and religion",
         131879719,
         989217,
         133.3172792218492
        ],
        [
         "Kenya",
         2020,
         "Kwale",
         "Public order and safety",
         89782709.95,
         978569,
         91.74898239163514
        ],
        [
         "Kenya",
         2016,
         "Lamu",
         "General public services",
         993528525.1500001,
         142194,
         6987.133951854509
        ],
        [
         "Kenya",
         2016,
         "Garissa",
         "Public order and safety",
         44958218,
         899835,
         49.96273539037713
        ],
        [
         "Kenya",
         2018,
         "Vihiga",
         "Health",
         1063151779.5500001,
         645985,
         1645.7840035759345
        ],
        [
         "Kenya",
         2019,
         "Mombasa",
         "General public services",
         3964894921.3999996,
         1327105,
         2987.6271443480355
        ],
        [
         "Kenya",
         2020,
         "Nyandarua",
         "General public services",
         2009006241,
         707150,
         2840.9902297956587
        ],
        [
         "Kenya",
         2020,
         "Kirinyaga",
         "Economic affairs",
         1184141551,
         680714,
         1739.5580978208175
        ],
        [
         "Kenya",
         2020,
         "Trans Nzoia",
         "Environmental protection",
         107370890,
         1108719,
         96.84229277210908
        ],
        [
         "Kenya",
         2017,
         "Mombasa",
         "Education",
         1183222057.3999999,
         1261992,
         937.5828510798799
        ],
        [
         "Kenya",
         2017,
         "Kiambu",
         "Social protection",
         111450906,
         2447130,
         45.543516690980866
        ],
        [
         "Kenya",
         2018,
         "Kajiado",
         "Public order and safety",
         129869076.5,
         1165768,
         111.40216278024444
        ],
        [
         "Kenya",
         2018,
         "Garissa",
         "Recreation, culture and religion",
         42677633,
         973522,
         43.838385778647016
        ],
        [
         "Kenya",
         2019,
         "Nakuru",
         "Health",
         4719021189,
         2373034,
         1988.6024342676928
        ],
        [
         "Kenya",
         2019,
         "Laikipia",
         "Housing and community amenities",
         683495,
         569446,
         1.2002806236236623
        ],
        [
         "Kenya",
         2020,
         "Siaya",
         "Housing and community amenities",
         156742708,
         1109487,
         141.27493877801183
        ],
        [
         "Kenya",
         2020,
         "Kisii",
         "Social protection",
         140177843,
         1406733,
         99.64779599255864
        ],
        [
         "Kenya",
         2016,
         "Murang’A",
         "Recreation, culture and religion",
         99178381.95,
         1123956,
         88.24044886988459
        ],
        [
         "Kenya",
         2018,
         "Narok",
         "Housing and community amenities",
         162520848.24999997,
         1232410,
         131.87238682743566
        ],
        [
         "Kenya",
         2018,
         "Taita Taveta",
         "Social protection",
         82496506.7,
         367982,
         224.18625557771847
        ],
        [
         "Kenya",
         2018,
         "Kisumu",
         "Recreation, culture and religion",
         245946377.3,
         1248702,
         196.96162679326213
        ],
        [
         "Kenya",
         2019,
         "Nairobi City",
         "General public services",
         6858943832,
         4823078,
         1422.1092489070259
        ],
        [
         "Kenya",
         2020,
         "Kitui",
         "Education",
         606689649.8,
         1263831,
         480.04017135202406
        ],
        [
         "Kenya",
         2020,
         "Nakuru",
         "Health",
         4972432599,
         2443175,
         2035.233906289971
        ],
        [
         "Kenya",
         2020,
         "Homa Bay",
         "Housing and community amenities",
         584283673,
         1264071,
         462.2237777783052
        ],
        [
         "Kenya",
         2020,
         "Garissa",
         "Environmental protection",
         814830,
         1052172,
         0.7744266146599605
        ],
        [
         "Kenya",
         2016,
         "Makueni",
         "Recreation, culture and religion",
         156935861.15000004,
         1051888,
         149.19445905837887
        ],
        [
         "Kenya",
         2016,
         "Siaya",
         "Public order and safety",
         11218489,
         1039776,
         10.789332510079094
        ],
        [
         "Kenya",
         2017,
         "Vihiga",
         "Public order and safety",
         76499697,
         641879,
         119.1808689799791
        ],
        [
         "Kenya",
         2017,
         "Kisumu",
         "Public order and safety",
         331136518.8,
         1226647,
         269.9525770657736
        ],
        [
         "Kenya",
         2018,
         "Machakos",
         "Public order and safety",
         185449179.5,
         1522169,
         121.83218781882958
        ],
        [
         "Kenya",
         2018,
         "Samburu",
         "Social protection",
         14098098.1,
         329613,
         42.771668896554445
        ],
        [
         "Kenya",
         2018,
         "Kericho",
         "Environmental protection",
         248840592.85000002,
         974777,
         255.2795078771863
        ],
        [
         "Kenya",
         2019,
         "Baringo",
         "Education",
         662327226.1,
         733056,
         903.5151831510826
        ],
        [
         "Kenya",
         2019,
         "Kakamega",
         "Education",
         985495490.5,
         2055240,
         479.503848942216
        ],
        [
         "Kenya",
         2019,
         "Murang’A",
         "Social protection",
         41232396,
         1162856,
         35.45786924606314
        ],
        [
         "Kenya",
         2019,
         "Nyeri",
         "Recreation, culture and religion",
         115698921,
         835770,
         138.43392440503968
        ],
        [
         "Kenya",
         2020,
         "Kisii",
         "Housing and community amenities",
         864493687,
         1406733,
         614.5399923084195
        ],
        [
         "Kenya",
         2016,
         "Tharaka Nithi",
         "Health",
         153365413.35,
         423626,
         362.03021851822126
        ],
        [
         "Kenya",
         2016,
         "Busia",
         "Public order and safety",
         68787518,
         930129,
         73.95481486976537
        ],
        [
         "Kenya",
         2017,
         "Makueni",
         "Education",
         675224558.5,
         1063357,
         634.9932887073674
        ],
        [
         "Kenya",
         2017,
         "West Pokot",
         "Recreation, culture and religion",
         15091032,
         657207,
         22.9623725858063
        ],
        [
         "Kenya",
         2017,
         "Laikipia",
         "Public order and safety",
         93464278,
         540450,
         172.93788139513367
        ],
        [
         "Kenya",
         2018,
         "Turkana",
         "Health",
         421511628.70000005,
         997968,
         422.3698843049076
        ],
        [
         "Kenya",
         2018,
         "Marsabit",
         "Public order and safety",
         68510432,
         481101,
         142.4034288018524
        ],
        [
         "Kenya",
         2019,
         "Wajir",
         "Education",
         950593213.75,
         858572,
         1107.179378957152
        ],
        [
         "Kenya",
         2019,
         "Kajiado",
         "Education",
         768950888.95,
         1223473,
         628.4984539503529
        ],
        [
         "Kenya",
         2020,
         "Kirinyaga",
         "Education",
         213374967,
         680714,
         313.45758571147354
        ],
        [
         "Kenya",
         2020,
         "Bungoma",
         "Housing and community amenities",
         0,
         1870968,
         0
        ],
        [
         "Kenya",
         2017,
         "Kirinyaga",
         "Health",
         1406229155.55,
         652302,
         2155.794640442617
        ],
        [
         "Kenya",
         2017,
         "Kisii",
         "Health",
         718869355.45,
         1368521,
         525.2892395878471
        ],
        [
         "Kenya",
         2017,
         "Baringo",
         "Social protection",
         39720081.95,
         706821,
         56.195390275614336
        ],
        [
         "Kenya",
         2019,
         "Uasin Gishu",
         "General public services",
         1703818211,
         1277307,
         1333.9144082041357
        ],
        [
         "Kenya",
         2019,
         "Kericho",
         "Environmental protection",
         320609593,
         991559,
         323.33889662642366
        ],
        [
         "Kenya",
         2020,
         "Kilifi",
         "Health",
         2769690780,
         1638699,
         1690.1766462297226
        ],
        [
         "Kenya",
         2020,
         "Kilifi",
         "Public order and safety",
         276673390.9,
         1638699,
         168.8372244689232
        ],
        [
         "Kenya",
         2016,
         "Embu",
         "Education",
         200185961.6,
         637167,
         314.1813081970661
        ],
        [
         "Kenya",
         2016,
         "Kirinyaga",
         "Economic affairs",
         672802762.3500001,
         643037,
         1046.2893462584582
        ],
        [
         "Kenya",
         2016,
         "Uasin Gishu",
         "Public order and safety",
         84269821.8,
         1180687,
         71.37354929799345
        ],
        [
         "Kenya",
         2016,
         "Bomet",
         "Public order and safety",
         14868527,
         909525,
         16.347573733542234
        ],
        [
         "Kenya",
         2019,
         "Garissa",
         "Education",
         846725262,
         1012333,
         836.4098196937174
        ],
        [
         "Kenya",
         2020,
         "Wajir",
         "General public services",
         2978203435,
         875989,
         3399.818302512931
        ],
        [
         "Kenya",
         2020,
         "Kitui",
         "Health",
         3725026380,
         1263831,
         2947.408617133145
        ],
        [
         "Kenya",
         2020,
         "Bomet",
         "Economic affairs",
         5009766426.4,
         980330,
         5110.285747044362
        ],
        [
         "Kenya",
         2020,
         "Turkana",
         "Public order and safety",
         179207405.95,
         1039404,
         172.41361968012436
        ],
        [
         "Kenya",
         2020,
         "Kitui",
         "Social protection",
         24404118,
         1263831,
         19.309637127115888
        ],
        [
         "Kenya",
         2016,
         "Embu",
         "General public services",
         1272799773.6000001,
         637167,
         1997.5921125858686
        ],
        [
         "Kenya",
         2016,
         "Trans Nzoia",
         "Education",
         292731195.3,
         1028502,
         284.61898498982015
        ],
        [
         "Kenya",
         2016,
         "Kilifi",
         "Education",
         6396600,
         1472402,
         4.34432987730253
        ],
        [
         "Kenya",
         2017,
         "Samburu",
         "Environmental protection",
         44366392.2,
         318967,
         139.09398840632417
        ],
        [
         "Kenya",
         2017,
         "Kakamega",
         "Health",
         449348345.8,
         2007676,
         223.81517027647888
        ],
        [
         "Kenya",
         2017,
         "West Pokot",
         "Public order and safety",
         136130691,
         657207,
         207.13518115297006
        ],
        [
         "Kenya",
         2018,
         "Marsabit",
         "Education",
         450268124.9,
         481101,
         935.9118457454879
        ],
        [
         "Kenya",
         2018,
         "Isiolo",
         "Recreation, culture and religion",
         0,
         275035,
         0
        ],
        [
         "Kenya",
         2019,
         "Makueni",
         "Housing and community amenities",
         116720160,
         1087010,
         107.37726423859947
        ],
        [
         "Kenya",
         2019,
         "Kiambu",
         "Health",
         5912364768,
         2649591,
         2231.425441888956
        ],
        [
         "Kenya",
         2019,
         "Bomet",
         "Economic affairs",
         6262433063,
         962642,
         6505.464194373401
        ],
        [
         "Kenya",
         2016,
         "Migori",
         "Recreation, culture and religion",
         0,
         1157150,
         0
        ],
        [
         "Kenya",
         2016,
         "Lamu",
         "Social protection",
         30168576.95,
         142194,
         212.16490815364924
        ],
        [
         "Kenya",
         2016,
         "Turkana",
         "Public order and safety",
         60320149.85,
         957176,
         63.0188699361455
        ],
        [
         "Kenya",
         2017,
         "Elgeyo Marakwet",
         "Education",
         486219489.44999987,
         479383,
         1014.2610177040068
        ],
        [
         "Kenya",
         2017,
         "Busia",
         "Economic affairs",
         2593771733.0500007,
         947172,
         2738.437932128484
        ],
        [
         "Kenya",
         2017,
         "Marsabit",
         "Social protection",
         33909419,
         459531,
         73.79136336830378
        ],
        [
         "Kenya",
         2017,
         "Tharaka Nithi",
         "Housing and community amenities",
         19505372,
         426670,
         45.715358473761924
        ],
        [
         "Kenya",
         2018,
         "Tharaka Nithi",
         "Economic affairs",
         1446963364.1000001,
         429906,
         3365.766851590813
        ],
        [
         "Kenya",
         2018,
         "Kisumu",
         "Health",
         2910513562.899999,
         1248702,
         2330.8311854229423
        ],
        [
         "Kenya",
         2019,
         "Meru",
         "Housing and community amenities",
         190494143,
         1700686,
         112.01017883371769
        ],
        [
         "Kenya",
         2019,
         "Turkana",
         "Economic affairs",
         2587212091.5,
         1018738,
         2539.6246056395266
        ],
        [
         "Kenya",
         2019,
         "Kitui",
         "Recreation, culture and religion",
         -88000,
         1250389,
         -0.0703780983357979
        ],
        [
         "Kenya",
         2020,
         "Bungoma",
         "Recreation, culture and religion",
         269707350,
         1870968,
         144.15390856497814
        ],
        [
         "Kenya",
         2016,
         "Baringo",
         "Economic affairs",
         880022784.4,
         694159,
         1267.753907101975
        ],
        [
         "Kenya",
         2017,
         "Kilifi",
         "Health",
         2303330251.8500004,
         1512422,
         1522.9415149012646
        ],
        [
         "Kenya",
         2017,
         "Marsabit",
         "General public services",
         2356872045.6500006,
         459531,
         5128.864093282065
        ],
        [
         "Kenya",
         2017,
         "Baringo",
         "Housing and community amenities",
         158081263.54999998,
         706821,
         223.65105670318226
        ],
        [
         "Kenya",
         2017,
         "Kisii",
         "Public order and safety",
         194185340,
         1368521,
         141.89430779651903
        ],
        [
         "Kenya",
         2018,
         "Bomet",
         "Economic affairs",
         1226449569.3499997,
         944760,
         1298.1599235255512
        ],
        [
         "Kenya",
         2018,
         "Kilifi",
         "Economic affairs",
         3178063755.1500025,
         1554127,
         2044.918951379136
        ],
        [
         "Kenya",
         2018,
         "Nairobi City",
         "Social protection",
         37546927.2,
         4664602,
         8.049331368464019
        ],
        [
         "Kenya",
         2018,
         "Kirinyaga",
         "Health",
         1758132235.6499999,
         661961,
         2655.945343683389
        ],
        [
         "Kenya",
         2018,
         "West Pokot",
         "Social protection",
         402556914.59999996,
         670083,
         600.7567937106298
        ],
        [
         "Kenya",
         2018,
         "Vihiga",
         "Environmental protection",
         90208056,
         645985,
         139.64419607266422
        ],
        [
         "Kenya",
         2019,
         "Machakos",
         "Recreation, culture and religion",
         66768533,
         1561560,
         42.75758408258408
        ],
        [
         "Kenya",
         2016,
         "Mombasa",
         "Education",
         427137850.1999999,
         1230848,
         347.02729354071334
        ],
        [
         "Kenya",
         2016,
         "Kericho",
         "Health",
         1358309989.4,
         941559,
         1442.6180296720652
        ],
        [
         "Kenya",
         2016,
         "Nakuru",
         "Public order and safety",
         120976835,
         2170005,
         55.74956509316799
        ],
        [
         "Kenya",
         2017,
         "Samburu",
         "Health",
         673442693.4000001,
         318967,
         2111.3240347747574
        ],
        [
         "Kenya",
         2017,
         "Garissa",
         "Public order and safety",
         751621324,
         935777,
         803.2055970599833
        ],
        [
         "Kenya",
         2019,
         "Lamu",
         "General public services",
         1117575955,
         157837,
         7080.570176827993
        ],
        [
         "Kenya",
         2019,
         "Garissa",
         "Economic affairs",
         1302448925.9,
         1012333,
         1286.5815160624024
        ],
        [
         "Kenya",
         2020,
         "Isiolo",
         "Recreation, culture and religion",
         27000000,
         311403,
         86.70436700995174
        ],
        [
         "Kenya",
         2016,
         "Garissa",
         "Education",
         462390753.85,
         899835,
         513.8617122583585
        ],
        [
         "Kenya",
         2016,
         "Homa Bay",
         "Health",
         1380616073.2499998,
         1186528,
         1163.57647965324
        ],
        [
         "Kenya",
         2016,
         "Embu",
         "Public order and safety",
         94444834.4,
         637167,
         148.22618622747257
        ],
        [
         "Kenya",
         2018,
         "Turkana",
         "Education",
         70259967.3,
         997968,
         70.40302624933865
        ],
        [
         "Kenya",
         2018,
         "Bungoma",
         "Education",
         1272175330.65,
         1801381,
         706.2222431845346
        ],
        [
         "Kenya",
         2018,
         "Kisii",
         "Recreation, culture and religion",
         58227325.95,
         1381816,
         42.1382629452836
        ],
        [
         "Kenya",
         2019,
         "Marsabit",
         "General public services",
         2616388556,
         503447,
         5196.949343227788
        ],
        [
         "Kenya",
         2019,
         "Isiolo",
         "General public services",
         1288448302,
         292722,
         4401.610750131524
        ],
        [
         "Kenya",
         2020,
         "Baringo",
         "Housing and community amenities",
         6227186,
         745967,
         8.347803589166814
        ],
        [
         "Kenya",
         2020,
         "Kisumu",
         "Housing and community amenities",
         0,
         1292152,
         0
        ],
        [
         "Kenya",
         2020,
         "Lamu",
         "Social protection",
         40608313,
         163321,
         248.64109942995697
        ],
        [
         "Kenya",
         2017,
         "Isiolo",
         "Social protection",
         54911811.55,
         258309,
         212.58187500241957
        ],
        [
         "Kenya",
         2017,
         "Bungoma",
         "Environmental protection",
         38618196.95,
         1766291,
         21.86400595938042
        ],
        [
         "Kenya",
         2017,
         "Nyamira",
         "Social protection",
         43779450.4,
         665887,
         65.74606562374697
        ],
        [
         "Kenya",
         2018,
         "Nyamira",
         "Housing and community amenities",
         135913153.7,
         666829,
         203.8201003555634
        ],
        [
         "Kenya",
         2019,
         "Wajir",
         "Economic affairs",
         4459897557,
         858572,
         5194.552765522286
        ],
        [
         "Kenya",
         2019,
         "Kajiado",
         "General public services",
         2473530858,
         1223473,
         2021.7290107750641
        ],
        [
         "Kenya",
         2019,
         "Kitui",
         "Public order and safety",
         513592485.7,
         1250389,
         410.7461643536531
        ],
        [
         "Kenya",
         2019,
         "Tharaka Nithi",
         "Environmental protection",
         28857778,
         432967,
         66.65121822217398
        ],
        [
         "Kenya",
         2020,
         "Lamu",
         "Economic affairs",
         883313202.8,
         163321,
         5408.448410186075
        ],
        [
         "Kenya",
         2020,
         "Laikipia",
         "Economic affairs",
         866432097.8,
         584082,
         1483.4083190373954
        ],
        [
         "Kenya",
         2020,
         "Nairobi City",
         "Recreation, culture and religion",
         309812043,
         4984406,
         62.15626154851751
        ],
        [
         "Kenya",
         2016,
         "Mombasa",
         "General public services",
         3037711431.95,
         1230848,
         2467.98258757377
        ],
        [
         "Kenya",
         2016,
         "Lamu",
         "Housing and community amenities",
         37942968.8,
         142194,
         266.8394503284245
        ],
        [
         "Kenya",
         2016,
         "Kisumu",
         "Economic affairs",
         2907478414.899997,
         1205448,
         2411.948433196618
        ],
        [
         "Kenya",
         2017,
         "Bomet",
         "Economic affairs",
         1273447100.2999995,
         926793,
         1374.036165896807
        ],
        [
         "Kenya",
         2018,
         "Isiolo",
         "Economic affairs",
         842709597.15,
         275035,
         3064.008570363772
        ],
        [
         "Kenya",
         2018,
         "Taita Taveta",
         "Health",
         169574720.9,
         367982,
         460.82341228647056
        ],
        [
         "Kenya",
         2019,
         "Kiambu",
         "Economic affairs",
         4537276273,
         2649591,
         1712.4440236247783
        ],
        [
         "Kenya",
         2019,
         "Nakuru",
         "Education",
         1249332834.6499999,
         2373034,
         526.4706846383153
        ],
        [
         "Kenya",
         2019,
         "Migori",
         "Public order and safety",
         262928273,
         1227169,
         214.2559606704537
        ],
        [
         "Kenya",
         2019,
         "Garissa",
         "Environmental protection",
         498450,
         1012333,
         0.4923775081914745
        ],
        [
         "Kenya",
         2020,
         "Kajiado",
         "Education",
         715527659,
         1283417,
         557.5176727439328
        ],
        [
         "Kenya",
         2020,
         "Garissa",
         "Public order and safety",
         616039791.9000001,
         1052172,
         585.4934287359862
        ],
        [
         "Kenya",
         2020,
         "Bungoma",
         "Public order and safety",
         303177321.95,
         1870968,
         162.04302903630634
        ],
        [
         "Kenya",
         2016,
         "Mombasa",
         "Economic affairs",
         2448952793.400001,
         1230848,
         1989.6468072418375
        ],
        [
         "Kenya",
         2016,
         "Kiambu",
         "Economic affairs",
         2084249249.3500004,
         2352106,
         886.1204594308251
        ],
        [
         "Kenya",
         2016,
         "Trans Nzoia",
         "Health",
         1436946018.5000002,
         1028502,
         1397.1251572675603
        ],
        [
         "Kenya",
         2018,
         "Kirinyaga",
         "General public services",
         1457015280.0500002,
         661961,
         2201.059095702013
        ],
        [
         "Kenya",
         2018,
         "Kilifi",
         "Education",
         1120398366.4,
         1554127,
         720.9181530209565
        ],
        [
         "Kenya",
         2018,
         "Baringo",
         "Recreation, culture and religion",
         79051818.25,
         719983,
         109.7967844379659
        ],
        [
         "Kenya",
         2019,
         "Kakamega",
         "Health",
         950310481,
         2055240,
         462.38418919444933
        ],
        [
         "Kenya",
         2020,
         "Kakamega",
         "Health",
         2095392736,
         2077815,
         1008.4597213900179
        ],
        [
         "Kenya",
         2016,
         "Murang’A",
         "Public order and safety",
         55859734,
         1123956,
         49.69921776297293
        ],
        [
         "Kenya",
         2019,
         "Mombasa",
         "Housing and community amenities",
         3914767,
         1327105,
         2.9498547590431805
        ],
        [
         "Kenya",
         2019,
         "Garissa",
         "General public services",
         2999277831,
         1012333,
         2962.73837857701
        ],
        [
         "Kenya",
         2019,
         "Kirinyaga",
         "General public services",
         1503049813,
         671452,
         2238.506718276213
        ],
        [
         "Kenya",
         2019,
         "Kericho",
         "Health",
         2699521655,
         991559,
         2722.5022968880317
        ],
        [
         "Kenya",
         2019,
         "Vihiga",
         "Social protection",
         54297640,
         649836,
         83.55591256870964
        ],
        [
         "Kenya",
         2019,
         "Bungoma",
         "Environmental protection",
         46482553,
         1836335,
         25.312676064007928
        ],
        [
         "Kenya",
         2020,
         "Kilifi",
         "Housing and community amenities",
         696908219,
         1638699,
         425.2814086052411
        ],
        [
         "Kenya",
         2020,
         "West Pokot",
         "Education",
         843262770,
         695607,
         1212.2689535901739
        ],
        [
         "Kenya",
         2020,
         "Laikipia",
         "Health",
         534988450,
         584082,
         915.9475039463637
        ],
        [
         "Kenya",
         2017,
         "Murang’A",
         "Recreation, culture and religion",
         100823740.6,
         1136663,
         88.70152419846515
        ],
        [
         "Kenya",
         2017,
         "Busia",
         "Health",
         1698976152.0499997,
         947172,
         1793.735617237418
        ],
        [
         "Kenya",
         2018,
         "Nairobi City",
         "Housing and community amenities",
         61126984,
         4664602,
         13.104437206003857
        ],
        [
         "Kenya",
         2018,
         "Nakuru",
         "Health",
         4260891783.15,
         2303736,
         1849.557320435154
        ],
        [
         "Kenya",
         2019,
         "Garissa",
         "Public order and safety",
         849001509.15,
         1012333,
         838.6583358934264
        ],
        [
         "Kenya",
         2019,
         "Tana River",
         "Environmental protection",
         1420000,
         346887,
         4.093552078919072
        ],
        [
         "Kenya",
         2020,
         "Kajiado",
         "Health",
         2451710631,
         1283417,
         1910.2993267192192
        ],
        [
         "Kenya",
         2020,
         "Nairobi City",
         "General public services",
         13505120693,
         4984406,
         2709.4744475068846
        ],
        [
         "Kenya",
         2020,
         "Marsabit",
         "Social protection",
         30646431,
         526582,
         58.19878195608661
        ],
        [
         "Kenya",
         2020,
         "Homa Bay",
         "Social protection",
         27035981,
         1264071,
         21.388024090418973
        ],
        [
         "Kenya",
         2016,
         "Uasin Gishu",
         "Environmental protection",
         19474925.3,
         1180687,
         16.494570788024262
        ],
        [
         "Kenya",
         2017,
         "Kirinyaga",
         "General public services",
         1424398226.3999999,
         652302,
         2183.648411931896
        ],
        [
         "Kenya",
         2017,
         "Kericho",
         "General public services",
         1275403925.8000002,
         957838,
         1331.5445052294858
        ],
        [
         "Kenya",
         2017,
         "Migori",
         "Recreation, culture and religion",
         0,
         1179905,
         0
        ],
        [
         "Kenya",
         2017,
         "Kiambu",
         "Public order and safety",
         1155261822.3,
         2447130,
         472.0884555785757
        ],
        [
         "Kenya",
         2018,
         "Migori",
         "Public order and safety",
         90949623.5,
         1203580,
         75.56591460476245
        ],
        [
         "Kenya",
         2018,
         "Kilifi",
         "Social protection",
         136685286.9,
         1554127,
         87.94988240986741
        ],
        [
         "Kenya",
         2020,
         "Murang’A",
         "Social protection",
         25431745,
         1175266,
         21.639139565000605
        ],
        [
         "Kenya",
         2016,
         "Wajir",
         "Education",
         398342932,
         806684,
         493.80294142439914
        ],
        [
         "Kenya",
         2016,
         "Kisumu",
         "Recreation, culture and religion",
         242228306.70000002,
         1205448,
         200.9446336133952
        ],
        [
         "Kenya",
         2017,
         "Wajir",
         "Economic affairs",
         4060446875.549999,
         823531,
         4930.533125711114
        ],
        [
         "Kenya",
         2018,
         "Narok",
         "Economic affairs",
         977731995.0000001,
         1232410,
         793.3496117363541
        ],
        [
         "Kenya",
         2018,
         "Kisii",
         "Economic affairs",
         5851911715.65,
         1381816,
         4234.942796761652
        ],
        [
         "Kenya",
         2018,
         "Murang’A",
         "Education",
         336323897,
         1149942,
         292.4703132853657
        ],
        [
         "Kenya",
         2018,
         "Marsabit",
         "Environmental protection",
         115750278.30000001,
         481101,
         240.5945493773657
        ],
        [
         "Kenya",
         2019,
         "Taita Taveta",
         "Economic affairs",
         810812974.75,
         374561,
         2164.702077231746
        ],
        [
         "Kenya",
         2019,
         "Kiambu",
         "Education",
         1126115611,
         2649591,
         425.01488380659504
        ],
        [
         "Kenya",
         2019,
         "Samburu",
         "Environmental protection",
         105799349,
         340457,
         310.7568621000596
        ],
        [
         "Kenya",
         2019,
         "Elgeyo Marakwet",
         "Recreation, culture and religion",
         64196611,
         499495,
         128.52303026056316
        ],
        [
         "Kenya",
         2018,
         "Wajir",
         "Social protection",
         81716115.7,
         841065,
         97.15790777169423
        ],
        [
         "Kenya",
         2019,
         "Nairobi City",
         "Health",
         1642501986,
         4823078,
         340.5505749647839
        ],
        [
         "Kenya",
         2020,
         "Homa Bay",
         "Health",
         2621471135,
         1264071,
         2073.832193761268
        ],
        [
         "Kenya",
         2020,
         "Nyeri",
         "Social protection",
         166793622,
         842660,
         197.93703510312582
        ],
        [
         "Kenya",
         2016,
         "Nakuru",
         "Social protection",
         278716198.75,
         2170005,
         128.4403486397497
        ],
        [
         "Kenya",
         2016,
         "Kiambu",
         "Public order and safety",
         133680868.9,
         2352106,
         56.83454270343259
        ],
        [
         "Kenya",
         2017,
         "Mombasa",
         "General public services",
         3675949731.1000004,
         1261992,
         2912.8153990675064
        ],
        [
         "Kenya",
         2017,
         "Kilifi",
         "Economic affairs",
         3600913383.500002,
         1512422,
         2380.891962362358
        ],
        [
         "Kenya",
         2017,
         "Taita Taveta",
         "Environmental protection",
         29933796.7,
         361353,
         82.83810207746996
        ],
        [
         "Kenya",
         2017,
         "Tharaka Nithi",
         "Public order and safety",
         32906577,
         426670,
         77.12418731103664
        ],
        [
         "Kenya",
         2018,
         "Taita Taveta",
         "Economic affairs",
         271432737.7999999,
         367982,
         737.6250408987394
        ],
        [
         "Kenya",
         2019,
         "Nyamira",
         "Public order and safety",
         117241072,
         667466,
         175.65100244806476
        ],
        [
         "Kenya",
         2016,
         "Mandera",
         "General public services",
         4011968211.8999996,
         895698,
         4479.152808089333
        ],
        [
         "Kenya",
         2018,
         "Kakamega",
         "General public services",
         8465659834.2,
         2031790,
         4166.601781778629
        ],
        [
         "Kenya",
         2018,
         "Trans Nzoia",
         "Economic affairs",
         630291008.9,
         1068420,
         589.9281264858389
        ],
        [
         "Kenya",
         2018,
         "Tana River",
         "Social protection",
         51479697.85,
         337578,
         152.49719427806315
        ],
        [
         "Kenya",
         2019,
         "Kitui",
         "Housing and community amenities",
         182793670,
         1250389,
         146.18944184569762
        ],
        [
         "Kenya",
         2019,
         "Homa Bay",
         "Housing and community amenities",
         333186802,
         1244894,
         267.6427085358271
        ],
        [
         "Kenya",
         2019,
         "Homa Bay",
         "Health",
         2491800437,
         1244894,
         2001.6165528952665
        ],
        [
         "Kenya",
         2020,
         "Machakos",
         "Economic affairs",
         5728499692.3,
         1601135,
         3577.774324026394
        ],
        [
         "Kenya",
         2020,
         "Makueni",
         "Environmental protection",
         -2624572,
         1098172,
         -2.389946201505775
        ],
        [
         "Kenya",
         2020,
         "Vihiga",
         "Public order and safety",
         80981562.95,
         653324,
         123.95314262142521
        ],
        [
         "Kenya",
         2016,
         "Wajir",
         "Health",
         1426747229.05,
         806684,
         1768.6569078474347
        ],
        [
         "Kenya",
         2016,
         "Kilifi",
         "Housing and community amenities",
         0,
         1472402,
         0
        ],
        [
         "Kenya",
         2017,
         "Bungoma",
         "Health",
         2182570556.1499996,
         1766291,
         1235.680052805568
        ],
        [
         "Kenya",
         2017,
         "Embu",
         "Social protection",
         57944680.6,
         647624,
         89.47271966449668
        ],
        [
         "Kenya",
         2019,
         "Lamu",
         "Economic affairs",
         828598987.25,
         157837,
         5249.713231054822
        ],
        [
         "Kenya",
         2020,
         "Mandera",
         "Education",
         2959093015,
         972652,
         3042.2936620702985
        ],
        [
         "Kenya",
         2020,
         "Tharaka Nithi",
         "Housing and community amenities",
         307920600,
         435803,
         706.5591563160419
        ],
        [
         "Kenya",
         2016,
         "Busia",
         "General public services",
         2246070069.499999,
         930129,
         2414.7941516714336
        ],
        [
         "Kenya",
         2017,
         "Samburu",
         "Housing and community amenities",
         695531039.5500001,
         318967,
         2180.573662949459
        ],
        [
         "Kenya",
         2017,
         "Kisumu",
         "Education",
         394972574.49999994,
         1226647,
         321.99367421923336
        ],
        [
         "Kenya",
         2017,
         "Nairobi City",
         "Education",
         429084572.05,
         4509233,
         95.15688633743255
        ],
        [
         "Kenya",
         2018,
         "Laikipia",
         "Social protection",
         4773387,
         554882,
         8.602526302889624
        ],
        [
         "Kenya",
         2019,
         "Makueni",
         "Environmental protection",
         447397952,
         1087010,
         411.58586581540186
        ],
        [
         "Kenya",
         2019,
         "Siaya",
         "Housing and community amenities",
         161997798,
         1092216,
         148.32029378804194
        ],
        [
         "Kenya",
         2019,
         "Turkana",
         "Public order and safety",
         280264957.85,
         1018738,
         275.10994765091715
        ],
        [
         "Kenya",
         2020,
         "Mombasa",
         "Health",
         2901345868,
         1359896,
         2133.5057004359155
        ],
        [
         "Kenya",
         2020,
         "Nyandarua",
         "Health",
         646075607,
         707150,
         913.6330439086474
        ],
        [
         "Kenya",
         2020,
         "Lamu",
         "Public order and safety",
         120819085.94999999,
         163321,
         739.764549261883
        ],
        [
         "Kenya",
         2020,
         "Samburu",
         "Public order and safety",
         76870751.95,
         351475,
         218.70901756881713
        ],
        [
         "Kenya",
         2016,
         "Tana River",
         "Housing and community amenities",
         3066868,
         319535,
         9.597909462187241
        ],
        [
         "Kenya",
         2016,
         "Meru",
         "Environmental protection",
         447616416.15,
         1635681,
         273.65752622302267
        ],
        [
         "Kenya",
         2016,
         "Nandi",
         "Social protection",
         47453300.1,
         927962,
         51.13711563620062
        ],
        [
         "Kenya",
         2016,
         "Mombasa",
         "Housing and community amenities",
         0,
         1230848,
         0
        ],
        [
         "Kenya",
         2017,
         "Mombasa",
         "Health",
         2342794372,
         1261992,
         1856.4256920804569
        ],
        [
         "Kenya",
         2017,
         "Murang’A",
         "Housing and community amenities",
         156535,
         1136663,
         0.13771452048672297
        ],
        [
         "Kenya",
         2018,
         "Isiolo",
         "Health",
         1060814020.75,
         275035,
         3857.014637227989
        ],
        [
         "Kenya",
         2018,
         "Narok",
         "Education",
         901423316.1500001,
         1232410,
         731.4313549468116
        ],
        [
         "Kenya",
         2018,
         "Bungoma",
         "Public order and safety",
         105032952.1,
         1801381,
         58.306905701792125
        ],
        [
         "Kenya",
         2019,
         "Embu",
         "Health",
         2382146912,
         669272,
         3559.310582244588
        ],
        [
         "Kenya",
         2020,
         "Machakos",
         "Recreation, culture and religion",
         476886912,
         1601135,
         297.8430375952059
        ],
        [
         "Kenya",
         2016,
         "Tana River",
         "Education",
         133742629.85,
         319535,
         418.55392945999654
        ],
        [
         "Kenya",
         2016,
         "Mandera",
         "Recreation, culture and religion",
         1461928115.4,
         895698,
         1632.1663277131356
        ],
        [
         "Kenya",
         2016,
         "Homa Bay",
         "Education",
         395865913.55,
         1186528,
         333.6338573973813
        ],
        [
         "Kenya",
         2016,
         "Isiolo",
         "Public order and safety",
         6202484,
         242687,
         25.557545315571087
        ],
        [
         "Kenya",
         2017,
         "Mombasa",
         "Environmental protection",
         0,
         1261992,
         0
        ],
        [
         "Kenya",
         2017,
         "Kiambu",
         "Health",
         4174123170.25,
         2447130,
         1705.7218742976465
        ],
        [
         "Kenya",
         2017,
         "Nakuru",
         "General public services",
         2729813938.7999997,
         2235441,
         1221.1523090074843
        ],
        [
         "Kenya",
         2017,
         "Turkana",
         "Social protection",
         27031786,
         977164,
         27.66350991235862
        ],
        [
         "Kenya",
         2018,
         "Taita Taveta",
         "Public order and safety",
         193157779.2,
         367982,
         524.9109445570707
        ],
        [
         "Kenya",
         2019,
         "Kakamega",
         "Housing and community amenities",
         69729303.2,
         2055240,
         33.92757205971079
        ],
        [
         "Kenya",
         2020,
         "Nakuru",
         "Economic affairs",
         5163309472.6,
         2443175,
         2113.360472581784
        ],
        [
         "Kenya",
         2020,
         "Nairobi City",
         "Education",
         1282489883,
         4984406,
         257.3004452285789
        ],
        [
         "Kenya",
         2016,
         "Turkana",
         "Economic affairs",
         697041550.4000001,
         957176,
         728.2271498658555
        ],
        [
         "Kenya",
         2016,
         "Kisumu",
         "Education",
         358872232.04999995,
         1205448,
         297.70859634758193
        ],
        [
         "Kenya",
         2016,
         "Mandera",
         "Public order and safety",
         38133552.05,
         895698,
         42.574117671357975
        ],
        [
         "Kenya",
         2017,
         "Nyandarua",
         "Social protection",
         124323986,
         693462,
         179.28017108363545
        ],
        [
         "Kenya",
         2018,
         "Makueni",
         "Economic affairs",
         1792274889.7,
         1075366,
         1666.6650142370133
        ],
        [
         "Kenya",
         2018,
         "Isiolo",
         "Housing and community amenities",
         10957845.3,
         275035,
         39.841639427709204
        ],
        [
         "Kenya",
         2018,
         "Trans Nzoia",
         "Health",
         1947077754.4499998,
         1068420,
         1822.3898414949176
        ],
        [
         "Kenya",
         2018,
         "Homa Bay",
         "General public services",
         2333572876.25,
         1225341,
         1904.4273196195998
        ],
        [
         "Kenya",
         2018,
         "Kisii",
         "Environmental protection",
         11567602,
         1381816,
         8.371304138901271
        ],
        [
         "Kenya",
         2019,
         "Kericho",
         "General public services",
         1810285537,
         991559,
         1825.6962389530022
        ],
        [
         "Kenya",
         2019,
         "Kisii",
         "Economic affairs",
         5876608195.35,
         1394616,
         4213.782285123647
        ],
        [
         "Kenya",
         2019,
         "Kiambu",
         "Public order and safety",
         768523399.5999999,
         2649591,
         290.0535968004118
        ],
        [
         "Kenya",
         2020,
         "Bungoma",
         "Social protection",
         30865135,
         1870968,
         16.496880224568244
        ],
        [
         "Kenya",
         2016,
         "Kericho",
         "Education",
         348169563.00000006,
         941559,
         369.77986828228507
        ],
        [
         "Kenya",
         2017,
         "Isiolo",
         "Education",
         237004476.4,
         258309,
         917.5231075959413
        ],
        [
         "Kenya",
         2019,
         "Nyandarua",
         "Social protection",
         31698812.5,
         702930,
         45.095261974876585
        ],
        [
         "Kenya",
         2019,
         "Trans Nzoia",
         "Public order and safety",
         302486470.2,
         1088670,
         277.849550552509
        ],
        [
         "Kenya",
         2020,
         "Vihiga",
         "Health",
         1163064531,
         653324,
         1780.2262445585957
        ],
        [
         "Kenya",
         2020,
         "Laikipia",
         "Social protection",
         1028151,
         584082,
         1.760285370889704
        ],
        [
         "Kenya",
         2021,
         "Wajir",
         "Education",
         568337854.4000001,
         893331,
         636.200752464652
        ],
        [
         "Kenya",
         2021,
         "Nakuru",
         "Social protection",
         1156215172.55,
         2514149,
         459.8833134193717
        ],
        [
         "Kenya",
         2022,
         "Trans Nzoia",
         "Health",
         2570741626.9999995,
         1148366,
         2238.6082721014027
        ],
        [
         "Kenya",
         2022,
         "Tharaka Nithi",
         "Economic affairs",
         1715555352.3000002,
         440960,
         3890.5010710722067
        ],
        [
         "Kenya",
         2021,
         "Taita Taveta",
         "Economic affairs",
         1494200935.5500002,
         387471,
         3856.291014166222
        ],
        [
         "Kenya",
         2021,
         "Kisii",
         "Housing and community amenities",
         219957794.3,
         1418331,
         155.08213125144977
        ],
        [
         "Kenya",
         2021,
         "Elgeyo Marakwet",
         "Environmental protection",
         2394345.5,
         519409,
         4.609749734794738
        ],
        [
         "Kenya",
         2022,
         "Migori",
         "Housing and community amenities",
         1118323,
         1296920,
         0.8622914289239121
        ],
        [
         "Kenya",
         2021,
         "Wajir",
         "Public order and safety",
         163365600.35,
         893331,
         182.87241834213745
        ],
        [
         "Kenya",
         2021,
         "Embu",
         "Social protection",
         75520569.5,
         690267,
         109.40776467656718
        ],
        [
         "Kenya",
         2022,
         "Nandi",
         "Public order and safety",
         201079289,
         1018897,
         197.34996667965456
        ],
        [
         "Kenya",
         2022,
         "Embu",
         "General public services",
         1545319124.4500008,
         700557,
         2205.843528007001
        ],
        [
         "Kenya",
         2021,
         "Meru",
         "Public order and safety",
         488196975.24999994,
         1742136,
         280.22896906441287
        ],
        [
         "Kenya",
         2021,
         "Kericho",
         "Education",
         509160401.70000005,
         1024431,
         497.01776078623163
        ],
        [
         "Kenya",
         2021,
         "Kitui",
         "Health",
         3298310073.1000004,
         1276847,
         2583.1678134498497
        ],
        [
         "Kenya",
         2022,
         "Laikipia",
         "Health",
         738094336.3000001,
         613653,
         1202.787790982852
        ],
        [
         "Kenya",
         2022,
         "Kisii",
         "Recreation, culture and religion",
         112835228.9,
         1429418,
         78.93788164133935
        ],
        [
         "Kenya",
         2022,
         "Tharaka Nithi",
         "Education",
         349980995.59999996,
         440960,
         793.6796888606675
        ],
        [
         "Kenya",
         2022,
         "Taita Taveta",
         "Social protection",
         99053523.8,
         393839,
         251.50765617422346
        ],
        [
         "Kenya",
         2022,
         "Kilifi",
         "Health",
         1786042649.7,
         1724586,
         1035.6355958473512
        ],
        [
         "Kenya",
         2022,
         "Mombasa",
         "Environmental protection",
         164898597.6,
         1425957,
         115.64065227773348
        ],
        [
         "Kenya",
         2021,
         "Trans Nzoia",
         "Housing and community amenities",
         1159340,
         1128600,
         1.027237285132022
        ],
        [
         "Kenya",
         2021,
         "Nyamira",
         "Environmental protection",
         16520087.6,
         667673,
         24.742782170313912
        ],
        [
         "Kenya",
         2021,
         "Samburu",
         "Public order and safety",
         64224055,
         362681,
         177.08138832748338
        ],
        [
         "Kenya",
         2021,
         "Kilifi",
         "Health",
         4009049818.200001,
         1681452,
         2384.2784796711417
        ],
        [
         "Kenya",
         2022,
         "Migori",
         "Social protection",
         30751153.2,
         1296920,
         23.710909847947445
        ],
        [
         "Kenya",
         2022,
         "Nyeri",
         "Environmental protection",
         23126136.25,
         855511,
         27.031956631767446
        ],
        [
         "Kenya",
         2021,
         "Isiolo",
         "Public order and safety",
         101520467,
         331083,
         306.63147005433683
        ],
        [
         "Kenya",
         2021,
         "Nandi",
         "Economic affairs",
         2782616456.45,
         1004167,
         2771.069410217623
        ],
        [
         "Kenya",
         2021,
         "Nandi",
         "Social protection",
         134214477.2,
         1004167,
         133.6575262879581
        ],
        [
         "Kenya",
         2022,
         "Nyamira",
         "Health",
         2080891669.9499998,
         667345,
         3118.164772269216
        ],
        [
         "Kenya",
         2022,
         "Samburu",
         "Environmental protection",
         13267581,
         374075,
         35.46770300073515
        ],
        [
         "Kenya",
         2022,
         "Meru",
         "Health",
         3055824808.8000007,
         1762084,
         1734.2106328642678
        ],
        [
         "Kenya",
         2022,
         "Isiolo",
         "General public services",
         1773889094.0000002,
         351861,
         5041.448452656021
        ],
        [
         "Kenya",
         2021,
         "Kisii",
         "General public services",
         1907655844.4,
         1418331,
         1345.0004578620928
        ],
        [
         "Kenya",
         2021,
         "Marsabit",
         "Social protection",
         84303876.5,
         550487,
         153.14417325023115
        ],
        [
         "Kenya",
         2021,
         "West Pokot",
         "Environmental protection",
         71366377.65,
         708214,
         100.76950985154205
        ],
        [
         "Kenya",
         2022,
         "Bomet",
         "Public order and safety",
         114912511,
         1015337,
         113.17671965071695
        ],
        [
         "Kenya",
         2022,
         "Uasin Gishu",
         "General public services",
         2202581049.6,
         1377083,
         1599.4540994261056
        ],
        [
         "Kenya",
         2022,
         "Wajir",
         "Public order and safety",
         198154479,
         910640,
         217.599137968901
        ],
        [
         "Kenya",
         2021,
         "Kirinyaga",
         "Education",
         286115451.29999995,
         689786,
         414.78871896501227
        ],
        [
         "Kenya",
         2021,
         "West Pokot",
         "Economic affairs",
         1445520245,
         708214,
         2041.0783251954917
        ],
        [
         "Kenya",
         2022,
         "Trans Nzoia",
         "Economic affairs",
         1542096330.2999997,
         1148366,
         1342.8613615345628
        ],
        [
         "Kenya",
         2022,
         "Machakos",
         "Environmental protection",
         9058830.149999999,
         1680998,
         5.388959505008334
        ],
        [
         "Kenya",
         2022,
         "Kwale",
         "Economic affairs",
         2533289559.5000005,
         1033550,
         2451.0566102268886
        ],
        [
         "Kenya",
         2022,
         "Mombasa",
         "Recreation, culture and religion",
         153265259.75,
         1425957,
         107.48238533840782
        ],
        [
         "Kenya",
         2021,
         "Siaya",
         "Economic affairs",
         2226308452.05,
         1126518,
         1976.274193621407
        ],
        [
         "Kenya",
         2022,
         "Homa Bay",
         "Education",
         552332669.6999999,
         1301586,
         424.3535730255242
        ],
        [
         "Kenya",
         2022,
         "Kakamega",
         "Health",
         1423070126.8,
         2120889,
         670.9781260594024
        ],
        [
         "Kenya",
         2022,
         "West Pokot",
         "Housing and community amenities",
         156644878.2,
         720744,
         217.33774849322364
        ],
        [
         "Kenya",
         2021,
         "Migori",
         "Economic affairs",
         3077729583.350001,
         1273799,
         2416.1815037929855
        ],
        [
         "Kenya",
         2021,
         "Kwale",
         "Health",
         3127399256.35,
         1005895,
         3109.0712811476346
        ],
        [
         "Kenya",
         2021,
         "Marsabit",
         "Health",
         1935610008.2999997,
         550487,
         3516.1775088240042
        ],
        [
         "Kenya",
         2022,
         "Nyandarua",
         "General public services",
         3772197193.550001,
         714743,
         5277.697289165478
        ],
        [
         "Kenya",
         2022,
         "Kericho",
         "Public order and safety",
         203436695.65,
         1040591,
         195.50111009032366
        ],
        [
         "Kenya",
         2021,
         "Baringo",
         "General public services",
         1689492927.85,
         758756,
         2226.661703960166
        ],
        [
         "Kenya",
         2021,
         "Kiambu",
         "Public order and safety",
         475593670.9,
         2863073,
         166.1130089592546
        ],
        [
         "Kenya",
         2021,
         "Nyeri",
         "Education",
         356781038.90000004,
         849245,
         420.115560174037
        ],
        [
         "Kenya",
         2021,
         "Wajir",
         "Economic affairs",
         3175818934.15,
         893331,
         3555.030480471404
        ],
        [
         "Kenya",
         2021,
         "Mombasa",
         "Environmental protection",
         212950426.1,
         1392834,
         152.89002573170958
        ],
        [
         "Kenya",
         2022,
         "Nairobi City",
         "Recreation, culture and religion",
         2594577,
         5315616,
         0.4881046712177855
        ],
        [
         "Kenya",
         2021,
         "Uasin Gishu",
         "Housing and community amenities",
         5078540,
         1343587,
         3.7798371076826434
        ],
        [
         "Kenya",
         2021,
         "Nyeri",
         "Social protection",
         268767314.7,
         849245,
         316.4779477064922
        ],
        [
         "Kenya",
         2021,
         "Uasin Gishu",
         "Social protection",
         517458345.65,
         1343587,
         385.13199789072087
        ],
        [
         "Kenya",
         2021,
         "Siaya",
         "Health",
         2059835070.05,
         1126518,
         1828.4972544158193
        ],
        [
         "Kenya",
         2022,
         "Murang’A",
         "Housing and community amenities",
         4471500,
         1198892,
         3.72969375056302
        ],
        [
         "Kenya",
         2022,
         "Meru",
         "Social protection",
         187100987.10000002,
         1762084,
         106.18165030724984
        ],
        [
         "Kenya",
         2022,
         "Nandi",
         "Health",
         2866797991.65,
         1018897,
         2813.6288473221534
        ],
        [
         "Kenya",
         2021,
         "Nyeri",
         "Housing and community amenities",
         28985839,
         849245,
         34.13130368739292
        ],
        [
         "Kenya",
         2022,
         "Kakamega",
         "Social protection",
         168732742.7,
         2120889,
         79.55755473294452
        ],
        [
         "Kenya",
         2022,
         "Narok",
         "Social protection",
         129049360,
         1388474,
         92.94330322353893
        ],
        [
         "Kenya",
         2022,
         "Makueni",
         "General public services",
         2707204921.8499994,
         1119367,
         2418.5141440206826
        ],
        [
         "Kenya",
         2021,
         "Kericho",
         "Housing and community amenities",
         424956705.5,
         1024431,
         414.82218470546087
        ],
        [
         "Kenya",
         2021,
         "Elgeyo Marakwet",
         "Social protection",
         53546984.85,
         519409,
         103.09213904649323
        ],
        [
         "Kenya",
         2021,
         "Migori",
         "Health",
         2581121134.9500003,
         1273799,
         2026.3174448637503
        ],
        [
         "Kenya",
         2022,
         "Bungoma",
         "Health",
         2953744191.0500007,
         1939588,
         1522.8719661340454
        ],
        [
         "Kenya",
         2022,
         "Nandi",
         "Recreation, culture and religion",
         76336130,
         1018897,
         74.92035995787602
        ],
        [
         "Kenya",
         2021,
         "Kisii",
         "Social protection",
         9761047,
         1418331,
         6.882065610918749
        ],
        [
         "Kenya",
         2022,
         "Narok",
         "Public order and safety",
         178549935.1,
         1388474,
         128.59436698130466
        ],
        [
         "Kenya",
         2022,
         "Kirinyaga",
         "Health",
         2675102514.7999997,
         698687,
         3828.7566747341793
        ],
        [
         "Kenya",
         2022,
         "Marsabit",
         "Social protection",
         168340333.70000002,
         575225,
         292.6512820200791
        ],
        [
         "Kenya",
         2021,
         "Embu",
         "Economic affairs",
         1427191835.3,
         690267,
         2067.5938952608194
        ],
        [
         "Kenya",
         2021,
         "Nyamira",
         "General public services",
         1242223144.95,
         667673,
         1860.526253046027
        ],
        [
         "Kenya",
         2021,
         "Nyeri",
         "Recreation, culture and religion",
         1669917.45,
         849245,
         1.9663553509293548
        ],
        [
         "Kenya",
         2021,
         "Embu",
         "Education",
         346998742.5,
         690267,
         502.70220436439814
        ],
        [
         "Kenya",
         2021,
         "Samburu",
         "General public services",
         1811789703.0500002,
         362681,
         4995.546232226116
        ],
        [
         "Kenya",
         2021,
         "Turkana",
         "Environmental protection",
         33165261.5,
         1059990,
         31.28827771960113
        ],
        [
         "Kenya",
         2022,
         "Bomet",
         "Recreation, culture and religion",
         8782034,
         1015337,
         8.64937848221822
        ],
        [
         "Kenya",
         2022,
         "West Pokot",
         "Public order and safety",
         119684054,
         720744,
         166.05626130775977
        ],
        [
         "Kenya",
         2022,
         "Garissa",
         "Education",
         643308838.4,
         1134954,
         566.8149003395732
        ],
        [
         "Kenya",
         2021,
         "Nyandarua",
         "Social protection",
         75851895.25,
         711085,
         106.67064450804052
        ],
        [
         "Kenya",
         2022,
         "Bungoma",
         "Economic affairs",
         3064138555.2,
         1939588,
         1579.7883649517319
        ],
        [
         "Kenya",
         2022,
         "Narok",
         "Education",
         1190953431.2,
         1388474,
         857.7426953619586
        ],
        [
         "Kenya",
         2022,
         "Garissa",
         "Social protection",
         71173121.7,
         1134954,
         62.71013776769808
        ],
        [
         "Kenya",
         2021,
         "Nyandarua",
         "General public services",
         3480798417.8999996,
         711085,
         4895.052515381423
        ],
        [
         "Kenya",
         2021,
         "Migori",
         "Education",
         306505213.85,
         1273799,
         240.62290349576347
        ],
        [
         "Kenya",
         2021,
         "Taita Taveta",
         "Health",
         443127290.74999994,
         387471,
         1143.6398872431741
        ],
        [
         "Kenya",
         2021,
         "Meru",
         "Health",
         3311649982.7999997,
         1742136,
         1900.9135812588684
        ],
        [
         "Kenya",
         2021,
         "Nakuru",
         "Health",
         4635539857.4,
         2514149,
         1843.7808806876599
        ],
        [
         "Kenya",
         2022,
         "Nyandarua",
         "Public order and safety",
         196404809.3,
         714743,
         274.79081194219464
        ],
        [
         "Kenya",
         2021,
         "Garissa",
         "Public order and safety",
         562958558.9,
         1093018,
         515.049668806918
        ],
        [
         "Kenya",
         2021,
         "Elgeyo Marakwet",
         "Economic affairs",
         2044603779.55,
         519409,
         3936.4042200847502
        ],
        [
         "Kenya",
         2021,
         "Narok",
         "Health",
         1069733813.05,
         1348631,
         793.1997804069459
        ],
        [
         "Kenya",
         2022,
         "Turkana",
         "General public services",
         8583266460.15,
         1080524,
         7943.614820355679
        ],
        [
         "Kenya",
         2021,
         "Trans Nzoia",
         "Education",
         467281679.75,
         1128600,
         414.0365760676945
        ],
        [
         "Kenya",
         2021,
         "Nandi",
         "Education",
         622413449.95,
         1004167,
         619.8306157740695
        ],
        [
         "Kenya",
         2022,
         "Murang’A",
         "Economic affairs",
         1785373279.8000002,
         1198892,
         1489.1860816487224
        ],
        [
         "Kenya",
         2022,
         "Nyeri",
         "Housing and community amenities",
         7392336,
         855511,
         8.640842724406816
        ],
        [
         "Kenya",
         2022,
         "Wajir",
         "Education",
         707431787.75,
         910640,
         776.8512120596504
        ],
        [
         "Kenya",
         2022,
         "Lamu",
         "Social protection",
         44002158.09999998,
         174605,
         252.00972538014364
        ],
        [
         "Kenya",
         2021,
         "Bungoma",
         "Public order and safety",
         219072658.79999998,
         1905368,
         114.97656032850347
        ],
        [
         "Kenya",
         2021,
         "Nyamira",
         "Health",
         2052300128.3000002,
         667673,
         3073.8102758386217
        ],
        [
         "Kenya",
         2022,
         "Homa Bay",
         "Social protection",
         101112596.5,
         1301586,
         77.68414572682866
        ],
        [
         "Kenya",
         2022,
         "Kirinyaga",
         "Education",
         294060191.2,
         698687,
         420.875429484161
        ],
        [
         "Kenya",
         2022,
         "Nairobi City",
         "Housing and community amenities",
         1000000,
         5315616,
         0.1881249510875127
        ],
        [
         "Kenya",
         2021,
         "Marsabit",
         "General public services",
         3053950121.2000003,
         550487,
         5547.724326278369
        ],
        [
         "Kenya",
         2021,
         "Mombasa",
         "Economic affairs",
         4231844799.299999,
         1392834,
         3038.2980307057405
        ],
        [
         "Kenya",
         2022,
         "Nakuru",
         "Economic affairs",
         4759890123.100001,
         2586081,
         1840.5804470548298
        ],
        [
         "Kenya",
         2022,
         "Nyeri",
         "Public order and safety",
         953734088.9500003,
         855511,
         1114.8121870437672
        ],
        [
         "Kenya",
         2021,
         "Nyandarua",
         "Education",
         126883842.45,
         711085,
         178.4369554272696
        ],
        [
         "Kenya",
         2021,
         "Busia",
         "Housing and community amenities",
         118426356.65,
         1017150,
         116.42958919530061
        ],
        [
         "Kenya",
         2021,
         "Kiambu",
         "Health",
         5634100124,
         2863073,
         1967.8506709399305
        ],
        [
         "Kenya",
         2021,
         "West Pokot",
         "Public order and safety",
         111718970.5,
         708214,
         157.74747533937483
        ],
        [
         "Kenya",
         2021,
         "Embu",
         "Housing and community amenities",
         1341580,
         690267,
         1.9435667647446568
        ],
        [
         "Kenya",
         2022,
         "Vihiga",
         "Education",
         388075602.05,
         659515,
         588.425740203028
        ],
        [
         "Kenya",
         2022,
         "Baringo",
         "Economic affairs",
         2543911887.2,
         771440,
         3297.614703930312
        ],
        [
         "Kenya",
         2021,
         "Baringo",
         "Public order and safety",
         147249909,
         758756,
         194.06753818091718
        ],
        [
         "Kenya",
         2021,
         "Kilifi",
         "Education",
         1411379853.1000001,
         1681452,
         839.381589899682
        ],
        [
         "Kenya",
         2021,
         "Uasin Gishu",
         "Education",
         896002194.2999998,
         1343587,
         666.8732239147892
        ],
        [
         "Kenya",
         2021,
         "Mombasa",
         "Housing and community amenities",
         10748440,
         1392834,
         7.716956938156306
        ],
        [
         "Kenya",
         2021,
         "Kericho",
         "Social protection",
         60814309,
         1024431,
         59.36398742326228
        ],
        [
         "Kenya",
         2021,
         "Nairobi City",
         "Health",
         1109876603.65,
         5148469,
         215.5741063314162
        ],
        [
         "Kenya",
         2022,
         "Vihiga",
         "Environmental protection",
         1502560,
         659515,
         2.27828025139686
        ],
        [
         "Kenya",
         2022,
         "Baringo",
         "Housing and community amenities",
         1118325,
         771440,
         1.4496590791247537
        ],
        [
         "Kenya",
         2021,
         "Embu",
         "General public services",
         1512384964.8000002,
         690267,
         2191.0144404991115
        ],
        [
         "Kenya",
         2021,
         "Taita Taveta",
         "Education",
         228407243.2,
         387471,
         589.4821630522026
        ],
        [
         "Kenya",
         2021,
         "Uasin Gishu",
         "Environmental protection",
         127990000,
         1343587,
         95.25992734374476
        ],
        [
         "Kenya",
         2021,
         "Migori",
         "Environmental protection",
         15010400,
         1273799,
         11.783962775916766
        ],
        [
         "Kenya",
         2022,
         "Kisii",
         "General public services",
         2158660039.5999994,
         1429418,
         1510.1671026949425
        ],
        [
         "Kenya",
         2022,
         "Homa Bay",
         "General public services",
         2468225197.2500005,
         1301586,
         1896.3212551840604
        ],
        [
         "Kenya",
         2022,
         "Murang’A",
         "Environmental protection",
         12287810,
         1198892,
         10.249305191793756
        ],
        [
         "Kenya",
         2022,
         "Isiolo",
         "Education",
         383672060.55,
         351861,
         1090.4080320069572
        ],
        [
         "Kenya",
         2022,
         "Marsabit",
         "Public order and safety",
         211824295,
         575225,
         368.2459820070407
        ],
        [
         "Kenya",
         2022,
         "Taita Taveta",
         "General public services",
         3662740931.3,
         393839,
         9300.097073423405
        ],
        [
         "Kenya",
         2021,
         "Narok",
         "Environmental protection",
         104000000,
         1348631,
         77.11523760020347
        ],
        [
         "Kenya",
         2022,
         "Baringo",
         "Social protection",
         123389478.9,
         771440,
         159.94695491548273
        ],
        [
         "Kenya",
         2021,
         "Isiolo",
         "Housing and community amenities",
         68238448.15,
         331083,
         206.10677126279515
        ],
        [
         "Kenya",
         2021,
         "Vihiga",
         "Environmental protection",
         11540165,
         656555,
         17.576844285703405
        ],
        [
         "Kenya",
         2022,
         "Bomet",
         "Economic affairs",
         4707758173.249999,
         1015337,
         4636.645934551779
        ],
        [
         "Kenya",
         2022,
         "Turkana",
         "Education",
         1372295888.8,
         1080524,
         1270.0281426419033
        ],
        [
         "Kenya",
         2022,
         "Baringo",
         "Environmental protection",
         924300,
         771440,
         1.1981489163123509
        ],
        [
         "Kenya",
         2021,
         "Samburu",
         "Recreation, culture and religion",
         44624558.35,
         362681,
         123.04079438955998
        ],
        [
         "Kenya",
         2021,
         "Trans Nzoia",
         "Recreation, culture and religion",
         110152962,
         1128600,
         97.60141945773525
        ],
        [
         "Kenya",
         2022,
         "Migori",
         "Public order and safety",
         219514505.55,
         1296920,
         169.25832399068562
        ],
        [
         "Kenya",
         2022,
         "Siaya",
         "Education",
         696684013.0500003,
         1143321,
         609.3511910041015
        ],
        [
         "Kenya",
         2021,
         "Murang’A",
         "Education",
         371971215.70000005,
         1187274,
         313.2985441439803
        ],
        [
         "Kenya",
         2021,
         "Lamu",
         "Social protection",
         28476769.800000004,
         168905,
         168.5963695568515
        ],
        [
         "Kenya",
         2022,
         "Baringo",
         "Education",
         248129386.1,
         771440,
         321.6444391009022
        ],
        [
         "Kenya",
         2022,
         "Kiambu",
         "Education",
         987144958.7,
         2974081,
         331.9159628470106
        ],
        [
         "Kenya",
         2021,
         "Nakuru",
         "General public services",
         4301512702.35,
         2514149,
         1710.9219470882595
        ],
        [
         "Kenya",
         2022,
         "Nyandarua",
         "Environmental protection",
         9388837,
         714743,
         13.135962157027071
        ],
        [
         "Kenya",
         2021,
         "Bungoma",
         "Housing and community amenities",
         10403767,
         1905368,
         5.460240226559908
        ],
        [
         "Kenya",
         2021,
         "Homa Bay",
         "Economic affairs",
         1792619993.3999999,
         1282963,
         1397.249954519343
        ],
        [
         "Kenya",
         2021,
         "Kajiado",
         "Health",
         2469789491.600001,
         1345550,
         1835.5241288692362
        ],
        [
         "Kenya",
         2022,
         "Laikipia",
         "Environmental protection",
         498174548.25,
         613653,
         811.8179952676838
        ],
        [
         "Kenya",
         2022,
         "Wajir",
         "Economic affairs",
         1813825666.85,
         910640,
         1991.8141821685847
        ],
        [
         "Kenya",
         2022,
         "Mombasa",
         "Social protection",
         325265668.7,
         1425957,
         228.1034201592334
        ],
        [
         "Kenya",
         2022,
         "Lamu",
         "Environmental protection",
         22503016.200000003,
         174605,
         128.8795635863807
        ],
        [
         "Kenya",
         2021,
         "Tana River",
         "Environmental protection",
         33597677.4,
         365734,
         91.86369711320249
        ],
        [
         "Kenya",
         2022,
         "Kisii",
         "Health",
         120983984.9,
         1429418,
         84.63863257633527
        ],
        [
         "Kenya",
         2022,
         "Kisii",
         "Housing and community amenities",
         221037364.75,
         1429418,
         154.63451890909448
        ],
        [
         "Kenya",
         2022,
         "Elgeyo Marakwet",
         "Social protection",
         44927747.99999999,
         529318,
         84.87855693552835
        ],
        [
         "Kenya",
         2022,
         "Turkana",
         "Health",
         1160700699.2,
         1080524,
         1074.2016828871917
        ],
        [
         "Kenya",
         2022,
         "Busia",
         "Economic affairs",
         2739877548.9,
         1034241,
         2649.167407693178
        ],
        [
         "Kenya",
         2022,
         "Busia",
         "Housing and community amenities",
         176999545,
         1034241,
         171.13955548078252
        ],
        [
         "Kenya",
         2021,
         "Wajir",
         "Social protection",
         86165055.3,
         893331,
         96.45367204317324
        ],
        [
         "Kenya",
         2022,
         "Busia",
         "Environmental protection",
         12109197,
         1034241,
         11.70829332815079
        ],
        [
         "Kenya",
         2022,
         "Machakos",
         "Housing and community amenities",
         405787844.6,
         1680998,
         241.39698238784342
        ],
        [
         "Kenya",
         2021,
         "Tharaka Nithi",
         "Education",
         308147954.55,
         438471,
         702.7784153341954
        ],
        [
         "Kenya",
         2022,
         "Machakos",
         "Education",
         570460149,
         1680998,
         339.3580176775939
        ],
        [
         "Kenya",
         2022,
         "Kitui",
         "General public services",
         3836993060.8,
         1289449,
         2975.6842347390243
        ],
        [
         "Kenya",
         2021,
         "Narok",
         "Public order and safety",
         165050802,
         1348631,
         122.3839597339821
        ],
        [
         "Kenya",
         2021,
         "Nairobi City",
         "Housing and community amenities",
         48307514,
         5148469,
         9.38288916569178
        ],
        [
         "Kenya",
         2021,
         "Lamu",
         "Economic affairs",
         870026977.4999999,
         168905,
         5150.984147893786
        ],
        [
         "Kenya",
         2022,
         "Bungoma",
         "General public services",
         3198774213.2500005,
         1939588,
         1649.2029303388144
        ],
        [
         "Kenya",
         2022,
         "Garissa",
         "Economic affairs",
         1095757406.0500002,
         1134954,
         965.4641563006079
        ],
        [
         "Kenya",
         2022,
         "Lamu",
         "General public services",
         1120514321.7000005,
         174605,
         6417.424023939753
        ],
        [
         "Kenya",
         2021,
         "Meru",
         "Housing and community amenities",
         369208322.6,
         1742136,
         211.92853060840258
        ],
        [
         "Kenya",
         2021,
         "Busia",
         "Economic affairs",
         3185925711.75,
         1017150,
         3132.2083387405987
        ],
        [
         "Kenya",
         2021,
         "Isiolo",
         "Social protection",
         46625842.5,
         331083,
         140.82825907702903
        ],
        [
         "Kenya",
         2021,
         "Kakamega",
         "Social protection",
         66631114.05,
         2099691,
         31.733771326352304
        ],
        [
         "Kenya",
         2021,
         "Kilifi",
         "Recreation, culture and religion",
         40638308,
         1681452,
         24.16858048876804
        ],
        [
         "Kenya",
         2022,
         "Marsabit",
         "Economic affairs",
         949682639.0500001,
         575225,
         1650.9759468903474
        ],
        [
         "Kenya",
         2021,
         "Turkana",
         "Health",
         1358174967.9000003,
         1059990,
         1281.3092273512018
        ],
        [
         "Kenya",
         2021,
         "Nandi",
         "Environmental protection",
         0,
         1004167,
         0
        ],
        [
         "Kenya",
         2021,
         "Nyandarua",
         "Economic affairs",
         2023915346.05,
         711085,
         2846.2354655913146
        ],
        [
         "Kenya",
         2021,
         "Nyamira",
         "Social protection",
         120845914.44999999,
         667673,
         180.99565872814983
        ],
        [
         "Kenya",
         2022,
         "Uasin Gishu",
         "Economic affairs",
         4203240698.799999,
         1377083,
         3052.278402100672
        ],
        [
         "Kenya",
         2022,
         "Nyeri",
         "Social protection",
         324712696.00000006,
         855511,
         379.5540863881354
        ],
        [
         "Kenya",
         2021,
         "Kakamega",
         "Education",
         384779052.20000005,
         2099691,
         183.25508477199742
        ],
        [
         "Kenya",
         2021,
         "Mandera",
         "Housing and community amenities",
         6664140,
         991914,
         6.718465512131092
        ],
        [
         "Kenya",
         2022,
         "Elgeyo Marakwet",
         "Public order and safety",
         96971885.8,
         529318,
         183.20156465489555
        ],
        [
         "Kenya",
         2022,
         "Nakuru",
         "Environmental protection",
         0,
         2586081,
         0
        ],
        [
         "Kenya",
         2021,
         "Mombasa",
         "Public order and safety",
         488149846.25,
         1392834,
         350.472379515434
        ],
        [
         "Kenya",
         2021,
         "Siaya",
         "Public order and safety",
         131937084.5,
         1126518,
         117.11937536728219
        ],
        [
         "Kenya",
         2021,
         "Bomet",
         "Health",
         630391802.2,
         997889,
         631.7253744654967
        ],
        [
         "Kenya",
         2022,
         "Nakuru",
         "Recreation, culture and religion",
         157484459,
         2586081,
         60.89695527711622
        ],
        [
         "Kenya",
         2021,
         "Taita Taveta",
         "Public order and safety",
         200899565.75,
         387471,
         518.4892953279084
        ],
        [
         "Kenya",
         2022,
         "Lamu",
         "Education",
         518080725.5499999,
         174605,
         2967.1585896738347
        ],
        [
         "Kenya",
         2022,
         "Mombasa",
         "Housing and community amenities",
         18435380,
         1425957,
         12.928426312995413
        ],
        [
         "Kenya",
         2021,
         "Kisii",
         "Public order and safety",
         302969746.0500001,
         1418331,
         213.61004310700397
        ],
        [
         "Kenya",
         2021,
         "Tharaka Nithi",
         "Housing and community amenities",
         203241214.95,
         438471,
         463.5225931703579
        ],
        [
         "Kenya",
         2022,
         "Baringo",
         "Health",
         664209193.6,
         771440,
         860.9991620864877
        ],
        [
         "Kenya",
         2022,
         "Turkana",
         "Economic affairs",
         3118487945.8,
         1080524,
         2886.088551295483
        ],
        [
         "Kenya",
         2021,
         "Siaya",
         "Education",
         535272441.75,
         1126518,
         475.1565813861829
        ],
        [
         "Kenya",
         2021,
         "Wajir",
         "General public services",
         3789716658.0999994,
         893331,
         4242.231220118858
        ],
        [
         "Kenya",
         2022,
         "Migori",
         "General public services",
         2566626932.6,
         1296920,
         1979.017158035962
        ],
        [
         "Kenya",
         2021,
         "Turkana",
         "Public order and safety",
         157700719,
         1059990,
         148.77566675157314
        ],
        [
         "Kenya",
         2021,
         "Vihiga",
         "Education",
         629497492.45,
         656555,
         958.7886657629598
        ],
        [
         "Kenya",
         2022,
         "Murang’A",
         "Education",
         473923464.6,
         1198892,
         395.30121528878334
        ],
        [
         "Kenya",
         2022,
         "Elgeyo Marakwet",
         "Environmental protection",
         1797950,
         529318,
         3.3967293762917565
        ],
        [
         "Kenya",
         2021,
         "Wajir",
         "Housing and community amenities",
         986040,
         893331,
         1.1037790024078422
        ],
        [
         "Kenya",
         2021,
         "West Pokot",
         "Health",
         1811501044.65,
         708214,
         2557.844161016303
        ],
        [
         "Kenya",
         2022,
         "West Pokot",
         "Economic affairs",
         2451956016.7999997,
         720744,
         3401.9790893854124
        ],
        [
         "Kenya",
         2021,
         "West Pokot",
         "Recreation, culture and religion",
         34980949.5,
         708214,
         49.39319118232625
        ],
        [
         "Kenya",
         2022,
         "Murang’A",
         "Public order and safety",
         223952049.75,
         1198892,
         186.79918604011036
        ],
        [
         "Kenya",
         2022,
         "Tharaka Nithi",
         "Health",
         2048159553.7500002,
         440960,
         4644.774024287918
        ],
        [
         "Kenya",
         2022,
         "Murang’A",
         "Health",
         4234501943.25,
         1198892,
         3532.012844568151
        ],
        [
         "Kenya",
         2021,
         "Turkana",
         "Education",
         1018096950.95,
         1059990,
         960.4778827630449
        ],
        [
         "Kenya",
         2021,
         "Kilifi",
         "Social protection",
         234590560.14999998,
         1681452,
         139.51665593189693
        ],
        [
         "Kenya",
         2021,
         "Homa Bay",
         "Health",
         2832868222.1,
         1282963,
         2208.066968494025
        ],
        [
         "Kenya",
         2022,
         "Kisii",
         "Economic affairs",
         8013766390.049999,
         1429418,
         5606.314171257112
        ],
        [
         "Kenya",
         2022,
         "Nakuru",
         "Public order and safety",
         676051655.5999999,
         2586081,
         261.4193660600731
        ],
        [
         "Kenya",
         2022,
         "Isiolo",
         "Housing and community amenities",
         143898955.45,
         351861,
         408.9653455483841
        ],
        [
         "Kenya",
         2022,
         "Mombasa",
         "Education",
         385442843.9,
         1425957,
         270.3046753162963
        ],
        [
         "Kenya",
         2021,
         "Migori",
         "General public services",
         2314631547.05,
         1273799,
         1817.1089371635558
        ],
        [
         "Kenya",
         2021,
         "Bungoma",
         "Health",
         3697008309.55,
         1905368,
         1940.3119552495896
        ],
        [
         "Kenya",
         2022,
         "Kajiado",
         "Social protection",
         432010840.4499999,
         1410068,
         306.37589141091064
        ],
        [
         "Kenya",
         2022,
         "Samburu",
         "Social protection",
         102971110.35,
         374075,
         275.2686235380605
        ],
        [
         "Kenya",
         2022,
         "Trans Nzoia",
         "Recreation, culture and religion",
         194480063,
         1148366,
         169.35372781848295
        ],
        [
         "Kenya",
         2022,
         "Bomet",
         "Education",
         327817758.85,
         1015337,
         322.8659635667764
        ],
        [
         "Kenya",
         2021,
         "Kericho",
         "Public order and safety",
         184764476.5,
         1024431,
         180.35814661992853
        ],
        [
         "Kenya",
         2022,
         "Siaya",
         "Economic affairs",
         2315321900.7,
         1143321,
         2025.0847318469614
        ],
        [
         "Kenya",
         2022,
         "Makueni",
         "Housing and community amenities",
         8709761,
         1119367,
         7.780969958914279
        ],
        [
         "Kenya",
         2022,
         "Meru",
         "Economic affairs",
         3086279978.6500006,
         1762084,
         1751.4942412790767
        ],
        [
         "Kenya",
         2022,
         "Makueni",
         "Public order and safety",
         245794970.65,
         1119367,
         219.58389933775072
        ],
        [
         "Kenya",
         2021,
         "Mombasa",
         "General public services",
         4171093784.6,
         1392834,
         2994.681192877256
        ],
        [
         "Kenya",
         2021,
         "Baringo",
         "Education",
         450665391,
         758756,
         593.9529848857867
        ],
        [
         "Kenya",
         2021,
         "Kwale",
         "Social protection",
         166858732.10000002,
         1005895,
         165.88086440433645
        ],
        [
         "Kenya",
         2022,
         "Nyamira",
         "Housing and community amenities",
         145138752.15,
         667345,
         217.48683537001102
        ],
        [
         "Kenya",
         2022,
         "Nakuru",
         "Housing and community amenities",
         1668325,
         2586081,
         0.6451170709656813
        ],
        [
         "Kenya",
         2022,
         "Nyandarua",
         "Housing and community amenities",
         266171538.45,
         714743,
         372.4017422346214
        ],
        [
         "Kenya",
         2022,
         "Wajir",
         "Health",
         2567942796.2,
         910640,
         2819.931911842221
        ],
        [
         "Kenya",
         2022,
         "Tana River",
         "Economic affairs",
         1775406377.15,
         375292,
         4730.733341371519
        ],
        [
         "Kenya",
         2021,
         "Meru",
         "Education",
         936374089.75,
         1742136,
         537.486217924433
        ],
        [
         "Kenya",
         2021,
         "Garissa",
         "Economic affairs",
         1680591734.7,
         1093018,
         1537.57004431766
        ],
        [
         "Kenya",
         2021,
         "Nakuru",
         "Housing and community amenities",
         13332096,
         2514149,
         5.302826523010371
        ],
        [
         "Kenya",
         2021,
         "Laikipia",
         "Social protection",
         1462872,
         598812,
         2.442957054968838
        ],
        [
         "Kenya",
         2022,
         "Nakuru",
         "Health",
         4757330531.500001,
         2586081,
         1839.590690121462
        ],
        [
         "Kenya",
         2021,
         "Kiambu",
         "Economic affairs",
         4537510880.5,
         2863073,
         1584.8393947691868
        ],
        [
         "Kenya",
         2021,
         "Kwale",
         "Environmental protection",
         9823904,
         1005895,
         9.76633147594928
        ],
        [
         "Kenya",
         2021,
         "Makueni",
         "Recreation, culture and religion",
         53132153.400000006,
         1108957,
         47.91182471457415
        ],
        [
         "Kenya",
         2021,
         "Kakamega",
         "Health",
         1245766784.5500002,
         2099691,
         593.309579623859
        ],
        [
         "Kenya",
         2021,
         "Nairobi City",
         "Environmental protection",
         1065527331.5,
         5148469,
         206.96003637197776
        ],
        [
         "Kenya",
         2022,
         "Migori",
         "Environmental protection",
         52859789,
         1296920,
         40.75794112204299
        ],
        [
         "Kenya",
         2022,
         "Busia",
         "Social protection",
         197614793.55,
         1034241,
         191.0722873585557
        ],
        [
         "Kenya",
         2022,
         "Kakamega",
         "Economic affairs",
         2556544547.7500005,
         2120889,
         1205.4117625910646
        ],
        [
         "Kenya",
         2021,
         "Embu",
         "Health",
         2332414269.55,
         690267,
         3379.0030083286615
        ],
        [
         "Kenya",
         2021,
         "Nandi",
         "Public order and safety",
         133242545,
         1004167,
         132.68962732294528
        ],
        [
         "Kenya",
         2021,
         "Kisumu",
         "Recreation, culture and religion",
         1230619,
         1313476,
         0.9369177662934077
        ],
        [
         "Kenya",
         2021,
         "Isiolo",
         "Health",
         1182443728.05,
         331083,
         3571.441989017859
        ],
        [
         "Kenya",
         2022,
         "Nairobi City",
         "General public services",
         7714283435.850001,
         5315616,
         1451.249194044491
        ],
        [
         "Kenya",
         2022,
         "Siaya",
         "Health",
         2130015120.95,
         1143321,
         1863.0070828315058
        ],
        [
         "Kenya",
         2022,
         "West Pokot",
         "General public services",
         1072111450.8000001,
         720744,
         1487.506591522094
        ],
        [
         "Kenya",
         2022,
         "West Pokot",
         "Social protection",
         206009513.54999998,
         720744,
         285.82896777496586
        ],
        [
         "Kenya",
         2022,
         "Kiambu",
         "Health",
         5531492516.450001,
         2974081,
         1859.8997527135275
        ],
        [
         "Kenya",
         2022,
         "Isiolo",
         "Public order and safety",
         119477822.64999999,
         351861,
         339.5597200314897
        ],
        [
         "Kenya",
         2022,
         "Tana River",
         "Environmental protection",
         3041782853.2,
         375292,
         8105.109763064494
        ],
        [
         "Kenya",
         2021,
         "Nyamira",
         "Housing and community amenities",
         208319412.75,
         667673,
         312.008142833393
        ],
        [
         "Kenya",
         2021,
         "Kakamega",
         "Environmental protection",
         177954836.64999998,
         2099691,
         84.75286918408469
        ],
        [
         "Kenya",
         2022,
         "Nyamira",
         "Recreation, culture and religion",
         38294337.75,
         667345,
         57.38311930111112
        ],
        [
         "Kenya",
         2022,
         "Wajir",
         "Housing and community amenities",
         2424161,
         910640,
         2.6620409821663884
        ],
        [
         "Kenya",
         2021,
         "Kilifi",
         "Public order and safety",
         409584627.15,
         1681452,
         243.58984208291403
        ],
        [
         "Kenya",
         2022,
         "Kirinyaga",
         "Social protection",
         256638035.3,
         698687,
         367.31474222362806
        ],
        [
         "Kenya",
         2021,
         "Trans Nzoia",
         "Public order and safety",
         173564445,
         1128600,
         153.7873870281765
        ],
        [
         "Kenya",
         2021,
         "Elgeyo Marakwet",
         "Housing and community amenities",
         1159340,
         519409,
         2.2320367956658433
        ],
        [
         "Kenya",
         2021,
         "Kirinyaga",
         "Social protection",
         293729683.35,
         689786,
         425.8272614260075
        ],
        [
         "Kenya",
         2022,
         "Siaya",
         "Housing and community amenities",
         6541779,
         1143321,
         5.72173431608446
        ],
        [
         "Kenya",
         2021,
         "Migori",
         "Public order and safety",
         171678591,
         1273799,
         134.7768297824068
        ],
        [
         "Kenya",
         2021,
         "Bomet",
         "Recreation, culture and religion",
         9845918,
         997889,
         9.86674670228853
        ],
        [
         "Kenya",
         2022,
         "Kericho",
         "Housing and community amenities",
         340449003.75,
         1040591,
         327.1688912838954
        ],
        [
         "Kenya",
         2022,
         "Laikipia",
         "Public order and safety",
         159015535,
         613653,
         259.1294021213943
        ],
        [
         "Kenya",
         2021,
         "Kajiado",
         "General public services",
         3984606581.700001,
         1345550,
         2961.321825052953
        ],
        [
         "Kenya",
         2021,
         "Laikipia",
         "Public order and safety",
         157860994,
         598812,
         263.62363145695144
        ],
        [
         "Kenya",
         2021,
         "Bungoma",
         "Social protection",
         383069465.5,
         1905368,
         201.04749607424918
        ],
        [
         "Kenya",
         2021,
         "Elgeyo Marakwet",
         "Health",
         2167985418.1500006,
         519409,
         4173.946578033882
        ],
        [
         "Kenya",
         2022,
         "Wajir",
         "General public services",
         3512679665.6,
         910640,
         3857.3746657295965
        ],
        [
         "Kenya",
         2021,
         "Mandera",
         "General public services",
         3926934788.55,
         991914,
         3958.946832638717
        ],
        [
         "Kenya",
         2021,
         "Turkana",
         "Housing and community amenities",
         264190007.95,
         1059990,
         249.2382078604515
        ],
        [
         "Kenya",
         2021,
         "Murang’A",
         "Health",
         442592868.1,
         1187274,
         372.7807297220355
        ],
        [
         "Kenya",
         2022,
         "Kajiado",
         "General public services",
         4052822324.6999993,
         1410068,
         2874.2034601877353
        ],
        [
         "Kenya",
         2022,
         "Nandi",
         "Economic affairs",
         2046005268.95,
         1018897,
         2008.058978434523
        ],
        [
         "Kenya",
         2021,
         "Vihiga",
         "Public order and safety",
         72837442.6,
         656555,
         110.93882858252545
        ],
        [
         "Kenya",
         2021,
         "Kericho",
         "General public services",
         1491286006.3999999,
         1024431,
         1455.7212798128912
        ],
        [
         "Kenya",
         2021,
         "Tharaka Nithi",
         "Economic affairs",
         1579358126.6499999,
         438471,
         3601.967123595403
        ],
        [
         "Kenya",
         2022,
         "Kajiado",
         "Housing and community amenities",
         1618325,
         1410068,
         1.1476928772229424
        ],
        [
         "Kenya",
         2021,
         "Kitui",
         "Economic affairs",
         3546124489.6500006,
         1276847,
         2777.2509076263646
        ],
        [
         "Kenya",
         2022,
         "Garissa",
         "Public order and safety",
         326163187.05,
         1134954,
         287.380093862835
        ],
        [
         "Kenya",
         2022,
         "Baringo",
         "Recreation, culture and religion",
         3600000,
         771440,
         4.666597531888416
        ],
        [
         "Kenya",
         2021,
         "Kisumu",
         "Education",
         740927265.4000001,
         1313476,
         564.096538802384
        ],
        [
         "Kenya",
         2021,
         "Marsabit",
         "Economic affairs",
         1516576337.7499995,
         550487,
         2754.972120595036
        ],
        [
         "Kenya",
         2021,
         "Kericho",
         "Health",
         2500874967.4999995,
         1024431,
         2441.2331992100976
        ],
        [
         "Kenya",
         2022,
         "Kiambu",
         "Public order and safety",
         1439740774.45,
         2974081,
         484.09601972844723
        ],
        [
         "Kenya",
         2021,
         "Bomet",
         "Education",
         104713418.35,
         997889,
         104.93493599989577
        ],
        [
         "Kenya",
         2022,
         "Bomet",
         "Housing and community amenities",
         263517200.85,
         1015337,
         259.53668668629234
        ],
        [
         "Kenya",
         2022,
         "Kwale",
         "Health",
         3421471981.45,
         1033550,
         3310.4077997677905
        ],
        [
         "Kenya",
         2021,
         "Bomet",
         "Public order and safety",
         102223053,
         997889,
         102.43930236729736
        ],
        [
         "Kenya",
         2021,
         "Narok",
         "General public services",
         593067314.25,
         1348631,
         439.7550658779162
        ],
        [
         "Kenya",
         2022,
         "Kisumu",
         "Health",
         3863260143.149998,
         1334597,
         2894.701653870043
        ],
        [
         "Kenya",
         2022,
         "Kakamega",
         "Education",
         598202104.6,
         2120889,
         282.0525282558399
        ],
        [
         "Kenya",
         2021,
         "Lamu",
         "Education",
         405934427.99999994,
         168905,
         2403.3298481394863
        ],
        [
         "Kenya",
         2021,
         "Kajiado",
         "Economic affairs",
         1678502055.5,
         1345550,
         1247.4468102263015
        ],
        [
         "Kenya",
         2021,
         "Garissa",
         "Housing and community amenities",
         16781900,
         1093018,
         15.353727020049075
        ],
        [
         "Kenya",
         2021,
         "Nairobi City",
         "Recreation, culture and religion",
         1199837.6,
         5148469,
         0.23304745546685823
        ],
        [
         "Kenya",
         2021,
         "Makueni",
         "Public order and safety",
         222651333.2,
         1108957,
         200.77544323179347
        ],
        [
         "Kenya",
         2021,
         "Murang’A",
         "Recreation, culture and religion",
         11232149,
         1187274,
         9.46045226291488
        ],
        [
         "Kenya",
         2022,
         "Siaya",
         "Public order and safety",
         151942145,
         1143321,
         132.89543793912645
        ],
        [
         "Kenya",
         2022,
         "Machakos",
         "Economic affairs",
         2378847646.9,
         1680998,
         1415.140081606284
        ],
        [
         "Kenya",
         2022,
         "Machakos",
         "Health",
         4319409545.95,
         1680998,
         2569.550675223885
        ],
        [
         "Kenya",
         2022,
         "Kitui",
         "Social protection",
         34239617.7,
         1289449,
         26.55368122353036
        ],
        [
         "Kenya",
         2022,
         "Tana River",
         "Housing and community amenities",
         4046714,
         375292,
         10.78284109440116
        ],
        [
         "Kenya",
         2022,
         "Kwale",
         "Education",
         1883975011.3999999,
         1033550,
         1822.8194198635767
        ],
        [
         "Kenya",
         2021,
         "Trans Nzoia",
         "General public services",
         3450249499.05,
         1128600,
         3057.105705342903
        ],
        [
         "Kenya",
         2021,
         "Machakos",
         "Environmental protection",
         14446137.95,
         1640927,
         8.803644494849557
        ],
        [
         "Kenya",
         2022,
         "Mandera",
         "Social protection",
         2611346204,
         1011130,
         2582.60184546003
        ],
        [
         "Kenya",
         2022,
         "Nyamira",
         "General public services",
         1358372147.7999997,
         667345,
         2035.4871135619503
        ],
        [
         "Kenya",
         2022,
         "Kisumu",
         "General public services",
         2101792473.6000006,
         1334597,
         1574.851789416581
        ],
        [
         "Kenya",
         2022,
         "Mandera",
         "General public services",
         4733464251.850001,
         1011130,
         4681.360707179098
        ],
        [
         "Kenya",
         2021,
         "Laikipia",
         "Health",
         905389371.75,
         598812,
         1511.9759987274804
        ],
        [
         "Kenya",
         2021,
         "Kericho",
         "Environmental protection",
         113187661.5,
         1024431,
         110.48832132178741
        ],
        [
         "Kenya",
         2022,
         "Uasin Gishu",
         "Public order and safety",
         375159654.79999995,
         1377083,
         272.4306775989537
        ],
        [
         "Kenya",
         2022,
         "Tana River",
         "General public services",
         3172090045.4000006,
         375292,
         8452.325243810155
        ],
        [
         "Kenya",
         2021,
         "Garissa",
         "Health",
         2628356745.7000003,
         1093018,
         2404.6783728172823
        ],
        [
         "Kenya",
         2021,
         "Kisii",
         "Health",
         349273927.99999994,
         1418331,
         246.25699360727498
        ],
        [
         "Kenya",
         2022,
         "Kwale",
         "Housing and community amenities",
         418638109.05,
         1033550,
         405.0487243481206
        ],
        [
         "Kenya",
         2021,
         "Murang’A",
         "Social protection",
         122271627.55,
         1187274,
         102.98518080072502
        ],
        [
         "Kenya",
         2022,
         "Kirinyaga",
         "Economic affairs",
         2046385427.45,
         698687,
         2928.9015359524365
        ],
        [
         "Kenya",
         2021,
         "Samburu",
         "Education",
         552296848.25,
         362681,
         1522.8171540554922
        ],
        [
         "Kenya",
         2021,
         "Machakos",
         "Economic affairs",
         3611175915.0500007,
         1640927,
         2200.692605490677
        ],
        [
         "Kenya",
         2021,
         "Vihiga",
         "Housing and community amenities",
         37846094,
         656555,
         57.643447997502115
        ],
        [
         "Kenya",
         2021,
         "Kilifi",
         "Economic affairs",
         3530048782.999999,
         1681452,
         2099.405027916348
        ],
        [
         "Kenya",
         2021,
         "Kwale",
         "Recreation, culture and religion",
         108028122.65,
         1005895,
         107.39502895431433
        ],
        [
         "Kenya",
         2022,
         "Lamu",
         "Health",
         1326323862.05,
         174605,
         7596.1390684688295
        ],
        [
         "Kenya",
         2021,
         "Bungoma",
         "Education",
         1427566221.6,
         1905368,
         749.2338601257079
        ],
        [
         "Kenya",
         2021,
         "Murang’A",
         "General public services",
         5252788196.05,
         1187274,
         4424.242589368588
        ],
        [
         "Kenya",
         2021,
         "Turkana",
         "Social protection",
         146490508.25,
         1059990,
         138.19989646128738
        ],
        [
         "Kenya",
         2021,
         "Nyandarua",
         "Recreation, culture and religion",
         81420813.35,
         711085,
         114.50222315194385
        ],
        [
         "Kenya",
         2022,
         "Kisii",
         "Public order and safety",
         292229069.5,
         1429418,
         204.4391979812763
        ],
        [
         "Kenya",
         2022,
         "Elgeyo Marakwet",
         "Education",
         1159541866.199999,
         529318,
         2190.633732841126
        ],
        [
         "Kenya",
         2022,
         "Makueni",
         "Economic affairs",
         2540719739.25,
         1119367,
         2269.7825996746374
        ],
        [
         "Kenya",
         2022,
         "Embu",
         "Public order and safety",
         262418090.3,
         700557,
         374.5849235679609
        ],
        [
         "Kenya",
         2022,
         "Kitui",
         "Housing and community amenities",
         26628219.8,
         1289449,
         20.65085148772848
        ],
        [
         "Kenya",
         2022,
         "Uasin Gishu",
         "Environmental protection",
         26312983.95,
         1377083,
         19.10776906693351
        ],
        [
         "Kenya",
         2021,
         "Busia",
         "Public order and safety",
         154696514.1,
         1017150,
         152.08820144521457
        ],
        [
         "Kenya",
         2021,
         "Narok",
         "Housing and community amenities",
         79484540,
         1348631,
         58.93720372733535
        ],
        [
         "Kenya",
         2021,
         "Trans Nzoia",
         "Health",
         2363204462.9500003,
         1128600,
         2093.9256272815883
        ],
        [
         "Kenya",
         2021,
         "Busia",
         "General public services",
         3643039350.05,
         1017150,
         3581.6146586540826
        ],
        [
         "Kenya",
         2022,
         "Kericho",
         "Health",
         2936971891.3,
         1040591,
         2822.4075465768974
        ],
        [
         "Kenya",
         2022,
         "Busia",
         "Recreation, culture and religion",
         6000000,
         1034241,
         5.801355776845049
        ],
        [
         "Kenya",
         2021,
         "Kwale",
         "Public order and safety",
         107194336.9,
         1005895,
         106.56612956620721
        ],
        [
         "Kenya",
         2021,
         "Kisumu",
         "Economic affairs",
         3473164355.0500007,
         1313476,
         2644.2541432428156
        ],
        [
         "Kenya",
         2021,
         "Kiambu",
         "Housing and community amenities",
         17101270,
         2863073,
         5.973047142004413
        ],
        [
         "Kenya",
         2021,
         "Laikipia",
         "Environmental protection",
         22563360,
         598812,
         37.680206809482776
        ],
        [
         "Kenya",
         2022,
         "Siaya",
         "Social protection",
         255642027.25,
         1143321,
         223.59602180839852
        ],
        [
         "Kenya",
         2022,
         "Kajiado",
         "Economic affairs",
         2494123617.9500003,
         1410068,
         1768.7966948757082
        ],
        [
         "Kenya",
         2022,
         "Nandi",
         "Housing and community amenities",
         1118326,
         1018897,
         1.0975849374372484
        ],
        [
         "Kenya",
         2022,
         "Kwale",
         "Social protection",
         181520292.55,
         1033550,
         175.62797402157614
        ],
        [
         "Kenya",
         2021,
         "Narok",
         "Education",
         188203217,
         1348631,
         139.5513057315159
        ],
        [
         "Kenya",
         2021,
         "Kiambu",
         "Recreation, culture and religion",
         111421893.85,
         2863073,
         38.91688889874621
        ],
        [
         "Kenya",
         2022,
         "Kakamega",
         "Public order and safety",
         355414362.5,
         2120889,
         167.57801209775712
        ],
        [
         "Kenya",
         2022,
         "Nandi",
         "Education",
         580690570.4,
         1018897,
         569.9207774681837
        ],
        [
         "Kenya",
         2022,
         "Kilifi",
         "Social protection",
         316847016.25,
         1724586,
         183.7235233557503
        ],
        [
         "Kenya",
         2021,
         "Murang’A",
         "Economic affairs",
         1466628519.25,
         1187274,
         1235.290690480883
        ],
        [
         "Kenya",
         2021,
         "Mandera",
         "Economic affairs",
         1465571202.05,
         991914,
         1477.5184159614644
        ],
        [
         "Kenya",
         2022,
         "Kiambu",
         "Recreation, culture and religion",
         380994664,
         2974081,
         128.10500588248942
        ],
        [
         "Kenya",
         2021,
         "Machakos",
         "Education",
         371559968,
         1640927,
         226.43296624408032
        ],
        [
         "Kenya",
         2021,
         "Nyamira",
         "Education",
         599856156.6999999,
         667673,
         898.428057896605
        ],
        [
         "Kenya",
         2021,
         "Uasin Gishu",
         "Economic affairs",
         3173054212.8500004,
         1343587,
         2361.6291411348875
        ],
        [
         "Kenya",
         2021,
         "Trans Nzoia",
         "Environmental protection",
         152175260.6,
         1128600,
         134.83542495126704
        ],
        [
         "Kenya",
         2022,
         "Vihiga",
         "Health",
         1527734493.9,
         659515,
         2316.45147403774
        ],
        [
         "Kenya",
         2022,
         "Kitui",
         "Health",
         3424617784.25,
         1289449,
         2655.8768778369677
        ],
        [
         "Kenya",
         2022,
         "Meru",
         "Housing and community amenities",
         534979189.74999994,
         1762084,
         303.6059516742675
        ],
        [
         "Kenya",
         2021,
         "Homa Bay",
         "Public order and safety",
         182806190,
         1282963,
         142.48749963950635
        ],
        [
         "Kenya",
         2021,
         "Turkana",
         "General public services",
         7767308794.700001,
         1059990,
         7327.718935744678
        ],
        [
         "Kenya",
         2021,
         "Siaya",
         "Housing and community amenities",
         9719720,
         1126518,
         8.628108916146923
        ],
        [
         "Kenya",
         2022,
         "Kirinyaga",
         "General public services",
         1786792709.5999997,
         698687,
         2557.3578864355563
        ],
        [
         "Kenya",
         2022,
         "Taita Taveta",
         "Health",
         401246234.25,
         393839,
         1018.8077723384429
        ],
        [
         "Kenya",
         2021,
         "Kilifi",
         "Housing and community amenities",
         1065001768.85,
         1681452,
         633.3822011273589
        ],
        [
         "Kenya",
         2021,
         "Kitui",
         "Housing and community amenities",
         25778308.700000003,
         1276847,
         20.18903494310595
        ],
        [
         "Kenya",
         2021,
         "Lamu",
         "Health",
         1181389594.3999996,
         168905,
         6994.402737633579
        ],
        [
         "Kenya",
         2022,
         "Kirinyaga",
         "Recreation, culture and religion",
         17221696.5,
         698687,
         24.648657410256668
        ],
        [
         "Kenya",
         2021,
         "West Pokot",
         "Education",
         899120082.6499999,
         708214,
         1269.5598825355046
        ],
        [
         "Kenya",
         2021,
         "Meru",
         "Recreation, culture and religion",
         97623685,
         1742136,
         56.03677611851199
        ],
        [
         "Kenya",
         2022,
         "Turkana",
         "Social protection",
         262333032.35000002,
         1080524,
         242.78316108665797
        ],
        [
         "Kenya",
         2021,
         "Meru",
         "Economic affairs",
         2893770437.5,
         1742136,
         1661.0473794812804
        ],
        [
         "Kenya",
         2021,
         "Baringo",
         "Housing and community amenities",
         2217040,
         758756,
         2.9219406502222056
        ],
        [
         "Kenya",
         2021,
         "Narok",
         "Social protection",
         177640410,
         1348631,
         131.71906177449577
        ],
        [
         "Kenya",
         2021,
         "Marsabit",
         "Environmental protection",
         39728774.5,
         550487,
         72.17023199457934
        ],
        [
         "Kenya",
         2022,
         "Mombasa",
         "General public services",
         4943544557.599998,
         1425957,
         3466.8258282683128
        ],
        [
         "Kenya",
         2021,
         "Baringo",
         "Health",
         2226628055.8,
         758756,
         2934.577197149018
        ],
        [
         "Kenya",
         2021,
         "Kajiado",
         "Environmental protection",
         40725292,
         1345550,
         30.26665081193564
        ],
        [
         "Kenya",
         2021,
         "Kisii",
         "Recreation, culture and religion",
         136119043.75,
         1418331,
         95.97128156262536
        ],
        [
         "Kenya",
         2022,
         "Tana River",
         "Education",
         273977877.25,
         375292,
         730.0392154642252
        ],
        [
         "Kenya",
         2021,
         "Nakuru",
         "Education",
         744562155.3,
         2514149,
         296.14877849323966
        ],
        [
         "Kenya",
         2021,
         "Kisumu",
         "Housing and community amenities",
         34997850,
         1313476,
         26.645214682262942
        ],
        [
         "Kenya",
         2022,
         "Machakos",
         "Public order and safety",
         269412912.4,
         1680998,
         160.26962102274956
        ],
        [
         "Kenya",
         2022,
         "Samburu",
         "Public order and safety",
         71728122,
         374075,
         191.74797032680613
        ],
        [
         "Kenya",
         2022,
         "Tharaka Nithi",
         "Public order and safety",
         42671868,
         440960,
         96.7703828011611
        ],
        [
         "Kenya",
         2022,
         "Meru",
         "Education",
         894601366.5500001,
         1762084,
         507.69507387275524
        ],
        [
         "Kenya",
         2021,
         "Marsabit",
         "Education",
         547745294.1,
         550487,
         995.0194901968621
        ],
        [
         "Kenya",
         2021,
         "Isiolo",
         "General public services",
         1764064288.6500003,
         331083,
         5328.163296363753
        ],
        [
         "Kenya",
         2021,
         "Nakuru",
         "Economic affairs",
         3990341039.4,
         2514149,
         1587.1537603379911
        ],
        [
         "Kenya",
         2022,
         "Kajiado",
         "Public order and safety",
         220013109,
         1410068,
         156.03014109957817
        ],
        [
         "Kenya",
         2022,
         "Nyandarua",
         "Social protection",
         123198708.95,
         714743,
         172.3678426371437
        ],
        [
         "Kenya",
         2021,
         "Kajiado",
         "Education",
         533498080.3000001,
         1345550,
         396.49071405744866
        ],
        [
         "Kenya",
         2021,
         "Meru",
         "General public services",
         3188727826.7499986,
         1742136,
         1830.3552803856867
        ],
        [
         "Kenya",
         2021,
         "Taita Taveta",
         "Housing and community amenities",
         888440,
         387471,
         2.2929199862699403
        ],
        [
         "Kenya",
         2021,
         "Kajiado",
         "Housing and community amenities",
         23127783,
         1345550,
         17.18834900226673
        ],
        [
         "Kenya",
         2021,
         "Kericho",
         "Economic affairs",
         2324207632.45,
         1024431,
         2268.779090490233
        ],
        [
         "Kenya",
         2021,
         "Samburu",
         "Social protection",
         73784190.05,
         362681,
         203.44101303900672
        ],
        [
         "Kenya",
         2021,
         "Makueni",
         "Health",
         3283094902.95,
         1108957,
         2960.524982438453
        ],
        [
         "Kenya",
         2022,
         "Trans Nzoia",
         "Social protection",
         62460555.05,
         1148366,
         54.39080837468194
        ],
        [
         "Kenya",
         2021,
         "Tana River",
         "Health",
         1244454140.8,
         365734,
         3402.6208687187955
        ],
        [
         "Kenya",
         2022,
         "Homa Bay",
         "Public order and safety",
         222534219.7,
         1301586,
         170.97158366792513
        ],
        [
         "Kenya",
         2022,
         "Nyeri",
         "Education",
         506384376.55,
         855511,
         591.9086680942735
        ],
        [
         "Kenya",
         2022,
         "Nyandarua",
         "Education",
         108513460.55,
         714743,
         151.8216485505979
        ],
        [
         "Kenya",
         2022,
         "Machakos",
         "Social protection",
         829180560.45,
         1680998,
         493.26683342276436
        ],
        [
         "Kenya",
         2021,
         "Kakamega",
         "Housing and community amenities",
         275581838.2,
         2099691,
         131.24875907931215
        ],
        [
         "Kenya",
         2022,
         "Elgeyo Marakwet",
         "Housing and community amenities",
         1118326,
         529318,
         2.112767750199313
        ],
        [
         "Kenya",
         2021,
         "Mandera",
         "Social protection",
         2867644972.35,
         991914,
         2891.0217744179436
        ],
        [
         "Kenya",
         2022,
         "Nyamira",
         "Public order and safety",
         84865023,
         667345,
         127.16814091661735
        ],
        [
         "Kenya",
         2022,
         "Bungoma",
         "Education",
         1662517519.55,
         1939588,
         857.1498274633582
        ],
        [
         "Kenya",
         2022,
         "Meru",
         "Recreation, culture and religion",
         82252722.35,
         1762084,
         46.67922888466157
        ],
        [
         "Kenya",
         2022,
         "Isiolo",
         "Health",
         1375793392.5,
         351861,
         3910.0479805946097
        ],
        [
         "Kenya",
         2022,
         "Tana River",
         "Public order and safety",
         88049019,
         375292,
         234.61469735565905
        ],
        [
         "Kenya",
         2022,
         "Tana River",
         "Health",
         1277938428.1999998,
         375292,
         3405.1843050211564
        ],
        [
         "Kenya",
         2022,
         "Kilifi",
         "General public services",
         6544268427.499998,
         1724586,
         3794.6895240364925
        ],
        [
         "Kenya",
         2021,
         "Machakos",
         "General public services",
         4230837574.3500004,
         1640927,
         2578.3216281711498
        ],
        [
         "Kenya",
         2021,
         "Mandera",
         "Public order and safety",
         134215226,
         991914,
         135.30933730141928
        ],
        [
         "Kenya",
         2021,
         "Kajiado",
         "Public order and safety",
         218013118.2,
         1345550,
         162.02528200364162
        ],
        [
         "Kenya",
         2021,
         "Nairobi City",
         "Education",
         1498025334.4,
         5148469,
         290.965204296656
        ],
        [
         "Kenya",
         2021,
         "Makueni",
         "Social protection",
         175323558.65,
         1108957,
         158.09770680919098
        ],
        [
         "Kenya",
         2021,
         "Migori",
         "Social protection",
         202272772.39999998,
         1273799,
         158.7948902456353
        ],
        [
         "Kenya",
         2021,
         "Nandi",
         "Recreation, culture and religion",
         6804110.2,
         1004167,
         6.775875128340206
        ],
        [
         "Kenya",
         2022,
         "Kakamega",
         "General public services",
         7110699162.900002,
         2120889,
         3352.697459838776
        ],
        [
         "Kenya",
         2022,
         "Elgeyo Marakwet",
         "General public services",
         4577266,
         529318,
         8.64747845340608
        ],
        [
         "Kenya",
         2022,
         "Kwale",
         "General public services",
         2618044746.5,
         1033550,
         2533.060564559044
        ],
        [
         "Kenya",
         2022,
         "Mombasa",
         "Public order and safety",
         451809496.6,
         1425957,
         316.8465084150504
        ],
        [
         "Kenya",
         2021,
         "Makueni",
         "Housing and community amenities",
         18385677,
         1108957,
         16.57925149487311
        ],
        [
         "Kenya",
         2022,
         "Nairobi City",
         "Environmental protection",
         5110680,
         5315616,
         0.9614464250239295
        ],
        [
         "Kenya",
         2021,
         "Makueni",
         "Education",
         502963401.0000001,
         1108957,
         453.54635121109305
        ],
        [
         "Kenya",
         2021,
         "Nakuru",
         "Recreation, culture and religion",
         85152412.19999999,
         2514149,
         33.86927831246278
        ],
        [
         "Kenya",
         2022,
         "Uasin Gishu",
         "Education",
         1560473579.1499999,
         1377083,
         1133.1732213308856
        ],
        [
         "Kenya",
         2021,
         "Kitui",
         "Public order and safety",
         302108305.9,
         1276847,
         236.60493849302225
        ],
        [
         "Kenya",
         2021,
         "West Pokot",
         "Social protection",
         166922951.25,
         708214,
         235.6956389594106
        ],
        [
         "Kenya",
         2021,
         "Trans Nzoia",
         "Social protection",
         75511314.55,
         1128600,
         66.90706587807904
        ],
        [
         "Kenya",
         2022,
         "Kisumu",
         "Economic affairs",
         3755410951.7,
         1334597,
         2813.8913482496964
        ],
        [
         "Kenya",
         2022,
         "Kisumu",
         "Housing and community amenities",
         100968322,
         1334597,
         75.65453990980049
        ],
        [
         "Kenya",
         2022,
         "Narok",
         "Health",
         4188529319.5,
         1388474,
         3016.642241410354
        ],
        [
         "Kenya",
         2022,
         "Nandi",
         "General public services",
         2080527013.4500005,
         1018897,
         2041.940464492486
        ],
        [
         "Kenya",
         2022,
         "Samburu",
         "Health",
         1431823961.15,
         374075,
         3827.6387386219344
        ],
        [
         "Kenya",
         2022,
         "Samburu",
         "Recreation, culture and religion",
         47157164.7,
         374075,
         126.06339557575353
        ],
        [
         "Kenya",
         2022,
         "Kirinyaga",
         "Housing and community amenities",
         164948385,
         698687,
         236.0833749590303
        ],
        [
         "Kenya",
         2022,
         "Meru",
         "General public services",
         12937475527.6,
         1762084,
         7342.14460127894
        ],
        [
         "Kenya",
         2021,
         "Kitui",
         "General public services",
         3241517168.95,
         1276847,
         2538.688792744941
        ],
        [
         "Kenya",
         2021,
         "Nyeri",
         "Environmental protection",
         20032112.85,
         849245,
         23.58814340973453
        ],
        [
         "Kenya",
         2022,
         "Kiambu",
         "Housing and community amenities",
         1168328,
         2974081,
         0.39283664432811344
        ],
        [
         "Kenya",
         2022,
         "Kwale",
         "Public order and safety",
         112426000.6,
         1033550,
         108.77654743360263
        ],
        [
         "Kenya",
         2021,
         "Nairobi City",
         "General public services",
         11491298888.550001,
         5148469,
         2231.98370011551
        ],
        [
         "Kenya",
         2021,
         "Laikipia",
         "Education",
         176068178.95000002,
         598812,
         294.02914261905244
        ],
        [
         "Kenya",
         2022,
         "Elgeyo Marakwet",
         "Health",
         2347016550.2000003,
         529318,
         4434.038801249911
        ],
        [
         "Kenya",
         2022,
         "Mandera",
         "Housing and community amenities",
         1118333,
         1011130,
         1.1060229644061594
        ],
        [
         "Kenya",
         2021,
         "Nyamira",
         "Economic affairs",
         2184208368.5,
         667673,
         3271.374413073466
        ],
        [
         "Kenya",
         2021,
         "Tharaka Nithi",
         "Social protection",
         59714872.89999999,
         438471,
         136.18887657336515
        ],
        [
         "Kenya",
         2021,
         "Bomet",
         "Environmental protection",
         11238096.75,
         997889,
         11.26187055874952
        ],
        [
         "Kenya",
         2021,
         "Tana River",
         "Economic affairs",
         1454707879.8999999,
         365734,
         3977.502446860286
        ],
        [
         "Kenya",
         2021,
         "Meru",
         "Environmental protection",
         39146364,
         1742136,
         22.470326082464286
        ],
        [
         "Kenya",
         2022,
         "Nairobi City",
         "Social protection",
         303322885.2,
         5315616,
         57.06260294197323
        ],
        [
         "Kenya",
         2021,
         "Samburu",
         "Economic affairs",
         1421676486.1000001,
         362681,
         3919.908917478446
        ],
        [
         "Kenya",
         2021,
         "Lamu",
         "Public order and safety",
         81214719.5,
         168905,
         480.8307598946153
        ],
        [
         "Kenya",
         2021,
         "Makueni",
         "General public services",
         2668251818.7500005,
         1108957,
         2406.0913261289666
        ],
        [
         "Kenya",
         2021,
         "Wajir",
         "Environmental protection",
         150181500,
         893331,
         168.11405850686924
        ],
        [
         "Kenya",
         2022,
         "Mandera",
         "Economic affairs",
         1595517538.65,
         1011130,
         1577.9549006062525
        ],
        [
         "Kenya",
         2021,
         "Kwale",
         "General public services",
         2205719895.8,
         1005895,
         2192.793378831787
        ],
        [
         "Kenya",
         2021,
         "Samburu",
         "Housing and community amenities",
         371105515.3,
         362681,
         1023.2284440045108
        ],
        [
         "Kenya",
         2022,
         "Bomet",
         "Health",
         462930975,
         1015337,
         455.9382500588475
        ],
        [
         "Kenya",
         2021,
         "Kisii",
         "Education",
         212882765.79999998,
         1418331,
         150.093853832427
        ],
        [
         "Kenya",
         2022,
         "Makueni",
         "Social protection",
         202094328.45,
         1119367,
         180.54340395062565
        ],
        [
         "Kenya",
         2022,
         "Trans Nzoia",
         "Environmental protection",
         160380734.4,
         1148366,
         139.65994674171824
        ],
        [
         "Kenya",
         2021,
         "Nairobi City",
         "Public order and safety",
         4967090388.85,
         5148469,
         964.7703790874531
        ],
        [
         "Kenya",
         2021,
         "Meru",
         "Social protection",
         230561878.45000002,
         1742136,
         132.34436258133695
        ],
        [
         "Kenya",
         2022,
         "Nyandarua",
         "Economic affairs",
         1668603439.3,
         714743,
         2334.550235958939
        ],
        [
         "Kenya",
         2022,
         "Kilifi",
         "Economic affairs",
         3687439464.3500004,
         1724586,
         2138.1592245037364
        ],
        [
         "Kenya",
         2021,
         "Mombasa",
         "Education",
         718183606.6,
         1392834,
         515.6275669605998
        ],
        [
         "Kenya",
         2021,
         "Homa Bay",
         "General public services",
         2315324060.1499996,
         1282963,
         1804.6693943239202
        ],
        [
         "Kenya",
         2021,
         "Uasin Gishu",
         "General public services",
         1961874750.55,
         1343587,
         1460.1769372210358
        ],
        [
         "Kenya",
         2021,
         "Vihiga",
         "General public services",
         2017554619.4999998,
         656555,
         3072.940758199998
        ],
        [
         "Kenya",
         2021,
         "Kiambu",
         "Environmental protection",
         171441206,
         2863073,
         59.88013787982353
        ],
        [
         "Kenya",
         2022,
         "Bungoma",
         "Social protection",
         338445574.3,
         1939588,
         174.49353898869245
        ],
        [
         "Kenya",
         2022,
         "Tharaka Nithi",
         "Housing and community amenities",
         183678887.15,
         440960,
         416.5431947342163
        ],
        [
         "Kenya",
         2021,
         "Samburu",
         "Health",
         1195379547.5,
         362681,
         3295.95304827107
        ],
        [
         "Kenya",
         2022,
         "Homa Bay",
         "Housing and community amenities",
         145322008.2,
         1301586,
         111.64994721823989
        ],
        [
         "Kenya",
         2022,
         "Busia",
         "Education",
         469336199.84999996,
         1034241,
         453.79771238038325
        ],
        [
         "Kenya",
         2022,
         "Turkana",
         "Housing and community amenities",
         326544578.95,
         1080524,
         302.209464065583
        ],
        [
         "Kenya",
         2022,
         "Nyandarua",
         "Health",
         819370576,
         714743,
         1146.3848907929143
        ],
        [
         "Kenya",
         2022,
         "Kwale",
         "Recreation, culture and religion",
         124716305.6,
         1033550,
         120.66789763436698
        ],
        [
         "Kenya",
         2021,
         "Kisumu",
         "General public services",
         1812387872.7499998,
         1313476,
         1379.840874709549
        ],
        [
         "Kenya",
         2021,
         "Kiambu",
         "Education",
         890306959,
         2863073,
         310.96201843264214
        ],
        [
         "Kenya",
         2021,
         "Kakamega",
         "General public services",
         6822803099.450001,
         2099691,
         3249.4319875876977
        ],
        [
         "Kenya",
         2021,
         "Kirinyaga",
         "Economic affairs",
         1147206170.65,
         689786,
         1663.1334510268402
        ],
        [
         "Kenya",
         2021,
         "Kirinyaga",
         "Housing and community amenities",
         1663340,
         689786,
         2.4113855601592378
        ],
        [
         "Kenya",
         2021,
         "Garissa",
         "Social protection",
         70377098.6,
         1093018,
         64.3878679033648
        ],
        [
         "Kenya",
         2021,
         "Nyamira",
         "Recreation, culture and religion",
         58380283.5,
         667673,
         87.438436929455
        ],
        [
         "Kenya",
         2022,
         "Murang’A",
         "General public services",
         1877913269.7500002,
         1198892,
         1566.3740101276849
        ],
        [
         "Kenya",
         2022,
         "Kilifi",
         "Environmental protection",
         -1499703,
         1724586,
         -0.8696017478977563
        ],
        [
         "Kenya",
         2021,
         "Homa Bay",
         "Education",
         610866747.2,
         1282963,
         476.137462420974
        ],
        [
         "Kenya",
         2022,
         "Nyeri",
         "Economic affairs",
         1695776776.2500002,
         855511,
         1982.1799792755444
        ],
        [
         "Kenya",
         2022,
         "Meru",
         "Public order and safety",
         569050722.2,
         1762084,
         322.9418814313052
        ],
        [
         "Kenya",
         2021,
         "Kiambu",
         "General public services",
         3598279716.55,
         2863073,
         1256.7893716122503
        ],
        [
         "Kenya",
         2021,
         "Nyeri",
         "Health",
         2747989759.1500006,
         849245,
         3235.80328309263
        ],
        [
         "Kenya",
         2022,
         "Kitui",
         "Public order and safety",
         390307614.75,
         1289449,
         302.6933323846077
        ],
        [
         "Kenya",
         2021,
         "Nandi",
         "Housing and community amenities",
         1559340,
         1004167,
         1.5528691940683172
        ],
        [
         "Kenya",
         2021,
         "Migori",
         "Housing and community amenities",
         1371340,
         1273799,
         1.0765748756279445
        ],
        [
         "Kenya",
         2022,
         "Laikipia",
         "Social protection",
         1881390,
         613653,
         3.065885769319143
        ],
        [
         "Kenya",
         2022,
         "Embu",
         "Education",
         425048684.1,
         700557,
         606.7296224290101
        ],
        [
         "Kenya",
         2022,
         "Lamu",
         "Housing and community amenities",
         7009979,
         174605,
         40.14764182010824
        ],
        [
         "Kenya",
         2021,
         "Uasin Gishu",
         "Health",
         2827442642.8,
         1343587,
         2104.3986305315548
        ],
        [
         "Kenya",
         2022,
         "Vihiga",
         "Social protection",
         145335945.3,
         659515,
         220.36791475554008
        ],
        [
         "Kenya",
         2022,
         "Kericho",
         "Economic affairs",
         2018200512.95,
         1040591,
         1939.475272177061
        ],
        [
         "Kenya",
         2022,
         "Kiambu",
         "General public services",
         17209657611.75,
         2974081,
         5786.5463690296265
        ],
        [
         "Kenya",
         2021,
         "Busia",
         "Recreation, culture and religion",
         18589146.45,
         1017150,
         18.275717888217077
        ],
        [
         "Kenya",
         2022,
         "Vihiga",
         "Economic affairs",
         1052128634.0999999,
         659515,
         1595.3066027307946
        ],
        [
         "Kenya",
         2022,
         "Kericho",
         "Environmental protection",
         162460917.95,
         1040591,
         156.12370081040484
        ],
        [
         "Kenya",
         2022,
         "Marsabit",
         "Environmental protection",
         101697298.35,
         575225,
         176.79568577513146
        ],
        [
         "Kenya",
         2022,
         "Kwale",
         "Environmental protection",
         30932722,
         1033550,
         29.928616902907454
        ],
        [
         "Kenya",
         2021,
         "Tana River",
         "General public services",
         2496300245.8500004,
         365734,
         6825.453050167609
        ],
        [
         "Kenya",
         2021,
         "Elgeyo Marakwet",
         "General public services",
         2860589.6,
         519409,
         5.507393210360236
        ],
        [
         "Kenya",
         2021,
         "Kitui",
         "Social protection",
         28707574,
         1276847,
         22.48317456985841
        ],
        [
         "Kenya",
         2022,
         "Migori",
         "Economic affairs",
         3493712586.9500003,
         1296920,
         2693.8535815239184
        ],
        [
         "Kenya",
         2022,
         "Laikipia",
         "Economic affairs",
         733743106.8999999,
         613653,
         1195.6970908640549
        ],
        [
         "Kenya",
         2021,
         "Vihiga",
         "Social protection",
         152110697.5,
         656555,
         231.6800534608677
        ],
        [
         "Kenya",
         2021,
         "Nakuru",
         "Environmental protection",
         4997452,
         2514149,
         1.9877310374206143
        ],
        [
         "Kenya",
         2022,
         "Kisii",
         "Education",
         172510649.54999998,
         1429418,
         120.68593619920834
        ],
        [
         "Kenya",
         2022,
         "Nyeri",
         "General public services",
         2180002205.450001,
         855511,
         2548.187230146662
        ],
        [
         "Kenya",
         2022,
         "Tana River",
         "Social protection",
         243061282.75,
         375292,
         647.6591101062639
        ],
        [
         "Kenya",
         2022,
         "Samburu",
         "Education",
         730928009.6500001,
         374075,
         1953.9611298536392
        ],
        [
         "Kenya",
         2022,
         "Kilifi",
         "Housing and community amenities",
         11743728.2,
         1724586,
         6.809592679054567
        ],
        [
         "Kenya",
         2021,
         "Kwale",
         "Economic affairs",
         3237065545.7,
         1005895,
         3218.0948764036007
        ],
        [
         "Kenya",
         2021,
         "Baringo",
         "Economic affairs",
         2588372892.7,
         758756,
         3411.337627247758
        ],
        [
         "Kenya",
         2022,
         "Siaya",
         "General public services",
         2827683202.55,
         1143321,
         2473.218984475926
        ],
        [
         "Kenya",
         2022,
         "Makueni",
         "Environmental protection",
         91509945.95,
         1119367,
         81.75151308730739
        ],
        [
         "Kenya",
         2021,
         "Siaya",
         "General public services",
         1909682874.75,
         1126518,
         1695.2084873477388
        ],
        [
         "Kenya",
         2021,
         "Nyandarua",
         "Housing and community amenities",
         229924937.5,
         711085,
         323.3438161401239
        ],
        [
         "Kenya",
         2022,
         "Kisii",
         "Social protection",
         15592206,
         1429418,
         10.908080071749481
        ],
        [
         "Kenya",
         2022,
         "Migori",
         "Education",
         695313704.25,
         1296920,
         536.1269039339358
        ],
        [
         "Kenya",
         2022,
         "Makueni",
         "Recreation, culture and religion",
         56341381.1,
         1119367,
         50.33325182893546
        ],
        [
         "Kenya",
         2021,
         "Machakos",
         "Public order and safety",
         266761240.29999998,
         1640927,
         162.56740263278013
        ],
        [
         "Kenya",
         2022,
         "Bomet",
         "Environmental protection",
         20121739,
         1015337,
         19.81779350107403
        ],
        [
         "Kenya",
         2022,
         "Kericho",
         "General public services",
         1972096447.4999995,
         1040591,
         1895.1696175538705
        ],
        [
         "Kenya",
         2022,
         "Tharaka Nithi",
         "Social protection",
         43292577.7,
         440960,
         98.17801546625545
        ],
        [
         "Kenya",
         2022,
         "Marsabit",
         "Education",
         479755185,
         575225,
         834.0304837237603
        ],
        [
         "Kenya",
         2021,
         "Tharaka Nithi",
         "Public order and safety",
         43204198.75,
         438471,
         98.53376563102235
        ],
        [
         "Kenya",
         2021,
         "Garissa",
         "Education",
         618436335,
         1093018,
         565.8061761105489
        ],
        [
         "Kenya",
         2021,
         "Tana River",
         "Education",
         270886962.5,
         365734,
         740.66661152641
        ],
        [
         "Kenya",
         2021,
         "Siaya",
         "Social protection",
         288591999.85,
         1126518,
         256.18054913458997
        ],
        [
         "Kenya",
         2021,
         "Kisumu",
         "Health",
         5036232673.45,
         1313476,
         3834.278413499752
        ],
        [
         "Kenya",
         2022,
         "Kitui",
         "Economic affairs",
         3420885113.799999,
         1289449,
         2652.982098400169
        ],
        [
         "Kenya",
         2022,
         "Embu",
         "Economic affairs",
         1385918599.5,
         700557,
         1978.3095444053804
        ],
        [
         "Kenya",
         2022,
         "Garissa",
         "General public services",
         4918599558.4,
         1134954,
         4333.743533570523
        ],
        [
         "Kenya",
         2021,
         "Baringo",
         "Social protection",
         101179475.25,
         758756,
         133.34916000664245
        ],
        [
         "Kenya",
         2021,
         "Nyeri",
         "Public order and safety",
         575543114.3499999,
         849245,
         677.7115135797089
        ],
        [
         "Kenya",
         2021,
         "Nyeri",
         "Economic affairs",
         2133133115.9000003,
         849245,
         2511.799440561911
        ],
        [
         "Kenya",
         2021,
         "Laikipia",
         "Housing and community amenities",
         3413063,
         598812,
         5.699723786430465
        ],
        [
         "Kenya",
         2021,
         "Tana River",
         "Recreation, culture and religion",
         18332956.9,
         365734,
         50.12647689304248
        ],
        [
         "Kenya",
         2021,
         "Busia",
         "Health",
         2279301960,
         1017150,
         2240.87102197316
        ],
        [
         "Kenya",
         2022,
         "Homa Bay",
         "Health",
         2827068242.8499994,
         1301586,
         2172.01801713448
        ],
        [
         "Kenya",
         2021,
         "Kitui",
         "Education",
         699155702.7,
         1276847,
         547.5641973548907
        ],
        [
         "Kenya",
         2022,
         "Garissa",
         "Housing and community amenities",
         13217616,
         1134954,
         11.645948646376858
        ],
        [
         "Kenya",
         2021,
         "Kilifi",
         "General public services",
         2548668861.7500005,
         1681452,
         1515.7547534809203
        ],
        [
         "Kenya",
         2021,
         "Garissa",
         "General public services",
         4711939856.2,
         1093018,
         4310.944427447672
        ],
        [
         "Kenya",
         2021,
         "West Pokot",
         "General public services",
         2150632351.3500004,
         708214,
         3036.698443337749
        ],
        [
         "Kenya",
         2021,
         "Kakamega",
         "Recreation, culture and religion",
         436003476.2,
         2099691,
         207.65125735167697
        ],
        [
         "Kenya",
         2021,
         "Wajir",
         "Health",
         2997255975.200001,
         893331,
         3355.1460491128155
        ],
        [
         "Kenya",
         2022,
         "Kakamega",
         "Recreation, culture and religion",
         562499722.25,
         2120889,
         265.21884089643544
        ],
        [
         "Kenya",
         2022,
         "West Pokot",
         "Recreation, culture and religion",
         1912454.45,
         720744,
         2.6534448431065676
        ],
        [
         "Kenya",
         2021,
         "Homa Bay",
         "Housing and community amenities",
         222703263.3,
         1282963,
         173.58510206451786
        ],
        [
         "Kenya",
         2021,
         "Kirinyaga",
         "Recreation, culture and religion",
         16320668.2,
         689786,
         23.660480496849747
        ],
        [
         "Kenya",
         2022,
         "Kajiado",
         "Health",
         2273988071.95,
         1410068,
         1612.67972321193
        ],
        [
         "Kenya",
         2022,
         "Kirinyaga",
         "Public order and safety",
         511353787.25,
         698687,
         731.8782047612164
        ],
        [
         "Kenya",
         2022,
         "Nyandarua",
         "Recreation, culture and religion",
         267687186.59999996,
         714743,
         374.5222920686176
        ],
        [
         "Kenya",
         2022,
         "Machakos",
         "General public services",
         2860096894.3,
         1680998,
         1701.4278983675174
        ],
        [
         "Kenya",
         2022,
         "Tharaka Nithi",
         "Environmental protection",
         3381908,
         440960,
         7.669421262699564
        ],
        [
         "Kenya",
         2022,
         "Marsabit",
         "Housing and community amenities",
         154735729,
         575225,
         269.000354643835
        ],
        [
         "Kenya",
         2021,
         "Bungoma",
         "General public services",
         3102356772.95,
         1905368,
         1628.2192064472583
        ],
        [
         "Kenya",
         2021,
         "Murang’A",
         "Public order and safety",
         225302252.24999994,
         1187274,
         189.7643275688678
        ],
        [
         "Kenya",
         2021,
         "Bomet",
         "Housing and community amenities",
         416192531.29999995,
         997889,
         417.0729723446194
        ],
        [
         "Kenya",
         2021,
         "Uasin Gishu",
         "Public order and safety",
         305473978.35,
         1343587,
         227.35705119951297
        ],
        [
         "Kenya",
         2021,
         "Nyamira",
         "Public order and safety",
         64153620.5,
         667673,
         96.08538985401536
        ],
        [
         "Kenya",
         2021,
         "West Pokot",
         "Housing and community amenities",
         25993203.95,
         708214,
         36.70247121632727
        ],
        [
         "Kenya",
         2021,
         "Nandi",
         "Health",
         4830509417,
         1004167,
         4810.464212625988
        ],
        [
         "Kenya",
         2022,
         "Vihiga",
         "Public order and safety",
         89123174,
         659515,
         135.1344154416503
        ],
        [
         "Kenya",
         2022,
         "Nakuru",
         "Education",
         841733445.9000001,
         2586081,
         325.4861104118549
        ],
        [
         "Kenya",
         2022,
         "Embu",
         "Housing and community amenities",
         1168328,
         700557,
         1.667712976959762
        ],
        [
         "Kenya",
         2022,
         "Mandera",
         "Public order and safety",
         147875853.45,
         1011130,
         146.24811196384243
        ],
        [
         "Kenya",
         2022,
         "Mandera",
         "Education",
         2771810747.3999996,
         1011130,
         2741.300077537013
        ],
        [
         "Kenya",
         2021,
         "Isiolo",
         "Education",
         308375135,
         331083,
         931.4133767061431
        ],
        [
         "Kenya",
         2021,
         "Tharaka Nithi",
         "Health",
         2207949759.05,
         438471,
         5035.566226842825
        ],
        [
         "Kenya",
         2022,
         "Narok",
         "Environmental protection",
         244027333,
         1388474,
         175.75218045134443
        ],
        [
         "Kenya",
         2021,
         "Garissa",
         "Environmental protection",
         2700000,
         1093018,
         2.4702246440589266
        ],
        [
         "Kenya",
         2022,
         "Narok",
         "Economic affairs",
         2481511745.3500004,
         1388474,
         1787.222335708123
        ],
        [
         "Kenya",
         2021,
         "Kisii",
         "Economic affairs",
         7431364075,
         1418331,
         5239.513255368458
        ],
        [
         "Kenya",
         2021,
         "Bomet",
         "Social protection",
         61417631.85,
         997889,
         61.54755874651389
        ],
        [
         "Kenya",
         2022,
         "Nyamira",
         "Education",
         656630520.5,
         667345,
         983.9446171020986
        ],
        [
         "Kenya",
         2022,
         "Kisumu",
         "Public order and safety",
         589928150.45,
         1334597,
         442.02718157616124
        ],
        [
         "Kenya",
         2022,
         "Kiambu",
         "Economic affairs",
         3354871708.0000005,
         2974081,
         1128.036428059626
        ],
        [
         "Kenya",
         2022,
         "Mandera",
         "Health",
         575365635,
         1011130,
         569.0323054404478
        ],
        [
         "Kenya",
         2021,
         "Murang’A",
         "Environmental protection",
         28003176,
         1187274,
         23.58611070401609
        ],
        [
         "Kenya",
         2022,
         "Bungoma",
         "Public order and safety",
         240485314,
         1939588,
         123.98783349866054
        ],
        [
         "Kenya",
         2022,
         "Kericho",
         "Social protection",
         81297548.60000001,
         1040591,
         78.12632302220565
        ],
        [
         "Kenya",
         2022,
         "Laikipia",
         "Recreation, culture and religion",
         3715692.5,
         613653,
         6.0550384337728325
        ],
        [
         "Kenya",
         2022,
         "Murang’A",
         "Recreation, culture and religion",
         39406133.45,
         1198892,
         32.86879339423401
        ],
        [
         "Kenya",
         2021,
         "Turkana",
         "Economic affairs",
         2960901198.600001,
         1059990,
         2793.3293697110357
        ],
        [
         "Kenya",
         2021,
         "Kakamega",
         "Public order and safety",
         349933084.99999994,
         2099691,
         166.65932511021856
        ],
        [
         "Kenya",
         2021,
         "Bungoma",
         "Economic affairs",
         3327223333.0000005,
         1905368,
         1746.2365973397268
        ],
        [
         "Kenya",
         2021,
         "Bomet",
         "Economic affairs",
         4758766317.75,
         997889,
         4768.833324898861
        ],
        [
         "Kenya",
         2022,
         "Uasin Gishu",
         "Social protection",
         839801164.6500001,
         1377083,
         609.840630267021
        ],
        [
         "Kenya",
         2021,
         "Kakamega",
         "Economic affairs",
         3016177838.1500006,
         2099691,
         1436.4865297560452
        ],
        [
         "Kenya",
         2022,
         "Kisumu",
         "Social protection",
         197827777.95,
         1334597,
         148.23034815004078
        ],
        [
         "Kenya",
         2022,
         "Nairobi City",
         "Public order and safety",
         3465426764.3999996,
         5315616,
         651.9332405501074
        ],
        [
         "Kenya",
         2021,
         "Nandi",
         "General public services",
         3865756646.8,
         1004167,
         3849.714884874727
        ],
        [
         "Kenya",
         2021,
         "Machakos",
         "Housing and community amenities",
         485492698.9,
         1640927,
         295.86489764626947
        ],
        [
         "Kenya",
         2021,
         "Kajiado",
         "Social protection",
         388625797.4,
         1345550,
         288.8230072461075
        ],
        [
         "Kenya",
         2022,
         "Tana River",
         "Recreation, culture and religion",
         65493769.5,
         375292,
         174.51416363791395
        ],
        [
         "Kenya",
         2021,
         "Murang’A",
         "Housing and community amenities",
         188677198,
         1187274,
         158.9163057558744
        ],
        [
         "Kenya",
         2022,
         "Nairobi City",
         "Economic affairs",
         2847694489.5,
         5315616,
         535.722386549367
        ],
        [
         "Kenya",
         2022,
         "Migori",
         "Health",
         2725721984.7500005,
         1296920,
         2101.688604347223
        ],
        [
         "Kenya",
         2022,
         "Busia",
         "General public services",
         2265276857,
         1034241,
         2190.2794967517243
        ],
        [
         "Kenya",
         2022,
         "Busia",
         "Health",
         2214393476.3499994,
         1034241,
         2141.08073103851
        ],
        [
         "Kenya",
         2022,
         "Vihiga",
         "Housing and community amenities",
         15564460,
         659515,
         23.59985747102037
        ],
        [
         "Kenya",
         2022,
         "Kakamega",
         "Housing and community amenities",
         306818890.7,
         2120889,
         144.6652279775132
        ],
        [
         "Kenya",
         2022,
         "Kajiado",
         "Education",
         746219161.5,
         1410068,
         529.2079257879761
        ],
        [
         "Kenya",
         2022,
         "Samburu",
         "Economic affairs",
         1487861880.6999998,
         374075,
         3977.4427072111203
        ],
        [
         "Kenya",
         2021,
         "Bomet",
         "General public services",
         1157169497.6,
         997889,
         1159.617450037028
        ],
        [
         "Kenya",
         2022,
         "Mombasa",
         "Health",
         2723622444.8000007,
         1425957,
         1910.0312595681362
        ],
        [
         "Kenya",
         2021,
         "Makueni",
         "Economic affairs",
         3239173032.250001,
         1108957,
         2920.9185137476034
        ],
        [
         "Kenya",
         2021,
         "Kiambu",
         "Social protection",
         116558610.25,
         2863073,
         40.711015838576245
        ],
        [
         "Kenya",
         2022,
         "Samburu",
         "Housing and community amenities",
         301317060.8,
         374075,
         805.4990598142084
        ],
        [
         "Kenya",
         2022,
         "Makueni",
         "Health",
         3251133966.2,
         1119367,
         2904.4397111939156
        ],
        [
         "Kenya",
         2022,
         "Wajir",
         "Social protection",
         107559767.55,
         910640,
         118.1144772357902
        ],
        [
         "Kenya",
         2021,
         "Vihiga",
         "Economic affairs",
         1338793457.65,
         656555,
         2039.1185165751538
        ],
        [
         "Kenya",
         2022,
         "Isiolo",
         "Environmental protection",
         77008319,
         351861,
         218.86005837532434
        ],
        [
         "Kenya",
         2022,
         "Wajir",
         "Environmental protection",
         77174670.5,
         910640,
         84.74772742247211
        ],
        [
         "Kenya",
         2021,
         "Elgeyo Marakwet",
         "Public order and safety",
         93748237.5,
         519409,
         180.49020617663538
        ],
        [
         "Kenya",
         2021,
         "Busia",
         "Education",
         2228102130.15,
         1017150,
         2190.534464090842
        ],
        [
         "Kenya",
         2021,
         "Lamu",
         "Housing and community amenities",
         10439380,
         168905,
         61.806222432728454
        ],
        [
         "Kenya",
         2021,
         "Trans Nzoia",
         "Economic affairs",
         1732291380.6,
         1128600,
         1534.902871345029
        ],
        [
         "Kenya",
         2021,
         "Kitui",
         "Environmental protection",
         21157414.55,
         1276847,
         16.570046802788433
        ],
        [
         "Kenya",
         2022,
         "Kilifi",
         "Education",
         543621078.8,
         1724586,
         315.21830677043647
        ],
        [
         "Kenya",
         2021,
         "Kirinyaga",
         "Health",
         2189376550.9,
         689786,
         3173.9938921636567
        ],
        [
         "Kenya",
         2022,
         "Trans Nzoia",
         "Public order and safety",
         196867956.35,
         1148366,
         171.4331113512591
        ],
        [
         "Kenya",
         2022,
         "Lamu",
         "Public order and safety",
         98885600.5,
         174605,
         566.3388820480513
        ],
        [
         "Kenya",
         2021,
         "Mombasa",
         "Recreation, culture and religion",
         369118741.2,
         1392834,
         265.0127303038266
        ],
        [
         "Kenya",
         2021,
         "Kisumu",
         "Social protection",
         388659461.7,
         1313476,
         295.901456669174
        ],
        [
         "Kenya",
         2022,
         "Kisumu",
         "Recreation, culture and religion",
         1282390,
         1334597,
         0.960881824251066
        ],
        [
         "Kenya",
         2022,
         "Nakuru",
         "General public services",
         4047081043.5000005,
         2586081,
         1564.947518465199
        ],
        [
         "Kenya",
         2022,
         "Baringo",
         "Public order and safety",
         164336625.25,
         771440,
         213.02580271958934
        ],
        [
         "Kenya",
         2022,
         "Samburu",
         "General public services",
         1911893541.0999997,
         374075,
         5110.9898846487995
        ],
        [
         "Kenya",
         2022,
         "Turkana",
         "Public order and safety",
         208851080.1,
         1080524,
         193.28684980620514
        ],
        [
         "Kenya",
         2022,
         "Mombasa",
         "Economic affairs",
         2949482043.7500005,
         1425957,
         2068.4228512851373
        ],
        [
         "Kenya",
         2021,
         "Mandera",
         "Education",
         2742904891.15,
         991914,
         2765.2648225047737
        ],
        [
         "Kenya",
         2021,
         "Kwale",
         "Housing and community amenities",
         312342750.1,
         1005895,
         310.51228020817285
        ],
        [
         "Kenya",
         2021,
         "Nairobi City",
         "Social protection",
         408131700.65,
         5148469,
         79.27244014676984
        ],
        [
         "Kenya",
         2021,
         "Nyandarua",
         "Public order and safety",
         186506078.19999996,
         711085,
         262.28380320214876
        ],
        [
         "Kenya",
         2022,
         "Kakamega",
         "Environmental protection",
         3737574,
         2120889,
         1.7622676151368601
        ],
        [
         "Kenya",
         2022,
         "Laikipia",
         "Housing and community amenities",
         1168325,
         613653,
         1.9038854205878566
        ],
        [
         "Kenya",
         2022,
         "Kitui",
         "Education",
         748830280.9000001,
         1289449,
         580.7366409218201
        ],
        [
         "Kenya",
         2022,
         "Kitui",
         "Environmental protection",
         21085463.35,
         1289449,
         16.352305015553156
        ],
        [
         "Kenya",
         2022,
         "Meru",
         "Environmental protection",
         11531075,
         1762084,
         6.543998469993485
        ],
        [
         "Kenya",
         2021,
         "Vihiga",
         "Health",
         1637893511.15,
         656555,
         2494.67829983779
        ],
        [
         "Kenya",
         2022,
         "Bomet",
         "General public services",
         1181925846.55,
         1015337,
         1164.0724671217536
        ],
        [
         "Kenya",
         2022,
         "Bomet",
         "Social protection",
         53989475.8,
         1015337,
         53.17394697524073
        ],
        [
         "Kenya",
         2022,
         "Turkana",
         "Recreation, culture and religion",
         58981190,
         1080524,
         54.585728776038295
        ],
        [
         "Kenya",
         2022,
         "Nyeri",
         "Health",
         2741090431.750001,
         855511,
         3204.038792896878
        ],
        [
         "Kenya",
         2021,
         "Tana River",
         "Public order and safety",
         77355955.75,
         365734,
         211.50878985820296
        ],
        [
         "Kenya",
         2021,
         "Tharaka Nithi",
         "General public services",
         1147233866.5,
         438471,
         2616.4418319569595
        ],
        [
         "Kenya",
         2021,
         "Kirinyaga",
         "General public services",
         1839684210.6,
         689786,
         2667.036168608815
        ],
        [
         "Kenya",
         2022,
         "Elgeyo Marakwet",
         "Economic affairs",
         2111553949.5500002,
         529318,
         3989.1973247650753
        ],
        [
         "Kenya",
         2021,
         "Nairobi City",
         "Economic affairs",
         3936642565.2000003,
         5148469,
         764.6239231895929
        ],
        [
         "Kenya",
         2022,
         "Murang’A",
         "Social protection",
         216983332.6,
         1198892,
         180.98655475222122
        ],
        [
         "Kenya",
         2021,
         "Lamu",
         "Environmental protection",
         7204433.65,
         168905,
         42.653761877978745
        ],
        [
         "Kenya",
         2021,
         "Kisii",
         "Environmental protection",
         1999990,
         1418331,
         1.4101010271932293
        ],
        [
         "Kenya",
         2022,
         "Nairobi City",
         "Education",
         824644905.35,
         5315616,
         155.1362824835353
        ],
        [
         "Kenya",
         2022,
         "Vihiga",
         "Recreation, culture and religion",
         16348635,
         659515,
         24.788875158260236
        ],
        [
         "Kenya",
         2022,
         "Taita Taveta",
         "Economic affairs",
         1115883401.65,
         393839,
         2833.349164633264
        ],
        [
         "Kenya",
         2021,
         "Mombasa",
         "Social protection",
         316407176.15000004,
         1392834,
         227.16790094871322
        ],
        [
         "Kenya",
         2022,
         "Kiambu",
         "Social protection",
         86825361.25,
         2974081,
         29.194013629756554
        ],
        [
         "Kenya",
         2022,
         "Embu",
         "Social protection",
         39255863.6,
         700557,
         56.03521712009159
        ],
        [
         "Kenya",
         2022,
         "Kilifi",
         "Public order and safety",
         259541262.5,
         1724586,
         150.4948216557481
        ],
        [
         "Kenya",
         2022,
         "Kajiado",
         "Environmental protection",
         159770405.6,
         1410068,
         113.30687995188885
        ],
        [
         "Kenya",
         2022,
         "Laikipia",
         "General public services",
         4369170901.000001,
         613653,
         7119.937327773189
        ],
        [
         "Kenya",
         2022,
         "Taita Taveta",
         "Public order and safety",
         225977147.95,
         393839,
         573.7805244021034
        ],
        [
         "Kenya",
         2022,
         "Makueni",
         "Education",
         686981533.7999998,
         1119367,
         613.7232326841865
        ],
        [
         "Kenya",
         2022,
         "Isiolo",
         "Economic affairs",
         1105528346.95,
         351861,
         3141.9462428345287
        ],
        [
         "Kenya",
         2021,
         "Taita Taveta",
         "Social protection",
         63106214.15,
         387471,
         162.86693494480878
        ],
        [
         "Kenya",
         2021,
         "Homa Bay",
         "Social protection",
         21048098,
         1282963,
         16.405849584126745
        ],
        [
         "Kenya",
         2021,
         "Busia",
         "Environmental protection",
         16502960,
         1017150,
         16.22470628717495
        ],
        [
         "Kenya",
         2022,
         "Marsabit",
         "Health",
         1687656984.15,
         575225,
         2933.9075738189404
        ],
        [
         "Kenya",
         2022,
         "Kiambu",
         "Environmental protection",
         268062729.8,
         2974081,
         90.13296201414823
        ],
        [
         "Kenya",
         2021,
         "Kwale",
         "Education",
         1948692780.8000004,
         1005895,
         1937.2725590643163
        ],
        [
         "Kenya",
         2021,
         "Isiolo",
         "Economic affairs",
         1103665886.95,
         331083,
         3333.50213375498
        ],
        [
         "Kenya",
         2022,
         "Bungoma",
         "Housing and community amenities",
         2958251,
         1939588,
         1.5251955569945783
        ],
        [
         "Kenya",
         2022,
         "Laikipia",
         "Education",
         88837840.99999999,
         613653,
         144.76885308146458
        ],
        [
         "Kenya",
         2022,
         "Uasin Gishu",
         "Health",
         2616223619.95,
         1377083,
         1899.8300174717135
        ],
        [
         "Kenya",
         2022,
         "Homa Bay",
         "Economic affairs",
         2722008576.5,
         1301586,
         2091.3013634903878
        ],
        [
         "Kenya",
         2022,
         "Kisumu",
         "Education",
         431239184.65,
         1334597,
         323.12314852348686
        ],
        [
         "Kenya",
         2022,
         "West Pokot",
         "Health",
         2243400646.450001,
         720744,
         3112.617859392518
        ],
        [
         "Kenya",
         2022,
         "Tharaka Nithi",
         "General public services",
         1369203901.15,
         440960,
         3105.0523883118653
        ],
        [
         "Kenya",
         2021,
         "Mombasa",
         "Health",
         2956099991.85,
         1392834,
         2122.363463162157
        ],
        [
         "Kenya",
         2021,
         "Makueni",
         "Environmental protection",
         129828807.14999999,
         1108957,
         117.0728956578118
        ],
        [
         "Kenya",
         2022,
         "Trans Nzoia",
         "Housing and community amenities",
         8579322,
         1148366,
         7.470895167568528
        ],
        [
         "Kenya",
         2022,
         "Turkana",
         "Environmental protection",
         8914738,
         1080524,
         8.250384072912771
        ],
        [
         "Kenya",
         2021,
         "Narok",
         "Economic affairs",
         1271037609.2,
         1348631,
         942.46506954089
        ],
        [
         "Kenya",
         2021,
         "Tana River",
         "Social protection",
         96994905.35,
         365734,
         265.20614804748806
        ],
        [
         "Kenya",
         2021,
         "Tharaka Nithi",
         "Environmental protection",
         3093090,
         438471,
         7.054263565891473
        ],
        [
         "Kenya",
         2022,
         "Narok",
         "Housing and community amenities",
         48074537.5,
         1388474,
         34.62400988423262
        ],
        [
         "Kenya",
         2021,
         "Kisumu",
         "Public order and safety",
         617327144.95,
         1313476,
         469.9949941605328
        ],
        [
         "Kenya",
         2021,
         "Vihiga",
         "Recreation, culture and religion",
         17983512.2,
         656555,
         27.390717000099002
        ],
        [
         "Kenya",
         2022,
         "Nyamira",
         "Social protection",
         230839496.05,
         667345,
         345.90728341412614
        ],
        [
         "Kenya",
         2022,
         "Nyeri",
         "Recreation, culture and religion",
         2059798.55,
         855511,
         2.407682133835801
        ],
        [
         "Kenya",
         2022,
         "Busia",
         "Public order and safety",
         201142017.5,
         1034241,
         194.48273419831548
        ],
        [
         "Kenya",
         2022,
         "Narok",
         "General public services",
         3644209791.2,
         1388474,
         2624.615074679108
        ],
        [
         "Kenya",
         2022,
         "Uasin Gishu",
         "Housing and community amenities",
         15950914,
         1377083,
         11.583117357486804
        ],
        [
         "Kenya",
         2022,
         "Lamu",
         "Economic affairs",
         1303240692.1999996,
         174605,
         7463.93684144211
        ],
        [
         "Kenya",
         2021,
         "Marsabit",
         "Public order and safety",
         173235240.5,
         550487,
         314.6945168550756
        ],
        [
         "Kenya",
         2021,
         "Nakuru",
         "Public order and safety",
         645243783.6500002,
         2514149,
         256.64500538750895
        ],
        [
         "Kenya",
         2022,
         "Taita Taveta",
         "Education",
         137552629.55,
         393839,
         349.26106746665516
        ],
        [
         "Kenya",
         2022,
         "Vihiga",
         "General public services",
         1978251313.0500002,
         659515,
         2999.5546925392146
        ],
        [
         "Kenya",
         2022,
         "Nakuru",
         "Social protection",
         910386897.7499999,
         2586081,
         352.0334041161123
        ],
        [
         "Kenya",
         2021,
         "Laikipia",
         "General public services",
         4379626046.799999,
         598812,
         7313.85818387073
        ],
        [
         "Kenya",
         2021,
         "Busia",
         "Social protection",
         323743763.90000004,
         1017150,
         318.28517317996364
        ],
        [
         "Kenya",
         2022,
         "Nandi",
         "Social protection",
         73510502.8,
         1018897,
         72.14713832703403
        ],
        [
         "Kenya",
         2022,
         "Trans Nzoia",
         "Education",
         466086276.55,
         1148366,
         405.8691014450097
        ],
        [
         "Kenya",
         2022,
         "Taita Taveta",
         "Housing and community amenities",
         1118338,
         393839,
         2.839581656463682
        ],
        [
         "Kenya",
         2021,
         "Elgeyo Marakwet",
         "Education",
         1105122203.2499998,
         519409,
         2127.6531659058655
        ],
        [
         "Kenya",
         2021,
         "Taita Taveta",
         "General public services",
         3517823805.8,
         387471,
         9078.934438448297
        ],
        [
         "Kenya",
         2021,
         "Tana River",
         "Housing and community amenities",
         4585285,
         365734,
         12.537212837745466
        ],
        [
         "Kenya",
         2021,
         "Kilifi",
         "Environmental protection",
         156496559.45,
         1681452,
         93.07227292245035
        ],
        [
         "Kenya",
         2021,
         "Mandera",
         "Health",
         526091818,
         991914,
         530.380474516944
        ],
        [
         "Kenya",
         2022,
         "Nairobi City",
         "Health",
         77520872,
         5315616,
         14.583610253261334
        ],
        [
         "Kenya",
         2022,
         "Kericho",
         "Education",
         572319343.8,
         1040591,
         549.9945163854002
        ],
        [
         "Kenya",
         2022,
         "Embu",
         "Health",
         2263966108.1499996,
         700557,
         3231.6658147017297
        ],
        [
         "Kenya",
         2021,
         "Marsabit",
         "Housing and community amenities",
         576343895.4,
         550487,
         1046.970946452868
        ],
        [
         "Kenya",
         2021,
         "Turkana",
         "Recreation, culture and religion",
         58569279.4,
         1059990,
         55.25455843923056
        ],
        [
         "Kenya",
         2022,
         "Nyamira",
         "Economic affairs",
         2101507444.3499997,
         667345,
         3149.057001026455
        ],
        [
         "Kenya",
         2022,
         "West Pokot",
         "Education",
         989872388.5,
         720744,
         1373.403578108177
        ],
        [
         "Kenya",
         2022,
         "Isiolo",
         "Social protection",
         17581580.45,
         351861,
         49.96740317909629
        ],
        [
         "Kenya",
         2022,
         "Garissa",
         "Environmental protection",
         1500000,
         1134954,
         1.3216394673264291
        ],
        [
         "Kenya",
         2022,
         "Garissa",
         "Health",
         2270324043.4,
         1134954,
         2000.3665729183738
        ],
        [
         "Kenya",
         2021,
         "Nyeri",
         "General public services",
         2357870385.1,
         849245,
         2776.431283198606
        ],
        [
         "Kenya",
         2021,
         "Machakos",
         "Social protection",
         589015058,
         1640927,
         358.9526273868368
        ],
        [
         "Kenya",
         2021,
         "Machakos",
         "Health",
         3292617403.35,
         1640927,
         2006.559343194426
        ],
        [
         "Kenya",
         2021,
         "Nyandarua",
         "Health",
         825658909,
         711085,
         1161.1254758573166
        ],
        [
         "Kenya",
         2021,
         "Samburu",
         "Environmental protection",
         18584372.3,
         362681,
         51.24164844587944
        ],
        [
         "Kenya",
         2022,
         "Baringo",
         "General public services",
         4683786673.349999,
         771440,
         6071.485369374157
        ],
        [
         "Kenya",
         2022,
         "Trans Nzoia",
         "General public services",
         3404398087.15,
         1148366,
         2964.5584135632716
        ],
        [
         "Kenya",
         2022,
         "Marsabit",
         "General public services",
         4347092732.7,
         575225,
         7557.2041074362205
        ],
        [
         "Kenya",
         2021,
         "Embu",
         "Public order and safety",
         221938319.9,
         690267,
         321.52532266499776
        ],
        [
         "Kenya",
         2021,
         "Kirinyaga",
         "Public order and safety",
         208858355.95000002,
         689786,
         302.78717739994727
        ],
        [
         "Kenya",
         2021,
         "Lamu",
         "General public services",
         884889387.4,
         168905,
         5238.976865101684
        ],
        [
         "Kenya",
         2021,
         "Laikipia",
         "Economic affairs",
         1269650193.7,
         598812,
         2120.281814158701
        ],
        [
         "Kenya",
         2021,
         "Isiolo",
         "Environmental protection",
         12142900,
         331083,
         36.67630171286354
        ]
       ],
       "datasetInfos": [],
       "dbfsResultPath": null,
       "isJsonSchema": true,
       "metadata": {},
       "overflow": false,
       "plotOptions": {
        "customPlotOptions": {},
        "displayType": "table",
        "pivotAggregation": null,
        "pivotColumns": null,
        "xColumns": null,
        "yColumns": null
       },
       "removedWidgets": [],
       "schema": [
        {
         "metadata": "{}",
         "name": "country_name",
         "type": "\"string\""
        },
        {
         "metadata": "{}",
         "name": "year",
         "type": "\"integer\""
        },
        {
         "metadata": "{}",
         "name": "geo1",
         "type": "\"string\""
        },
        {
         "metadata": "{}",
         "name": "func",
         "type": "\"string\""
        },
        {
         "metadata": "{}",
         "name": "expenditure",
         "type": "\"double\""
        },
        {
         "metadata": "{}",
         "name": "population",
         "type": "\"long\""
        },
        {
         "metadata": "{}",
         "name": "per_capita_spending",
         "type": "\"double\""
        }
       ],
       "type": "table"
      }
     },
     "output_type": "display_data"
    }
   ],
   "source": [
    "display(agg_with_pop_df)"
   ]
  },
  {
   "cell_type": "code",
   "execution_count": 0,
   "metadata": {
    "application/vnd.databricks.v1+cell": {
     "cellMetadata": {},
     "inputWidgets": {},
     "nuid": "5682dff6-b715-4b10-b8a1-24c504bb1aca",
     "showTitle": false,
     "title": ""
    }
   },
   "outputs": [],
   "source": []
  },
  {
   "cell_type": "code",
   "execution_count": 0,
   "metadata": {
    "application/vnd.databricks.v1+cell": {
     "cellMetadata": {},
     "inputWidgets": {},
     "nuid": "1e88441f-7913-4c0a-bf90-fdfedba397a3",
     "showTitle": false,
     "title": ""
    }
   },
   "outputs": [],
   "source": []
  },
  {
   "cell_type": "code",
   "execution_count": 0,
   "metadata": {
    "application/vnd.databricks.v1+cell": {
     "cellMetadata": {},
     "inputWidgets": {},
     "nuid": "7071f22b-e2d5-42f6-876f-0c7c993a6415",
     "showTitle": false,
     "title": ""
    }
   },
   "outputs": [],
   "source": []
  },
  {
   "cell_type": "code",
   "execution_count": 0,
   "metadata": {
    "application/vnd.databricks.v1+cell": {
     "cellMetadata": {},
     "inputWidgets": {},
     "nuid": "ced96066-5aef-4f1e-8696-ae176b69ab7f",
     "showTitle": false,
     "title": ""
    }
   },
   "outputs": [],
   "source": []
  },
  {
   "cell_type": "code",
   "execution_count": 0,
   "metadata": {
    "application/vnd.databricks.v1+cell": {
     "cellMetadata": {
      "byteLimit": 2048000,
      "rowLimit": 10000
     },
     "inputWidgets": {},
     "nuid": "c563a7aa-34cf-45ff-9d41-b1aacbf33358",
     "showTitle": false,
     "title": ""
    }
   },
   "outputs": [
    {
     "data": {
      "text/html": [
       "<div>\n",
       "<style scoped>\n",
       "    .dataframe tbody tr th:only-of-type {\n",
       "        vertical-align: middle;\n",
       "    }\n",
       "\n",
       "    .dataframe tbody tr th {\n",
       "        vertical-align: top;\n",
       "    }\n",
       "\n",
       "    .dataframe thead th {\n",
       "        text-align: right;\n",
       "    }\n",
       "</style>\n",
       "<table border=\"1\" class=\"dataframe\">\n",
       "  <thead>\n",
       "    <tr style=\"text-align: right;\">\n",
       "      <th></th>\n",
       "      <th>country_name</th>\n",
       "      <th>year</th>\n",
       "      <th>geo1</th>\n",
       "      <th>func</th>\n",
       "      <th>expenditure</th>\n",
       "      <th>country_name</th>\n",
       "      <th>adm1_name</th>\n",
       "      <th>year</th>\n",
       "      <th>population</th>\n",
       "      <th>per_capita_spending</th>\n",
       "    </tr>\n",
       "  </thead>\n",
       "  <tbody>\n",
       "    <tr>\n",
       "      <th>0</th>\n",
       "      <td>Kenya</td>\n",
       "      <td>2016</td>\n",
       "      <td>Tharaka Nithi</td>\n",
       "      <td>Education</td>\n",
       "      <td>7.485580e+06</td>\n",
       "      <td>Kenya</td>\n",
       "      <td>Tharaka Nithi</td>\n",
       "      <td>2016</td>\n",
       "      <td>423626</td>\n",
       "      <td>17.670256</td>\n",
       "    </tr>\n",
       "    <tr>\n",
       "      <th>1</th>\n",
       "      <td>Kenya</td>\n",
       "      <td>2016</td>\n",
       "      <td>Murang’A</td>\n",
       "      <td>Education</td>\n",
       "      <td>2.018315e+08</td>\n",
       "      <td>Kenya</td>\n",
       "      <td>Murang’A</td>\n",
       "      <td>2016</td>\n",
       "      <td>1123956</td>\n",
       "      <td>179.572463</td>\n",
       "    </tr>\n",
       "    <tr>\n",
       "      <th>2</th>\n",
       "      <td>Kenya</td>\n",
       "      <td>2016</td>\n",
       "      <td>Kisii</td>\n",
       "      <td>Health</td>\n",
       "      <td>2.465505e+09</td>\n",
       "      <td>Kenya</td>\n",
       "      <td>Kisii</td>\n",
       "      <td>2016</td>\n",
       "      <td>1355863</td>\n",
       "      <td>1818.402921</td>\n",
       "    </tr>\n",
       "    <tr>\n",
       "      <th>3</th>\n",
       "      <td>Kenya</td>\n",
       "      <td>2017</td>\n",
       "      <td>Turkana</td>\n",
       "      <td>Education</td>\n",
       "      <td>5.178628e+08</td>\n",
       "      <td>Kenya</td>\n",
       "      <td>Turkana</td>\n",
       "      <td>2017</td>\n",
       "      <td>977164</td>\n",
       "      <td>529.965118</td>\n",
       "    </tr>\n",
       "    <tr>\n",
       "      <th>4</th>\n",
       "      <td>Kenya</td>\n",
       "      <td>2018</td>\n",
       "      <td>Kitui</td>\n",
       "      <td>Housing and community amenities</td>\n",
       "      <td>2.326982e+08</td>\n",
       "      <td>Kenya</td>\n",
       "      <td>Kitui</td>\n",
       "      <td>2018</td>\n",
       "      <td>1236405</td>\n",
       "      <td>188.205521</td>\n",
       "    </tr>\n",
       "    <tr>\n",
       "      <th>...</th>\n",
       "      <td>...</td>\n",
       "      <td>...</td>\n",
       "      <td>...</td>\n",
       "      <td>...</td>\n",
       "      <td>...</td>\n",
       "      <td>...</td>\n",
       "      <td>...</td>\n",
       "      <td>...</td>\n",
       "      <td>...</td>\n",
       "      <td>...</td>\n",
       "    </tr>\n",
       "    <tr>\n",
       "      <th>2751</th>\n",
       "      <td>Kenya</td>\n",
       "      <td>2021</td>\n",
       "      <td>Embu</td>\n",
       "      <td>Public order and safety</td>\n",
       "      <td>2.219383e+08</td>\n",
       "      <td>Kenya</td>\n",
       "      <td>Embu</td>\n",
       "      <td>2021</td>\n",
       "      <td>690267</td>\n",
       "      <td>321.525323</td>\n",
       "    </tr>\n",
       "    <tr>\n",
       "      <th>2752</th>\n",
       "      <td>Kenya</td>\n",
       "      <td>2021</td>\n",
       "      <td>Kirinyaga</td>\n",
       "      <td>Public order and safety</td>\n",
       "      <td>2.088584e+08</td>\n",
       "      <td>Kenya</td>\n",
       "      <td>Kirinyaga</td>\n",
       "      <td>2021</td>\n",
       "      <td>689786</td>\n",
       "      <td>302.787177</td>\n",
       "    </tr>\n",
       "    <tr>\n",
       "      <th>2753</th>\n",
       "      <td>Kenya</td>\n",
       "      <td>2021</td>\n",
       "      <td>Lamu</td>\n",
       "      <td>General public services</td>\n",
       "      <td>8.848894e+08</td>\n",
       "      <td>Kenya</td>\n",
       "      <td>Lamu</td>\n",
       "      <td>2021</td>\n",
       "      <td>168905</td>\n",
       "      <td>5238.976865</td>\n",
       "    </tr>\n",
       "    <tr>\n",
       "      <th>2754</th>\n",
       "      <td>Kenya</td>\n",
       "      <td>2021</td>\n",
       "      <td>Laikipia</td>\n",
       "      <td>Economic affairs</td>\n",
       "      <td>1.269650e+09</td>\n",
       "      <td>Kenya</td>\n",
       "      <td>Laikipia</td>\n",
       "      <td>2021</td>\n",
       "      <td>598812</td>\n",
       "      <td>2120.281814</td>\n",
       "    </tr>\n",
       "    <tr>\n",
       "      <th>2755</th>\n",
       "      <td>Kenya</td>\n",
       "      <td>2021</td>\n",
       "      <td>Isiolo</td>\n",
       "      <td>Environmental protection</td>\n",
       "      <td>1.214290e+07</td>\n",
       "      <td>Kenya</td>\n",
       "      <td>Isiolo</td>\n",
       "      <td>2021</td>\n",
       "      <td>331083</td>\n",
       "      <td>36.676302</td>\n",
       "    </tr>\n",
       "  </tbody>\n",
       "</table>\n",
       "<p>2756 rows × 10 columns</p>\n",
       "</div>"
      ],
      "text/plain": [
       "     country_name  year           geo1  ...  year  population per_capita_spending\n",
       "0           Kenya  2016  Tharaka Nithi  ...  2016      423626           17.670256\n",
       "1           Kenya  2016       Murang’A  ...  2016     1123956          179.572463\n",
       "2           Kenya  2016          Kisii  ...  2016     1355863         1818.402921\n",
       "3           Kenya  2017        Turkana  ...  2017      977164          529.965118\n",
       "4           Kenya  2018          Kitui  ...  2018     1236405          188.205521\n",
       "...           ...   ...            ...  ...   ...         ...                 ...\n",
       "2751        Kenya  2021           Embu  ...  2021      690267          321.525323\n",
       "2752        Kenya  2021      Kirinyaga  ...  2021      689786          302.787177\n",
       "2753        Kenya  2021           Lamu  ...  2021      168905         5238.976865\n",
       "2754        Kenya  2021       Laikipia  ...  2021      598812         2120.281814\n",
       "2755        Kenya  2021         Isiolo  ...  2021      331083           36.676302\n",
       "\n",
       "[2756 rows x 10 columns]"
      ]
     },
     "execution_count": 16,
     "metadata": {},
     "output_type": "execute_result"
    }
   ],
   "source": [
    "agg_with_pop_df.toPandas()"
   ]
  },
  {
   "cell_type": "code",
   "execution_count": 0,
   "metadata": {
    "application/vnd.databricks.v1+cell": {
     "cellMetadata": {},
     "inputWidgets": {},
     "nuid": "abd3a1f9-43ba-4640-99cc-718aebf32262",
     "showTitle": false,
     "title": ""
    }
   },
   "outputs": [],
   "source": []
  },
  {
   "cell_type": "code",
   "execution_count": 0,
   "metadata": {
    "application/vnd.databricks.v1+cell": {
     "cellMetadata": {},
     "inputWidgets": {},
     "nuid": "600280ef-985f-4a17-b9ce-b1284bdcd128",
     "showTitle": false,
     "title": ""
    }
   },
   "outputs": [],
   "source": []
  },
  {
   "cell_type": "code",
   "execution_count": 0,
   "metadata": {
    "application/vnd.databricks.v1+cell": {
     "cellMetadata": {},
     "inputWidgets": {},
     "nuid": "25c39dad-0c29-4942-abe7-d520cb78f9f4",
     "showTitle": false,
     "title": ""
    }
   },
   "outputs": [],
   "source": []
  },
  {
   "cell_type": "code",
   "execution_count": 0,
   "metadata": {
    "application/vnd.databricks.v1+cell": {
     "cellMetadata": {},
     "inputWidgets": {},
     "nuid": "29eb459a-0c21-4b1b-abe2-6eaf97697539",
     "showTitle": false,
     "title": ""
    }
   },
   "outputs": [],
   "source": []
  },
  {
   "cell_type": "code",
   "execution_count": 0,
   "metadata": {
    "application/vnd.databricks.v1+cell": {
     "cellMetadata": {},
     "inputWidgets": {},
     "nuid": "55921402-dece-44b2-ab86-2c3d847f2b1b",
     "showTitle": false,
     "title": ""
    }
   },
   "outputs": [],
   "source": []
  }
 ],
 "metadata": {
  "application/vnd.databricks.v1+notebook": {
   "dashboards": [],
   "environmentMetadata": null,
   "language": "python",
   "notebookMetadata": {
    "pythonIndentUnit": 4
   },
   "notebookName": "kenya_func_agg",
   "widgets": {}
  },
  "kernelspec": {
   "display_name": "Python 3 (ipykernel)",
   "language": "python",
   "name": "python3"
  },
  "language_info": {
   "codemirror_mode": {
    "name": "ipython",
    "version": 3
   },
   "file_extension": ".py",
   "mimetype": "text/x-python",
   "name": "python",
   "nbconvert_exporter": "python",
   "pygments_lexer": "ipython3",
   "version": "3.10.12"
  }
 },
 "nbformat": 4,
 "nbformat_minor": 1
}
