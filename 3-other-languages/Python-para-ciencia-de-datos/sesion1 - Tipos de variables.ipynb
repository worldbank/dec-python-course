{
 "cells": [
  {
   "cell_type": "markdown",
   "metadata": {
    "colab_type": "text",
    "id": "view-in-github"
   },
   "source": [
    "<a href=\"https://colab.research.google.com/github/worldbank/dec-python-course/blob/main/1-foundations/1-types-and-syntax/foundations-s1.ipynb\" target=\"_parent\"><img src=\"https://colab.research.google.com/assets/colab-badge.svg\" alt=\"Open In Colab\"/></a>"
   ]
  },
  {
   "cell_type": "markdown",
   "metadata": {
    "id": "DjE4ro-grt3Q"
   },
   "source": [
    "# Fundamentos de Python para Ciencia de Datos - Sesión 1\n",
    "# Tipos de variables y sintaxis de Python\n",
    "\n",
    " \n",
    "\n",
    "# Introducción\n",
    "\n",
    "## Los componentes básicos de Python\n",
    "\n",
    "#### Los átomos de Python\n",
    "En esta sesión cubriremos los componentes básicos que forman cualquier objeto en Python. **Piensa en estos componentes como los átomos de Python**. \n",
    "\n",
    "Hay 5 tipos de \"átomos\" en Python que probablemente usaras haciendo ciencia de datos. Veremos estos cinco tipos en la sesion de hoy y manana.\n",
    "\n",
    "<img src=https://upload.wikimedia.org/wikipedia/commons/6/6f/Stylised_atom_with_three_Bohr_model_orbits_and_stylised_nucleus.svg width=\"200\">\n",
    "\n",
    "#### Los contenedores de átomos de Python\n",
    "Para organizar y dar estructura a estos átomos, existen 4 tipos principales de contenedores en los que se pueden almacenar los atomos. Estos contenedores son como los enlaces químicos entre átomos.\n",
    "\n",
    "<img src=https://upload.wikimedia.org/wikipedia/commons/e/e8/Sucrose_molecule_3d_model.png width=\"300\">\n",
    "\n",
    "\n",
    "## ¿Realmente necesito preocuparme por estos componentes básicos?\n",
    "\n",
    "Quizás estés pensando ahora:\n",
    "\n",
    "\"**_No soy muy técnico y solo quiero usar Python para hacer analisis de datos. ¿Entonces por qué estamos hablando de la estructura interna de Python y ¡QUÍMICA!?!_**\"\n",
    "\n",
    "Después de casi cualquier operación, Python casi siempre devuelve el resultado en forma de un átomo o contenedor de átomos que necesitas saber cómo identificar y manejar. Por eso es que tenemos que comenzar con los atomos y sus contenedores, pues son la forma de establecer las bases que nos permitiran realizar cualquier operacion (incluyendo analisis de datos o ciencia de datos) en Python.\n",
    "\n",
    "---\n",
    "\n",
    "#### El alcance de esta sesión\n",
    "Esta sesión te mostrará cómo identificar los 5 tipos basicos de variavbles en Python (los átomos), los 4 tipos basicos de contenedores, y cómo operar con ellos. Usaremos la mayor parte del tiempo en 3 de los átomos y 2 de los contenedores.\n",
    "\n",
    "Después de esta sesión sabrás lo suficiente para poder usarlos en relación con otros objetos en Python.\n",
    "\n",
    "Verás cómo regresamos a estos tipos básicos cuando, en las siguientes sesiones, interactuemos con tipos de estructuras mas complejas en Python, muchas de las cuales han sido desarrolladas por otros usuarios.\n",
    "\n",
    "---\n",
    "\n",
    "## Google Colab\n",
    "\n",
    "<img src=https://miro.medium.com/max/986/1*pimj8lXWwZnqLs2xVCV2Aw.png width=\"500\">\n",
    "\n",
    "Haz clic en este enlace para abrir el archivo que estás viendo actualmente en Google Colab: https://colab.research.google.com/github/worldbank/dec-python-course/blob/main/1-foundations/1-types-and-syntax/foundations-s1.ipynb. UPDATE THIS\n",
    "\n",
    "Esto abrirá una copia exacta de este archivo en Google Colab. Dado que es una copia, puedes hacerle cambios sin afectar el archivo de otra persona. A lo largo de este curso, esperamos que siempre abras el archivo de cada sesión en Colab y sigas el contenido desde ahí.\n",
    "\n",
    "### ¿Qué es Colab?\n",
    "\n",
    "* Es como Google Docs, pero para código en Python\n",
    "* No requiere instalar Python en tu computadora\n",
    "* Se ejecuta en un servidor de Google. Todos los archivos que guardes en Colab se almacenan en tu Google Drive, así que **no debe usarse con informacion confidencial o restringida**\n",
    "* Necesitas iniciar sesión con una cuenta de Google para ejecutar código en Google Colab.\n",
    "\n",
    "---\n",
    "\n",
    "### Cómo ejecutar código en Colab\n",
    "\n",
    "Jupyter Notebook y Colab están organizados en celdas. Una celda puede ser de código o de texto. El único propósito de las celdas de texto es proporcionar información a una persona. Esta información puede ser unos pocos comentarios sobre el código o un documento completo de investigación. Puedes formatear este texto usando [markdown](https://commonmark.org/help).\n",
    "\n",
    "Las celdas de código son donde escribes tu código en Python. Al lado de cada celda de código hay un botón de \"play\". Puedes ejecutar el código haciendo clic en el ícono de \"play\" o seleccionando la celda y presionando `CTRL-ENTER` en tu teclado.\n",
    "\n",
    "Prueba ejecutar la celda de abajo que dice `2 + 2`."
   ]
  },
  {
   "cell_type": "code",
   "execution_count": null,
   "metadata": {
    "id": "DRiJg5lzrt3S"
   },
   "outputs": [],
   "source": [
    "2 + 2"
   ]
  },
  {
   "cell_type": "markdown",
   "metadata": {},
   "source": [
    "### ¿Qué podemos usar para datos confidenciales or restringidos?\n",
    "\n",
    "Existen alternativas a Google Colab que tambien organizan texto y código Python en bloques. Estas se llaman notebooks. Puedes instalar alguna herramiendo para usar notebooks en tu propia computadora y asi no correras de que algun archivo o dato que analisis sea compartido con Google o con terceras partes.\n",
    "\n",
    "**Jupyter Notebooks**. La herramienta más común para ejecutar código Python en notebooks en tu propia computadora se llama _Jupyter Notebooks_. Puedes instalar _Jupyter Notebooks_ en tu computadora y leer datos y otros archivos directamente desde ahi, de forma que no sea necesario compartir archivos con un servidor de Google.\n",
    "\n",
    "Una de las formas más sencillas de instalar y usar Python y __Jupyter Notebooks__ en computadoras con Windows es a traves de Anaconda (https://www.anaconda.com/).\n",
    "\n",
    "En una de las siguientes sesiones exploraremos como instalar y ejecutar Python sin usar Google colab.\n",
    "\n",
    "# Variables en Python\n",
    "\n",
    "Los átomos, contenedores y objetos en Python representan en general información que podemos tener. Todos ellos son llamados \"variables\".\n",
    "\n",
    "Todas las variables consisten en tres cosas:\n",
    "\n",
    "* El **nombre** de la variable, para que pueda ser identificada y accedida de forma única. No puede haber dos variables con el mismo nombre\n",
    "* El \"*tipo*\" de información almacenada (átomo, contenedor u objeto). Por ejemplo: numero o texto\n",
    "* La información o dato que la variable contiene\n",
    "\n",
    "Las variables solo se almacenan en la memoria temporal, por lo tanto, al reiniciar Python, necesitas volver a crearlas ejecutando tu código otra vez.\n",
    "\n",
    "**Para usuarios de Stata o R:** En Stata o R, \"variable\" casi siempre significa una columna en un dataset o dataframe. En Python, el termino \"variable\" tiene un significado mas amplio y se refiere a cualquier cosa que el usuario haya creado. Puede ser un numero individual o una lista conteniendo miles de numeros, por ejemplo."
   ]
  },
  {
   "cell_type": "code",
   "execution_count": null,
   "metadata": {
    "id": "oRNy7uX5rt3T"
   },
   "outputs": [],
   "source": [
    "# Creando variables con los nombres \"mi_texto\" y \"mi_numero\"\n",
    "mi_texto = 'Hola mundo'\n",
    "mi_numero = 42"
   ]
  },
  {
   "cell_type": "code",
   "execution_count": null,
   "metadata": {
    "id": "rTV2EwMFrt3U"
   },
   "outputs": [],
   "source": [
    "# Accede a las variables mediante sus nombres\n",
    "# y muestra la informacion que contienen usando print()\n",
    "print(mi_texto)\n",
    "print(mi_numero)"
   ]
  },
  {
   "cell_type": "markdown",
   "metadata": {},
   "source": [
    "¿Dónde se almacena una variable? Las variables solo se almacenan en una parte temporal de la memoria de nuestra computadora llamada \"memoria RAM\". La memoria RAM es muy rápida, pero se borra cada vez que reinicias Python. Por lo tanto, esta memoria solo sirve para usar variables mientras estamos usando Python, pero no despues.\n",
    "\n",
    "Si necesitas guardar los datos de una o mas variables, puedes usar un archivo y guardarlo en la memoria de tu disco duro. Esto permite que los datos puedan ser accedidos luego, incluso por otros programas, y que estén disponibles la próxima vez que inicies Python.\n",
    "\n",
    "Esto es igual sin importar si usas Google Colab en un servidor de Google o Jupyter Notebooks en tu computadora. Veremos más adelante cómo guardar en la memoria del disco.\n",
    "\n",
    "# Los tipos de datos básicos\n",
    "\n",
    "Estos 5 tipos básicos son los tipos que probablemente usarás mas. Estos son los \"atomos\" de Python cuando realizamos ciencia de datos\n",
    "\n",
    "| Clase | Nombre completo (en ingles)     | Nombre tecnico en espanol       | Uso                                  |\n",
    "|:---             |:---                 |:---                |:---                                  |\n",
    "| int             | Integer             | numero entero    | Número sin parte decimal             |\n",
    "| float           | Floating point      | coma flotante             | Número con parte decimal             |\n",
    "| str             | String              | cadena de caracteres           | Texto                                |\n",
    "| bool            | Boolean             | valor booleano          | Verdadero o falso                    |\n",
    "| none            | None                | valor \"nada\"             | Una forma explícita de decir \"nada\" |\n",
    "\n",
    "Cualquier información con la que interactúes en Python es casi siempre una combinación de estos tipos. Esto es similar a cómo los pequeños y simples átomos en la vida real pueden combinarse en formas de vida maravillosas y complejas. Por eso, en este curso nos referimos a **estas clases de datos básicos como los _átomos de Python_.**\n",
    "\n",
    "Ahora empezaremos a explorar cada clase para aprender como operar con ellas.\n",
    "\n",
    "## Variables numéricas (*int* y *float*)\n",
    "\n",
    "**Definiendo una variable numérica:**"
   ]
  },
  {
   "cell_type": "code",
   "execution_count": null,
   "metadata": {
    "id": "DmiUEgFXrt3U"
   },
   "outputs": [],
   "source": [
    "# Asigna el valor 6 a una variable llamada \"x\"\n",
    "x = 6"
   ]
  },
  {
   "cell_type": "markdown",
   "metadata": {
    "id": "F-LLxx5Grt3V"
   },
   "source": [
    "Luego de ejecutar este codigo, en algún lugar de la memoria hay una variable con el nombre `x` que almacena el valor 6.\n",
    "\n",
    "Podemos hacer referencia a esta variable hasta que la eliminemos o reiniciemos nuestra sesión de Python."
   ]
  },
  {
   "cell_type": "code",
   "execution_count": null,
   "metadata": {
    "id": "XxnTUoGIrt3V"
   },
   "outputs": [],
   "source": [
    "# Podemos mostrar el contenido de cualquier variable al llamarla por su nombre\n",
    "x"
   ]
  },
  {
   "cell_type": "markdown",
   "metadata": {
    "id": "5x2H5BOxrt3V"
   },
   "source": [
    "**Ejercicio 1a:**"
   ]
  },
  {
   "cell_type": "code",
   "execution_count": null,
   "metadata": {
    "id": "472-QjRbrt3V"
   },
   "outputs": [],
   "source": [
    "# Crea una variable llamada ex1_x asignale el valor 5\n",
    "\n",
    "### AGREGA AQUI TU CODIGO\n",
    "\n",
    "# === No modifiques la linea siguiente ===\n",
    "assert ex1_x == 5"
   ]
  },
  {
   "cell_type": "markdown",
   "metadata": {
    "id": "IANbP1f1rt3V"
   },
   "source": [
    "**Operaciones matematicas usando variables:**"
   ]
  },
  {
   "cell_type": "code",
   "execution_count": null,
   "metadata": {
    "id": "X2XvtajXrt3V"
   },
   "outputs": [],
   "source": [
    "# Toma el valor en \"x\" y muestra ese valor mas 1\n",
    "x + 1"
   ]
  },
  {
   "cell_type": "code",
   "execution_count": null,
   "metadata": {
    "id": "eTl9XjSNrt3V"
   },
   "outputs": [],
   "source": [
    "# Nota que el valor de x no ha cambiado y sigue siendo 6\n",
    "x"
   ]
  },
  {
   "cell_type": "code",
   "execution_count": null,
   "metadata": {
    "id": "1DjxrNaJrt3V"
   },
   "outputs": [],
   "source": [
    "# Para reemplazar una variable la podemos sobreescribir con un nuevo valor\n",
    "# Por ejemplo: asigna x + 1 a x y muestra el resultado\n",
    "x = x + 1  # NOTA: esto REEMPLAZA el valor de x\n",
    "x"
   ]
  },
  {
   "cell_type": "markdown",
   "metadata": {
    "id": "GOJ57kQsrt3W"
   },
   "source": [
    "Ten en cuenta que Colab (y cualquier notebook en general) solo muestra el contenido de una variable si está en la última línea de una celda. Pronto aprenderemos cómo _mostrar_ una variable cuando este no sea el caso.\n",
    "\n",
    "---\n",
    "**Mensaje de error importante: NameError**\n",
    "\n",
    "Siempre que veas un error que diga \"not defined\", como en `NameError: name 'z' is not defined`, significa que has intentado referenciar una variable pero no existe ninguna variable con ese nombre.\n"
   ]
  },
  {
   "cell_type": "code",
   "execution_count": null,
   "metadata": {
    "id": "bzje-Qmhrt3W"
   },
   "outputs": [],
   "source": [
    "x = z + 4"
   ]
  },
  {
   "cell_type": "markdown",
   "metadata": {
    "id": "bvUu-bBYrt3W"
   },
   "source": [
    "**Mas operaciones usando varias variables:**"
   ]
  },
  {
   "cell_type": "code",
   "execution_count": null,
   "metadata": {
    "id": "mEm179INrt3W"
   },
   "outputs": [],
   "source": [
    "# Reemplazar x al valor 6\n",
    "x = 6"
   ]
  },
  {
   "cell_type": "code",
   "execution_count": null,
   "metadata": {
    "id": "fRvmUCtVrt3W"
   },
   "outputs": [],
   "source": [
    "# Definiendo una segunda variable, esta vez con un nombre mas largo\n",
    "nueva_variable = 2"
   ]
  },
  {
   "cell_type": "code",
   "execution_count": null,
   "metadata": {
    "id": "wIrg_D0irt3W"
   },
   "outputs": [],
   "source": [
    "# Sumando las dos variables\n",
    "x + nueva_variable"
   ]
  },
  {
   "cell_type": "code",
   "execution_count": null,
   "metadata": {
    "id": "rNOgSG8Rrt3W"
   },
   "outputs": [],
   "source": [
    "# Restando nueva_variavble a x\n",
    "x - nueva_variable"
   ]
  },
  {
   "cell_type": "code",
   "execution_count": null,
   "metadata": {
    "id": "MWKwJZzert3W"
   },
   "outputs": [],
   "source": [
    "# Multiplicando x a nueva_variable\n",
    "x * nueva_variable"
   ]
  },
  {
   "cell_type": "markdown",
   "metadata": {
    "id": "S3DJcp4Brt3W"
   },
   "source": [
    "Esta tabla muestra los operadores matemáticos más comunes:\n",
    "\n",
    "| Símbolo | Operación         | Ejemplo         | Definición |\n",
    "|:---:    |:---               |:---             |:------ |\n",
    "| +       | Suma              | 6+2 = 8         | |\n",
    "| -       | Resta             | 6-2 = 4         | |\n",
    "| *       | Multiplicación    | 6*2 = 12        | |\n",
    "| /       | División          | 6/2 = 3         | |\n",
    "| **      | Potencia          | 6**2 = 36       | |\n",
    "| %       | Módulo            | 6%2 = 0 , 10%4 = 2 | Resto en una división |\n",
    "| //      | División entera   | 6//2 = 3 , 6//4 = 1 | Parte entera del resultado de una división |\n",
    "\n",
    "Puedes consultar la lista completa de operadores matemáticos aquí: https://www.w3schools.com/python/python_operators.asp\n",
    "\n",
    "---\n",
    "\n",
    "Si queremos guardar el resultado de una operación matemática, necesitamos almacenarlo en una variable. Puede ser en una nueva variable o sobrescribiendo una existente.\n",
    "\n",
    "Solo se modifican las variables que están a la izquierda del operador de asignación `=`. Si no hay un `=`, entonces ninguna variable se modifica mediante un operador matemático.\n"
   ]
  },
  {
   "cell_type": "code",
   "execution_count": null,
   "metadata": {
    "id": "mpKLcFHTrt3W"
   },
   "outputs": [],
   "source": [
    "# Creando una nueva variable igual a x multiplicada por nueva_variable\n",
    "y = x * nueva_variable\n",
    "\n",
    "# Creando una variable igual a la suma de x y nueva_variablete a new variable that is the sum of x and my_long_variable_name\n",
    "z = x + nueva_variable"
   ]
  },
  {
   "cell_type": "markdown",
   "metadata": {
    "id": "T7w_3Lgwrt3W"
   },
   "source": [
    "Para mostrar varias variables en la misma celda, usamos `print()`:"
   ]
  },
  {
   "cell_type": "code",
   "execution_count": null,
   "metadata": {
    "id": "vMwdPGfQrt3W"
   },
   "outputs": [],
   "source": [
    "# Muestra las variables en la misma celda\n",
    "print(x)\n",
    "print(nueva_variable)\n",
    "print(y)\n",
    "print(z)"
   ]
  },
  {
   "cell_type": "code",
   "execution_count": null,
   "metadata": {},
   "outputs": [],
   "source": [
    "# Si no usamos print, solo la ultima linea es mostrada\n",
    "x\n",
    "nueva_variable\n",
    "y\n",
    "z"
   ]
  },
  {
   "cell_type": "code",
   "execution_count": null,
   "metadata": {
    "id": "NRzg1zyYrt3W"
   },
   "outputs": [],
   "source": [
    "# Para mostrar todas las variable en la misma linea, las separamos con comas\n",
    "print(x, nueva_variable, y, z)"
   ]
  },
  {
   "cell_type": "code",
   "execution_count": null,
   "metadata": {
    "id": "xOYRV3Dert3W"
   },
   "outputs": [],
   "source": [
    "# Tambien es posible mostrar los resultados de operaciones matematicas\n",
    "print(12 * 89)\n",
    "print(y - 20)"
   ]
  },
  {
   "cell_type": "code",
   "execution_count": null,
   "metadata": {
    "id": "10PKFQ_Drt3X"
   },
   "outputs": [],
   "source": [
    "# Podemos combinar mostrar resultados con print() y mostrar un resultado al ser la ultima linea de un bloque\n",
    "print(y - 20)\n",
    "5 ** 3"
   ]
  },
  {
   "cell_type": "markdown",
   "metadata": {
    "id": "H9jUv-VVrt3X"
   },
   "source": [
    "Dado que incrementar una variable con un valor, como en `x = x + 1`, es una acción muy común, existe una forma abreviada de hacerlo: `x += 1`\n",
    "\n",
    "Pueder chequear qué otros operadores puedes usar de esta forma aquí: https://www.w3schools.com/python/python_operators.asp"
   ]
  },
  {
   "cell_type": "code",
   "execution_count": null,
   "metadata": {
    "id": "W0S7wZqyrt3X"
   },
   "outputs": [],
   "source": [
    "contador = 5\n",
    "contador += 2 # Esto es identico a: \"contador = contador + 2\"\n",
    "print(count_matches)"
   ]
  },
  {
   "cell_type": "markdown",
   "metadata": {
    "id": "EU77h60Srt3X"
   },
   "source": [
    "**Ejercicio 2a**"
   ]
  },
  {
   "cell_type": "code",
   "execution_count": null,
   "metadata": {
    "id": "6juLq6b1rt3X"
   },
   "outputs": [],
   "source": [
    "# Crea dos variables: ex2_x y ex2_y. Asigna ex2_x al valor 3 y ex2_y al valor 5.\n",
    "\n",
    "### AGREGA AQUI TU CODIGO\n",
    "\n",
    "# === No modifiques la linea siguiente ===\n",
    "assert ex2_x == 3 and ex2_y == 5"
   ]
  },
  {
   "cell_type": "markdown",
   "metadata": {
    "id": "7qKXZcQJrt3X"
   },
   "source": [
    "**Ejercicio 2b**"
   ]
  },
  {
   "cell_type": "code",
   "execution_count": null,
   "metadata": {
    "id": "z3E602VKrt3X"
   },
   "outputs": [],
   "source": [
    "# Multiplica ex2_x con ex2_y y guarda el resultado en la nueva variable ex2_z\n",
    "\n",
    "### AGREGA AQUI TU CODIGO\n",
    "\n",
    "# === No modifiques la linea siguiente ===\n",
    "assert ex2_z == 15"
   ]
  },
  {
   "cell_type": "markdown",
   "metadata": {
    "id": "zYW5EcYert3X"
   },
   "source": [
    "**Ejercicio 2c**"
   ]
  },
  {
   "cell_type": "code",
   "execution_count": null,
   "metadata": {
    "id": "sAHvzbxhrt3X"
   },
   "outputs": [],
   "source": [
    "# Actualiza la variable ex2_z sustrayendo ex2_x de ella\n",
    "# (Vuelve a ejecutar las celdas de los ejercicios anteriores si es necesario)\n",
    "\n",
    "### AGREGA AQUI TU CODIGO\n",
    "\n",
    "# === No modifiques la linea siguiente ===\n",
    "assert ex2_z == 12"
   ]
  },
  {
   "cell_type": "markdown",
   "metadata": {
    "id": "0J6uStIirt3X"
   },
   "source": [
    "## Los dos tipos básicos de variables numéricas\n",
    "\n",
    "Hay dos tipos de datos numéricos básicos:\n",
    "\n",
    "| Clase | Nombre completo (en ingles)     | Nombre tecnico en espanol       | Uso                                  |\n",
    "|:---             |:---                 |:---                |:---                                  |\n",
    "| int             | Integer             | numero entero    | Número sin parte decimal             |\n",
    "| float           | Floating point      | coma flotante             | Número con punto decimal        |\n",
    "\n",
    "\n",
    "\n",
    "`int` usa menos memoria en nuestra computadora, pero no puede almacenar decimales.  \n",
    "Al definir una variable numerica, Python normalmente asignara `int` a menos que la variable tenga parte decimal. En ese caso le dara el tipo `float`.\n",
    "\n",
    "Más informacion sobre `int` y `float` aquí: https://www.w3schools.com/python/python_numbers.asp\n",
    "\n",
    "---\n",
    "\n",
    "Puedes ver qué tipo tiene tu variable numérica usando `type()`"
   ]
  },
  {
   "cell_type": "code",
   "execution_count": null,
   "metadata": {
    "id": "BVxOy5-Srt3X"
   },
   "outputs": [],
   "source": [
    "# Variables numericas sin parte decimal son creadas como int\n",
    "x = 3\n",
    "type(x)"
   ]
  },
  {
   "cell_type": "code",
   "execution_count": null,
   "metadata": {
    "id": "oj1Jh6MGrt3X"
   },
   "outputs": [],
   "source": [
    "# Variable numericas con parte decimal son creadas como float\n",
    "pi = 3.141592\n",
    "type(pi)"
   ]
  },
  {
   "cell_type": "code",
   "execution_count": null,
   "metadata": {
    "id": "Yw131fDsrt3X"
   },
   "outputs": [],
   "source": [
    "# Python automaticamente asigna el tipo correcto en cada caso\n",
    "diametro = 10\n",
    "type(diametro)"
   ]
  },
  {
   "cell_type": "code",
   "execution_count": null,
   "metadata": {},
   "outputs": [],
   "source": [
    "# El resultado de una division siempre es un float, asi sea una division exacta\n",
    "radio = diametro / 2\n",
    "print(radio)\n",
    "type(radio)"
   ]
  },
  {
   "cell_type": "code",
   "execution_count": null,
   "metadata": {
    "id": "v7mU0bb2rt3X"
   },
   "outputs": [],
   "source": [
    "# El resultado de una operacion entre un float y un int siempre es un float\n",
    "perimetro = pi * diametro\n",
    "print(perimetro)\n",
    "type(perimetro)"
   ]
  },
  {
   "cell_type": "code",
   "execution_count": null,
   "metadata": {
    "id": "O5vP3Hkzrt3X"
   },
   "outputs": [],
   "source": [
    "# Es posible convertir un float en un int, la parte decimal se elimina\n",
    "# Es importante notar que esto pierde la informacion en la parte decimal\n",
    "y = int(7.25)\n",
    "print(y)\n",
    "type(y)"
   ]
  },
  {
   "cell_type": "code",
   "execution_count": null,
   "metadata": {},
   "outputs": [],
   "source": [
    "# Ten en cuenta que esto no es lo mismo que redondear, es mas bien eliminar la parte decimal\n",
    "# Es posible redondear en Python pero para eso usamos round(), no int()\n",
    "z = int(7.99999)\n",
    "print(z)\n",
    "type(z)"
   ]
  },
  {
   "cell_type": "code",
   "execution_count": null,
   "metadata": {},
   "outputs": [],
   "source": [
    "# Python automaticamente cambia la clase de la variable, si es que es necesario\n",
    "salario = 17\n",
    "print(salario, type(salario))\n",
    "\n",
    "# ajustando por inflacion\n",
    "salario = salario * 1.05\n",
    "print(salario, type(salario))"
   ]
  },
  {
   "cell_type": "markdown",
   "metadata": {
    "id": "5epfdwSart3X"
   },
   "source": [
    "**Ejercicio 3a**\n",
    "\n",
    "_Mas informacion:_ Operadores matematicos: https://www.w3schools.com/python/python_operators.asp"
   ]
  },
  {
   "cell_type": "code",
   "execution_count": null,
   "metadata": {
    "id": "0cLHB5ewrt3X"
   },
   "outputs": [],
   "source": [
    "# Crea una variable llamada ex3_x que sea igual a 13 elevado a la potencia de 12\n",
    "\n",
    "### AGREGA AQUI TU CODIGO\n",
    "\n",
    "# === No modifiques la linea siguiente ===\n",
    "assert ex3_x == 23298085122481"
   ]
  },
  {
   "cell_type": "markdown",
   "metadata": {
    "id": "LyCy3kNIrt3Y"
   },
   "source": [
    "**Ejercicio 3b**"
   ]
  },
  {
   "cell_type": "code",
   "execution_count": null,
   "metadata": {
    "id": "_T15Nfs_rt3Y"
   },
   "outputs": [],
   "source": [
    "# Crea una variable llamada ex3_y que sea la parte restante al dividir ex_3x entre 17\n",
    "\n",
    "### AGREGA AQUI TU CODIGO\n",
    "\n",
    "# === No modifiques la linea siguiente ===\n",
    "assert ex3_y == 1"
   ]
  },
  {
   "cell_type": "markdown",
   "metadata": {
    "id": "yDoY71d6rt3Y"
   },
   "source": [
    "**Ejercicio 3c**"
   ]
  },
  {
   "cell_type": "code",
   "execution_count": null,
   "metadata": {
    "id": "XQEZ__4Mrt3Y"
   },
   "outputs": [],
   "source": [
    "# Crea una variable llamada ex3_z que sea un tipo float con el valor de 3\n",
    "# (La solucion es algo que aun no hemos mencionado)\n",
    "\n",
    "### AGREGA AQUI TU CODIGO\n",
    "\n",
    "# === No modifiques la linea siguiente ===\n",
    "assert hash(ex3_z) == 3 and type(ex3_z) is float"
   ]
  },
  {
   "cell_type": "markdown",
   "metadata": {
    "id": "tA0YSxZ4rt3Y"
   },
   "source": [
    "## Variables de texto: string\n",
    "\n",
    "Python solo tiene un tipo de dato básico para texto, y se llama \"string\".\n",
    "\n",
    "| Clase | Nombre completo (en ingles)     | Nombre tecnico en espanol       | Uso                                  |\n",
    "|:---             |:---                 |:---                |:---                                  |\n",
    "| str             | String              | cadena de caracteres           | Texto                                |\n",
    "\n",
    "El texto en una string puede ser cualquier cosa, desde una sola letra o palabra, hasta un texto completo como un ensayo o un libro.\n",
    "\n",
    "---\n",
    "\n",
    "**Definiendo una variable string**\n"
   ]
  },
  {
   "cell_type": "code",
   "execution_count": null,
   "metadata": {
    "id": "d-DJ2Vq_rt3Y"
   },
   "outputs": [],
   "source": [
    "# Asigna el texto Hola mundo! a las variables a y b\n",
    "\n",
    "# Podemos usar tanto \" como ' para definir donde comienzan y terminan los strings\n",
    "a = \"Hola mundo!\"\n",
    "b = 'Hola mundo!'\n",
    "\n",
    "print(a)\n",
    "print(type(a))\n",
    "print(b)\n",
    "print(type(b))"
   ]
  },
  {
   "cell_type": "markdown",
   "metadata": {
    "id": "350j4hU7rt3Y"
   },
   "source": [
    "Sin embargo, al usar `\"\"` o `''` debemos ser consistentes para la misma variable, sin usar ambos al inicio y al final."
   ]
  },
  {
   "cell_type": "code",
   "execution_count": null,
   "metadata": {
    "id": "0DoM7A2lrt3Y"
   },
   "outputs": [],
   "source": [
    "# Por ejemplo, usamos \"\" cuando el texto incluye uno o mas '\n",
    "a = \"El mejor restaurante de la ciudad era el Percy's\"\n",
    "\n",
    "# Y podemos usar ''  cuando el texto incluye uno o mas \"\n",
    "b = 'El emperador Alejandro Magno era comocido como \"El Grande\"'\n",
    "\n",
    "print(a)\n",
    "print(b)"
   ]
  },
  {
   "cell_type": "markdown",
   "metadata": {
    "id": "zo-KVm5Grt3Y"
   },
   "source": [
    "**Operaciones basicas con strings:**\n",
    "\n",
    "Algunos operadores matematicos tambien funcionan con strings"
   ]
  },
  {
   "cell_type": "code",
   "execution_count": null,
   "metadata": {
    "id": "A5yturZYrt3Y"
   },
   "outputs": [],
   "source": [
    "a = 'hola'\n",
    "b = 'mundo'\n",
    "\n",
    "# Suma y multiplicacion funcionan con strings, pero no resta ni division\n",
    "c = a + ' ' + b + '!'\n",
    "d = a * 5\n",
    "\n",
    "print(c)\n",
    "print(d)"
   ]
  },
  {
   "cell_type": "code",
   "execution_count": null,
   "metadata": {
    "id": "DpuDlj_7rt3Y"
   },
   "outputs": [],
   "source": [
    "# Ahora que aprendimos sobre strings, podemos agregar una string\n",
    "# con un mensaje de contexto en print() para saber que estamos mostrando:\n",
    "print('Variable c:', c)\n",
    "print('Variable d:', d)"
   ]
  },
  {
   "cell_type": "markdown",
   "metadata": {
    "id": "xkmKNYr2rt3Y"
   },
   "source": [
    "**Ejercicio 4a**"
   ]
  },
  {
   "cell_type": "code",
   "execution_count": null,
   "metadata": {
    "id": "IBsDhuotrt3Y"
   },
   "outputs": [],
   "source": [
    "# Crea una variable llamada ex4_x que sea una string con las palabras Republica (sin acento)\n",
    "# y crea una variable llamada ex4_y con la palabra Dominicana\n",
    "\n",
    "### AGREGA AQUI TU CODIGO\n",
    "\n",
    "# === No modifiques la linea siguiente ===\n",
    "assert ex4_x == 'Republica' and ex4_y == 'Dominicana'"
   ]
  },
  {
   "cell_type": "markdown",
   "metadata": {
    "id": "S4DhVbPwrt3Y"
   },
   "source": [
    "**Ex. 4b**"
   ]
  },
  {
   "cell_type": "code",
   "execution_count": null,
   "metadata": {
    "id": "ycbC4IwDrt3Y"
   },
   "outputs": [],
   "source": [
    "# Crea una variable llamada ex4_z que use ex4_x y ex4_y \n",
    "# para crear la string \"Republica Dominicana\"\n",
    "\n",
    "### AGREGA AQUI TU CODIGO\n",
    "\n",
    "# === No modifiques la linea siguiente ===\n",
    "assert ex4_z == 'Republica Dominicana'"
   ]
  },
  {
   "cell_type": "markdown",
   "metadata": {},
   "source": [
    "## Los métodos\n",
    "\n",
    "Los átomos pueden contener distintos tipos de información, como ya vimos con informacion numerica (_int_ y _float_) y de caracteres (_string_). Una de las razones por las que Python es tan util es que aparte de usar operadores, permite usar **metodos** que dependen de la clase de una variable.\n",
    "\n",
    "Cada clase de átomo y contenedor viene con como acciones diseñadas para esa clase. Estas **acciones específicas de una clase se llaman _métodos_**.\n",
    "\n",
    "Recuerda que antes mencionamos que _todas las variables consisten en tres cosas:_\n",
    "\n",
    "* El nombre de la variable, para que pueda ser identificada y accedida de forma única\n",
    "* El \"*tipo*\" – qué tipo de átomo o contenedor es. Esto determina:\n",
    "    * Qué datos puede almacenar ese tipo  \n",
    "    * Qué métodos (si los hay) vienen con ese tipo\n",
    "* La información/datos que la variable almacena realmente\n",
    "\n",
    "Un método se aplica a los datos en una variable usando esta sintaxis: `x.method()`.  \n",
    "Un método puede ser algo simple como poner un `str` en mayúsculas, o algo mas avanzado como ejecutar un módulo de aprendizaje automático.\n",
    "\n",
    "---\n",
    "\n",
    "**Métodos de strings:**\n",
    "\n",
    "Los strings son el único de los átomos de Python que tiene métodos. Meidante metodos se puede cambiar mayúsculas a minúsculas o viceversa, reemplazar letras, eliminar espacios en exceso, etc.\n",
    "\n",
    "Puedes leer sobre todos los métodos de strings aquí: https://www.w3schools.com/python/python_ref_string.asp\n"
   ]
  },
  {
   "cell_type": "code",
   "execution_count": null,
   "metadata": {
    "id": "2vHqEqQirt3Y"
   },
   "outputs": [],
   "source": [
    "# Definiendo una nueva string\n",
    "a = 'Hola mundo!'\n",
    "type(a)"
   ]
  },
  {
   "cell_type": "code",
   "execution_count": null,
   "metadata": {
    "id": "CsF00Q4Rrt3Y"
   },
   "outputs": [],
   "source": [
    "# Usando el metodo .upper() para mostrarla en mayusculas\n",
    "a.upper()"
   ]
  },
  {
   "cell_type": "code",
   "execution_count": null,
   "metadata": {
    "id": "OU9bVsYsrt3Z"
   },
   "outputs": [],
   "source": [
    "# Ahora guardamos el resultado en a_mayuscula y luego mostramos con print()\n",
    "# Nota que el resultado es tambien de clase string\n",
    "a_mayuscula = a.upper()\n",
    "print(a_mayuscula)\n",
    "type(a_mayuscula)"
   ]
  },
  {
   "cell_type": "code",
   "execution_count": null,
   "metadata": {
    "id": "KRVndIKWrt3Z"
   },
   "outputs": [],
   "source": [
    "# Ahora intentaremos convertir a minusculas:\n",
    "a.lower()\n",
    "print(a)"
   ]
  },
  {
   "cell_type": "markdown",
   "metadata": {},
   "source": [
    "`a` aun tiene letras en minusculas. Esto es porque no hemos reemplazado el resultado:"
   ]
  },
  {
   "cell_type": "code",
   "execution_count": null,
   "metadata": {},
   "outputs": [],
   "source": [
    "a = a.lower()\n",
    "print(a)"
   ]
  },
  {
   "cell_type": "markdown",
   "metadata": {},
   "source": [
    "Algunos metodos toman parametros adicionales, llamados \"argumentos\", dentro de los parentesis. Este es el caso del metodo para reemplazar caracteres, llamado `.replace()`:"
   ]
  },
  {
   "cell_type": "code",
   "execution_count": null,
   "metadata": {
    "id": "g_dfweJart3Z"
   },
   "outputs": [],
   "source": [
    "# Reemplazando todas las letras \"o\" por \"i\" en la variable a:\n",
    "a_reemplazo_i = a.replace('o', 'i')\n",
    "\n",
    "# Reemplazando una sola vez, en la primera letra \"o\"\n",
    "# El tercer argumento indica cuantos reemplazos se realizan\n",
    "a_reemplazo_una_i = a.replace('o', 'i', 1)\n",
    "\n",
    "print('a_reemplazo_i:', a_reemplazo_i)\n",
    "print('a_reemplazo_una_i:', a_reemplazo_una_i)"
   ]
  },
  {
   "cell_type": "markdown",
   "metadata": {
    "id": "k5F_pPg7rt3Z"
   },
   "source": [
    "---\n",
    "\n",
    "Los métodos son diferentes de los operadores (`+`, `*`). Además de tener métodos, cada clase es compatible o no con distintos operadores matematicos.\n",
    "\n",
    "- `int` y `float` no tienen métodos, solo tienen soporte para operadores.  \n",
    "- `str` tiene métodos y soporte para algunos operadores (`+` y `*`).\n",
    "\n",
    "Cuando estás concatenando strings (uniendolos), puedes usar el operador `+`."
   ]
  },
  {
   "cell_type": "code",
   "execution_count": null,
   "metadata": {
    "id": "QBW3JW1xrt3Z"
   },
   "outputs": [],
   "source": [
    "nombre = \"Frodo Bolson\"\n",
    "edad = 51"
   ]
  },
  {
   "cell_type": "code",
   "execution_count": null,
   "metadata": {
    "id": "u5mWv8bOrt3Z"
   },
   "outputs": [],
   "source": [
    "str_concat = \"Su nombre es \" + nombre + \" y su edad es \" + str(edad) + \".\"\n",
    "print(str_concat)"
   ]
  },
  {
   "cell_type": "markdown",
   "metadata": {},
   "source": [
    "---\n",
    "\n",
    "Un resultado similar a la concatenacion también es posible con el método `.format()`. Este metodo toma argumentos dentro del parentesis y los inserta en lugar de caracteres de llave (`{}`) en una string.\n",
    "\n",
    "Adaptando el ejemplo anterior, el resultado seria `\"Su nombre es {} y su edad es {}.\"` junto al método `.format()` para rellenar los dos espacios `{}`:"
   ]
  },
  {
   "cell_type": "code",
   "execution_count": null,
   "metadata": {},
   "outputs": [],
   "source": [
    "str_format = \"Su nombre es {} y su edad es {}.\".format(nombre, edad)\n",
    "print(str_format)"
   ]
  },
  {
   "cell_type": "markdown",
   "metadata": {},
   "source": [
    "---\n",
    "\n",
    "Usar `.format()` de esta manera funciona bien para strings cortos, pero para textos más largos y párrafos donde solo unas pocas palabras deben ser completadas dinámicamente, la mejor opción es una `f-string`.\n",
    "\n",
    "Las `f-string` se definen con una letra `f` antes del string y llevan los nombres de las variables cuyos valores se insertan en el texto dentro de las llaves.\n"
   ]
  },
  {
   "cell_type": "code",
   "execution_count": null,
   "metadata": {
    "id": "_yRUWt6Xrt3Z"
   },
   "outputs": [],
   "source": [
    "str_fstr = f\"Su nombre es {nombre} y su edad es {edad}.\"\n",
    "print(str_fstr)"
   ]
  },
  {
   "cell_type": "markdown",
   "metadata": {
    "id": "H0VOzSQZrt3Z"
   },
   "source": [
    "**Importante mensaje de error: AttributeError**\n",
    "\n",
    "Siempre que veas un error que diga \"has no attribute\", como en `AttributeError: 'int' object has no attribute 'upper'`, significa que la clase `int` no tiene un método llamado `upper`.\n",
    "\n",
    "Si recibes un `AttributeError`, revisa si escribiste mal el método, o si la variable es de un tipo distinto al que esperabas. En el siguiente bloque obtendremos este error porque estamos usando un método de `str` en una variable de tipo `int`.\n"
   ]
  },
  {
   "cell_type": "code",
   "execution_count": null,
   "metadata": {
    "id": "pWOdl5SKrt3Z"
   },
   "outputs": [],
   "source": [
    "x = 4\n",
    "x = x.upper()"
   ]
  },
  {
   "cell_type": "markdown",
   "metadata": {
    "id": "vEdeacG-rt3Z"
   },
   "source": [
    "**Ejercicio 5a**"
   ]
  },
  {
   "cell_type": "code",
   "execution_count": null,
   "metadata": {
    "id": "p2Lks-bMrt3Z",
    "scrolled": true
   },
   "outputs": [],
   "source": [
    "# Usa un metodo en la vairable string p\n",
    "# para crear la variable ex5_x con la string \"PYTHON\"\n",
    "\n",
    "p = 'python'\n",
    "\n",
    "### AGREGA AQUI TU CODIGO\n",
    "\n",
    "# === No modifiques la linea siguiente ===\n",
    "assert ex5_x == 'PYTHON'"
   ]
  },
  {
   "cell_type": "markdown",
   "metadata": {
    "id": "s2TZmTW2rt3Z"
   },
   "source": [
    "**Ejercicio 5b**\n",
    "\n",
    "_Informacion util_: https://www.w3schools.com/python/python_ref_string.asp"
   ]
  },
  {
   "cell_type": "code",
   "execution_count": null,
   "metadata": {
    "id": "EtrVGdFnrt3Z"
   },
   "outputs": [],
   "source": [
    "# Usa la variable ex5_x del ejercicio 5a.\n",
    "# Usa un metodo para crear el string \"Python\"\n",
    "# (La solucion al ejercicio aun no ha sido mencionada hasta este punto)\n",
    "\n",
    "### AGREGA AQUI TU CODIGO\n",
    "\n",
    "# === No modifiques la linea siguiente ===\n",
    "assert ex5_y == 'Python'"
   ]
  },
  {
   "cell_type": "markdown",
   "metadata": {
    "id": "x-zdxqIGrt3a"
   },
   "source": [
    "## Variables verdadero/falso: valores booleanos\n",
    "\n",
    "| Nombre de clase | Nombre completo | Nombre usado     | Uso                           |\n",
    "|:---              |:---              |:---               | :---                          |\n",
    "| bool             | Booleano         | \"booleano\"        | Verdadero o falso             |\n",
    "\n",
    "Booleano es otro átomo en Python. La sesión de manana tratará sobre usos comunes de ellos. Esta sesión solo cubre cómo identificarlos, ya que los verás frecuentemente en Python.\n",
    "\n",
    "### Ejemplos de uso de booleanos\n",
    "\n",
    "* **Respuestas de métodos**: Hasta ahora solo hemos usado métodos de strings que devuelven nuevos strings, como `upper()`, `lower()`, `replace()`, etc.  Muchos métodos devuelven booleanos en su lugar, como `isnumeric()`, `islower()`, etc.\n",
    "* **Condiciones**: Los booleanos son convenientes para controlar condiciones `if-else` (mas sobre esto manana).\n",
    "\n",
    "---"
   ]
  },
  {
   "cell_type": "code",
   "execution_count": null,
   "metadata": {
    "id": "ywuA9QrQrt3a"
   },
   "outputs": [],
   "source": [
    "# Definiendo booleanos\n",
    "a = True\n",
    "b = False\n",
    "\n",
    "# Mostrando las variables booleanas\n",
    "print('Variable a:', a)\n",
    "print('Variable b:', b)"
   ]
  },
  {
   "cell_type": "code",
   "execution_count": null,
   "metadata": {},
   "outputs": [],
   "source": [
    "type(a)"
   ]
  },
  {
   "cell_type": "code",
   "execution_count": null,
   "metadata": {},
   "outputs": [],
   "source": [
    "type(b)"
   ]
  },
  {
   "cell_type": "code",
   "execution_count": null,
   "metadata": {},
   "outputs": [],
   "source": [
    "# Obteniendo un booleano de un metodo de string\n",
    "\n",
    "# Primero creamos una variable que es un string de un numero\n",
    "c = \"42\"\n",
    "d = c.isnumeric()\n",
    "\n",
    "# Mostrando las variables\n",
    "print('Variable c:', c)\n",
    "type(c)"
   ]
  },
  {
   "cell_type": "code",
   "execution_count": null,
   "metadata": {},
   "outputs": [],
   "source": [
    "print('Variable d:', d)\n",
    "type(d)"
   ]
  },
  {
   "cell_type": "markdown",
   "metadata": {},
   "source": [
    "Tambien podemos generar booleanos con operaciones logicas:"
   ]
  },
  {
   "cell_type": "code",
   "execution_count": null,
   "metadata": {},
   "outputs": [],
   "source": [
    "# Mayor que\n",
    "3 > 1"
   ]
  },
  {
   "cell_type": "code",
   "execution_count": null,
   "metadata": {},
   "outputs": [],
   "source": [
    "# Menor que\n",
    "3 < 2"
   ]
  },
  {
   "cell_type": "code",
   "execution_count": null,
   "metadata": {},
   "outputs": [],
   "source": [
    "# Menor o igual que\n",
    "3 <= 3"
   ]
  },
  {
   "cell_type": "code",
   "execution_count": null,
   "metadata": {},
   "outputs": [],
   "source": [
    "# Equivalencia\n",
    "# el doble signo igual denota una comparacion,\n",
    "# a diferencia de un solo signo igual que se usa para asignacion\n",
    "x = 10\n",
    "x == 10"
   ]
  },
  {
   "cell_type": "code",
   "execution_count": null,
   "metadata": {},
   "outputs": [],
   "source": [
    "# Diferencia\n",
    "y = 12\n",
    "y != 12 # significa \"diferente a\""
   ]
  },
  {
   "cell_type": "markdown",
   "metadata": {},
   "source": [
    "## La clase \"None\" - una variable existe pero no contiene nada\n",
    "\n",
    "| Clase | Nombre completo (en ingles) | Nombre usado     | Uso                                 |\n",
    "|:---              |:---              |:---               | :---                                |\n",
    "| none             | None             | \"nada\" o \"ninguno\"            | Una forma explícita de decir \"no hay nada\" |\n",
    "\n",
    "En excepciones al trabajar con Python, es conveniente tener una variable incluso si no almacena ningun valor. Por ejemplo, esto evitará un `NameError` por intentar usar una variable que no existe."
   ]
  },
  {
   "cell_type": "code",
   "execution_count": null,
   "metadata": {},
   "outputs": [],
   "source": [
    "nombre = \"Frodo Bolson\"\n",
    "edad = 51\n",
    "\n",
    "print(f\"{nombre} (edad {edad}) trabaja en {empleador}\")"
   ]
  },
  {
   "cell_type": "code",
   "execution_count": null,
   "metadata": {},
   "outputs": [],
   "source": [
    "# Frodo no tiene empleo\n",
    "empleador = None\n",
    "print(empleador)\n",
    "type(empleador)"
   ]
  },
  {
   "cell_type": "code",
   "execution_count": null,
   "metadata": {},
   "outputs": [],
   "source": [
    "# Frodo consigue trabajo\n",
    "empleador = \"Ministerio de Medio Ambiente y Recursos Naturales\"\n",
    "print(f\"{nombre} (edad {edad}) trabaja en {empleador}\")"
   ]
  },
  {
   "cell_type": "markdown",
   "metadata": {
    "id": "zmQD9Ad7rt3b"
   },
   "source": [
    "## Resumen de los tipos de datos básicos\n",
    "\n",
    "* Son la única forma de almacenar informacion en Python  \n",
    "* Se almacenan en una variable con un nombre y una clase\n",
    "* Las operaciones (`+`, `-`, etc.) o métodos (`.upper()`) que puedes usar dependen de la clase\n",
    "\n",
    "**Errores importantes a tener en cuenta**\n",
    "\n",
    "| Nombre del error       | Posible causa del error |\n",
    "|:---                    |:---                     |\n",
    "| **NameError**          | Tienes un error tipográfico al nombrar una variable o estas intentando usar una variable antes de que haya sido creada |\n",
    "| **AttributeError**     | Estás usando un método o atributo en un tipo que no lo tiene |\n",
    "\n",
    "---\n",
    "\n",
    "## Funciones y resumen de operadores y métodos\n",
    "\n",
    "### Funciones\n",
    "\n",
    "Python tiene algunas funciones integradas. Las funciones son similares a los métodos en el sentido de que realizan una acción. Pero mientras que la sintaxis de los métodos se aplica siempre junto a una variable (como en `x.metodo()`), una función se usa directamente en tu código.\n",
    "\n",
    "`print()` y `type()` son ejemplos de funciones. Estas aceptan cualquier tipo de variable, pero algunas funciones no funcionan con todos los tipos."
   ]
  },
  {
   "cell_type": "code",
   "execution_count": null,
   "metadata": {},
   "outputs": [],
   "source": [
    "# Definiendo dos strings y un int\n",
    "str_a = \"Frodo\"\n",
    "str_b = \"Gandalf\"\n",
    "int_a = 51\n",
    "\n",
    "# Mostrando los valores\n",
    "print('str_a:',str_a)\n",
    "print('str_b:',str_b)\n",
    "print('int_a:',int_a)"
   ]
  },
  {
   "cell_type": "markdown",
   "metadata": {},
   "source": [
    "La funcion `len()` se usa para obtener el numero de elementos en una variable.\n",
    "Para una variable string, los elementos son el numero de caracteres."
   ]
  },
  {
   "cell_type": "code",
   "execution_count": null,
   "metadata": {},
   "outputs": [],
   "source": [
    "len(str_a)"
   ]
  },
  {
   "cell_type": "code",
   "execution_count": null,
   "metadata": {},
   "outputs": [],
   "source": [
    "print('Numero de caracteres en', str_a, \":\", len(str_a))\n",
    "print('Numero de caracteres en', str_b, \":\", len(str_b))"
   ]
  },
  {
   "cell_type": "markdown",
   "metadata": {},
   "source": [
    "Tambien podemos mostrar el mismo resultado en una `f-string`:"
   ]
  },
  {
   "cell_type": "code",
   "execution_count": null,
   "metadata": {},
   "outputs": [],
   "source": [
    "print(f'Numero de caracteres en {str_a}: {len(str_a)}')\n",
    "print(f'Numero de caracteres en {str_b}: {len(str_b)}')"
   ]
  },
  {
   "cell_type": "markdown",
   "metadata": {},
   "source": [
    "Si intentaramos obtener el numero de elementos en un `int`, cual podria ser el resultado?"
   ]
  },
  {
   "cell_type": "code",
   "execution_count": null,
   "metadata": {
    "scrolled": true
   },
   "outputs": [],
   "source": [
    "print('El numero de elementos del int', int_a, 'es:', len(int_a))"
   ]
  },
  {
   "cell_type": "markdown",
   "metadata": {},
   "source": [
    "### Resumen de los tipos de \"acciones\" que puedes realizar sobre los datos en Python\n",
    "\n",
    "| Nombre de la acción | Ejemplos       | Descripción                                                                 | Documentación |\n",
    "|:---                 |:---            |:---                                                                         |:---           |\n",
    "| Operador            | `+`, `-`, etc. | Solo se usa para acciones básicas. Es más común con tipos numéricos, pero también funciona en algunos otros tipos. | https://www.w3schools.com/python/python_operators.asp |\n",
    "| Método              | `x.metodo()`   | Siempre es específico de un tipo (aunque no implica que sea único para ese tipo). Se usa para interactuar, modificar o analizar los datos en una variable. | Revisa la documentación de cada tipo de átomo, contenedor u objeto. |\n",
    "| Función             | `funcion(x)`  | Algunas están integradas y es común crear tus propias funciones (lo veremos en la sesión de mañana). | Funciones integradas: https://www.w3schools.com/python/python_ref_functions.asp |"
   ]
  },
  {
   "cell_type": "markdown",
   "metadata": {},
   "source": [
    "### Donde podemos encontrar documentacion sobre cada clase, metodo o funcion?\n",
    "\n",
    "Por ejemplo, como saber que metodos tiene una clase y que hace cada metodo?"
   ]
  },
  {
   "cell_type": "code",
   "execution_count": null,
   "metadata": {},
   "outputs": [],
   "source": [
    "# Informacion basica sobre una funcion: usando \"?\"\n",
    "len?"
   ]
  },
  {
   "cell_type": "code",
   "execution_count": null,
   "metadata": {},
   "outputs": [],
   "source": [
    "# Lo mismo podemos obtener de un metodo\n",
    "str.upper?"
   ]
  },
  {
   "cell_type": "code",
   "execution_count": null,
   "metadata": {},
   "outputs": [],
   "source": [
    "# dir() ofrece una manera de mostrar una lista completa de todos los metodos de una clase\n",
    "# pero no es tan facil de leer su informacion\n",
    "dir(str)"
   ]
  },
  {
   "cell_type": "code",
   "execution_count": null,
   "metadata": {},
   "outputs": [],
   "source": [
    "# Documentacion completa sobre la informacion de una clase y sus metodos\n",
    "help(str)"
   ]
  },
  {
   "cell_type": "markdown",
   "metadata": {},
   "source": [
    "**En la práctica**, la mayoría de programadores en Python revisa directamente informacion en internet sobre documentación: https://www.google.com/search?q=google+python+str+methods\n",
    "\n",
    "Python es un lenguaje tan ampliamente utilizado que siempre hay alguien que ha escrito una excelente guía sobre lo que necesitas saber, y Google te puede ayudar a encontrarla.\n",
    "\n",
    "# Clases de contenedores\n",
    "\n",
    "Hasta ahora solo hemos cubierto los átomos de Python. Todavía no hemos introducido cómo combinar los átomos en moléculas más útiles.\n",
    "\n",
    "Los tipos de datos básicos `int`, `float`, `str`, `bool` y `none` se pueden combinar en **los tipos de contenedores básicos**.\n",
    "\n",
    "| Nombre de clase | Nombre completo | Acceso a elementos                     | Frecuencia   | Comentarios |\n",
    "|:---             |:---             | :---                       | :---         | :---        |\n",
    "| list            | Lista           | Acceso por orden          | Muy común        | Al acceder a los elementos por orden, el orden en que agregas elementos a la lista es importante |\n",
    "| dict            | Diccionario     | Acceso por clave          | Muy común        | Como accedemos por clave, el orden no es tan importante |\n",
    "| tuple           | Tupla           | Acceso por orden          | Menos común  | Muy similar a una lista, pero no se puede modificar una vez creada |\n",
    "| set             | Conjunto        | No tiene acceso a elementos | Raro | Un contenedor que no puede tener duplicados |\n",
    "\n",
    "Los contenedores pueden contener elementos de tipos básicos (átomos), así como también variables que son otros contenedores.  \n",
    "Puedes mezclar tipos de datos y tipos de contenedores si es necesario.\n",
    "\n",
    "`list` y `dict` – Exploraremos listas y diccionarios en detalle porque se utilizan con mucha frecuencia. Veremos listas hoy y contenedores manana.\n",
    "\n",
    "`tuple` y `set` – Las tuplas a menudo son resultados de funciones y métodos. No cubriremos estos dos tipos de contenedores en este curso.\n",
    "\n",
    "\n",
    "## S4.1 Clases de contenedores - Listas\n",
    "\n",
    "| Nombre de clase | Nombre completo | Acceso a elementos                     | Frecuencia   | Comentarios |\n",
    "|:---             |:---             | :---                       | :---         | :---        |\n",
    "| list            | Lista           | Acceso por orden          | Muy común        | Al acceder a los elementos por orden, el orden en que agregas elementos a la lista es importante |\n",
    "\n",
    "Podemos agregar variables a una lista en el momento de crearla o podemos agregar elementos después.\n",
    "\n",
    "---\n",
    "\n",
    "**Creando una lista:**"
   ]
  },
  {
   "cell_type": "code",
   "execution_count": null,
   "metadata": {
    "id": "6yG55Re2rt3b"
   },
   "outputs": [],
   "source": [
    "# Creando una lista de int\n",
    "lista_int = [0, 4, 1, 2, 6, 7, 6 ,7]\n",
    "print(lista_int)"
   ]
  },
  {
   "cell_type": "code",
   "execution_count": null,
   "metadata": {
    "id": "Ng55I2_Crt3b"
   },
   "outputs": [],
   "source": [
    "# Creando una lists de string\n",
    "lista_str = ['a', 'b', 'c', 'hola', 'aaaaaaaaaaa']\n",
    "print(lista_str)"
   ]
  },
  {
   "cell_type": "code",
   "execution_count": null,
   "metadata": {
    "id": "YSzCMjzdrt3b"
   },
   "outputs": [],
   "source": [
    "# Creando una lista con varias clases\n",
    "lista_mixta = [42, 'Santo Domingo', False]\n",
    "print(lista_mixta)"
   ]
  },
  {
   "cell_type": "code",
   "execution_count": null,
   "metadata": {
    "id": "QUhsOAFJrt3b"
   },
   "outputs": [],
   "source": [
    "# Revisando la clase de una lista con elementos de diferentes clases\n",
    "type(lista_mixta)"
   ]
  },
  {
   "cell_type": "markdown",
   "metadata": {
    "id": "ZbdS68bDrt3b"
   },
   "source": [
    "**Accediendo a un elemento en una lista**:\n",
    "\n",
    "Accedemos a un elemento de la lista con el orden (indice) del elemento. Por ejemplo, el tercer elemento, el séptimo, etc.\n",
    "\n",
    "Sin embargo, los elementos se acceden por su índice, y en programacion el índice comienza en 0 y no en 1. Así que el primer elemento es aquel de indice cero y el elemento con índice 1 es en realidad el segundo elemento de la lista."
   ]
  },
  {
   "cell_type": "code",
   "execution_count": null,
   "metadata": {
    "id": "GJcjuk6srt3b"
   },
   "outputs": [],
   "source": [
    "# Mostrando la lista\n",
    "print('Lista lista_mixta:', lista_mixta)"
   ]
  },
  {
   "cell_type": "code",
   "execution_count": null,
   "metadata": {
    "id": "GJcjuk6srt3b"
   },
   "outputs": [],
   "source": [
    "# Mostrando el primer elemento de la lista:\n",
    "print('Primer elemento (indice 0):' , lista_mixta[0])"
   ]
  },
  {
   "cell_type": "code",
   "execution_count": null,
   "metadata": {
    "id": "GJcjuk6srt3b"
   },
   "outputs": [],
   "source": [
    "# Mostrando el segundo elemento en la lista:\n",
    "print('Segundo elemento (indice 1):', lista_mixta[1])"
   ]
  },
  {
   "cell_type": "code",
   "execution_count": null,
   "metadata": {
    "id": "GJcjuk6srt3b"
   },
   "outputs": [],
   "source": [
    "# El tercer elemento:\n",
    "print('Tercer elemento (indice 2):' , lista_mixta[2])"
   ]
  },
  {
   "cell_type": "code",
   "execution_count": null,
   "metadata": {
    "id": "FJsL14xXrt3b"
   },
   "outputs": [],
   "source": [
    "# Accediendo al segundo elemento y guardando su valor en una nueva variable\n",
    "ciudad = lista_mixta[1]\n",
    "print('Variable ciudad:', ciudad)"
   ]
  },
  {
   "cell_type": "code",
   "execution_count": null,
   "metadata": {
    "id": "cqPJ1CqKrt3b"
   },
   "outputs": [],
   "source": [
    "# Es importante notar que acceder a los elementos no modifica la lista:\n",
    "print('List lista_mixta:', lista_mixta)"
   ]
  },
  {
   "cell_type": "markdown",
   "metadata": {
    "id": "BrHSLrZtrt3b"
   },
   "source": [
    "**Accediendo a varios elementos en una lista:**"
   ]
  },
  {
   "cell_type": "code",
   "execution_count": null,
   "metadata": {
    "id": "o_fcZFs9rt3b"
   },
   "outputs": [],
   "source": [
    "# Definiendo una lista de int\n",
    "lista_int = [0, 1, 2, 3, 4, 5, 6, 7, 8, 9]"
   ]
  },
  {
   "cell_type": "code",
   "execution_count": null,
   "metadata": {
    "id": "RY1nR1zErt3b"
   },
   "outputs": [],
   "source": [
    "# Obteniendo todos los elementos de indice 0 \n",
    "# hasta (pero sin incluir) el elemento de indice 3\n",
    "# 0 ≤ indice < 3\n",
    "print(lista_int[0:3])"
   ]
  },
  {
   "cell_type": "code",
   "execution_count": null,
   "metadata": {
    "id": "tTFFwXB1rt3b"
   },
   "outputs": [],
   "source": [
    "# Si el primer numero en el rango no esta definido, Python asume que es 0\n",
    "# 0:3 es lo mismo que :3\n",
    "print(lista_int[:3])"
   ]
  },
  {
   "cell_type": "code",
   "execution_count": null,
   "metadata": {
    "id": "a2k1Dwvtrt3c"
   },
   "outputs": [],
   "source": [
    "# 5 ≤ indice < 7\n",
    "print(lista_int[5:7])"
   ]
  },
  {
   "cell_type": "code",
   "execution_count": null,
   "metadata": {
    "id": "IRKEQ8TPrt3c"
   },
   "outputs": [],
   "source": [
    "# 8 ≤ indice < infinito\n",
    "# Si el seugndo numero del rango se omite, Python muestra los elemntos hasta el final de la lista\n",
    "print(lista_int[8:])"
   ]
  },
  {
   "cell_type": "code",
   "execution_count": null,
   "metadata": {
    "id": "rjA58p9_rt3c"
   },
   "outputs": [],
   "source": [
    "# Seleccionando los ultimos elementos con un indice negativo\n",
    "# (numero de elementos - 3) ≤ indice < infinito\n",
    "print(lista_int[-3:])"
   ]
  },
  {
   "cell_type": "code",
   "execution_count": null,
   "metadata": {
    "id": "kUv5LLyGrt3c"
   },
   "outputs": [],
   "source": [
    "# (numero de elementos - 7) ≤ indice < (numbero de elementos - 2)\n",
    "print(lista_int[-7:-2])\n",
    "# esto es igual a: 3 ≤ indice < 8\n",
    "print(lista_int[3:8])"
   ]
  },
  {
   "cell_type": "markdown",
   "metadata": {
    "id": "bmwF0kf9rt3c"
   },
   "source": [
    "**Mensaje de error importante: IndexError**\n",
    "\n",
    "Siempre que veas un error que dice \"índice fuera de rango\", como en `IndexError: list index out of range`, significa que has intentado acceder a un elemento de la lista usando un índice que no existe en la lista."
   ]
  },
  {
   "cell_type": "code",
   "execution_count": null,
   "metadata": {
    "id": "5Ans_DPprt3c"
   },
   "outputs": [],
   "source": [
    "# IndexError: indice fuera del rango\n",
    "print(lista_int)\n",
    "print(lista_int[10])"
   ]
  },
  {
   "cell_type": "markdown",
   "metadata": {
    "id": "HrKvXJjbrt3c"
   },
   "source": [
    "**Ejercicio 6a**"
   ]
  },
  {
   "cell_type": "code",
   "execution_count": null,
   "metadata": {
    "id": "DPbyQ_iTrt3c"
   },
   "outputs": [],
   "source": [
    "# Usando esta lista y en una sola linea de codigo,\n",
    "# crea la variable ex7_x con la lista [0,1,2,3,4]\n",
    "\n",
    "digitos = [0,1,2,3,4,5,6,7,8,9] \n",
    "\n",
    "### AGREGA AQUI TU CODIGO\n",
    "\n",
    "# === No modifiques la linea siguiente ===\n",
    "assert ex7_x == [0,1,2,3,4]"
   ]
  },
  {
   "cell_type": "markdown",
   "metadata": {
    "id": "YIGDz3_mrt3c"
   },
   "source": [
    "**Ejercicio 6b**"
   ]
  },
  {
   "cell_type": "code",
   "execution_count": null,
   "metadata": {
    "id": "yRBGZOMvrt3c"
   },
   "outputs": [],
   "source": [
    "# Usando esta lista y en una sola linea de codigo,\n",
    "# crea la variable ex7_y con la lista [5,6,7,8]\n",
    "\n",
    "digitos = [0,1,2,3,4,5,6,7,8,9]\n",
    "\n",
    "### AGREGA AQUI TU CODIGO\n",
    "\n",
    "# === No modifiques la linea siguiente ===\n",
    "assert ex7_y == [5,6,7,8]"
   ]
  },
  {
   "cell_type": "markdown",
   "metadata": {
    "id": "u2SxOnLzrt3c"
   },
   "source": [
    "**Modificando listas:**\n",
    "\n",
    "Las listas tienen algunos métodos para modificar su contenido. Puedes encontrar una lista de más métodos de listas aquí:  \n",
    "https://www.w3schools.com/python/python_ref_list.asp"
   ]
  },
  {
   "cell_type": "code",
   "execution_count": null,
   "metadata": {
    "id": "MMdRH3Awrt3c",
    "scrolled": true
   },
   "outputs": [],
   "source": [
    "# Creando una lista de string\n",
    "mascotas = ['gato','perro']\n",
    "print('Variable mascotas:', mascotas)\n",
    "\n",
    "# Agregando un elemento a la lista:\n",
    "# Importante: .append() modifica la lista con la que se aplica el metodo\n",
    "mascotas.append('pez')\n",
    "print('Variable mascotas:', mascotas)"
   ]
  },
  {
   "cell_type": "markdown",
   "metadata": {},
   "source": [
    "Es importante notar que no hicimos `mascotas = mascotas.append('pez')`. Esto se puede realizar, pero el resultado es un `None`:"
   ]
  },
  {
   "cell_type": "code",
   "execution_count": null,
   "metadata": {
    "id": "X1rOxWocrt3c"
   },
   "outputs": [],
   "source": [
    "mascotas_append_resultado = mascotas.append('loro')\n",
    "print('Variable mascotas:', mascotas)\n",
    "print('Variable mascotas_append_resultado:', mascotas_append_resultado)"
   ]
  },
  {
   "cell_type": "markdown",
   "metadata": {},
   "source": [
    "Tambien podemos insertar nuevos elementos en una lista con `.insert()`:"
   ]
  },
  {
   "cell_type": "code",
   "execution_count": null,
   "metadata": {
    "id": "Q-Np9qtprt3c"
   },
   "outputs": [],
   "source": [
    "# Definiendo la lista de mascotas\n",
    "mascotas = ['gato', 'perro', 'pez', 'loro']\n",
    "print(mascotas)\n",
    "\n",
    "# Print item with index 3 in original list\n",
    "print('Mascota en el indice 3:', mascotas[3])"
   ]
  },
  {
   "cell_type": "code",
   "execution_count": null,
   "metadata": {
    "id": "Q-Np9qtprt3c"
   },
   "outputs": [],
   "source": [
    "# Agregando un elemento en el indice 2\n",
    "mascotas.insert(2, 'iguana')\n",
    "\n",
    "# Print item with index 3 again\n",
    "print('Mascota en el indice 3:', mascotas[3])\n",
    "\n",
    "#Print all pets\n",
    "print('Variable mascotas:', mascotas)"
   ]
  },
  {
   "cell_type": "code",
   "execution_count": null,
   "metadata": {
    "id": "RcXxsxgkrt3c"
   },
   "outputs": [],
   "source": [
    "# Modicando el elemento en el indice 1\n",
    "mascotas[1] = 'lobo'\n",
    "print('Variable mascotas:', mascotas)"
   ]
  },
  {
   "cell_type": "code",
   "execution_count": null,
   "metadata": {
    "id": "GffHXEZmrt3c"
   },
   "outputs": [],
   "source": [
    "# Mostrando la lista inicial\n",
    "print('Variable mascotas:', mascotas)\n",
    "\n",
    "# Borrando y extrayendo un elemento por su indice, esto da como resultado el elemento\n",
    "mascota_pop = mascotas.pop(3)\n",
    "\n",
    "# Mostrando los resultados\n",
    "print('Variable mascota_pop:', mascota_pop)\n",
    "print('Variable mascotas:', mascotas)"
   ]
  },
  {
   "cell_type": "code",
   "execution_count": null,
   "metadata": {},
   "outputs": [],
   "source": [
    "# Borrando un elemento de una lista por su valor. Esto modifica la lista en la que se aplica el metodo\n",
    "mascotas.remove('gato')\n",
    "print('Variable mascotas:', mascotas)"
   ]
  },
  {
   "cell_type": "markdown",
   "metadata": {
    "id": "gsBT1hLyrt3c"
   },
   "source": [
    "**Operaciones con listas:**\n",
    "\n",
    "Adicion de listas:"
   ]
  },
  {
   "cell_type": "code",
   "execution_count": null,
   "metadata": {
    "id": "VNyaGqpErt3c"
   },
   "outputs": [],
   "source": [
    "# Creando dos listas\n",
    "impares = [1,3,5,7,9]\n",
    "pares = [0,2,4,6,8]\n",
    "\n",
    "# Combinando las listas\n",
    "numeros = impares + pares\n",
    "print('Variable numeros:', numeros)\n",
    "\n",
    "# Ordenando la lista con .sort() -- este metodo edita la lista en la que se aplica\n",
    "numeros.sort()\n",
    "print('Variable numeros:', numeros)"
   ]
  },
  {
   "cell_type": "markdown",
   "metadata": {},
   "source": [
    "Listas anidadas: (listas dentro de listas)"
   ]
  },
  {
   "cell_type": "code",
   "execution_count": null,
   "metadata": {
    "id": "BDe8Xv_4rt3c"
   },
   "outputs": [],
   "source": [
    "# Creando tres listas\n",
    "l1 = ['a','b','c']\n",
    "l2 = ['d','e','f']\n",
    "l3 = ['g','h','i']\n",
    "\n",
    "# Creando una lista de listas\n",
    "lista_anidada = [l1,l2,l3]\n",
    "print('Variable lista_anidada:', lista_anidada)\n",
    "type(lista_anidada)"
   ]
  },
  {
   "cell_type": "markdown",
   "metadata": {},
   "source": [
    "Podemos acceder a los elementos de listas anidadas usando indices mas de una vez:"
   ]
  },
  {
   "cell_type": "code",
   "execution_count": null,
   "metadata": {
    "id": "ukvbR6NErt3d"
   },
   "outputs": [],
   "source": [
    "# Accediendo al elemento \"f\" en la lista anidada\n",
    "elemento_f = lista_anidada[1][2]\n",
    "print('Variable elemento_f:', elemento_f)"
   ]
  },
  {
   "cell_type": "markdown",
   "metadata": {},
   "source": [
    "Agregando nuevos elementos al final de una lista:"
   ]
  },
  {
   "cell_type": "code",
   "execution_count": null,
   "metadata": {
    "id": "7MMpbUOKrt3d"
   },
   "outputs": [],
   "source": [
    "# Comenzamos con una lista vacia\n",
    "promedios = []\n",
    "\n",
    "# Agregando elementos a la lista\n",
    "promedios.append(23.45)\n",
    "promedios.append(45.1)\n",
    "promedios.append(28.62)\n",
    "\n",
    "print('Variable promedios:', promedios)"
   ]
  },
  {
   "cell_type": "markdown",
   "metadata": {},
   "source": [
    "\"Multiplicacion\" de listas: (repeticion)"
   ]
  },
  {
   "cell_type": "code",
   "execution_count": null,
   "metadata": {
    "id": "G5oEL5Dnrt3d"
   },
   "outputs": [],
   "source": [
    "# Creando una lista mediante la repeticion de otra lista\n",
    "lista_a = ['a'] \n",
    "lista_a5 = lista_a * 5\n",
    "lista_abc3 = ['a','b','c'] * 3\n",
    "\n",
    "print('Variable lista_a:', lista_a)\n",
    "print('Variable lista_a5:', lista_a5)\n",
    "print('Variable lista_abc3:', lista_abc3)"
   ]
  },
  {
   "cell_type": "markdown",
   "metadata": {
    "id": "OqNTht40rt3d"
   },
   "source": [
    "**Informacion sobre listas:**\n",
    "\n",
    "Podemos usar la funcion `len()` para obtener el numero de elementos de la lista"
   ]
  },
  {
   "cell_type": "code",
   "execution_count": null,
   "metadata": {
    "id": "EhqCNtoNrt3d"
   },
   "outputs": [],
   "source": [
    "print('Numero de elementos en lista_a:', len(lista_a))\n",
    "print('Numero de elementos en lista_a5:', len(lista_a5))"
   ]
  },
  {
   "cell_type": "code",
   "execution_count": null,
   "metadata": {
    "id": "FMSP8t5ort3d"
   },
   "outputs": [],
   "source": [
    "# Tambien podemos guardar en una variable el tamano de la lista\n",
    "tamano_lista_abc3 = len(lista_abc3)\n",
    "print('Numero de elementos en lista_abc3:', tamano_lista_abc3)\n",
    "type(tamano_lista_abc3)"
   ]
  },
  {
   "cell_type": "markdown",
   "metadata": {
    "id": "2r3SN04Jrt3d"
   },
   "source": [
    "Chequeando si un elemento esta o no en una lista:"
   ]
  },
  {
   "cell_type": "code",
   "execution_count": null,
   "metadata": {
    "id": "m3o_vsB4rt3d"
   },
   "outputs": [],
   "source": [
    "lista_abc = ['a','b','c']\n",
    "\n",
    "a_en_lista_abc = 'a' in lista_abc\n",
    "d_no_en_lista_abc = 'd' not in lista_abc\n",
    "\n",
    "print('Variable lista_abc:', lista_abc)\n",
    "print('Variable a_en_lista_abc:', a_en_lista_abc)\n",
    "print('Variable d_no_en_lista_abc:', d_no_en_lista_abc)"
   ]
  },
  {
   "cell_type": "markdown",
   "metadata": {
    "id": "iRcHfNPlrt3d"
   },
   "source": [
    "**Ejercicio 7a**"
   ]
  },
  {
   "cell_type": "code",
   "execution_count": null,
   "metadata": {
    "id": "l8-3RNmBrt3d"
   },
   "outputs": [],
   "source": [
    "# Crea la variable ex8_x con el int 6 extrayendolo de la lista digitos\n",
    "\n",
    "digitos = [[0,1,2],[3,4,5],6,[7,8,9]]\n",
    "\n",
    "### AGREGA TU CODIGO AQUI\n",
    "\n",
    "# === No modifiques la linea siguiente ===\n",
    "assert ex8_x == 6"
   ]
  },
  {
   "cell_type": "markdown",
   "metadata": {
    "id": "O0LDustxrt3d"
   },
   "source": [
    "**Ejercicio 7b**"
   ]
  },
  {
   "cell_type": "code",
   "execution_count": null,
   "metadata": {
    "id": "PuSDB65rrt3d"
   },
   "outputs": [],
   "source": [
    "# De la lista digitos y en una linea de codigo,\n",
    "# crea la variable ex8_y con el int 4 \n",
    "\n",
    "digitos = [[0,1,2],[3,4,5],6,[7,8,9]]\n",
    "\n",
    "### AGREGA TU CODIGO AQUI\n",
    "\n",
    "# === No modifiques la linea siguiente ===\n",
    "assert ex8_y == 4"
   ]
  },
  {
   "cell_type": "markdown",
   "metadata": {
    "id": "1ylL5S_-rt3e"
   },
   "source": [
    "**Ex. 7c**"
   ]
  },
  {
   "cell_type": "code",
   "execution_count": null,
   "metadata": {
    "id": "Dm1Wgcptrt3e"
   },
   "outputs": [],
   "source": [
    "# Usando solo las variables a, b y c crea la lista [1, 2, 3]\n",
    "# y guardala en la variable ex8_k\n",
    "# No escribas ningun numero entero!\n",
    "\n",
    "a = 2\n",
    "b = [1,4,3]\n",
    "c = 1\n",
    "\n",
    "### AGREGA TU CODIGO AQUI\n",
    "\n",
    "# === No modifiques la linea siguiente ===\n",
    "assert ex8_k == [1,2,3]"
   ]
  },
  {
   "cell_type": "markdown",
   "metadata": {
    "id": "0qj2FzrWrt3e"
   },
   "source": [
    "**Ejercicio 7d** (avanzado)"
   ]
  },
  {
   "cell_type": "code",
   "execution_count": null,
   "metadata": {
    "id": "a8JwViBrrt3e"
   },
   "outputs": [],
   "source": [
    "# Usando solo las variables a, b y c crea la lista [1, 2, 3, 4]\n",
    "# y guardala en la variable ex8_z\n",
    "# No escribas ningun numero entero!\n",
    "\n",
    "a = 4\n",
    "b = [2,3]\n",
    "c = [1]\n",
    "\n",
    "### AGREGA TU CODIGO AQUI\n",
    "\n",
    "# === No modifiques la linea siguiente ===\n",
    "assert ex8_z == [1,2,3,4]"
   ]
  },
  {
   "cell_type": "markdown",
   "metadata": {
    "id": "MhrRuaBWrt3e"
   },
   "source": [
    "**Ex. 7e** (avanzado)"
   ]
  },
  {
   "cell_type": "code",
   "execution_count": null,
   "metadata": {
    "id": "RWy4ma3mrt3e"
   },
   "outputs": [],
   "source": [
    "# Usando solo las variables a, b y c crea la lista [1, 2, 3]\n",
    "# y guardala en la variable ex8_i\n",
    "# No escribas ningun numero entero!\n",
    "\n",
    "a = 3\n",
    "b = [1,4,2]\n",
    "c = 1\n",
    "\n",
    "### AGREGA TU CODIGO AQUI\n",
    "\n",
    "# === No modifiques la linea siguiente ===\n",
    "assert ex8_i == [1,2,3]"
   ]
  }
 ],
 "metadata": {
  "colab": {
   "include_colab_link": true,
   "provenance": []
  },
  "kernelspec": {
   "display_name": "Python [conda env:python-dr-training]",
   "language": "python",
   "name": "conda-env-python-dr-training-py"
  },
  "language_info": {
   "codemirror_mode": {
    "name": "ipython",
    "version": 3
   },
   "file_extension": ".py",
   "mimetype": "text/x-python",
   "name": "python",
   "nbconvert_exporter": "python",
   "pygments_lexer": "ipython3",
   "version": "3.10.16"
  },
  "vscode": {
   "interpreter": {
    "hash": "deb4792152b8b9767403eeef0a1b0f34b83d442136ccee9184cd7d1131f09aa0"
   }
  }
 },
 "nbformat": 4,
 "nbformat_minor": 1
}
