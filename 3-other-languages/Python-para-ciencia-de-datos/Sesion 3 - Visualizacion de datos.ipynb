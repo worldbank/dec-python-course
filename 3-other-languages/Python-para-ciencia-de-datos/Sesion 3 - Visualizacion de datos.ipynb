{
 "cells": [
  {
   "cell_type": "markdown",
   "metadata": {
    "colab_type": "text",
    "id": "view-in-github"
   },
   "source": [
    "<a href=\"https://colab.research.google.com/github/worldbank/dec-python-course/blob/main/1-foundations/4-api-and-dataviz/foundations-s4-dataviz.ipynb\" target=\"_parent\"><img src=\"https://colab.research.google.com/assets/colab-badge.svg\" alt=\"Open In Colab\"/></a>"
   ]
  },
  {
   "cell_type": "code",
   "execution_count": null,
   "metadata": {},
   "outputs": [],
   "source": [
    "# Corre esta linea si es necesario\n",
    "!pip install seaborn"
   ]
  },
  {
   "cell_type": "code",
   "execution_count": null,
   "metadata": {},
   "outputs": [],
   "source": [
    "import pandas as pd\n",
    "pd.options.mode.chained_assignment = None"
   ]
  },
  {
   "cell_type": "markdown",
   "metadata": {},
   "source": [
    "# Introducción a visualización de datos en Python\n",
    "\n",
    "Python cuenta con varios paquetes para la visualización de datos. Dos de las bibliotecas más utilizadas son `matplotlib` y `seaborn`."
   ]
  },
  {
   "cell_type": "markdown",
   "metadata": {},
   "source": [
    "# `matplotlib`\n",
    "\n",
    "- Primera biblioteca de visualización de datos en Python  \n",
    "- Muy potente  \n",
    "- Permite una personalización completa de cualquier gráfico\n",
    "- Sintaxis \"larga\", puede volverse bastante compleja fácilmente\n",
    "- Muy popular en programación científica\n",
    "- Su estética predeterminada es visualmente mala\n",
    "\n",
    "¿Recuerdas esta \"imagen\"? En realidad fue un gráfico creado con `matplotlib`."
   ]
  },
  {
   "cell_type": "markdown",
   "metadata": {},
   "source": [
    "<img src=\"https://github.com/worldbank/dec-python-course/blob/main/1-foundations/4-api-and-dataviz/img/black-hole.jpg?raw=true\" width=400 />"
   ]
  },
  {
   "cell_type": "markdown",
   "metadata": {},
   "source": [
    "# `seaborn`\n",
    "\n",
    "- Construida en base `matplotlib`, sus comandos ejecutan todas sus visualizaciones en `matplotlib`\n",
    "- Tiene una mucho mejor estetica predeterminada\n",
    "- Mucho más fácil de usar que `matplotlib`, pero permite menos personalización en general\n",
    "\n",
    "Vamos a usar `matplotlib` y `seaborn` en esta sesión."
   ]
  },
  {
   "cell_type": "markdown",
   "metadata": {},
   "source": [
    "# Datos iniciales\n",
    "\n",
    " Comenzaremos por cargar los dataframes que hemos generado en limpieza de datos con Pandas"
   ]
  },
  {
   "cell_type": "code",
   "execution_count": null,
   "metadata": {},
   "outputs": [],
   "source": [
    "df_regiones = pd.read_csv('datos/regiones.csv')\n",
    "df_provincias = pd.read_csv('datos/provincias.csv')\n",
    "df_norte = pd.read_csv('datos/provincias_norte_2024.csv')"
   ]
  },
  {
   "cell_type": "code",
   "execution_count": null,
   "metadata": {},
   "outputs": [],
   "source": [
    "df_regiones.head()"
   ]
  },
  {
   "cell_type": "code",
   "execution_count": null,
   "metadata": {},
   "outputs": [],
   "source": [
    "df_provincias.head()"
   ]
  },
  {
   "cell_type": "code",
   "execution_count": null,
   "metadata": {},
   "outputs": [],
   "source": [
    "df_norte.head()"
   ]
  },
  {
   "cell_type": "markdown",
   "metadata": {},
   "source": [
    "# Bar plots\n",
    "\n",
    "We'll create a simple bar plot of Mexico's total population by million.\n",
    "\n",
    "- We need to wrangle the data so that it only includes observations from Mexico and in millions\n",
    "- For bar plots the data we pass to `matplotlib` and `seaborn` is basically composed of the x-axis and y-axis data\n",
    "\n",
    "# Gráficos de barras\n",
    "\n",
    "Vamos a crear un gráfico de barras simple con la recaudacion total por provincia en 2024.\n",
    "\n",
    "- Necesitamos transformar un poco los datos de `df_provincias` para que solo incluyan la recaudacion de 2024\n",
    "- Para los gráficos de barras, los datos que pasamos a `matplotlib` y `seaborn` básicamente se componen de los datos del eje x y del eje y"
   ]
  },
  {
   "cell_type": "code",
   "execution_count": null,
   "metadata": {},
   "outputs": [],
   "source": [
    "y_datos = df_norte['recaudacion 2024'] # eje y: recaudacion de 2024\n",
    "x_datos = df_norte['provincia']        # eje x: provincias"
   ]
  },
  {
   "cell_type": "markdown",
   "metadata": {},
   "source": [
    "## Utilizando `matplotlib`"
   ]
  },
  {
   "cell_type": "code",
   "execution_count": null,
   "metadata": {},
   "outputs": [],
   "source": [
    "import matplotlib.pyplot as plt"
   ]
  },
  {
   "cell_type": "markdown",
   "metadata": {},
   "source": [
    "El comando `bar()` produce un graficos de barras basico."
   ]
  },
  {
   "cell_type": "code",
   "execution_count": null,
   "metadata": {
    "scrolled": false
   },
   "outputs": [],
   "source": [
    "# Grafico de barras simple con opciones esteticas por defecto\n",
    "plt.bar(x_datos, y_datos)"
   ]
  },
  {
   "cell_type": "markdown",
   "metadata": {},
   "source": [
    "Dado que los nombres de las provincias son largos, cambiar el orden de los ejes x, y tendria un mejor resultado. Podemos hacer eso con el comando `hbar()`, que produce un grafico de barras horizontal:"
   ]
  },
  {
   "cell_type": "code",
   "execution_count": null,
   "metadata": {},
   "outputs": [],
   "source": [
    "x_datos = df_norte['recaudacion 2024'] # eje x: recaudacion de 2024\n",
    "y_datos = df_norte['provincia']        # eje y: provincias"
   ]
  },
  {
   "cell_type": "code",
   "execution_count": null,
   "metadata": {
    "scrolled": false
   },
   "outputs": [],
   "source": [
    "# Grafico de barras simple con opciones esteticas por defecto\n",
    "plt.barh(y_datos, x_datos)"
   ]
  },
  {
   "cell_type": "markdown",
   "metadata": {},
   "source": [
    "Personalizando el grafico para una mejor estetica:"
   ]
  },
  {
   "cell_type": "code",
   "execution_count": null,
   "metadata": {},
   "outputs": [],
   "source": [
    "# Orden de los datos: cambiamos el orden en el dataframe primero con .sort_values()\n",
    "df_norte = df_norte.sort_values('recaudacion 2024')\n",
    "x_datos = df_norte['recaudacion 2024'] # eje x: recaudacion de 2024\n",
    "y_datos = df_norte['provincia']        # eje y: provincias\n",
    "\n",
    "# Anadiendo otros elementos\n",
    "titulo = 'Recaudacion en 2024 para provincias de la region norte' # definiendo un titulo\n",
    "plt.barh(y_datos, x_datos)                                        # produciendo el grafico\n",
    "plt.title(titulo)                                                 # agregando el titulo al grafico\n",
    "plt.ylabel('Provincia')                                           # titulo para el eje y\n",
    "plt.xlabel('Millones de pesos');                                  # titulo para el eje x"
   ]
  },
  {
   "cell_type": "markdown",
   "metadata": {},
   "source": [
    "- `plt` tiene una característica que no es muy común en Python: modifica un objeto en el lugar (in-place)\n",
    "- Las múltiples usos de `plt` junto a un metodo añaden personalizaciones sobre el resultado de la línea anterior\n",
    "- Cuando se usa en un notebook, `plt` imprimirá por defecto el resultado de la última línea del bloque de código. Tambien es posible mostrar una visualizacion explicitamente con `plt.show()`\n",
    "- Sin embargo, esto no funcionará con un nuevo bloque de código: un nuevo bloque no tendrá acceso al objeto `plt` del bloque anterior"
   ]
  },
  {
   "cell_type": "code",
   "execution_count": null,
   "metadata": {},
   "outputs": [],
   "source": [
    "# Este codigo no producire nada porque este bloque no tiene acceso al `plt` del bloque anterior.\n",
    "plt.show()"
   ]
  },
  {
   "cell_type": "markdown",
   "metadata": {},
   "source": [
    "- El punto y coma (`;`) al final de la última línea de un bloque le indica al notebook que omita imprimir informacion adicional sobre la ejecucion de `plt` en esa línea (prueba quitándolo para ver la diferencia)"
   ]
  },
  {
   "cell_type": "markdown",
   "metadata": {},
   "source": [
    "## Utilizando `seaborn`"
   ]
  },
  {
   "cell_type": "code",
   "execution_count": null,
   "metadata": {},
   "outputs": [],
   "source": [
    "import seaborn as sns"
   ]
  },
  {
   "cell_type": "code",
   "execution_count": null,
   "metadata": {},
   "outputs": [],
   "source": [
    "# Metodo 1: grafico de barras horizontal\n",
    "sns.barplot(x=x_datos, y=y_datos)"
   ]
  },
  {
   "cell_type": "code",
   "execution_count": null,
   "metadata": {},
   "outputs": [],
   "source": [
    "# Método 1 con título del gráfico\n",
    "sns.barplot(x=x_datos, y=y_datos)\n",
    "plt.title(plot_title);"
   ]
  },
  {
   "cell_type": "code",
   "execution_count": null,
   "metadata": {},
   "outputs": [],
   "source": [
    "# Metodo 2: podemos tambien usar un dataframe directamente como input en seaborn\n",
    "# y definir las columnas de cada eje en argumentos dentro de sns.barplot()\n",
    "# podemos usar el argumento \"color\" para controlar los colores\n",
    "sns.barplot(data=df_norte, x='recaudacion 2024', y='provincia', color='green')\n",
    "plt.title(plot_title);"
   ]
  },
  {
   "cell_type": "markdown",
   "metadata": {},
   "source": [
    "Algunos detalles a tener en cuenta:\n",
    "\n",
    "- En este ejemplo definimos los datos de los ejes x e y como series de Pandas, pero también pueden ser listas con números  \n",
    "- Seaborn acepta dos métodos para graficar visualizaciones:  \n",
    "    + O bien pasas los datos de los ejes x e y en los argumentos `x`, `y`  \n",
    "    + O defines un DataFrame de Pandas en el argumento `data` y asignas `x` y `y` a los nombres de las columnas de donde se tomarán los datos para los ejes  \n",
    "- Compara la sintaxis de ambos paquetes para obtener resultados similares:\n",
    "\n",
    "```python\n",
    "# matplotlib\n",
    "plt.bar(x_data, y_data)\n",
    "plt.title(plot_title)\n",
    "plt.ylabel('Provincia')\n",
    "plt.xlabel('Millones de pesos'); \n",
    "\n",
    "# seaborn\n",
    "sns.barplot(x=x_data, y=y_data, color='C0')\n",
    "plt.title(plot_title);\n",
    "```"
   ]
  },
  {
   "cell_type": "markdown",
   "metadata": {},
   "source": [
    "# Gráficos de líneas\n",
    "\n",
    "- Los gráficos de líneas tienen una sintaxis muy similar a los gráficos de barras en `matplotlib`, pero usan la función `plt.plot()` en lugar de `plt.bar()`  \n",
    "- En `seaborn`, la función es `sns.lineplot()`\n",
    "- Para hacer un grafico de lineas que tenga sentido, utilizaremos los datos de `df_regiones` pero les cambiaremos la forma primero\n",
    "\n",
    "**Importante:** Todo el contenido de esta sesión sigue una práctica fundamental en la visualización de datos: todo el procesamiento de datos se realiza **fuera** del código de visualización. Si se necesita transformar o preparar los datos, lo haremos utilizando Pandas y solo pasaremos los datos ya procesados como insumo para la visualización."
   ]
  },
  {
   "cell_type": "code",
   "execution_count": null,
   "metadata": {},
   "outputs": [],
   "source": [
    "df_regiones"
   ]
  },
  {
   "cell_type": "markdown",
   "metadata": {},
   "source": [
    "Estos datos estan en forma de una observacion por region. En bases de datos, esto se conoce como formato \"ancho\". Los cambiaremos a una observacion por region y año, a formato \"largo\"."
   ]
  },
  {
   "cell_type": "code",
   "execution_count": null,
   "metadata": {},
   "outputs": [],
   "source": [
    "df_regiones_largo = pd.wide_to_long(df_regiones, stubnames='recaudacion', i='region', j='año', sep=' ').reset_index()\n",
    "df_regiones_largo"
   ]
  },
  {
   "cell_type": "code",
   "execution_count": null,
   "metadata": {},
   "outputs": [],
   "source": [
    "# Extrayendo los datos en series para ser inputs en el grafico\n",
    "y_norte = df_regiones_largo[df_regiones_largo['region']=='Norte']['recaudacion']\n",
    "y_sureste = df_regiones_largo[df_regiones_largo['region']=='Sureste']['recaudacion']\n",
    "y_suroeste = df_regiones_largo[df_regiones_largo['region']=='Suroeste']['recaudacion']\n",
    "x = df_regiones_largo[df_regiones_largo['region']=='Norte']['año']"
   ]
  },
  {
   "cell_type": "markdown",
   "metadata": {},
   "source": [
    "## `matplotlib`"
   ]
  },
  {
   "cell_type": "code",
   "execution_count": null,
   "metadata": {},
   "outputs": [],
   "source": [
    "# generando grafico\n",
    "plt.plot(x, y_norte, label ='Norte')\n",
    "plt.plot(x, y_sureste, label ='Sureste')\n",
    "plt.plot(x, y_suroeste, label ='Suroeste')\n",
    "\n",
    "# Estetica\n",
    "titulo = 'Recaudacion anual por region'\n",
    "plt.title(titulo)\n",
    "plt.ylabel('Millones de pesos')\n",
    "plt.xticks(x)  # esto agrega un marcador para cada año\n",
    "plt.legend();  # esto muestra una leyenda"
   ]
  },
  {
   "cell_type": "markdown",
   "metadata": {},
   "source": [
    "## `seaborn`"
   ]
  },
  {
   "cell_type": "code",
   "execution_count": null,
   "metadata": {},
   "outputs": [],
   "source": [
    "sns.lineplot(data=df_regiones_largo, x='año', y='recaudacion', hue='region')\n",
    "plt.title(titulo)\n",
    "plt.xticks(x);"
   ]
  },
  {
   "cell_type": "markdown",
   "metadata": {},
   "source": [
    "# Gráficos de puntos\n",
    "\n",
    "Vamos a crear un gráfico de puntos de la recaudacion en 2024 y la recaudacion diez años antes, en 2015."
   ]
  },
  {
   "cell_type": "markdown",
   "metadata": {},
   "source": [
    "## Con `matplotlib`"
   ]
  },
  {
   "cell_type": "code",
   "execution_count": null,
   "metadata": {},
   "outputs": [],
   "source": [
    "df_provincias"
   ]
  },
  {
   "cell_type": "code",
   "execution_count": null,
   "metadata": {},
   "outputs": [],
   "source": [
    "# Excluimos Distrito Nacional por ser un valor extremo\n",
    "x = df_provincias[df_provincias['provincia']!='Distrito Nacional']['recaudacion 2015']\n",
    "y = df_provincias[df_provincias['provincia']!='Distrito Nacional']['recaudacion 2024']"
   ]
  },
  {
   "cell_type": "code",
   "execution_count": null,
   "metadata": {},
   "outputs": [],
   "source": [
    "# Grafico de puntos basico\n",
    "plt.scatter(x, y);"
   ]
  },
  {
   "cell_type": "code",
   "execution_count": null,
   "metadata": {},
   "outputs": [],
   "source": [
    "# Agregando elementos\n",
    "plt.scatter(x, y, s=15) # s=15 indica el tamano del punto\n",
    "plt.title('Recaudacion por provincia en 2015 versus recaudacion en 2024')\n",
    "plt.xlabel('2015 - Millones de pesos')\n",
    "plt.ylabel('2024 - Millones de pesos')\n",
    "plt.annotate('Incluye todas las provincias excepto Distrito Nacional', (0, 0), (0, -40), xycoords='axes fraction', textcoords='offset points', va='top');"
   ]
  },
  {
   "cell_type": "markdown",
   "metadata": {},
   "source": [
    "## Con `seaborn`"
   ]
  },
  {
   "cell_type": "code",
   "execution_count": null,
   "metadata": {},
   "outputs": [],
   "source": [
    "sns.scatterplot(data=df_provincias[df_provincias['provincia']!='Distrito Nacional'], x='recaudacion 2015', y='recaudacion 2024')\n",
    "plt.title('Recaudacion por provincia en 2015 versus recaudacion en 2024')\n",
    "plt.xlabel('2015 - Millones de pesos')\n",
    "plt.ylabel('2024 - Millones de pesos')\n",
    "plt.annotate('Incluye todas las provincias excepto Distrito Nacional', (0, 0), (0, -40), xycoords='axes fraction', textcoords='offset points', va='top');"
   ]
  },
  {
   "cell_type": "markdown",
   "metadata": {},
   "source": [
    "# Histogramas\n",
    "\n",
    "Haremos un histograma de la recaudacion por provincia en 2024.\n",
    "\n",
    "## `matplotlib`"
   ]
  },
  {
   "cell_type": "code",
   "execution_count": null,
   "metadata": {},
   "outputs": [],
   "source": [
    "# Nuevamente excluimos Distrito Nacional por ser un valor extremo comparado al resto de provincias\n",
    "x = df_provincias[df_provincias['provincia']!='Distrito Nacional']['recaudacion 2024']"
   ]
  },
  {
   "cell_type": "code",
   "execution_count": null,
   "metadata": {},
   "outputs": [],
   "source": [
    "# Histograma basico\n",
    "plt.hist(x);"
   ]
  },
  {
   "cell_type": "code",
   "execution_count": null,
   "metadata": {},
   "outputs": [],
   "source": [
    "# Anadiendo cambios esteticos\n",
    "plt.hist(x, bins=20) # bins define el numero de bloques en el histograma\n",
    "plt.title('Histograma de recaudacion por provincia en 2024')\n",
    "plt.xlabel('Millones de pesos')\n",
    "plt.ylabel('Numero de provincias')\n",
    "plt.annotate('Incluye todas las provincias excepto Distrito Nacional', (0, 0), (0, -40), xycoords='axes fraction', textcoords='offset points', va='top');"
   ]
  },
  {
   "cell_type": "markdown",
   "metadata": {},
   "source": [
    "## `seaborn`"
   ]
  },
  {
   "cell_type": "code",
   "execution_count": null,
   "metadata": {},
   "outputs": [],
   "source": [
    "# Con las opciones por defecto\n",
    "sns.histplot(data=df_provincias[df_provincias['provincia']!='Distrito Nacional'], x='recaudacion 2024');"
   ]
  },
  {
   "cell_type": "code",
   "execution_count": null,
   "metadata": {},
   "outputs": [],
   "source": [
    "# Anadiendo elementos a la apariencia\n",
    "sns.histplot(data=df_provincias[df_provincias['provincia']!='Distrito Nacional'], x='recaudacion 2024', bins=20)\n",
    "plt.title('Histograma de recaudacion por provincia en 2024')\n",
    "plt.xlabel('Millones de pesos')\n",
    "plt.ylabel('Numero de provincias')\n",
    "plt.annotate('Incluye todas las provincias excepto Distrito Nacional', (0, 0), (0, -40), xycoords='axes fraction', textcoords='offset points', va='top');"
   ]
  },
  {
   "cell_type": "markdown",
   "metadata": {},
   "source": [
    "# Guardando visualizaciones como imagenes\n",
    "\n",
    "Tanto `matplotlib` como `seaborn` usan el mismo (de `matplotlib`) para guardar imagenes: `.savefig()`"
   ]
  },
  {
   "cell_type": "code",
   "execution_count": null,
   "metadata": {},
   "outputs": [],
   "source": [
    "# Anadiendo cambios esteticos\n",
    "plt.hist(x, bins=20) # bins define el numero de bloques en el histograma\n",
    "plt.title('Histograma de recaudacion por provincia en 2024')\n",
    "plt.xlabel('Millones de pesos')\n",
    "plt.ylabel('Numero de provincias')\n",
    "plt.annotate('Incluye todas las provincias excepto Distrito Nacional', (0, 0), (0, -40), xycoords='axes fraction', textcoords='offset points', va='top');\n",
    "plt.savefig('img/histograma_matplotlib.png')\n",
    "plt.show()"
   ]
  },
  {
   "cell_type": "code",
   "execution_count": null,
   "metadata": {},
   "outputs": [],
   "source": [
    "# Anadiendo elementos a la apariencia\n",
    "sns.histplot(data=df_provincias[df_provincias['provincia']!='Distrito Nacional'], x='recaudacion 2024', bins=20)\n",
    "plt.title('Histograma de recaudacion por provincia en 2024')\n",
    "plt.xlabel('Millones de pesos')\n",
    "plt.ylabel('Numero de provincias')\n",
    "plt.annotate('Incluye todas las provincias excepto Distrito Nacional', (0, 0), (0, -40), xycoords='axes fraction', textcoords='offset points', va='top');\n",
    "plt.savefig('img/histograma_seaborn.png')\n",
    "plt.show()"
   ]
  }
 ],
 "metadata": {
  "kernelspec": {
   "display_name": "Python [conda env:python-dr-training]",
   "language": "python",
   "name": "conda-env-python-dr-training-py"
  },
  "language_info": {
   "codemirror_mode": {
    "name": "ipython",
    "version": 3
   },
   "file_extension": ".py",
   "mimetype": "text/x-python",
   "name": "python",
   "nbconvert_exporter": "python",
   "pygments_lexer": "ipython3",
   "version": "3.10.16"
  }
 },
 "nbformat": 4,
 "nbformat_minor": 4
}
