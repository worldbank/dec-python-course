{
 "cells": [
  {
   "cell_type": "markdown",
   "metadata": {
    "colab_type": "text",
    "id": "view-in-github"
   },
   "source": [
    "<a href=\"https://colab.research.google.com/github/worldbank/dec-python-course/blob/main/3-other-languages/Python-para-ciencia-de-datos/Sesion%202%20-%20Control%20de%20ejecucion%20y%20funciones.ipynb\" target=\"_parent\"><img src=\"https://colab.research.google.com/assets/colab-badge.svg\" alt=\"Open In Colab\"/></a>"
   ]
  },
  {
   "cell_type": "markdown",
   "id": "e3e80fd7",
   "metadata": {},
   "source": [
    "# Sesión 2 - Control de ejecucion y funciones\n",
    "\n",
    "Esta sesión cubrirá los siguientes temas\n",
    "\n",
    "- Diccionarios\n",
    "- Control de ejecucion\n",
    "- Sentencias condicionales y flujo lógico  \n",
    "- Creación de funciones personalizadas"
   ]
  },
  {
   "cell_type": "markdown",
   "id": "cd7e284f",
   "metadata": {},
   "source": [
    "# Repaso del contenido de la Sesión 1\n",
    "\n",
    "- Variables  \n",
    "- Tipos de datos  \n",
    "    - Numéricos (números) - `int`/`float`  \n",
    "    - Texto (cadenas) - `str`  \n",
    "    - Booleanos (Verdadero/Falso) - `bool`  \n",
    "- Métodos para la clase `str`\n",
    "- Tipos de contenedores  \n",
    "    - Listas (crear una lista, indexar los elementos de una lista, hacer subsetting y modificar una lista)\n",
    "- Algunos errores comunes (NameError, AttributeError, IndexError, KeyError, etc.)\n",
    "\n",
    "En esta sesion continuaremos con la introduccion de un nuevo tipo de contenedor: diccionarios."
   ]
  },
  {
   "cell_type": "markdown",
   "id": "7a84282d",
   "metadata": {
    "id": "ClhdECnJrt3e"
   },
   "source": [
    "# Clases de contenedores - Diccionarios\n",
    "\n",
    "| Clase | Nombre completo | Acceso a sus elementos                     | Frecuencia  | Observaciones |\n",
    "|:---             |:---              | :---                       | :---        | :---\n",
    "| dict            | Diccionario      | Acceso a elementos por clave | Muy utilizado      | Dado que accedemos a sus elementos usando una clave, el orden de los elementos no es tan importante |\n",
    "\n",
    "Cada elemento en un diccionario consiste en dos cosas: el valor del elemento y una clave utilizada para referirse a él.\n",
    "\n",
    "El valor elemento puede ser de cualquier tipo (desde variables como un solo valor hasta contenedores con miles de elementos).\n",
    "\n",
    "---\n",
    "\n",
    "**Creando un diccionario:**\n",
    "\n",
    "Los diccionarios siempre se definen entre llaves (`{}`) y sus elementos van separados por comas. Todos los elementos constan de 2 partes:\n",
    "- la **clave** (*key*)\n",
    "- el **valor** (*value*)\n",
    "\n",
    "La clave y el valor van separados por dos puntos (`:`). La clave va siempre antes de los dos puntos y el valor va siempre despues."
   ]
  },
  {
   "cell_type": "code",
   "execution_count": null,
   "id": "f73cd259",
   "metadata": {
    "id": "nMMO8AsOrt3f"
   },
   "outputs": [],
   "source": [
    "# Creando un diccionario\n",
    "x = {'a': 'alfa', 'b': 3, 'c': True, 'd': [1,2,3]}\n",
    "print('Variable x:', x)\n",
    "type(x)"
   ]
  },
  {
   "cell_type": "markdown",
   "id": "8a68a9b9",
   "metadata": {},
   "source": [
    "Python permite utilizar espacios verticales y horizontales para hacer el codigo mas facil de leer. A pesar de utilizar espacios, el resultado es el mismo:"
   ]
  },
  {
   "cell_type": "code",
   "execution_count": null,
   "id": "4ff0034b",
   "metadata": {
    "id": "nMMO8AsOrt3f"
   },
   "outputs": [],
   "source": [
    "# Creando un diccionario\n",
    "x = {\n",
    "    'a': 'alfa',\n",
    "    'b': 3,\n",
    "    'c': True,\n",
    "    'd': [1,2,3]\n",
    "}\n",
    "print('Variable x:', x)\n",
    "type(x)"
   ]
  },
  {
   "cell_type": "markdown",
   "id": "903084e1",
   "metadata": {},
   "source": [
    "**Accediendo a los valores de un diccionario:**"
   ]
  },
  {
   "cell_type": "code",
   "execution_count": null,
   "id": "bb3138e8",
   "metadata": {
    "id": "74-anTaIrt3f"
   },
   "outputs": [],
   "source": [
    "# Accedemos al valor usando la clave asociada a ese valor:\n",
    "print(x['a'])\n",
    "print(x['b'])\n",
    "print(x['c'])\n",
    "print(x['d'])"
   ]
  },
  {
   "cell_type": "code",
   "execution_count": null,
   "id": "0454d23d",
   "metadata": {
    "id": "A69FAGvSrt3f"
   },
   "outputs": [],
   "source": [
    "# Ejemplo: supongamos que queremos mantener registro de los datos de un contribuyente\n",
    "\n",
    "# Empezamos con dos diccionarios vacios\n",
    "contribuyente_a = {}\n",
    "contribuyente_b = {}\n",
    "\n",
    "# Detalles del contribuyente A\n",
    "contribuyente_a['nombre'] = 'Joaquin Gomez'\n",
    "contribuyente_a['id'] = '6EQUJ5'\n",
    "\n",
    "# Detalles del contribuyente B\n",
    "contribuyente_b['id'] = 'GTCTAT'\n",
    "contribuyente_b['nombre'] = 'Rosa Montenegro'\n",
    "\n",
    "print('Variable contribuyente_a:\\n\\t', contribuyente_a)\n",
    "print('Variable contribuyente_b:\\n\\t', contribuyente_b)"
   ]
  },
  {
   "cell_type": "markdown",
   "id": "9652b2ad",
   "metadata": {},
   "source": [
    "Los valores de una variable pueden accederse por su clave:"
   ]
  },
  {
   "cell_type": "code",
   "execution_count": null,
   "id": "17b4de7c",
   "metadata": {
    "id": "iReXoF7Krt3f"
   },
   "outputs": [],
   "source": [
    "print('Nombre del contribuyente A:\\n\\t', contribuyente_a['nombre'])\n",
    "print('Nombre del contribuyente B:\\n\\t', contribuyente_b['nombre'])"
   ]
  },
  {
   "cell_type": "markdown",
   "id": "a799151f",
   "metadata": {},
   "source": [
    "Tambien podemos anadir nuevos elementos en un diccionario existente al utilizar nuevas claves:"
   ]
  },
  {
   "cell_type": "code",
   "execution_count": null,
   "id": "5805f254",
   "metadata": {
    "id": "U2f9_J19rt3f"
   },
   "outputs": [],
   "source": [
    "# Anadiendo declaracion para el contribuyente A\n",
    "contribuyente_a['declaracion'] = 8420\n",
    "print(contribuyente_a)"
   ]
  },
  {
   "cell_type": "markdown",
   "id": "986b3513",
   "metadata": {
    "id": "d8lMNiwFrt3f"
   },
   "source": [
    "**Mensaje de error importante: KeyError**\n",
    "\n",
    "Cada vez que veas un error con el formato `KeyError: .....`, significa que has intentado acceder a un elemento del diccionario usando una clave que no existe en el diccionario.\n",
    "\n",
    "Por ejemplo, la clave `declaracion` no existe en la variable `contribuyente_b`:"
   ]
  },
  {
   "cell_type": "code",
   "execution_count": null,
   "id": "dbee2d0b",
   "metadata": {
    "id": "39aCbdhjrt3f",
    "scrolled": true
   },
   "outputs": [],
   "source": [
    "contribuyente_b['declaracion']"
   ]
  },
  {
   "cell_type": "markdown",
   "id": "f5129f3f",
   "metadata": {},
   "source": [
    "Para evitar este error, una buena practica es usar el metodo `.get()` para retornar un valor por defecto en case la clave no exista en el diccionario.\n",
    "\n",
    "El primer argumento en `.get()` es la clave que buscamos y el segundo es el valor que queremos retornar por defecto."
   ]
  },
  {
   "cell_type": "code",
   "execution_count": null,
   "id": "760589f9",
   "metadata": {
    "id": "xlyHLT87rt3f"
   },
   "outputs": [],
   "source": [
    "print(contribuyente_a.get('declaracion', 0))\n",
    "print(contribuyente_b.get('declaracion', 0))"
   ]
  },
  {
   "cell_type": "code",
   "execution_count": null,
   "id": "e476f129",
   "metadata": {
    "id": "b_ALum82rt3f"
   },
   "outputs": [],
   "source": [
    "# Nota que Python da como resultado \"None\" si es que ningun valor por defecto se anade como segundo argument en .get():\n",
    "print(contribuyente_a.get('declaracion'))\n",
    "print(contribuyente_b.get('declaracion'))"
   ]
  },
  {
   "cell_type": "markdown",
   "id": "c4745414",
   "metadata": {
    "id": "fGZWI5G3rt3f"
   },
   "source": [
    "**Ejercicio 1:**"
   ]
  },
  {
   "cell_type": "code",
   "execution_count": null,
   "id": "c07a1b06",
   "metadata": {
    "id": "RSDKnoyWrt3f"
   },
   "outputs": [],
   "source": [
    "# Usando solo las variables definidas debajo (sin definir nuevos valores)\n",
    "# modifica el diccionario vacio ex8_z para que sea igual a\n",
    "# {mascota1: 'Perro', 'mascota2': 'Gato'}\n",
    "\n",
    "m1 = 'mascota1'\n",
    "m2 = 'mascota2'\n",
    "Artur = 'Gato'\n",
    "b = 'Perro'\n",
    "c = Artur\n",
    "ex8_z = {}\n",
    "\n",
    "### AGREGA AQUI TU CODIGO\n",
    "\n",
    "# === No modifiques la linea siguiente ===\n",
    "assert ex8_z == {'mascota1': 'Perro', 'mascota2': 'Gato'}"
   ]
  },
  {
   "cell_type": "markdown",
   "id": "09757073",
   "metadata": {
    "id": "hfOEFvnvrt3f"
   },
   "source": [
    "**Ejercicio 2:**"
   ]
  },
  {
   "cell_type": "code",
   "execution_count": null,
   "id": "63a5e5f8",
   "metadata": {
    "id": "NpVMiYlCrt3f"
   },
   "outputs": [],
   "source": [
    "# Usando solo la variable \"dic\" y \n",
    "# accediendo a los elementos usando solo claves e índices,\n",
    "# crea las siguientes variables: \"cero\" igual al entero 0,\n",
    "# \"d\" como el string 'd',\n",
    "# \"menos_tres\" como el entero -3\n",
    "# y \"lista_de_simbolos\" como la lista ['%','?','~']\n",
    "# Intenta crear cada una de estas variables en una sola línea de código\n",
    "\n",
    "\n",
    "\n",
    "dic = {\n",
    "    'alfa': [\n",
    "        'a','b','c','d'\n",
    "    ],\n",
    "    'numeros': [\n",
    "        [1,2,3],\n",
    "        0,\n",
    "        [-1,-2,-3]\n",
    "    ],\n",
    "    'simbolos' : {\n",
    "        'porcentaje' : '%',\n",
    "        'pregunta' : '?',\n",
    "        'sombrero' : '~'\n",
    "    }\n",
    "}\n",
    "\n",
    "cero = ### AGREGA AQUI TU CODIGO\n",
    "d = ### AGREGA AQUI TU CODIGO\n",
    "menos_tres = ### AGREGA AQUI TU CODIGO\n",
    "lista_de_simbolos = ### AGREGA AQUI TU CODIGO\n",
    "\n",
    "# === No modifiques la linea siguiente ===\n",
    "assert cero==0 and d=='d' and menos_tres==-3 and lista_de_simbolos==['%','?','~']"
   ]
  },
  {
   "cell_type": "markdown",
   "id": "41c343ec",
   "metadata": {},
   "source": [
    "**Obteniendo las claves y los valores de un diccionario**\n",
    "\n",
    "Los diccionarios son muy utiles para estructurar datos en una variable. Para ver todos los elementos, incluidas claves y valores de un diccionario, podemos usar los metodos `.keys()`, `.values()` y `.items()`:"
   ]
  },
  {
   "cell_type": "code",
   "execution_count": null,
   "id": "b50f3cdc",
   "metadata": {},
   "outputs": [],
   "source": [
    "# Definiendo un diccionario con paises y capitales:\n",
    "capitales = {\n",
    "    'Republica Dominicana': 'Santo Domingo',\n",
    "    'El Salvador': 'San Salvador',\n",
    "    'Peru': 'Lima',\n",
    "    'Argentina': 'Buenos Aires',\n",
    "    'Estados Unidos': 'Washington DC'\n",
    "}"
   ]
  },
  {
   "cell_type": "code",
   "execution_count": null,
   "id": "c76cc541",
   "metadata": {},
   "outputs": [],
   "source": [
    "# Obteniendo las claves:\n",
    "capitales.keys()"
   ]
  },
  {
   "cell_type": "code",
   "execution_count": null,
   "id": "05e7f600",
   "metadata": {},
   "outputs": [],
   "source": [
    "# Obteniendo los valores:\n",
    "capitales.values()"
   ]
  },
  {
   "cell_type": "code",
   "execution_count": null,
   "id": "42a72adb",
   "metadata": {},
   "outputs": [],
   "source": [
    "# Obteniendo tanto las claves como valores (elementos):\n",
    "capitales.items()"
   ]
  },
  {
   "cell_type": "markdown",
   "id": "cc54cd28",
   "metadata": {},
   "source": [
    "Esta forma de visualizar los elementos de un diccionario puede ser util para exploracion, pero tiene limites cuando un diccionario tiene muchos (muchisimos!) elementos. Para eso, podemos controlar la informacion que se muestra mediante control de ejecucion."
   ]
  },
  {
   "cell_type": "markdown",
   "id": "finished-richmond",
   "metadata": {},
   "source": [
    "# Control de ejecucion\n",
    "\n",
    "En programación, el control de ejecucion es el orden en que se ejecuta algun codigo. En Python, esto se define mediante el uso de \"loops\" (bucles) y de declaraciones \"if\" (si):"
   ]
  },
  {
   "cell_type": "markdown",
   "id": "36da11c3-8a5a-4c23-b97e-4ba2e8e6ebbe",
   "metadata": {},
   "source": [
    "## Loops (bucles) mediante el uso de `for`:"
   ]
  },
  {
   "cell_type": "markdown",
   "id": "complex-czech",
   "metadata": {},
   "source": [
    "Un bucle es probablemente la forma más comun de control de ejecucion en Python. Funciona ejecutando repetidamente un bloque de código para cada elemento en un contenedor (lista, diccionario, etc.).\n",
    "\n",
    "Al escribir un bucle usando `for`, también debes recordar terminar la declaración con dos puntos (`:`) y usar indentacion en el codigo incluido en el bucle. La indentacion son cuatro espacios."
   ]
  },
  {
   "cell_type": "code",
   "execution_count": null,
   "id": "dynamic-thesis",
   "metadata": {},
   "outputs": [],
   "source": [
    "# Definiendo una lista de provincias:\n",
    "provincias = ['Samana', 'La Romana', 'Barahona',\n",
    "              'Puerto Plata', 'Azua', 'La Vega',\n",
    "             'Duarte', 'La Altagracia', 'San Juan']"
   ]
  },
  {
   "cell_type": "markdown",
   "id": "c8ee6204",
   "metadata": {},
   "source": [
    "Nuestro bucle va a hacer una iteracion en cada provincia, repitiendo el mismo codigo para cada una de ellas:"
   ]
  },
  {
   "cell_type": "code",
   "execution_count": null,
   "id": "a6fa11e0",
   "metadata": {},
   "outputs": [],
   "source": [
    "for provincia in provincias:\n",
    "    print(\"Hemos finalizado el plan estrategico para la provincia: \" + provincia)\n",
    "\n",
    "print(\"Terminamos!\")"
   ]
  },
  {
   "cell_type": "markdown",
   "id": "df018259",
   "metadata": {},
   "source": [
    "Observa las dos lineas con `print()` de la celda anterior. Una de ellas imprime un texto `n` veces, mientras que la otra imprime el texto solo una vez. Python diferencia que esta dentro del bucle y donde acaba el bucle mediante la indentacion. Siempre debemos tener cuidado con la indentación de nuestro código, ya que puede hacer que la ejecucion se comporte de manera diferente."
   ]
  },
  {
   "cell_type": "markdown",
   "id": "smart-soviet",
   "metadata": {},
   "source": [
    "Ahora supongamos que queremos iterar sobre una provincia y su recaudacion total en millones de pesos para 2024. Una opcion es usar directamente los metodos `.keys()` y `.values()`, pero esto tiene la desvantaja de mostrar la informacion de una forma dificil de leer."
   ]
  },
  {
   "cell_type": "code",
   "execution_count": null,
   "id": "immediate-membrane",
   "metadata": {},
   "outputs": [],
   "source": [
    "# Definiendo un diccionario con la recaudacion en 2024 (en millones de pesos) por provincia:\n",
    "recaudacion_provincias = {\n",
    "    'Samana': 1273.4,\n",
    "    'La Romana': 10484.4,\n",
    "    'Barahona': 525.9,\n",
    "    'Puerto Plata': 17693.3,\n",
    "    'Azua': 442.9,\n",
    "    'La Vega': 5270.7,\n",
    "    'Duarte': 2811.1,\n",
    "    'La Altagracia': 33380.1,\n",
    "    'San Juan de la Maguana': 812.6\n",
    "}"
   ]
  },
  {
   "cell_type": "code",
   "execution_count": null,
   "id": "d816ea13",
   "metadata": {},
   "outputs": [],
   "source": [
    "# Usando los metodos .keys() y .values():\n",
    "print(\"Claves en el diccionario:\\n\\t{}\".format(recaudacion_provincias.keys()))\n",
    "print(\"Valores en el diccionario:\\n\\t{}\".format(recaudacion_provincias.values()))"
   ]
  },
  {
   "cell_type": "markdown",
   "id": "431ebebc",
   "metadata": {},
   "source": [
    "Sin embargo, ahora que sabemos el uso de bucles `for`, podemos usarlos para mostrar esta informacion mas claramente:"
   ]
  },
  {
   "cell_type": "code",
   "execution_count": null,
   "id": "lonely-retail",
   "metadata": {},
   "outputs": [],
   "source": [
    "for provincia in recaudacion_provincias.keys():\n",
    "    print('La recaudacion en ' + provincia + ' para el 2022 fue ' + str(recaudacion_provincias[provincia]) + ' millones de pesos.')"
   ]
  },
  {
   "cell_type": "markdown",
   "id": "8bf24150",
   "metadata": {},
   "source": [
    "Recuerdas las `f-string` que mencionamos ayer? este es el mismo resultado usando una `f-string`:"
   ]
  },
  {
   "cell_type": "code",
   "execution_count": null,
   "id": "ce14bb4c",
   "metadata": {},
   "outputs": [],
   "source": [
    "# Same output using an f-string\n",
    "for provincia in recaudacion_provincias.keys():\n",
    "    print(f'La recaudacion en {provincia} para el 2022 fue {recaudacion_provincias[provincia]} millones de pesos.')"
   ]
  },
  {
   "cell_type": "markdown",
   "id": "8f9a6b5c",
   "metadata": {},
   "source": [
    "Una manera mas \"elegante\" de lograr el mismo resultado es *desdoblar* los elementos del diccionario en la clave y el valor usando el metodo `.items()`:"
   ]
  },
  {
   "cell_type": "code",
   "execution_count": null,
   "id": "8b4df7a8-293e-419f-92d4-02005f4e5404",
   "metadata": {},
   "outputs": [],
   "source": [
    "# .items() da como resultado \"pares\" con cada clave y valor.\n",
    "# Se puede usar este metodo para extraer la clave y el valor de cada elemento en un diccionario\n",
    "\n",
    "for provincia, monto in recaudacion_provincias.items():\n",
    "    print(f'La recaudacion en {provincia} para el 2022 fue {monto} millones de pesos.')"
   ]
  },
  {
   "cell_type": "markdown",
   "id": "b09153c4-008a-4163-84da-94df2ce057b6",
   "metadata": {},
   "source": [
    "<t>"
   ]
  },
  {
   "cell_type": "markdown",
   "id": "0de4070d-233c-4d50-94e2-3b9790687130",
   "metadata": {},
   "source": [
    "## Bluce `while` (mientras)"
   ]
  },
  {
   "cell_type": "markdown",
   "id": "touched-hunter",
   "metadata": {},
   "source": [
    "El bucle `while` es otro de los bucles comunmente utilizados. Este repite un código hasta que una condición sea evaluada como falsa (`False`).\n",
    "\n",
    "Mira la figura a continuación, donde se evalúa la condición A. Si el resultado es `True`, el bucle realizará la tarea B; de lo contrario, el bucle terminará. Después de realizar la tarea B, el proceso retorna a A para evaluar nuevamente la condición."
   ]
  },
  {
   "cell_type": "markdown",
   "id": "9236bd64",
   "metadata": {},
   "source": [
    "<img src=\"img/while_loop_diagram.png\" width=250>"
   ]
  },
  {
   "cell_type": "markdown",
   "id": "00ef704a-5d76-4017-b495-27bf7d12a8b9",
   "metadata": {},
   "source": [
    "Veamos un ejemplo sencillo. Iniciaremos una variable primero, luego creamos un bucle `while` y observaremos cómo funciona en la práctica."
   ]
  },
  {
   "cell_type": "code",
   "execution_count": null,
   "id": "blond-northeast",
   "metadata": {},
   "outputs": [],
   "source": [
    "i = 0  # creando la variable\n",
    "\n",
    "while i < 10:  # el bucle va a ejecutarse siempre que esta condicion sea cierta\n",
    "    print(f\"El bucle esta en {i}\")\n",
    "    \n",
    "    i += 1  ## la variable de la condicion debe actualizarse!\n",
    "            ## de lo contrario, acabaremos en un bucle infinito\n",
    "\n",
    "## Aunque no lo mostraremos en la sesion, si quieres probar como se ve un bucle infinito,\n",
    "## puedes borrar la parte de i += 1\n",
    "## Luego tendras que interrumpir la ejecucion haciendo clic al boton \"stop\" en la celda de colab"
   ]
  },
  {
   "cell_type": "markdown",
   "id": "d59ff3b6-913b-4ee9-9cb4-4aa9f10d4ab8",
   "metadata": {},
   "source": [
    "Con este ejemplo, vimos cómo en la primera línea inicializamos una variable, evaluamos una condición en el bucle `while`, realizamos una tarea y la ejecucion vuelve a evaluar la condicion en `while` después de incrementar en 1 el valor de la variable inicial.\n",
    "\n",
    "Podemos hacer lo mismo con otros iterables. Por ejemplo, si quiero imprimir una letra a la vez de la cadena \"Santo Domingo\", podemos hacerlo de la siguiente manera:"
   ]
  },
  {
   "cell_type": "code",
   "execution_count": null,
   "id": "expanded-companion",
   "metadata": {},
   "outputs": [],
   "source": [
    "palabra = \"Santo Domingo\"\n",
    "i = 0\n",
    "while i < len(palabra):\n",
    "    print(palabra[i])\n",
    "    \n",
    "    i += 1"
   ]
  },
  {
   "cell_type": "markdown",
   "id": "placed-macintosh",
   "metadata": {},
   "source": [
    "# Revisitando valores booleanos"
   ]
  },
  {
   "cell_type": "markdown",
   "id": "quarterly-disorder",
   "metadata": {},
   "source": [
    "Recuerdas los valores booleanos? ayer los vimos brevemente:"
   ]
  },
  {
   "cell_type": "code",
   "execution_count": null,
   "id": "level-clinton",
   "metadata": {},
   "outputs": [],
   "source": [
    "verdadero = True\n",
    "falso = False"
   ]
  },
  {
   "cell_type": "code",
   "execution_count": null,
   "id": "6e876b84",
   "metadata": {},
   "outputs": [],
   "source": [
    "type(verdadero)"
   ]
  },
  {
   "cell_type": "code",
   "execution_count": null,
   "id": "febf2743",
   "metadata": {},
   "outputs": [],
   "source": [
    "type(falso)"
   ]
  },
  {
   "cell_type": "markdown",
   "id": "9d0e3791",
   "metadata": {},
   "source": [
    "Tambien senalamos que pueden generarse como resultado de una operacion de comparacion."
   ]
  },
  {
   "cell_type": "markdown",
   "id": "diverse-trigger",
   "metadata": {},
   "source": [
    "## Operadores de comparación\n",
    "\n",
    "En Python, los operadores de comparación en Python se utilizan para comparar dos variables y devuelven un valor booleano (ya sea `True` o `False`).\n",
    "\n",
    "| Símbolo     | Evalúa como True si |\n",
    "| :---        |    :--              |\n",
    "| ==          | los valores son iguales |\n",
    "| !=          | los valores no son iguales |\n",
    "| <           | el primer valor es menor que el segundo |\n",
    "| <=          | el primer valor es menor o igual que el segundo |\n",
    "| >           | el primer valor es mayor que el segundo |\n",
    "| >=          | el primer valor es mayor o igual que el segundo |\n",
    "\n",
    "**Importante:** Recuerda que `=` y `==` no significan lo mismo. Asignamos una variable con `=` pero comparamos con `==`."
   ]
  },
  {
   "cell_type": "code",
   "execution_count": null,
   "id": "generic-google",
   "metadata": {},
   "outputs": [],
   "source": [
    "a = 5\n",
    "b = 9"
   ]
  },
  {
   "cell_type": "code",
   "execution_count": null,
   "id": "divine-timothy",
   "metadata": {},
   "outputs": [],
   "source": [
    "c = a > b\n",
    "print(c)\n",
    "\n",
    "type(c)"
   ]
  },
  {
   "cell_type": "markdown",
   "id": "51c3c80b-a268-49dd-b7cd-15b0cf8ad2f6",
   "metadata": {},
   "source": [
    "## Condiciones y operadores lógicos\n",
    "\n",
    "Los operadores lógicos se utilizan con condiciones. Son de tres tipos:\n",
    "- `and` (y): para evaluar si dos condiciones se cumplen\n",
    "- `or` (o): para evaluar si uno o mas de dos condiciones se cumplen\n",
    "- `not` (no): para evaluar si una condicion no se cumple\n",
    "\n",
    "En Python, los operadores se usan comunmente para ejecutar codigo en base a una condicion mediante `if` (si):"
   ]
  },
  {
   "cell_type": "code",
   "execution_count": null,
   "id": "74892a8b-9e0b-46b1-a01f-c347f9d144a8",
   "metadata": {},
   "outputs": [],
   "source": [
    "## Operador logico AND\n",
    "\n",
    "a = 10\n",
    "b = 10\n",
    "c = -10\n",
    "  \n",
    "if a > 0 and b > 0:\n",
    "    print(\"Los numeros a y b son mayores a 0\")"
   ]
  },
  {
   "cell_type": "markdown",
   "id": "bd9f8d30",
   "metadata": {},
   "source": [
    "Similar a los bucles, Python distingue que codigo se ejecutara en base a la condicion mediante el uso de indentacion.\n",
    "\n",
    "Tambien es posible usar `and` con mas de dos condiciones:"
   ]
  },
  {
   "cell_type": "code",
   "execution_count": null,
   "id": "006726a2",
   "metadata": {},
   "outputs": [],
   "source": [
    "if a > 0 and b > 0 and c > 0:\n",
    "    print(\"Los numeros a, b y c son mayores a 0\")\n",
    "else:\n",
    "    print(\"Al menos un numero no es mayor a cero\")"
   ]
  },
  {
   "cell_type": "markdown",
   "id": "c4c29b1d",
   "metadata": {},
   "source": [
    "El ejemplo anterior introduce el condicional `else`, que puede traducirse a \"de lo contrario\". El codigo indentado en `else` se ejecuta solo si la primera condicion en `if` es evaluada a `False`.\n",
    "\n",
    "Otro operador es el operador `or`:"
   ]
  },
  {
   "cell_type": "code",
   "execution_count": null,
   "id": "5b4b1b21-b128-42b3-a2e0-c129fcab7725",
   "metadata": {},
   "outputs": [],
   "source": [
    "## Operador OR\n",
    "\n",
    "a = 10\n",
    "b = -10\n",
    "c = 0\n",
    "  \n",
    "if a > 0 or b > 0:\n",
    "    print(\"Al menos uno de los numeros a o b es mayor a 0\")\n",
    "else:\n",
    "    print(\"Ningun numero entre a y b es mayor a 0\")\n",
    "\n",
    "if b > 0 or c > 0:\n",
    "    print(\"Al menos uno de los numeros b o c es mayor a 0\")\n",
    "else:\n",
    "    print(\"Ningun numero entre b y c es mayor a 0\")"
   ]
  },
  {
   "cell_type": "markdown",
   "id": "04059e09",
   "metadata": {},
   "source": [
    "Por ultimo, esta el operador `not` para evaluar si una condicion no es cierta:"
   ]
  },
  {
   "cell_type": "code",
   "execution_count": null,
   "id": "7c333b96-feee-4943-9803-8c3c66e0cbd2",
   "metadata": {},
   "outputs": [],
   "source": [
    "## Operador NOT\n",
    "\n",
    "a = 10\n",
    "\n",
    "if a % 3 == 0:\n",
    "    print('Prueba 1: a es divisible entre 3')\n",
    "else:\n",
    "    print('Prueba 1: a no es divisible entre 3')\n",
    "\n",
    "if not a % 3 == 0:\n",
    "    print('Prueba 2: a no es divisible entre 3')\n",
    "else:\n",
    "    print('Prueba 2: a es divisble entre 3')"
   ]
  },
  {
   "cell_type": "markdown",
   "id": "ambient-palestinian",
   "metadata": {},
   "source": [
    "## Declaraciones condicionales\n",
    "\n",
    "Aparte de `if` y `else`, podemos usar `elif` para agreagr condiciones entre el `if` inicial y el `else` final en una serie de condiciones. `elif` viene de \"else, if ...\" en ingles, que puede traducirse como \"de lo contrario, si ...\" y representa la evaluacion de una nueva condicion cuando la condicion previa ha sido evaluada como `False`.\n",
    "\n",
    "Veamos el siguiente ejemplo:"
   ]
  },
  {
   "cell_type": "code",
   "execution_count": null,
   "id": "announced-spelling",
   "metadata": {},
   "outputs": [],
   "source": [
    "# Mi mascota \"Rusty\" es vegetariana. El codigo a continuacion representa que pensara si le\n",
    "# presentamos distintos tipos de comida como vegetales, pescado, o hamburguesas\n",
    "comida = 'vegetales'"
   ]
  },
  {
   "cell_type": "code",
   "execution_count": null,
   "id": "loose-firmware",
   "metadata": {},
   "outputs": [],
   "source": [
    "if comida == 'vegetales':\n",
    "    print ('yumi!')\n",
    "elif comida == 'pescado':\n",
    "    print ('hmmm quizas...')\n",
    "elif comida == 'hamburguesas':\n",
    "    print ('definitivamente no')\n",
    "else:\n",
    "    print('ninguna opcion es para mi :(')"
   ]
  },
  {
   "cell_type": "markdown",
   "id": "intense-oriental",
   "metadata": {},
   "source": [
    "Así es como este codigo esta estructurado y como lo puedes adaptar a tu uso:\n",
    "\n",
    "- siempre comienza con una condicion `if`, especificando la primera condición lógica que se debe evaluar\n",
    "- asegúrate de que tu condicion `if` termine con dos puntos (`:`)\n",
    "- indenta el bloque de código condicional, anadiendo los espacios del codigo que se ejecutara si la condicion en `if` es evaluada como `True`. Cualquier código que deba ejecutarse si la condición es verdadera debe estar indentado con una tabulación \n",
    "- agrega condiciones adicionales usando `elif`, y cualquier otra acción final con `else`\n",
    "- nota que **las condiciones se evaluan en orden**\n",
    "- Una vez que cualquier condicion es evaluada a `True`, el resto ya no se evalua"
   ]
  },
  {
   "cell_type": "markdown",
   "id": "resistant-classic",
   "metadata": {},
   "source": [
    "### Evaluando condiciones dentro de un bucle\n",
    "\n",
    "Es posible controlar la ejecucion de codigo para ciertos elementos de un bucle mediante `if`, `elif` y `else`. El siguiente ejemplo ilustra este caso:"
   ]
  },
  {
   "cell_type": "code",
   "execution_count": null,
   "id": "respected-volunteer",
   "metadata": {},
   "outputs": [],
   "source": [
    "dias = ['Lunes', 'Martes', 'Miercoles', 'Jueves', 'Viernes', 'Sabado', 'Domingo']\n",
    "\n",
    "for dia in dias:\n",
    "    if dia == 'Sabado':               ## Chceking conditions with if else statements\n",
    "        lugar = '--> Pichanga con los amigos!'    ## Perfoming some action (i.e. assiging a value to location variable here)\n",
    "    elif dia == 'Domingo':\n",
    "        lugar = '--> Descansando en casa'\n",
    "    elif dia in ['Lunes', 'Martes']:\n",
    "        lugar = \"--> Reunion de equipo\"\n",
    "    else:\n",
    "        lugar = \"--> Trabajando en mi oficina\"\n",
    "    print(dia, lugar)"
   ]
  },
  {
   "cell_type": "markdown",
   "id": "organized-forth",
   "metadata": {},
   "source": [
    "Observa la posición e indentacion del `print()` final.\n",
    "\n",
    "- Si la indentación coincidiera con la del bucle 'for', esta instrucción print se ejecutaría solo una vez.\n",
    "- Sin embargo, aquí `print()` está al mismo nivel de indentacion que las condiciones `if`/`elif`/`else`. \n",
    "- Entonces, después de pasar por las condiciones, el código imprimirá `lugar` para cada `dia`.\n",
    "\n",
    "El codigo tambien itera a través de la lista de días y evalúa las condiciones correspondientes definidas por `if`/`elif`/`else`. En cuanto se cumple una de las condiciones, se define el valor de `lugar` y el codigo imprime `dia, lugar` antes de pasar al siguiente elemento (`dia`) de la iteracion.\n",
    "\n",
    "Por ejemplo, en la primera iteración:\n",
    "- El día se establece como `Lunes`\n",
    "- Ninguna de las condiciones es verdadera para `Lunes`. Por lo tanto, la variable `lugar` se establece según lo que se especifique en el bloque `else`\n",
    "- En la siguiente iteración, el día se establece como `Martes`. Aquí la segunda sentencia `elif` cumple la condición, por lo que `lugar` se establece según esa parte del código"
   ]
  },
  {
   "cell_type": "markdown",
   "id": "f41f93f4",
   "metadata": {},
   "source": [
    "## La funcion `range()` (rango)"
   ]
  },
  {
   "cell_type": "markdown",
   "id": "d319d66f",
   "metadata": {},
   "source": [
    "- `range()` permite iniciar un objecto iterable desde cierto numero hasta un numero final, **excluyendo ese numero final**.\n",
    "\n",
    "- Por ejemplo: `range(1, 10)` crea una iteracion a traves de los numeros 1 hasta el 9."
   ]
  },
  {
   "cell_type": "code",
   "execution_count": null,
   "id": "8e22e7f4",
   "metadata": {},
   "outputs": [],
   "source": [
    "print(\"Resultado de range(0, 10):\")\n",
    "for i in range(1, 10):\n",
    "    print(i)\n",
    "\n",
    "# Si no definimos el numero inicial, el valor por defecto es cero\n",
    "print(\"\\nResultado de range(10):\")\n",
    "for i in range(10):\n",
    "    print(i)"
   ]
  },
  {
   "cell_type": "code",
   "execution_count": null,
   "id": "b840b020",
   "metadata": {},
   "outputs": [],
   "source": [
    "# Podemos definir cualquier punto inicial y final,\n",
    "# pero recuerda que el punto final excluye ese numero\n",
    "print(\"Resultado de range(14,20)\")\n",
    "for i in range(14, 20):\n",
    "    print(i)\n",
    "\n",
    "# Tambien podemos usar un tercer argumento para el \"salto\"\n",
    "# si queremos que haya un espacio entre numeros distinto a 1\n",
    "print(\"\\nResultado de range(1, 10, 2)\")\n",
    "for i in range(1, 10, 2):\n",
    "    print(i)"
   ]
  },
  {
   "cell_type": "markdown",
   "id": "3137ba40-b9db-45c2-abac-d68fdffa2d6d",
   "metadata": {},
   "source": [
    "# Ejercicios\n",
    "\n",
    "Ahora pondremos en practica lo aprendido mediante una serie de ejercicios guiados.\n",
    "\n",
    "**Ejercicio 3:**\n",
    "\n",
    "*Objetivo: Iterar a través de listas, usar strings.*\n",
    "\n",
    "Escribe un programa que imprima \"¡Bienvenido/a al hermoso {pais}!\" para cada país en la lista."
   ]
  },
  {
   "cell_type": "code",
   "execution_count": null,
   "id": "a5b82296-13ff-4e3d-aabe-12d7e5f31014",
   "metadata": {},
   "outputs": [],
   "source": [
    "paises = ['Republica Dominicana', 'El Salvador', 'Peru', 'Mexico', 'Estados Unidos', 'Argentina']"
   ]
  },
  {
   "cell_type": "code",
   "execution_count": null,
   "id": "aad9ba5e-2a55-4cef-bb1e-da7ba886f94d",
   "metadata": {},
   "outputs": [],
   "source": [
    "# AGREGA TU CODIGO ACA"
   ]
  },
  {
   "cell_type": "markdown",
   "id": "bba8c1f1-153b-46ac-83da-141233a112e5",
   "metadata": {},
   "source": [
    "**Ejercicio 4:**\n",
    "\n",
    "*Objetivo: Iterar a través de una lista anidada e imprimirla*\n",
    "\n",
    "Escribe un programa que recorra la siguiente lista y cree una nueva lista con los objetos individuales, sin que ninguno este en otra lista. Tu código debe ejecutarse sin ningún `AssertionError`.\n",
    "\n",
    "**Informacion adicional:**\n",
    "- Dado que se trata de una lista que contiene otras listas, podemos utilizar la función `isinstance()` para verificar si cada elemento de la lista anidada es una lista o no y crear un condigo que se ejecute solo para las listas interiores.\n",
    "- Cómo usar `isinstance()`: `isinstance(var, list)` es evaluado como `True` si `var` es una lista, de lo contrario será `False`\n",
    "- Si `var` es una lista, necesitas otro bucle `for` que guarde los elementos de esa lista\n",
    "- Si no lo es guarda el elemento tal cual"
   ]
  },
  {
   "cell_type": "code",
   "execution_count": null,
   "id": "9b36976b-0996-4384-83ac-c7e8098e4d44",
   "metadata": {},
   "outputs": [],
   "source": [
    "lista_anidada = [0, 4, [4, 3, 2], [420, 250, 'dragon'], 365, 23, 6, ['pan', 'torta']]"
   ]
  },
  {
   "cell_type": "code",
   "execution_count": null,
   "id": "1aa9e0bf-ba28-4be4-bea3-6632ed5e10c5",
   "metadata": {},
   "outputs": [],
   "source": [
    "# AGREGA TU CODIGO ACA\n",
    "resultado = []\n",
    "            \n",
    "## ======== NO MODIFIQUES LA LINEA SIGUIENTE ==========\n",
    "assert len(resultado) == 13"
   ]
  },
  {
   "cell_type": "markdown",
   "id": "cb57cd68",
   "metadata": {},
   "source": [
    "**Ejercicio 5:**\n",
    "\n",
    "*Objetivo: Bucles y operadores matemáticos*\n",
    "\n",
    "Escribe un programa para crear el siguiente patrón usando bucles.\n",
    "\n",
    "<b>\n",
    "* <br>\n",
    "* * <br>\n",
    "* * * <br>\n",
    "* * * * <br>\n",
    "* * * * * <br>\n",
    "* * * * <br>\n",
    "* * * <br>\n",
    "* * <br>\n",
    "* <br>\n",
    "</b>\n",
    "\n",
    "**Informacion adicional:**\n",
    "- Crea un bucle que agregue un `*` en imprima cuantos hay hasta el valor maximo (5 en este caso)\n",
    "- Luego crea otro bucle que disminuya un `*` hasta el elemento funal del patron"
   ]
  },
  {
   "cell_type": "code",
   "execution_count": null,
   "id": "b61e9c4c",
   "metadata": {},
   "outputs": [],
   "source": [
    "# AGREGA TU CODIGO ACA"
   ]
  },
  {
   "cell_type": "markdown",
   "id": "4e2cb92d-8fe1-4a15-bc01-7b6e1755cf3c",
   "metadata": {},
   "source": [
    "**Ejercicio 6:**\n",
    "\n",
    "*Objetivo: Combinar bucles, condiciones y operaciones matemáticas.*\n",
    "\n",
    "Escribe un programa que recorra los números del 1 al 100 e imprima todos los que sean divisibles por 2, 3 y 7, **usando un bucle `while`**."
   ]
  },
  {
   "cell_type": "code",
   "execution_count": null,
   "id": "4ba56215",
   "metadata": {},
   "outputs": [],
   "source": [
    "# AGREGA TU CODIGO ACA"
   ]
  },
  {
   "cell_type": "markdown",
   "id": "educated-sunday",
   "metadata": {},
   "source": [
    "---\n",
    "\n",
    "# Funciones\n",
    "\n",
    "En programacion, a veces necesitamos repetir una operacion aplicada a diferentes inputs para realizar un analisis. Podemos usar bucles para esto, pero hay mejores maneras de \"abstraer\" operaciones y aplicarlas en elementos distintos.\n",
    "\n",
    "Por ejemplo, en lugar de escribir el mismo código una y otra vez o de usar un bucle que aplica el mismo codigo a elementos diferentes, podemos crear una funcion que realice la operacion que queremos repetir. Esto tiene la ventaja de hacer que nuestro codigo sea mas facil de leer y entender.\n",
    "\n",
    "## Definiendo nuevas funciones\n",
    "\n",
    "Para crear una función:\n",
    "\n",
    "- definimos la funcion con la palabra clave `def`\n",
    "- luego de `def` viene el nombre de la funcion y parentesis\n",
    "- en los parentesis, definimos algun input (tambien llamados argumentos o parametros) que la funcion recibira, seguido por dos puntos (`:`) al final de los parentesis\n",
    "- todas las lineas siguientes indentadas son el \"interior\" de la funcion y definen aquello que la funcion hace\n",
    "- si la funcion debe producir un resultado, este se define con la palabra clave `return`\n",
    "- la funcion termina al terminar la indentacion\n",
    "\n",
    "Los inputs son opcionales para una función. Lo veremos en los siguientes ejemplos:"
   ]
  },
  {
   "cell_type": "code",
   "execution_count": null,
   "id": "bronze-supervision",
   "metadata": {},
   "outputs": [],
   "source": [
    "# Definiendo una funcion simple\n",
    "def prueba():\n",
    "    print(\"Esta es una funcion de prueba, sin ningun input ni resultado\")"
   ]
  },
  {
   "cell_type": "code",
   "execution_count": null,
   "id": "norman-flood",
   "metadata": {},
   "outputs": [],
   "source": [
    "# Ejecutando la funcion. Esto va siempre con el nombre de la funcion seguido de parentesis\n",
    "prueba()"
   ]
  },
  {
   "cell_type": "code",
   "execution_count": null,
   "id": "processed-zoning",
   "metadata": {},
   "outputs": [],
   "source": [
    "# Definiendo una funcion con un input:\n",
    "def que_dia_es_hoy(dia):\n",
    "    print(f\"Hoy es {dia}\")"
   ]
  },
  {
   "cell_type": "code",
   "execution_count": null,
   "id": "563ea32f-a3a2-451f-8c7c-dfcd974f4b0a",
   "metadata": {},
   "outputs": [],
   "source": [
    "# Si no pasamos ningun input a una funcion que usa inputs, obtenemos un error:\n",
    "que_dia_es_hoy()"
   ]
  },
  {
   "cell_type": "code",
   "execution_count": null,
   "id": "together-karen",
   "metadata": {},
   "outputs": [],
   "source": [
    "que_dia_es_hoy('Martes')"
   ]
  },
  {
   "cell_type": "code",
   "execution_count": null,
   "id": "responsible-association",
   "metadata": {},
   "outputs": [],
   "source": [
    "# Ten en cuenta que las funciones pueden tomar cualquier argumento\n",
    "que_dia_es_hoy('oceano')"
   ]
  },
  {
   "cell_type": "code",
   "execution_count": null,
   "id": "ed094af1-1f84-47f6-a1ae-f38a8c6324d6",
   "metadata": {},
   "outputs": [],
   "source": [
    "# Si quisieramos agregar alguna validacion, podemos hacerlo en el interior de la funcion:\n",
    "def que_dia_es_hoy(dia):\n",
    "    \n",
    "    if dia in ['Lunes', 'Martes', 'Miercoles', 'Jueves', 'Viernes', 'Sabado', 'Domingo']:\n",
    "        \n",
    "        print(f\"Hoy es {dia}\")\n",
    "        \n",
    "    else:\n",
    "        \n",
    "        print('Dia no valido!')"
   ]
  },
  {
   "cell_type": "code",
   "execution_count": null,
   "id": "baac0c4f",
   "metadata": {},
   "outputs": [],
   "source": [
    "que_dia_es_hoy('Martes')"
   ]
  },
  {
   "cell_type": "code",
   "execution_count": null,
   "id": "3e8df905",
   "metadata": {},
   "outputs": [],
   "source": [
    "que_dia_es_hoy('oceano')"
   ]
  },
  {
   "cell_type": "markdown",
   "id": "b9ab935a",
   "metadata": {},
   "source": [
    "Tambien podemos agregar valores por defecto en las funciones al asignar un valor a los inputs al definir una funcion."
   ]
  },
  {
   "cell_type": "code",
   "execution_count": null,
   "id": "assured-qatar",
   "metadata": {},
   "outputs": [],
   "source": [
    "# Funcion con un valor por defecto para el input \"dia\"\n",
    "def que_dia_es_hoy(dia = \"Martes\"):\n",
    "    print(f\"Hoy es {dia}\")"
   ]
  },
  {
   "cell_type": "code",
   "execution_count": null,
   "id": "suspended-institution",
   "metadata": {},
   "outputs": [],
   "source": [
    "que_dia_es_hoy()  # si no incluimos ningun input, la funcion usa el valor por defecto"
   ]
  },
  {
   "cell_type": "code",
   "execution_count": null,
   "id": "clinical-banking",
   "metadata": {},
   "outputs": [],
   "source": [
    "que_dia_es_hoy('Viernes')  # sin incluimos un input, se usa ese valor y el valor por defecto se ignora"
   ]
  },
  {
   "cell_type": "markdown",
   "id": "4ce9e1ee",
   "metadata": {},
   "source": [
    "Hasta ahora estos ejemplos solo imprimen un mensaje como parte de la operacion que la funcion realiza. Pero tambien es posible producir un resultado de funciones usando `return`."
   ]
  },
  {
   "cell_type": "code",
   "execution_count": null,
   "id": "73a9cbd6",
   "metadata": {},
   "outputs": [],
   "source": [
    "def suma(a, b):\n",
    "    return a + b"
   ]
  },
  {
   "cell_type": "code",
   "execution_count": null,
   "id": "d8887ac1",
   "metadata": {},
   "outputs": [],
   "source": [
    "suma(6, 10)"
   ]
  },
  {
   "cell_type": "markdown",
   "id": "6bd8d73f",
   "metadata": {},
   "source": [
    "Incluso podemos guardar el resultado producido por la funcion en una nueva variable:"
   ]
  },
  {
   "cell_type": "code",
   "execution_count": null,
   "id": "1506f73e",
   "metadata": {},
   "outputs": [],
   "source": [
    "nueva_suma = suma(6, 10)"
   ]
  },
  {
   "cell_type": "code",
   "execution_count": null,
   "id": "87b6d4a7",
   "metadata": {},
   "outputs": [],
   "source": [
    "print(nueva_suma)"
   ]
  },
  {
   "cell_type": "markdown",
   "id": "7e55d960",
   "metadata": {},
   "source": [
    "Tambien es posible usar funciones previamente definidas dentro de nuevas funciones."
   ]
  },
  {
   "cell_type": "code",
   "execution_count": null,
   "id": "cdb5eb7f",
   "metadata": {},
   "outputs": [],
   "source": [
    "def suma(a, b):\n",
    "    return a + b\n",
    "\n",
    "def resta(a, b):\n",
    "    return a - b\n",
    "\n",
    "def aritmetica(a, b):\n",
    "    print(f'La suma de {a} y {b} es {suma(a, b)} y la diferencia es {resta(a, b)}')"
   ]
  },
  {
   "cell_type": "code",
   "execution_count": null,
   "id": "3916499b",
   "metadata": {},
   "outputs": [],
   "source": [
    "aritmetica(6, 9)"
   ]
  },
  {
   "cell_type": "markdown",
   "id": "a6035511",
   "metadata": {},
   "source": [
    "**Notas adicionales sobre funciones:**\n",
    "\n",
    "- **El orden de los inputs importa:** Al ejecutar una funcion, el primer input correspondera al primer input que toma la funcion en su definicion, el segundo correspondera al segundo, y asi sucesivamente. Veamos como esto afecta la funcion `resta()` que definimos anteriormente:"
   ]
  },
  {
   "cell_type": "code",
   "execution_count": null,
   "id": "e09d1b4a",
   "metadata": {},
   "outputs": [],
   "source": [
    "resta(6, 10)"
   ]
  },
  {
   "cell_type": "code",
   "execution_count": null,
   "id": "c06186b1",
   "metadata": {},
   "outputs": [],
   "source": [
    "resta(10, 6)"
   ]
  },
  {
   "cell_type": "markdown",
   "id": "775e7aa0",
   "metadata": {},
   "source": [
    "- **Documentacion y contexto adicional:** una buena practica de programacion en Python es anadir un texto entre tres comillas luego de definir la funcion para explicar que operacion realiza la funcion, que inputs toma y que resultado produce. Esta practica es comun en Python."
   ]
  },
  {
   "cell_type": "code",
   "execution_count": null,
   "id": "9fa27ab2",
   "metadata": {},
   "outputs": [],
   "source": [
    "def resta(a, b):\n",
    "    \n",
    "    '''\n",
    "    Definicion: la funcion da como resultado la resta entre primer input (a) y el segundo input(b)\n",
    "    Inputs:\n",
    "        - a: un numero\n",
    "        - b: otro numero\n",
    "    Resultado: la resta de a menos b\n",
    "    '''\n",
    "    \n",
    "    return a - b"
   ]
  },
  {
   "cell_type": "markdown",
   "id": "45a8b6f5-5d41-49e6-a819-02afdbfe59a3",
   "metadata": {},
   "source": [
    "## Ejercicios"
   ]
  },
  {
   "cell_type": "markdown",
   "id": "e590e1d1-c50e-45bb-93ea-1a39a768418a",
   "metadata": {},
   "source": [
    "**Ejercicio 7:**\n",
    "\n",
    "Crea una función que tome 3 números como input y de como resultado el máximo entre ellos. Nombra la función `max_3`."
   ]
  },
  {
   "cell_type": "code",
   "execution_count": null,
   "id": "3870bea5-b2a7-4d69-b27c-ea849a377ddd",
   "metadata": {},
   "outputs": [],
   "source": [
    "def max_3(a, b, c):\n",
    "\n",
    "    ### ESCRIBE TU CODIGO AQUI\n",
    "\n",
    "    return None\n",
    "\n",
    "\n",
    "## ======= NO MODIFIQUES LAS LINEAS SIGUIENTES ========\n",
    "\n",
    "x = max_3(10, 7, 28)\n",
    "assert x == 28, \"Resultado incorrecto\""
   ]
  },
  {
   "cell_type": "markdown",
   "id": "20bebd4f-16f0-4f41-84cf-9747d4ed60c4",
   "metadata": {},
   "source": [
    "**Ejercicio 8:**\n",
    "\n",
    "Escribe una función que tome una sola string como input y de como resultado la misma string pero invertida. Por ejemplo, si el input es `abcde`, el resultado sera `edcba`. Nombra la función `string_invertida`."
   ]
  },
  {
   "cell_type": "code",
   "execution_count": null,
   "id": "276e9a13-f722-4348-b26c-3a0e5a06625c",
   "metadata": {},
   "outputs": [],
   "source": [
    "def string_invertida(string):\n",
    "\n",
    "    ### ESCRIBE TU CODIGO AQUI\n",
    "\n",
    "    return None\n",
    "\n",
    "## ======= NO MODIFIQUES LAS LINEAS SIGUIENTES ========\n",
    "\n",
    "assert string_invertida(\"rcb1096281\") == \"1826901bcr\", \"Resultado incorrecto\""
   ]
  },
  {
   "cell_type": "markdown",
   "id": "a2baac4d",
   "metadata": {},
   "source": [
    "**Ejercicio 9:**"
   ]
  },
  {
   "cell_type": "markdown",
   "id": "eaacb1ea",
   "metadata": {},
   "source": [
    "Escribe una función para calcular el monto total incluyendo IVA sobre un monto de venta tomando dos inputs: el monto de la venta, y una tasa de IVA que tenga un valor por defecto de 18%. La función debe devolver el monto total incluyendo el IVA."
   ]
  },
  {
   "cell_type": "code",
   "execution_count": null,
   "id": "48e95039",
   "metadata": {},
   "outputs": [],
   "source": [
    "def monto_con_iva(monto, iva=0.18):\n",
    "    \n",
    "    ### ESCRIBE TU CODIGO AQUI\n",
    "    \n",
    "    return None\n",
    "\n",
    "## ======= NO MODIFIQUES LAS LINEAS SIGUIENTES ========\n",
    "\n",
    "assert monto_con_iva(1200) == 1416, \"Resultado incorrecto\""
   ]
  },
  {
   "cell_type": "markdown",
   "id": "57971df7-ca64-4240-81ac-e26a8297dae0",
   "metadata": {},
   "source": [
    "**Ejercicio 10:**\n",
    "\n",
    "Crea una función que calcule la recaudacion per cápita para cualquier provincia o unidad geografica y tome como inputs el nombre de la provincia, la recaudacion en millones de pesos y la poblacion. La funcion debe ejecutar lo siguiente:\n",
    "\n",
    "- Imprimir un mensaje diciendo \"La recaudacion total en {provincia} es {recaudacion} millones de pesos y la recaudacion per capita es {recaudacion_per_capita}\"\n",
    "- Dar como resultado la recaudacion per capita"
   ]
  },
  {
   "cell_type": "code",
   "execution_count": null,
   "id": "bc964d53-2076-47e9-b304-a258dba6b394",
   "metadata": {},
   "outputs": [],
   "source": [
    "def recaudacion_per_capita(provincia, recaudacion, poblacion):\n",
    "\n",
    "    ### ESCRIBE TU CODIGO AQUI\n",
    "    \n",
    "    return None"
   ]
  }
 ],
 "metadata": {
  "kernelspec": {
   "display_name": "Python [conda env:python-dr-training]",
   "language": "python",
   "name": "conda-env-python-dr-training-py"
  },
  "language_info": {
   "codemirror_mode": {
    "name": "ipython",
    "version": 3
   },
   "file_extension": ".py",
   "mimetype": "text/x-python",
   "name": "python",
   "nbconvert_exporter": "python",
   "pygments_lexer": "ipython3",
   "version": "3.10.16"
  }
 },
 "nbformat": 4,
 "nbformat_minor": 5
}
