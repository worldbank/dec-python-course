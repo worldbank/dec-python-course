{
 "cells": [
  {
   "cell_type": "markdown",
   "id": "d8b75c26-1e53-48bd-86d2-5812947a83fc",
   "metadata": {},
   "source": [
    "[![Open In Colab](https://colab.research.google.com/assets/colab-badge.svg)](https://colab.research.google.com/github/worldbank/dec-python-course/blob/main/1-foundations/2-control-flows-and-functions/foundations-s2.ipynb)"
   ]
  },
  {
   "cell_type": "markdown",
   "id": "otherwise-parks",
   "metadata": {},
   "source": [
    "# Python for Data Science - Session 2\n",
    "\n",
    "#### This session will cover following topics \n",
    "\n",
    "- Control Flow - Loops and Iterables\n",
    "- Boolean Types\n",
    "- Logic Operations\n",
    "- Condition Statements and Logic Flow\n",
    "- Creating Custom Functions"
   ]
  },
  {
   "cell_type": "code",
   "execution_count": 1,
   "id": "33c616fc-e352-4bd6-9b7e-03c415b7198b",
   "metadata": {},
   "outputs": [],
   "source": [
    "from IPython.display import Image"
   ]
  },
  {
   "cell_type": "markdown",
   "id": "finished-richmond",
   "metadata": {},
   "source": [
    "## 2.1 Control Flow\n",
    "\n",
    "##### In programming, control flow is the order in which function calls, instructions or statements are executed when a program in running. \n",
    "\n",
    "##### Problem Statement : You have to write the same statement for a report but need to change just the country name in each of the statements. Writing the same statement again and again is redundant. Let's make use of loops to simplify that. "
   ]
  },
  {
   "cell_type": "markdown",
   "id": "36da11c3-8a5a-4c23-b97e-4ba2e8e6ebbe",
   "metadata": {},
   "source": [
    "#### 2.1.1 `For` Loop"
   ]
  },
  {
   "cell_type": "markdown",
   "id": "complex-czech",
   "metadata": {},
   "source": [
    "A `for` loop is the most widely used form of Control Flow. How it works is, it runs a block of code repeatedly \"for\" each item in an iterable (array, list, dictionary object etc.). "
   ]
  },
  {
   "cell_type": "markdown",
   "id": "b2dd271a-3c56-464a-90aa-8dc148bcfbb2",
   "metadata": {},
   "source": [
    "While writing a for loop, you must also remember to end the declaration with `:` and indent the subsidiary code. Let's start with the basic for loop, to address our problem statement."
   ]
  },
  {
   "cell_type": "code",
   "execution_count": 2,
   "id": "dynamic-thesis",
   "metadata": {},
   "outputs": [
    {
     "name": "stdout",
     "output_type": "stream",
     "text": [
      "This document elaborates development strategies for Argentina\n",
      "This document elaborates development strategies for Belgium\n",
      "This document elaborates development strategies for Brazil\n",
      "This document elaborates development strategies for China\n",
      "This document elaborates development strategies for Kenya\n",
      "This document elaborates development strategies for Nigeria\n",
      "This document elaborates development strategies for Thailand\n",
      "This document elaborates development strategies for Uzbekistan\n"
     ]
    }
   ],
   "source": [
    "## List of countries aka 'iterables'\n",
    "countries = ['Argentina', 'Belgium', 'Brazil', \n",
    "             'China', 'Kenya', 'Nigeria', \n",
    "             'Thailand', 'Uzbekistan']\n",
    "\n",
    "## The loop will consider one country at a time from the list,\n",
    "## and append it to the print statement below\n",
    "for country in countries:\n",
    "    print(\"This document elaborates development strategies for \" + country)"
   ]
  },
  {
   "cell_type": "markdown",
   "id": "smart-soviet",
   "metadata": {},
   "source": [
    "##### Now let's say you have an object that maps a country and its GDP (current USD) in Billions. We can again use the \"for loop\" to iterate through the objects and use them in our document."
   ]
  },
  {
   "cell_type": "code",
   "execution_count": 39,
   "id": "immediate-membrane",
   "metadata": {},
   "outputs": [],
   "source": [
    "## Definings a dictionary where keys are country names\n",
    "## and values are their corresponding GDP\n",
    "\n",
    "gdp_dict = {\n",
    "    \"Argentina\" : 389.29, \"Belgium\" : 521.86, \n",
    "    \"Brazil\" : 1444.74, \"China\" : 14722.73, \n",
    "    \"Kenya\" : 101.02, \"Nigeria\" : 432.29,\n",
    "    \"Thailand\" : 501.64, \"Uzbekistan\" : 59.93 \n",
    "    }"
   ]
  },
  {
   "cell_type": "markdown",
   "id": "incident-jonathan",
   "metadata": {},
   "source": [
    "From what we learnt in the last session, we can use keys of a dictionary as 'index' and get the values associated with them. In the next block we'll use the keys (Country in this case) and get the values (GDP) through dictionary indexing. <br><br>\n",
    "Also a refresher on string concatenation!"
   ]
  },
  {
   "cell_type": "code",
   "execution_count": 4,
   "id": "lonely-retail",
   "metadata": {},
   "outputs": [
    {
     "name": "stdout",
     "output_type": "stream",
     "text": [
      "Argentina's GDP in 2020 was 389.29 billion US dollars.\n",
      "Belgium's GDP in 2020 was 521.86 billion US dollars.\n",
      "Brazil's GDP in 2020 was 1444.74 billion US dollars.\n",
      "China's GDP in 2020 was 14722.73 billion US dollars.\n",
      "Kenya's GDP in 2020 was 101.02 billion US dollars.\n",
      "Nigeria's GDP in 2020 was 432.29 billion US dollars.\n",
      "Thailand's GDP in 2020 was 501.64 billion US dollars.\n",
      "Uzbekistan's GDP in 2020 was 59.93 billion US dollars.\n"
     ]
    }
   ],
   "source": [
    "for country in gdp_dict.keys():\n",
    "    print(country + \n",
    "          \"'s GDP in 2020 was \" + \n",
    "          str(gdp_dict[country]) + \n",
    "          \" billion US dollars.\")"
   ]
  },
  {
   "cell_type": "code",
   "execution_count": 40,
   "id": "8b4df7a8-293e-419f-92d4-02005f4e5404",
   "metadata": {},
   "outputs": [
    {
     "name": "stdout",
     "output_type": "stream",
     "text": [
      "Argentina's GDP in 2020 was 389.29 billion US dollars.\n",
      "Belgium's GDP in 2020 was 521.86 billion US dollars.\n",
      "Brazil's GDP in 2020 was 1444.74 billion US dollars.\n",
      "China's GDP in 2020 was 14722.73 billion US dollars.\n",
      "Kenya's GDP in 2020 was 101.02 billion US dollars.\n",
      "Nigeria's GDP in 2020 was 432.29 billion US dollars.\n",
      "Thailand's GDP in 2020 was 501.64 billion US dollars.\n",
      "Uzbekistan's GDP in 2020 was 59.93 billion US dollars.\n"
     ]
    }
   ],
   "source": [
    "for country, gdp in gdp_dict.items():\n",
    "    print(country + \"'s GDP in 2020 was \"+ str(gdp) + \" billion US dollars.\")"
   ]
  },
  {
   "cell_type": "markdown",
   "id": "b09153c4-008a-4163-84da-94df2ce057b6",
   "metadata": {},
   "source": [
    "<t>"
   ]
  },
  {
   "cell_type": "markdown",
   "id": "0de4070d-233c-4d50-94e2-3b9790687130",
   "metadata": {},
   "source": [
    "#### `While` Loop"
   ]
  },
  {
   "cell_type": "markdown",
   "id": "touched-hunter",
   "metadata": {},
   "source": [
    "The **while** loop is one of the most common loops. It repeats a block of code until the condition becomes False <br><br> In the figure below, the condition `A` is evaluated. If it is `True`, task `B` will be performed, if not, the loop will end. After performing the task `B`, the control goes back to `A` to evaluate the condition (if anything has changed since the last check)."
   ]
  },
  {
   "cell_type": "code",
   "execution_count": 5,
   "id": "prostate-corruption",
   "metadata": {},
   "outputs": [
    {
     "data": {
      "image/png": "[encoded data removed]",
      "text/plain": [
       "<IPython.core.display.Image object>"
      ]
     },
     "execution_count": 5,
     "metadata": {
      "image/png": {
       "height": 200,
       "width": 200
      }
     },
     "output_type": "execute_result"
    }
   ],
   "source": [
    "Image(\"while_loop_diagram.png\", embed=True, height=200, width=200)"
   ]
  },
  {
   "cell_type": "markdown",
   "id": "00ef704a-5d76-4017-b495-27bf7d12a8b9",
   "metadata": {},
   "source": [
    "Let's take a dummy example here. I want to initialize a variable, create a while loop and see how it actually works."
   ]
  },
  {
   "cell_type": "code",
   "execution_count": 6,
   "id": "blond-northeast",
   "metadata": {},
   "outputs": [
    {
     "name": "stdout",
     "output_type": "stream",
     "text": [
      "Loop is at 0\n",
      "Loop is at 1\n",
      "Loop is at 2\n",
      "Loop is at 3\n",
      "Loop is at 4\n",
      "Loop is at 5\n",
      "Loop is at 6\n",
      "Loop is at 7\n",
      "Loop is at 8\n",
      "Loop is at 9\n"
     ]
    }
   ],
   "source": [
    "i = 0  ## initializing a variable\n",
    "\n",
    "while i < 10:  ## Loop will run as long as this condition remains true\n",
    "    print(\"Loop is at {}\".format(i))\n",
    "    \n",
    "    i += 1  \n",
    "    \n",
    "    ## Variable i needs to increase, \n",
    "    ## otherwise the loop will turn into 'infinite loop'. \n",
    "    ## You can give it a try, remove \"i += 1\" and run the code.\n",
    "    ## Be sure to \"Esc + ii\" to interrupt the kernel."
   ]
  },
  {
   "cell_type": "markdown",
   "id": "d59ff3b6-913b-4ee9-9cb4-4aa9f10d4ab8",
   "metadata": {},
   "source": [
    "With this example, we saw how in the first line we initialized a variable, tested some condition in the while loop, performed some task and sent the control back to while after increasing the value of initial variable by 1.\n",
    "\n",
    "We can do the same for other iterables. For instance, if I want to print one letter at a time for the string `world bank`, I can do it in the following way. "
   ]
  },
  {
   "cell_type": "code",
   "execution_count": 7,
   "id": "expanded-companion",
   "metadata": {},
   "outputs": [
    {
     "name": "stdout",
     "output_type": "stream",
     "text": [
      "w\n",
      "o\n",
      "r\n",
      "l\n",
      "d\n",
      " \n",
      "b\n",
      "a\n",
      "n\n",
      "k\n"
     ]
    }
   ],
   "source": [
    "string = \"world bank\"\n",
    "i = 0\n",
    "while i < len(string):\n",
    "    print(string[i])\n",
    "    \n",
    "    i += 1"
   ]
  },
  {
   "cell_type": "markdown",
   "id": "placed-macintosh",
   "metadata": {},
   "source": [
    "<br>\n",
    "\n",
    "## 2.2 Boolean Type"
   ]
  },
  {
   "cell_type": "markdown",
   "id": "quarterly-disorder",
   "metadata": {},
   "source": [
    "Booleans (bool) are variables representing boolean values - either True or False. Since they're keywords, you'll notice they appear in solid green color. "
   ]
  },
  {
   "cell_type": "code",
   "execution_count": 8,
   "id": "level-clinton",
   "metadata": {},
   "outputs": [],
   "source": [
    "var = True\n",
    "\n",
    "var_false = False"
   ]
  },
  {
   "cell_type": "code",
   "execution_count": 9,
   "id": "allied-deadline",
   "metadata": {},
   "outputs": [
    {
     "data": {
      "text/plain": [
       "(bool, bool)"
      ]
     },
     "execution_count": 9,
     "metadata": {},
     "output_type": "execute_result"
    }
   ],
   "source": [
    "## How do these data types look like in Python?\n",
    "\n",
    "type(var), type(var_false)"
   ]
  },
  {
   "cell_type": "markdown",
   "id": "diverse-trigger",
   "metadata": {},
   "source": [
    "## 2.3 Comparison and Logic Operations"
   ]
  },
  {
   "cell_type": "markdown",
   "id": "08f9ed82-fd87-40e6-bc61-935768b8377e",
   "metadata": {},
   "source": [
    "#### 2.3.1 Comparison Operations\n",
    "\n",
    "Comparison operators in Python are used for comparing two variables and returns a booolean value (either True or False)"
   ]
  },
  {
   "cell_type": "markdown",
   "id": "obvious-treaty",
   "metadata": {},
   "source": [
    "| Symbol      | Evaluates to True if |\n",
    "| :---        |    :--   |\n",
    "| == | values are equal |\n",
    "| !=  | values are not equal|\n",
    "| < | 1st value is less than 2nd |\n",
    "| <= | 1st value less than or equal to 2nd |\n",
    "| > | 1st value greater than 2nd |\n",
    "| >= | 1st value greater than or equal to 2nd |"
   ]
  },
  {
   "cell_type": "markdown",
   "id": "confident-incident",
   "metadata": {},
   "source": [
    "_Note : We assign a variable with '=' but compare with '=='_"
   ]
  },
  {
   "cell_type": "code",
   "execution_count": 10,
   "id": "generic-google",
   "metadata": {},
   "outputs": [
    {
     "name": "stdout",
     "output_type": "stream",
     "text": [
      "This is for case 1. True\n",
      "This is for case 2. False\n",
      "This is for case 3. True\n"
     ]
    }
   ],
   "source": [
    "x = 5  # assignment\n",
    "\n",
    "## We can compare a variable with contant value\n",
    "\n",
    "print(\"This is for case 1. {}\".format(x == 5))  # comparison\n",
    "\n",
    "## We can assign values to variables and compare\n",
    "\n",
    "a = 5\n",
    "b = 9\n",
    "\n",
    "print(\"This is for case 2. {}\".format(a == b))\n",
    "\n",
    "print(\"This is for case 3. {}\".format(a != b))"
   ]
  },
  {
   "cell_type": "code",
   "execution_count": 11,
   "id": "divine-timothy",
   "metadata": {},
   "outputs": [
    {
     "data": {
      "text/plain": [
       "bool"
      ]
     },
     "execution_count": 11,
     "metadata": {},
     "output_type": "execute_result"
    }
   ],
   "source": [
    "c = a > b\n",
    "\n",
    "type(c)"
   ]
  },
  {
   "cell_type": "markdown",
   "id": "51c3c80b-a268-49dd-b7cd-15b0cf8ad2f6",
   "metadata": {},
   "source": [
    "#### 2.3.2 Logical Operators\n",
    "\n",
    "Logical operators are used on conditional statements (either True or False). They perform Logical AND, Logical OR and Logical NOT operations."
   ]
  },
  {
   "cell_type": "code",
   "execution_count": 12,
   "id": "74892a8b-9e0b-46b1-a01f-c347f9d144a8",
   "metadata": {},
   "outputs": [
    {
     "name": "stdout",
     "output_type": "stream",
     "text": [
      "The numbers are greater than 0\n",
      "At least one number is not greater than 0\n"
     ]
    }
   ],
   "source": [
    "## AND Opeartor\n",
    "\n",
    "a = 10\n",
    "b = 10\n",
    "c = -10\n",
    "  \n",
    "if a > 0 and b > 0:\n",
    "    print(\"The numbers are greater than 0\")\n",
    "\n",
    "if a > 0 and b > 0 and c > 0:\n",
    "    print(\"The numbers are greater than 0\")\n",
    "else:\n",
    "    print(\"At least one number is not greater than 0\")"
   ]
  },
  {
   "cell_type": "code",
   "execution_count": 13,
   "id": "5b4b1b21-b128-42b3-a2e0-c129fcab7725",
   "metadata": {},
   "outputs": [
    {
     "name": "stdout",
     "output_type": "stream",
     "text": [
      "Either of the number is greater than 0\n",
      "No number is greater than 0\n"
     ]
    }
   ],
   "source": [
    "## OR Opeartor\n",
    "\n",
    "a = 10\n",
    "b = -10\n",
    "c = 0\n",
    "  \n",
    "if a > 0 or b > 0:\n",
    "    print(\"Either of the number is greater than 0\")\n",
    "else:\n",
    "    print(\"No number is greater than 0\")\n",
    "\n",
    "if b > 0 or c > 0:\n",
    "    print(\"Either of the number is greater than 0\")\n",
    "else:\n",
    "    print(\"No number is greater than 0\")"
   ]
  },
  {
   "cell_type": "code",
   "execution_count": 14,
   "id": "7c333b96-feee-4943-9803-8c3c66e0cbd2",
   "metadata": {},
   "outputs": [
    {
     "name": "stdout",
     "output_type": "stream",
     "text": [
      "Number is not divisible by 3\n"
     ]
    }
   ],
   "source": [
    "## NOT Operator\n",
    "\n",
    "a = 10\n",
    "\n",
    "if not a % 3 == 0:\n",
    "    print('Number is not divisible by 3')\n",
    "else:\n",
    "    print(\"Number is divisible by 3\")"
   ]
  },
  {
   "cell_type": "markdown",
   "id": "ambient-palestinian",
   "metadata": {},
   "source": [
    "## 2.4 Condition Statements and Logic Flows"
   ]
  },
  {
   "cell_type": "markdown",
   "id": "turned-rugby",
   "metadata": {},
   "source": [
    "My pet Python is a vegetarian. She will test whether variable 'food' is 'burger', 'chicken' or 'veg', then decide whether to eat.\n",
    "\n",
    "We'll make use of 'if', 'elif' (else if), and 'else' keywords for this exercise."
   ]
  },
  {
   "cell_type": "code",
   "execution_count": 44,
   "id": "announced-spelling",
   "metadata": {},
   "outputs": [],
   "source": [
    "food = 'veg'"
   ]
  },
  {
   "cell_type": "code",
   "execution_count": 16,
   "id": "loose-firmware",
   "metadata": {},
   "outputs": [
    {
     "name": "stdout",
     "output_type": "stream",
     "text": [
      "yum\n"
     ]
    }
   ],
   "source": [
    "if food == 'veg':\n",
    "    print ('yum')\n",
    "elif food == 'chicken':\n",
    "    print ('hmm maybe')\n",
    "elif food == 'burger':\n",
    "    print ('no thanks')\n",
    "else:\n",
    "    ## When the pass statement is executed, nothing happens,\n",
    "    ## but you avoid getting an error when empty code is not allowed.\n",
    "    pass    "
   ]
  },
  {
   "cell_type": "markdown",
   "id": "intense-oriental",
   "metadata": {},
   "source": [
    "NOTE: Here's how the structure works:\n",
    "\n",
    "- start with an 'if' statement, specifying the logical test to apply\n",
    "- make sure your 'if' statement ends with a colon (:)\n",
    "- indent the conditional code block. Whatever code should be executed if the condition is true, indent it with a tab.\n",
    "- test additional actions using 'elif', and any other actions with 'else'."
   ]
  },
  {
   "cell_type": "markdown",
   "id": "bebbca17-69eb-48ee-b6a5-04e5b11d38ac",
   "metadata": {},
   "source": [
    "#### Testing conditions within a loop"
   ]
  },
  {
   "cell_type": "markdown",
   "id": "9be2b1ad-8b6a-4567-9054-fd8f9b6adb5b",
   "metadata": {},
   "source": [
    "Let's take a look at the flow chart below. We first initialize a variable (an iterable in this case), and then test some conditions with if/elif/else statements. If the condition is true, we'll execute some action and if not, we'll end the for loop. "
   ]
  },
  {
   "cell_type": "code",
   "execution_count": 17,
   "id": "e82c47e2-6f39-4726-a9eb-32f6495dc862",
   "metadata": {},
   "outputs": [
    {
     "data": {
      "image/png": "[encoded data removed]",
      "text/plain": [
       "<IPython.core.display.Image object>"
      ]
     },
     "execution_count": 17,
     "metadata": {
      "image/png": {
       "height": 400,
       "width": 300
      }
     },
     "output_type": "execute_result"
    }
   ],
   "source": [
    "Image(\"for_loop.png\", embed=True, height=400, width=300)"
   ]
  },
  {
   "cell_type": "markdown",
   "id": "resistant-classic",
   "metadata": {},
   "source": [
    "Since we're working in a hybrid work-from-home model, my team comes to office on Tuesdays and Wednesdays. And I like to utilize my weekends well, so the following block of code tells you where will I be on a given day."
   ]
  },
  {
   "cell_type": "code",
   "execution_count": 18,
   "id": "respected-volunteer",
   "metadata": {},
   "outputs": [
    {
     "name": "stdout",
     "output_type": "stream",
     "text": [
      "Mon --> I'm working from home!\n",
      "Tue --> MC2-834\n",
      "Wed --> MC2-834\n",
      "Thu --> I'm working from home!\n",
      "Fri --> I'm working from home!\n",
      "Sat --> Beach!\n",
      "Sun --> On the road!\n"
     ]
    }
   ],
   "source": [
    "## Initializing an iterable\n",
    "days = ['Mon','Tue','Wed','Thu','Fri','Sat','Sun']\n",
    "\n",
    "for day in days:\n",
    "\n",
    "    if day == 'Sat':                ## Checking if-else conditions\n",
    "        location = '--> Beach!'     ## Perfoming some action\n",
    "    elif day == 'Sun':\n",
    "        location = '--> On the road!'\n",
    "    elif day in ['Tue', 'Wed']:\n",
    "        location = \"--> MC2-834\"\n",
    "    else:\n",
    "        location = \"--> I'm working from home!\"\n",
    "    print(day, location)\n",
    "    \n",
    "    ## Notice the positioning of this print statement.\n",
    "    ## If the indentation had matched with 'for' loop,\n",
    "    ## this print statement would have worked only once\n",
    "    ## But here the print statement is aligned with if/else statements.\n",
    "    ## So after going through the if/else statements,\n",
    "    ## the code will print 'location' for every 'day'\n"
   ]
  },
  {
   "cell_type": "markdown",
   "id": "organized-forth",
   "metadata": {},
   "source": [
    "The code block above iterates through the list of days, and checks the corresponding conditions defined by if-else statements. As soon as the *day* variable satisfies a condition, that statement is processed. \n",
    "\n",
    "For instance, in the first iteration, the day is set to **Mon**. None of the if or elif statements holds True for Monday. So the location is set to whatever is specified in else block. In the next iteration, the day is set to **Tue**. Here the second elif block satisfies the condition, and so location is set by that code block. "
   ]
  },
  {
   "cell_type": "markdown",
   "id": "3137ba40-b9db-45c2-abac-d68fdffa2d6d",
   "metadata": {},
   "source": [
    "## Exercises"
   ]
  },
  {
   "cell_type": "markdown",
   "id": "03339253-55d5-4daa-ab58-4bb81374b9e4",
   "metadata": {},
   "source": [
    "Just to evaluate if you've been following the content so far, we have a few execises for you. You have good 20 - 25 minutes to finish these tasks (TA's are here to help you if you get stuck 😊 )\n",
    "\n",
    "You'll see the expected outputs after each code block."
   ]
  },
  {
   "cell_type": "markdown",
   "id": "0aabb3a4-cc5d-471a-a531-106fc1c0a781",
   "metadata": {},
   "source": [
    "#### Task 1 \n",
    "\n",
    "*Objective: Iterate through lists, use string formatting.*\n",
    "\n",
    "Write a program to print \"Welcome to beautiful {country}!\" for each country in the list."
   ]
  },
  {
   "cell_type": "code",
   "execution_count": 19,
   "id": "a5b82296-13ff-4e3d-aabe-12d7e5f31014",
   "metadata": {},
   "outputs": [],
   "source": [
    "country_list = ['Kazakhstan','Kenya','Kiribati',\"Korea (DPRK)\",'Korea (ROC)','Kosovo','Kuwait','Kyrgyzstan']"
   ]
  },
  {
   "cell_type": "code",
   "execution_count": 94,
   "id": "aad9ba5e-2a55-4cef-bb1e-da7ba886f94d",
   "metadata": {},
   "outputs": [
    {
     "name": "stdout",
     "output_type": "stream",
     "text": [
      "Welcome to beautiful Kazakhstan!\n",
      "Welcome to beautiful Kenya!\n",
      "Welcome to beautiful Kiribati!\n",
      "Welcome to beautiful Korea (DPRK)!\n",
      "Welcome to beautiful Korea (ROC)!\n",
      "Welcome to beautiful Kosovo!\n",
      "Welcome to beautiful Kuwait!\n",
      "Welcome to beautiful Kyrgyzstan!\n"
     ]
    }
   ],
   "source": [
    "### YOUR CODE HERE\n"
   ]
  },
  {
   "cell_type": "markdown",
   "id": "bba8c1f1-153b-46ac-83da-141233a112e5",
   "metadata": {},
   "source": [
    "#### Task 2\n",
    "\n",
    "*Objective: Iterate through a convoluted list and print it*\n",
    "\n",
    "Write a program to traverse thorugh the following list and create a new list with untangled objects. Your code must run without any AssertionError"
   ]
  },
  {
   "cell_type": "code",
   "execution_count": 20,
   "id": "9b36976b-0996-4384-83ac-c7e8098e4d44",
   "metadata": {},
   "outputs": [],
   "source": [
    "my_list = [0,4,[4,3,2],[420,250,'dragon'],365,23,6,['bagels','doughnuts']]"
   ]
  },
  {
   "cell_type": "code",
   "execution_count": 126,
   "id": "1aa9e0bf-ba28-4be4-bea3-6632ed5e10c5",
   "metadata": {},
   "outputs": [],
   "source": [
    "### YOUR CODE HERE\n",
    "\n",
    "## HINT: Since it is a list that contains other lists, \n",
    "## use the inbuilt function \"isinstance\" to check if \n",
    "## the object in the iterable is a list or not. \n",
    "## If its a list, you need another 'for' loop that\n",
    "## displays the elements of this list. \n",
    "## If not, display the elements of the main list\n",
    "\n",
    "## How to use \"isinstance\"\n",
    "## isinstance(var, list) == True if 'var' is a list,\n",
    "## otherwise it will be False\n",
    "\n",
    "            \n",
    "            \n",
    "## ======== DO NOT EDIT THIS PART==========\n",
    "\n",
    "assert len(new_list) == 13"
   ]
  },
  {
   "cell_type": "markdown",
   "id": "4e2cb92d-8fe1-4a15-bc01-7b6e1755cf3c",
   "metadata": {},
   "source": [
    "#### Task 3"
   ]
  },
  {
   "cell_type": "markdown",
   "id": "c7b278b1-624b-4b93-8fec-f39019ccea9d",
   "metadata": {},
   "source": [
    "*Objective: Combine loops, logic conditions and math operations.*\n",
    "\n",
    "Write a program to loop from 1 to 100 and print all numbers that are divisible by 2, 3 and 7.\n",
    "\n",
    "BONUS: If it was too easy to crack, implement you code with `while` loop if you used `for` or `for` loop if you used `while`"
   ]
  },
  {
   "cell_type": "code",
   "execution_count": 108,
   "id": "d6bac49a-f575-44f1-bede-28a806e263f0",
   "metadata": {},
   "outputs": [
    {
     "name": "stdout",
     "output_type": "stream",
     "text": [
      "42\n",
      "84\n"
     ]
    }
   ],
   "source": [
    "### YOUR CODE HERE\n"
   ]
  },
  {
   "cell_type": "markdown",
   "id": "ab6f9ba6-38c8-4be3-92f3-cfbf36462d49",
   "metadata": {},
   "source": [
    "#### Task 4\n",
    "*Objective: Combine loops, conditional statements, math operations, Python's input function and typical Computer Science algorithms*\n",
    "\n",
    "Write a program to print 'n' elements of a Fibonacci series. 'n' should be an input from the user. \n",
    "\n",
    "If you're unsure of what Fibonacci sequence is, you can get some hints [here](https://www.mathsisfun.com/numbers/fibonacci-sequence.html)"
   ]
  },
  {
   "cell_type": "code",
   "execution_count": 119,
   "id": "4efe65fd-6df1-4039-b761-51f5f7c77273",
   "metadata": {},
   "outputs": [
    {
     "name": "stdin",
     "output_type": "stream",
     "text": [
      "Enter the n terms:  10\n"
     ]
    },
    {
     "name": "stdout",
     "output_type": "stream",
     "text": [
      "Fibonacci series:\n",
      "0\n",
      "1\n",
      "1\n",
      "2\n",
      "3\n",
      "5\n",
      "8\n",
      "13\n",
      "21\n",
      "34\n"
     ]
    }
   ],
   "source": [
    "### YOUR CODE HERE\n",
    "\n",
    "## HINT: \"input\" is a python function that accepts an input from user in string format. \n",
    "## Be sure to convert the input into 'integer' type before assigning it to a variable.\n",
    "## So if you execute \"n = input(\"Number of terms: \")\" you will get a prompt to enter \n",
    "## the number of terms and the text the user inputs will be stored in the variable n.\n",
    "\n",
    "## HINT on Fibonacci Series: initialize two variables n1 and n2 with values 0 and 1,\n",
    "## since they are the initial two elements of the series. Afer that, create a loop \n",
    "## that takes the sum of n1 and n2 and store them in a third variable (say r). \n",
    "## In the next step, you need to swap n1's value with n2 and n2's value with r \n",
    "## (since the third element is the sum of previous two).\n",
    "  \n",
    "\n"
   ]
  },
  {
   "cell_type": "markdown",
   "id": "educated-sunday",
   "metadata": {},
   "source": [
    "## 2.5 Functions"
   ]
  },
  {
   "cell_type": "markdown",
   "id": "academic-discovery",
   "metadata": {},
   "source": [
    "At times, we need to repeat certain steps in our code a couple of times to perform our analysis. We can use loops for this when code is repeated multiple times without doing anything else in-between. But what if we need to repeat certain steps at differnt locations in our code?\n",
    "\n",
    "In such cases, instead of writing the same code again and again, we try to create functions that would perform the same task. This makes our code modular, readable and makes debugging easier. "
   ]
  },
  {
   "cell_type": "markdown",
   "id": "38a08fb6-aadf-4aab-9048-50bc56f59a0c",
   "metadata": {},
   "source": [
    "### 2.5.1 Built-in Functions"
   ]
  },
  {
   "cell_type": "markdown",
   "id": "a26b5f28-92c1-43dd-9e4b-65179c9f848e",
   "metadata": {},
   "source": [
    "In the last session, we came across some built-in functions like `print`, `type`, `len` etc. and some other functions while using `string` class. With every class or package in Python, you'll find some functions associated with them. These functions help make our tasks simplerby generalizng the use case.\n",
    "\n",
    "For instance, if you remember, `str.upper()` converts a string into uppercase, regardless of the string you use. Imagine manually replacing all lower case characters in a string with upper case, and doing that over and over again for every string you're working with.   \n",
    "\n",
    "You can access the list of some commonly used built-in functions [here](https://www.w3schools.com/python/python_ref_functions.asp)."
   ]
  },
  {
   "cell_type": "code",
   "execution_count": 21,
   "id": "b4bf2327-69af-4a5a-9170-efa6010cc3fc",
   "metadata": {},
   "outputs": [
    {
     "name": "stdout",
     "output_type": "stream",
     "text": [
      "This is an example of a built in function\n",
      "The string 'Mississippi' has 11 cahracters\n",
      "Sorted version of list [7,8,1,4,2] is [1,2,4,7,8]\n"
     ]
    }
   ],
   "source": [
    "## Let's list some built-in functions\n",
    "\n",
    "print(\"This is an example of a built in function\")\n",
    "\n",
    "print(\"The string 'Mississippi' has {} cahracters\".format(len('Mississippi')))\n",
    "\n",
    "print(\"Sorted version of list [7,8,1,4,2] is {}\".format(sorted([7,8,1,4,2])))"
   ]
  },
  {
   "cell_type": "markdown",
   "id": "3b58475c-267b-4d10-a5e8-3222d7a3af39",
   "metadata": {},
   "source": [
    "### 2.5.2 Custom Functions"
   ]
  },
  {
   "cell_type": "markdown",
   "id": "14c0584a-98d5-4ac1-a695-f9f305aab911",
   "metadata": {},
   "source": [
    "While it is great to have optimized in-built function, there will be times when you would want to create functions that suffices your use case. For such cases, we define our own custom functions."
   ]
  },
  {
   "cell_type": "markdown",
   "id": "public-reduction",
   "metadata": {},
   "source": [
    "To create a function, we define them with a keyword `def` followed by the function name and its input parameters a function would take. The subsequent body of the function has actions a function would perform and then return the result. \n",
    "\n",
    "Input parameters are optional for a function. We'll demonstrate that in following examples. "
   ]
  },
  {
   "cell_type": "markdown",
   "id": "a8643d32-2774-497c-971a-a05f34eab811",
   "metadata": {},
   "source": [
    "<figure>\n",
    "  <img src=\"https://media.geeksforgeeks.org/wp-content/uploads/20220721172423/51.png\" height=\"800\" width=\"600\">\n",
    "  <figcaption> Source : https://media.geeksforgeeks.org/wp-content/uploads/20220721172423/51.png</figcaption>\n",
    "</figure>"
   ]
  },
  {
   "cell_type": "code",
   "execution_count": 22,
   "id": "bronze-supervision",
   "metadata": {},
   "outputs": [],
   "source": [
    "## Defining a function\n",
    "\n",
    "def test_func():\n",
    "    print(\"This is a test function, with no input parameters.\")"
   ]
  },
  {
   "cell_type": "code",
   "execution_count": 23,
   "id": "norman-flood",
   "metadata": {},
   "outputs": [
    {
     "name": "stdout",
     "output_type": "stream",
     "text": [
      "This is a test function, with no input parameters.\n"
     ]
    }
   ],
   "source": [
    "## Calling a function\n",
    "\n",
    "test_func()        ## remember str.upper() and str.lower() functions?"
   ]
  },
  {
   "cell_type": "code",
   "execution_count": 42,
   "id": "processed-zoning",
   "metadata": {},
   "outputs": [],
   "source": [
    "## Function with one input parameter\n",
    "\n",
    "def what_day_is_it(day):\n",
    "    print(\"Today is {}\".format(day))"
   ]
  },
  {
   "cell_type": "code",
   "execution_count": 43,
   "id": "563ea32f-a3a2-451f-8c7c-dfcd974f4b0a",
   "metadata": {},
   "outputs": [
    {
     "ename": "TypeError",
     "evalue": "what_day_is_it() missing 1 required positional argument: 'day'",
     "output_type": "error",
     "traceback": [
      "\u001b[1;31m---------------------------------------------------------------------------\u001b[0m",
      "\u001b[1;31mTypeError\u001b[0m                                 Traceback (most recent call last)",
      "Input \u001b[1;32mIn [43]\u001b[0m, in \u001b[0;36m<cell line: 1>\u001b[1;34m()\u001b[0m\n\u001b[1;32m----> 1\u001b[0m \u001b[43mwhat_day_is_it\u001b[49m\u001b[43m(\u001b[49m\u001b[43m)\u001b[49m\n",
      "\u001b[1;31mTypeError\u001b[0m: what_day_is_it() missing 1 required positional argument: 'day'"
     ]
    }
   ],
   "source": [
    "## What if you don't pass any argument\n",
    "\n",
    "what_day_is_it()"
   ]
  },
  {
   "cell_type": "code",
   "execution_count": 25,
   "id": "together-karen",
   "metadata": {},
   "outputs": [
    {
     "name": "stdout",
     "output_type": "stream",
     "text": [
      "Today is Monday\n"
     ]
    }
   ],
   "source": [
    "## Passing a valid argument\n",
    "\n",
    "what_day_is_it(\"Monday\")"
   ]
  },
  {
   "cell_type": "code",
   "execution_count": 26,
   "id": "responsible-association",
   "metadata": {},
   "outputs": [
    {
     "name": "stdout",
     "output_type": "stream",
     "text": [
      "Today is Garbage\n"
     ]
    }
   ],
   "source": [
    "## It can take whatever value you want\n",
    "\n",
    "what_day_is_it(\"Garbage\")"
   ]
  },
  {
   "cell_type": "code",
   "execution_count": 27,
   "id": "ed094af1-1f84-47f6-a1ae-f38a8c6324d6",
   "metadata": {},
   "outputs": [],
   "source": [
    "## If you want to add some validations, you can do that in the following way\n",
    "\n",
    "def what_day_is_it(day):\n",
    "    \n",
    "    if day in ['Monday', 'Tuesday', 'Wednesday', 'Thursday', 'Friday', 'Saturday', 'Sunday']:\n",
    "        \n",
    "        print(\"Today is {}\".format(day))\n",
    "        \n",
    "    else:\n",
    "        \n",
    "        print(\"Invalid day!!\")"
   ]
  },
  {
   "cell_type": "code",
   "execution_count": 28,
   "id": "548d6bdf-826a-4514-b355-993687773d06",
   "metadata": {},
   "outputs": [
    {
     "name": "stdout",
     "output_type": "stream",
     "text": [
      "Today is Tuesday\n"
     ]
    }
   ],
   "source": [
    "what_day_is_it(\"Tuesday\")"
   ]
  },
  {
   "cell_type": "code",
   "execution_count": 29,
   "id": "45e6b8b5-a1e5-499f-aa10-efcf267a9dcd",
   "metadata": {},
   "outputs": [
    {
     "name": "stdout",
     "output_type": "stream",
     "text": [
      "Invalid day!!\n"
     ]
    }
   ],
   "source": [
    "## Now check the response\n",
    "\n",
    "what_day_is_it(\"Garbage\")"
   ]
  },
  {
   "cell_type": "code",
   "execution_count": 30,
   "id": "assured-qatar",
   "metadata": {},
   "outputs": [],
   "source": [
    "## Function with a parameter with default value\n",
    "\n",
    "def what_day_is_it(day = \"Thursday\"):\n",
    "    \n",
    "    print(\"Today is {}\".format(day))"
   ]
  },
  {
   "cell_type": "code",
   "execution_count": 31,
   "id": "suspended-institution",
   "metadata": {},
   "outputs": [
    {
     "name": "stdout",
     "output_type": "stream",
     "text": [
      "Today is Thursday\n"
     ]
    }
   ],
   "source": [
    "what_day_is_it()  ## If nothing is passed, default value is picked up"
   ]
  },
  {
   "cell_type": "code",
   "execution_count": 32,
   "id": "clinical-banking",
   "metadata": {},
   "outputs": [
    {
     "name": "stdout",
     "output_type": "stream",
     "text": [
      "Today is Friday\n"
     ]
    }
   ],
   "source": [
    "what_day_is_it(\"Friday\")  ## If something is passed, default value is overridden"
   ]
  },
  {
   "cell_type": "code",
   "execution_count": 33,
   "id": "greek-gentleman",
   "metadata": {},
   "outputs": [],
   "source": [
    "## Creating a parametrized function \n",
    "## (This is how your functions would look most of the times\n",
    "## when implementing actual use cases)\n",
    "\n",
    "def query_population(country = 'AFG', series = \"SP.POP.TOTL\", time = 2020):\n",
    "    \"\"\"\n",
    "    Function to retrieve indicator level data from WDI database. \n",
    "    \n",
    "    Inputs:\n",
    "    \n",
    "    country : ISO-3 code for country\n",
    "    series : Indicator code\n",
    "    time : year you want to query data for\n",
    "    \n",
    "    Returns: Population (in millions)\n",
    "    \"\"\"\n",
    "    import requests\n",
    "    \n",
    "    req = requests.get(\"https://api.worldbank.org/v2/sources/2/country/{}/series/{}/time/{}?format=json\".format(country, series, 'yr'+str(time))).json()\n",
    "    \n",
    "    population = req['source']['data'][0]['value'] / 1e6\n",
    "    \n",
    "    return population"
   ]
  },
  {
   "cell_type": "markdown",
   "id": "curious-dublin",
   "metadata": {},
   "source": [
    "Few things to consider while creating a parametrized function:\n",
    "\n",
    "- You can set defaults as in the last example. If no defaults are set, each parameter becomes mandatory. Parameters with set defaults take lower priority in function definition <br>\n",
    "i.e. query_population(country = 'AFG', series, time) will throw an error since series and time will take priority but query_population(series, time, country='AFG') won't.\n",
    "- Order matters when you're not specifying specific parameter in function call <br>\n",
    "For instance query_population('AFG', 2019, 'SP.POP.TOTL') will throw an error since function expects series in second place but query_population(time = 2019, country = 'BRA', series = 'SP.POP.TOT') won't since we're explicitly setting the parameters\n",
    "- If the function returns something, it needs to be stored in some variable or with a print statement. Its possible for a function to not return anything as well. That is achieved by ending the function with \"return None\".\n",
    "- The content in red enclosed between \"\"\"  \"\"\" is called a docstring. It provides mini documentation on what does this function do, what input parameters are required and what does it return. In the next cell, execute `query_population?` and see what you get."
   ]
  },
  {
   "cell_type": "code",
   "execution_count": null,
   "metadata": {},
   "outputs": [],
   "source": [
    "query_population?"
   ]
  },
  {
   "cell_type": "markdown",
   "id": "9554c7f9-f31e-4ec6-bd23-5962a1a9f55b",
   "metadata": {},
   "source": [
    "Documentation on World Bank Data API can be accessed [here](https://datahelpdesk.worldbank.org/knowledgebase/topics/125589-developer-information). "
   ]
  },
  {
   "cell_type": "code",
   "execution_count": 34,
   "id": "excellent-northwest",
   "metadata": {},
   "outputs": [
    {
     "name": "stdout",
     "output_type": "stream",
     "text": [
      "211.049519 million people live in BRA. Data as of 2019\n"
     ]
    }
   ],
   "source": [
    "print(\"{} million people live in {}. Data as of {}\".format(query_population(\"BRA\", \"SP.POP.TOTL\", 2019), 'BRA', 2019))"
   ]
  },
  {
   "cell_type": "markdown",
   "id": "41fb3ec1-5330-49c4-9675-23a6d7a5effa",
   "metadata": {},
   "source": [
    "### 2.5.3 Scope of variables (a short detour)"
   ]
  },
  {
   "cell_type": "markdown",
   "id": "0ef77958-cb5c-4cb7-937c-1f58c90f2ae1",
   "metadata": {},
   "source": [
    "In the function above, you created two variables, `req` and `population`. Try accessing any of those variables now."
   ]
  },
  {
   "cell_type": "code",
   "execution_count": 35,
   "id": "54ddddd4-187a-4ff6-aee4-3e1ae13dc77b",
   "metadata": {},
   "outputs": [
    {
     "ename": "NameError",
     "evalue": "name 'population' is not defined",
     "output_type": "error",
     "traceback": [
      "\u001b[1;31m---------------------------------------------------------------------------\u001b[0m",
      "\u001b[1;31mNameError\u001b[0m                                 Traceback (most recent call last)",
      "Input \u001b[1;32mIn [35]\u001b[0m, in \u001b[0;36m<cell line: 1>\u001b[1;34m()\u001b[0m\n\u001b[1;32m----> 1\u001b[0m \u001b[43mpopulation\u001b[49m\n",
      "\u001b[1;31mNameError\u001b[0m: name 'population' is not defined"
     ]
    }
   ],
   "source": [
    "population"
   ]
  },
  {
   "cell_type": "markdown",
   "id": "e9fbd8a3-e091-4244-b7fa-132154c75a97",
   "metadata": {},
   "source": [
    "#### Additional Material (not to be covered in sessions)"
   ]
  },
  {
   "cell_type": "markdown",
   "id": "8f1e5fe7-f467-46f7-850a-2426865f7720",
   "metadata": {},
   "source": [
    "You'll get an error saying, name 'population' is not defined. This is because of a concept called local and global variables. \n",
    "\n",
    "Local variables - are bound to just the function or class they are defined in i.e. the variable population does not exist outside of the function query_population\n",
    "\n",
    "Global variables - there are the variables that can be accessed anywhere in your code. While coding in Jupyter Notebook, by default the variables can be accessed accross the notebook. But while writing production level codes, where you have multiples functions and classes, you need to define the variable with the keyword `global` before assigning some value to it."
   ]
  },
  {
   "cell_type": "markdown",
   "id": "406871fa-9486-4a16-a4cc-b29dd27ce330",
   "metadata": {},
   "source": [
    "In the next block, try executing the variable food"
   ]
  },
  {
   "cell_type": "code",
   "execution_count": 45,
   "id": "f4cae82e-3a0f-42d0-a1b5-e873cd08cfc0",
   "metadata": {},
   "outputs": [
    {
     "data": {
      "text/plain": [
       "'veg'"
      ]
     },
     "execution_count": 45,
     "metadata": {},
     "output_type": "execute_result"
    }
   ],
   "source": [
    "### YOUR CODE HERE\n",
    "\n",
    "food"
   ]
  },
  {
   "cell_type": "markdown",
   "id": "ef3b07ef-adae-4adc-94ba-073d302a3856",
   "metadata": {},
   "source": [
    "What you'll notice is, you get an output 'veg', because this is a variable you had defined in pet python example earlier. \n",
    "\n",
    "Now copy the query population function, paste it below and add the statement `global population` right after `import requests` (in the next line preferably). "
   ]
  },
  {
   "cell_type": "code",
   "execution_count": 46,
   "id": "4b6cca4b-d453-433c-96e5-5028d35c80b6",
   "metadata": {},
   "outputs": [],
   "source": [
    "### YOUR CODE HERE\n",
    "\n",
    "## Creating a parametrized function \n",
    "## (This is how your functions would look most of the times\n",
    "## when implementing actual use cases)\n",
    "\n",
    "def query_population(country = 'AFG', series = \"SP.POP.TOTL\", time = 2020):\n",
    "    \"\"\"\n",
    "    Function to retrieve indicator level data from WDI database. \n",
    "    \n",
    "    Inputs:\n",
    "    \n",
    "    country : ISO-3 code for country\n",
    "    series : Indicator code\n",
    "    time : year you want to query data for\n",
    "    \n",
    "    Returns: Population (in millions)\n",
    "    \"\"\"\n",
    "    import requests\n",
    "    global population\n",
    "    \n",
    "    req = requests.get(\"https://api.worldbank.org/v2/sources/2/country/{}/series/{}/time/{}?format=json\".format(country, series, 'yr'+str(time))).json()\n",
    "    \n",
    "    population = req['source']['data'][0]['value'] / 1e6\n",
    "    \n",
    "    return population"
   ]
  },
  {
   "cell_type": "markdown",
   "id": "db1cefda-8202-428f-b580-6dd82a9cbf6b",
   "metadata": {},
   "source": [
    "Execute the function again, and now try to access the variable `population`"
   ]
  },
  {
   "cell_type": "code",
   "execution_count": 47,
   "id": "ed275841-e0b6-40f0-acab-6203fa6ee06e",
   "metadata": {},
   "outputs": [
    {
     "data": {
      "text/plain": [
       "38.928341"
      ]
     },
     "execution_count": 47,
     "metadata": {},
     "output_type": "execute_result"
    }
   ],
   "source": [
    "query_population()"
   ]
  },
  {
   "cell_type": "code",
   "execution_count": 48,
   "id": "e4c8d321-e1f9-4476-ba54-e61c5e2c8504",
   "metadata": {},
   "outputs": [
    {
     "data": {
      "text/plain": [
       "38.928341"
      ]
     },
     "execution_count": 48,
     "metadata": {},
     "output_type": "execute_result"
    }
   ],
   "source": [
    "population ## You don't get any error this time"
   ]
  },
  {
   "cell_type": "markdown",
   "id": "45a8b6f5-5d41-49e6-a819-02afdbfe59a3",
   "metadata": {},
   "source": [
    "### Exercises"
   ]
  },
  {
   "cell_type": "markdown",
   "id": "e590e1d1-c50e-45bb-93ea-1a39a768418a",
   "metadata": {},
   "source": [
    "#### Task 5\n",
    "\n",
    "Create a function that takes 3 numbers as input and returns the maximum of them. Name the function `max_3`."
   ]
  },
  {
   "cell_type": "code",
   "execution_count": 136,
   "id": "3870bea5-b2a7-4d69-b27c-ea849a377ddd",
   "metadata": {},
   "outputs": [],
   "source": [
    "### YOR CODE HERE\n",
    "\n",
    "## Your code must run without AssertionError. \n",
    "## If you get the error, something is not right\n",
    "\n",
    "\n",
    "    \n",
    "\n",
    "\n",
    "## ======= DO NOT EDIT THIS PART========\n",
    "\n",
    "x = max_3(10, 7, 28)\n",
    "assert x == 28, \"This is not the max element\""
   ]
  },
  {
   "cell_type": "markdown",
   "id": "20bebd4f-16f0-4f41-84cf-9747d4ed60c4",
   "metadata": {},
   "source": [
    "#### Task 6\n",
    "\n",
    "Write a function that takes a single string as an input but returns the reverse of it. For instance, if you input \"abcde\", it must return \"edcba\". Name the function `string_reverse`."
   ]
  },
  {
   "cell_type": "code",
   "execution_count": 143,
   "id": "276e9a13-f722-4348-b26c-3a0e5a06625c",
   "metadata": {},
   "outputs": [],
   "source": [
    "### YOUR CODE HERE\n",
    "\n",
    "## HINT: Create a temporary variable. \n",
    "## Loop through the elements of the string and\n",
    "## store them in the temporary variable. \n",
    "\n",
    "\n",
    "## ======= DO NOT EDIT THIS PART========\n",
    "\n",
    "assert string_reverse(\"rcb1096281\") == \"1826901bcr\", \"Oops! Guess that didn't work. Look the hint provided and try again\""
   ]
  },
  {
   "cell_type": "markdown",
   "id": "57971df7-ca64-4240-81ac-e26a8297dae0",
   "metadata": {},
   "source": [
    "#### Task 7\n",
    "\n",
    "Create a function that calculates GDP per capita for any given country. Name the function `gdp_percapita` and it should accept two arguments : country code (ISO3) and year. Either name the arguments country, series, time or keep the order consistent in order to avoid validation error. \n",
    "\n",
    "i.e. your function should look like gdp_percapita(country, time) or should also work with gdp_percapita('AFG', 2010).\n",
    "\n",
    "Use World Bank's Open Data API to get the data and compute GDP per capita. \n",
    "\n",
    "Logic for calculation (`GDP per capita (current US$)`) : `GDP (current US$)` / `Population (total)`\n",
    "\n",
    "Feel free to re-use the code in `query_population` function above."
   ]
  },
  {
   "cell_type": "code",
   "execution_count": 148,
   "id": "bc964d53-2076-47e9-b304-a258dba6b394",
   "metadata": {},
   "outputs": [],
   "source": [
    "### YOUR CODE HERE\n",
    "\n",
    "## HINT: You'll have to make two requests to get data for two variables GDP and Population. \n",
    "## Series code for GDP is \"NY.GDP.MKTP.CD\" and for Population is \"NY.GDP.MKTP.CD\". \n",
    "## You can take help from query_population function and substitute the series code with\n",
    "## the one provided above. Index the request and get the values returned for that country and time period. \n",
    "\n",
    "## If you get JSONDecodeError, contact your TA\n",
    "\n",
    "\n",
    "\n",
    "\n",
    "## =======DON NOT EDIT THIS PART===========\n",
    "\n",
    "assert round(gdp_percapita('ARG', 2010), 2) == 10385.96, \"Something didn't work there! Look at the hints again\""
   ]
  },
  {
   "cell_type": "code",
   "execution_count": null,
   "id": "eeadf7d8-4a08-42f0-bf2e-016c0f8bbe43",
   "metadata": {},
   "outputs": [],
   "source": []
  }
 ],
 "metadata": {
  "kernelspec": {
   "display_name": "Python 3 (ipykernel)",
   "language": "python",
   "name": "python3"
  },
  "language_info": {
   "codemirror_mode": {
    "name": "ipython",
    "version": 3
   },
   "file_extension": ".py",
   "mimetype": "text/x-python",
   "name": "python",
   "nbconvert_exporter": "python",
   "pygments_lexer": "ipython3",
   "version": "3.9.12"
  }
 },
 "nbformat": 4,
 "nbformat_minor": 5
}
